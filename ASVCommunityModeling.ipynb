{
 "cells": [
  {
   "cell_type": "markdown",
   "metadata": {
    "jp-MarkdownHeadingCollapsed": true,
    "tags": []
   },
   "source": [
    "# Configure KBase Jupyter Dev Environment"
   ]
  },
  {
   "cell_type": "code",
   "execution_count": 1,
   "metadata": {
    "tags": []
   },
   "outputs": [
    {
     "data": {
      "text/plain": [
       "['/Users/andrewfreiburger/Documents/Research/sludge',\n",
       " '/Library/Developer/CommandLineTools/Library/Frameworks/Python3.framework/Versions/3.9/lib/python39.zip',\n",
       " '/Library/Developer/CommandLineTools/Library/Frameworks/Python3.framework/Versions/3.9/lib/python3.9',\n",
       " '/Library/Developer/CommandLineTools/Library/Frameworks/Python3.framework/Versions/3.9/lib/python3.9/lib-dynload',\n",
       " '',\n",
       " '/Users/andrewfreiburger/Library/Python/3.9/lib/python/site-packages',\n",
       " '/Library/Developer/CommandLineTools/Library/Frameworks/Python3.framework/Versions/3.9/lib/python3.9/site-packages',\n",
       " '/Users/andrewfreiburger/Documents/Research']"
      ]
     },
     "metadata": {},
     "output_type": "display_data"
    },
    {
     "name": "stdout",
     "output_type": "stream",
     "text": [
      "python version 3.9.6\n",
      "KBBaseModules 0.0.1\n"
     ]
    },
    {
     "name": "stderr",
     "output_type": "stream",
     "text": [
      "/Users/andrewfreiburger/Library/Python/3.9/lib/python/site-packages/urllib3/__init__.py:35: NotOpenSSLWarning: urllib3 v2 only supports OpenSSL 1.1.1+, currently the 'ssl' module is compiled with 'LibreSSL 2.8.3'. See: https://github.com/urllib3/urllib3/issues/3020\n",
      "  warnings.warn(\n"
     ]
    },
    {
     "name": "stdout",
     "output_type": "stream",
     "text": [
      "modelseedpy 0.3.3\n",
      "cobrakbase 0.4.0\n",
      "Output files printed to:/Users/andrewfreiburger/Documents/Research/sludge/sludge/nboutput when using KBDevUtils.output_dir\n"
     ]
    }
   ],
   "source": [
    "%run sludgecommutil.py\n",
    "logger = logging.getLogger(__name__)\n",
    "logger.setLevel(logging.INFO)\n",
    "# %tb"
   ]
  },
  {
   "cell_type": "markdown",
   "metadata": {
    "jp-MarkdownHeadingCollapsed": true,
    "tags": []
   },
   "source": [
    "# Processing ASV mappings: new code"
   ]
  },
  {
   "cell_type": "code",
   "execution_count": 2,
   "metadata": {
    "tags": []
   },
   "outputs": [
    {
     "name": "stdout",
     "output_type": "stream",
     "text": [
      "Genomes: 1038\n",
      "ASVs: 117\n",
      "ASV sets: 63\n"
     ]
    }
   ],
   "source": [
    "original_mappings = util.load(\"Test_AGORA2_Bioreactor_over95_best_mappings_02-14-25\")\n",
    "asv_mappings = {}\n",
    "genomes_mapped = {}\n",
    "for asv in original_mappings.keys():\n",
    "    for genome_id in original_mappings[asv][1]:\n",
    "        if asv not in asv_mappings:\n",
    "            asv_mappings[asv] = []\n",
    "        if genome_id not in asv_mappings[asv]:\n",
    "            asv_mappings[asv].append(genome_id)\n",
    "            if genome_id not in genomes_mapped:\n",
    "                genomes_mapped[genome_id] = []\n",
    "            genomes_mapped[genome_id].append(asv)\n",
    "util.save(\"asv_mappings\", asv_mappings)\n",
    "util.save(\"genomes_mapped\", genomes_mapped)\n",
    "asv_list = list(asv_mappings.keys())\n",
    "asvset_asvs = {}\n",
    "asv_asvset = {}\n",
    "asvset_genomes = {}\n",
    "genome_asvsets = {}\n",
    "for i,asv in enumerate(asv_list):\n",
    "    if asv not in asv_asvset:\n",
    "        asv_asvset[asv] = asv\n",
    "        asvset_asvs[asv] = [asv]\n",
    "        asvset_genomes[asv] = asv_mappings[asv].copy()\n",
    "        for j in range(i+1,len(asv_list)):\n",
    "            if asv_list[j] not in asv_asvset:\n",
    "                common = set(asv_mappings[asv]) & set(asv_mappings[asv_list[j]])\n",
    "                score = len(common)/min(len(asv_mappings[asv]),len(asv_mappings[asv_list[j]]))\n",
    "                if score >= 0.5:\n",
    "                    asv_asvset[asv_list[j]] = asv\n",
    "                    asvset_asvs[asv].append(asv_list[j])\n",
    "                    for item in asv_mappings[asv_list[j]]:\n",
    "                        if item not in asvset_genomes[asv]:\n",
    "                            asvset_genomes[asv].append(item)          \n",
    "util.save(\"asvset_asvs\", asvset_asvs)\n",
    "util.save(\"asv_asvset\", asv_asvset)\n",
    "util.save(\"asvset_genomes\", asvset_genomes)\n",
    "util.save(\"genome_asvsets\", genome_asvsets)\n",
    "print(\"Genomes:\",len(genomes_mapped))\n",
    "print(\"ASVs:\",len(asv_mappings))\n",
    "print(\"ASV sets:\",len(asvset_asvs))"
   ]
  },
  {
   "cell_type": "markdown",
   "metadata": {
    "jp-MarkdownHeadingCollapsed": true,
    "tags": []
   },
   "source": [
    "# Checking if all mapped genomes are in AGORA workspace"
   ]
  },
  {
   "cell_type": "code",
   "execution_count": 3,
   "metadata": {
    "collapsed": true,
    "jupyter": {
     "outputs_hidden": true
    },
    "tags": []
   },
   "outputs": [
    {
     "name": "stdout",
     "output_type": "stream",
     "text": [
      "GCA_000210455.1 1\n",
      "GCF_000213675.1 1\n",
      "GCF_000234645.2 1\n",
      "GCF_000213735.1 1\n",
      "GCF_000213755.1 1\n",
      "GCF_000213455.1 1\n",
      "GCF_001471365.2 1\n",
      "GCF_008247765.1 1\n",
      "GCF_000268165.1 1\n",
      "GCF_000322785.1 1\n",
      "GCF_000427055.1 1\n",
      "GCF_006740045.1 1\n",
      "b8be4a864e591a2801a0b9194efc1060 1 20\n",
      "ac164649e33237f799c1ffee4f344d5d 8 608\n",
      "27acca0f07269de77bf31e1b93ecd63a 2 131\n",
      "efde527a9af4cac96884dbd692f6e11c 1 13\n"
     ]
    }
   ],
   "source": [
    "ws_client = util.ws_client()\n",
    "output = ws_client.list_objects({\"ids\":[178418]})\n",
    "genome_hash = {}\n",
    "for item in output:\n",
    "    genome_hash[item[1]] = item\n",
    "asvssets_with_missing_genomes = {}\n",
    "missing_genomes = {}\n",
    "asvset_genomes = util.load(\"asvset_genomes\")\n",
    "for asvset in asvset_genomes:\n",
    "    for genomeid in asvset_genomes[asvset]:\n",
    "        if genomeid not in genome_hash and genomeid+\".RAST\" not in genome_hash:\n",
    "            if genomeid not in missing_genomes:\n",
    "                missing_genomes[genomeid] = []\n",
    "            if asvset not in missing_genomes[genomeid]:\n",
    "                missing_genomes[genomeid].append(asvset)\n",
    "            if asvset not in asvssets_with_missing_genomes:\n",
    "                asvssets_with_missing_genomes[asvset] = []\n",
    "            if genomeid not in asvssets_with_missing_genomes[asvset]:\n",
    "                asvssets_with_missing_genomes[asvset].append(genomeid)\n",
    "util.save(\"missing_genomes\", missing_genomes)\n",
    "util.save(\"asvssets_with_missing_genomes\", asvssets_with_missing_genomes)\n",
    "for genomeid in missing_genomes:\n",
    "    print(genomeid,len(missing_genomes[genomeid]))\n",
    "for asvset in asvssets_with_missing_genomes:\n",
    "    print(asvset,len(asvssets_with_missing_genomes[asvset]),len(asvset_genomes[asvset]))\n",
    "    if len(asvset_genomes[asvset]) <= 2:\n",
    "        for genomeid in asvset_genomes[asvset]:\n",
    "            if genomeid in missing_genomes:\n",
    "                print(genomeid)"
   ]
  },
  {
   "cell_type": "markdown",
   "metadata": {
    "jp-MarkdownHeadingCollapsed": true,
    "tags": []
   },
   "source": [
    "# Developing names for ASV sets"
   ]
  },
  {
   "cell_type": "code",
   "execution_count": 4,
   "metadata": {
    "tags": []
   },
   "outputs": [],
   "source": [
    "ws_client = util.ws_client()\n",
    "output = ws_client.list_objects({\n",
    "    \"ids\":[178418],\n",
    "    \"includeMetadata\":1,\n",
    "    \"type\":\"KBaseGenomes.Genome\"\n",
    "})\n",
    "asvset_genomes = util.load(\"asvset_genomes\")\n",
    "asvname_taxonomy = {}\n",
    "name_taxonomy = {}\n",
    "genome_hash = {}\n",
    "for item in output:\n",
    "    genome_hash[item[1]] = item\n",
    "util.save(\"genome_hash\",genome_hash)\n",
    "asvset_genres = {}\n",
    "genre_genomes = {}\n",
    "for asvset in asvset_genomes:\n",
    "    asvset_genres[asvset] = {}\n",
    "    for genome in asvset_genomes[asvset]:\n",
    "        if genome in genome_hash:\n",
    "            name = genome_hash[genome][10][\"Name\"]\n",
    "            genre = name.split(\" \")[0]\n",
    "            if genre[0] == \"[\":\n",
    "                genre = genre[1:-1]\n",
    "            if genre not in asvset_genres[asvset]:\n",
    "                genre_genomes[genre] = genome_hash[genome]\n",
    "                asvset_genres[asvset][genre] = 0\n",
    "            name_taxonomy[genre] = genome_hash[genome][10][\"Taxonomy\"]\n",
    "            asvset_genres[asvset][genre] += 1\n",
    "        elif genome+\".RAST\" in genome_hash:\n",
    "            name = genome_hash[genome+\".RAST\"][10][\"Name\"]\n",
    "            genre = name.split(\" \")[0]\n",
    "            if genre[0] == \"[\":\n",
    "                genre = genre[1:-1]\n",
    "            if genre not in asvset_genres[asvset]:\n",
    "                genre_genomes[genre] = genome_hash[genome+\".RAST\"]\n",
    "                asvset_genres[asvset][genre] = 0\n",
    "            name_taxonomy[genre] = genome_hash[genome+\".RAST\"][10][\"Taxonomy\"]\n",
    "            asvset_genres[asvset][genre] += 1\n",
    "util.save(\"asvset_genres\",asvset_genres)\n",
    "util.save(\"genre_genomes\",genre_genomes)\n",
    "asvset_names = {}\n",
    "genre_counts = {}\n",
    "for asvset in asvset_genres:\n",
    "    best = None\n",
    "    best_score = 0\n",
    "    for genre in asvset_genres[asvset]:\n",
    "        if asvset_genres[asvset][genre] > best_score:\n",
    "            best = genre\n",
    "            best_score = asvset_genres[asvset][genre]\n",
    "    if not best:\n",
    "        best = \"none\"\n",
    "    if best not in genre_counts:\n",
    "        genre_counts[best] = 0\n",
    "    genre_counts[best] += 1\n",
    "    asvset_names[asvset] = best+\".\"+str(genre_counts[best])\n",
    "    asvname_taxonomy[asvset_names[asvset]] = name_taxonomy[best]\n",
    "util.save(\"genre_counts\",genre_counts)\n",
    "util.save(\"asvset_names\",asvset_names)\n",
    "util.save(\"asvname_taxonomy\",asvname_taxonomy)"
   ]
  },
  {
   "cell_type": "markdown",
   "metadata": {
    "jp-MarkdownHeadingCollapsed": true,
    "tags": []
   },
   "source": [
    "# Pulling genomes and getting functions hash from all genomes"
   ]
  },
  {
   "cell_type": "code",
   "execution_count": 7,
   "metadata": {
    "collapsed": true,
    "jupyter": {
     "outputs_hidden": true
    },
    "tags": []
   },
   "outputs": [
    {
     "name": "stderr",
     "output_type": "stream",
     "text": [
      "1740027402.870403 ERROR: Requested data feature_probabilities doesn't exist at /Users/andrewfreiburger/Documents/Research/sludge/sludge/../data/feature_probabilities.json\n"
     ]
    },
    {
     "ename": "ValueError",
     "evalue": "Requested data feature_probabilities doesn't exist at /Users/andrewfreiburger/Documents/Research/sludge/sludge/../data/feature_probabilities.json",
     "output_type": "error",
     "traceback": [
      "\u001b[0;31m---------------------------------------------------------------------------\u001b[0m",
      "\u001b[0;31mValueError\u001b[0m                                Traceback (most recent call last)",
      "Cell \u001b[0;32mIn[7], line 11\u001b[0m\n\u001b[1;32m      9\u001b[0m functions \u001b[38;5;241m=\u001b[39m util\u001b[38;5;241m.\u001b[39mload(\u001b[38;5;124m\"\u001b[39m\u001b[38;5;124mfunctions\u001b[39m\u001b[38;5;124m\"\u001b[39m)\n\u001b[1;32m     10\u001b[0m feature_aliases \u001b[38;5;241m=\u001b[39m util\u001b[38;5;241m.\u001b[39mload(\u001b[38;5;124m\"\u001b[39m\u001b[38;5;124mfeature_aliases\u001b[39m\u001b[38;5;124m\"\u001b[39m)\n\u001b[0;32m---> 11\u001b[0m feature_probabilities \u001b[38;5;241m=\u001b[39m \u001b[43mutil\u001b[49m\u001b[38;5;241;43m.\u001b[39;49m\u001b[43mload\u001b[49m\u001b[43m(\u001b[49m\u001b[38;5;124;43m\"\u001b[39;49m\u001b[38;5;124;43mfeature_probabilities\u001b[39;49m\u001b[38;5;124;43m\"\u001b[39;49m\u001b[43m)\u001b[49m\n\u001b[1;32m     12\u001b[0m features \u001b[38;5;241m=\u001b[39m {}\n\u001b[1;32m     13\u001b[0m workspace \u001b[38;5;241m=\u001b[39m \u001b[38;5;241m207617\u001b[39m\n",
      "File \u001b[0;32m~/Documents/Research/chenry_utility_module/lib/chenry_utility_module/kbdevutils.py:157\u001b[0m, in \u001b[0;36mKBDevUtils.load\u001b[0;34m(self, name, default, kb_type)\u001b[0m\n\u001b[1;32m    155\u001b[0m     \u001b[38;5;28;01mif\u001b[39;00m default \u001b[38;5;241m==\u001b[39m \u001b[38;5;28;01mNone\u001b[39;00m:\n\u001b[1;32m    156\u001b[0m         logger\u001b[38;5;241m.\u001b[39merror(\u001b[38;5;124m\"\u001b[39m\u001b[38;5;124mRequested data \u001b[39m\u001b[38;5;124m\"\u001b[39m\u001b[38;5;241m+\u001b[39mname\u001b[38;5;241m+\u001b[39m\u001b[38;5;124m\"\u001b[39m\u001b[38;5;124m doesn\u001b[39m\u001b[38;5;124m'\u001b[39m\u001b[38;5;124mt exist at \u001b[39m\u001b[38;5;124m\"\u001b[39m\u001b[38;5;241m+\u001b[39mfilename)\n\u001b[0;32m--> 157\u001b[0m         \u001b[38;5;28;01mraise\u001b[39;00m(\u001b[38;5;167;01mValueError\u001b[39;00m(\u001b[38;5;124m\"\u001b[39m\u001b[38;5;124mRequested data \u001b[39m\u001b[38;5;124m\"\u001b[39m\u001b[38;5;241m+\u001b[39mname\u001b[38;5;241m+\u001b[39m\u001b[38;5;124m\"\u001b[39m\u001b[38;5;124m doesn\u001b[39m\u001b[38;5;124m'\u001b[39m\u001b[38;5;124mt exist at \u001b[39m\u001b[38;5;124m\"\u001b[39m\u001b[38;5;241m+\u001b[39mfilename))\n\u001b[1;32m    158\u001b[0m     \u001b[38;5;28;01mreturn\u001b[39;00m default\n\u001b[1;32m    159\u001b[0m \u001b[38;5;28;01mwith\u001b[39;00m \u001b[38;5;28mopen\u001b[39m(filename, \u001b[38;5;124m'\u001b[39m\u001b[38;5;124mr\u001b[39m\u001b[38;5;124m'\u001b[39m) \u001b[38;5;28;01mas\u001b[39;00m f:\n",
      "\u001b[0;31mValueError\u001b[0m: Requested data feature_probabilities doesn't exist at /Users/andrewfreiburger/Documents/Research/sludge/sludge/../data/feature_probabilities.json"
     ]
    }
   ],
   "source": [
    "#Now building asv genome objects and saving to file (will be loaded to KBase)\n",
    "from cobrakbase.core.kbasegenome.genome import KBaseGenome\n",
    "asvset_asvs = util.load(\"asvset_asvs\")\n",
    "asvset_genomes = util.load(\"asvset_genomes\")\n",
    "asvset_names = util.load(\"asvset_names\")\n",
    "asvset_names = util.load(\"asvset_names\")\n",
    "genre_genomes = util.load(\"genre_genomes\")\n",
    "genome_hash = util.load(\"genome_hash\")\n",
    "functions = util.load(\"functions\")\n",
    "feature_aliases = util.load(\"feature_aliases\")\n",
    "feature_probabilities = util.load(\"feature_probabilities\")\n",
    "features = {}\n",
    "workspace = 207617\n",
    "done = []\n",
    "for asvset in asvset_genomes:\n",
    "    asvname = asvset_names[asvset]\n",
    "    if asvname not in done:\n",
    "        genre = asvname.split(\".\")[0]\n",
    "        print(\"Processing \",asvname)\n",
    "        #Loading template genome\n",
    "        template_genome = util.load(\"TemplateGenome\")\n",
    "        #Setting metadata\n",
    "        template_genome[\"assembly_ref\"] = str(workspace)+\"/\"+asvname+\".assembly\"\n",
    "        template_genome[\"dna_size\"] = 0\n",
    "        template_genome[\"scientific_name\"] = genre_genomes[genre][10][\"Name\"]\n",
    "        template_genome[\"taxonomy\"] = genre_genomes[genre][10][\"Taxonomy\"]\n",
    "        template_genome[\"gc_content\"] = genre_genomes[genre][10][\"GC content\"]\n",
    "        template_genome[\"id\"] = asvname\n",
    "        template_genome[\"contig_ids\"] = []\n",
    "        template_genome[\"contig_lengths\"] = []\n",
    "        template_genome[\"num_contigs\"] = 0   \n",
    "        template_genome[\"source\"] = \"WesternDiet\"\n",
    "        template_genome[\"warnings\"] = [\"Artificial genome created to support ASV modeling\"]\n",
    "        template_genome[\"features\"] = []\n",
    "        template_genome[\"cdss\"] = []\n",
    "        template_genome[\"source_id\"] = \"|\".join(asvset_asvs[asvset])\n",
    "        template_genome[\"molecule_type\"] = \"ASV derived genome\"\n",
    "        template_genome[\"genome_type\"] = \"ASV derived genome\"\n",
    "        template_genome[\"domain\"] = genre_genomes[genre][10][\"Domain\"]\n",
    "        template_genome[\"ontologies_present\"] = {}\n",
    "        template_genome[\"ontology_events\"] = []\n",
    "        md5_list = []\n",
    "        if asvname not in functions:\n",
    "            functions[asvname] = {}\n",
    "        for genome_id in asvset_genomes[asvset]:\n",
    "            if genome_id+\".RAST\" in genome_hash:\n",
    "                info = genome_hash[genome_id+\".RAST\"]\n",
    "                genome = util.msrecon.kbase_api.get_object(genome_id+\".RAST\",178418)\n",
    "                genome_functions = {}\n",
    "                for ftr in genome[\"features\"]:\n",
    "                    if \"functions\" in ftr:\n",
    "                        for function in ftr[\"functions\"]:\n",
    "                            if function not in functions[asvname]:\n",
    "                                ftrid = asvname+\"_\"+str(len(template_genome[\"contig_ids\"])+1)\n",
    "                                template_genome[\"contig_ids\"].append(ftrid+\".contig\")\n",
    "                                template_genome[\"contig_lengths\"].append(len(ftr[\"dna_sequence\"]))\n",
    "                                template_genome[\"num_contigs\"] += 1\n",
    "                                template_genome[\"dna_size\"] += len(ftr[\"dna_sequence\"])\n",
    "                                result = hashlib.md5(ftr[\"protein_translation\"].encode())\n",
    "                                md5 = result.hexdigest()\n",
    "                                result = hashlib.md5(ftr[\"dna_sequence\"].encode())\n",
    "                                dnamd5 = result.hexdigest()\n",
    "                                md5_list.append(md5)\n",
    "                                functions[asvname][function] = {\"ftrid\":ftrid, \"probability\":1}\n",
    "                                features[ftrid] = {\n",
    "                                    \"aliases\": [],\n",
    "                                    \"cdss\": [\n",
    "                                        ftrid+\".CDS\"\n",
    "                                    ],\n",
    "                                    \"functions\":[function],\n",
    "                                    \"dna_sequence\": ftr[\"dna_sequence\"],\n",
    "                                    \"dna_sequence_length\": len(ftr[\"dna_sequence\"]),\n",
    "                                    \"id\": ftrid,\n",
    "                                    \"location\": [\n",
    "                                        [\n",
    "                                            ftrid+\".contig\",\n",
    "                                            1,\n",
    "                                            \"+\",\n",
    "                                            len(ftr[\"dna_sequence\"])\n",
    "                                        ]\n",
    "                                    ],\n",
    "                                    \"md5\": dnamd5,\n",
    "                                    \"ontology_terms\": {},\n",
    "                                    \"protein_md5\": md5,\n",
    "                                    \"protein_translation\": ftr[\"protein_translation\"],\n",
    "                                    \"protein_translation_length\": len(ftr[\"protein_translation\"]),\n",
    "                                    \"warnings\": []\n",
    "                                }\n",
    "                                cdsftr = features[ftrid].copy()\n",
    "                                del cdsftr[\"cdss\"]\n",
    "                                cdsftr[\"id\"] = ftrid+\".CDS\"\n",
    "                                cdsftr[\"parent_gene\"] = ftrid\n",
    "                                if \"aliases\" in ftr and len(ftr[\"aliases\"]) >= 1:\n",
    "                                    features[ftrid][\"aliases\"].append([\"gene\",str(info[6])+\"/\"+str(info[0])+\".\"+ftr[\"aliases\"][0][1]])\n",
    "                                    if ftrid not in feature_aliases:\n",
    "                                        feature_aliases[ftrid] = []\n",
    "                                    feature_aliases[ftrid].append([ftr[\"aliases\"][0][1]])\n",
    "                                template_genome[\"features\"].append(features[ftrid])\n",
    "                                template_genome[\"cdss\"].append(cdsftr)\n",
    "                            elif function not in genome_functions:#Don't want to count same function twice in a genome\n",
    "                                ftrid = functions[asvname][function][\"ftrid\"]\n",
    "                                functions[asvname][function][\"probability\"] += 1\n",
    "                                if \"aliases\" in ftr and len(ftr[\"aliases\"]) >= 1:\n",
    "                                    features[ftrid][\"aliases\"].append([\"gene\",str(info[6])+\"/\"+str(info[0])+\".\"+ftr[\"aliases\"][0][1]])\n",
    "                                    if ftrid not in feature_aliases:\n",
    "                                        feature_aliases[ftrid] = []\n",
    "                                    feature_aliases[ftrid].append(ftr[\"aliases\"][0][1])\n",
    "                            genome_functions[function] = True\n",
    "        for func in functions[asvname]:\n",
    "            functions[asvname][func][\"probability\"] = functions[asvname][func][\"probability\"]/len(asvset_genomes[asvset])\n",
    "            feature_probabilities[functions[asvname][func][\"ftrid\"]] = functions[asvname][func][\"probability\"]\n",
    "        template_genome[\"feature_counts\"] = {\n",
    "            \"CDS\":len(template_genome[\"features\"]),\n",
    "            \"gene\":len(template_genome[\"features\"]),\n",
    "            \"non_coding_features\":0,\n",
    "            \"protein_encoding_gene\":len(template_genome[\"features\"])\n",
    "        }                    \n",
    "        md5_list.sort()\n",
    "        result = hashlib.md5(\";\".join(md5_list).encode())\n",
    "        template_genome[\"md5\"] = result.hexdigest()\n",
    "        #Writing FASTA\n",
    "        ofile = open(\"Assemblies/\"+asvname+\".fasta\", \"w\")\n",
    "        for func in functions[asvname]:\n",
    "            ofile.write(\">\" + functions[asvname][func][\"ftrid\"] + \"\\n\" +features[functions[asvname][func][\"ftrid\"]][\"dna_sequence\"] + \"\\n\")\n",
    "        ofile.close()\n",
    "        #Saving genome\n",
    "        util.save(asvname, template_genome)\n",
    "        util.save(\"feature_aliases\", feature_aliases)\n",
    "        util.save(\"functions\", functions)\n",
    "        util.save(\"feature_probabilities\", feature_probabilities)     "
   ]
  },
  {
   "cell_type": "markdown",
   "metadata": {
    "jp-MarkdownHeadingCollapsed": true,
    "tags": []
   },
   "source": [
    "# Loading assemblies to KBase"
   ]
  },
  {
   "cell_type": "code",
   "execution_count": 5,
   "metadata": {
    "tags": []
   },
   "outputs": [],
   "source": [
    "#Loading clade genome assemblies to KBase using SDK callbacks\n",
    "import shutil\n",
    "util.sdk_dir_perms()\n",
    "afu = util.afu_client()\n",
    "asvset_genomes = util.load(\"asvset_genomes\")\n",
    "asvset_names = util.load(\"asvset_names\")\n",
    "for asvset in asvset_genomes:\n",
    "    asvname = asvset_names[asvset]\n",
    "    shutil.copy2(\"Assemblies/\"+asvname+\".fasta\", '/scratch/shared/sdkmount/kb_sdk_home/run_local/workdir/tmp/'+asvname+\".fasta\")\n",
    "    params = {\n",
    "        'file': {\n",
    "            'path': '/kb/module/work/tmp/'+asvname+\".fasta\"\n",
    "        },\n",
    "        'workspace_id': 181152,\n",
    "        'assembly_name': asvname+\".assembly\"\n",
    "    }\n",
    "    result = afu.save_assembly_from_fasta2(params)"
   ]
  },
  {
   "cell_type": "markdown",
   "metadata": {
    "jp-MarkdownHeadingCollapsed": true,
    "tags": []
   },
   "source": [
    "# Saving genomes to KBase"
   ]
  },
  {
   "cell_type": "code",
   "execution_count": 5,
   "metadata": {
    "tags": []
   },
   "outputs": [],
   "source": [
    "#Loading clade genomes to KBase using annotation API, which contains an SDK callback\n",
    "feature_probabilities = util.load(\"feature_probabilities\")\n",
    "from datetime import datetime\n",
    "now = datetime.now()\n",
    "timestamp = datetime.timestamp(now)\n",
    "workspace = 181152\n",
    "anno = util.kbdevutil.anno_client()\n",
    "anno.clients[\"GenomeFileUtil\"] = util.kbdevutil.gfu_client()\n",
    "asvset_genomes = util.load(\"asvset_genomes\")\n",
    "asvset_names = util.load(\"asvset_names\")\n",
    "done = []#[\"Lactobacillus.3\",\"Clostridium.11\",\"Muribaculum.1\"]#This genome actually failed...\n",
    "finished = util.load(\"finished_genomes\")\n",
    "for asvset in asvset_genomes:\n",
    "    asvname = asvset_names[asvset]\n",
    "    if asvname not in done and asvname not in finished:\n",
    "        genome = util.kbdevutil.load(asvname)\n",
    "        genome[\"assembly_ref\"] = str(workspace)+\"/\"+asvname+\".assembly\"\n",
    "        genome[\"source_id\"] = asvname\n",
    "        events = [{\n",
    "            \"id\": \"SSO\",\n",
    "            \"event_id\":\"RAST:SSO:\"+str(timestamp),\n",
    "            \"description\": \"RAST annotation of clade genome\",\n",
    "            \"ontology_id\": \"SSO\",\n",
    "            \"method\": \"RAST\",\n",
    "            \"method_version\": \"1.9.5\",\n",
    "            \"timestamp\": str(timestamp),\n",
    "            \"ontology_terms\": {},\n",
    "        }]\n",
    "        for ftr in genome[\"features\"]:\n",
    "            events[0][\"ontology_terms\"][ftr[\"id\"]] = [{\"term\":\"SSO:\"+ftr[\"functions\"][0],\"evidence\":{\"scores\":{\"pgprob\":feature_probabilities[ftr[\"id\"]]}}}]\n",
    "        output = anno.add_annotation_ontology_events({\n",
    "            \"output_workspace\":workspace,\n",
    "            \"events\":events,\n",
    "            \"overwrite_matching\":True,\n",
    "            \"object\":genome,\n",
    "            \"type\":\"KBaseGenomes.Genome\",\n",
    "            \"output_name\":asvname+\".ASV\",\n",
    "            \"save\":1\n",
    "        })\n",
    "        finished.append(asvname)\n",
    "        util.save(\"finished_genomes\",finished)"
   ]
  },
  {
   "cell_type": "markdown",
   "metadata": {
    "jp-MarkdownHeadingCollapsed": true,
    "tags": []
   },
   "source": [
    "# Construct the ASV models, gapfilling in auxotrophy and anaerobic glucose minimal media - code cell from KBase copied here for reference"
   ]
  },
  {
   "cell_type": "code",
   "execution_count": null,
   "metadata": {
    "collapsed": true,
    "jupyter": {
     "outputs_hidden": true
    },
    "tags": []
   },
   "outputs": [
    {
     "name": "stderr",
     "output_type": "stream",
     "text": [
      "/opt/env/python3_modelseed/lib/python3.11/site-packages/urllib3/util/ssl_.py:262: DeprecationWarning: ssl.PROTOCOL_TLS is deprecated\n",
      "  context = SSLContext(ssl_version or ssl.PROTOCOL_SSLv23)\n",
      "/opt/env/python3_modelseed/lib/python3.11/site-packages/urllib3/connection.py:374: DeprecationWarning: ssl.match_hostname() is deprecated\n",
      "  match_hostname(cert, asserted_hostname)\n",
      "/opt/env/python3_modelseed/lib/python3.11/site-packages/urllib3/util/ssl_.py:262: DeprecationWarning: ssl.PROTOCOL_TLS is deprecated\n",
      "  context = SSLContext(ssl_version or ssl.PROTOCOL_SSLv23)\n",
      "/opt/env/python3_modelseed/lib/python3.11/site-packages/urllib3/connection.py:374: DeprecationWarning: ssl.match_hostname() is deprecated\n",
      "  match_hostname(cert, asserted_hostname)\n"
     ]
    },
    {
     "name": "stdout",
     "output_type": "stream",
     "text": [
      "N\n"
     ]
    },
    {
     "name": "stderr",
     "output_type": "stream",
     "text": [
      "/opt/env/python3_modelseed/lib/python3.11/site-packages/urllib3/util/ssl_.py:262: DeprecationWarning: ssl.PROTOCOL_TLS is deprecated\n",
      "  context = SSLContext(ssl_version or ssl.PROTOCOL_SSLv23)\n",
      "/opt/env/python3_modelseed/lib/python3.11/site-packages/urllib3/connection.py:374: DeprecationWarning: ssl.match_hostname() is deprecated\n",
      "  match_hostname(cert, asserted_hostname)\n",
      "1710772440.7858362 INFO: The current solver interface glpk doesn't support setting the optimality tolerance.\n",
      "1710772547.7780695 INFO: The current solver interface glpk doesn't support setting the optimality tolerance.\n",
      "1710772636.7279124 INFO: Compartment `e0` sounds like an external compartment. Using this one without counting boundary reactions.\n",
      "1710772636.835424 INFO: Compartment `e0` sounds like an external compartment. Using this one without counting boundary reactions.\n",
      "1710772636.9265068 INFO: Compartment `e0` sounds like an external compartment. Using this one without counting boundary reactions.\n",
      "1710772637.0251577 INFO: Compartment `e0` sounds like an external compartment. Using this one without counting boundary reactions.\n",
      "1710772637.1176887 INFO: Compartment `e0` sounds like an external compartment. Using this one without counting boundary reactions.\n",
      "1710772637.209481 INFO: Compartment `e0` sounds like an external compartment. Using this one without counting boundary reactions.\n",
      "1710772637.3019955 INFO: Compartment `e0` sounds like an external compartment. Using this one without counting boundary reactions.\n",
      "1710772637.3933198 INFO: Compartment `e0` sounds like an external compartment. Using this one without counting boundary reactions.\n",
      "1710772637.4847643 INFO: Compartment `e0` sounds like an external compartment. Using this one without counting boundary reactions.\n",
      "1710772637.582408 INFO: Compartment `e0` sounds like an external compartment. Using this one without counting boundary reactions.\n",
      "1710772637.6741042 INFO: Compartment `e0` sounds like an external compartment. Using this one without counting boundary reactions.\n",
      "1710772637.7662833 INFO: Compartment `e0` sounds like an external compartment. Using this one without counting boundary reactions.\n",
      "1710772637.861729 INFO: Compartment `e0` sounds like an external compartment. Using this one without counting boundary reactions.\n",
      "1710772637.9524515 INFO: Compartment `e0` sounds like an external compartment. Using this one without counting boundary reactions.\n",
      "1710772638.0433123 INFO: Compartment `e0` sounds like an external compartment. Using this one without counting boundary reactions.\n",
      "1710772638.1394224 INFO: Compartment `e0` sounds like an external compartment. Using this one without counting boundary reactions.\n",
      "1710772638.2299156 INFO: Compartment `e0` sounds like an external compartment. Using this one without counting boundary reactions.\n",
      "1710772638.3224688 INFO: Compartment `e0` sounds like an external compartment. Using this one without counting boundary reactions.\n",
      "1710772638.4146614 INFO: Compartment `e0` sounds like an external compartment. Using this one without counting boundary reactions.\n",
      "1710772638.5135758 INFO: Compartment `e0` sounds like an external compartment. Using this one without counting boundary reactions.\n",
      "1710772638.6072085 INFO: Compartment `e0` sounds like an external compartment. Using this one without counting boundary reactions.\n",
      "1710772638.7050183 INFO: Compartment `e0` sounds like an external compartment. Using this one without counting boundary reactions.\n",
      "1710772638.8016553 INFO: Compartment `e0` sounds like an external compartment. Using this one without counting boundary reactions.\n",
      "1710772638.8933425 INFO: Compartment `e0` sounds like an external compartment. Using this one without counting boundary reactions.\n",
      "1710772638.987198 INFO: Compartment `e0` sounds like an external compartment. Using this one without counting boundary reactions.\n",
      "1710772639.0789292 INFO: Compartment `e0` sounds like an external compartment. Using this one without counting boundary reactions.\n",
      "1710772639.169965 INFO: Compartment `e0` sounds like an external compartment. Using this one without counting boundary reactions.\n",
      "1710772639.261868 INFO: Compartment `e0` sounds like an external compartment. Using this one without counting boundary reactions.\n",
      "1710772639.3524885 INFO: Compartment `e0` sounds like an external compartment. Using this one without counting boundary reactions.\n",
      "1710772639.4501753 INFO: Compartment `e0` sounds like an external compartment. Using this one without counting boundary reactions.\n",
      "1710772639.543527 INFO: Compartment `e0` sounds like an external compartment. Using this one without counting boundary reactions.\n",
      "1710772639.6363738 INFO: Compartment `e0` sounds like an external compartment. Using this one without counting boundary reactions.\n",
      "1710772639.7287693 INFO: Compartment `e0` sounds like an external compartment. Using this one without counting boundary reactions.\n",
      "1710772639.8237426 INFO: Compartment `e0` sounds like an external compartment. Using this one without counting boundary reactions.\n",
      "1710772639.9179347 INFO: Compartment `e0` sounds like an external compartment. Using this one without counting boundary reactions.\n",
      "1710772640.015939 INFO: Compartment `e0` sounds like an external compartment. Using this one without counting boundary reactions.\n",
      "1710772640.1155574 INFO: Compartment `e0` sounds like an external compartment. Using this one without counting boundary reactions.\n",
      "1710772640.2089758 INFO: Compartment `e0` sounds like an external compartment. Using this one without counting boundary reactions.\n",
      "1710772640.3015375 INFO: Compartment `e0` sounds like an external compartment. Using this one without counting boundary reactions.\n",
      "1710772640.3931541 INFO: Compartment `e0` sounds like an external compartment. Using this one without counting boundary reactions.\n",
      "1710772640.4837105 INFO: Compartment `e0` sounds like an external compartment. Using this one without counting boundary reactions.\n",
      "1710772640.5762904 INFO: Compartment `e0` sounds like an external compartment. Using this one without counting boundary reactions.\n",
      "1710772640.6680622 INFO: Compartment `e0` sounds like an external compartment. Using this one without counting boundary reactions.\n",
      "1710772640.7669184 INFO: Compartment `e0` sounds like an external compartment. Using this one without counting boundary reactions.\n",
      "1710772640.858471 INFO: Compartment `e0` sounds like an external compartment. Using this one without counting boundary reactions.\n",
      "1710772640.9500248 INFO: Compartment `e0` sounds like an external compartment. Using this one without counting boundary reactions.\n",
      "1710772641.0413399 INFO: Compartment `e0` sounds like an external compartment. Using this one without counting boundary reactions.\n",
      "1710772641.1323972 INFO: Compartment `e0` sounds like an external compartment. Using this one without counting boundary reactions.\n",
      "1710772641.2237985 INFO: Compartment `e0` sounds like an external compartment. Using this one without counting boundary reactions.\n",
      "1710772641.3154056 INFO: Compartment `e0` sounds like an external compartment. Using this one without counting boundary reactions.\n",
      "1710772641.4064844 INFO: Compartment `e0` sounds like an external compartment. Using this one without counting boundary reactions.\n",
      "1710772641.497213 INFO: Compartment `e0` sounds like an external compartment. Using this one without counting boundary reactions.\n",
      "1710772641.5939035 INFO: Compartment `e0` sounds like an external compartment. Using this one without counting boundary reactions.\n",
      "1710772641.685036 INFO: Compartment `e0` sounds like an external compartment. Using this one without counting boundary reactions.\n",
      "1710772642.040922 INFO: The current solver interface glpk doesn't support setting the optimality tolerance.\n",
      "1710772698.4067552 INFO: Objective with gapfill database:19.12499999999993; min objective:0.01\n",
      "1710772698.5657783 INFO: Objective with gapfill database:0.3333333333333343; min objective:0.01\n",
      "1710772698.674762 INFO: Objective with gapfill database:0.0; min objective:0.01\n",
      "1710772698.9639723 INFO: The current solver interface glpk doesn't support setting the optimality tolerance.\n",
      "1710772796.5933363 WARNING: No gapfilling solution found before filtering for Etho activating rxn00062_c0\n",
      "1710772796.7256413 INFO: Objective with gapfill database:0.3333333333333336; min objective:0.01\n"
     ]
    },
    {
     "name": "stdout",
     "output_type": "stream",
     "text": [
      "Removing ungapfillable media Etho\n"
     ]
    },
    {
     "name": "stderr",
     "output_type": "stream",
     "text": [
      "1710772796.8349624 INFO: Objective with gapfill database:0.0; min objective:0.01\n",
      "1710772797.1610184 INFO: The current solver interface glpk doesn't support setting the optimality tolerance.\n",
      "1710772903.9313705 WARNING: No gapfilling solution found before filtering for mal-L activating rxn00062_c0\n",
      "1710772904.067492 INFO: Objective with gapfill database:1.0000000000000036; min objective:0.01\n"
     ]
    },
    {
     "name": "stdout",
     "output_type": "stream",
     "text": [
      "Removing ungapfillable media mal-L\n"
     ]
    },
    {
     "name": "stderr",
     "output_type": "stream",
     "text": [
      "1710772904.1781723 INFO: Objective with gapfill database:5.000000000000005; min objective:0.01\n",
      "1710772904.2884247 INFO: Objective with gapfill database:0.9999999999999993; min objective:0.01\n",
      "1710772904.3965786 INFO: Objective with gapfill database:1.0000000000000036; min objective:0.01\n",
      "1710772904.5053809 INFO: Objective with gapfill database:0.0; min objective:0.01\n",
      "1710772904.8299124 INFO: The current solver interface glpk doesn't support setting the optimality tolerance.\n",
      "1710772965.4247491 WARNING: No gapfilling solution found before filtering for empty activating rxn00062_c0\n",
      "1710772965.565451 INFO: Objective with gapfill database:0.0; min objective:0.01\n"
     ]
    },
    {
     "name": "stdout",
     "output_type": "stream",
     "text": [
      "Removing ungapfillable media empty\n"
     ]
    },
    {
     "name": "stderr",
     "output_type": "stream",
     "text": [
      "1710772965.8979495 INFO: The current solver interface glpk doesn't support setting the optimality tolerance.\n",
      "1710773084.1467848 WARNING: No gapfilling solution found before filtering for ANME activating rxn00062_c0\n",
      "1710773084.2896948 INFO: Objective with gapfill database:0.5000000000000008; min objective:0.01\n"
     ]
    },
    {
     "name": "stdout",
     "output_type": "stream",
     "text": [
      "Removing ungapfillable media ANME\n"
     ]
    },
    {
     "name": "stderr",
     "output_type": "stream",
     "text": [
      "1710773084.3984883 INFO: Objective with gapfill database:0.5000000000000007; min objective:0.01\n",
      "1710773084.5086753 INFO: Objective with gapfill database:0.5000000000000006; min objective:0.01\n",
      "1710773084.6170697 INFO: Objective with gapfill database:1.0000000000000049; min objective:0.01\n",
      "1710773084.724543 INFO: Objective with gapfill database:1.500000000000009; min objective:0.01\n",
      "1710773084.8821797 INFO: Objective with gapfill database:19.125000000000107; min objective:0.01\n",
      "1710773085.217814 INFO: Succ.O2/rxn00062_c0:rxn09269_c0> needed:5.750218040912325e-15 with min obj:2\n",
      "1710773085.389841 INFO: Objective with gapfill database:0.3333333333333441; min objective:0.01\n"
     ]
    },
    {
     "name": "stdout",
     "output_type": "stream",
     "text": [
      "Adding gapfilling {'growth': 0, 'media': <modelseedpy.core.msmedia.MSMedia object at 0x7f3df1ad6c90>, 'target': 'rxn00062_c0', 'minobjective': 2, 'binary_check': False, 'new': {'rxn09269_c0': '>'}, 'reversed': {}}\n"
     ]
    },
    {
     "name": "stderr",
     "output_type": "stream",
     "text": [
      "1710773085.7037265 INFO: Ac/rxn00062_c0:rxn03020_c0> needed:1.7970150202126656e-16 with min obj:0.01\n",
      "1710773085.7126248 INFO: Ac/rxn00062_c0:rxn15961_c0> needed:0.0 with min obj:0.01\n",
      "1710773085.931435 INFO: Objective with gapfill database:1.3333333333333486; min objective:0.01\n"
     ]
    },
    {
     "name": "stdout",
     "output_type": "stream",
     "text": [
      "Adding gapfilling {'growth': 0, 'media': <modelseedpy.core.msmedia.MSMedia object at 0x7f3df1a8b5d0>, 'target': 'rxn00062_c0', 'minobjective': 0.01, 'binary_check': False, 'new': {'rxn03020_c0': '>', 'rxn15961_c0': '>'}, 'reversed': {}}\n"
     ]
    },
    {
     "name": "stderr",
     "output_type": "stream",
     "text": [
      "1710773086.222785 INFO: Succ/rxn00062_c0:rxn09269_c0> needed:3.593886275570203e-16 with min obj:0.01\n",
      "1710773086.443656 INFO: Objective with gapfill database:0.33333333333333526; min objective:0.01\n"
     ]
    },
    {
     "name": "stdout",
     "output_type": "stream",
     "text": [
      "Adding gapfilling {'growth': 0, 'media': <modelseedpy.core.msmedia.MSMedia object at 0x7f3df1a89190>, 'target': 'rxn00062_c0', 'minobjective': 0.01, 'binary_check': False, 'new': {'rxn09269_c0': '>'}, 'reversed': {}}\n"
     ]
    },
    {
     "name": "stderr",
     "output_type": "stream",
     "text": [
      "1710773086.7272015 INFO: For/rxn00062_c0:rxn03020_c0> needed:0.0 with min obj:0.01\n",
      "1710773086.7359908 INFO: For/rxn00062_c0:rxn15961_c0> needed:0.0 with min obj:0.01\n",
      "1710773086.956974 INFO: Objective with gapfill database:2.125000000000031; min objective:0.01\n"
     ]
    },
    {
     "name": "stdout",
     "output_type": "stream",
     "text": [
      "Adding gapfilling {'growth': 0, 'media': <modelseedpy.core.msmedia.MSMedia object at 0x7f3df1a2fad0>, 'target': 'rxn00062_c0', 'minobjective': 0.01, 'binary_check': False, 'new': {'rxn03020_c0': '>', 'rxn15961_c0': '>'}, 'reversed': {}}\n"
     ]
    },
    {
     "name": "stderr",
     "output_type": "stream",
     "text": [
      "1710773087.4553406 INFO: Objective with gapfill database:1.0000000000000053; min objective:0.01\n"
     ]
    },
    {
     "name": "stdout",
     "output_type": "stream",
     "text": [
      "Adding gapfilling {'growth': 0, 'media': <modelseedpy.core.msmedia.MSMedia object at 0x7f3df1a2cc90>, 'target': 'rxn00062_c0', 'minobjective': 1.5, 'binary_check': False, 'new': {}, 'reversed': {}}\n"
     ]
    },
    {
     "name": "stderr",
     "output_type": "stream",
     "text": [
      "1710773087.7880778 INFO: For.NO/rxn00062_c0:rxn15962_c0< needed:-1.0782090121276111e-15 with min obj:0.01\n",
      "1710773087.7967556 INFO: For.NO/rxn00062_c0:rxn40505_c0< needed:0.0 with min obj:0.01\n",
      "1710773088.0176163 INFO: Objective with gapfill database:5.0000000000000195; min objective:0.01\n"
     ]
    },
    {
     "name": "stdout",
     "output_type": "stream",
     "text": [
      "Adding gapfilling {'growth': 0, 'media': <modelseedpy.core.msmedia.MSMedia object at 0x7f3df1a2c690>, 'target': 'rxn00062_c0', 'minobjective': 0.01, 'binary_check': False, 'new': {'rxn15962_c0': '<', 'rxn40505_c0': '<'}, 'reversed': {}}\n"
     ]
    },
    {
     "name": "stderr",
     "output_type": "stream",
     "text": [
      "1710773088.5143216 INFO: Objective with gapfill database:1.0000000000000002; min objective:0.01\n"
     ]
    },
    {
     "name": "stdout",
     "output_type": "stream",
     "text": [
      "Adding gapfilling {'growth': 0, 'media': <modelseedpy.core.msmedia.MSMedia object at 0x7f3df1bd9cd0>, 'target': 'rxn00062_c0', 'minobjective': 2.5, 'binary_check': False, 'new': {}, 'reversed': {}}\n"
     ]
    },
    {
     "name": "stderr",
     "output_type": "stream",
     "text": [
      "1710773088.7991202 INFO: H2.CO2/rxn00062_c0:rxn03020_c0> needed:0.0 with min obj:0.01\n",
      "1710773088.808213 INFO: H2.CO2/rxn00062_c0:rxn15961_c0> needed:0.0 with min obj:0.01\n",
      "1710773089.027513 INFO: Objective with gapfill database:1.0000000000000044; min objective:0.01\n"
     ]
    },
    {
     "name": "stdout",
     "output_type": "stream",
     "text": [
      "Adding gapfilling {'growth': 0, 'media': <modelseedpy.core.msmedia.MSMedia object at 0x7f3df1b61590>, 'target': 'rxn00062_c0', 'minobjective': 0.01, 'binary_check': False, 'new': {'rxn03020_c0': '>', 'rxn15961_c0': '>'}, 'reversed': {}}\n"
     ]
    },
    {
     "name": "stderr",
     "output_type": "stream",
     "text": [
      "1710773089.3148785 INFO: H2.Ac/rxn00062_c0:rxn03020_c0> needed:1.9693683073378293e-15 with min obj:0.01\n",
      "1710773089.3239148 INFO: H2.Ac/rxn00062_c0:rxn15961_c0> needed:0.0 with min obj:0.01\n",
      "1710773089.5576873 INFO: Objective with gapfill database:0.0; min objective:0.01\n"
     ]
    },
    {
     "name": "stdout",
     "output_type": "stream",
     "text": [
      "Adding gapfilling {'growth': 0, 'media': <modelseedpy.core.msmedia.MSMedia object at 0x7f3df1b60f90>, 'target': 'rxn00062_c0', 'minobjective': 0.01, 'binary_check': False, 'new': {'rxn03020_c0': '>', 'rxn15961_c0': '>'}, 'reversed': {}}\n"
     ]
    },
    {
     "name": "stderr",
     "output_type": "stream",
     "text": [
      "1710773089.8673077 INFO: The current solver interface glpk doesn't support setting the optimality tolerance.\n",
      "1710773145.2589488 WARNING: No gapfilling solution found for Light activating rxn00062_c0\n",
      "1710773145.449857 INFO: Objective with gapfill database:0.0; min objective:0.01\n",
      "1710773145.781234 INFO: The current solver interface glpk doesn't support setting the optimality tolerance.\n",
      "1710773272.7237577 WARNING: No gapfilling solution found for Methane activating rxn00062_c0\n",
      "1710773272.9225807 INFO: Objective with gapfill database:0.49999999999999883; min objective:0.01\n",
      "1710773273.2680297 INFO: Methanol/rxn00062_c0:rxn24606_c0> needed:-8.086387884888123e-16 with min obj:0.01\n",
      "1710773273.276864 INFO: Methanol/rxn00062_c0:rxn24607_c0> needed:0.0 with min obj:0.01\n",
      "1710773273.28567 INFO: Methanol/rxn00062_c0:rxn03020_c0< needed:0.0 with min obj:0.01\n",
      "1710773273.294432 INFO: Methanol/rxn00062_c0:rxn15962_c0< needed:0.0 with min obj:0.01\n",
      "1710773273.3032026 INFO: Methanol/rxn00062_c0:rxn40505_c0< needed:0.0 with min obj:0.01\n",
      "1710773273.5274284 INFO: Objective with gapfill database:0.4999999999999995; min objective:0.01\n"
     ]
    },
    {
     "name": "stdout",
     "output_type": "stream",
     "text": [
      "Adding gapfilling {'growth': 0, 'media': <modelseedpy.core.msmedia.MSMedia object at 0x7f3df1c881d0>, 'target': 'rxn00062_c0', 'minobjective': 0.01, 'binary_check': False, 'new': {'rxn24606_c0': '>', 'rxn24607_c0': '>', 'rxn03020_c0': '<', 'rxn15962_c0': '<', 'rxn40505_c0': '<'}, 'reversed': {}}\n"
     ]
    },
    {
     "name": "stderr",
     "output_type": "stream",
     "text": [
      "1710773273.818923 INFO: Methanol.H2/rxn00062_c0:rxn24606_c0> needed:0.0 with min obj:0.01\n",
      "1710773273.8277328 INFO: Methanol.H2/rxn00062_c0:rxn24607_c0> needed:0.0 with min obj:0.01\n",
      "1710773273.8366833 INFO: Methanol.H2/rxn00062_c0:rxn15961_c0> needed:0.0 with min obj:0.01\n",
      "1710773274.0665314 INFO: Objective with gapfill database:0.49999999999999967; min objective:0.01\n"
     ]
    },
    {
     "name": "stdout",
     "output_type": "stream",
     "text": [
      "Adding gapfilling {'growth': 0, 'media': <modelseedpy.core.msmedia.MSMedia object at 0x7f3df1c8a750>, 'target': 'rxn00062_c0', 'minobjective': 0.01, 'binary_check': False, 'new': {'rxn24606_c0': '>', 'rxn24607_c0': '>', 'rxn15961_c0': '>'}, 'reversed': {}}\n"
     ]
    },
    {
     "name": "stderr",
     "output_type": "stream",
     "text": [
      "1710773274.3919265 INFO: Methanamine.H2/rxn00062_c0:EX_cpd00187_e0< needed:0.0 with min obj:0.01\n",
      "1710773274.400712 INFO: Methanamine.H2/rxn00062_c0:rxn24608_c0> needed:0.0 with min obj:0.01\n",
      "1710773274.411173 INFO: Methanamine.H2/rxn00062_c0:rxn24609_c0> needed:0.0 with min obj:0.01\n",
      "1710773274.423774 INFO: Methanamine.H2/rxn00062_c0:rxn31759_c0< needed:0.0 with min obj:0.01\n",
      "1710773274.4327526 INFO: Methanamine.H2/rxn00062_c0:rxn15961_c0> needed:0.0 with min obj:0.01\n",
      "1710773274.6622047 INFO: Objective with gapfill database:1.0000000000000002; min objective:0.01\n"
     ]
    },
    {
     "name": "stdout",
     "output_type": "stream",
     "text": [
      "Adding gapfilling {'growth': 0, 'media': <modelseedpy.core.msmedia.MSMedia object at 0x7f3df1cc7d90>, 'target': 'rxn00062_c0', 'minobjective': 0.01, 'binary_check': False, 'new': {'EX_cpd00187_e0': '<', 'rxn24608_c0': '>', 'rxn24609_c0': '>', 'rxn31759_c0': '<', 'rxn15961_c0': '>'}, 'reversed': {}}\n"
     ]
    },
    {
     "name": "stderr",
     "output_type": "stream",
     "text": [
      "1710773274.9846814 INFO: Dimethylamine.H2/rxn00062_c0:EX_cpd00425_e0< needed:0.0 with min obj:0.01\n",
      "1710773274.9936013 INFO: Dimethylamine.H2/rxn00062_c0:rxn24608_c0> needed:0.0 with min obj:0.01\n",
      "1710773275.002482 INFO: Dimethylamine.H2/rxn00062_c0:rxn24609_c0> needed:0.0 with min obj:0.01\n",
      "1710773275.0114741 INFO: Dimethylamine.H2/rxn00062_c0:rxn24610_c0> needed:0.0 with min obj:0.01\n",
      "1710773275.0204003 INFO: Dimethylamine.H2/rxn00062_c0:rxn15961_c0> needed:0.0 with min obj:0.01\n",
      "1710773275.0293906 INFO: Dimethylamine.H2/rxn00062_c0:rxn24611_c0> needed:0.0 with min obj:0.01\n",
      "1710773275.038242 INFO: Dimethylamine.H2/rxn00062_c0:rxn33011_c0< needed:0.0 with min obj:0.01\n",
      "1710773275.2627437 INFO: Objective with gapfill database:1.4999999999999998; min objective:0.01\n"
     ]
    },
    {
     "name": "stdout",
     "output_type": "stream",
     "text": [
      "Adding gapfilling {'growth': 0, 'media': <modelseedpy.core.msmedia.MSMedia object at 0x7f3df1cc43d0>, 'target': 'rxn00062_c0', 'minobjective': 0.01, 'binary_check': False, 'new': {'EX_cpd00425_e0': '<', 'rxn24608_c0': '>', 'rxn24609_c0': '>', 'rxn24610_c0': '>', 'rxn15961_c0': '>', 'rxn24611_c0': '>', 'rxn33011_c0': '<'}, 'reversed': {}}\n"
     ]
    },
    {
     "name": "stderr",
     "output_type": "stream",
     "text": [
      "1710773275.569629 INFO: Trimethylamine.H2/rxn00062_c0:rxn24608_c0> needed:0.0 with min obj:0.01\n",
      "1710773275.5784538 INFO: Trimethylamine.H2/rxn00062_c0:rxn24609_c0> needed:0.0 with min obj:0.01\n",
      "1710773275.5873065 INFO: Trimethylamine.H2/rxn00062_c0:rxn24610_c0> needed:0.0 with min obj:0.01\n",
      "1710773275.5960832 INFO: Trimethylamine.H2/rxn00062_c0:rxn24613_c0> needed:0.0 with min obj:0.01\n",
      "1710773275.60484 INFO: Trimethylamine.H2/rxn00062_c0:rxn09318_c0< needed:0.0 with min obj:0.01\n",
      "1710773275.6137812 INFO: Trimethylamine.H2/rxn00062_c0:rxn15961_c0> needed:0.0 with min obj:0.01\n",
      "1710773275.6226764 INFO: Trimethylamine.H2/rxn00062_c0:rxn24611_c0> needed:0.0 with min obj:0.01\n",
      "1710773275.7117455 INFO: max_gapfilling: 5, best_score: 0.0\n",
      "1710773275.7124414 INFO: Setting FBAModel computed_attributes to mdlutl attributes\n",
      "1710773275.7135775 INFO: Setting FBAModel computed_attributes to mdlutl attributes\n"
     ]
    },
    {
     "name": "stdout",
     "output_type": "stream",
     "text": [
      "Adding gapfilling {'growth': 0, 'media': <modelseedpy.core.msmedia.MSMedia object at 0x7f3df1cc6d10>, 'target': 'rxn00062_c0', 'minobjective': 0.01, 'binary_check': False, 'new': {'rxn24608_c0': '>', 'rxn24609_c0': '>', 'rxn24610_c0': '>', 'rxn24613_c0': '>', 'rxn09318_c0': '<', 'rxn15961_c0': '>', 'rxn24611_c0': '>'}, 'reversed': {}}\n",
      "{<modelseedpy.core.msmedia.MSMedia object at 0x7f3df1ad6c90>: {'growth': 0, 'media': <modelseedpy.core.msmedia.MSMedia object at 0x7f3df1ad6c90>, 'target': 'rxn00062_c0', 'minobjective': 2, 'binary_check': False, 'new': {'rxn09269_c0': '>'}, 'reversed': {}}, <modelseedpy.core.msmedia.MSMedia object at 0x7f3df1a8b5d0>: {'growth': 0, 'media': <modelseedpy.core.msmedia.MSMedia object at 0x7f3df1a8b5d0>, 'target': 'rxn00062_c0', 'minobjective': 0.01, 'binary_check': False, 'new': {'rxn03020_c0': '>', 'rxn15961_c0': '>'}, 'reversed': {}}, <modelseedpy.core.msmedia.MSMedia object at 0x7f3df1a89190>: {'growth': 0, 'media': <modelseedpy.core.msmedia.MSMedia object at 0x7f3df1a89190>, 'target': 'rxn00062_c0', 'minobjective': 0.01, 'binary_check': False, 'new': {'rxn09269_c0': '>'}, 'reversed': {}}, <modelseedpy.core.msmedia.MSMedia object at 0x7f3df1a2fad0>: {'growth': 0, 'media': <modelseedpy.core.msmedia.MSMedia object at 0x7f3df1a2fad0>, 'target': 'rxn00062_c0', 'minobjective': 0.01, 'binary_check': False, 'new': {'rxn03020_c0': '>', 'rxn15961_c0': '>'}, 'reversed': {}}, <modelseedpy.core.msmedia.MSMedia object at 0x7f3df1a2cc90>: {'growth': 0, 'media': <modelseedpy.core.msmedia.MSMedia object at 0x7f3df1a2cc90>, 'target': 'rxn00062_c0', 'minobjective': 1.5, 'binary_check': False, 'new': {}, 'reversed': {}}, <modelseedpy.core.msmedia.MSMedia object at 0x7f3df1a2c690>: {'growth': 0, 'media': <modelseedpy.core.msmedia.MSMedia object at 0x7f3df1a2c690>, 'target': 'rxn00062_c0', 'minobjective': 0.01, 'binary_check': False, 'new': {'rxn15962_c0': '<', 'rxn40505_c0': '<'}, 'reversed': {}}, <modelseedpy.core.msmedia.MSMedia object at 0x7f3df1bd9cd0>: {'growth': 0, 'media': <modelseedpy.core.msmedia.MSMedia object at 0x7f3df1bd9cd0>, 'target': 'rxn00062_c0', 'minobjective': 2.5, 'binary_check': False, 'new': {}, 'reversed': {}}, <modelseedpy.core.msmedia.MSMedia object at 0x7f3df1b61590>: {'growth': 0, 'media': <modelseedpy.core.msmedia.MSMedia object at 0x7f3df1b61590>, 'target': 'rxn00062_c0', 'minobjective': 0.01, 'binary_check': False, 'new': {'rxn03020_c0': '>', 'rxn15961_c0': '>'}, 'reversed': {}}, <modelseedpy.core.msmedia.MSMedia object at 0x7f3df1b60f90>: {'growth': 0, 'media': <modelseedpy.core.msmedia.MSMedia object at 0x7f3df1b60f90>, 'target': 'rxn00062_c0', 'minobjective': 0.01, 'binary_check': False, 'new': {'rxn03020_c0': '>', 'rxn15961_c0': '>'}, 'reversed': {}}, <modelseedpy.core.msmedia.MSMedia object at 0x7f3df1c881d0>: {'growth': 0, 'media': <modelseedpy.core.msmedia.MSMedia object at 0x7f3df1c881d0>, 'target': 'rxn00062_c0', 'minobjective': 0.01, 'binary_check': False, 'new': {'rxn24606_c0': '>', 'rxn24607_c0': '>', 'rxn03020_c0': '<', 'rxn15962_c0': '<', 'rxn40505_c0': '<'}, 'reversed': {}}, <modelseedpy.core.msmedia.MSMedia object at 0x7f3df1c8a750>: {'growth': 0, 'media': <modelseedpy.core.msmedia.MSMedia object at 0x7f3df1c8a750>, 'target': 'rxn00062_c0', 'minobjective': 0.01, 'binary_check': False, 'new': {'rxn24606_c0': '>', 'rxn24607_c0': '>', 'rxn15961_c0': '>'}, 'reversed': {}}, <modelseedpy.core.msmedia.MSMedia object at 0x7f3df1cc7d90>: {'growth': 0, 'media': <modelseedpy.core.msmedia.MSMedia object at 0x7f3df1cc7d90>, 'target': 'rxn00062_c0', 'minobjective': 0.01, 'binary_check': False, 'new': {'EX_cpd00187_e0': '<', 'rxn24608_c0': '>', 'rxn24609_c0': '>', 'rxn31759_c0': '<', 'rxn15961_c0': '>'}, 'reversed': {}}, <modelseedpy.core.msmedia.MSMedia object at 0x7f3df1cc43d0>: {'growth': 0, 'media': <modelseedpy.core.msmedia.MSMedia object at 0x7f3df1cc43d0>, 'target': 'rxn00062_c0', 'minobjective': 0.01, 'binary_check': False, 'new': {'EX_cpd00425_e0': '<', 'rxn24608_c0': '>', 'rxn24609_c0': '>', 'rxn24610_c0': '>', 'rxn15961_c0': '>', 'rxn24611_c0': '>', 'rxn33011_c0': '<'}, 'reversed': {}}, <modelseedpy.core.msmedia.MSMedia object at 0x7f3df1cc6d10>: {'growth': 0, 'media': <modelseedpy.core.msmedia.MSMedia object at 0x7f3df1cc6d10>, 'target': 'rxn00062_c0', 'minobjective': 0.01, 'binary_check': False, 'new': {'rxn24608_c0': '>', 'rxn24609_c0': '>', 'rxn24610_c0': '>', 'rxn24613_c0': '>', 'rxn09318_c0': '<', 'rxn15961_c0': '>', 'rxn24611_c0': '>'}, 'reversed': {}}}\n"
     ]
    },
    {
     "name": "stderr",
     "output_type": "stream",
     "text": [
      "1710773277.8779063 INFO: Setting FBAModel computed_attributes to mdlutl attributes\n"
     ]
    },
    {
     "name": "stdout",
     "output_type": "stream",
     "text": [
      "Failed:<rxn10157_c0\n",
      "Failed:<rxn00146_c0\n",
      "Failed:>rxn10123_c0\n",
      "Failed:>rxn10124_c0\n",
      "Failed:>rxn00532_c0\n",
      "Failed:<rxn10155_c0\n",
      "Failed:>rxn12575_c0\n",
      "Failed:<rxn00429_c0\n",
      "Failed:<rxn00145_c0\n",
      "Failed:>rxn12822_c0\n",
      "Failed:>rxn00704_c0\n",
      "Failed:>rxn01671_c0\n",
      "Failed:<rxn00377_c0\n",
      "Failed:>rxn00778_c0\n",
      "Failed:>rxn05206_c0\n",
      "Failed:<rxn05611_c0\n",
      "Failed:<rxn14159_c0\n",
      "Failed:<rxn00154_c0\n",
      "Failed:>rxn45223_c0\n",
      "Failed:<rxn48579_c0\n",
      "Failed:>rxn39679_c0\n",
      "Failed:<rxn08735_c0\n",
      "Failed:<rxn08736_c0\n",
      "Failed:<rxn39860_c0\n",
      "Failed:<rxn44043_c0\n",
      "Failed:<rxn13339_c0\n",
      "Failed:<rxn13321_c0\n",
      "Failed:<rxn42976_c0\n",
      "Failed:<rxn20627_c0\n",
      "Failed:>rxn09193_c0\n",
      "Failed:<rxn08234_c0\n",
      "Failed:<rxn23850_c0\n",
      "Failed:<rxn40368_c0\n",
      "Failed:>rxn20583_c0\n",
      "Failed:<rxn16596_c0\n",
      "Failed:>rxn11667_c0\n",
      "Failed:<rxn09388_c0\n",
      "Failed:>rxn16149_c0\n",
      "Failed:<rxn43657_c0\n"
     ]
    },
    {
     "name": "stderr",
     "output_type": "stream",
     "text": [
      "1710773286.4691327 INFO: Expansion time:empty:8.415746569051407\n",
      "1710773286.4698327 INFO: Filtered count:39 out of 3345\n",
      "/scratch/shared/code/ModelSEEDpy/modelseedpy/core/msmodelutl.py:29: DeprecationWarning: invalid escape sequence '\\d'\n",
      "  if re.search(\"^(cpd\\d+)\", metabolite.id):\n",
      "/scratch/shared/code/ModelSEEDpy/modelseedpy/core/msmodelutl.py:30: DeprecationWarning: invalid escape sequence '\\d'\n",
      "  m = re.search(\"^(cpd\\d+)\", metabolite.id)\n",
      "/scratch/shared/code/ModelSEEDpy/modelseedpy/core/msmodelutl.py:35: DeprecationWarning: invalid escape sequence '\\d'\n",
      "  if re.search(\"^(cpd\\d+)\", item):\n",
      "/scratch/shared/code/ModelSEEDpy/modelseedpy/core/msmodelutl.py:36: DeprecationWarning: invalid escape sequence '\\d'\n",
      "  m = re.search(\"^(cpd\\d+)\", item)\n",
      "/scratch/shared/code/ModelSEEDpy/modelseedpy/core/msmodelutl.py:38: DeprecationWarning: invalid escape sequence '\\d'\n",
      "  elif re.search(\"^(cpd\\d+)\", metabolite.annotation[anno]):\n",
      "/scratch/shared/code/ModelSEEDpy/modelseedpy/core/msmodelutl.py:39: DeprecationWarning: invalid escape sequence '\\d'\n",
      "  m = re.search(\"^(cpd\\d+)\", metabolite.annotation[anno])\n",
      "/scratch/shared/code/ModelSEEDpy/modelseedpy/core/msmodelutl.py:45: DeprecationWarning: invalid escape sequence '\\d'\n",
      "  if re.search(\"^(rxn\\d+)\", reaction.id):\n",
      "/scratch/shared/code/ModelSEEDpy/modelseedpy/core/msmodelutl.py:46: DeprecationWarning: invalid escape sequence '\\d'\n",
      "  m = re.search(\"^(rxn\\d+)\", reaction.id)\n",
      "/scratch/shared/code/ModelSEEDpy/modelseedpy/core/msmodelutl.py:51: DeprecationWarning: invalid escape sequence '\\d'\n",
      "  if re.search(\"^(rxn\\d+)\", item):\n",
      "/scratch/shared/code/ModelSEEDpy/modelseedpy/core/msmodelutl.py:52: DeprecationWarning: invalid escape sequence '\\d'\n",
      "  m = re.search(\"^(rxn\\d+)\", item)\n",
      "/scratch/shared/code/ModelSEEDpy/modelseedpy/core/msmodelutl.py:54: DeprecationWarning: invalid escape sequence '\\d'\n",
      "  elif re.search(\"^(rxn\\d+)\", reaction.annotation[anno]):\n",
      "/scratch/shared/code/ModelSEEDpy/modelseedpy/core/msmodelutl.py:55: DeprecationWarning: invalid escape sequence '\\d'\n",
      "  m = re.search(\"^(rxn\\d+)\", reaction.annotation[anno])\n",
      "/scratch/shared/code/ModelSEEDpy/modelseedpy/core/msmodelutl.py:514: DeprecationWarning: invalid escape sequence '\\d'\n",
      "  if re.search(\"cpd\\d+_[a-z]+\", cpd.id):\n",
      "/scratch/shared/code/ModelSEEDpy/modelseedpy/core/msmodelutl.py:516: DeprecationWarning: invalid escape sequence '\\d'\n",
      "  refid = re.sub(\"_[a-z]\\d+$\", \"\", refid)\n",
      "/scratch/shared/code/ModelSEEDpy/modelseedpy/core/msmodelutl.py:560: DeprecationWarning: invalid escape sequence '\\d'\n",
      "  if re.search(\"rxn\\d+_[a-z]+\", rxn.id):\n",
      "/scratch/shared/code/ModelSEEDpy/modelseedpy/core/msmodelutl.py:562: DeprecationWarning: invalid escape sequence '\\d'\n",
      "  rxnref = re.sub(\"\\d+$\", \"\", rxnref)\n",
      "/scratch/shared/code/ModelSEEDpy/modelseedpy/core/msmodelutl.py:1362: DeprecationWarning: invalid escape sequence '\\d'\n",
      "  if re.search(\"(.+)_([a-z]+)(\\d*)$\", object.id) != None:\n",
      "/scratch/shared/code/ModelSEEDpy/modelseedpy/core/msmodelutl.py:1363: DeprecationWarning: invalid escape sequence '\\d'\n",
      "  m = re.search(\"(.+)_([a-z]+)(\\d*)$\", object.id)\n",
      "sys:1: ResourceWarning: Unclosed socket <zmq.Socket(zmq.PUSH) at 0x7f3f70e00050>\n",
      "ResourceWarning: Enable tracemalloc to get the object allocation traceback\n"
     ]
    },
    {
     "ename": "KeyboardInterrupt",
     "evalue": "",
     "output_type": "error",
     "traceback": [
      "\u001b[0;31m---------------------------------------------------------------------------\u001b[0m",
      "\u001b[0;31mKeyboardInterrupt\u001b[0m                         Traceback (most recent call last)",
      "Cell \u001b[0;32mIn[30], line 4\u001b[0m\n\u001b[1;32m      2\u001b[0m clade_list \u001b[38;5;241m=\u001b[39m [\u001b[38;5;124m\"\u001b[39m\u001b[38;5;124mother\u001b[39m\u001b[38;5;124m\"\u001b[39m,\u001b[38;5;124m\"\u001b[39m\u001b[38;5;124mPlanktophila\u001b[39m\u001b[38;5;124m\"\u001b[39m,\u001b[38;5;124m\"\u001b[39m\u001b[38;5;124mMethylopumilus\u001b[39m\u001b[38;5;124m\"\u001b[39m,\u001b[38;5;124m\"\u001b[39m\u001b[38;5;124mPolynucleobacter\u001b[39m\u001b[38;5;124m\"\u001b[39m,\u001b[38;5;124m\"\u001b[39m\u001b[38;5;124mPirellula_B\u001b[39m\u001b[38;5;124m\"\u001b[39m,\u001b[38;5;124m\"\u001b[39m\u001b[38;5;124mUBA3064\u001b[39m\u001b[38;5;124m\"\u001b[39m]\n\u001b[1;32m      3\u001b[0m \u001b[38;5;28;01mfor\u001b[39;00m clade \u001b[38;5;129;01min\u001b[39;00m clade_list:\n\u001b[0;32m----> 4\u001b[0m     \u001b[43mutil\u001b[49m\u001b[38;5;241;43m.\u001b[39;49m\u001b[43mmsrecon\u001b[49m\u001b[38;5;241;43m.\u001b[39;49m\u001b[43mbuild_metabolic_models\u001b[49m\u001b[43m(\u001b[49m\u001b[43m{\u001b[49m\n\u001b[1;32m      5\u001b[0m \u001b[43m        \u001b[49m\u001b[38;5;124;43m\"\u001b[39;49m\u001b[38;5;124;43mworkspace\u001b[39;49m\u001b[38;5;124;43m\"\u001b[39;49m\u001b[43m:\u001b[49m\u001b[38;5;241;43m174284\u001b[39;49m\u001b[43m,\u001b[49m\n\u001b[1;32m      6\u001b[0m \u001b[43m        \u001b[49m\u001b[38;5;124;43m\"\u001b[39;49m\u001b[38;5;124;43mgenome_refs\u001b[39;49m\u001b[38;5;124;43m\"\u001b[39;49m\u001b[43m:\u001b[49m\u001b[43m[\u001b[49m\u001b[38;5;124;43m\"\u001b[39;49m\u001b[38;5;124;43m174284/\u001b[39;49m\u001b[38;5;124;43m\"\u001b[39;49m\u001b[38;5;241;43m+\u001b[39;49m\u001b[43mclade\u001b[49m\u001b[38;5;241;43m+\u001b[39;49m\u001b[38;5;124;43m\"\u001b[39;49m\u001b[38;5;124;43m.genome\u001b[39;49m\u001b[38;5;124;43m\"\u001b[39;49m\u001b[43m]\u001b[49m\u001b[43m,\u001b[49m\n\u001b[1;32m      7\u001b[0m \u001b[43m        \u001b[49m\u001b[38;5;124;43m\"\u001b[39;49m\u001b[38;5;124;43mrun_gapfilling\u001b[39;49m\u001b[38;5;124;43m\"\u001b[39;49m\u001b[43m:\u001b[49m\u001b[38;5;28;43;01mTrue\u001b[39;49;00m\u001b[43m,\u001b[49m\n\u001b[1;32m      8\u001b[0m \u001b[43m        \u001b[49m\u001b[38;5;124;43m\"\u001b[39;49m\u001b[38;5;124;43matp_safe\u001b[39;49m\u001b[38;5;124;43m\"\u001b[39;49m\u001b[43m:\u001b[49m\u001b[38;5;28;43;01mTrue\u001b[39;49;00m\u001b[43m,\u001b[49m\n\u001b[1;32m      9\u001b[0m \u001b[43m        \u001b[49m\u001b[38;5;124;43m\"\u001b[39;49m\u001b[38;5;124;43mforced_atp_list\u001b[39;49m\u001b[38;5;124;43m\"\u001b[39;49m\u001b[43m:\u001b[49m\u001b[43m[\u001b[49m\u001b[43m]\u001b[49m\u001b[43m,\u001b[49m\n\u001b[1;32m     10\u001b[0m \u001b[43m        \u001b[49m\u001b[38;5;124;43m\"\u001b[39;49m\u001b[38;5;124;43mgapfilling_media_list\u001b[39;49m\u001b[38;5;124;43m\"\u001b[39;49m\u001b[43m:\u001b[49m\u001b[38;5;28;43;01mNone\u001b[39;49;00m\u001b[43m,\u001b[49m\n\u001b[1;32m     11\u001b[0m \u001b[43m        \u001b[49m\u001b[38;5;124;43m\"\u001b[39;49m\u001b[38;5;124;43msuffix\u001b[39;49m\u001b[38;5;124;43m\"\u001b[39;49m\u001b[43m:\u001b[49m\u001b[38;5;124;43m\"\u001b[39;49m\u001b[38;5;124;43m.mdl\u001b[39;49m\u001b[38;5;124;43m\"\u001b[39;49m\u001b[43m,\u001b[49m\n\u001b[1;32m     12\u001b[0m \u001b[43m        \u001b[49m\u001b[38;5;124;43m\"\u001b[39;49m\u001b[38;5;124;43mcore_template\u001b[39;49m\u001b[38;5;124;43m\"\u001b[39;49m\u001b[43m:\u001b[49m\u001b[38;5;124;43m\"\u001b[39;49m\u001b[38;5;124;43mauto\u001b[39;49m\u001b[38;5;124;43m\"\u001b[39;49m\u001b[43m,\u001b[49m\n\u001b[1;32m     13\u001b[0m \u001b[43m        \u001b[49m\u001b[38;5;124;43m\"\u001b[39;49m\u001b[38;5;124;43mgs_template\u001b[39;49m\u001b[38;5;124;43m\"\u001b[39;49m\u001b[43m:\u001b[49m\u001b[38;5;124;43m\"\u001b[39;49m\u001b[38;5;124;43mauto\u001b[39;49m\u001b[38;5;124;43m\"\u001b[39;49m\u001b[43m,\u001b[49m\n\u001b[1;32m     14\u001b[0m \u001b[43m        \u001b[49m\u001b[38;5;124;43m\"\u001b[39;49m\u001b[38;5;124;43mgs_template_ref\u001b[39;49m\u001b[38;5;124;43m\"\u001b[39;49m\u001b[43m:\u001b[49m\u001b[38;5;28;43;01mNone\u001b[39;49;00m\u001b[43m,\u001b[49m\n\u001b[1;32m     15\u001b[0m \u001b[43m        \u001b[49m\u001b[38;5;124;43m\"\u001b[39;49m\u001b[38;5;124;43mcore_template_ref\u001b[39;49m\u001b[38;5;124;43m\"\u001b[39;49m\u001b[43m:\u001b[49m\u001b[38;5;28;43;01mNone\u001b[39;49;00m\u001b[43m,\u001b[49m\n\u001b[1;32m     16\u001b[0m \u001b[43m        \u001b[49m\u001b[38;5;124;43m\"\u001b[39;49m\u001b[38;5;124;43mtemplate_reactions_only\u001b[39;49m\u001b[38;5;124;43m\"\u001b[39;49m\u001b[43m:\u001b[49m\u001b[38;5;28;43;01mTrue\u001b[39;49;00m\u001b[43m,\u001b[49m\n\u001b[1;32m     17\u001b[0m \u001b[43m        \u001b[49m\u001b[38;5;124;43m\"\u001b[39;49m\u001b[38;5;124;43moutput_core_models\u001b[39;49m\u001b[38;5;124;43m\"\u001b[39;49m\u001b[43m:\u001b[49m\u001b[38;5;28;43;01mFalse\u001b[39;49;00m\u001b[43m,\u001b[49m\n\u001b[1;32m     18\u001b[0m \u001b[43m        \u001b[49m\u001b[38;5;124;43m\"\u001b[39;49m\u001b[38;5;124;43mautomated_atp_evaluation\u001b[39;49m\u001b[38;5;124;43m\"\u001b[39;49m\u001b[43m:\u001b[49m\u001b[38;5;28;43;01mTrue\u001b[39;49;00m\u001b[43m,\u001b[49m\n\u001b[1;32m     19\u001b[0m \u001b[43m        \u001b[49m\u001b[38;5;124;43m\"\u001b[39;49m\u001b[38;5;124;43matp_medias\u001b[39;49m\u001b[38;5;124;43m\"\u001b[39;49m\u001b[43m:\u001b[49m\u001b[43m[\u001b[49m\u001b[43m]\u001b[49m\u001b[43m,\u001b[49m\n\u001b[1;32m     20\u001b[0m \u001b[43m        \u001b[49m\u001b[38;5;124;43m\"\u001b[39;49m\u001b[38;5;124;43mload_default_medias\u001b[39;49m\u001b[38;5;124;43m\"\u001b[39;49m\u001b[43m:\u001b[49m\u001b[38;5;28;43;01mTrue\u001b[39;49;00m\u001b[43m,\u001b[49m\n\u001b[1;32m     21\u001b[0m \u001b[43m        \u001b[49m\u001b[38;5;124;43m\"\u001b[39;49m\u001b[38;5;124;43mmax_gapfilling\u001b[39;49m\u001b[38;5;124;43m\"\u001b[39;49m\u001b[43m:\u001b[49m\u001b[38;5;241;43m5\u001b[39;49m\u001b[43m,\u001b[49m\n\u001b[1;32m     22\u001b[0m \u001b[43m        \u001b[49m\u001b[38;5;124;43m\"\u001b[39;49m\u001b[38;5;124;43mgapfilling_delta\u001b[39;49m\u001b[38;5;124;43m\"\u001b[39;49m\u001b[43m:\u001b[49m\u001b[38;5;241;43m0\u001b[39;49m\u001b[43m,\u001b[49m\n\u001b[1;32m     23\u001b[0m \u001b[43m        \u001b[49m\u001b[38;5;124;43m\"\u001b[39;49m\u001b[38;5;124;43mreturn_model_objects\u001b[39;49m\u001b[38;5;124;43m\"\u001b[39;49m\u001b[43m:\u001b[49m\u001b[38;5;28;43;01mFalse\u001b[39;49;00m\u001b[43m,\u001b[49m\n\u001b[1;32m     24\u001b[0m \u001b[43m        \u001b[49m\u001b[38;5;124;43m\"\u001b[39;49m\u001b[38;5;124;43mreturn_data\u001b[39;49m\u001b[38;5;124;43m\"\u001b[39;49m\u001b[43m:\u001b[49m\u001b[38;5;28;43;01mFalse\u001b[39;49;00m\u001b[43m,\u001b[49m\n\u001b[1;32m     25\u001b[0m \u001b[43m        \u001b[49m\u001b[38;5;124;43m\"\u001b[39;49m\u001b[38;5;124;43msave_report_to_kbase\u001b[39;49m\u001b[38;5;124;43m\"\u001b[39;49m\u001b[43m:\u001b[49m\u001b[38;5;28;43;01mFalse\u001b[39;49;00m\u001b[43m,\u001b[49m\n\u001b[1;32m     26\u001b[0m \u001b[43m        \u001b[49m\u001b[38;5;124;43m\"\u001b[39;49m\u001b[38;5;124;43mchange_to_complete\u001b[39;49m\u001b[38;5;124;43m\"\u001b[39;49m\u001b[43m:\u001b[49m\u001b[38;5;28;43;01mFalse\u001b[39;49;00m\u001b[43m,\u001b[49m\n\u001b[1;32m     27\u001b[0m \u001b[43m        \u001b[49m\u001b[38;5;124;43m\"\u001b[39;49m\u001b[38;5;124;43mgapfilling_mode\u001b[39;49m\u001b[38;5;124;43m\"\u001b[39;49m\u001b[43m:\u001b[49m\u001b[38;5;124;43m\"\u001b[39;49m\u001b[38;5;124;43mCumulative\u001b[39;49m\u001b[38;5;124;43m\"\u001b[39;49m\u001b[43m,\u001b[49m\n\u001b[1;32m     28\u001b[0m \u001b[43m        \u001b[49m\u001b[38;5;124;43m\"\u001b[39;49m\u001b[38;5;124;43mbase_media\u001b[39;49m\u001b[38;5;124;43m\"\u001b[39;49m\u001b[43m:\u001b[49m\u001b[38;5;28;43;01mNone\u001b[39;49;00m\u001b[43m,\u001b[49m\n\u001b[1;32m     29\u001b[0m \u001b[43m        \u001b[49m\u001b[38;5;124;43m\"\u001b[39;49m\u001b[38;5;124;43mcompound_list\u001b[39;49m\u001b[38;5;124;43m\"\u001b[39;49m\u001b[43m:\u001b[49m\u001b[38;5;28;43;01mNone\u001b[39;49;00m\u001b[43m,\u001b[49m\n\u001b[1;32m     30\u001b[0m \u001b[43m        \u001b[49m\u001b[38;5;124;43m\"\u001b[39;49m\u001b[38;5;124;43mbase_media_target_element\u001b[39;49m\u001b[38;5;124;43m\"\u001b[39;49m\u001b[43m:\u001b[49m\u001b[38;5;124;43m\"\u001b[39;49m\u001b[38;5;124;43mC\u001b[39;49m\u001b[38;5;124;43m\"\u001b[39;49m\n\u001b[1;32m     31\u001b[0m \u001b[43m    \u001b[49m\u001b[43m}\u001b[49m\u001b[43m)\u001b[49m\n",
      "File \u001b[0;32m/scratch/shared/code/KB-ModelSEEDReconstruction/lib/ModelSEEDReconstruction/modelseedrecon.py:155\u001b[0m, in \u001b[0;36mModelSEEDRecon.build_metabolic_models\u001b[0;34m(self, params)\u001b[0m\n\u001b[1;32m    153\u001b[0m \u001b[38;5;28;01mif\u001b[39;00m params[\u001b[38;5;124m\"\u001b[39m\u001b[38;5;124matp_safe\u001b[39m\u001b[38;5;124m\"\u001b[39m]:\n\u001b[1;32m    154\u001b[0m     atpcorrection \u001b[38;5;241m=\u001b[39m MSATPCorrection(mdlutl,\u001b[38;5;28mself\u001b[39m\u001b[38;5;241m.\u001b[39mcore_template,params[\u001b[38;5;124m\"\u001b[39m\u001b[38;5;124matp_medias\u001b[39m\u001b[38;5;124m\"\u001b[39m],load_default_medias\u001b[38;5;241m=\u001b[39mparams[\u001b[38;5;124m\"\u001b[39m\u001b[38;5;124mload_default_medias\u001b[39m\u001b[38;5;124m\"\u001b[39m],max_gapfilling\u001b[38;5;241m=\u001b[39mparams[\u001b[38;5;124m\"\u001b[39m\u001b[38;5;124mmax_gapfilling\u001b[39m\u001b[38;5;124m\"\u001b[39m],gapfilling_delta\u001b[38;5;241m=\u001b[39mparams[\u001b[38;5;124m\"\u001b[39m\u001b[38;5;124mgapfilling_delta\u001b[39m\u001b[38;5;124m\"\u001b[39m],forced_media\u001b[38;5;241m=\u001b[39mparams[\u001b[38;5;124m\"\u001b[39m\u001b[38;5;124mforced_atp_list\u001b[39m\u001b[38;5;124m\"\u001b[39m],default_media_path\u001b[38;5;241m=\u001b[39m\u001b[38;5;28mself\u001b[39m\u001b[38;5;241m.\u001b[39mmodule_dir\u001b[38;5;241m+\u001b[39m\u001b[38;5;124m\"\u001b[39m\u001b[38;5;124m/data/atp_medias.tsv\u001b[39m\u001b[38;5;124m\"\u001b[39m)\n\u001b[0;32m--> 155\u001b[0m     tests \u001b[38;5;241m=\u001b[39m \u001b[43matpcorrection\u001b[49m\u001b[38;5;241;43m.\u001b[39;49m\u001b[43mrun_atp_correction\u001b[49m\u001b[43m(\u001b[49m\u001b[43m)\u001b[49m\n\u001b[1;32m    156\u001b[0m     current_output[\u001b[38;5;124m\"\u001b[39m\u001b[38;5;124mCore GF\u001b[39m\u001b[38;5;124m\"\u001b[39m] \u001b[38;5;241m=\u001b[39m \u001b[38;5;28mlen\u001b[39m(atpcorrection\u001b[38;5;241m.\u001b[39mcumulative_core_gapfilling)\n\u001b[1;32m    157\u001b[0m \u001b[38;5;66;03m#Setting the model ID so the model is saved with the correct name in KBase\u001b[39;00m\n",
      "File \u001b[0;32m/scratch/shared/code/ModelSEEDpy/modelseedpy/core/msatpcorrection.py:594\u001b[0m, in \u001b[0;36mMSATPCorrection.run_atp_correction\u001b[0;34m(self)\u001b[0m\n\u001b[1;32m    592\u001b[0m \u001b[38;5;28mself\u001b[39m\u001b[38;5;241m.\u001b[39mapply_growth_media_gapfilling()\n\u001b[1;32m    593\u001b[0m \u001b[38;5;66;03m# self.evaluate_growth_media()\u001b[39;00m\n\u001b[0;32m--> 594\u001b[0m \u001b[38;5;28;43mself\u001b[39;49m\u001b[38;5;241;43m.\u001b[39;49m\u001b[43mexpand_model_to_genome_scale\u001b[49m\u001b[43m(\u001b[49m\u001b[43m)\u001b[49m\n\u001b[1;32m    595\u001b[0m \u001b[38;5;28;01mreturn\u001b[39;00m \u001b[38;5;28mself\u001b[39m\u001b[38;5;241m.\u001b[39mbuild_tests()\n",
      "File \u001b[0;32m/scratch/shared/code/ModelSEEDpy/modelseedpy/core/msatpcorrection.py:465\u001b[0m, in \u001b[0;36mMSATPCorrection.expand_model_to_genome_scale\u001b[0;34m(self)\u001b[0m\n\u001b[1;32m    463\u001b[0m \u001b[38;5;28mself\u001b[39m\u001b[38;5;241m.\u001b[39mrestore_noncore_reactions(noncore\u001b[38;5;241m=\u001b[39m\u001b[38;5;28;01mTrue\u001b[39;00m, othercompartment\u001b[38;5;241m=\u001b[39m\u001b[38;5;28;01mFalse\u001b[39;00m)\n\u001b[1;32m    464\u001b[0m \u001b[38;5;66;03m# Extending model with non core reactions while retaining ATP accuracy\u001b[39;00m\n\u001b[0;32m--> 465\u001b[0m \u001b[38;5;28mself\u001b[39m\u001b[38;5;241m.\u001b[39mfiltered_noncore \u001b[38;5;241m=\u001b[39m \u001b[38;5;28;43mself\u001b[39;49m\u001b[38;5;241;43m.\u001b[39;49m\u001b[43mmodelutl\u001b[49m\u001b[38;5;241;43m.\u001b[39;49m\u001b[43mreaction_expansion_test\u001b[49m\u001b[43m(\u001b[49m\n\u001b[1;32m    466\u001b[0m \u001b[43m    \u001b[49m\u001b[38;5;28;43mself\u001b[39;49m\u001b[38;5;241;43m.\u001b[39;49m\u001b[43mnoncore_reactions\u001b[49m\u001b[43m,\u001b[49m\u001b[43m \u001b[49m\u001b[43mtests\u001b[49m\u001b[43m,\u001b[49m\u001b[43m \u001b[49m\u001b[43mattribute_label\u001b[49m\u001b[38;5;241;43m=\u001b[39;49m\u001b[38;5;124;43m\"\u001b[39;49m\u001b[38;5;124;43matp_expansion_filter\u001b[39;49m\u001b[38;5;124;43m\"\u001b[39;49m\n\u001b[1;32m    467\u001b[0m \u001b[43m\u001b[49m\u001b[43m)\u001b[49m\n\u001b[1;32m    468\u001b[0m \u001b[38;5;66;03m# Removing filtered reactions\u001b[39;00m\n\u001b[1;32m    469\u001b[0m \u001b[38;5;28;01mfor\u001b[39;00m item \u001b[38;5;129;01min\u001b[39;00m \u001b[38;5;28mself\u001b[39m\u001b[38;5;241m.\u001b[39mfiltered_noncore:\n",
      "File \u001b[0;32m/scratch/shared/code/ModelSEEDpy/modelseedpy/core/msmodelutl.py:1140\u001b[0m, in \u001b[0;36mMSModelUtil.reaction_expansion_test\u001b[0;34m(self, reaction_list, condition_list, binary_search, attribute_label, positive_growth)\u001b[0m\n\u001b[1;32m   1138\u001b[0m done \u001b[38;5;241m=\u001b[39m \u001b[38;5;28;01mFalse\u001b[39;00m\n\u001b[1;32m   1139\u001b[0m \u001b[38;5;28;01mwhile\u001b[39;00m \u001b[38;5;129;01mnot\u001b[39;00m done:\n\u001b[0;32m-> 1140\u001b[0m     new_filtered \u001b[38;5;241m=\u001b[39m \u001b[38;5;28;43mself\u001b[39;49m\u001b[38;5;241;43m.\u001b[39;49m\u001b[43mbinary_expansion_test\u001b[49m\u001b[43m(\u001b[49m\n\u001b[1;32m   1141\u001b[0m \u001b[43m        \u001b[49m\u001b[43mreaction_list\u001b[49m\u001b[43m,\u001b[49m\u001b[43m \u001b[49m\u001b[43mcondition\u001b[49m\u001b[43m,\u001b[49m\u001b[43m \u001b[49m\u001b[43mcurrmodel\u001b[49m\u001b[43m,\u001b[49m\u001b[43mpositive_growth\u001b[49m\u001b[38;5;241;43m=\u001b[39;49m\u001b[43mpositive_growth\u001b[49m\n\u001b[1;32m   1142\u001b[0m \u001b[43m    \u001b[49m\u001b[43m)\u001b[49m\n\u001b[1;32m   1143\u001b[0m     \u001b[38;5;28;01mfor\u001b[39;00m item \u001b[38;5;129;01min\u001b[39;00m new_filtered:\n\u001b[1;32m   1144\u001b[0m         \u001b[38;5;28;01mif\u001b[39;00m item \u001b[38;5;129;01mnot\u001b[39;00m \u001b[38;5;129;01min\u001b[39;00m filtered_list:\n",
      "File \u001b[0;32m/scratch/shared/code/ModelSEEDpy/modelseedpy/core/msmodelutl.py:1060\u001b[0m, in \u001b[0;36mMSModelUtil.binary_expansion_test\u001b[0;34m(self, reaction_list, condition, currmodel, depth, positive_growth)\u001b[0m\n\u001b[1;32m   1058\u001b[0m             item[\u001b[38;5;241m0\u001b[39m]\u001b[38;5;241m.\u001b[39mlower_bound \u001b[38;5;241m=\u001b[39m \u001b[38;5;241m0\u001b[39m\n\u001b[1;32m   1059\u001b[0m \u001b[38;5;66;03m# Submitting first half of reactions for testing\u001b[39;00m\n\u001b[0;32m-> 1060\u001b[0m new_filter \u001b[38;5;241m=\u001b[39m \u001b[38;5;28;43mself\u001b[39;49m\u001b[38;5;241;43m.\u001b[39;49m\u001b[43mbinary_expansion_test\u001b[49m\u001b[43m(\u001b[49m\n\u001b[1;32m   1061\u001b[0m \u001b[43m    \u001b[49m\u001b[43msub_lists\u001b[49m\u001b[43m[\u001b[49m\u001b[38;5;241;43m0\u001b[39;49m\u001b[43m]\u001b[49m\u001b[43m,\u001b[49m\u001b[43m \u001b[49m\u001b[43mcondition\u001b[49m\u001b[43m,\u001b[49m\u001b[43m \u001b[49m\u001b[43mcurrmodel\u001b[49m\u001b[43m,\u001b[49m\u001b[43mdepth\u001b[49m\u001b[38;5;241;43m=\u001b[39;49m\u001b[43mnewdepth\u001b[49m\u001b[43m,\u001b[49m\u001b[43mpositive_growth\u001b[49m\u001b[38;5;241;43m=\u001b[39;49m\u001b[43mpositive_growth\u001b[49m\n\u001b[1;32m   1062\u001b[0m \u001b[43m\u001b[49m\u001b[43m)\u001b[49m\n\u001b[1;32m   1063\u001b[0m \u001b[38;5;28;01mfor\u001b[39;00m item \u001b[38;5;129;01min\u001b[39;00m new_filter:\n\u001b[1;32m   1064\u001b[0m     filtered_list\u001b[38;5;241m.\u001b[39mappend(item)\n",
      "File \u001b[0;32m/scratch/shared/code/ModelSEEDpy/modelseedpy/core/msmodelutl.py:1072\u001b[0m, in \u001b[0;36mMSModelUtil.binary_expansion_test\u001b[0;34m(self, reaction_list, condition, currmodel, depth, positive_growth)\u001b[0m\n\u001b[1;32m   1070\u001b[0m \u001b[38;5;28;01mif\u001b[39;00m i \u001b[38;5;241m>\u001b[39m\u001b[38;5;241m=\u001b[39m midway_point:\n\u001b[1;32m   1071\u001b[0m     \u001b[38;5;28;01mif\u001b[39;00m item[\u001b[38;5;241m1\u001b[39m] \u001b[38;5;241m==\u001b[39m \u001b[38;5;124m\"\u001b[39m\u001b[38;5;124m>\u001b[39m\u001b[38;5;124m\"\u001b[39m:\n\u001b[0;32m-> 1072\u001b[0m         \u001b[43mitem\u001b[49m\u001b[43m[\u001b[49m\u001b[38;5;241;43m0\u001b[39;49m\u001b[43m]\u001b[49m\u001b[38;5;241;43m.\u001b[39;49m\u001b[43mupper_bound\u001b[49m \u001b[38;5;241m=\u001b[39m original_bound[i]\n\u001b[1;32m   1073\u001b[0m     \u001b[38;5;28;01melse\u001b[39;00m:\n\u001b[1;32m   1074\u001b[0m         item[\u001b[38;5;241m0\u001b[39m]\u001b[38;5;241m.\u001b[39mlower_bound \u001b[38;5;241m=\u001b[39m original_bound[i]\n",
      "File \u001b[0;32m/opt/env/python3_modelseed/lib/python3.11/site-packages/cobra/util/context.py:111\u001b[0m, in \u001b[0;36mresettable.<locals>.wrapper\u001b[0;34m(self, new_value)\u001b[0m\n\u001b[1;32m    108\u001b[0m         \u001b[38;5;28;01mreturn\u001b[39;00m\n\u001b[1;32m    109\u001b[0m     context(partial(func, \u001b[38;5;28mself\u001b[39m, old_value))\n\u001b[0;32m--> 111\u001b[0m \u001b[43mfunc\u001b[49m\u001b[43m(\u001b[49m\u001b[38;5;28;43mself\u001b[39;49m\u001b[43m,\u001b[49m\u001b[43m \u001b[49m\u001b[43mnew_value\u001b[49m\u001b[43m)\u001b[49m\n",
      "File \u001b[0;32m/opt/env/python3_modelseed/lib/python3.11/site-packages/cobra/core/reaction.py:413\u001b[0m, in \u001b[0;36mReaction.upper_bound\u001b[0;34m(self, value)\u001b[0m\n\u001b[1;32m    411\u001b[0m \u001b[38;5;28mself\u001b[39m\u001b[38;5;241m.\u001b[39m_check_bounds(\u001b[38;5;28mself\u001b[39m\u001b[38;5;241m.\u001b[39m_lower_bound, value)\n\u001b[1;32m    412\u001b[0m \u001b[38;5;28mself\u001b[39m\u001b[38;5;241m.\u001b[39m_upper_bound \u001b[38;5;241m=\u001b[39m value\n\u001b[0;32m--> 413\u001b[0m \u001b[38;5;28;43mself\u001b[39;49m\u001b[38;5;241;43m.\u001b[39;49m\u001b[43mupdate_variable_bounds\u001b[49m\u001b[43m(\u001b[49m\u001b[43m)\u001b[49m\n",
      "File \u001b[0;32m/opt/env/python3_modelseed/lib/python3.11/site-packages/cobra/core/reaction.py:329\u001b[0m, in \u001b[0;36mReaction.update_variable_bounds\u001b[0;34m(self)\u001b[0m\n\u001b[1;32m    325\u001b[0m \u001b[38;5;28;01melse\u001b[39;00m:\n\u001b[1;32m    326\u001b[0m     \u001b[38;5;28mself\u001b[39m\u001b[38;5;241m.\u001b[39mforward_variable\u001b[38;5;241m.\u001b[39mset_bounds(\n\u001b[1;32m    327\u001b[0m         lb\u001b[38;5;241m=\u001b[39m\u001b[38;5;241m0\u001b[39m, ub\u001b[38;5;241m=\u001b[39m\u001b[38;5;28;01mNone\u001b[39;00m \u001b[38;5;28;01mif\u001b[39;00m isinf(\u001b[38;5;28mself\u001b[39m\u001b[38;5;241m.\u001b[39m_upper_bound) \u001b[38;5;28;01melse\u001b[39;00m \u001b[38;5;28mself\u001b[39m\u001b[38;5;241m.\u001b[39m_upper_bound\n\u001b[1;32m    328\u001b[0m     )\n\u001b[0;32m--> 329\u001b[0m     \u001b[38;5;28;43mself\u001b[39;49m\u001b[38;5;241;43m.\u001b[39;49m\u001b[43mreverse_variable\u001b[49m\u001b[38;5;241m.\u001b[39mset_bounds(\n\u001b[1;32m    330\u001b[0m         lb\u001b[38;5;241m=\u001b[39m\u001b[38;5;241m0\u001b[39m, ub\u001b[38;5;241m=\u001b[39m\u001b[38;5;28;01mNone\u001b[39;00m \u001b[38;5;28;01mif\u001b[39;00m isinf(\u001b[38;5;28mself\u001b[39m\u001b[38;5;241m.\u001b[39m_lower_bound) \u001b[38;5;28;01melse\u001b[39;00m \u001b[38;5;241m-\u001b[39m\u001b[38;5;28mself\u001b[39m\u001b[38;5;241m.\u001b[39m_lower_bound\n\u001b[1;32m    331\u001b[0m     )\n",
      "File \u001b[0;32m/opt/env/python3_modelseed/lib/python3.11/site-packages/cobra/core/reaction.py:205\u001b[0m, in \u001b[0;36mReaction.reverse_variable\u001b[0;34m(self)\u001b[0m\n\u001b[1;32m    196\u001b[0m \u001b[38;5;250m\u001b[39m\u001b[38;5;124;03m\"\"\"Get an optlang variable representing the reverse flux.\u001b[39;00m\n\u001b[1;32m    197\u001b[0m \n\u001b[1;32m    198\u001b[0m \u001b[38;5;124;03mReturns\u001b[39;00m\n\u001b[0;32m   (...)\u001b[0m\n\u001b[1;32m    202\u001b[0m \u001b[38;5;124;03m    not associated with a model.\u001b[39;00m\n\u001b[1;32m    203\u001b[0m \u001b[38;5;124;03m\"\"\"\u001b[39;00m\n\u001b[1;32m    204\u001b[0m \u001b[38;5;28;01mif\u001b[39;00m \u001b[38;5;28mself\u001b[39m\u001b[38;5;241m.\u001b[39mmodel \u001b[38;5;129;01mis\u001b[39;00m \u001b[38;5;129;01mnot\u001b[39;00m \u001b[38;5;28;01mNone\u001b[39;00m:\n\u001b[0;32m--> 205\u001b[0m     \u001b[38;5;28;01mreturn\u001b[39;00m \u001b[38;5;28mself\u001b[39m\u001b[38;5;241m.\u001b[39mmodel\u001b[38;5;241m.\u001b[39mvariables[\u001b[38;5;28;43mself\u001b[39;49m\u001b[38;5;241;43m.\u001b[39;49m\u001b[43mreverse_id\u001b[49m]\n\u001b[1;32m    206\u001b[0m \u001b[38;5;28;01melse\u001b[39;00m:\n\u001b[1;32m    207\u001b[0m     \u001b[38;5;28;01mreturn\u001b[39;00m \u001b[38;5;28;01mNone\u001b[39;00m\n",
      "File \u001b[0;32m/opt/env/python3_modelseed/lib/python3.11/site-packages/cobra/core/reaction.py:159\u001b[0m, in \u001b[0;36mReaction.reverse_id\u001b[0;34m(self)\u001b[0m\n\u001b[1;32m    148\u001b[0m \u001b[38;5;129m@property\u001b[39m\n\u001b[1;32m    149\u001b[0m \u001b[38;5;28;01mdef\u001b[39;00m \u001b[38;5;21mreverse_id\u001b[39m(\u001b[38;5;28mself\u001b[39m) \u001b[38;5;241m-\u001b[39m\u001b[38;5;241m>\u001b[39m \u001b[38;5;28mstr\u001b[39m:\n\u001b[1;32m    150\u001b[0m \u001b[38;5;250m    \u001b[39m\u001b[38;5;124;03m\"\"\"Generate the id of reverse_variable from the reaction's id.\u001b[39;00m\n\u001b[1;32m    151\u001b[0m \n\u001b[1;32m    152\u001b[0m \u001b[38;5;124;03m    Returns\u001b[39;00m\n\u001b[0;32m   (...)\u001b[0m\n\u001b[1;32m    156\u001b[0m \u001b[38;5;124;03m        of the utf-8 encoded id.\u001b[39;00m\n\u001b[1;32m    157\u001b[0m \u001b[38;5;124;03m    \"\"\"\u001b[39;00m\n\u001b[1;32m    158\u001b[0m     \u001b[38;5;28;01mreturn\u001b[39;00m \u001b[38;5;124m\"\u001b[39m\u001b[38;5;124m_\u001b[39m\u001b[38;5;124m\"\u001b[39m\u001b[38;5;241m.\u001b[39mjoin(\n\u001b[0;32m--> 159\u001b[0m         (\u001b[38;5;28mself\u001b[39m\u001b[38;5;241m.\u001b[39mid, \u001b[38;5;124m\"\u001b[39m\u001b[38;5;124mreverse\u001b[39m\u001b[38;5;124m\"\u001b[39m, hashlib\u001b[38;5;241m.\u001b[39mmd5(\u001b[38;5;28mself\u001b[39m\u001b[38;5;241m.\u001b[39mid\u001b[38;5;241m.\u001b[39mencode(\u001b[38;5;124m\"\u001b[39m\u001b[38;5;124mutf-8\u001b[39m\u001b[38;5;124m\"\u001b[39m))\u001b[38;5;241m.\u001b[39mhexdigest()[\u001b[38;5;241m0\u001b[39m:\u001b[38;5;241m5\u001b[39m])\n\u001b[1;32m    160\u001b[0m     )\n",
      "\u001b[0;31mKeyboardInterrupt\u001b[0m: "
     ]
    }
   ],
   "source": [
    "import requests\n",
    "import os\n",
    "import io\n",
    "import sys\n",
    "from biokbase.workspace.client import Workspace\n",
    "from biokbase.narrative.jobs.appmanager import AppManager\n",
    "current_ws = os.environ['KB_WORKSPACE_ID']\n",
    "\n",
    "ws_client = Workspace()\n",
    "genomes = ws_client.list_objects({\"ids\":[181152],\"type\":\"KBaseGenomes.Genome\"})\n",
    "genomes = genomes[2:]\n",
    "for genome in genomes:\n",
    "    AppManager().run_app(\n",
    "        \"ModelSEEDReconstruction/build_metabolic_models\",\n",
    "        {\n",
    "            \"genome_refs\": [\"181152/\"+genome[1]],\n",
    "            \"suffix\": \".mdl\",\n",
    "            \"run_gapfilling\": 1,\n",
    "            \"gapfilling_media_list\": [\"181152/AuxoMedia\",\"181152/AnaerobicGMM\"],\n",
    "            \"change_to_complete\": 0,\n",
    "            \"atp_safe\": 1,\n",
    "            \"forced_atp_list\": [],\n",
    "            \"gs_template\": \"auto\",\n",
    "            \"gs_template_ref\": None,\n",
    "            \"core_template_ref\": None,\n",
    "            \"gapfilling_mode\": \"Sequential\",\n",
    "            \"expression_refs\": [],\n",
    "            \"expression_conditions\": []\n",
    "        },\n",
    "        tag=\"release\",\n",
    "        version=\"2.0.0\",\n",
    "        cell_id=\"c4caea9f-c131-4b17-88e3-19e2b54b655a\",\n",
    "        run_id=\"9e3a761b-3ca7-4b5a-9197-ae4c858edef2\"\n",
    "    )"
   ]
  },
  {
   "cell_type": "markdown",
   "metadata": {
    "jp-MarkdownHeadingCollapsed": true,
    "tags": []
   },
   "source": [
    "# Adding probabilities to ASV models"
   ]
  },
  {
   "cell_type": "code",
   "execution_count": 24,
   "metadata": {
    "collapsed": true,
    "jupyter": {
     "outputs_hidden": true
    },
    "tags": []
   },
   "outputs": [
    {
     "name": "stderr",
     "output_type": "stream",
     "text": [
      "1714110491.7230527 INFO: metabolites 1085\n",
      "1714110495.821199 INFO: reactions 988\n",
      "1714110495.9441411 INFO: The current solver interface glpk doesn't support setting the optimality tolerance.\n",
      "1714110496.3080332 INFO: Default biomass: [bio1]\n",
      "1714110496.3407097 INFO: Setting FBAModel computed_attributes to mdlutl attributes\n",
      "1714110498.8682323 INFO: metabolites 1027\n",
      "1714110502.4806764 INFO: reactions 988\n",
      "1714110502.5843725 INFO: The current solver interface glpk doesn't support setting the optimality tolerance.\n",
      "1714110502.9308474 INFO: Default biomass: [bio1]\n",
      "1714110502.9558785 INFO: Setting FBAModel computed_attributes to mdlutl attributes\n",
      "1714110504.6506052 INFO: metabolites 909\n",
      "1714110508.013077 INFO: reactions 868\n",
      "1714110508.1104188 INFO: The current solver interface glpk doesn't support setting the optimality tolerance.\n",
      "1714110508.419499 INFO: Default biomass: [bio1]\n",
      "1714110508.4425995 INFO: Setting FBAModel computed_attributes to mdlutl attributes\n",
      "1714110509.9471219 INFO: metabolites 1388\n",
      "1714110516.6483202 INFO: reactions 1420\n",
      "1714110516.8123858 INFO: The current solver interface glpk doesn't support setting the optimality tolerance.\n",
      "1714110517.324524 INFO: Default biomass: [bio1]\n",
      "1714110517.3627746 INFO: Setting FBAModel computed_attributes to mdlutl attributes\n",
      "1714110519.0348067 INFO: metabolites 840\n",
      "1714110521.6815834 INFO: reactions 769\n",
      "1714110521.765312 INFO: The current solver interface glpk doesn't support setting the optimality tolerance.\n",
      "1714110522.044502 INFO: Default biomass: [bio1]\n",
      "1714110522.0650613 INFO: Setting FBAModel computed_attributes to mdlutl attributes\n",
      "1714110524.0400317 INFO: metabolites 1070\n",
      "1714110528.139728 INFO: reactions 1011\n",
      "1714110528.2503524 INFO: The current solver interface glpk doesn't support setting the optimality tolerance.\n",
      "1714110528.619147 INFO: Default biomass: [bio1]\n",
      "1714110528.6455188 INFO: Setting FBAModel computed_attributes to mdlutl attributes\n",
      "1714110530.3841975 INFO: metabolites 1161\n",
      "1714110535.6065438 INFO: reactions 1170\n",
      "1714110535.7327478 INFO: The current solver interface glpk doesn't support setting the optimality tolerance.\n",
      "1714110536.1468651 INFO: Default biomass: [bio1]\n",
      "1714110536.1837783 INFO: Setting FBAModel computed_attributes to mdlutl attributes\n",
      "1714110537.636459 INFO: metabolites 961\n",
      "1714110541.024043 INFO: reactions 889\n",
      "1714110541.1260347 INFO: The current solver interface glpk doesn't support setting the optimality tolerance.\n",
      "1714110541.446928 INFO: Default biomass: [bio1]\n",
      "1714110541.4728503 INFO: Setting FBAModel computed_attributes to mdlutl attributes\n",
      "1714110542.98668 INFO: metabolites 944\n",
      "1714110546.7173035 INFO: reactions 868\n",
      "1714110546.862417 INFO: The current solver interface glpk doesn't support setting the optimality tolerance.\n",
      "1714110547.2038937 INFO: Default biomass: [bio1]\n",
      "1714110547.2666874 INFO: Setting FBAModel computed_attributes to mdlutl attributes\n",
      "1714110548.8454733 INFO: metabolites 1079\n",
      "1714110552.8225965 INFO: reactions 1040\n",
      "1714110552.934911 INFO: The current solver interface glpk doesn't support setting the optimality tolerance.\n",
      "1714110553.3070688 INFO: Default biomass: [bio1]\n",
      "1714110553.3368049 INFO: Setting FBAModel computed_attributes to mdlutl attributes\n",
      "1714110554.8167415 INFO: metabolites 948\n",
      "1714110558.4876893 INFO: reactions 896\n",
      "1714110558.585778 INFO: The current solver interface glpk doesn't support setting the optimality tolerance.\n",
      "1714110558.9084752 INFO: Default biomass: [bio1]\n",
      "1714110558.9330273 INFO: Setting FBAModel computed_attributes to mdlutl attributes\n",
      "1714110560.4414594 INFO: metabolites 1047\n",
      "1714110564.3180213 INFO: reactions 992\n",
      "1714110564.4281526 INFO: The current solver interface glpk doesn't support setting the optimality tolerance.\n",
      "1714110564.7850056 INFO: Default biomass: [bio1]\n",
      "1714110564.812022 INFO: Setting FBAModel computed_attributes to mdlutl attributes\n",
      "1714110567.0142205 INFO: metabolites 1154\n",
      "1714110571.6108897 INFO: reactions 1114\n",
      "1714110571.739054 INFO: The current solver interface glpk doesn't support setting the optimality tolerance.\n",
      "1714110572.149084 INFO: Default biomass: [bio1]\n",
      "1714110572.1801376 INFO: Setting FBAModel computed_attributes to mdlutl attributes\n",
      "1714110574.221283 INFO: metabolites 1432\n",
      "1714110581.38413 INFO: reactions 1545\n",
      "1714110581.575166 INFO: The current solver interface glpk doesn't support setting the optimality tolerance.\n",
      "1714110582.1367106 INFO: Default biomass: [bio1]\n",
      "1714110582.1866238 INFO: Setting FBAModel computed_attributes to mdlutl attributes\n",
      "1714110584.0309074 INFO: metabolites 1086\n",
      "1714110587.8205018 INFO: reactions 996\n",
      "1714110587.9898887 INFO: The current solver interface glpk doesn't support setting the optimality tolerance.\n",
      "1714110588.3639133 INFO: Default biomass: [bio1]\n",
      "1714110588.4327333 INFO: Setting FBAModel computed_attributes to mdlutl attributes\n",
      "1714110590.1016104 INFO: metabolites 1057\n",
      "1714110594.1530442 INFO: reactions 965\n",
      "1714110594.2621732 INFO: The current solver interface glpk doesn't support setting the optimality tolerance.\n",
      "1714110594.6185641 INFO: Default biomass: [bio1]\n",
      "1714110594.647287 INFO: Setting FBAModel computed_attributes to mdlutl attributes\n",
      "1714110596.115933 INFO: metabolites 1000\n",
      "1714110599.2838168 INFO: reactions 902\n",
      "1714110599.3812838 INFO: The current solver interface glpk doesn't support setting the optimality tolerance.\n",
      "1714110599.7063274 INFO: Default biomass: [bio1]\n",
      "1714110599.729344 INFO: Setting FBAModel computed_attributes to mdlutl attributes\n",
      "1714110601.1478384 INFO: metabolites 1020\n",
      "1714110604.5175736 INFO: reactions 960\n",
      "1714110604.626801 INFO: The current solver interface glpk doesn't support setting the optimality tolerance.\n",
      "1714110604.9668994 INFO: Default biomass: [bio1]\n",
      "1714110604.9947767 INFO: Setting FBAModel computed_attributes to mdlutl attributes\n",
      "1714110607.7548542 INFO: metabolites 974\n",
      "1714110611.2473497 INFO: reactions 909\n",
      "1714110611.3685904 INFO: The current solver interface glpk doesn't support setting the optimality tolerance.\n",
      "1714110611.6949046 INFO: Default biomass: [bio1]\n",
      "1714110611.730959 INFO: Setting FBAModel computed_attributes to mdlutl attributes\n",
      "1714110613.308638 INFO: metabolites 905\n",
      "1714110616.4282446 INFO: reactions 815\n",
      "1714110616.5302815 INFO: The current solver interface glpk doesn't support setting the optimality tolerance.\n",
      "1714110616.8289728 INFO: Default biomass: [bio1]\n",
      "1714110616.862365 INFO: Setting FBAModel computed_attributes to mdlutl attributes\n",
      "1714110619.7600267 INFO: metabolites 1154\n",
      "1714110783.555691 INFO: reactions 1175\n",
      "1714110783.695579 INFO: The current solver interface glpk doesn't support setting the optimality tolerance.\n",
      "1714110784.1118102 INFO: Default biomass: [bio1]\n",
      "1714110784.1457682 INFO: Setting FBAModel computed_attributes to mdlutl attributes\n",
      "1714110785.5574853 INFO: metabolites 816\n",
      "1714110788.2189214 INFO: reactions 733\n",
      "1714110788.3017516 INFO: The current solver interface glpk doesn't support setting the optimality tolerance.\n",
      "1714110788.5691974 INFO: Default biomass: [bio1]\n",
      "1714110788.5902436 INFO: Setting FBAModel computed_attributes to mdlutl attributes\n",
      "1714110790.069077 INFO: metabolites 1013\n",
      "1714110793.3563535 INFO: reactions 909\n",
      "1714110793.45654 INFO: The current solver interface glpk doesn't support setting the optimality tolerance.\n",
      "1714110793.7892985 INFO: Default biomass: [bio1]\n",
      "1714110793.8198717 INFO: Setting FBAModel computed_attributes to mdlutl attributes\n",
      "1714110796.5227525 INFO: metabolites 1056\n",
      "1714110800.587092 INFO: reactions 1008\n",
      "1714110800.7026448 INFO: The current solver interface glpk doesn't support setting the optimality tolerance.\n",
      "1714110801.06413 INFO: Default biomass: [bio1]\n",
      "1714110801.0895388 INFO: Setting FBAModel computed_attributes to mdlutl attributes\n",
      "1714110803.2568967 INFO: metabolites 892\n",
      "1714110806.3287294 INFO: reactions 801\n",
      "1714110806.4253054 INFO: The current solver interface glpk doesn't support setting the optimality tolerance.\n",
      "1714110806.7151144 INFO: Default biomass: [bio1]\n",
      "1714110806.7428668 INFO: Setting FBAModel computed_attributes to mdlutl attributes\n",
      "1714110809.3354876 INFO: metabolites 1094\n",
      "1714110813.6824539 INFO: reactions 1045\n",
      "1714110813.8045359 INFO: The current solver interface glpk doesn't support setting the optimality tolerance.\n",
      "1714110814.1864874 INFO: Default biomass: [bio1]\n",
      "1714110814.216944 INFO: Setting FBAModel computed_attributes to mdlutl attributes\n",
      "1714110815.8036683 INFO: metabolites 961\n",
      "1714110819.137255 INFO: reactions 879\n",
      "1714110819.2359655 INFO: The current solver interface glpk doesn't support setting the optimality tolerance.\n",
      "1714110819.5542161 INFO: Default biomass: [bio1]\n",
      "1714110819.5769482 INFO: Setting FBAModel computed_attributes to mdlutl attributes\n",
      "1714110821.4702723 INFO: metabolites 1039\n",
      "1714110825.4722335 INFO: reactions 1022\n",
      "1714110825.5870554 INFO: The current solver interface glpk doesn't support setting the optimality tolerance.\n",
      "1714110825.9524615 INFO: Default biomass: [bio1]\n",
      "1714110825.9812744 INFO: Setting FBAModel computed_attributes to mdlutl attributes\n",
      "1714110827.4832485 INFO: metabolites 1062\n",
      "1714110831.1458242 INFO: reactions 1008\n",
      "1714110831.2567596 INFO: The current solver interface glpk doesn't support setting the optimality tolerance.\n",
      "1714110831.6171446 INFO: Default biomass: [bio1]\n",
      "1714110831.6418228 INFO: Setting FBAModel computed_attributes to mdlutl attributes\n",
      "1714110834.8196073 INFO: metabolites 1185\n",
      "1714110840.2397785 INFO: reactions 1190\n",
      "1714110840.3824215 INFO: The current solver interface glpk doesn't support setting the optimality tolerance.\n",
      "1714110840.8115878 INFO: Default biomass: [bio1]\n",
      "1714110840.849505 INFO: Setting FBAModel computed_attributes to mdlutl attributes\n",
      "1714110842.433077 INFO: metabolites 1095\n",
      "1714110847.3758595 INFO: reactions 1074\n",
      "1714110847.4959104 INFO: The current solver interface glpk doesn't support setting the optimality tolerance.\n",
      "1714110847.884305 INFO: Default biomass: [bio1]\n",
      "1714110847.912912 INFO: Setting FBAModel computed_attributes to mdlutl attributes\n",
      "1714110849.6169853 INFO: metabolites 1141\n",
      "1714110855.1030986 INFO: reactions 1128\n",
      "1714110855.2289212 INFO: The current solver interface glpk doesn't support setting the optimality tolerance.\n",
      "1714110855.6358886 INFO: Default biomass: [bio1]\n",
      "1714110855.6672175 INFO: Setting FBAModel computed_attributes to mdlutl attributes\n",
      "1714110859.6488771 INFO: metabolites 984\n",
      "1714110863.8672116 INFO: reactions 947\n",
      "1714110863.9759884 INFO: The current solver interface glpk doesn't support setting the optimality tolerance.\n",
      "1714110864.321094 INFO: Default biomass: [bio1]\n",
      "1714110864.3488626 INFO: Setting FBAModel computed_attributes to mdlutl attributes\n",
      "1714110865.9903677 INFO: metabolites 883\n",
      "1714110868.7715917 INFO: reactions 831\n",
      "1714110868.860974 INFO: The current solver interface glpk doesn't support setting the optimality tolerance.\n",
      "1714110869.1538384 INFO: Default biomass: [bio1]\n",
      "1714110869.1763942 INFO: Setting FBAModel computed_attributes to mdlutl attributes\n",
      "1714110870.9099061 INFO: metabolites 1552\n",
      "1714110879.03375 INFO: reactions 1640\n",
      "1714110879.2147245 INFO: The current solver interface glpk doesn't support setting the optimality tolerance.\n",
      "1714110879.8116856 INFO: Default biomass: [bio1]\n",
      "1714110879.8547559 INFO: Setting FBAModel computed_attributes to mdlutl attributes\n",
      "1714110881.6834009 INFO: metabolites 1140\n",
      "1714110886.7000473 INFO: reactions 1106\n",
      "1714110886.8308687 INFO: The current solver interface glpk doesn't support setting the optimality tolerance.\n",
      "1714110887.2474675 INFO: Default biomass: [bio1]\n",
      "1714110887.2808475 INFO: Setting FBAModel computed_attributes to mdlutl attributes\n",
      "1714110889.0140982 INFO: metabolites 1001\n",
      "1714110892.2504845 INFO: reactions 924\n",
      "1714110892.347967 INFO: The current solver interface glpk doesn't support setting the optimality tolerance.\n",
      "1714110892.6742117 INFO: Default biomass: [bio1]\n",
      "1714110892.6983771 INFO: Setting FBAModel computed_attributes to mdlutl attributes\n",
      "1714110895.5947595 INFO: metabolites 1595\n",
      "1714110904.569011 INFO: reactions 1780\n",
      "1714110904.7681885 INFO: The current solver interface glpk doesn't support setting the optimality tolerance.\n",
      "1714110905.409546 INFO: Default biomass: [bio1]\n",
      "1714110905.453592 INFO: Setting FBAModel computed_attributes to mdlutl attributes\n",
      "1714110907.3259673 INFO: metabolites 942\n",
      "1714110910.7751708 INFO: reactions 888\n",
      "1714110910.874412 INFO: The current solver interface glpk doesn't support setting the optimality tolerance.\n",
      "1714110911.1925423 INFO: Default biomass: [bio1]\n",
      "1714110911.2188654 INFO: Setting FBAModel computed_attributes to mdlutl attributes\n",
      "1714110912.5382164 INFO: metabolites 1055\n",
      "1714110916.6243303 INFO: reactions 1020\n",
      "1714110916.7338517 INFO: The current solver interface glpk doesn't support setting the optimality tolerance.\n",
      "1714110917.094891 INFO: Default biomass: [bio1]\n",
      "1714110917.1214828 INFO: Setting FBAModel computed_attributes to mdlutl attributes\n",
      "1714110919.1532803 INFO: metabolites 768\n",
      "1714110921.1660547 INFO: reactions 685\n",
      "1714110921.2616327 INFO: The current solver interface glpk doesn't support setting the optimality tolerance.\n",
      "1714110921.5096881 INFO: Default biomass: [bio1]\n",
      "1714110921.5410998 INFO: Setting FBAModel computed_attributes to mdlutl attributes\n",
      "1714110923.4442048 INFO: metabolites 1188\n",
      "1714110929.2249753 INFO: reactions 1192\n",
      "1714110929.3940666 INFO: The current solver interface glpk doesn't support setting the optimality tolerance.\n",
      "1714110929.8342426 INFO: Default biomass: [bio1]\n",
      "1714110929.8872573 INFO: Setting FBAModel computed_attributes to mdlutl attributes\n",
      "1714110931.762897 INFO: metabolites 1169\n",
      "1714110936.4911366 INFO: reactions 1142\n",
      "1714110936.6137662 INFO: The current solver interface glpk doesn't support setting the optimality tolerance.\n",
      "1714110937.0252378 INFO: Default biomass: [bio1]\n",
      "1714110937.0542645 INFO: Setting FBAModel computed_attributes to mdlutl attributes\n",
      "1714110938.3181784 INFO: metabolites 871\n",
      "1714110941.5255592 INFO: reactions 799\n",
      "1714110941.6240299 INFO: The current solver interface glpk doesn't support setting the optimality tolerance.\n",
      "1714110941.915774 INFO: Default biomass: [bio1]\n",
      "1714110941.943071 INFO: Setting FBAModel computed_attributes to mdlutl attributes\n",
      "1714110943.5925071 INFO: metabolites 995\n",
      "1714110947.1593523 INFO: reactions 961\n",
      "1714110947.2619061 INFO: The current solver interface glpk doesn't support setting the optimality tolerance.\n",
      "1714110947.5951445 INFO: Default biomass: [bio1]\n",
      "1714110947.6203282 INFO: Setting FBAModel computed_attributes to mdlutl attributes\n",
      "1714110949.2034338 INFO: metabolites 1091\n",
      "1714110953.117341 INFO: reactions 1055\n",
      "1714110953.2288516 INFO: The current solver interface glpk doesn't support setting the optimality tolerance.\n",
      "1714110953.5991557 INFO: Default biomass: [bio1]\n",
      "1714110953.6259222 INFO: Setting FBAModel computed_attributes to mdlutl attributes\n",
      "1714110955.1947494 INFO: metabolites 1046\n",
      "1714110959.2512858 INFO: reactions 989\n",
      "1714110959.35513 INFO: The current solver interface glpk doesn't support setting the optimality tolerance.\n",
      "1714110959.707152 INFO: Default biomass: [bio1]\n",
      "1714110959.730577 INFO: Setting FBAModel computed_attributes to mdlutl attributes\n",
      "1714110961.9517646 INFO: metabolites 1275\n",
      "1714110967.6002862 INFO: reactions 1260\n",
      "1714110967.744313 INFO: The current solver interface glpk doesn't support setting the optimality tolerance.\n",
      "1714110968.2030694 INFO: Default biomass: [bio1]\n",
      "1714110968.2378826 INFO: Setting FBAModel computed_attributes to mdlutl attributes\n",
      "1714110969.8847423 INFO: metabolites 1029\n",
      "1714110973.7949085 INFO: reactions 973\n",
      "1714110973.9087715 INFO: The current solver interface glpk doesn't support setting the optimality tolerance.\n",
      "1714110974.2671185 INFO: Default biomass: [bio1]\n",
      "1714110974.296865 INFO: Setting FBAModel computed_attributes to mdlutl attributes\n",
      "1714110976.7760706 INFO: metabolites 1349\n",
      "1714110983.3317072 INFO: reactions 1373\n",
      "1714110983.492884 INFO: The current solver interface glpk doesn't support setting the optimality tolerance.\n",
      "1714110983.9974458 INFO: Default biomass: [bio1]\n",
      "1714110984.0389314 INFO: Setting FBAModel computed_attributes to mdlutl attributes\n",
      "1714110986.7195425 INFO: metabolites 1072\n",
      "1714110990.7205045 INFO: reactions 994\n",
      "1714110990.8348584 INFO: The current solver interface glpk doesn't support setting the optimality tolerance.\n",
      "1714110991.19268 INFO: Default biomass: [bio1]\n",
      "1714110991.2235026 INFO: Setting FBAModel computed_attributes to mdlutl attributes\n",
      "1714110992.9076362 INFO: metabolites 1016\n",
      "1714110996.6665938 INFO: reactions 910\n",
      "1714110996.7795992 INFO: The current solver interface glpk doesn't support setting the optimality tolerance.\n",
      "1714110997.1181855 INFO: Default biomass: [bio1]\n",
      "1714110997.1561222 INFO: Setting FBAModel computed_attributes to mdlutl attributes\n",
      "1714110999.343317 INFO: metabolites 1043\n",
      "1714111003.9742315 INFO: reactions 993\n",
      "1714111004.0846934 INFO: The current solver interface glpk doesn't support setting the optimality tolerance.\n",
      "1714111004.452997 INFO: Default biomass: [bio1]\n",
      "1714111004.479505 INFO: Setting FBAModel computed_attributes to mdlutl attributes\n",
      "1714111007.0221133 INFO: metabolites 1043\n",
      "1714111011.7226284 INFO: reactions 1010\n",
      "1714111011.8441477 INFO: The current solver interface glpk doesn't support setting the optimality tolerance.\n",
      "1714111012.2263494 INFO: Default biomass: [bio1]\n",
      "1714111012.267034 INFO: Setting FBAModel computed_attributes to mdlutl attributes\n",
      "1714111015.5548506 INFO: metabolites 1123\n",
      "1714111019.9206247 INFO: reactions 1091\n",
      "1714111020.0587301 INFO: The current solver interface glpk doesn't support setting the optimality tolerance.\n",
      "1714111020.4532273 INFO: Default biomass: [bio1]\n",
      "1714111020.4925818 INFO: Setting FBAModel computed_attributes to mdlutl attributes\n",
      "1714111022.1533327 INFO: metabolites 980\n",
      "1714111025.7165222 INFO: reactions 926\n",
      "1714111025.8148127 INFO: The current solver interface glpk doesn't support setting the optimality tolerance.\n",
      "1714111026.1394043 INFO: Default biomass: [bio1]\n",
      "1714111026.1683054 INFO: Setting FBAModel computed_attributes to mdlutl attributes\n",
      "1714111027.5978284 INFO: metabolites 1005\n",
      "1714111031.4344616 INFO: reactions 919\n",
      "1714111031.540034 INFO: The current solver interface glpk doesn't support setting the optimality tolerance.\n",
      "1714111031.878053 INFO: Default biomass: [bio1]\n",
      "1714111031.903585 INFO: Setting FBAModel computed_attributes to mdlutl attributes\n",
      "1714111033.6992624 INFO: metabolites 1147\n",
      "1714111039.060671 INFO: reactions 1164\n",
      "1714111039.1882703 INFO: The current solver interface glpk doesn't support setting the optimality tolerance.\n",
      "1714111039.6005797 INFO: Default biomass: [bio1]\n",
      "1714111039.6328049 INFO: Setting FBAModel computed_attributes to mdlutl attributes\n",
      "1714111041.1753204 INFO: metabolites 1244\n",
      "1714111046.8789055 INFO: reactions 1255\n",
      "1714111047.017264 INFO: The current solver interface glpk doesn't support setting the optimality tolerance.\n",
      "1714111047.473753 INFO: Default biomass: [bio1]\n",
      "1714111047.507268 INFO: Setting FBAModel computed_attributes to mdlutl attributes\n",
      "1714111049.1765752 INFO: metabolites 960\n",
      "1714111052.8186505 INFO: reactions 897\n",
      "1714111052.9228609 INFO: The current solver interface glpk doesn't support setting the optimality tolerance.\n",
      "1714111053.2431107 INFO: Default biomass: [bio1]\n",
      "1714111053.2713737 INFO: Setting FBAModel computed_attributes to mdlutl attributes\n",
      "1714111054.713174 INFO: metabolites 996\n",
      "1714111058.2655466 INFO: reactions 917\n",
      "1714111058.377661 INFO: The current solver interface glpk doesn't support setting the optimality tolerance.\n",
      "1714111058.705753 INFO: Default biomass: [bio1]\n",
      "1714111058.737437 INFO: Setting FBAModel computed_attributes to mdlutl attributes\n",
      "1714111061.6513305 INFO: metabolites 1320\n",
      "1714111067.7681677 INFO: reactions 1363\n",
      "1714111067.9144967 INFO: The current solver interface glpk doesn't support setting the optimality tolerance.\n",
      "1714111068.397626 INFO: Default biomass: [bio1]\n",
      "1714111068.432507 INFO: Setting FBAModel computed_attributes to mdlutl attributes\n",
      "1714111070.2158284 INFO: metabolites 996\n",
      "1714111073.6221807 INFO: reactions 941\n",
      "1714111073.7278645 INFO: The current solver interface glpk doesn't support setting the optimality tolerance.\n",
      "1714111074.062887 INFO: Default biomass: [bio1]\n",
      "1714111074.0900214 INFO: Setting FBAModel computed_attributes to mdlutl attributes\n",
      "1714111076.1837392 INFO: metabolites 1145\n",
      "1714111080.909023 INFO: reactions 1167\n",
      "1714111081.0429363 INFO: The current solver interface glpk doesn't support setting the optimality tolerance.\n",
      "1714111081.4534526 INFO: Default biomass: [bio1]\n",
      "1714111081.4873302 INFO: Setting FBAModel computed_attributes to mdlutl attributes\n",
      "1714111083.1504228 INFO: metabolites 920\n",
      "1714111086.852753 INFO: reactions 863\n",
      "1714111086.945333 INFO: The current solver interface glpk doesn't support setting the optimality tolerance.\n",
      "1714111087.252839 INFO: Default biomass: [bio1]\n",
      "1714111087.2755525 INFO: Setting FBAModel computed_attributes to mdlutl attributes\n",
      "1714111088.8206217 INFO: metabolites 1114\n",
      "1714111093.3988822 INFO: reactions 1061\n",
      "1714111093.5206418 INFO: The current solver interface glpk doesn't support setting the optimality tolerance.\n",
      "1714111093.9124906 INFO: Default biomass: [bio1]\n",
      "1714111093.9414499 INFO: Setting FBAModel computed_attributes to mdlutl attributes\n",
      "1714111095.5918343 INFO: metabolites 950\n",
      "1714111099.5396907 INFO: reactions 915\n",
      "1714111099.6604927 INFO: The current solver interface glpk doesn't support setting the optimality tolerance.\n",
      "1714111099.9928417 INFO: Default biomass: [bio1]\n",
      "1714111100.0309982 INFO: Setting FBAModel computed_attributes to mdlutl attributes\n",
      "1714111101.9687781 INFO: metabolites 1197\n",
      "1714111107.1079276 INFO: reactions 1201\n",
      "1714111107.3360937 INFO: The current solver interface glpk doesn't support setting the optimality tolerance.\n",
      "1714111107.788613 INFO: Default biomass: [bio1]\n",
      "1714111107.8773713 INFO: Setting FBAModel computed_attributes to mdlutl attributes\n",
      "1714111110.402355 INFO: metabolites 1026\n",
      "1714111114.1800575 INFO: reactions 951\n",
      "1714111114.2828705 INFO: The current solver interface glpk doesn't support setting the optimality tolerance.\n",
      "1714111114.619432 INFO: Default biomass: [bio1]\n",
      "1714111114.6515458 INFO: Setting FBAModel computed_attributes to mdlutl attributes\n",
      "1714111116.1001902 INFO: metabolites 1317\n",
      "1714111122.4998777 INFO: reactions 1337\n",
      "1714111122.6529162 INFO: The current solver interface glpk doesn't support setting the optimality tolerance.\n",
      "1714111123.1299586 INFO: Default biomass: [bio1]\n",
      "1714111123.1660979 INFO: Setting FBAModel computed_attributes to mdlutl attributes\n",
      "1714111124.8225834 INFO: metabolites 1314\n",
      "1714111131.1411493 INFO: reactions 1321\n",
      "1714111131.3203642 INFO: The current solver interface glpk doesn't support setting the optimality tolerance.\n",
      "1714111131.803427 INFO: Default biomass: [bio1]\n",
      "1714111131.8555465 INFO: Setting FBAModel computed_attributes to mdlutl attributes\n",
      "1714111133.9974172 INFO: metabolites 1117\n",
      "1714111139.470273 INFO: reactions 1126\n",
      "1714111139.5940726 INFO: The current solver interface glpk doesn't support setting the optimality tolerance.\n",
      "1714111140.007647 INFO: Default biomass: [bio1]\n",
      "1714111140.0388107 INFO: Setting FBAModel computed_attributes to mdlutl attributes\n"
     ]
    }
   ],
   "source": [
    "feature_probabilities = util.load(\"feature_probabilities\")\n",
    "asvset_names = util.load(\"asvset_names\")\n",
    "asvset_genomes = util.load(\"asvset_genomes\")\n",
    "probability_finished = []#util.load(\"probability_finished\")\n",
    "for asvset in asvset_genomes:\n",
    "    asvname = asvset_names[asvset]\n",
    "    if asvname not in probability_finished:\n",
    "        mdlutl = util.msrecon.get_model(asvname+\".ASV.mdl\",181152)\n",
    "        for rxn in mdlutl.model.reactions:\n",
    "                highest_prob = None\n",
    "                for gene in rxn.genes:\n",
    "                    if gene.id in feature_probabilities:\n",
    "                        if highest_prob == None or feature_probabilities[gene.id] > highest_prob:\n",
    "                            highest_prob = feature_probabilities[gene.id]\n",
    "                if highest_prob != None:\n",
    "                    rxn.probability = highest_prob\n",
    "        #util.msrecon.save_model(mdlutl,181152,asvname+\".ASV.mdl\")\n",
    "        probability_finished.append(asvname)\n",
    "        util.save(\"probability_finished\",probability_finished)"
   ]
  },
  {
   "cell_type": "markdown",
   "metadata": {
    "jp-MarkdownHeadingCollapsed": true,
    "tags": []
   },
   "source": [
    "# Loading metabolomics data"
   ]
  },
  {
   "cell_type": "code",
   "execution_count": 6,
   "metadata": {
    "tags": []
   },
   "outputs": [
    {
     "name": "stderr",
     "output_type": "stream",
     "text": [
      "1717476819.571839 INFO: load: /Users/chenry/code/ModelSEEDDatabase/Biochemistry/reactions.tsv\n"
     ]
    },
    {
     "name": "stderr",
     "output_type": "stream",
     "text": [
      "1717476820.117903 INFO: load: /Users/chenry/code/ModelSEEDDatabase/Biochemistry/compounds.tsv\n",
      "1717476828.29903 INFO: load: /Users/chenry/code/ModelSEEDDatabase/Biochemistry/Structures/Unique_ModelSEED_Structures.txt\n",
      "1717476831.772461 INFO: load: /Users/chenry/code/ModelSEEDDatabase/Biochemistry/Aliases/Unique_ModelSEED_Compound_Aliases.txt\n",
      "1717476831.847784 INFO: load: /Users/chenry/code/ModelSEEDDatabase/Biochemistry/Aliases/Unique_ModelSEED_Reaction_Aliases.txt\n",
      "1717476831.969643 INFO: load: /Users/chenry/code/ModelSEEDDatabase/Biochemistry/Aliases/Unique_ModelSEED_Reaction_ECs.txt\n"
     ]
    }
   ],
   "source": [
    "metabolite_df = pd.read_csv('data/metabolomics_log2_fold_change.csv')\n",
    "columns = metabolite_df.columns.tolist()\n",
    "metabolites = columns[1:]\n",
    "metabolomics_data = {}\n",
    "metabolite_names = {}\n",
    "samples = []\n",
    "for index, row in metabolite_df.iterrows():\n",
    "    samples.append(row[\"day_diet diff\"])\n",
    "    for met in metabolites:\n",
    "        if met not in metabolomics_data:\n",
    "            metabolomics_data[met] = {}\n",
    "        metabolomics_data[met][row[\"day_diet diff\"]] = row[met]\n",
    "util.save(\"metabolomics_data\",metabolomics_data)\n",
    "util.save(\"samples\",samples)\n",
    "util.save(\"metabolites\",metabolites)\n",
    "modelseed = ModelSEEDBiochem.get()\n",
    "for met in metabolites:\n",
    "    cpdobj = modelseed.get_seed_compound(met)\n",
    "    if cpdobj:\n",
    "        metabolite_names[met] = cpdobj.name\n",
    "    else:\n",
    "        metabolite_names[met] = met\n",
    "util.save(\"metabolite_names\",metabolite_names)"
   ]
  },
  {
   "cell_type": "markdown",
   "metadata": {
    "jp-MarkdownHeadingCollapsed": true,
    "tags": []
   },
   "source": [
    "# Interaction testing for metabolites in models"
   ]
  },
  {
   "cell_type": "code",
   "execution_count": 4,
   "metadata": {},
   "outputs": [],
   "source": [
    "%run agoracommutil.py\n",
    "metabolites = util.load(\"metabolites\")\n",
    "asvset_names = util.load(\"asvset_names\")\n",
    "asvset_genomes = util.load(\"asvset_genomes\")\n",
    "phenotype_results = util.load(\"phenotype_results\",default={})\n",
    "auxo_media = util.msrecon.get_media(\"181152/AuxoMedia\")\n",
    "agmm_base_media = util.msrecon.get_media(\"181152/BaseAnaerobicMM\")\n",
    "gmm_base_media = util.msrecon.get_media(\"181152/BaseAerobicMM\")\n",
    "uptake_phenoset = util.create_phenotypeset_from_compounds(\n",
    "    metabolites,\n",
    "    base_media=auxo_media,\n",
    "    base_uptake=0,\n",
    "    base_excretion=1000,\n",
    "    global_atom_limits={},\n",
    "    type=\"uptake\"\n",
    ")\n",
    "excretion_phenoset = util.create_phenotypeset_from_compounds(\n",
    "    metabolites,\n",
    "    base_media=auxo_media,\n",
    "    base_uptake=0,\n",
    "    base_excretion=1000,\n",
    "    global_atom_limits={},\n",
    "    type=\"excretion\"\n",
    ")\n",
    "agrowth_phenoset = util.create_phenotypeset_from_compounds(\n",
    "    metabolites,\n",
    "    base_media=agmm_base_media,\n",
    "    base_uptake=0,\n",
    "    base_excretion=1000,\n",
    "    global_atom_limits={},\n",
    "    type=\"growth\"\n",
    ")\n",
    "growth_phenoset = util.create_phenotypeset_from_compounds(\n",
    "    metabolites,\n",
    "    base_media=gmm_base_media,\n",
    "    base_uptake=0,\n",
    "    base_excretion=1000,\n",
    "    global_atom_limits={},\n",
    "    type=\"growth\"\n",
    ")\n",
    "for asvset in asvset_genomes:\n",
    "    asvname = asvset_names[asvset]\n",
    "    if asvname not in phenotype_results and asvname != \"Thermus.1\":\n",
    "        phenotype_results[asvname] = {}\n",
    "        mdlutl = util.msrecon.get_model(asvname+\".ASV.mdl\",181152)\n",
    "        mdlutl.solver = 'gurobi'\n",
    "        if \"uptake\" not in phenotype_results[asvname]:\n",
    "            phenotype_results[asvname][\"uptake\"] = {}\n",
    "            output = uptake_phenoset.simulate_phenotypes(\n",
    "                mdlutl,\n",
    "                multiplier=2,\n",
    "                add_missing_exchanges=True,\n",
    "                save_fluxes=False,\n",
    "                gapfill_negatives=False,\n",
    "                msgapfill=None,\n",
    "                test_conditions=None,\n",
    "                ignore_experimental_data=True\n",
    "            )\n",
    "            for index, row in output[\"details\"].iterrows():\n",
    "                phenotype_results[asvname][\"uptake\"][row[\"Phenotype\"]] = output[\"data\"][row[\"Phenotype\"]]\n",
    "            util.save(\"phenotype_results\",phenotype_results)\n",
    "        if \"excretion\" not in phenotype_results[asvname]:\n",
    "            phenotype_results[asvname][\"excretion\"] = {}\n",
    "            output = excretion_phenoset.simulate_phenotypes(\n",
    "                mdlutl,\n",
    "                multiplier=2,\n",
    "                add_missing_exchanges=True,\n",
    "                save_fluxes=False,\n",
    "                gapfill_negatives=False,\n",
    "                msgapfill=None,\n",
    "                test_conditions=None,\n",
    "                ignore_experimental_data=True\n",
    "            )\n",
    "            for index, row in output[\"details\"].iterrows():\n",
    "                phenotype_results[asvname][\"excretion\"][row[\"Phenotype\"]] = output[\"data\"][row[\"Phenotype\"]]\n",
    "            util.save(\"phenotype_results\",phenotype_results)\n",
    "        if \"agrowth\" not in phenotype_results[asvname]:\n",
    "            phenotype_results[asvname][\"agrowth\"] = {}\n",
    "            output = agrowth_phenoset.simulate_phenotypes(\n",
    "                mdlutl,\n",
    "                multiplier=2,\n",
    "                add_missing_exchanges=True,\n",
    "                save_fluxes=False,\n",
    "                gapfill_negatives=False,\n",
    "                msgapfill=None,\n",
    "                test_conditions=None,\n",
    "                ignore_experimental_data=True\n",
    "            )\n",
    "            for index, row in output[\"details\"].iterrows():\n",
    "                phenotype_results[asvname][\"agrowth\"][row[\"Phenotype\"]] = output[\"data\"][row[\"Phenotype\"]]\n",
    "            util.save(\"phenotype_results\",phenotype_results)\n",
    "        if \"growth\" not in phenotype_results[asvname]:\n",
    "            phenotype_results[asvname][\"growth\"] = {}\n",
    "            output = growth_phenoset.simulate_phenotypes(\n",
    "                mdlutl,\n",
    "                multiplier=2,\n",
    "                add_missing_exchanges=True,\n",
    "                save_fluxes=False,\n",
    "                gapfill_negatives=False,\n",
    "                msgapfill=None,\n",
    "                test_conditions=None,\n",
    "                ignore_experimental_data=True\n",
    "            )\n",
    "            for index, row in output[\"details\"].iterrows():\n",
    "                phenotype_results[asvname][\"growth\"][row[\"Phenotype\"]] = output[\"data\"][row[\"Phenotype\"]]\n",
    "            util.save(\"phenotype_results\",phenotype_results)"
   ]
  },
  {
   "cell_type": "markdown",
   "metadata": {
    "jp-MarkdownHeadingCollapsed": true,
    "tags": []
   },
   "source": [
    "# Printing interaction matrices"
   ]
  },
  {
   "cell_type": "code",
   "execution_count": 3,
   "metadata": {},
   "outputs": [
    {
     "name": "stdout",
     "output_type": "stream",
     "text": [
      "Output files printed to:/Users/chenry/code/notebooks/MicrobiomeNotebooks/NewWesternDiet/nboutput when using KBDevUtils.output_dir\n",
      "ModelSEED: /Users/chenry/code//kb_sdk/run_local/workdir/tmp/\n",
      "No data for  Thermus.1\n"
     ]
    }
   ],
   "source": [
    "%run agoracommutil.py\n",
    "metabolites = util.load(\"metabolites\")\n",
    "phenotype_results = util.load(\"phenotype_results\")\n",
    "asvset_genomes = util.load(\"asvset_genomes\")\n",
    "asvset_names = util.load(\"asvset_names\")\n",
    "records = {\n",
    "    \"combined\":[{\"ASV\":\"Name\"}],\n",
    "    \"uptake\":[{\"ASV\":\"Name\"}],\n",
    "    \"excretion\":[{\"ASV\":\"Name\"}],\n",
    "    \"agrowth\":[{\"ASV\":\"Name\"}],\n",
    "    \"growth\":[{\"ASV\":\"Name\"}]\n",
    "}\n",
    "metabolite_names = util.load(\"metabolite_names\")\n",
    "for met in metabolites:\n",
    "    for item in records:\n",
    "        records[item][0][met] = metabolite_names[met]\n",
    "for asvset in asvset_genomes:\n",
    "    asvname = asvset_names[asvset]\n",
    "    if asvname not in phenotype_results:\n",
    "        print(\"No data for \",asvname)\n",
    "        continue\n",
    "    new_record = {\n",
    "        \"combined\":{\"ASV\":asvname},\n",
    "        \"uptake\":{\"ASV\":asvname},\n",
    "        \"excretion\":{\"ASV\":asvname},\n",
    "        \"agrowth\":{\"ASV\":asvname},\n",
    "        \"growth\":{\"ASV\":asvname}\n",
    "    }  \n",
    "    for metabolite in metabolites:\n",
    "        value = \"\"\n",
    "        if \"uptake\" in phenotype_results[asvname]:\n",
    "            if metabolite in phenotype_results[asvname][\"uptake\"]:\n",
    "                new_record[\"uptake\"][metabolite] = phenotype_results[asvname][\"uptake\"][metabolite][\"objective_value\"]\n",
    "                if phenotype_results[asvname][\"uptake\"][metabolite][\"class\"] == \"P\":\n",
    "                    value += \"U\"\n",
    "        if \"excretion\" in phenotype_results[asvname]:\n",
    "            if metabolite in phenotype_results[asvname][\"excretion\"]:\n",
    "                new_record[\"excretion\"][metabolite] = phenotype_results[asvname][\"excretion\"][metabolite][\"objective_value\"]\n",
    "                if phenotype_results[asvname][\"excretion\"][metabolite][\"class\"] == \"P\":\n",
    "                    value += \"E\"\n",
    "        if \"agrowth\" in phenotype_results[asvname]:\n",
    "            if metabolite in phenotype_results[asvname][\"agrowth\"]:\n",
    "                new_record[\"agrowth\"][metabolite] = phenotype_results[asvname][\"agrowth\"][metabolite][\"objective_value\"]\n",
    "                if phenotype_results[asvname][\"agrowth\"][metabolite][\"class\"] == \"P\":\n",
    "                    value += \"A\"\n",
    "        if \"growth\" in phenotype_results[asvname]:\n",
    "            if metabolite in phenotype_results[asvname][\"growth\"]:\n",
    "                new_record[\"growth\"][metabolite] = phenotype_results[asvname][\"growth\"][metabolite][\"objective_value\"]\n",
    "                if phenotype_results[asvname][\"growth\"][metabolite][\"class\"] == \"P\":\n",
    "                    value += \"G\"\n",
    "        new_record[\"combined\"][metabolite] = value\n",
    "    for item in records:\n",
    "        records[item].append(new_record[item])\n",
    "#Printing interation matrices\n",
    "for item in records:\n",
    "    df = pd.DataFrame.from_records(records[item])\n",
    "    df.to_csv(util.output_dir+\"/ASV\"+item+\"Interactions.csv\",index=False)"
   ]
  },
  {
   "cell_type": "markdown",
   "metadata": {
    "jp-MarkdownHeadingCollapsed": true,
    "tags": []
   },
   "source": [
    "# Loading Sample data"
   ]
  },
  {
   "cell_type": "code",
   "execution_count": 16,
   "metadata": {},
   "outputs": [
    {
     "name": "stdout",
     "output_type": "stream",
     "text": [
      "Output files printed to:/Users/chenry/code/notebooks/MicrobiomeNotebooks/NewWesternDiet/nboutput when using KBDevUtils.output_dir\n",
      "ModelSEED: /Users/chenry/code//kb_sdk/run_local/workdir/tmp/\n"
     ]
    }
   ],
   "source": [
    "%run agoracommutil.py\n",
    "asv_asvset = util.load(\"asv_asvset\")\n",
    "asv_mappings = util.load(\"asv_mappings\")\n",
    "sample_df = pd.read_csv('data/mean_abund_perDay_perTreatment_100.csv')\n",
    "columns = sample_df.columns.tolist()\n",
    "samples = columns[1:]\n",
    "asv_abundances = {}\n",
    "asvset_abundances = {}\n",
    "sample_abundanes = {}\n",
    "sample_asvset_abundances = {}\n",
    "for sample in samples:\n",
    "    sample_asvset_abundances[sample] = {}\n",
    "    sample_abundanes[sample] = {\n",
    "        \"asv_total\":0,\n",
    "        \"asvset_total\":0,\n",
    "        \"mapped_asvs_total\":0,\n",
    "        \"unmapped_asvs_total\":0,\n",
    "    }\n",
    "for index, row in sample_df.iterrows():\n",
    "    asv_abundances[row[\"asv\"]] = {}\n",
    "    if row[\"asv\"] in asv_asvset and asv_asvset[row[\"asv\"]] not in asvset_abundances:\n",
    "        asvset_abundances[asv_asvset[row[\"asv\"]]] = {}\n",
    "    for sample in samples:\n",
    "        if row[\"asv\"] in asv_asvset:\n",
    "            if sample not in asvset_abundances[asv_asvset[row[\"asv\"]]]:\n",
    "                asvset_abundances[asv_asvset[row[\"asv\"]]][sample] = 0\n",
    "            asvset_abundances[asv_asvset[row[\"asv\"]]][sample] += row[sample]\n",
    "        asv_abundances[row[\"asv\"]][sample] = row[sample]\n",
    "for asvset in asvset_abundances:\n",
    "    for sample in samples:\n",
    "        if asvset_abundances[asvset][sample] > 0:\n",
    "            sample_asvset_abundances[sample][asvset] = asvset_abundances[asvset][sample]\n",
    "        if sample in asvset_abundances[asvset]:\n",
    "            sample_abundanes[sample][\"asvset_total\"] += asvset_abundances[asvset][sample]\n",
    "for asv in asv_abundances:\n",
    "    for sample in samples:\n",
    "        sample_abundanes[sample][\"asv_total\"] += asv_abundances[asv][sample]\n",
    "        if asv in asv_mappings:\n",
    "            sample_abundanes[sample][\"mapped_asvs_total\"] += asv_abundances[asv][sample]\n",
    "        else:\n",
    "            sample_abundanes[sample][\"unmapped_asvs_total\"] += asv_abundances[asv][sample]\n",
    "util.save(\"sample_asvset_abundances\",sample_asvset_abundances)\n",
    "util.save(\"sample_abundanes\",sample_abundanes)\n",
    "util.save(\"asv_abundances\",asv_abundances)\n",
    "util.save(\"asvset_abundances\",asvset_abundances)\n",
    "util.save(\"samples\",samples)"
   ]
  },
  {
   "cell_type": "markdown",
   "metadata": {
    "jp-MarkdownHeadingCollapsed": true,
    "tags": []
   },
   "source": [
    "# Now we will generate the sample interaction matrix"
   ]
  },
  {
   "cell_type": "code",
   "execution_count": 20,
   "metadata": {},
   "outputs": [
    {
     "name": "stdout",
     "output_type": "stream",
     "text": [
      "Output files printed to:/Users/chenry/code/notebooks/MicrobiomeNotebooks/NewWesternDiet/nboutput when using KBDevUtils.output_dir\n",
      "ModelSEED: /Users/chenry/code//kb_sdk/run_local/workdir/tmp/\n"
     ]
    }
   ],
   "source": [
    "%run agoracommutil.py\n",
    "asv_asvset = util.load(\"asv_asvset\")\n",
    "metabolites = util.load(\"metabolites\")\n",
    "phenotype_results = util.load(\"phenotype_results\")\n",
    "asvset_genomes = util.load(\"asvset_genomes\")\n",
    "asvset_names = util.load(\"asvset_names\")\n",
    "asvset_abundances = util.load(\"asvset_abundances\")\n",
    "asvset_abundances = util.load(\"sample_asvset_abundances\")\n",
    "sample_abundanes = util.load(\"sample_abundanes\")\n",
    "records = {\n",
    "    \"uptake_bin\":[{\"Sample\":\"Name\"}],\n",
    "    \"excretion_bin\":[{\"Sample\":\"Name\"}],\n",
    "    \"agrowth_bin\":[{\"Sample\":\"Name\"}],\n",
    "    \"growth_bin\":[{\"Sample\":\"Name\"}],\n",
    "    \"uptake\":[{\"Sample\":\"Name\"}],\n",
    "    \"excretion\":[{\"Sample\":\"Name\"}],\n",
    "    \"agrowth\":[{\"Sample\":\"Name\"}],\n",
    "    \"growth\":[{\"Sample\":\"Name\"}]\n",
    "}\n",
    "metabolite_names = util.load(\"metabolite_names\")\n",
    "for met in metabolites:\n",
    "    for item in records:\n",
    "        records[item][0][met] = metabolite_names[met]\n",
    "for sample in samples:\n",
    "    new_record = {\n",
    "        \"uptake_bin\":{\"Sample\":sample},\n",
    "        \"excretion_bin\":{\"Sample\":sample},\n",
    "        \"agrowth_bin\":{\"Sample\":sample},\n",
    "        \"growth_bin\":{\"Sample\":sample},\n",
    "        \"uptake\":{\"Sample\":sample},\n",
    "        \"excretion\":{\"Sample\":sample},\n",
    "        \"agrowth\":{\"Sample\":sample},\n",
    "        \"growth\":{\"Sample\":sample}\n",
    "    }\n",
    "    for metabolite in metabolites:\n",
    "        for item in new_record:\n",
    "            new_record[item][metabolite] = 0\n",
    "    for asvset in sample_asvset_abundances[sample]:\n",
    "        asvname = asvset_names[asvset]\n",
    "        for metabolite in metabolites:\n",
    "            if \"uptake\" in phenotype_results[asvname]:\n",
    "                if metabolite in phenotype_results[asvname][\"uptake\"]:\n",
    "                    new_record[\"uptake\"][metabolite] += sample_asvset_abundances[sample][asvset]/sample_abundanes[sample][\"asvset_total\"]*phenotype_results[asvname][\"uptake\"][metabolite][\"objective_value\"]\n",
    "                    if phenotype_results[asvname][\"uptake\"][metabolite][\"class\"] == \"P\":\n",
    "                        new_record[\"uptake_bin\"][metabolite] += sample_asvset_abundances[sample][asvset]/sample_abundanes[sample][\"asvset_total\"]\n",
    "            if \"excretion\" in phenotype_results[asvname]:\n",
    "                if metabolite in phenotype_results[asvname][\"excretion\"]:\n",
    "                    new_record[\"excretion\"][metabolite] += sample_asvset_abundances[sample][asvset]/sample_abundanes[sample][\"asvset_total\"]*phenotype_results[asvname][\"excretion\"][metabolite][\"objective_value\"]\n",
    "                    if phenotype_results[asvname][\"excretion\"][metabolite][\"class\"] == \"P\":\n",
    "                        new_record[\"excretion_bin\"][metabolite] += sample_asvset_abundances[sample][asvset]/sample_abundanes[sample][\"asvset_total\"]\n",
    "            if \"agrowth\" in phenotype_results[asvname]:\n",
    "                if metabolite in phenotype_results[asvname][\"agrowth\"]:\n",
    "                    new_record[\"agrowth\"][metabolite] += sample_asvset_abundances[sample][asvset]/sample_abundanes[sample][\"asvset_total\"]*phenotype_results[asvname][\"agrowth\"][metabolite][\"objective_value\"]\n",
    "                    if phenotype_results[asvname][\"agrowth\"][metabolite][\"class\"] == \"P\":\n",
    "                        new_record[\"agrowth_bin\"][metabolite] += sample_asvset_abundances[sample][asvset]/sample_abundanes[sample][\"asvset_total\"]\n",
    "            if \"growth\" in phenotype_results[asvname]:\n",
    "                if metabolite in phenotype_results[asvname][\"growth\"]:\n",
    "                    new_record[\"growth\"][metabolite] += sample_asvset_abundances[sample][asvset]/sample_abundanes[sample][\"asvset_total\"]*phenotype_results[asvname][\"growth\"][metabolite][\"objective_value\"]\n",
    "                    if phenotype_results[asvname][\"growth\"][metabolite][\"class\"] == \"P\":\n",
    "                        new_record[\"growth_bin\"][metabolite] += sample_asvset_abundances[sample][asvset]/sample_abundanes[sample][\"asvset_total\"]\n",
    "    for item in records:\n",
    "        records[item].append(new_record[item])\n",
    "#Printing interation matrices\n",
    "for item in records:\n",
    "    df = pd.DataFrame.from_records(records[item])\n",
    "    df.to_csv(util.output_dir+\"/Sample\"+item+\"Interactions.csv\",index=False)"
   ]
  },
  {
   "cell_type": "markdown",
   "metadata": {},
   "source": [
    "# Gapfilling phenotype evaluation"
   ]
  },
  {
   "cell_type": "code",
   "execution_count": 2,
   "metadata": {
    "tags": []
   },
   "outputs": [
    {
     "name": "stdout",
     "output_type": "stream",
     "text": [
      "Output files printed to:/Users/chenry/code/notebooks/MicrobiomeNotebooks/NewWesternDiet/nboutput when using KBDevUtils.output_dir\n",
      "ModelSEED: /Users/chenry/code//kb_sdk/run_local/workdir/tmp/\n"
     ]
    },
    {
     "name": "stderr",
     "output_type": "stream",
     "text": [
      "1717516004.8265018 INFO: metabolites 1165\n",
      "1717516005.0642471 INFO: reactions 1070\n",
      "1717516005.8270679 INFO: Default biomass: [bio1]\n",
      "1717516005.9175858 WARNING: Ignoring reaction 'rxn00062_c0' since it already exists.\n",
      "1717516006.443178 WARNING: Ignoring reaction 'rxn00062_c0' since it already exists.\n"
     ]
    },
    {
     "name": "stdout",
     "output_type": "stream",
     "text": [
      "Getting tests from attributes\n"
     ]
    },
    {
     "name": "stderr",
     "output_type": "stream",
     "text": [
      "1717516016.794209 INFO: cpd35610 not found in model!\n",
      "1717516016.7950861 CRITICAL: Metabolite cpd35610 not found in model\n",
      "1717516016.816258 INFO: cpd07053 not found in model!\n",
      "1717516016.8171258 CRITICAL: Metabolite cpd07053 not found in model\n",
      "1717516016.8176901 INFO: cpd04945 not found in model!\n",
      "1717516016.818371 CRITICAL: Metabolite cpd04945 not found in model\n"
     ]
    },
    {
     "name": "stdout",
     "output_type": "stream",
     "text": [
      "Bilophila.1 GF: 13187 Prob: 1722 Other: 3395\n"
     ]
    },
    {
     "name": "stderr",
     "output_type": "stream",
     "text": [
      "1717516023.08846 INFO: Objective with gapfill database:0.0; min objective:0.01\n",
      "/Users/chenry/opt/anaconda3/lib/python3.9/site-packages/cobra/util/solver.py:554: UserWarning: Solver status is 'infeasible'.\n",
      "  warn(f\"Solver status is '{status}'.\", UserWarning)\n",
      "1717516029.75204 INFO: Expansion time:Etho.O2:0.6728106249999968\n",
      "1717516029.752651 INFO: Filtered count:0 out of 1515\n",
      "1717516030.443041 INFO: Expansion time:For.O2:0.6899505330000011\n",
      "1717516030.443648 INFO: Filtered count:0 out of 1515\n",
      "1717516031.1344 INFO: Expansion time:Fum:0.6903230469999926\n",
      "1717516031.135006 INFO: Filtered count:0 out of 1515\n",
      "1717516031.816693 INFO: Expansion time:Fum.O2:0.6812507449999998\n",
      "1717516031.8173041 INFO: Filtered count:0 out of 1515\n",
      "1717516032.853088 INFO: Expansion time:Pyr:1.035347399999992\n",
      "1717516032.853705 INFO: Filtered count:0 out of 1515\n",
      "1717516033.529556 INFO: Expansion time:Pyr.DMSO:0.6753910839999975\n",
      "1717516033.5302348 INFO: Filtered count:0 out of 1515\n",
      "1717516034.182461 INFO: Expansion time:Pyr.NO:0.6517905119999909\n",
      "1717516034.183028 INFO: Filtered count:0 out of 1515\n",
      "1717516034.837877 INFO: Expansion time:Pyr.NO2:0.6544574720000043\n",
      "1717516034.838505 INFO: Filtered count:0 out of 1515\n",
      "1717516035.939073 INFO: Expansion time:Pyr.NO3:1.1001084379999924\n",
      "1717516035.9397619 INFO: Filtered count:0 out of 1515\n",
      "1717516036.79092 INFO: Expansion time:Pyr.O2:0.8505974779999974\n",
      "1717516036.791659 INFO: Filtered count:0 out of 1515\n",
      "1717516037.508996 INFO: Expansion time:Pyr.SO3:0.7167935659999927\n",
      "1717516037.50961 INFO: Filtered count:0 out of 1515\n",
      "1717516038.2018309 INFO: Expansion time:Pyr.SO4:0.6917444080000053\n",
      "1717516038.20257 INFO: Filtered count:0 out of 1515\n",
      "1717516039.2984698 INFO: Expansion time:Pyr.TMAO:1.0952810889999967\n",
      "1717516039.29933 INFO: Filtered count:0 out of 1515\n",
      "1717516039.954061 INFO: Expansion time:empty:0.6540547550000042\n",
      "1717516039.954674 INFO: Filtered count:0 out of 1515\n",
      "1717516040.250189 INFO: cpd35610 not found in model!\n",
      "1717516040.250896 WARNING: cpd35610: could not find metabolite for cpd35610\n",
      "1717516240.6096342 INFO: cpd07053 not found in model!\n",
      "1717516240.6103418 WARNING: cpd07053: could not find metabolite for cpd07053\n",
      "1717516310.670434 INFO: cpd04945 not found in model!\n",
      "1717516310.6711428 WARNING: cpd04945: could not find metabolite for cpd04945\n",
      "1717516347.3117921 INFO: metabolites 1674\n",
      "1717516348.205838 INFO: reactions 1843\n",
      "1717516349.1948469 INFO: Default biomass: [bio1]\n",
      "1717516349.27334 WARNING: Ignoring reaction 'rxn00062_c0' since it already exists.\n",
      "1717516349.492874 WARNING: Ignoring reaction 'rxn00062_c0' since it already exists.\n"
     ]
    },
    {
     "name": "stdout",
     "output_type": "stream",
     "text": [
      "Getting tests from attributes\n"
     ]
    },
    {
     "name": "stderr",
     "output_type": "stream",
     "text": [
      "1717516360.771178 INFO: cpd35610 not found in model!\n",
      "1717516360.7720451 CRITICAL: Metabolite cpd35610 not found in model\n",
      "1717516360.787879 INFO: cpd07053 not found in model!\n",
      "1717516360.788644 CRITICAL: Metabolite cpd07053 not found in model\n",
      "1717516360.7891278 INFO: cpd04945 not found in model!\n",
      "1717516360.789572 CRITICAL: Metabolite cpd04945 not found in model\n"
     ]
    },
    {
     "name": "stdout",
     "output_type": "stream",
     "text": [
      "Bacillus.1 GF: 11998 Prob: 3171 Other: 3135\n"
     ]
    },
    {
     "name": "stderr",
     "output_type": "stream",
     "text": [
      "1717516366.8825989 INFO: Objective with gapfill database:0.0; min objective:0.01\n",
      "/Users/chenry/opt/anaconda3/lib/python3.9/site-packages/cobra/util/solver.py:554: UserWarning: Solver status is 'infeasible'.\n",
      "  warn(f\"Solver status is '{status}'.\", UserWarning)\n",
      "1717516373.0324638 INFO: Expansion time:Ac.NO2:1.6197253790000445\n",
      "1717516373.033134 INFO: Filtered count:0 out of 2707\n",
      "1717516373.95545 INFO: Expansion time:Ac.NO3:0.9218752770000265\n",
      "1717516373.956067 INFO: Filtered count:0 out of 2707\n",
      "1717516374.885324 INFO: Expansion time:Ac.O2:0.9287813330000176\n",
      "1717516374.88598 INFO: Filtered count:0 out of 2707\n",
      "1717516375.841486 INFO: Expansion time:Akg:0.9550485999999978\n",
      "1717516375.842101 INFO: Filtered count:0 out of 2707\n",
      "1717516376.802677 INFO: Expansion time:Akg.O2:0.9601280280000424\n",
      "1717516376.8032231 INFO: Filtered count:0 out of 2707\n",
      "1717516377.751882 INFO: Expansion time:Dlac:0.9481198109999696\n",
      "1717516377.7524312 INFO: Filtered count:0 out of 2707\n",
      "1717516378.695935 INFO: Expansion time:Dlac.O2:0.9430628019999858\n",
      "1717516378.696487 INFO: Filtered count:0 out of 2707\n",
      "1717516379.6343691 INFO: Expansion time:Etho.O2:0.9374437149999721\n",
      "1717516379.6349819 INFO: Filtered count:0 out of 2707\n",
      "1717516381.551856 INFO: Expansion time:For.NO2:1.9163864220000164\n",
      "1717516381.552427 INFO: Filtered count:0 out of 2707\n",
      "1717516382.480521 INFO: Expansion time:For.NO3:0.9276246410000226\n",
      "1717516382.481131 INFO: Filtered count:0 out of 2707\n",
      "1717516383.409822 INFO: Expansion time:For.O2:0.9282443590000184\n",
      "1717516383.410424 INFO: Filtered count:0 out of 2707\n",
      "1717516384.3356018 INFO: Expansion time:Fum:0.9246621450000134\n",
      "1717516384.33626 INFO: Filtered count:0 out of 2707\n",
      "1717516385.2778602 INFO: Expansion time:Fum.O2:0.9411479589999772\n",
      "1717516385.278451 INFO: Filtered count:0 out of 2707\n",
      "1717516386.2081778 INFO: Expansion time:Glc:0.929238818999977\n",
      "1717516386.208744 INFO: Filtered count:0 out of 2707\n",
      "1717516387.15615 INFO: Expansion time:Glc.DMSO:0.9469526839999958\n",
      "1717516387.156754 INFO: Filtered count:0 out of 2707\n",
      "1717516388.82791 INFO: Expansion time:Glc.O2:1.6706823960000179\n",
      "1717516388.828654 INFO: Filtered count:0 out of 2707\n",
      "1717516389.886913 INFO: Expansion time:Glc.TMAO:1.0576631069999962\n",
      "1717516389.887527 INFO: Filtered count:0 out of 2707\n",
      "1717516391.3363369 INFO: Expansion time:Glyc:1.4483558740000149\n",
      "1717516391.33711 INFO: Filtered count:0 out of 2707\n",
      "1717516392.485578 INFO: Expansion time:Glyc.O2:1.1476796119999904\n",
      "1717516392.486316 INFO: Filtered count:0 out of 2707\n",
      "1717516393.838846 INFO: Expansion time:LLac.O2:1.3518050240000434\n",
      "1717516393.839508 INFO: Filtered count:0 out of 2707\n",
      "1717516394.870822 INFO: Expansion time:LLac.SO4:1.0306911879999916\n",
      "1717516394.871425 INFO: Filtered count:0 out of 2707\n",
      "1717516395.818845 INFO: Expansion time:LLac.SO4.H2:0.9469657870000106\n",
      "1717516395.819565 INFO: Filtered count:0 out of 2707\n",
      "1717516396.811786 INFO: Expansion time:Llac:0.9916852690000155\n",
      "1717516396.812407 INFO: Filtered count:0 out of 2707\n",
      "1717516398.41088 INFO: Expansion time:Pyr:1.5980229410000106\n",
      "1717516398.4114518 INFO: Filtered count:0 out of 2707\n",
      "1717516399.343915 INFO: Expansion time:Pyr.DMSO:0.9320661739999991\n",
      "1717516399.344576 INFO: Filtered count:0 out of 2707\n",
      "1717516400.232831 INFO: Expansion time:Pyr.NO:0.887803722000001\n",
      "1717516400.2334971 INFO: Filtered count:0 out of 2707\n",
      "1717516401.129347 INFO: Expansion time:Pyr.NO2:0.8954096120000372\n",
      "1717516401.129964 INFO: Filtered count:0 out of 2707\n",
      "1717516402.137318 INFO: Expansion time:Pyr.NO3:1.0069120900000144\n",
      "1717516402.1379242 INFO: Filtered count:0 out of 2707\n",
      "1717516403.02276 INFO: Expansion time:Pyr.O2:0.8843989380000039\n",
      "1717516403.023377 INFO: Filtered count:0 out of 2707\n",
      "1717516403.9158652 INFO: Expansion time:Pyr.SO3:0.8920187229999783\n",
      "1717516403.9164429 INFO: Filtered count:0 out of 2707\n",
      "1717516405.571266 INFO: Expansion time:Pyr.SO4:1.6543290829999933\n",
      "1717516405.5718458 INFO: Filtered count:0 out of 2707\n",
      "1717516406.5435462 INFO: Expansion time:Pyr.TMAO:0.9712819080000372\n",
      "1717516406.5441651 INFO: Filtered count:0 out of 2707\n",
      "1717516407.573261 INFO: Expansion time:empty:1.0285961229999998\n",
      "1717516407.573963 INFO: Filtered count:0 out of 2707\n",
      "1717516407.8485482 INFO: cpd35610 not found in model!\n",
      "1717516407.849222 WARNING: cpd35610: could not find metabolite for cpd35610\n",
      "1717516596.7639942 INFO: cpd07053 not found in model!\n",
      "1717516596.764617 WARNING: cpd07053: could not find metabolite for cpd07053\n",
      "1717516627.520223 INFO: cpd04945 not found in model!\n",
      "1717516627.52102 WARNING: cpd04945: could not find metabolite for cpd04945\n",
      "1717516670.141545 INFO: metabolites 1117\n",
      "1717516670.349859 INFO: reactions 1085\n",
      "1717516670.859217 INFO: Default biomass: [bio1]\n",
      "1717516670.899821 WARNING: Ignoring reaction 'rxn00062_c0' since it already exists.\n",
      "1717516671.090087 WARNING: Ignoring reaction 'rxn00062_c0' since it already exists.\n"
     ]
    },
    {
     "name": "stdout",
     "output_type": "stream",
     "text": [
      "Getting tests from attributes\n"
     ]
    },
    {
     "name": "stderr",
     "output_type": "stream",
     "text": [
      "1717516682.607622 INFO: cpd35610 not found in model!\n",
      "1717516682.6083121 CRITICAL: Metabolite cpd35610 not found in model\n",
      "1717516682.624489 INFO: cpd07053 not found in model!\n",
      "1717516682.625319 CRITICAL: Metabolite cpd07053 not found in model\n",
      "1717516682.625762 INFO: cpd04945 not found in model!\n",
      "1717516682.626397 CRITICAL: Metabolite cpd04945 not found in model\n"
     ]
    },
    {
     "name": "stdout",
     "output_type": "stream",
     "text": [
      "Clostridium.6 GF: 13052 Prob: 1734 Other: 3518\n"
     ]
    },
    {
     "name": "stderr",
     "output_type": "stream",
     "text": [
      "1717516689.848434 INFO: Objective with gapfill database:199.33152869120556; min objective:0.01\n",
      "1717516695.227963 INFO: cpd35610 not found in model!\n",
      "1717516695.228531 WARNING: cpd35610: could not find metabolite for cpd35610\n",
      "1717516980.446053 INFO: cpd07053 not found in model!\n",
      "1717516980.446781 WARNING: cpd07053: could not find metabolite for cpd07053\n",
      "1717517071.96343 INFO: cpd04945 not found in model!\n",
      "1717517071.964122 WARNING: cpd04945: could not find metabolite for cpd04945\n",
      "1717517144.680539 INFO: metabolites 1645\n",
      "1717517146.1081522 INFO: reactions 1747\n",
      "1717517147.099926 INFO: Default biomass: [bio1]\n",
      "1717517147.1811268 WARNING: Ignoring reaction 'rxn00062_c0' since it already exists.\n",
      "1717517147.435767 WARNING: Ignoring reaction 'rxn00062_c0' since it already exists.\n"
     ]
    },
    {
     "name": "stdout",
     "output_type": "stream",
     "text": [
      "Getting tests from attributes\n"
     ]
    },
    {
     "name": "stderr",
     "output_type": "stream",
     "text": [
      "1717517157.653722 INFO: cpd35610 not found in model!\n",
      "1717517157.654253 CRITICAL: Metabolite cpd35610 not found in model\n",
      "1717517157.6680472 INFO: cpd07053 not found in model!\n",
      "1717517157.669425 CRITICAL: Metabolite cpd07053 not found in model\n",
      "1717517157.6704462 INFO: cpd04945 not found in model!\n",
      "1717517157.671298 CRITICAL: Metabolite cpd04945 not found in model\n"
     ]
    },
    {
     "name": "stdout",
     "output_type": "stream",
     "text": [
      "Clostridium.8 GF: 12118 Prob: 2963 Other: 3223\n"
     ]
    },
    {
     "name": "stderr",
     "output_type": "stream",
     "text": [
      "1717517163.471564 INFO: Objective with gapfill database:0.0; min objective:0.01\n",
      "/Users/chenry/opt/anaconda3/lib/python3.9/site-packages/cobra/util/solver.py:554: UserWarning: Solver status is 'infeasible'.\n",
      "  warn(f\"Solver status is '{status}'.\", UserWarning)\n",
      "1717517170.600666 INFO: Expansion time:Ac.NO:2.4157306560000507\n",
      "1717517170.6012359 INFO: Filtered count:0 out of 2569\n",
      "1717517171.6338408 INFO: Expansion time:Ac.NO2:1.03219924300015\n",
      "1717517171.6345081 INFO: Filtered count:0 out of 2569\n",
      "1717517173.297958 INFO: Expansion time:Ac.O2:1.6629082219999418\n",
      "1717517173.298653 INFO: Filtered count:0 out of 2569\n",
      "1717517175.189903 INFO: Expansion time:Dlac:1.8907314969999334\n",
      "1717517175.1904929 INFO: Filtered count:0 out of 2569\n",
      "1717517176.663734 INFO: Expansion time:Dlac.O2:1.4727726369999345\n",
      "1717517176.664376 INFO: Filtered count:0 out of 2569\n",
      "1717517178.281404 INFO: Expansion time:Etho.O2:1.6165214590000687\n",
      "1717517178.282356 INFO: Filtered count:0 out of 2569\n",
      "1717517179.836988 INFO: Expansion time:For.NO2:1.553990080999938\n",
      "1717517179.8376698 INFO: Filtered count:0 out of 2569\n",
      "1717517181.313097 INFO: Expansion time:For.O2:1.474914660999957\n",
      "1717517181.3138251 INFO: Filtered count:0 out of 2569\n",
      "1717517183.13637 INFO: Expansion time:Fum:1.8218903949998548\n",
      "1717517183.137153 INFO: Filtered count:0 out of 2569\n",
      "1717517184.43452 INFO: Expansion time:Fum.O2:1.2966831510000247\n",
      "1717517184.435174 INFO: Filtered count:0 out of 2569\n",
      "1717517185.870265 INFO: Expansion time:Glc:1.4345205390000046\n",
      "1717517185.870812 INFO: Filtered count:0 out of 2569\n",
      "1717517187.316544 INFO: Expansion time:Glc.DMSO:1.4452270010001484\n",
      "1717517187.317117 INFO: Filtered count:0 out of 2569\n",
      "1717517188.652527 INFO: Expansion time:Glc.O2:1.334882939000181\n",
      "1717517188.653217 INFO: Filtered count:0 out of 2569\n",
      "1717517189.891092 INFO: Expansion time:Glc.TMAO:1.237308387000212\n",
      "1717517189.891625 INFO: Filtered count:0 out of 2569\n",
      "1717517192.508227 INFO: Expansion time:Glyc:2.6160520910000287\n",
      "1717517192.509024 INFO: Filtered count:0 out of 2569\n",
      "1717517193.929138 INFO: Expansion time:Glyc.O2:1.4194681290000517\n",
      "1717517193.930015 INFO: Filtered count:0 out of 2569\n",
      "1717517195.294267 INFO: Expansion time:LLac.O2:1.3633887220000815\n",
      "1717517195.294955 INFO: Filtered count:0 out of 2569\n",
      "1717517196.504437 INFO: Expansion time:LLac.SO4:1.2089366990001054\n",
      "1717517196.505053 INFO: Filtered count:0 out of 2569\n",
      "1717517198.029927 INFO: Expansion time:LLac.SO4.H2:1.5243512220001776\n",
      "1717517198.030655 INFO: Filtered count:0 out of 2569\n",
      "1717517199.3879218 INFO: Expansion time:Llac:1.35668334900015\n",
      "1717517199.3885381 INFO: Filtered count:0 out of 2569\n",
      "1717517200.494453 INFO: Expansion time:Pyr:1.1054379170000175\n",
      "1717517200.495048 INFO: Filtered count:0 out of 2569\n",
      "1717517202.206974 INFO: Expansion time:Pyr.DMSO:1.7112029489999259\n",
      "1717517202.207674 INFO: Filtered count:0 out of 2569\n",
      "1717517203.588618 INFO: Expansion time:Pyr.NO:1.380240486000048\n",
      "1717517203.589281 INFO: Filtered count:0 out of 2569\n",
      "1717517204.864492 INFO: Expansion time:Pyr.NO2:1.274740212999859\n",
      "1717517204.8650382 INFO: Filtered count:0 out of 2569\n",
      "1717517206.531083 INFO: Expansion time:Pyr.NO3:1.6654648440000983\n",
      "1717517206.531651 INFO: Filtered count:0 out of 2569\n",
      "1717517207.811646 INFO: Expansion time:Pyr.O2:1.2795430399999077\n",
      "1717517207.8122208 INFO: Filtered count:0 out of 2569\n",
      "1717517209.317894 INFO: Expansion time:Pyr.SO3:1.5051347370001622\n",
      "1717517209.318399 INFO: Filtered count:0 out of 2569\n",
      "1717517210.823953 INFO: Expansion time:Pyr.SO4:1.5050475309999456\n",
      "1717517210.824569 INFO: Filtered count:0 out of 2569\n",
      "1717517213.069729 INFO: Expansion time:Pyr.TMAO:2.2446766300001855\n",
      "1717517213.070358 INFO: Filtered count:0 out of 2569\n",
      "1717517213.9421802 INFO: Expansion time:empty:0.8713829679998071\n",
      "1717517213.942863 INFO: Filtered count:0 out of 2569\n",
      "1717517214.183944 INFO: cpd35610 not found in model!\n",
      "1717517214.184559 WARNING: cpd35610: could not find metabolite for cpd35610\n",
      "1717517471.016671 INFO: cpd07053 not found in model!\n",
      "1717517471.0178401 WARNING: cpd07053: could not find metabolite for cpd07053\n",
      "1717517559.639301 INFO: cpd04945 not found in model!\n",
      "1717517559.639987 WARNING: cpd04945: could not find metabolite for cpd04945\n",
      "1717517636.768383 INFO: metabolites 1214\n",
      "1717517636.992175 INFO: reactions 1214\n",
      "1717517637.569203 INFO: Default biomass: [bio1]\n",
      "1717517637.6105049 WARNING: Ignoring reaction 'rxn00062_c0' since it already exists.\n",
      "1717517637.801783 WARNING: Ignoring reaction 'rxn00062_c0' since it already exists.\n"
     ]
    },
    {
     "name": "stdout",
     "output_type": "stream",
     "text": [
      "Getting tests from attributes\n"
     ]
    },
    {
     "name": "stderr",
     "output_type": "stream",
     "text": [
      "1717517647.869078 INFO: cpd35610 not found in model!\n",
      "1717517647.8696399 CRITICAL: Metabolite cpd35610 not found in model\n",
      "1717517647.8861198 INFO: cpd07053 not found in model!\n",
      "1717517647.886765 CRITICAL: Metabolite cpd07053 not found in model\n",
      "1717517647.887202 INFO: cpd04945 not found in model!\n",
      "1717517647.887559 CRITICAL: Metabolite cpd04945 not found in model\n"
     ]
    },
    {
     "name": "stdout",
     "output_type": "stream",
     "text": [
      "Ruminococcus.1 GF: 12879 Prob: 1987 Other: 3438\n"
     ]
    },
    {
     "name": "stderr",
     "output_type": "stream",
     "text": [
      "1717517655.2523189 INFO: Objective with gapfill database:208.86832274433098; min objective:0.01\n",
      "1717517660.060101 INFO: cpd35610 not found in model!\n",
      "1717517660.060732 WARNING: cpd35610: could not find metabolite for cpd35610\n",
      "1717517925.238005 INFO: cpd07053 not found in model!\n",
      "1717517925.2387059 WARNING: cpd07053: could not find metabolite for cpd07053\n",
      "1717518005.2933178 INFO: cpd04945 not found in model!\n",
      "1717518005.2939572 WARNING: cpd04945: could not find metabolite for cpd04945\n",
      "1717518075.643928 INFO: metabolites 1022\n",
      "1717518075.819948 INFO: reactions 976\n",
      "1717518076.314063 INFO: Default biomass: [bio1]\n",
      "1717518076.349338 WARNING: Ignoring reaction 'rxn00062_c0' since it already exists.\n",
      "1717518078.2141728 WARNING: Ignoring reaction 'rxn00062_c0' since it already exists.\n"
     ]
    },
    {
     "name": "stdout",
     "output_type": "stream",
     "text": [
      "Getting tests from attributes\n"
     ]
    },
    {
     "name": "stderr",
     "output_type": "stream",
     "text": [
      "1717518087.2105348 INFO: cpd35610 not found in model!\n",
      "1717518087.211203 CRITICAL: Metabolite cpd35610 not found in model\n",
      "1717518087.227138 INFO: cpd07053 not found in model!\n",
      "1717518087.227804 CRITICAL: Metabolite cpd07053 not found in model\n",
      "1717518087.228298 INFO: cpd04945 not found in model!\n",
      "1717518087.228684 CRITICAL: Metabolite cpd04945 not found in model\n"
     ]
    },
    {
     "name": "stdout",
     "output_type": "stream",
     "text": [
      "Muribaculum.1 GF: 13332 Prob: 1482 Other: 3490\n"
     ]
    },
    {
     "name": "stderr",
     "output_type": "stream",
     "text": [
      "1717518095.126615 INFO: Objective with gapfill database:193.3338434215219; min objective:0.01\n",
      "1717518100.215518 INFO: cpd35610 not found in model!\n",
      "1717518100.2161431 WARNING: cpd35610: could not find metabolite for cpd35610\n",
      "1717518355.419911 INFO: cpd07053 not found in model!\n",
      "1717518355.420597 WARNING: cpd07053: could not find metabolite for cpd07053\n",
      "1717518439.5461462 INFO: cpd04945 not found in model!\n",
      "1717518439.5468411 WARNING: cpd04945: could not find metabolite for cpd04945\n",
      "1717518499.606863 INFO: metabolites 1665\n",
      "1717518499.969236 INFO: reactions 1780\n",
      "1717518500.813987 INFO: Default biomass: [bio1]\n",
      "1717518500.878707 WARNING: Ignoring reaction 'rxn00062_c0' since it already exists.\n",
      "1717518501.081524 WARNING: Ignoring reaction 'rxn00062_c0' since it already exists.\n"
     ]
    },
    {
     "name": "stdout",
     "output_type": "stream",
     "text": [
      "Getting tests from attributes\n"
     ]
    },
    {
     "name": "stderr",
     "output_type": "stream",
     "text": [
      "1717518512.029491 INFO: cpd35610 not found in model!\n",
      "1717518512.030078 CRITICAL: Metabolite cpd35610 not found in model\n",
      "1717518512.044492 INFO: cpd07053 not found in model!\n",
      "1717518512.045624 CRITICAL: Metabolite cpd07053 not found in model\n",
      "1717518512.046346 INFO: cpd04945 not found in model!\n",
      "1717518512.047199 CRITICAL: Metabolite cpd04945 not found in model\n"
     ]
    },
    {
     "name": "stdout",
     "output_type": "stream",
     "text": [
      "Pseudomonas.1 GF: 12125 Prob: 3047 Other: 3132\n"
     ]
    },
    {
     "name": "stderr",
     "output_type": "stream",
     "text": [
      "1717518517.349163 INFO: Objective with gapfill database:0.0; min objective:0.01\n",
      "/Users/chenry/opt/anaconda3/lib/python3.9/site-packages/cobra/util/solver.py:554: UserWarning: Solver status is 'infeasible'.\n",
      "  warn(f\"Solver status is '{status}'.\", UserWarning)\n",
      "1717518523.0447302 INFO: Expansion time:Ac.NO2:0.998941029999969\n",
      "1717518523.045272 INFO: Filtered count:0 out of 2580\n",
      "1717518524.028407 INFO: Expansion time:Ac.NO3:0.982749105000039\n",
      "1717518524.0289521 INFO: Filtered count:0 out of 2580\n",
      "1717518525.2255309 INFO: Expansion time:Ac.O2:1.1961082220000208\n",
      "1717518525.226165 INFO: Filtered count:0 out of 2580\n",
      "1717518526.464828 INFO: Expansion time:Akg:1.2382243299998663\n",
      "1717518526.465416 INFO: Filtered count:0 out of 2580\n",
      "1717518527.4511302 INFO: Expansion time:Akg.O2:0.985039209000206\n",
      "1717518527.451689 INFO: Filtered count:0 out of 2580\n",
      "1717518528.708336 INFO: Expansion time:Dlac.O2:1.2560464029998002\n",
      "1717518528.712587 INFO: Filtered count:0 out of 2580\n",
      "1717518529.7980359 INFO: Expansion time:Etho.O2:1.0826169829997525\n",
      "1717518529.798531 INFO: Filtered count:0 out of 2580\n",
      "1717518531.041795 INFO: Expansion time:For.NO2:1.2424348049999026\n",
      "1717518531.0424252 INFO: Filtered count:0 out of 2580\n",
      "1717518532.026103 INFO: Expansion time:For.NO3:0.9831097109999973\n",
      "1717518532.026651 INFO: Filtered count:0 out of 2580\n",
      "1717518533.0888162 INFO: Expansion time:For.O2:1.0617243179999605\n",
      "1717518533.0892959 INFO: Filtered count:0 out of 2580\n",
      "1717518534.140548 INFO: Expansion time:Fum:1.050574602999859\n",
      "1717518534.141366 INFO: Filtered count:0 out of 2580\n",
      "1717518535.236435 INFO: Expansion time:Fum.O2:1.094580159999623\n",
      "1717518535.23701 INFO: Filtered count:0 out of 2580\n",
      "1717518536.342394 INFO: Expansion time:Glc:1.1049430160001066\n",
      "1717518536.343074 INFO: Filtered count:0 out of 2580\n",
      "1717518539.658817 INFO: Expansion time:Glc.DMSO:3.3152219960002185\n",
      "1717518539.659364 INFO: Filtered count:0 out of 2580\n",
      "1717518540.756027 INFO: Expansion time:Glc.O2:1.0960621200001697\n",
      "1717518540.7565901 INFO: Filtered count:0 out of 2580\n",
      "1717518541.9291909 INFO: Expansion time:Glc.TMAO:1.1721759070001099\n",
      "1717518541.929868 INFO: Filtered count:0 out of 2580\n",
      "1717518543.2208729 INFO: Expansion time:Glyc:1.2905054039997594\n",
      "1717518543.221518 INFO: Filtered count:0 out of 2580\n",
      "1717518544.411781 INFO: Expansion time:Glyc.O2:1.1896961389998069\n",
      "1717518544.412392 INFO: Filtered count:0 out of 2580\n",
      "1717518545.566846 INFO: Expansion time:LLac.O2:1.1537760719998005\n",
      "1717518545.5674722 INFO: Filtered count:0 out of 2580\n",
      "1717518546.580116 INFO: Expansion time:Pyr:1.0121101849999832\n",
      "1717518546.5806751 INFO: Filtered count:0 out of 2580\n",
      "1717518547.7176478 INFO: Expansion time:Pyr.DMSO:1.1364852649999193\n",
      "1717518547.718206 INFO: Filtered count:0 out of 2580\n",
      "1717518548.764541 INFO: Expansion time:Pyr.NO:1.0457796020000387\n",
      "1717518548.765087 INFO: Filtered count:0 out of 2580\n",
      "1717518549.852101 INFO: Expansion time:Pyr.NO2:1.0864969679996648\n",
      "1717518549.853021 INFO: Filtered count:0 out of 2580\n",
      "1717518550.943089 INFO: Expansion time:Pyr.NO3:1.0894605110001976\n",
      "1717518550.985096 INFO: Filtered count:0 out of 2580\n",
      "1717518552.1947572 INFO: Expansion time:Pyr.O2:1.2077868369997304\n",
      "1717518552.195328 INFO: Filtered count:0 out of 2580\n",
      "1717518553.224929 INFO: Expansion time:Pyr.SO3:1.0291434920000029\n",
      "1717518553.225534 INFO: Filtered count:0 out of 2580\n",
      "1717518554.3597682 INFO: Expansion time:Pyr.SO4:1.1337468410001748\n",
      "1717518554.3603399 INFO: Filtered count:0 out of 2580\n",
      "1717518555.3998861 INFO: Expansion time:Pyr.TMAO:1.0390997670001525\n",
      "1717518555.400467 INFO: Filtered count:0 out of 2580\n",
      "1717518556.558476 INFO: Expansion time:empty:1.1575276810003743\n",
      "1717518556.559191 INFO: Filtered count:0 out of 2580\n",
      "1717518556.8154728 INFO: cpd35610 not found in model!\n",
      "1717518556.816045 WARNING: cpd35610: could not find metabolite for cpd35610\n",
      "1717518823.866893 INFO: cpd07053 not found in model!\n",
      "1717518823.867607 WARNING: cpd07053: could not find metabolite for cpd07053\n",
      "1717518904.914567 INFO: cpd04945 not found in model!\n",
      "1717518904.915282 WARNING: cpd04945: could not find metabolite for cpd04945\n",
      "1717518978.696183 INFO: metabolites 972\n",
      "1717518978.850576 INFO: reactions 938\n",
      "1717518979.264116 INFO: Default biomass: [bio1]\n",
      "1717518979.298333 WARNING: Ignoring reaction 'rxn00062_c0' since it already exists.\n",
      "1717518979.474314 WARNING: Ignoring reaction 'rxn00062_c0' since it already exists.\n"
     ]
    },
    {
     "name": "stdout",
     "output_type": "stream",
     "text": [
      "Getting tests from attributes\n"
     ]
    },
    {
     "name": "stderr",
     "output_type": "stream",
     "text": [
      "1717518990.599817 INFO: cpd35610 not found in model!\n",
      "1717518990.600632 CRITICAL: Metabolite cpd35610 not found in model\n",
      "1717518990.6149068 INFO: cpd07053 not found in model!\n",
      "1717518990.61549 CRITICAL: Metabolite cpd07053 not found in model\n",
      "1717518990.61616 INFO: cpd04945 not found in model!\n",
      "1717518990.617017 CRITICAL: Metabolite cpd04945 not found in model\n"
     ]
    },
    {
     "name": "stdout",
     "output_type": "stream",
     "text": [
      "Streptococcus.3 GF: 13322 Prob: 1382 Other: 3598\n"
     ]
    },
    {
     "name": "stderr",
     "output_type": "stream",
     "text": [
      "1717518996.666183 INFO: Objective with gapfill database:248.3527693484259; min objective:0.01\n",
      "1717519001.881645 INFO: cpd35610 not found in model!\n",
      "1717519001.882623 WARNING: cpd35610: could not find metabolite for cpd35610\n",
      "1717519270.50162 INFO: cpd07053 not found in model!\n",
      "1717519270.502301 WARNING: cpd07053: could not find metabolite for cpd07053\n",
      "1717519354.2328022 INFO: cpd04945 not found in model!\n",
      "1717519354.233492 WARNING: cpd04945: could not find metabolite for cpd04945\n",
      "1717519419.0753899 INFO: metabolites 978\n",
      "1717519419.237211 INFO: reactions 950\n",
      "1717519419.662449 INFO: Default biomass: [bio1]\n",
      "1717519419.6974301 WARNING: Ignoring reaction 'rxn00062_c0' since it already exists.\n",
      "1717519422.3139808 WARNING: Ignoring reaction 'rxn00062_c0' since it already exists.\n"
     ]
    },
    {
     "name": "stdout",
     "output_type": "stream",
     "text": [
      "Getting tests from attributes\n"
     ]
    },
    {
     "name": "stderr",
     "output_type": "stream",
     "text": [
      "1717519430.351705 INFO: cpd35610 not found in model!\n",
      "1717519430.352417 CRITICAL: Metabolite cpd35610 not found in model\n",
      "1717519430.366124 INFO: cpd07053 not found in model!\n",
      "1717519430.3668249 CRITICAL: Metabolite cpd07053 not found in model\n",
      "1717519430.3672588 INFO: cpd04945 not found in model!\n",
      "1717519430.367771 CRITICAL: Metabolite cpd04945 not found in model\n"
     ]
    },
    {
     "name": "stdout",
     "output_type": "stream",
     "text": [
      "Kytococcus.1 GF: 13285 Prob: 1433 Other: 3586\n"
     ]
    },
    {
     "name": "stderr",
     "output_type": "stream",
     "text": [
      "1717519436.266995 INFO: Objective with gapfill database:230.3001487576259; min objective:0.01\n",
      "1717519441.023087 INFO: cpd35610 not found in model!\n",
      "1717519441.0237272 WARNING: cpd35610: could not find metabolite for cpd35610\n",
      "1717519695.651357 INFO: cpd07053 not found in model!\n",
      "1717519695.6623318 WARNING: cpd07053: could not find metabolite for cpd07053\n",
      "1717519770.335283 INFO: cpd04945 not found in model!\n",
      "1717519770.335975 WARNING: cpd04945: could not find metabolite for cpd04945\n",
      "1717519838.68974 INFO: metabolites 1348\n",
      "1717519838.940376 INFO: reactions 1381\n",
      "1717519839.578178 INFO: Default biomass: [bio1]\n",
      "1717519839.6373498 WARNING: Ignoring reaction 'rxn00062_c0' since it already exists.\n",
      "1717519839.835246 WARNING: Ignoring reaction 'rxn00062_c0' since it already exists.\n"
     ]
    },
    {
     "name": "stdout",
     "output_type": "stream",
     "text": [
      "Getting tests from attributes\n"
     ]
    },
    {
     "name": "stderr",
     "output_type": "stream",
     "text": [
      "1717519848.1505332 INFO: cpd35610 not found in model!\n",
      "1717519848.1511302 CRITICAL: Metabolite cpd35610 not found in model\n",
      "1717519848.1648982 INFO: cpd07053 not found in model!\n",
      "1717519848.165513 CRITICAL: Metabolite cpd07053 not found in model\n",
      "1717519848.166593 INFO: cpd04945 not found in model!\n",
      "1717519848.167634 CRITICAL: Metabolite cpd04945 not found in model\n"
     ]
    },
    {
     "name": "stdout",
     "output_type": "stream",
     "text": [
      "Oscillibacter.1 GF: 12646 Prob: 2311 Other: 3347\n"
     ]
    },
    {
     "name": "stderr",
     "output_type": "stream",
     "text": [
      "1717519854.5403678 INFO: Objective with gapfill database:0.0; min objective:0.01\n",
      "/Users/chenry/opt/anaconda3/lib/python3.9/site-packages/cobra/util/solver.py:554: UserWarning: Solver status is 'infeasible'.\n",
      "  warn(f\"Solver status is '{status}'.\", UserWarning)\n",
      "1717519859.7290702 INFO: Expansion time:Dlac:0.7078478910002559\n",
      "1717519859.7298 INFO: Filtered count:0 out of 2011\n",
      "1717519860.440112 INFO: Expansion time:Dlac.O2:0.7098628839999037\n",
      "1717519860.440654 INFO: Filtered count:0 out of 2011\n",
      "1717519864.129738 INFO: Expansion time:Fum:3.68854989700003\n",
      "1717519864.130283 INFO: Filtered count:0 out of 2011\n",
      "1717519864.8241332 INFO: Expansion time:Fum.O2:0.6933950430002369\n",
      "1717519864.824681 INFO: Filtered count:0 out of 2011\n",
      "1717519865.515527 INFO: Expansion time:Glc:0.6904012900004091\n",
      "1717519865.516209 INFO: Filtered count:0 out of 2011\n",
      "1717519866.278255 INFO: Expansion time:Glc.DMSO:0.7615579429998434\n",
      "1717519866.278931 INFO: Filtered count:0 out of 2011\n",
      "1717519867.011134 INFO: Expansion time:Glc.O2:0.7317419680002786\n",
      "1717519867.01168 INFO: Filtered count:0 out of 2011\n",
      "1717519867.7340958 INFO: Expansion time:Glc.TMAO:0.7220323500000632\n",
      "1717519867.734709 INFO: Filtered count:0 out of 2011\n",
      "1717519868.462508 INFO: Expansion time:LLac.O2:0.7272959980000451\n",
      "1717519868.463137 INFO: Filtered count:0 out of 2011\n",
      "1717519869.213869 INFO: Expansion time:LLac.SO4:0.7502566519997345\n",
      "1717519869.214423 INFO: Filtered count:0 out of 2011\n",
      "1717519869.911216 INFO: Expansion time:LLac.SO4.H2:0.6963701810000202\n",
      "1717519869.9117591 INFO: Filtered count:0 out of 2011\n",
      "1717519870.654424 INFO: Expansion time:Llac:0.7421818130001157\n",
      "1717519870.655 INFO: Filtered count:0 out of 2011\n",
      "1717519871.367339 INFO: Expansion time:Pyr:0.7118531500000245\n",
      "1717519871.367894 INFO: Filtered count:0 out of 2011\n",
      "1717519872.087486 INFO: Expansion time:Pyr.DMSO:0.7191310949997387\n",
      "1717519872.0880241 INFO: Filtered count:0 out of 2011\n",
      "1717519872.820728 INFO: Expansion time:Pyr.NO:0.7322448810000424\n",
      "1717519872.821268 INFO: Filtered count:0 out of 2011\n",
      "1717519873.558673 INFO: Expansion time:Pyr.NO2:0.7369416189999356\n",
      "1717519873.559236 INFO: Filtered count:0 out of 2011\n",
      "1717519874.298346 INFO: Expansion time:Pyr.NO3:0.7386671159997604\n",
      "1717519874.298893 INFO: Filtered count:0 out of 2011\n",
      "1717519875.012477 INFO: Expansion time:Pyr.O2:0.7130904270002247\n",
      "1717519875.0130649 INFO: Filtered count:0 out of 2011\n",
      "1717519875.7395608 INFO: Expansion time:Pyr.SO3:0.725952211999811\n",
      "1717519875.740366 INFO: Filtered count:0 out of 2011\n",
      "1717519876.4612532 INFO: Expansion time:Pyr.SO4:0.7204365679999682\n",
      "1717519876.461761 INFO: Filtered count:0 out of 2011\n",
      "1717519877.154402 INFO: Expansion time:Pyr.TMAO:0.6920850950000386\n",
      "1717519877.154944 INFO: Filtered count:0 out of 2011\n",
      "1717519877.966391 INFO: Expansion time:empty:0.8109981739999057\n",
      "1717519877.9670882 INFO: Filtered count:0 out of 2011\n",
      "1717519878.207683 INFO: cpd35610 not found in model!\n",
      "1717519878.208328 WARNING: cpd35610: could not find metabolite for cpd35610\n",
      "1717520026.178486 INFO: cpd07053 not found in model!\n",
      "1717520026.179113 WARNING: cpd07053: could not find metabolite for cpd07053\n",
      "1717520075.779139 INFO: cpd04945 not found in model!\n",
      "1717520075.779764 WARNING: cpd04945: could not find metabolite for cpd04945\n",
      "1717520104.380407 INFO: metabolites 1348\n",
      "1717520104.6294038 INFO: reactions 1349\n",
      "1717520105.250048 INFO: Default biomass: [bio1]\n",
      "1717520105.3007739 WARNING: Ignoring reaction 'rxn00062_c0' since it already exists.\n",
      "1717520105.481257 WARNING: Ignoring reaction 'rxn00062_c0' since it already exists.\n"
     ]
    },
    {
     "name": "stdout",
     "output_type": "stream",
     "text": [
      "Getting tests from attributes\n"
     ]
    },
    {
     "name": "stderr",
     "output_type": "stream",
     "text": [
      "1717520113.8424242 INFO: cpd35610 not found in model!\n",
      "1717520113.8431292 CRITICAL: Metabolite cpd35610 not found in model\n",
      "1717520113.856797 INFO: cpd07053 not found in model!\n",
      "1717520113.857412 CRITICAL: Metabolite cpd07053 not found in model\n",
      "1717520113.85784 INFO: cpd04945 not found in model!\n",
      "1717520113.85826 CRITICAL: Metabolite cpd04945 not found in model\n"
     ]
    },
    {
     "name": "stdout",
     "output_type": "stream",
     "text": [
      "Lactobacillus.6 GF: 12727 Prob: 2228 Other: 3349\n"
     ]
    },
    {
     "name": "stderr",
     "output_type": "stream",
     "text": [
      "1717520119.426574 INFO: Objective with gapfill database:247.9638669505493; min objective:0.01\n",
      "1717520124.012751 INFO: cpd35610 not found in model!\n",
      "1717520124.0134132 WARNING: cpd35610: could not find metabolite for cpd35610\n",
      "1717520392.60551 INFO: cpd07053 not found in model!\n",
      "1717520392.6062121 WARNING: cpd07053: could not find metabolite for cpd07053\n",
      "1717520474.143224 INFO: cpd04945 not found in model!\n",
      "1717520474.144027 WARNING: cpd04945: could not find metabolite for cpd04945\n",
      "1717520537.030509 INFO: metabolites 970\n",
      "1717520537.194347 INFO: reactions 940\n",
      "1717520537.628217 INFO: Default biomass: [bio1]\n",
      "1717520537.6665401 WARNING: Ignoring reaction 'rxn00062_c0' since it already exists.\n",
      "1717520537.851506 WARNING: Ignoring reaction 'rxn00062_c0' since it already exists.\n"
     ]
    },
    {
     "name": "stdout",
     "output_type": "stream",
     "text": [
      "Getting tests from attributes\n"
     ]
    },
    {
     "name": "stderr",
     "output_type": "stream",
     "text": [
      "1717520549.584637 INFO: cpd35610 not found in model!\n",
      "1717520549.585301 CRITICAL: Metabolite cpd35610 not found in model\n",
      "1717520549.600752 INFO: cpd07053 not found in model!\n",
      "1717520549.601522 CRITICAL: Metabolite cpd07053 not found in model\n",
      "1717520549.6019468 INFO: cpd04945 not found in model!\n",
      "1717520549.6023521 CRITICAL: Metabolite cpd04945 not found in model\n"
     ]
    },
    {
     "name": "stdout",
     "output_type": "stream",
     "text": [
      "Weissella.2 GF: 13327 Prob: 1328 Other: 3645\n"
     ]
    },
    {
     "name": "stderr",
     "output_type": "stream",
     "text": [
      "1717520555.551466 INFO: Objective with gapfill database:0.0; min objective:0.01\n",
      "/Users/chenry/opt/anaconda3/lib/python3.9/site-packages/cobra/util/solver.py:554: UserWarning: Solver status is 'infeasible'.\n",
      "  warn(f\"Solver status is '{status}'.\", UserWarning)\n",
      "1717520561.249745 INFO: Expansion time:Dlac.O2:0.5911706520000735\n",
      "1717520561.250327 INFO: Filtered count:0 out of 1325\n",
      "1717520561.866246 INFO: Expansion time:Etho.O2:0.6154110279994711\n",
      "1717520561.866797 INFO: Filtered count:0 out of 1325\n",
      "1717520562.4768472 INFO: Expansion time:Glc:0.6094884430003731\n",
      "1717520562.477513 INFO: Filtered count:0 out of 1325\n",
      "1717520563.068682 INFO: Expansion time:Glc.DMSO:0.5907176310001887\n",
      "1717520563.0692322 INFO: Filtered count:0 out of 1325\n",
      "1717520563.66497 INFO: Expansion time:Glc.O2:0.595243806000326\n",
      "1717520563.6655412 INFO: Filtered count:0 out of 1325\n",
      "1717520564.3564858 INFO: Expansion time:Glc.TMAO:0.6905142739997245\n",
      "1717520564.357037 INFO: Filtered count:0 out of 1325\n",
      "1717520564.933357 INFO: Expansion time:Pyr:0.5759064339999895\n",
      "1717520564.933908 INFO: Filtered count:0 out of 1325\n",
      "1717520565.5202298 INFO: Expansion time:Pyr.DMSO:0.585884738000459\n",
      "1717520565.520896 INFO: Filtered count:0 out of 1325\n",
      "1717520566.1450932 INFO: Expansion time:Pyr.NO:0.6237829060000877\n",
      "1717520566.145691 INFO: Filtered count:0 out of 1325\n",
      "1717520566.7455711 INFO: Expansion time:Pyr.NO2:0.59937721300048\n",
      "1717520566.746132 INFO: Filtered count:0 out of 1325\n",
      "1717520567.320544 INFO: Expansion time:Pyr.NO3:0.5739725620005629\n",
      "1717520567.3211288 INFO: Filtered count:0 out of 1325\n",
      "1717520567.930152 INFO: Expansion time:Pyr.O2:0.6085913429997163\n",
      "1717520567.930727 INFO: Filtered count:0 out of 1325\n",
      "1717520568.522027 INFO: Expansion time:Pyr.SO3:0.5908581769999728\n",
      "1717520568.5226188 INFO: Filtered count:0 out of 1325\n",
      "1717520569.1033862 INFO: Expansion time:Pyr.SO4:0.5803377420006655\n",
      "1717520569.103963 INFO: Filtered count:0 out of 1325\n",
      "1717520569.6864269 INFO: Expansion time:Pyr.TMAO:0.5820040270000391\n",
      "1717520569.687055 INFO: Filtered count:0 out of 1325\n",
      "1717520570.292736 INFO: Expansion time:empty:0.6052432469996347\n",
      "1717520570.293313 INFO: Filtered count:0 out of 1325\n",
      "1717520570.582111 INFO: cpd35610 not found in model!\n",
      "1717520570.5828679 WARNING: cpd35610: could not find metabolite for cpd35610\n",
      "1717520770.514039 INFO: cpd07053 not found in model!\n",
      "1717520770.515006 WARNING: cpd07053: could not find metabolite for cpd07053\n",
      "1717520844.650866 INFO: cpd04945 not found in model!\n",
      "1717520844.651517 WARNING: cpd04945: could not find metabolite for cpd04945\n",
      "1717520904.423052 INFO: metabolites 1450\n",
      "1717520904.701972 INFO: reactions 1397\n",
      "1717520905.3774452 INFO: Default biomass: [bio1]\n",
      "1717520905.429226 WARNING: Ignoring reaction 'rxn00062_c0' since it already exists.\n",
      "1717520905.6217349 WARNING: Ignoring reaction 'rxn00062_c0' since it already exists.\n"
     ]
    },
    {
     "name": "stdout",
     "output_type": "stream",
     "text": [
      "Getting tests from attributes\n"
     ]
    },
    {
     "name": "stderr",
     "output_type": "stream",
     "text": [
      "1717520918.013987 INFO: cpd35610 not found in model!\n",
      "1717520918.014598 CRITICAL: Metabolite cpd35610 not found in model\n",
      "1717520918.029293 INFO: cpd07053 not found in model!\n",
      "1717520918.029897 CRITICAL: Metabolite cpd07053 not found in model\n",
      "1717520918.030453 INFO: cpd04945 not found in model!\n",
      "1717520918.0309162 CRITICAL: Metabolite cpd04945 not found in model\n"
     ]
    },
    {
     "name": "stdout",
     "output_type": "stream",
     "text": [
      "Eubacterium.5 GF: 12557 Prob: 2394 Other: 3353\n"
     ]
    },
    {
     "name": "stderr",
     "output_type": "stream",
     "text": [
      "1717520923.632571 INFO: Objective with gapfill database:0.0; min objective:0.01\n",
      "/Users/chenry/opt/anaconda3/lib/python3.9/site-packages/cobra/util/solver.py:554: UserWarning: Solver status is 'infeasible'.\n",
      "  warn(f\"Solver status is '{status}'.\", UserWarning)\n",
      "1717520929.3712661 INFO: Expansion time:Ac.NO:0.8597549119995165\n",
      "1717520929.371825 INFO: Filtered count:0 out of 2033\n",
      "1717520930.2643998 INFO: Expansion time:Ac.O2:0.8919125229995188\n",
      "1717520930.265007 INFO: Filtered count:0 out of 2033\n",
      "1717520931.171954 INFO: Expansion time:Dlac:0.9064395200002764\n",
      "1717520931.1725 INFO: Filtered count:0 out of 2033\n",
      "1717520932.244131 INFO: Expansion time:Dlac.O2:1.070842551000169\n",
      "1717520932.244818 INFO: Filtered count:0 out of 2033\n",
      "1717520933.183976 INFO: Expansion time:Etho.O2:0.9386379580000721\n",
      "1717520933.1845472 INFO: Filtered count:0 out of 2033\n",
      "1717520934.100574 INFO: Expansion time:For.O2:0.915574619999461\n",
      "1717520934.101151 INFO: Filtered count:0 out of 2033\n",
      "1717520935.0807 INFO: Expansion time:Fum:0.979033655999956\n",
      "1717520935.081253 INFO: Filtered count:0 out of 2033\n",
      "1717520936.152458 INFO: Expansion time:Fum.O2:1.0707452619999458\n",
      "1717520936.1530418 INFO: Filtered count:0 out of 2033\n",
      "1717520937.13631 INFO: Expansion time:Glc:0.982787692999409\n",
      "1717520937.136804 INFO: Filtered count:0 out of 2033\n",
      "1717520938.154248 INFO: Expansion time:Glc.DMSO:1.0169855040003313\n",
      "1717520938.1548202 INFO: Filtered count:0 out of 2033\n",
      "1717520939.1339278 INFO: Expansion time:Glc.O2:0.978584272000262\n",
      "1717520939.1344872 INFO: Filtered count:0 out of 2033\n",
      "1717520940.0985558 INFO: Expansion time:Glc.TMAO:0.9635833580005055\n",
      "1717520940.09921 INFO: Filtered count:0 out of 2033\n",
      "1717520941.001923 INFO: Expansion time:Glyc:0.9018814849996488\n",
      "1717520941.00249 INFO: Filtered count:0 out of 2033\n",
      "1717520942.224034 INFO: Expansion time:Glyc.O2:1.2211000209999838\n",
      "1717520942.2254379 INFO: Filtered count:0 out of 2033\n",
      "1717520943.349855 INFO: Expansion time:Pyr:1.1225933069999883\n",
      "1717520943.350427 INFO: Filtered count:0 out of 2033\n",
      "1717520944.343329 INFO: Expansion time:Pyr.DMSO:0.9923231169996143\n",
      "1717520944.3440168 INFO: Filtered count:0 out of 2033\n",
      "1717520945.2741802 INFO: Expansion time:Pyr.NO:0.9297108639993894\n",
      "1717520945.2747362 INFO: Filtered count:0 out of 2033\n",
      "1717520946.30492 INFO: Expansion time:Pyr.NO2:1.0297057909992873\n",
      "1717520946.305391 INFO: Filtered count:0 out of 2033\n",
      "1717520947.364102 INFO: Expansion time:Pyr.NO3:1.058243372999641\n",
      "1717520947.364727 INFO: Filtered count:0 out of 2033\n",
      "1717520948.3130739 INFO: Expansion time:Pyr.O2:0.9478615329999229\n",
      "1717520948.313639 INFO: Filtered count:0 out of 2033\n",
      "1717520949.257437 INFO: Expansion time:Pyr.SO3:0.9433037380003952\n",
      "1717520949.258153 INFO: Filtered count:0 out of 2033\n",
      "1717520950.173826 INFO: Expansion time:Pyr.SO4:0.9151435029998538\n",
      "1717520950.174411 INFO: Filtered count:0 out of 2033\n",
      "1717520951.1181068 INFO: Expansion time:Pyr.TMAO:0.9431184420000136\n",
      "1717520951.118798 INFO: Filtered count:0 out of 2033\n",
      "1717520951.876576 INFO: Expansion time:empty:0.7572550200002297\n",
      "1717520951.877184 INFO: Filtered count:0 out of 2033\n",
      "1717520952.135444 INFO: cpd35610 not found in model!\n",
      "1717520952.136111 WARNING: cpd35610: could not find metabolite for cpd35610\n",
      "1717521218.453702 INFO: cpd07053 not found in model!\n",
      "1717521218.4544032 WARNING: cpd07053: could not find metabolite for cpd07053\n",
      "1717521295.243232 INFO: cpd04945 not found in model!\n",
      "1717521295.2439198 WARNING: cpd04945: could not find metabolite for cpd04945\n",
      "1717521364.758772 INFO: metabolites 1603\n",
      "1717521365.100141 INFO: reactions 1710\n",
      "1717521365.933728 INFO: Default biomass: [bio1]\n",
      "1717521365.993666 WARNING: Ignoring reaction 'rxn00062_c0' since it already exists.\n",
      "1717521366.2019908 WARNING: Ignoring reaction 'rxn00062_c0' since it already exists.\n"
     ]
    },
    {
     "name": "stdout",
     "output_type": "stream",
     "text": [
      "Getting tests from attributes\n"
     ]
    },
    {
     "name": "stderr",
     "output_type": "stream",
     "text": [
      "1717521374.968852 INFO: cpd35610 not found in model!\n",
      "1717521374.969483 CRITICAL: Metabolite cpd35610 not found in model\n",
      "1717521374.984971 INFO: cpd07053 not found in model!\n",
      "1717521374.9856782 CRITICAL: Metabolite cpd07053 not found in model\n",
      "1717521374.9861739 INFO: cpd04945 not found in model!\n",
      "1717521374.986642 CRITICAL: Metabolite cpd04945 not found in model\n"
     ]
    },
    {
     "name": "stdout",
     "output_type": "stream",
     "text": [
      "Pseudomonas.3 GF: 12253 Prob: 2918 Other: 3133\n"
     ]
    },
    {
     "name": "stderr",
     "output_type": "stream",
     "text": [
      "1717521384.68272 INFO: Objective with gapfill database:0.0; min objective:0.01\n",
      "/Users/chenry/opt/anaconda3/lib/python3.9/site-packages/cobra/util/solver.py:554: UserWarning: Solver status is 'infeasible'.\n",
      "  warn(f\"Solver status is '{status}'.\", UserWarning)\n",
      "1717521390.224085 INFO: Expansion time:Ac.NO2:0.9438299430003099\n",
      "1717521390.2246358 INFO: Filtered count:0 out of 2487\n",
      "1717521391.29758 INFO: Expansion time:Ac.NO3:1.0724816309993912\n",
      "1717521391.2981398 INFO: Filtered count:0 out of 2487\n",
      "1717521392.427802 INFO: Expansion time:Ac.O2:1.129154594999818\n",
      "1717521392.428352 INFO: Filtered count:0 out of 2487\n",
      "1717521393.3837361 INFO: Expansion time:Akg:0.9549378880001314\n",
      "1717521393.384408 INFO: Filtered count:0 out of 2487\n",
      "1717521394.6811259 INFO: Expansion time:Akg.O2:1.2961330910002289\n",
      "1717521394.681864 INFO: Filtered count:0 out of 2487\n",
      "1717521395.802696 INFO: Expansion time:Dlac.O2:1.1201200200002859\n",
      "1717521395.803285 INFO: Filtered count:0 out of 2487\n",
      "1717521396.7333639 INFO: Expansion time:Etho.O2:0.9295643619998373\n",
      "1717521396.733912 INFO: Filtered count:0 out of 2487\n",
      "1717521398.0203562 INFO: Expansion time:For.NO2:1.2856770539992795\n",
      "1717521398.021067 INFO: Filtered count:0 out of 2487\n",
      "1717521399.040996 INFO: Expansion time:For.NO3:1.0194647930002247\n",
      "1717521399.041556 INFO: Filtered count:0 out of 2487\n",
      "1717521400.0591722 INFO: Expansion time:For.O2:1.0171397139993132\n",
      "1717521400.0597818 INFO: Filtered count:0 out of 2487\n",
      "1717521400.9998 INFO: Expansion time:Fum:0.9395846770003118\n",
      "1717521401.000433 INFO: Filtered count:0 out of 2487\n",
      "1717521402.219472 INFO: Expansion time:Fum.O2:1.21865540699946\n",
      "1717521402.220025 INFO: Filtered count:0 out of 2487\n",
      "1717521403.359921 INFO: Expansion time:Glc:1.139441459000409\n",
      "1717521403.3622558 INFO: Filtered count:0 out of 2487\n",
      "1717521404.517168 INFO: Expansion time:Glc.DMSO:1.153332722000414\n",
      "1717521404.517787 INFO: Filtered count:0 out of 2487\n",
      "1717521405.574079 INFO: Expansion time:Glc.O2:1.0558350659994176\n",
      "1717521405.574661 INFO: Filtered count:0 out of 2487\n",
      "1717521406.891484 INFO: Expansion time:Glc.TMAO:1.3160217619997638\n",
      "1717521406.892169 INFO: Filtered count:0 out of 2487\n",
      "1717521407.842923 INFO: Expansion time:Glyc:0.9502972880000016\n",
      "1717521407.843502 INFO: Filtered count:0 out of 2487\n",
      "1717521409.05153 INFO: Expansion time:Glyc.O2:1.2074545059995216\n",
      "1717521409.052175 INFO: Filtered count:0 out of 2487\n",
      "1717521410.3791502 INFO: Expansion time:LLac.O2:1.3264403890007088\n",
      "1717521410.379749 INFO: Filtered count:0 out of 2487\n",
      "1717521411.4697301 INFO: Expansion time:LLac.SO4:1.089477557000464\n",
      "1717521411.470336 INFO: Filtered count:0 out of 2487\n",
      "1717521412.622018 INFO: Expansion time:LLac.SO4.H2:1.15116907599986\n",
      "1717521412.6225479 INFO: Filtered count:0 out of 2487\n",
      "1717521413.703271 INFO: Expansion time:Pyr:1.080244230000062\n",
      "1717521413.7038562 INFO: Filtered count:0 out of 2487\n",
      "1717521414.740562 INFO: Expansion time:Pyr.DMSO:1.036320539999906\n",
      "1717521414.741096 INFO: Filtered count:0 out of 2487\n",
      "1717521415.780472 INFO: Expansion time:Pyr.NO:1.0389209820004908\n",
      "1717521415.78102 INFO: Filtered count:0 out of 2487\n",
      "1717521417.051729 INFO: Expansion time:Pyr.NO2:1.2702620580002986\n",
      "1717521417.0523012 INFO: Filtered count:0 out of 2487\n",
      "1717521418.260751 INFO: Expansion time:Pyr.NO3:1.2079373019996638\n",
      "1717521418.262496 INFO: Filtered count:0 out of 2487\n",
      "1717521419.4094641 INFO: Expansion time:Pyr.O2:1.1441161160000775\n",
      "1717521419.410013 INFO: Filtered count:0 out of 2487\n",
      "1717521420.558673 INFO: Expansion time:Pyr.SO3:1.1479906410004332\n",
      "1717521420.559276 INFO: Filtered count:0 out of 2487\n",
      "1717521421.603495 INFO: Expansion time:Pyr.SO4:1.0434074169997984\n",
      "1717521421.604049 INFO: Filtered count:0 out of 2487\n",
      "1717521422.906605 INFO: Expansion time:Pyr.TMAO:1.300983623999855\n",
      "1717521422.907253 INFO: Filtered count:0 out of 2487\n",
      "1717521424.133569 INFO: Expansion time:empty:1.2257492009994166\n",
      "1717521424.1340852 INFO: Filtered count:0 out of 2487\n",
      "1717521424.389855 INFO: cpd35610 not found in model!\n",
      "1717521424.39062 WARNING: cpd35610: could not find metabolite for cpd35610\n",
      "1717521661.826336 INFO: cpd07053 not found in model!\n",
      "1717521661.827033 WARNING: cpd07053: could not find metabolite for cpd07053\n",
      "1717521737.874173 INFO: cpd04945 not found in model!\n",
      "1717521737.87487 WARNING: cpd04945: could not find metabolite for cpd04945\n",
      "1717521799.507259 INFO: metabolites 1268\n",
      "1717521799.7435122 INFO: reactions 1306\n",
      "1717521800.3836029 INFO: Default biomass: [bio1]\n",
      "1717521800.437091 WARNING: Ignoring reaction 'rxn00062_c0' since it already exists.\n",
      "1717521800.636121 WARNING: Ignoring reaction 'rxn00062_c0' since it already exists.\n"
     ]
    },
    {
     "name": "stdout",
     "output_type": "stream",
     "text": [
      "Getting tests from attributes\n"
     ]
    },
    {
     "name": "stderr",
     "output_type": "stream",
     "text": [
      "1717521809.324905 INFO: cpd35610 not found in model!\n",
      "1717521809.325522 CRITICAL: Metabolite cpd35610 not found in model\n",
      "1717521809.345001 INFO: cpd07053 not found in model!\n",
      "1717521809.345779 CRITICAL: Metabolite cpd07053 not found in model\n",
      "1717521809.3462138 INFO: cpd04945 not found in model!\n",
      "1717521809.3466082 CRITICAL: Metabolite cpd04945 not found in model\n"
     ]
    },
    {
     "name": "stdout",
     "output_type": "stream",
     "text": [
      "Bacillus.2 GF: 12834 Prob: 2132 Other: 3338\n"
     ]
    },
    {
     "name": "stderr",
     "output_type": "stream",
     "text": [
      "1717521815.5386 INFO: Objective with gapfill database:0.0; min objective:0.01\n",
      "/Users/chenry/opt/anaconda3/lib/python3.9/site-packages/cobra/util/solver.py:554: UserWarning: Solver status is 'infeasible'.\n",
      "  warn(f\"Solver status is '{status}'.\", UserWarning)\n",
      "1717521821.181195 INFO: Expansion time:Ac.NO2:0.7931015540007138\n",
      "1717521821.181768 INFO: Filtered count:0 out of 1903\n",
      "1717521822.27399 INFO: Expansion time:Ac.NO3:1.0917623000004824\n",
      "1717521822.274615 INFO: Filtered count:0 out of 1903\n",
      "1717521827.7308748 INFO: Expansion time:Ac.O2:5.455728140999781\n",
      "1717521827.7315478 INFO: Filtered count:0 out of 1903\n",
      "1717521828.571551 INFO: Expansion time:Akg.O2:0.8393640899994352\n",
      "1717521828.572449 INFO: Filtered count:0 out of 1903\n",
      "1717521829.518124 INFO: Expansion time:Etho.O2:0.9451583780000874\n",
      "1717521829.51867 INFO: Filtered count:0 out of 1903\n",
      "1717521830.470773 INFO: Expansion time:Fum:0.9516654479994031\n",
      "1717521830.4713311 INFO: Filtered count:0 out of 1903\n",
      "1717521831.4701078 INFO: Expansion time:Fum.O2:0.9983229870003925\n",
      "1717521831.4706671 INFO: Filtered count:0 out of 1903\n",
      "1717521832.31164 INFO: Expansion time:Glc:0.8405134479999106\n",
      "1717521832.3122098 INFO: Filtered count:0 out of 1903\n",
      "1717521833.109047 INFO: Expansion time:Glc.DMSO:0.7963423889996193\n",
      "1717521833.109716 INFO: Filtered count:0 out of 1903\n",
      "1717521833.9823658 INFO: Expansion time:Glc.O2:0.8722075100004076\n",
      "1717521833.982927 INFO: Filtered count:0 out of 1903\n",
      "1717521835.331498 INFO: Expansion time:Glc.TMAO:1.347857318000024\n",
      "1717521835.3323321 INFO: Filtered count:0 out of 1903\n",
      "1717521836.279922 INFO: Expansion time:Glyc.O2:0.946700769999552\n",
      "1717521836.28045 INFO: Filtered count:0 out of 1903\n",
      "1717521837.164802 INFO: Expansion time:LLac.O2:0.8839060849995803\n",
      "1717521837.165288 INFO: Filtered count:0 out of 1903\n",
      "1717521838.121723 INFO: Expansion time:Pyr:0.9559339010002077\n",
      "1717521838.122588 INFO: Filtered count:0 out of 1903\n",
      "1717521839.659379 INFO: Expansion time:Pyr.DMSO:1.536259338000491\n",
      "1717521839.660105 INFO: Filtered count:0 out of 1903\n",
      "1717521840.7867131 INFO: Expansion time:Pyr.NO:1.1260082529997817\n",
      "1717521840.787264 INFO: Filtered count:0 out of 1903\n",
      "1717521841.929163 INFO: Expansion time:Pyr.NO2:1.141279055999803\n",
      "1717521841.929742 INFO: Filtered count:0 out of 1903\n",
      "1717521842.776843 INFO: Expansion time:Pyr.NO3:0.8466141989993048\n",
      "1717521842.7773929 INFO: Filtered count:0 out of 1903\n",
      "1717521843.6117408 INFO: Expansion time:Pyr.O2:0.8338836169996284\n",
      "1717521843.612293 INFO: Filtered count:0 out of 1903\n",
      "1717521845.022101 INFO: Expansion time:Pyr.SO3:1.4093117969996456\n",
      "1717521845.0227299 INFO: Filtered count:0 out of 1903\n",
      "1717521846.037395 INFO: Expansion time:Pyr.SO4:1.014192758999343\n",
      "1717521846.0380428 INFO: Filtered count:0 out of 1903\n",
      "1717521847.259259 INFO: Expansion time:Pyr.TMAO:1.2207313879998765\n",
      "1717521847.2635689 INFO: Filtered count:0 out of 1903\n",
      "1717521848.211597 INFO: Expansion time:empty:0.9474144659998274\n",
      "1717521848.212151 INFO: Filtered count:0 out of 1903\n",
      "1717521848.4745522 INFO: cpd35610 not found in model!\n",
      "1717521848.475242 WARNING: cpd35610: could not find metabolite for cpd35610\n",
      "1717522059.686919 INFO: cpd07053 not found in model!\n",
      "1717522059.687625 WARNING: cpd07053: could not find metabolite for cpd07053\n",
      "1717522110.4143062 INFO: cpd04945 not found in model!\n",
      "1717522110.414984 WARNING: cpd04945: could not find metabolite for cpd04945\n",
      "1717522175.319804 INFO: metabolites 1311\n",
      "1717522175.585187 INFO: reactions 1276\n",
      "1717522176.181383 INFO: Default biomass: [bio1]\n",
      "1717522176.2359061 WARNING: Ignoring reaction 'rxn00062_c0' since it already exists.\n",
      "1717522176.431954 WARNING: Ignoring reaction 'rxn00062_c0' since it already exists.\n"
     ]
    },
    {
     "name": "stdout",
     "output_type": "stream",
     "text": [
      "Getting tests from attributes\n"
     ]
    },
    {
     "name": "stderr",
     "output_type": "stream",
     "text": [
      "1717522185.022124 INFO: cpd35610 not found in model!\n",
      "1717522185.022857 CRITICAL: Metabolite cpd35610 not found in model\n",
      "1717522185.038362 INFO: cpd07053 not found in model!\n",
      "1717522185.0390248 CRITICAL: Metabolite cpd07053 not found in model\n",
      "1717522185.0394418 INFO: cpd04945 not found in model!\n",
      "1717522185.039906 CRITICAL: Metabolite cpd04945 not found in model\n"
     ]
    },
    {
     "name": "stdout",
     "output_type": "stream",
     "text": [
      "Christensenella.1 GF: 12821 Prob: 2069 Other: 3412\n"
     ]
    },
    {
     "name": "stderr",
     "output_type": "stream",
     "text": [
      "1717522190.920577 INFO: Objective with gapfill database:0.0; min objective:0.01\n",
      "/Users/chenry/opt/anaconda3/lib/python3.9/site-packages/cobra/util/solver.py:554: UserWarning: Solver status is 'infeasible'.\n",
      "  warn(f\"Solver status is '{status}'.\", UserWarning)\n",
      "1717522196.654104 INFO: Expansion time:Dlac:0.8444669519994932\n",
      "1717522196.6546838 INFO: Filtered count:0 out of 1871\n",
      "1717522197.645371 INFO: Expansion time:Dlac.O2:0.9901815679995707\n",
      "1717522197.645953 INFO: Filtered count:0 out of 1871\n",
      "1717522198.689892 INFO: Expansion time:Etho.O2:1.0434926349998932\n",
      "1717522198.6905348 INFO: Filtered count:0 out of 1871\n",
      "1717522199.581079 INFO: Expansion time:Fum:0.8901050209997265\n",
      "1717522199.581652 INFO: Filtered count:0 out of 1871\n",
      "1717522200.3977442 INFO: Expansion time:Fum.O2:0.8156404840001414\n",
      "1717522200.398366 INFO: Filtered count:0 out of 1871\n",
      "1717522201.384636 INFO: Expansion time:Glc:0.9858198570000241\n",
      "1717522201.385192 INFO: Filtered count:0 out of 1871\n",
      "1717522202.24105 INFO: Expansion time:Glc.DMSO:0.8554169429999092\n",
      "1717522202.241696 INFO: Filtered count:0 out of 1871\n",
      "1717522203.106634 INFO: Expansion time:Glc.O2:0.8644814799999949\n",
      "1717522203.107178 INFO: Filtered count:0 out of 1871\n",
      "1717522203.9800498 INFO: Expansion time:Glc.TMAO:0.8722711210002672\n",
      "1717522203.980774 INFO: Filtered count:0 out of 1871\n",
      "1717522204.818532 INFO: Expansion time:Pyr:0.8373037010005646\n",
      "1717522204.819059 INFO: Filtered count:0 out of 1871\n",
      "1717522205.782807 INFO: Expansion time:Pyr.DMSO:0.9632951779994983\n",
      "1717522205.783551 INFO: Filtered count:0 out of 1871\n",
      "1717522206.7449868 INFO: Expansion time:Pyr.NO:0.9609318879993225\n",
      "1717522206.7455401 INFO: Filtered count:0 out of 1871\n",
      "1717522207.7283359 INFO: Expansion time:Pyr.NO2:0.9822797970000465\n",
      "1717522207.729113 INFO: Filtered count:0 out of 1871\n",
      "1717522213.2351081 INFO: Expansion time:Pyr.NO3:5.505041143000199\n",
      "1717522213.235661 INFO: Filtered count:0 out of 1871\n",
      "1717522214.107848 INFO: Expansion time:Pyr.O2:0.8717379959998652\n",
      "1717522214.108741 INFO: Filtered count:0 out of 1871\n",
      "1717522215.113943 INFO: Expansion time:Pyr.SO3:1.004718206000689\n",
      "1717522215.114458 INFO: Filtered count:0 out of 1871\n",
      "1717522216.026003 INFO: Expansion time:Pyr.SO4:0.9107898789998217\n",
      "1717522216.026585 INFO: Filtered count:0 out of 1871\n",
      "1717522216.839193 INFO: Expansion time:Pyr.TMAO:0.812155850999261\n",
      "1717522216.8398058 INFO: Filtered count:0 out of 1871\n",
      "1717522217.540349 INFO: Expansion time:empty:0.7000624820002486\n",
      "1717522217.540904 INFO: Filtered count:0 out of 1871\n",
      "1717522217.819133 INFO: cpd35610 not found in model!\n",
      "1717522217.819839 WARNING: cpd35610: could not find metabolite for cpd35610\n",
      "1717522441.277109 INFO: cpd07053 not found in model!\n",
      "1717522441.277782 WARNING: cpd07053: could not find metabolite for cpd07053\n",
      "1717522511.325311 INFO: cpd04945 not found in model!\n",
      "1717522511.325959 WARNING: cpd04945: could not find metabolite for cpd04945\n",
      "1717522562.214468 INFO: metabolites 1178\n",
      "1717522562.445267 INFO: reactions 1225\n",
      "1717522563.0088792 INFO: Default biomass: [bio1]\n",
      "1717522563.0620449 WARNING: Ignoring reaction 'rxn00062_c0' since it already exists.\n",
      "1717522563.2629619 WARNING: Ignoring reaction 'rxn00062_c0' since it already exists.\n"
     ]
    },
    {
     "name": "stdout",
     "output_type": "stream",
     "text": [
      "Getting tests from attributes\n"
     ]
    },
    {
     "name": "stderr",
     "output_type": "stream",
     "text": [
      "1717522576.7598898 INFO: cpd35610 not found in model!\n",
      "1717522576.760541 CRITICAL: Metabolite cpd35610 not found in model\n",
      "1717522576.77584 INFO: cpd07053 not found in model!\n",
      "1717522576.776551 CRITICAL: Metabolite cpd07053 not found in model\n",
      "1717522576.777052 INFO: cpd04945 not found in model!\n",
      "1717522576.777493 CRITICAL: Metabolite cpd04945 not found in model\n"
     ]
    },
    {
     "name": "stdout",
     "output_type": "stream",
     "text": [
      "Stenotrophomonas.4 GF: 12981 Prob: 2028 Other: 3295\n"
     ]
    },
    {
     "name": "stderr",
     "output_type": "stream",
     "text": [
      "1717522582.4507 INFO: Objective with gapfill database:0.0; min objective:0.01\n",
      "/Users/chenry/opt/anaconda3/lib/python3.9/site-packages/cobra/util/solver.py:554: UserWarning: Solver status is 'infeasible'.\n",
      "  warn(f\"Solver status is '{status}'.\", UserWarning)\n",
      "1717522588.232927 INFO: Expansion time:Ac.NO3:0.687613013000373\n",
      "1717522588.2335382 INFO: Filtered count:0 out of 1773\n",
      "1717522588.95472 INFO: Expansion time:Ac.O2:0.7207057129999157\n",
      "1717522588.955339 INFO: Filtered count:0 out of 1773\n",
      "1717522589.68259 INFO: Expansion time:Dlac.O2:0.7267837399995187\n",
      "1717522589.6832058 INFO: Filtered count:0 out of 1773\n",
      "1717522590.381952 INFO: Expansion time:Etho.O2:0.6983075789994473\n",
      "1717522590.382571 INFO: Filtered count:0 out of 1773\n",
      "1717522591.066238 INFO: Expansion time:For.NO3:0.6832196400000612\n",
      "1717522591.0668 INFO: Filtered count:0 out of 1773\n",
      "1717522591.774337 INFO: Expansion time:For.O2:0.7070667090001734\n",
      "1717522591.774972 INFO: Filtered count:0 out of 1773\n",
      "1717522592.479279 INFO: Expansion time:Fum:0.7038377740000215\n",
      "1717522592.479876 INFO: Filtered count:0 out of 1773\n",
      "1717522593.151968 INFO: Expansion time:Fum.O2:0.6716917369994917\n",
      "1717522593.152522 INFO: Filtered count:0 out of 1773\n",
      "1717522593.84414 INFO: Expansion time:Glc:0.6911759559998245\n",
      "1717522593.8447611 INFO: Filtered count:0 out of 1773\n",
      "1717522594.539315 INFO: Expansion time:Glc.DMSO:0.6940731479999158\n",
      "1717522594.5399082 INFO: Filtered count:0 out of 1773\n",
      "1717522595.2318132 INFO: Expansion time:Glc.O2:0.6914740590000292\n",
      "1717522595.232424 INFO: Filtered count:0 out of 1773\n",
      "1717522595.940026 INFO: Expansion time:Glc.TMAO:0.7071945510006117\n",
      "1717522595.9406688 INFO: Filtered count:0 out of 1773\n",
      "1717522596.629544 INFO: Expansion time:LLac.O2:0.6884495800004515\n",
      "1717522596.630188 INFO: Filtered count:0 out of 1773\n",
      "1717522597.32011 INFO: Expansion time:Pyr:0.6894729159994313\n",
      "1717522597.320809 INFO: Filtered count:0 out of 1773\n",
      "1717522598.049275 INFO: Expansion time:Pyr.DMSO:0.728033116000006\n",
      "1717522598.0498729 INFO: Filtered count:0 out of 1773\n",
      "1717522598.7172532 INFO: Expansion time:Pyr.NO:0.6669941910004127\n",
      "1717522598.717865 INFO: Filtered count:0 out of 1773\n",
      "1717522599.433402 INFO: Expansion time:Pyr.NO2:0.71510732599927\n",
      "1717522599.43397 INFO: Filtered count:0 out of 1773\n",
      "1717522600.226093 INFO: Expansion time:Pyr.NO3:0.7917274460005501\n",
      "1717522600.22693 INFO: Filtered count:0 out of 1773\n",
      "1717522600.8982458 INFO: Expansion time:Pyr.O2:0.6708369860007224\n",
      "1717522600.8988879 INFO: Filtered count:0 out of 1773\n",
      "1717522601.579734 INFO: Expansion time:Pyr.SO3:0.6803816769997866\n",
      "1717522601.5803368 INFO: Filtered count:0 out of 1773\n",
      "1717522602.2936661 INFO: Expansion time:Pyr.SO4:0.7128927240000849\n",
      "1717522602.294304 INFO: Filtered count:0 out of 1773\n",
      "1717522602.970536 INFO: Expansion time:Pyr.TMAO:0.6757360589999735\n",
      "1717522602.9710562 INFO: Filtered count:0 out of 1773\n",
      "1717522603.6661172 INFO: Expansion time:empty:0.6945707799995944\n",
      "1717522603.666789 INFO: Filtered count:0 out of 1773\n",
      "1717522603.939959 INFO: cpd35610 not found in model!\n",
      "1717522603.940625 WARNING: cpd35610: could not find metabolite for cpd35610\n",
      "1717522842.245128 INFO: cpd07053 not found in model!\n",
      "1717522842.2457778 WARNING: cpd07053: could not find metabolite for cpd07053\n",
      "1717522905.6901262 INFO: cpd04945 not found in model!\n",
      "1717522905.690772 WARNING: cpd04945: could not find metabolite for cpd04945\n",
      "1717522970.994984 INFO: metabolites 1420\n",
      "1717522971.2773829 INFO: reactions 1484\n",
      "1717522971.947391 INFO: Default biomass: [bio1]\n",
      "1717522971.999428 WARNING: Ignoring reaction 'rxn00062_c0' since it already exists.\n",
      "1717522972.16716 WARNING: Ignoring reaction 'rxn00062_c0' since it already exists.\n"
     ]
    },
    {
     "name": "stdout",
     "output_type": "stream",
     "text": [
      "Getting tests from attributes\n"
     ]
    },
    {
     "name": "stderr",
     "output_type": "stream",
     "text": [
      "1717522980.51438 INFO: cpd35610 not found in model!\n",
      "1717522980.51497 CRITICAL: Metabolite cpd35610 not found in model\n",
      "1717522980.528584 INFO: cpd07053 not found in model!\n",
      "1717522980.529255 CRITICAL: Metabolite cpd07053 not found in model\n",
      "1717522980.529732 INFO: cpd04945 not found in model!\n",
      "1717522980.530198 CRITICAL: Metabolite cpd04945 not found in model\n"
     ]
    },
    {
     "name": "stdout",
     "output_type": "stream",
     "text": [
      "Rhodococcus.1 GF: 12602 Prob: 2443 Other: 3259\n"
     ]
    },
    {
     "name": "stderr",
     "output_type": "stream",
     "text": [
      "1717522985.680966 INFO: Objective with gapfill database:0.0; min objective:0.01\n",
      "/Users/chenry/opt/anaconda3/lib/python3.9/site-packages/cobra/util/solver.py:554: UserWarning: Solver status is 'infeasible'.\n",
      "  warn(f\"Solver status is '{status}'.\", UserWarning)\n",
      "1717522991.168324 INFO: Expansion time:Ac.NO2:0.8808477680004216\n",
      "1717522991.1688168 INFO: Filtered count:0 out of 2106\n",
      "1717522992.09157 INFO: Expansion time:Ac.NO3:0.9219690899999478\n",
      "1717522992.092048 INFO: Filtered count:0 out of 2106\n",
      "1717522993.105278 INFO: Expansion time:Ac.O2:1.0127258509992316\n",
      "1717522993.105748 INFO: Filtered count:0 out of 2106\n",
      "1717522994.168534 INFO: Expansion time:Akg:1.0622430900002655\n",
      "1717522994.169089 INFO: Filtered count:0 out of 2106\n",
      "1717523000.604948 INFO: Expansion time:Akg.O2:6.435254530999373\n",
      "1717523000.605597 INFO: Filtered count:0 out of 2106\n",
      "1717523001.572889 INFO: Expansion time:Etho.O2:0.9666480329997285\n",
      "1717523001.573356 INFO: Filtered count:0 out of 2106\n",
      "1717523002.5569012 INFO: Expansion time:For.NO2:0.9828738639998846\n",
      "1717523002.557599 INFO: Filtered count:0 out of 2106\n",
      "1717523003.6092858 INFO: Expansion time:For.NO3:1.051001210999857\n",
      "1717523003.6098309 INFO: Filtered count:0 out of 2106\n",
      "1717523004.5586839 INFO: Expansion time:For.O2:0.9482457989997783\n",
      "1717523004.559221 INFO: Filtered count:0 out of 2106\n",
      "1717523005.474113 INFO: Expansion time:Fum:0.9142894629994771\n",
      "1717523005.475046 INFO: Filtered count:0 out of 2106\n",
      "1717523006.4581492 INFO: Expansion time:Fum.O2:0.9822397529997033\n",
      "1717523006.458724 INFO: Filtered count:0 out of 2106\n",
      "1717523007.441343 INFO: Expansion time:Glc:0.9819717130003482\n",
      "1717523007.441856 INFO: Filtered count:0 out of 2106\n",
      "1717523008.377801 INFO: Expansion time:Glc.DMSO:0.9354903729999933\n",
      "1717523008.3783739 INFO: Filtered count:0 out of 2106\n",
      "1717523009.304329 INFO: Expansion time:Glc.O2:0.9254046880005262\n",
      "1717523009.305058 INFO: Filtered count:0 out of 2106\n",
      "1717523010.232044 INFO: Expansion time:Glc.TMAO:0.9264961019998736\n",
      "1717523010.2328231 INFO: Filtered count:0 out of 2106\n",
      "1717523011.214887 INFO: Expansion time:Glyc:0.9811421320000591\n",
      "1717523011.2154272 INFO: Filtered count:0 out of 2106\n",
      "1717523012.168926 INFO: Expansion time:Glyc.O2:0.9529928669999208\n",
      "1717523012.169503 INFO: Filtered count:0 out of 2106\n",
      "1717523013.119307 INFO: Expansion time:LLac.O2:0.9491699310001422\n",
      "1717523013.1198971 INFO: Filtered count:0 out of 2106\n",
      "1717523014.011585 INFO: Expansion time:Pyr:0.8911508049995973\n",
      "1717523014.012275 INFO: Filtered count:0 out of 2106\n",
      "1717523015.027416 INFO: Expansion time:Pyr.DMSO:1.0143900900002336\n",
      "1717523015.028218 INFO: Filtered count:0 out of 2106\n",
      "1717523015.929556 INFO: Expansion time:Pyr.NO:0.9006141149993709\n",
      "1717523015.9300952 INFO: Filtered count:0 out of 2106\n",
      "1717523016.886959 INFO: Expansion time:Pyr.NO2:0.9563223140003174\n",
      "1717523016.887678 INFO: Filtered count:0 out of 2106\n",
      "1717523017.884282 INFO: Expansion time:Pyr.NO3:0.9959712820000277\n",
      "1717523017.8848069 INFO: Filtered count:0 out of 2106\n",
      "1717523018.7908459 INFO: Expansion time:Pyr.O2:0.9055598939994525\n",
      "1717523018.791421 INFO: Filtered count:0 out of 2106\n",
      "1717523019.835126 INFO: Expansion time:Pyr.SO3:1.043110417999742\n",
      "1717523019.835806 INFO: Filtered count:0 out of 2106\n",
      "1717523020.82385 INFO: Expansion time:Pyr.SO4:0.9874707019998823\n",
      "1717523020.8244202 INFO: Filtered count:0 out of 2106\n",
      "1717523021.8065002 INFO: Expansion time:Pyr.TMAO:0.9810551749997103\n",
      "1717523021.8074439 INFO: Filtered count:0 out of 2106\n",
      "1717523022.8289762 INFO: Expansion time:empty:1.020824561000154\n",
      "1717523022.829715 INFO: Filtered count:0 out of 2106\n",
      "1717523023.0593019 INFO: cpd35610 not found in model!\n",
      "1717523023.059954 WARNING: cpd35610: could not find metabolite for cpd35610\n",
      "1717523253.5816472 INFO: cpd07053 not found in model!\n",
      "1717523253.582289 WARNING: cpd07053: could not find metabolite for cpd07053\n",
      "1717523324.536871 INFO: cpd04945 not found in model!\n",
      "1717523324.537515 WARNING: cpd04945: could not find metabolite for cpd04945\n",
      "1717523363.662376 INFO: metabolites 1476\n",
      "1717523363.9501371 INFO: reactions 1532\n",
      "1717523364.640231 INFO: Default biomass: [bio1]\n",
      "1717523364.7000241 WARNING: Ignoring reaction 'rxn00062_c0' since it already exists.\n",
      "1717523364.8902242 WARNING: Ignoring reaction 'rxn00062_c0' since it already exists.\n"
     ]
    },
    {
     "name": "stdout",
     "output_type": "stream",
     "text": [
      "Getting tests from attributes\n"
     ]
    },
    {
     "name": "stderr",
     "output_type": "stream",
     "text": [
      "1717523378.911766 INFO: cpd35610 not found in model!\n",
      "1717523378.912619 CRITICAL: Metabolite cpd35610 not found in model\n",
      "1717523378.926102 INFO: cpd07053 not found in model!\n",
      "1717523378.926722 CRITICAL: Metabolite cpd07053 not found in model\n",
      "1717523378.927093 INFO: cpd04945 not found in model!\n",
      "1717523378.92788 CRITICAL: Metabolite cpd04945 not found in model\n"
     ]
    },
    {
     "name": "stdout",
     "output_type": "stream",
     "text": [
      "Fulvimarina.1 GF: 12544 Prob: 2565 Other: 3195\n"
     ]
    },
    {
     "name": "stderr",
     "output_type": "stream",
     "text": [
      "1717523384.83176 INFO: Objective with gapfill database:0.0; min objective:0.01\n",
      "/Users/chenry/opt/anaconda3/lib/python3.9/site-packages/cobra/util/solver.py:554: UserWarning: Solver status is 'infeasible'.\n",
      "  warn(f\"Solver status is '{status}'.\", UserWarning)\n",
      "1717523390.112208 INFO: Expansion time:Ac.NO2:0.8009541000001263\n",
      "1717523390.1127832 INFO: Filtered count:0 out of 2218\n",
      "1717523391.11304 INFO: Expansion time:Ac.O2:0.9996735170007014\n",
      "1717523391.113697 INFO: Filtered count:0 out of 2218\n",
      "1717523391.935541 INFO: Expansion time:Etho.O2:0.8209168740004316\n",
      "1717523391.9361122 INFO: Filtered count:0 out of 2218\n",
      "1717523392.9635189 INFO: Expansion time:For.NO2:1.0267782249993616\n",
      "1717523392.964195 INFO: Filtered count:0 out of 2218\n",
      "1717523393.866953 INFO: Expansion time:For.O2:0.9020635690003473\n",
      "1717523393.867531 INFO: Filtered count:0 out of 2218\n",
      "1717523394.845829 INFO: Expansion time:Fum:0.9776688860001741\n",
      "1717523394.846369 INFO: Filtered count:0 out of 2218\n",
      "1717523395.766329 INFO: Expansion time:Fum.O2:0.9193822890001684\n",
      "1717523395.7669828 INFO: Filtered count:0 out of 2218\n",
      "1717523396.787071 INFO: Expansion time:Pyr:1.0194710859996121\n",
      "1717523396.78762 INFO: Filtered count:0 out of 2218\n",
      "1717523398.841811 INFO: Expansion time:Pyr.DMSO:2.0537151499993342\n",
      "1717523398.842565 INFO: Filtered count:0 out of 2218\n",
      "1717523399.8009658 INFO: Expansion time:Pyr.NO:0.9579070740001043\n",
      "1717523399.801593 INFO: Filtered count:0 out of 2218\n",
      "1717523400.7894678 INFO: Expansion time:Pyr.NO2:0.9871430900002451\n",
      "1717523400.790213 INFO: Filtered count:0 out of 2218\n",
      "1717523402.317597 INFO: Expansion time:Pyr.NO3:1.5265106150000065\n",
      "1717523402.3182652 INFO: Filtered count:0 out of 2218\n",
      "1717523403.325121 INFO: Expansion time:Pyr.O2:1.0063288649998867\n",
      "1717523403.325663 INFO: Filtered count:0 out of 2218\n",
      "1717523404.280859 INFO: Expansion time:Pyr.SO3:0.9547019379997437\n",
      "1717523404.28143 INFO: Filtered count:0 out of 2218\n",
      "1717523405.16611 INFO: Expansion time:Pyr.SO4:0.8838756320001266\n",
      "1717523405.166657 INFO: Filtered count:0 out of 2218\n",
      "1717523406.189955 INFO: Expansion time:Pyr.TMAO:1.0229205020004883\n",
      "1717523406.190538 INFO: Filtered count:0 out of 2218\n",
      "1717523407.0930939 INFO: Expansion time:empty:0.9017057889996067\n",
      "1717523407.093667 INFO: Filtered count:0 out of 2218\n",
      "1717523407.365813 INFO: cpd35610 not found in model!\n",
      "1717523407.3665202 WARNING: cpd35610: could not find metabolite for cpd35610\n",
      "1717523583.761206 INFO: cpd07053 not found in model!\n",
      "1717523583.761827 WARNING: cpd07053: could not find metabolite for cpd07053\n",
      "1717523647.869486 INFO: cpd04945 not found in model!\n",
      "1717523647.8702662 WARNING: cpd04945: could not find metabolite for cpd04945\n",
      "1717523682.6636841 INFO: metabolites 1189\n",
      "1717523682.8661602 INFO: reactions 1171\n",
      "1717523683.360481 INFO: Default biomass: [bio1]\n",
      "1717523683.400258 WARNING: Ignoring reaction 'rxn00062_c0' since it already exists.\n",
      "1717523683.5746078 WARNING: Ignoring reaction 'rxn00062_c0' since it already exists.\n"
     ]
    },
    {
     "name": "stdout",
     "output_type": "stream",
     "text": [
      "Getting tests from attributes\n"
     ]
    },
    {
     "name": "stderr",
     "output_type": "stream",
     "text": [
      "1717523697.561441 INFO: cpd35610 not found in model!\n",
      "1717523697.562083 CRITICAL: Metabolite cpd35610 not found in model\n",
      "1717523697.575904 INFO: cpd07053 not found in model!\n",
      "1717523697.5766652 CRITICAL: Metabolite cpd07053 not found in model\n",
      "1717523697.5775082 INFO: cpd04945 not found in model!\n",
      "1717523697.5783072 CRITICAL: Metabolite cpd04945 not found in model\n"
     ]
    },
    {
     "name": "stdout",
     "output_type": "stream",
     "text": [
      "Novosphingobium.1 GF: 13110 Prob: 1893 Other: 3301\n"
     ]
    },
    {
     "name": "stderr",
     "output_type": "stream",
     "text": [
      "1717523702.93089 INFO: Objective with gapfill database:0.0; min objective:0.01\n",
      "/Users/chenry/opt/anaconda3/lib/python3.9/site-packages/cobra/util/solver.py:554: UserWarning: Solver status is 'infeasible'.\n",
      "  warn(f\"Solver status is '{status}'.\", UserWarning)\n",
      "1717523708.7628028 INFO: Expansion time:Ac.NO3:0.826883156999429\n",
      "1717523708.763595 INFO: Filtered count:0 out of 1704\n",
      "1717523709.523921 INFO: Expansion time:Ac.O2:0.7598687469999277\n",
      "1717523709.524446 INFO: Filtered count:0 out of 1704\n",
      "1717523710.413308 INFO: Expansion time:Etho.O2:0.8881068300006518\n",
      "1717523710.413882 INFO: Filtered count:0 out of 1704\n",
      "1717523711.3909812 INFO: Expansion time:For.NO2:0.9763185450001401\n",
      "1717523711.3916001 INFO: Filtered count:0 out of 1704\n",
      "1717523712.318198 INFO: Expansion time:For.NO3:0.9256380749993696\n",
      "1717523712.318748 INFO: Filtered count:0 out of 1704\n",
      "1717523713.196631 INFO: Expansion time:For.O2:0.8774073059994407\n",
      "1717523713.197152 INFO: Filtered count:0 out of 1704\n",
      "1717523714.1637928 INFO: Expansion time:Glc:0.966117652000321\n",
      "1717523714.164474 INFO: Filtered count:0 out of 1704\n",
      "1717523715.067301 INFO: Expansion time:Glc.DMSO:0.9020980899995266\n",
      "1717523715.068058 INFO: Filtered count:0 out of 1704\n",
      "1717523716.0858219 INFO: Expansion time:Glc.O2:1.0168267409999316\n",
      "1717523716.086335 INFO: Filtered count:0 out of 1704\n",
      "1717523717.057226 INFO: Expansion time:Glc.TMAO:0.9704431870004555\n",
      "1717523717.057761 INFO: Filtered count:0 out of 1704\n",
      "1717523717.915102 INFO: Expansion time:Pyr:0.8567610190002597\n",
      "1717523717.915742 INFO: Filtered count:0 out of 1704\n",
      "1717523718.820884 INFO: Expansion time:Pyr.DMSO:0.9046781200004261\n",
      "1717523718.821675 INFO: Filtered count:0 out of 1704\n",
      "1717523719.7142558 INFO: Expansion time:Pyr.NO:0.8919360180007061\n",
      "1717523719.714798 INFO: Filtered count:0 out of 1704\n",
      "1717523720.5796459 INFO: Expansion time:Pyr.NO2:0.8642632559995036\n",
      "1717523720.580192 INFO: Filtered count:0 out of 1704\n",
      "1717523721.5224042 INFO: Expansion time:Pyr.NO3:0.9416460659995209\n",
      "1717523721.522939 INFO: Filtered count:0 out of 1704\n",
      "1717523722.4434009 INFO: Expansion time:Pyr.O2:0.9198701659997823\n",
      "1717523722.4439318 INFO: Filtered count:0 out of 1704\n",
      "1717523723.457503 INFO: Expansion time:Pyr.SO3:1.0130331910004315\n",
      "1717523723.458118 INFO: Filtered count:0 out of 1704\n",
      "1717523724.302745 INFO: Expansion time:Pyr.SO4:0.844063685999572\n",
      "1717523724.303282 INFO: Filtered count:0 out of 1704\n",
      "1717523725.1943061 INFO: Expansion time:Pyr.TMAO:0.8904980000006617\n",
      "1717523725.195103 INFO: Filtered count:0 out of 1704\n",
      "1717523725.843631 INFO: Expansion time:empty:0.648026623000078\n",
      "1717523725.8442292 INFO: Filtered count:0 out of 1704\n",
      "1717523726.086137 INFO: cpd35610 not found in model!\n",
      "1717523726.0867908 WARNING: cpd35610: could not find metabolite for cpd35610\n",
      "1717523939.165215 INFO: cpd07053 not found in model!\n",
      "1717523939.165913 WARNING: cpd07053: could not find metabolite for cpd07053\n",
      "1717524010.580398 INFO: cpd04945 not found in model!\n",
      "1717524010.5810812 WARNING: cpd04945: could not find metabolite for cpd04945\n",
      "1717524061.7721012 INFO: metabolites 1147\n",
      "1717524061.9738722 INFO: reactions 1139\n",
      "1717524062.465624 INFO: Default biomass: [bio1]\n",
      "1717524062.504278 WARNING: Ignoring reaction 'rxn00062_c0' since it already exists.\n",
      "1717524062.670259 WARNING: Ignoring reaction 'rxn00062_c0' since it already exists.\n"
     ]
    },
    {
     "name": "stdout",
     "output_type": "stream",
     "text": [
      "Getting tests from attributes\n"
     ]
    },
    {
     "name": "stderr",
     "output_type": "stream",
     "text": [
      "1717524070.8650272 INFO: cpd35610 not found in model!\n",
      "1717524070.8657029 CRITICAL: Metabolite cpd35610 not found in model\n",
      "1717524070.879058 INFO: cpd07053 not found in model!\n",
      "1717524070.879851 CRITICAL: Metabolite cpd07053 not found in model\n",
      "1717524070.880606 INFO: cpd04945 not found in model!\n",
      "1717524070.881829 CRITICAL: Metabolite cpd04945 not found in model\n"
     ]
    },
    {
     "name": "stdout",
     "output_type": "stream",
     "text": [
      "Lachnospiraceae.5 GF: 13009 Prob: 1771 Other: 3524\n"
     ]
    },
    {
     "name": "stderr",
     "output_type": "stream",
     "text": [
      "1717524076.3135118 INFO: Objective with gapfill database:0.0; min objective:0.01\n",
      "/Users/chenry/opt/anaconda3/lib/python3.9/site-packages/cobra/util/solver.py:554: UserWarning: Solver status is 'infeasible'.\n",
      "  warn(f\"Solver status is '{status}'.\", UserWarning)\n",
      "1717524081.7425191 INFO: Expansion time:Dlac:0.6200715080003647\n",
      "1717524081.7430642 INFO: Filtered count:0 out of 1639\n",
      "1717524082.41303 INFO: Expansion time:Dlac.O2:0.6695755930004452\n",
      "1717524082.413516 INFO: Filtered count:0 out of 1639\n",
      "1717524083.07088 INFO: Expansion time:Etho.O2:0.6570354590003262\n",
      "1717524083.071459 INFO: Filtered count:0 out of 1639\n",
      "1717524083.698184 INFO: Expansion time:Glc:0.6263041829997746\n",
      "1717524083.6987321 INFO: Filtered count:0 out of 1639\n",
      "1717524084.3199842 INFO: Expansion time:Glc.DMSO:0.6209379939991777\n",
      "1717524084.320537 INFO: Filtered count:0 out of 1639\n",
      "1717524084.9822469 INFO: Expansion time:Glc.O2:0.6613763049999761\n",
      "1717524084.982858 INFO: Filtered count:0 out of 1639\n",
      "1717524085.6278038 INFO: Expansion time:Glc.TMAO:0.6444527490002656\n",
      "1717524085.62835 INFO: Filtered count:0 out of 1639\n",
      "1717524086.2855349 INFO: Expansion time:Pyr:0.6568146090003211\n",
      "1717524086.28605 INFO: Filtered count:0 out of 1639\n",
      "1717524086.917848 INFO: Expansion time:Pyr.DMSO:0.6314501119995839\n",
      "1717524086.918464 INFO: Filtered count:0 out of 1639\n",
      "1717524087.562391 INFO: Expansion time:Pyr.NO:0.6435799040000347\n",
      "1717524087.563052 INFO: Filtered count:0 out of 1639\n",
      "1717524088.2071638 INFO: Expansion time:Pyr.NO2:0.6437566450003942\n",
      "1717524088.207807 INFO: Filtered count:0 out of 1639\n",
      "1717524088.835316 INFO: Expansion time:Pyr.NO3:0.6271563999998762\n",
      "1717524088.835864 INFO: Filtered count:0 out of 1639\n",
      "1717524089.484328 INFO: Expansion time:Pyr.O2:0.6480387330002486\n",
      "1717524089.484867 INFO: Filtered count:0 out of 1639\n",
      "1717524090.150702 INFO: Expansion time:Pyr.SO3:0.6655571490000511\n",
      "1717524090.15125 INFO: Filtered count:0 out of 1639\n",
      "1717524090.7861938 INFO: Expansion time:Pyr.SO4:0.6346036180002557\n",
      "1717524090.78686 INFO: Filtered count:0 out of 1639\n",
      "1717524091.444897 INFO: Expansion time:Pyr.TMAO:0.6574656130005678\n",
      "1717524091.445444 INFO: Filtered count:0 out of 1639\n",
      "1717524092.09842 INFO: Expansion time:empty:0.6525576069998351\n",
      "1717524092.098911 INFO: Filtered count:0 out of 1639\n",
      "1717524092.343423 INFO: cpd35610 not found in model!\n",
      "1717524092.344178 WARNING: cpd35610: could not find metabolite for cpd35610\n",
      "1717524350.07811 INFO: cpd07053 not found in model!\n",
      "1717524350.078812 WARNING: cpd07053: could not find metabolite for cpd07053\n",
      "1717524430.657774 INFO: cpd04945 not found in model!\n",
      "1717524430.658485 WARNING: cpd04945: could not find metabolite for cpd04945\n"
     ]
    }
   ],
   "source": [
    "%run agoracommutil.py\n",
    "procid = 0\n",
    "metabolites = util.load(\"metabolites\")\n",
    "feature_probabilities = util.load(\"feature_probabilities\")\n",
    "asvset_genomes = util.load(\"asvset_genomes\")\n",
    "asvset_names = util.load(\"asvset_names\")\n",
    "gf_phenotype_results = util.load(\"new_gf_phenotype_results_\"+str(procid),{})\n",
    "probability_finished = util.load(\"probability_finished_\"+str(procid),[])\n",
    "problemlist = util.load(\"problemlist\")\n",
    "\n",
    "auxo_media = util.msrecon.get_media(\"181152/AuxoMedia\")\n",
    "agmm_base_media = util.msrecon.get_media(\"181152/BaseAnaerobicMM\")\n",
    "gmm_base_media = util.msrecon.get_media(\"181152/BaseAerobicMM\")\n",
    "uptake_phenoset = util.create_phenotypeset_from_compounds(\n",
    "    metabolites,\n",
    "    base_media=auxo_media,\n",
    "    base_uptake=0,\n",
    "    base_excretion=1000,\n",
    "    global_atom_limits={},\n",
    "    type=\"uptake\"\n",
    ")\n",
    "excretion_phenoset = util.create_phenotypeset_from_compounds(\n",
    "    metabolites,\n",
    "    base_media=auxo_media,\n",
    "    base_uptake=0,\n",
    "    base_excretion=1000,\n",
    "    global_atom_limits={},\n",
    "    type=\"excretion\"\n",
    ")\n",
    "growth_phenoset = util.create_phenotypeset_from_compounds(\n",
    "    metabolites,\n",
    "    base_media=gmm_base_media,\n",
    "    base_uptake=0,\n",
    "    base_excretion=1000,\n",
    "    global_atom_limits={},\n",
    "    type=\"growth\"\n",
    ")\n",
    "phenosets = {\"uptake\":uptake_phenoset}#,\"excretion\":excretion_phenoset,\"growth\":growth_phenoset}\n",
    "\n",
    "asvset_list = problemlist\n",
    "for i,asvname in enumerate(asvset_list):\n",
    "#asvset_list = list(asvset_genomes.keys())\n",
    "#for i,asvset in enumerate(asvset_list):\n",
    "    if i%8 == procid:\n",
    "        #asvname = asvset_names[asvset]\n",
    "        if asvname not in probability_finished and asvname != \"Thermus.1\":\n",
    "            mdlutl = util.msrecon.get_model(asvname+\".ASV.mdl\",181152)\n",
    "\n",
    "            reaction_probabilities = {}\n",
    "            for rxn in mdlutl.model.reactions:\n",
    "                highest_prob = None\n",
    "                for gene in rxn.genes:\n",
    "                    if gene.id in feature_probabilities:\n",
    "                        if highest_prob == None or feature_probabilities[gene.id] > highest_prob:\n",
    "                            highest_prob = feature_probabilities[gene.id]\n",
    "                if highest_prob != None:\n",
    "                    rxn.probability = highest_prob\n",
    "                    reaction_probabilities[rxn.id] = highest_prob\n",
    "\n",
    "            filters = mdlutl.get_attributes(\"gf_filter\")\n",
    "            tests = mdlutl.get_atp_tests(core_template=util.msrecon.core_template,atp_media_filename=util.msrecon.module_dir+\"/data/atp_medias.tsv\",recompute=False)\n",
    "            msgapfill = MSGapfill(\n",
    "                mdlutl,\n",
    "                [util.msrecon.get_template(mdlutl.model.template_ref)],\n",
    "                [],\n",
    "                tests,\n",
    "                blacklist=[],\n",
    "                default_target=\"bio1\",\n",
    "                minimum_obj=0.01,\n",
    "                base_media=None,\n",
    "                base_media_target_element=None\n",
    "            )\n",
    "\n",
    "            #Adding missing transporter for metabolites to gapfilling database\n",
    "            for cpd in metabolites:\n",
    "                if \"EX_\"+cpd+\"_e0\" not in msgapfill.gfmodelutl.model.reactions:\n",
    "                    transport = msgapfill.gfmodelutl.add_transport_and_exchange_for_metabolite(cpd,direction=\"=\",prefix=\"trans\",override=False)\n",
    "\n",
    "            coefficients = {}\n",
    "            gf_penalties = msgapfill.gfpkgmgr.getpkg(\"GapfillingPkg\").gapfilling_penalties\n",
    "            gfrxn = 0\n",
    "            probrxn = 0\n",
    "            otherrxn = 0\n",
    "            for reaction in msgapfill.gfmodelutl.model.reactions:\n",
    "                if reaction.id in gf_penalties:\n",
    "                    if \"forward\" in gf_penalties[reaction.id]:\n",
    "                        gfrxn += 1\n",
    "                        coefficients[\">\"+reaction.id] = 1+gf_penalties[reaction.id][\"forward\"]\n",
    "                    elif reaction.id in reaction_probabilities:\n",
    "                        probrxn += 1\n",
    "                        coefficients[\">\"+reaction.id] = 1-reaction_probabilities[reaction.id]\n",
    "                    else:\n",
    "                        otherrxn += 1\n",
    "                        coefficients[\">\"+reaction.id] = 0.95\n",
    "                    if \"reverse\" in gf_penalties[reaction.id]:\n",
    "                        gfrxn += 1\n",
    "                        coefficients[\"<\"+reaction.id] = 1+gf_penalties[reaction.id][\"reverse\"]\n",
    "                    elif reaction.id in reaction_probabilities:\n",
    "                        probrxn += 1\n",
    "                        coefficients[\"<\"+reaction.id] = 1-reaction_probabilities[reaction.id]\n",
    "                    else:\n",
    "                        otherrxn += 1\n",
    "                        coefficients[\"<\"+reaction.id] = 0.95\n",
    "                elif reaction.id in reaction_probabilities:\n",
    "                    probrxn += 2\n",
    "                    coefficients[\">\"+reaction.id] = 1-reaction_probabilities[reaction.id]\n",
    "                    coefficients[\"<\"+reaction.id] = 1-reaction_probabilities[reaction.id]\n",
    "                else:\n",
    "                    otherrxn += 2\n",
    "                    coefficients[\">\"+reaction.id] = 0.95\n",
    "                    coefficients[\"<\"+reaction.id] = 0.95\n",
    "            print(asvname,\"GF:\",gfrxn,\"Prob:\",probrxn,\"Other:\",otherrxn)\n",
    "\n",
    "            msgapfill.prefilter(test_conditions=tests,growth_conditions=[],use_prior_filtering=True,base_filter_only=True)\n",
    "            \n",
    "            gf_phenotype_results[asvname] = {}\n",
    "            for phenoid in phenosets:\n",
    "                gf_phenotype_results[asvname][phenoid] = {}\n",
    "                output = phenosets[phenoid].simulate_phenotypes(\n",
    "                    msgapfill.gfmodelutl,\n",
    "                    multiplier=2,\n",
    "                    add_missing_exchanges=True,\n",
    "                    save_fluxes=False,\n",
    "                    save_reaction_list=True,\n",
    "                    gapfill_negatives=False,\n",
    "                    msgapfill=None,\n",
    "                    test_conditions=None,\n",
    "                    ignore_experimental_data=True,\n",
    "                    flux_coefficients=coefficients\n",
    "                )\n",
    "                for index, row in output[\"details\"].iterrows():\n",
    "                    if \"reactions\" in output[\"data\"][row[\"Phenotype\"]]:\n",
    "                        output[\"data\"][row[\"Phenotype\"]][\"average_probability\"] = 0\n",
    "                        for rxn in output[\"data\"][row[\"Phenotype\"]][\"reactions\"]:\n",
    "                            direction = rxn[0:1]\n",
    "                            rxnid = rxn[1:]\n",
    "                            if direction == \">\":\n",
    "                                if rxnid not in gf_penalties or \"forward\" not in gf_penalties[rxnid]:\n",
    "                                    if rxnid in reaction_probabilities:\n",
    "                                        output[\"data\"][row[\"Phenotype\"]][\"average_probability\"] += reaction_probabilities[rxnid]\n",
    "                                    else:\n",
    "                                        output[\"data\"][row[\"Phenotype\"]][\"average_probability\"] += 0.05\n",
    "                            elif direction == \"<\":\n",
    "                                if rxnid not in gf_penalties or \"reverse\" not in gf_penalties[rxnid]:\n",
    "                                    if rxnid in reaction_probabilities:\n",
    "                                        output[\"data\"][row[\"Phenotype\"]][\"average_probability\"] += reaction_probabilities[rxnid]\n",
    "                                    else:\n",
    "                                        output[\"data\"][row[\"Phenotype\"]][\"average_probability\"] += 0.05\n",
    "                        output[\"data\"][row[\"Phenotype\"]][\"average_probability\"] = output[\"data\"][row[\"Phenotype\"]][\"average_probability\"]/len(output[\"data\"][row[\"Phenotype\"]][\"reactions\"])\n",
    "                    gf_phenotype_results[asvname][phenoid][row[\"Phenotype\"]] = output[\"data\"][row[\"Phenotype\"]]\n",
    "            probability_finished.append(asvname)\n",
    "            util.save(\"new_gf_phenotype_results_\"+str(procid),gf_phenotype_results)\n",
    "            util.save(\"probability_finished_\"+str(procid),probability_finished)"
   ]
  },
  {
   "cell_type": "code",
   "execution_count": 1,
   "metadata": {
    "collapsed": true,
    "jupyter": {
     "outputs_hidden": true,
     "source_hidden": true
    },
    "tags": []
   },
   "outputs": [
    {
     "name": "stdout",
     "output_type": "stream",
     "text": [
      "python version 3.9.13\n",
      "KBBaseModules 0.0.1\n"
     ]
    },
    {
     "name": "stderr",
     "output_type": "stream",
     "text": [
      "1717342933.626858 INFO: Note: NumExpr detected 16 cores but \"NUMEXPR_MAX_THREADS\" not set, so enforcing safe limit of 8.\n",
      "1717342933.62764 INFO: NumExpr defaulting to 8 threads.\n"
     ]
    },
    {
     "name": "stdout",
     "output_type": "stream",
     "text": [
      "modelseedpy 0.3.3\n",
      "cobrakbase 0.3.1\n",
      "Output files printed to:/Users/chenry/code/notebooks/MicrobiomeNotebooks/NewWesternDiet/nboutput when using KBDevUtils.output_dir\n",
      "ModelSEED: /Users/chenry/code//kb_sdk/run_local/workdir/tmp/\n"
     ]
    },
    {
     "name": "stderr",
     "output_type": "stream",
     "text": [
      "1717342939.0013728 INFO: metabolites 911\n",
      "1717342939.194977 INFO: reactions 862\n",
      "1717342939.780438 INFO: Default biomass: [bio1]\n",
      "1717342939.859582 WARNING: Ignoring reaction 'rxn00062_c0' since it already exists.\n",
      "1717342940.218539 WARNING: Ignoring reaction 'rxn00062_c0' since it already exists.\n"
     ]
    },
    {
     "name": "stdout",
     "output_type": "stream",
     "text": [
      "Getting tests from attributes\n"
     ]
    },
    {
     "ename": "KeyboardInterrupt",
     "evalue": "",
     "output_type": "error",
     "traceback": [
      "\u001b[0;31m---------------------------------------------------------------------------\u001b[0m",
      "\u001b[0;31mKeyboardInterrupt\u001b[0m                         Traceback (most recent call last)",
      "\u001b[0;32m/var/folders/ph/360gp1jx5zg7qyqv076prl240000gn/T/ipykernel_96288/4107714292.py\u001b[0m in \u001b[0;36m<module>\u001b[0;34m\u001b[0m\n\u001b[1;32m     20\u001b[0m msgapfill = MSGapfill(\n\u001b[1;32m     21\u001b[0m     \u001b[0mmdlutl\u001b[0m\u001b[0;34m,\u001b[0m\u001b[0;34m\u001b[0m\u001b[0;34m\u001b[0m\u001b[0m\n\u001b[0;32m---> 22\u001b[0;31m     \u001b[0;34m[\u001b[0m\u001b[0mutil\u001b[0m\u001b[0;34m.\u001b[0m\u001b[0mmsrecon\u001b[0m\u001b[0;34m.\u001b[0m\u001b[0mget_template\u001b[0m\u001b[0;34m(\u001b[0m\u001b[0mmdlutl\u001b[0m\u001b[0;34m.\u001b[0m\u001b[0mmodel\u001b[0m\u001b[0;34m.\u001b[0m\u001b[0mtemplate_ref\u001b[0m\u001b[0;34m)\u001b[0m\u001b[0;34m]\u001b[0m\u001b[0;34m,\u001b[0m\u001b[0;34m\u001b[0m\u001b[0;34m\u001b[0m\u001b[0m\n\u001b[0m\u001b[1;32m     23\u001b[0m     \u001b[0;34m[\u001b[0m\u001b[0;34m]\u001b[0m\u001b[0;34m,\u001b[0m\u001b[0;34m\u001b[0m\u001b[0;34m\u001b[0m\u001b[0m\n\u001b[1;32m     24\u001b[0m     \u001b[0mtests\u001b[0m\u001b[0;34m,\u001b[0m\u001b[0;34m\u001b[0m\u001b[0;34m\u001b[0m\u001b[0m\n",
      "\u001b[0;32m~/code//KBBaseModules/kbbasemodules/basemodelingmodule.py\u001b[0m in \u001b[0;36mget_template\u001b[0;34m(self, template_id, ws)\u001b[0m\n\u001b[1;32m    289\u001b[0m \u001b[0;34m\u001b[0m\u001b[0m\n\u001b[1;32m    290\u001b[0m     \u001b[0;32mdef\u001b[0m \u001b[0mget_template\u001b[0m\u001b[0;34m(\u001b[0m\u001b[0mself\u001b[0m\u001b[0;34m,\u001b[0m\u001b[0mtemplate_id\u001b[0m\u001b[0;34m,\u001b[0m\u001b[0mws\u001b[0m\u001b[0;34m=\u001b[0m\u001b[0;32mNone\u001b[0m\u001b[0;34m)\u001b[0m\u001b[0;34m:\u001b[0m\u001b[0;34m\u001b[0m\u001b[0;34m\u001b[0m\u001b[0m\n\u001b[0;32m--> 291\u001b[0;31m         \u001b[0mtemplate\u001b[0m \u001b[0;34m=\u001b[0m \u001b[0mself\u001b[0m\u001b[0;34m.\u001b[0m\u001b[0mkbase_api\u001b[0m\u001b[0;34m.\u001b[0m\u001b[0mget_from_ws\u001b[0m\u001b[0;34m(\u001b[0m\u001b[0mtemplate_id\u001b[0m\u001b[0;34m,\u001b[0m\u001b[0mws\u001b[0m\u001b[0;34m)\u001b[0m\u001b[0;34m\u001b[0m\u001b[0;34m\u001b[0m\u001b[0m\n\u001b[0m\u001b[1;32m    292\u001b[0m         \u001b[0;31m#template = self.kbase_api.get_object(template_id,ws)\u001b[0m\u001b[0;34m\u001b[0m\u001b[0;34m\u001b[0m\u001b[0m\n\u001b[1;32m    293\u001b[0m         \u001b[0;31m#info = self.kbase_api.get_object_info(template_id,ws)\u001b[0m\u001b[0;34m\u001b[0m\u001b[0;34m\u001b[0m\u001b[0m\n",
      "\u001b[0;32m~/code//cobrakbase/cobrakbase/kbaseapi.py\u001b[0m in \u001b[0;36mget_from_ws\u001b[0;34m(self, id_or_ref, workspace)\u001b[0m\n\u001b[1;32m    217\u001b[0m \u001b[0;34m\u001b[0m\u001b[0m\n\u001b[1;32m    218\u001b[0m     \u001b[0;32mdef\u001b[0m \u001b[0mget_from_ws\u001b[0m\u001b[0;34m(\u001b[0m\u001b[0mself\u001b[0m\u001b[0;34m,\u001b[0m \u001b[0mid_or_ref\u001b[0m\u001b[0;34m,\u001b[0m \u001b[0mworkspace\u001b[0m\u001b[0;34m=\u001b[0m\u001b[0;32mNone\u001b[0m\u001b[0;34m)\u001b[0m\u001b[0;34m:\u001b[0m\u001b[0;34m\u001b[0m\u001b[0;34m\u001b[0m\u001b[0m\n\u001b[0;32m--> 219\u001b[0;31m         res = self.get_objects2(\n\u001b[0m\u001b[1;32m    220\u001b[0m             \u001b[0;34m{\u001b[0m\u001b[0;34m\"objects\"\u001b[0m\u001b[0;34m:\u001b[0m \u001b[0;34m[\u001b[0m\u001b[0mself\u001b[0m\u001b[0;34m.\u001b[0m\u001b[0mprocess_workspace_identifiers\u001b[0m\u001b[0;34m(\u001b[0m\u001b[0mid_or_ref\u001b[0m\u001b[0;34m,\u001b[0m \u001b[0mworkspace\u001b[0m\u001b[0;34m)\u001b[0m\u001b[0;34m]\u001b[0m\u001b[0;34m}\u001b[0m\u001b[0;34m\u001b[0m\u001b[0;34m\u001b[0m\u001b[0m\n\u001b[1;32m    221\u001b[0m         )\n",
      "\u001b[0;32m~/code//cobrakbase/cobrakbase/kbaseapi.py\u001b[0m in \u001b[0;36mget_objects2\u001b[0;34m(self, args)\u001b[0m\n\u001b[1;32m    187\u001b[0m         \u001b[0;32mwhile\u001b[0m \u001b[0mtries\u001b[0m \u001b[0;34m<\u001b[0m \u001b[0mself\u001b[0m\u001b[0;34m.\u001b[0m\u001b[0mmax_retry\u001b[0m\u001b[0;34m:\u001b[0m\u001b[0;34m\u001b[0m\u001b[0;34m\u001b[0m\u001b[0m\n\u001b[1;32m    188\u001b[0m             \u001b[0;32mtry\u001b[0m\u001b[0;34m:\u001b[0m\u001b[0;34m\u001b[0m\u001b[0;34m\u001b[0m\u001b[0m\n\u001b[0;32m--> 189\u001b[0;31m                 \u001b[0;32mreturn\u001b[0m \u001b[0mself\u001b[0m\u001b[0;34m.\u001b[0m\u001b[0mws_client\u001b[0m\u001b[0;34m.\u001b[0m\u001b[0mget_objects2\u001b[0m\u001b[0;34m(\u001b[0m\u001b[0margs\u001b[0m\u001b[0;34m)\u001b[0m\u001b[0;34m\u001b[0m\u001b[0;34m\u001b[0m\u001b[0m\n\u001b[0m\u001b[1;32m    190\u001b[0m             \u001b[0;32mexcept\u001b[0m \u001b[0mServerError\u001b[0m \u001b[0;32mas\u001b[0m \u001b[0me\u001b[0m\u001b[0;34m:\u001b[0m\u001b[0;34m\u001b[0m\u001b[0;34m\u001b[0m\u001b[0m\n\u001b[1;32m    191\u001b[0m                 \u001b[0;32mif\u001b[0m \u001b[0me\u001b[0m\u001b[0;34m.\u001b[0m\u001b[0mcode\u001b[0m \u001b[0;34m==\u001b[0m \u001b[0;34m-\u001b[0m\u001b[0;36m32400\u001b[0m\u001b[0;34m:\u001b[0m\u001b[0;34m\u001b[0m\u001b[0;34m\u001b[0m\u001b[0m\n",
      "\u001b[0;32m~/code//chenry_utility_module/lib/installed_clients/WorkspaceClient.py\u001b[0m in \u001b[0;36mget_objects2\u001b[0;34m(self, params, context)\u001b[0m\n\u001b[1;32m   1957\u001b[0m            \u001b[0;34m\"handle_stacktrace\"\u001b[0m \u001b[0mof\u001b[0m \u001b[0mString\u001b[0m\u001b[0;34m\u001b[0m\u001b[0;34m\u001b[0m\u001b[0m\n\u001b[1;32m   1958\u001b[0m         \"\"\"\n\u001b[0;32m-> 1959\u001b[0;31m         return self._client.call_method('Workspace.get_objects2',\n\u001b[0m\u001b[1;32m   1960\u001b[0m                                         [params], self._service_ver, context)\n\u001b[1;32m   1961\u001b[0m \u001b[0;34m\u001b[0m\u001b[0m\n",
      "\u001b[0;32m~/code//chenry_utility_module/lib/installed_clients/baseclient.py\u001b[0m in \u001b[0;36mcall_method\u001b[0;34m(self, service_method, args, service_ver, context)\u001b[0m\n\u001b[1;32m    280\u001b[0m         \u001b[0murl\u001b[0m \u001b[0;34m=\u001b[0m \u001b[0mself\u001b[0m\u001b[0;34m.\u001b[0m\u001b[0m_get_service_url\u001b[0m\u001b[0;34m(\u001b[0m\u001b[0mservice_method\u001b[0m\u001b[0;34m,\u001b[0m \u001b[0mservice_ver\u001b[0m\u001b[0;34m)\u001b[0m\u001b[0;34m\u001b[0m\u001b[0;34m\u001b[0m\u001b[0m\n\u001b[1;32m    281\u001b[0m         \u001b[0mcontext\u001b[0m \u001b[0;34m=\u001b[0m \u001b[0mself\u001b[0m\u001b[0;34m.\u001b[0m\u001b[0m_set_up_context\u001b[0m\u001b[0;34m(\u001b[0m\u001b[0mservice_ver\u001b[0m\u001b[0;34m,\u001b[0m \u001b[0mcontext\u001b[0m\u001b[0;34m)\u001b[0m\u001b[0;34m\u001b[0m\u001b[0;34m\u001b[0m\u001b[0m\n\u001b[0;32m--> 282\u001b[0;31m         \u001b[0;32mreturn\u001b[0m \u001b[0mself\u001b[0m\u001b[0;34m.\u001b[0m\u001b[0m_call\u001b[0m\u001b[0;34m(\u001b[0m\u001b[0murl\u001b[0m\u001b[0;34m,\u001b[0m \u001b[0mservice_method\u001b[0m\u001b[0;34m,\u001b[0m \u001b[0margs\u001b[0m\u001b[0;34m,\u001b[0m \u001b[0mcontext\u001b[0m\u001b[0;34m)\u001b[0m\u001b[0;34m\u001b[0m\u001b[0;34m\u001b[0m\u001b[0m\n\u001b[0m",
      "\u001b[0;32m~/code//chenry_utility_module/lib/installed_clients/baseclient.py\u001b[0m in \u001b[0;36m_call\u001b[0;34m(self, url, method, params, context)\u001b[0m\n\u001b[1;32m    177\u001b[0m \u001b[0;34m\u001b[0m\u001b[0m\n\u001b[1;32m    178\u001b[0m         \u001b[0mbody\u001b[0m \u001b[0;34m=\u001b[0m \u001b[0m_json\u001b[0m\u001b[0;34m.\u001b[0m\u001b[0mdumps\u001b[0m\u001b[0;34m(\u001b[0m\u001b[0marg_hash\u001b[0m\u001b[0;34m,\u001b[0m \u001b[0mcls\u001b[0m\u001b[0;34m=\u001b[0m\u001b[0m_JSONObjectEncoder\u001b[0m\u001b[0;34m)\u001b[0m\u001b[0;34m\u001b[0m\u001b[0;34m\u001b[0m\u001b[0m\n\u001b[0;32m--> 179\u001b[0;31m         ret = _requests.post(url, data=body, headers=self._headers,\n\u001b[0m\u001b[1;32m    180\u001b[0m                              \u001b[0mtimeout\u001b[0m\u001b[0;34m=\u001b[0m\u001b[0mself\u001b[0m\u001b[0;34m.\u001b[0m\u001b[0mtimeout\u001b[0m\u001b[0;34m,\u001b[0m\u001b[0;34m\u001b[0m\u001b[0;34m\u001b[0m\u001b[0m\n\u001b[1;32m    181\u001b[0m                              verify=not self.trust_all_ssl_certificates)\n",
      "\u001b[0;32m~/opt/anaconda3/lib/python3.9/site-packages/requests/api.py\u001b[0m in \u001b[0;36mpost\u001b[0;34m(url, data, json, **kwargs)\u001b[0m\n\u001b[1;32m    113\u001b[0m     \"\"\"\n\u001b[1;32m    114\u001b[0m \u001b[0;34m\u001b[0m\u001b[0m\n\u001b[0;32m--> 115\u001b[0;31m     \u001b[0;32mreturn\u001b[0m \u001b[0mrequest\u001b[0m\u001b[0;34m(\u001b[0m\u001b[0;34m\"post\"\u001b[0m\u001b[0;34m,\u001b[0m \u001b[0murl\u001b[0m\u001b[0;34m,\u001b[0m \u001b[0mdata\u001b[0m\u001b[0;34m=\u001b[0m\u001b[0mdata\u001b[0m\u001b[0;34m,\u001b[0m \u001b[0mjson\u001b[0m\u001b[0;34m=\u001b[0m\u001b[0mjson\u001b[0m\u001b[0;34m,\u001b[0m \u001b[0;34m**\u001b[0m\u001b[0mkwargs\u001b[0m\u001b[0;34m)\u001b[0m\u001b[0;34m\u001b[0m\u001b[0;34m\u001b[0m\u001b[0m\n\u001b[0m\u001b[1;32m    116\u001b[0m \u001b[0;34m\u001b[0m\u001b[0m\n\u001b[1;32m    117\u001b[0m \u001b[0;34m\u001b[0m\u001b[0m\n",
      "\u001b[0;32m~/opt/anaconda3/lib/python3.9/site-packages/requests/api.py\u001b[0m in \u001b[0;36mrequest\u001b[0;34m(method, url, **kwargs)\u001b[0m\n\u001b[1;32m     57\u001b[0m     \u001b[0;31m# cases, and look like a memory leak in others.\u001b[0m\u001b[0;34m\u001b[0m\u001b[0;34m\u001b[0m\u001b[0m\n\u001b[1;32m     58\u001b[0m     \u001b[0;32mwith\u001b[0m \u001b[0msessions\u001b[0m\u001b[0;34m.\u001b[0m\u001b[0mSession\u001b[0m\u001b[0;34m(\u001b[0m\u001b[0;34m)\u001b[0m \u001b[0;32mas\u001b[0m \u001b[0msession\u001b[0m\u001b[0;34m:\u001b[0m\u001b[0;34m\u001b[0m\u001b[0;34m\u001b[0m\u001b[0m\n\u001b[0;32m---> 59\u001b[0;31m         \u001b[0;32mreturn\u001b[0m \u001b[0msession\u001b[0m\u001b[0;34m.\u001b[0m\u001b[0mrequest\u001b[0m\u001b[0;34m(\u001b[0m\u001b[0mmethod\u001b[0m\u001b[0;34m=\u001b[0m\u001b[0mmethod\u001b[0m\u001b[0;34m,\u001b[0m \u001b[0murl\u001b[0m\u001b[0;34m=\u001b[0m\u001b[0murl\u001b[0m\u001b[0;34m,\u001b[0m \u001b[0;34m**\u001b[0m\u001b[0mkwargs\u001b[0m\u001b[0;34m)\u001b[0m\u001b[0;34m\u001b[0m\u001b[0;34m\u001b[0m\u001b[0m\n\u001b[0m\u001b[1;32m     60\u001b[0m \u001b[0;34m\u001b[0m\u001b[0m\n\u001b[1;32m     61\u001b[0m \u001b[0;34m\u001b[0m\u001b[0m\n",
      "\u001b[0;32m~/opt/anaconda3/lib/python3.9/site-packages/requests/sessions.py\u001b[0m in \u001b[0;36mrequest\u001b[0;34m(self, method, url, params, data, headers, cookies, files, auth, timeout, allow_redirects, proxies, hooks, stream, verify, cert, json)\u001b[0m\n\u001b[1;32m    585\u001b[0m         }\n\u001b[1;32m    586\u001b[0m         \u001b[0msend_kwargs\u001b[0m\u001b[0;34m.\u001b[0m\u001b[0mupdate\u001b[0m\u001b[0;34m(\u001b[0m\u001b[0msettings\u001b[0m\u001b[0;34m)\u001b[0m\u001b[0;34m\u001b[0m\u001b[0;34m\u001b[0m\u001b[0m\n\u001b[0;32m--> 587\u001b[0;31m         \u001b[0mresp\u001b[0m \u001b[0;34m=\u001b[0m \u001b[0mself\u001b[0m\u001b[0;34m.\u001b[0m\u001b[0msend\u001b[0m\u001b[0;34m(\u001b[0m\u001b[0mprep\u001b[0m\u001b[0;34m,\u001b[0m \u001b[0;34m**\u001b[0m\u001b[0msend_kwargs\u001b[0m\u001b[0;34m)\u001b[0m\u001b[0;34m\u001b[0m\u001b[0;34m\u001b[0m\u001b[0m\n\u001b[0m\u001b[1;32m    588\u001b[0m \u001b[0;34m\u001b[0m\u001b[0m\n\u001b[1;32m    589\u001b[0m         \u001b[0;32mreturn\u001b[0m \u001b[0mresp\u001b[0m\u001b[0;34m\u001b[0m\u001b[0;34m\u001b[0m\u001b[0m\n",
      "\u001b[0;32m~/opt/anaconda3/lib/python3.9/site-packages/requests/sessions.py\u001b[0m in \u001b[0;36msend\u001b[0;34m(self, request, **kwargs)\u001b[0m\n\u001b[1;32m    743\u001b[0m \u001b[0;34m\u001b[0m\u001b[0m\n\u001b[1;32m    744\u001b[0m         \u001b[0;32mif\u001b[0m \u001b[0;32mnot\u001b[0m \u001b[0mstream\u001b[0m\u001b[0;34m:\u001b[0m\u001b[0;34m\u001b[0m\u001b[0;34m\u001b[0m\u001b[0m\n\u001b[0;32m--> 745\u001b[0;31m             \u001b[0mr\u001b[0m\u001b[0;34m.\u001b[0m\u001b[0mcontent\u001b[0m\u001b[0;34m\u001b[0m\u001b[0;34m\u001b[0m\u001b[0m\n\u001b[0m\u001b[1;32m    746\u001b[0m \u001b[0;34m\u001b[0m\u001b[0m\n\u001b[1;32m    747\u001b[0m         \u001b[0;32mreturn\u001b[0m \u001b[0mr\u001b[0m\u001b[0;34m\u001b[0m\u001b[0;34m\u001b[0m\u001b[0m\n",
      "\u001b[0;32m~/opt/anaconda3/lib/python3.9/site-packages/requests/models.py\u001b[0m in \u001b[0;36mcontent\u001b[0;34m(self)\u001b[0m\n\u001b[1;32m    897\u001b[0m                 \u001b[0mself\u001b[0m\u001b[0;34m.\u001b[0m\u001b[0m_content\u001b[0m \u001b[0;34m=\u001b[0m \u001b[0;32mNone\u001b[0m\u001b[0;34m\u001b[0m\u001b[0;34m\u001b[0m\u001b[0m\n\u001b[1;32m    898\u001b[0m             \u001b[0;32melse\u001b[0m\u001b[0;34m:\u001b[0m\u001b[0;34m\u001b[0m\u001b[0;34m\u001b[0m\u001b[0m\n\u001b[0;32m--> 899\u001b[0;31m                 \u001b[0mself\u001b[0m\u001b[0;34m.\u001b[0m\u001b[0m_content\u001b[0m \u001b[0;34m=\u001b[0m \u001b[0;34mb\"\"\u001b[0m\u001b[0;34m.\u001b[0m\u001b[0mjoin\u001b[0m\u001b[0;34m(\u001b[0m\u001b[0mself\u001b[0m\u001b[0;34m.\u001b[0m\u001b[0miter_content\u001b[0m\u001b[0;34m(\u001b[0m\u001b[0mCONTENT_CHUNK_SIZE\u001b[0m\u001b[0;34m)\u001b[0m\u001b[0;34m)\u001b[0m \u001b[0;32mor\u001b[0m \u001b[0;34mb\"\"\u001b[0m\u001b[0;34m\u001b[0m\u001b[0;34m\u001b[0m\u001b[0m\n\u001b[0m\u001b[1;32m    900\u001b[0m \u001b[0;34m\u001b[0m\u001b[0m\n\u001b[1;32m    901\u001b[0m         \u001b[0mself\u001b[0m\u001b[0;34m.\u001b[0m\u001b[0m_content_consumed\u001b[0m \u001b[0;34m=\u001b[0m \u001b[0;32mTrue\u001b[0m\u001b[0;34m\u001b[0m\u001b[0;34m\u001b[0m\u001b[0m\n",
      "\u001b[0;32m~/opt/anaconda3/lib/python3.9/site-packages/requests/models.py\u001b[0m in \u001b[0;36mgenerate\u001b[0;34m()\u001b[0m\n\u001b[1;32m    814\u001b[0m             \u001b[0;32mif\u001b[0m \u001b[0mhasattr\u001b[0m\u001b[0;34m(\u001b[0m\u001b[0mself\u001b[0m\u001b[0;34m.\u001b[0m\u001b[0mraw\u001b[0m\u001b[0;34m,\u001b[0m \u001b[0;34m\"stream\"\u001b[0m\u001b[0;34m)\u001b[0m\u001b[0;34m:\u001b[0m\u001b[0;34m\u001b[0m\u001b[0;34m\u001b[0m\u001b[0m\n\u001b[1;32m    815\u001b[0m                 \u001b[0;32mtry\u001b[0m\u001b[0;34m:\u001b[0m\u001b[0;34m\u001b[0m\u001b[0;34m\u001b[0m\u001b[0m\n\u001b[0;32m--> 816\u001b[0;31m                     \u001b[0;32myield\u001b[0m \u001b[0;32mfrom\u001b[0m \u001b[0mself\u001b[0m\u001b[0;34m.\u001b[0m\u001b[0mraw\u001b[0m\u001b[0;34m.\u001b[0m\u001b[0mstream\u001b[0m\u001b[0;34m(\u001b[0m\u001b[0mchunk_size\u001b[0m\u001b[0;34m,\u001b[0m \u001b[0mdecode_content\u001b[0m\u001b[0;34m=\u001b[0m\u001b[0;32mTrue\u001b[0m\u001b[0;34m)\u001b[0m\u001b[0;34m\u001b[0m\u001b[0;34m\u001b[0m\u001b[0m\n\u001b[0m\u001b[1;32m    817\u001b[0m                 \u001b[0;32mexcept\u001b[0m \u001b[0mProtocolError\u001b[0m \u001b[0;32mas\u001b[0m \u001b[0me\u001b[0m\u001b[0;34m:\u001b[0m\u001b[0;34m\u001b[0m\u001b[0;34m\u001b[0m\u001b[0m\n\u001b[1;32m    818\u001b[0m                     \u001b[0;32mraise\u001b[0m \u001b[0mChunkedEncodingError\u001b[0m\u001b[0;34m(\u001b[0m\u001b[0me\u001b[0m\u001b[0;34m)\u001b[0m\u001b[0;34m\u001b[0m\u001b[0;34m\u001b[0m\u001b[0m\n",
      "\u001b[0;32m~/opt/anaconda3/lib/python3.9/site-packages/urllib3/response.py\u001b[0m in \u001b[0;36mstream\u001b[0;34m(self, amt, decode_content)\u001b[0m\n\u001b[1;32m    621\u001b[0m         \"\"\"\n\u001b[1;32m    622\u001b[0m         \u001b[0;32mif\u001b[0m \u001b[0mself\u001b[0m\u001b[0;34m.\u001b[0m\u001b[0mchunked\u001b[0m \u001b[0;32mand\u001b[0m \u001b[0mself\u001b[0m\u001b[0;34m.\u001b[0m\u001b[0msupports_chunked_reads\u001b[0m\u001b[0;34m(\u001b[0m\u001b[0;34m)\u001b[0m\u001b[0;34m:\u001b[0m\u001b[0;34m\u001b[0m\u001b[0;34m\u001b[0m\u001b[0m\n\u001b[0;32m--> 623\u001b[0;31m             \u001b[0;32mfor\u001b[0m \u001b[0mline\u001b[0m \u001b[0;32min\u001b[0m \u001b[0mself\u001b[0m\u001b[0;34m.\u001b[0m\u001b[0mread_chunked\u001b[0m\u001b[0;34m(\u001b[0m\u001b[0mamt\u001b[0m\u001b[0;34m,\u001b[0m \u001b[0mdecode_content\u001b[0m\u001b[0;34m=\u001b[0m\u001b[0mdecode_content\u001b[0m\u001b[0;34m)\u001b[0m\u001b[0;34m:\u001b[0m\u001b[0;34m\u001b[0m\u001b[0;34m\u001b[0m\u001b[0m\n\u001b[0m\u001b[1;32m    624\u001b[0m                 \u001b[0;32myield\u001b[0m \u001b[0mline\u001b[0m\u001b[0;34m\u001b[0m\u001b[0;34m\u001b[0m\u001b[0m\n\u001b[1;32m    625\u001b[0m         \u001b[0;32melse\u001b[0m\u001b[0;34m:\u001b[0m\u001b[0;34m\u001b[0m\u001b[0;34m\u001b[0m\u001b[0m\n",
      "\u001b[0;32m~/opt/anaconda3/lib/python3.9/site-packages/urllib3/response.py\u001b[0m in \u001b[0;36mread_chunked\u001b[0;34m(self, amt, decode_content)\u001b[0m\n\u001b[1;32m    816\u001b[0m                 \u001b[0;32mif\u001b[0m \u001b[0mself\u001b[0m\u001b[0;34m.\u001b[0m\u001b[0mchunk_left\u001b[0m \u001b[0;34m==\u001b[0m \u001b[0;36m0\u001b[0m\u001b[0;34m:\u001b[0m\u001b[0;34m\u001b[0m\u001b[0;34m\u001b[0m\u001b[0m\n\u001b[1;32m    817\u001b[0m                     \u001b[0;32mbreak\u001b[0m\u001b[0;34m\u001b[0m\u001b[0;34m\u001b[0m\u001b[0m\n\u001b[0;32m--> 818\u001b[0;31m                 \u001b[0mchunk\u001b[0m \u001b[0;34m=\u001b[0m \u001b[0mself\u001b[0m\u001b[0;34m.\u001b[0m\u001b[0m_handle_chunk\u001b[0m\u001b[0;34m(\u001b[0m\u001b[0mamt\u001b[0m\u001b[0;34m)\u001b[0m\u001b[0;34m\u001b[0m\u001b[0;34m\u001b[0m\u001b[0m\n\u001b[0m\u001b[1;32m    819\u001b[0m                 decoded = self._decode(\n\u001b[1;32m    820\u001b[0m                     \u001b[0mchunk\u001b[0m\u001b[0;34m,\u001b[0m \u001b[0mdecode_content\u001b[0m\u001b[0;34m=\u001b[0m\u001b[0mdecode_content\u001b[0m\u001b[0;34m,\u001b[0m \u001b[0mflush_decoder\u001b[0m\u001b[0;34m=\u001b[0m\u001b[0;32mFalse\u001b[0m\u001b[0;34m\u001b[0m\u001b[0;34m\u001b[0m\u001b[0m\n",
      "\u001b[0;32m~/opt/anaconda3/lib/python3.9/site-packages/urllib3/response.py\u001b[0m in \u001b[0;36m_handle_chunk\u001b[0;34m(self, amt)\u001b[0m\n\u001b[1;32m    760\u001b[0m             \u001b[0mself\u001b[0m\u001b[0;34m.\u001b[0m\u001b[0mchunk_left\u001b[0m \u001b[0;34m=\u001b[0m \u001b[0;32mNone\u001b[0m\u001b[0;34m\u001b[0m\u001b[0;34m\u001b[0m\u001b[0m\n\u001b[1;32m    761\u001b[0m         \u001b[0;32melif\u001b[0m \u001b[0mamt\u001b[0m \u001b[0;34m<\u001b[0m \u001b[0mself\u001b[0m\u001b[0;34m.\u001b[0m\u001b[0mchunk_left\u001b[0m\u001b[0;34m:\u001b[0m\u001b[0;34m\u001b[0m\u001b[0;34m\u001b[0m\u001b[0m\n\u001b[0;32m--> 762\u001b[0;31m             \u001b[0mvalue\u001b[0m \u001b[0;34m=\u001b[0m \u001b[0mself\u001b[0m\u001b[0;34m.\u001b[0m\u001b[0m_fp\u001b[0m\u001b[0;34m.\u001b[0m\u001b[0m_safe_read\u001b[0m\u001b[0;34m(\u001b[0m\u001b[0mamt\u001b[0m\u001b[0;34m)\u001b[0m\u001b[0;34m\u001b[0m\u001b[0;34m\u001b[0m\u001b[0m\n\u001b[0m\u001b[1;32m    763\u001b[0m             \u001b[0mself\u001b[0m\u001b[0;34m.\u001b[0m\u001b[0mchunk_left\u001b[0m \u001b[0;34m=\u001b[0m \u001b[0mself\u001b[0m\u001b[0;34m.\u001b[0m\u001b[0mchunk_left\u001b[0m \u001b[0;34m-\u001b[0m \u001b[0mamt\u001b[0m\u001b[0;34m\u001b[0m\u001b[0;34m\u001b[0m\u001b[0m\n\u001b[1;32m    764\u001b[0m             \u001b[0mreturned_chunk\u001b[0m \u001b[0;34m=\u001b[0m \u001b[0mvalue\u001b[0m\u001b[0;34m\u001b[0m\u001b[0;34m\u001b[0m\u001b[0m\n",
      "\u001b[0;32m~/opt/anaconda3/lib/python3.9/http/client.py\u001b[0m in \u001b[0;36m_safe_read\u001b[0;34m(self, amt)\u001b[0m\n\u001b[1;32m    624\u001b[0m         \u001b[0ms\u001b[0m \u001b[0;34m=\u001b[0m \u001b[0;34m[\u001b[0m\u001b[0;34m]\u001b[0m\u001b[0;34m\u001b[0m\u001b[0;34m\u001b[0m\u001b[0m\n\u001b[1;32m    625\u001b[0m         \u001b[0;32mwhile\u001b[0m \u001b[0mamt\u001b[0m \u001b[0;34m>\u001b[0m \u001b[0;36m0\u001b[0m\u001b[0;34m:\u001b[0m\u001b[0;34m\u001b[0m\u001b[0;34m\u001b[0m\u001b[0m\n\u001b[0;32m--> 626\u001b[0;31m             \u001b[0mchunk\u001b[0m \u001b[0;34m=\u001b[0m \u001b[0mself\u001b[0m\u001b[0;34m.\u001b[0m\u001b[0mfp\u001b[0m\u001b[0;34m.\u001b[0m\u001b[0mread\u001b[0m\u001b[0;34m(\u001b[0m\u001b[0mmin\u001b[0m\u001b[0;34m(\u001b[0m\u001b[0mamt\u001b[0m\u001b[0;34m,\u001b[0m \u001b[0mMAXAMOUNT\u001b[0m\u001b[0;34m)\u001b[0m\u001b[0;34m)\u001b[0m\u001b[0;34m\u001b[0m\u001b[0;34m\u001b[0m\u001b[0m\n\u001b[0m\u001b[1;32m    627\u001b[0m             \u001b[0;32mif\u001b[0m \u001b[0;32mnot\u001b[0m \u001b[0mchunk\u001b[0m\u001b[0;34m:\u001b[0m\u001b[0;34m\u001b[0m\u001b[0;34m\u001b[0m\u001b[0m\n\u001b[1;32m    628\u001b[0m                 \u001b[0;32mraise\u001b[0m \u001b[0mIncompleteRead\u001b[0m\u001b[0;34m(\u001b[0m\u001b[0;34mb''\u001b[0m\u001b[0;34m.\u001b[0m\u001b[0mjoin\u001b[0m\u001b[0;34m(\u001b[0m\u001b[0ms\u001b[0m\u001b[0;34m)\u001b[0m\u001b[0;34m,\u001b[0m \u001b[0mamt\u001b[0m\u001b[0;34m)\u001b[0m\u001b[0;34m\u001b[0m\u001b[0;34m\u001b[0m\u001b[0m\n",
      "\u001b[0;32m~/opt/anaconda3/lib/python3.9/socket.py\u001b[0m in \u001b[0;36mreadinto\u001b[0;34m(self, b)\u001b[0m\n\u001b[1;32m    702\u001b[0m         \u001b[0;32mwhile\u001b[0m \u001b[0;32mTrue\u001b[0m\u001b[0;34m:\u001b[0m\u001b[0;34m\u001b[0m\u001b[0;34m\u001b[0m\u001b[0m\n\u001b[1;32m    703\u001b[0m             \u001b[0;32mtry\u001b[0m\u001b[0;34m:\u001b[0m\u001b[0;34m\u001b[0m\u001b[0;34m\u001b[0m\u001b[0m\n\u001b[0;32m--> 704\u001b[0;31m                 \u001b[0;32mreturn\u001b[0m \u001b[0mself\u001b[0m\u001b[0;34m.\u001b[0m\u001b[0m_sock\u001b[0m\u001b[0;34m.\u001b[0m\u001b[0mrecv_into\u001b[0m\u001b[0;34m(\u001b[0m\u001b[0mb\u001b[0m\u001b[0;34m)\u001b[0m\u001b[0;34m\u001b[0m\u001b[0;34m\u001b[0m\u001b[0m\n\u001b[0m\u001b[1;32m    705\u001b[0m             \u001b[0;32mexcept\u001b[0m \u001b[0mtimeout\u001b[0m\u001b[0;34m:\u001b[0m\u001b[0;34m\u001b[0m\u001b[0;34m\u001b[0m\u001b[0m\n\u001b[1;32m    706\u001b[0m                 \u001b[0mself\u001b[0m\u001b[0;34m.\u001b[0m\u001b[0m_timeout_occurred\u001b[0m \u001b[0;34m=\u001b[0m \u001b[0;32mTrue\u001b[0m\u001b[0;34m\u001b[0m\u001b[0;34m\u001b[0m\u001b[0m\n",
      "\u001b[0;32m~/opt/anaconda3/lib/python3.9/ssl.py\u001b[0m in \u001b[0;36mrecv_into\u001b[0;34m(self, buffer, nbytes, flags)\u001b[0m\n\u001b[1;32m   1240\u001b[0m                   \u001b[0;34m\"non-zero flags not allowed in calls to recv_into() on %s\"\u001b[0m \u001b[0;34m%\u001b[0m\u001b[0;34m\u001b[0m\u001b[0;34m\u001b[0m\u001b[0m\n\u001b[1;32m   1241\u001b[0m                   self.__class__)\n\u001b[0;32m-> 1242\u001b[0;31m             \u001b[0;32mreturn\u001b[0m \u001b[0mself\u001b[0m\u001b[0;34m.\u001b[0m\u001b[0mread\u001b[0m\u001b[0;34m(\u001b[0m\u001b[0mnbytes\u001b[0m\u001b[0;34m,\u001b[0m \u001b[0mbuffer\u001b[0m\u001b[0;34m)\u001b[0m\u001b[0;34m\u001b[0m\u001b[0;34m\u001b[0m\u001b[0m\n\u001b[0m\u001b[1;32m   1243\u001b[0m         \u001b[0;32melse\u001b[0m\u001b[0;34m:\u001b[0m\u001b[0;34m\u001b[0m\u001b[0;34m\u001b[0m\u001b[0m\n\u001b[1;32m   1244\u001b[0m             \u001b[0;32mreturn\u001b[0m \u001b[0msuper\u001b[0m\u001b[0;34m(\u001b[0m\u001b[0;34m)\u001b[0m\u001b[0;34m.\u001b[0m\u001b[0mrecv_into\u001b[0m\u001b[0;34m(\u001b[0m\u001b[0mbuffer\u001b[0m\u001b[0;34m,\u001b[0m \u001b[0mnbytes\u001b[0m\u001b[0;34m,\u001b[0m \u001b[0mflags\u001b[0m\u001b[0;34m)\u001b[0m\u001b[0;34m\u001b[0m\u001b[0;34m\u001b[0m\u001b[0m\n",
      "\u001b[0;32m~/opt/anaconda3/lib/python3.9/ssl.py\u001b[0m in \u001b[0;36mread\u001b[0;34m(self, len, buffer)\u001b[0m\n\u001b[1;32m   1098\u001b[0m         \u001b[0;32mtry\u001b[0m\u001b[0;34m:\u001b[0m\u001b[0;34m\u001b[0m\u001b[0;34m\u001b[0m\u001b[0m\n\u001b[1;32m   1099\u001b[0m             \u001b[0;32mif\u001b[0m \u001b[0mbuffer\u001b[0m \u001b[0;32mis\u001b[0m \u001b[0;32mnot\u001b[0m \u001b[0;32mNone\u001b[0m\u001b[0;34m:\u001b[0m\u001b[0;34m\u001b[0m\u001b[0;34m\u001b[0m\u001b[0m\n\u001b[0;32m-> 1100\u001b[0;31m                 \u001b[0;32mreturn\u001b[0m \u001b[0mself\u001b[0m\u001b[0;34m.\u001b[0m\u001b[0m_sslobj\u001b[0m\u001b[0;34m.\u001b[0m\u001b[0mread\u001b[0m\u001b[0;34m(\u001b[0m\u001b[0mlen\u001b[0m\u001b[0;34m,\u001b[0m \u001b[0mbuffer\u001b[0m\u001b[0;34m)\u001b[0m\u001b[0;34m\u001b[0m\u001b[0;34m\u001b[0m\u001b[0m\n\u001b[0m\u001b[1;32m   1101\u001b[0m             \u001b[0;32melse\u001b[0m\u001b[0;34m:\u001b[0m\u001b[0;34m\u001b[0m\u001b[0;34m\u001b[0m\u001b[0m\n\u001b[1;32m   1102\u001b[0m                 \u001b[0;32mreturn\u001b[0m \u001b[0mself\u001b[0m\u001b[0;34m.\u001b[0m\u001b[0m_sslobj\u001b[0m\u001b[0;34m.\u001b[0m\u001b[0mread\u001b[0m\u001b[0;34m(\u001b[0m\u001b[0mlen\u001b[0m\u001b[0;34m)\u001b[0m\u001b[0;34m\u001b[0m\u001b[0;34m\u001b[0m\u001b[0m\n",
      "\u001b[0;31mKeyboardInterrupt\u001b[0m: "
     ]
    }
   ],
   "source": [
    "%run agoracommutil.py\n",
    "metabolites = util.load(\"metabolites\")\n",
    "phenotype_results = util.load(\"phenotype_results\")\n",
    "\n",
    "auxo_media = util.msrecon.get_media(\"181152/AuxoMedia\")\n",
    "agmm_base_media = util.msrecon.get_media(\"181152/BaseAnaerobicMM\")\n",
    "gmm_base_media = util.msrecon.get_media(\"181152/BaseAerobicMM\")\n",
    "uptake_phenoset = util.create_phenotypeset_from_compounds(\n",
    "    metabolites,\n",
    "    base_media=auxo_media,\n",
    "    base_uptake=0,\n",
    "    base_excretion=1000,\n",
    "    global_atom_limits={},\n",
    "    type=\"uptake\"\n",
    ")\n",
    "\n",
    "mdlutl = util.msrecon.get_model(\"Lactobacillus.9.ASV.mdl\",181152)\n",
    "filters = mdlutl.get_attributes(\"gf_filter\")\n",
    "tests = mdlutl.get_atp_tests(core_template=util.msrecon.core_template,atp_media_filename=util.msrecon.module_dir+\"/data/atp_medias.tsv\",recompute=False)\n",
    "msgapfill = MSGapfill(\n",
    "    mdlutl,\n",
    "    [util.msrecon.get_template(mdlutl.model.template_ref)],\n",
    "    [],\n",
    "    tests,\n",
    "    blacklist=[],\n",
    "    default_target=\"bio1\",\n",
    "    minimum_obj=0.01,\n",
    "    base_media=None,\n",
    "    base_media_target_element=None\n",
    ")\n",
    "msgapfill.prefilter(test_conditions=tests,growth_conditions=[],use_prior_filtering=True)\n",
    "\n",
    "#Adding missing transporter for metabolites to gapfilling database\n",
    "supported_metabolites = {}\n",
    "for cpd in metabolites:\n",
    "    if \"EX_\"+cpd+\"_e0\" not in msgapfill.gfmodelutl.model.reactions:\n",
    "        print(\"Adding transport for \",cpd)\n",
    "        transport = msgapfill.gfmodelutl.add_transport_and_exchange_for_metabolite(cpd,direction=\"=\",prefix=\"trans\",override=False)\n",
    "        if transport:\n",
    "            supported_metabolites[cpd] = transport.id\n",
    "    else:\n",
    "        supported_metabolites[cpd] = 1\n",
    "util.save(\"supported_metabolites\",supported_metabolites)\n",
    "msgapfill.gfpkgmgr.getpkg(\"GapfillingPkg\").compute_gapfilling_penalties(exclusion_solution=None,reaction_scores=None)\n",
    "\n",
    "media_list = []\n",
    "pheno_list = []\n",
    "target_hash = {}\n",
    "for pheno in uptake_phenoset.phenotypes:\n",
    "    if pheno.id in phenotype_results[\"Lactobacillus.9\"][\"uptake\"]:\n",
    "        if phenotype_results[\"Lactobacillus.9\"][\"uptake\"][pheno.id][\"objective_value\"] < 0.01:\n",
    "            if pheno.id in supported_metabolites:\n",
    "                fullmedia = pheno.build_media()\n",
    "                fullmedia.id = pheno.id\n",
    "                for item in fullmedia.mediacompounds:\n",
    "                    if item.id == pheno.id:\n",
    "                        item.lower_bound = -1000\n",
    "                        item.upper_bound = -0.01\n",
    "                pheno_list.append(pheno.id)\n",
    "                media_list.append(fullmedia)\n",
    "                #print(phenotype_results[\"Lactobacillus.9\"][\"uptake\"][pheno.id][\"objective\"])\n",
    "                #target_hash[fullmedia] = phenotype_results[\"Lactobacillus.9\"][\"uptake\"][pheno.id][\"objective\"]\n",
    "            else:\n",
    "                print(\"No support for \",pheno.id)\n",
    "phenotype_gf_results = {}\n",
    "phenotype_gf_results[\"Lactobacillus.9\"] = {}\n",
    "phenotype_gf_results[\"Lactobacillus.9\"][\"uptake\"] = msgapfill.run_multi_gapfill(\n",
    "    media_list,\n",
    "    #target_hash=target_hash,\n",
    "    target=\"bio1\",\n",
    "    default_minimum_objective=0,\n",
    "    binary_check=False,\n",
    "    prefilter=False,\n",
    "    check_for_growth=True,\n",
    "    gapfilling_mode=\"Independent\",\n",
    "    run_sensitivity_analysis=False,\n",
    "    integrate_solutions=False,\n",
    "    remove_unneeded_reactions=False\n",
    ")\n",
    "util.save(\"phenotype_gf_results\",phenotype_gf_results)"
   ]
  },
  {
   "cell_type": "code",
   "execution_count": 1,
   "metadata": {
    "collapsed": true,
    "jupyter": {
     "outputs_hidden": true,
     "source_hidden": true
    },
    "tags": []
   },
   "outputs": [
    {
     "ename": "NameError",
     "evalue": "name 'util' is not defined",
     "output_type": "error",
     "traceback": [
      "\u001b[0;31m---------------------------------------------------------------------------\u001b[0m",
      "\u001b[0;31mNameError\u001b[0m                                 Traceback (most recent call last)",
      "\u001b[0;32m/var/folders/ph/360gp1jx5zg7qyqv076prl240000gn/T/ipykernel_75926/2968236246.py\u001b[0m in \u001b[0;36m<module>\u001b[0;34m\u001b[0m\n\u001b[1;32m      1\u001b[0m \u001b[0;32mimport\u001b[0m \u001b[0mpandas\u001b[0m \u001b[0;32mas\u001b[0m \u001b[0mpd\u001b[0m\u001b[0;34m\u001b[0m\u001b[0;34m\u001b[0m\u001b[0m\n\u001b[0;32m----> 2\u001b[0;31m \u001b[0mmetabolites\u001b[0m \u001b[0;34m=\u001b[0m \u001b[0mutil\u001b[0m\u001b[0;34m.\u001b[0m\u001b[0mload\u001b[0m\u001b[0;34m(\u001b[0m\u001b[0;34m\"metabolites\"\u001b[0m\u001b[0;34m)\u001b[0m\u001b[0;34m\u001b[0m\u001b[0;34m\u001b[0m\u001b[0m\n\u001b[0m\u001b[1;32m      3\u001b[0m \u001b[0msupported_metabolites\u001b[0m \u001b[0;34m=\u001b[0m \u001b[0mutil\u001b[0m\u001b[0;34m.\u001b[0m\u001b[0mload\u001b[0m\u001b[0;34m(\u001b[0m\u001b[0;34m\"supported_metabolites\"\u001b[0m\u001b[0;34m)\u001b[0m\u001b[0;34m\u001b[0m\u001b[0;34m\u001b[0m\u001b[0m\n\u001b[1;32m      4\u001b[0m \u001b[0mphenotype_gf_results\u001b[0m \u001b[0;34m=\u001b[0m \u001b[0mutil\u001b[0m\u001b[0;34m.\u001b[0m\u001b[0mload\u001b[0m\u001b[0;34m(\u001b[0m\u001b[0;34m\"phenotype_gf_results\"\u001b[0m\u001b[0;34m,\u001b[0m\u001b[0;34m{\u001b[0m\u001b[0;34m}\u001b[0m\u001b[0;34m)\u001b[0m\u001b[0;34m\u001b[0m\u001b[0;34m\u001b[0m\u001b[0m\n\u001b[1;32m      5\u001b[0m \u001b[0mphenotype_results\u001b[0m \u001b[0;34m=\u001b[0m \u001b[0mutil\u001b[0m\u001b[0;34m.\u001b[0m\u001b[0mload\u001b[0m\u001b[0;34m(\u001b[0m\u001b[0;34m\"phenotype_results\"\u001b[0m\u001b[0;34m)\u001b[0m\u001b[0;34m\u001b[0m\u001b[0;34m\u001b[0m\u001b[0m\n",
      "\u001b[0;31mNameError\u001b[0m: name 'util' is not defined"
     ]
    }
   ],
   "source": [
    "import pandas as pd\n",
    "metabolites = util.load(\"metabolites\")\n",
    "supported_metabolites = util.load(\"supported_metabolites\")\n",
    "phenotype_gf_results = util.load(\"phenotype_gf_results\",{})\n",
    "phenotype_results = util.load(\"phenotype_results\")\n",
    "asvset_names = util.load(\"asvset_names\")\n",
    "asvset_genomes = util.load(\"asvset_genomes\")\n",
    "phenotype_results = util.load(\"phenotype_results\",default={})\n",
    "phenotype_gf_results = util.load(\"phenotype_gf_results\",default={})\n",
    "auxo_media = util.msrecon.get_media(\"181152/AuxoMedia\")\n",
    "agmm_base_media = util.msrecon.get_media(\"181152/BaseAnaerobicMM\")\n",
    "gmm_base_media = util.msrecon.get_media(\"181152/BaseAerobicMM\")\n",
    "uptake_phenoset = util.create_phenotypeset_from_compounds(\n",
    "    columns,\n",
    "    base_media=auxo_media,\n",
    "    base_uptake=0,\n",
    "    base_excretion=1000,\n",
    "    global_atom_limits={},\n",
    "    type=\"uptake\"\n",
    ")\n",
    "excretion_phenoset = util.create_phenotypeset_from_compounds(\n",
    "    columns,\n",
    "    base_media=auxo_media,\n",
    "    base_uptake=0,\n",
    "    base_excretion=1000,\n",
    "    global_atom_limits={},\n",
    "    type=\"excretion\"\n",
    ")\n",
    "agrowth_phenoset = util.create_phenotypeset_from_compounds(\n",
    "    columns,\n",
    "    base_media=agmm_base_media,\n",
    "    base_uptake=0,\n",
    "    base_excretion=1000,\n",
    "    global_atom_limits={},\n",
    "    type=\"growth\"\n",
    ")\n",
    "growth_phenoset = util.create_phenotypeset_from_compounds(\n",
    "    columns,\n",
    "    base_media=gmm_base_media,\n",
    "    base_uptake=0,\n",
    "    base_excretion=1000,\n",
    "    global_atom_limits={},\n",
    "    type=\"growth\"\n",
    ")\n",
    "for asvset in asvset_genomes:\n",
    "    asvname = asvset_names[asvset]\n",
    "    if asvname not in phenotype_results and asvname != \"Thermus.1\":\n",
    "        phenotype_gf_results[asvname] = {}\n",
    "        mdlutl = util.msrecon.get_model(asvname+\".ASV.mdl\",181152)\n",
    "        tests = mdlutl.get_atp_tests(core_template=util.msrecon.core_template,atp_media_filename=util.msrecon.module_dir+\"/data/atp_medias.tsv\",recompute=False)\n",
    "        msgapfill = MSGapfill(\n",
    "            mdlutl,\n",
    "            [util.msrecon.get_template(mdlutl.model.template_ref)],\n",
    "            [],\n",
    "            tests,\n",
    "            blacklist=[],\n",
    "            default_target=\"bio1\",\n",
    "            minimum_obj=0.01,\n",
    "            base_media=None,\n",
    "            base_media_target_element=None\n",
    "        )\n",
    "        msgapfill.prefilter(test_conditions=tests,growth_conditions=[],use_prior_filtering=True)\n",
    "        #Adding missing transporter for metabolites to gapfilling database\n",
    "        for cpd in metabolites:\n",
    "            if \"EX_\"+cpd+\"_e0\" not in msgapfill.gfmodelutl.model.reactions:\n",
    "                print(\"Adding transport for \",cpd)\n",
    "                transport = msgapfill.gfmodelutl.add_transport_and_exchange_for_metabolite(cpd,direction=\"=\",prefix=\"trans\",override=False)\n",
    "        if \"uptake\" not in phenotype_gf_results[asvname]:\n",
    "            media_list = []\n",
    "            pheno_list = []\n",
    "            target_hash = {}\n",
    "            for pheno in uptake_phenoset.phenotypes:\n",
    "                if pheno.id in phenotype_results[asvname][\"uptake\"]:\n",
    "                    if phenotype_results[asvname][\"uptake\"][pheno.id][\"objective_value\"] < 0.01:\n",
    "                        if pheno.id in supported_metabolites:\n",
    "                            fullmedia = pheno.build_media()\n",
    "                            pheno_list.append(pheno.id)\n",
    "                            media_list.append(fullmedia)\n",
    "                            target_hash[fullmedia] = phenotype_results[asvname][\"uptake\"][pheno.id][\"objective\"]\n",
    "            phenotype_gf_results[asvname][\"uptake\"] = msgapfill.run_multi_gapfill(\n",
    "                media_list,\n",
    "                target_hash=target_hash,\n",
    "                default_minimum_objective=0.01,\n",
    "                binary_check=False,\n",
    "                prefilter=False,\n",
    "                check_for_growth=True,\n",
    "                gapfilling_mode=\"Independent\",\n",
    "                run_sensitivity_analysis=False,\n",
    "                integrate_solutions=False\n",
    "            )\n",
    "            util.save(\"phenotype_gf_results\",phenotype_gf_results)\n",
    "        if \"excretion\" not in phenotype_gf_results[asvname]:\n",
    "            media_list = []\n",
    "            pheno_list = []\n",
    "            target_hash = {}\n",
    "            for pheno in uptake_phenoset.phenotypes:\n",
    "                if pheno.id in phenotype_results[asvname][\"excretion\"]:\n",
    "                    if phenotype_results[asvname][\"excretion\"][pheno.id][\"objective_value\"] < 0.01:\n",
    "                        if pheno.id in supported_metabolites:\n",
    "                            fullmedia = pheno.build_media()\n",
    "                            pheno_list.append(pheno.id)\n",
    "                            media_list.append(fullmedia)\n",
    "                            target_hash[fullmedia] = phenotype_results[asvname][\"excretion\"][pheno.id][\"objective\"]\n",
    "            phenotype_gf_results[asvname][\"excretion\"] = msgapfill.run_multi_gapfill(\n",
    "                media_list,\n",
    "                target_hash=target_hash,\n",
    "                default_minimum_objective=0.01,\n",
    "                binary_check=False,\n",
    "                prefilter=False,\n",
    "                check_for_growth=True,\n",
    "                gapfilling_mode=\"Independent\",\n",
    "                run_sensitivity_analysis=False,\n",
    "                integrate_solutions=False\n",
    "            )\n",
    "            util.save(\"phenotype_gf_results\",phenotype_gf_results)\n",
    "        if \"agrowth\" not in phenotype_gf_results[asvname]:\n",
    "            media_list = []\n",
    "            pheno_list = []\n",
    "            target_hash = {}\n",
    "            for pheno in uptake_phenoset.phenotypes:\n",
    "                if pheno.id in phenotype_results[asvname][\"agrowth\"]:\n",
    "                    if phenotype_results[asvname][\"agrowth\"][pheno.id][\"objective_value\"] < 0.01:\n",
    "                        if pheno.id in supported_metabolites:\n",
    "                            fullmedia = pheno.build_media()\n",
    "                            pheno_list.append(pheno.id)\n",
    "                            media_list.append(fullmedia)\n",
    "                            target_hash[fullmedia] = phenotype_results[asvname][\"agrowth\"][pheno.id][\"objective\"]\n",
    "            phenotype_gf_results[asvname][\"agrowth\"] = msgapfill.run_multi_gapfill(\n",
    "                media_list,\n",
    "                targe=\"bio1\",\n",
    "                default_minimum_objective=0.01,\n",
    "                binary_check=False,\n",
    "                prefilter=False,\n",
    "                check_for_growth=True,\n",
    "                gapfilling_mode=\"Independent\",\n",
    "                run_sensitivity_analysis=False,\n",
    "                integrate_solutions=False\n",
    "            )\n",
    "            util.save(\"phenotype_gf_results\",phenotype_gf_results)\n",
    "        if \"growth\" not in phenotype_gf_results[asvname]:\n",
    "            media_list = []\n",
    "            pheno_list = []\n",
    "            target_hash = {}\n",
    "            for pheno in uptake_phenoset.phenotypes:\n",
    "                if pheno.id in phenotype_results[asvname][\"growth\"]:\n",
    "                    if phenotype_results[asvname][\"growth\"][pheno.id][\"objective_value\"] < 0.01:\n",
    "                        if pheno.id in supported_metabolites:\n",
    "                            fullmedia = pheno.build_media()\n",
    "                            pheno_list.append(pheno.id)\n",
    "                            media_list.append(fullmedia)\n",
    "                            target_hash[fullmedia] = phenotype_results[asvname][\"growth\"][pheno.id][\"objective\"]\n",
    "            phenotype_gf_results[asvname][\"growth\"] = msgapfill.run_multi_gapfill(\n",
    "                media_list,\n",
    "                targe=\"bio1\",\n",
    "                default_minimum_objective=0.01,\n",
    "                binary_check=False,\n",
    "                prefilter=False,\n",
    "                check_for_growth=True,\n",
    "                gapfilling_mode=\"Independent\",\n",
    "                run_sensitivity_analysis=False,\n",
    "                integrate_solutions=False\n",
    "            )\n",
    "            util.save(\"phenotype_gf_results\",phenotype_gf_results)"
   ]
  },
  {
   "cell_type": "markdown",
   "metadata": {},
   "source": [
    "# Consolidating gapfilling phenotype data sets "
   ]
  },
  {
   "cell_type": "code",
   "execution_count": 4,
   "metadata": {},
   "outputs": [
    {
     "name": "stdout",
     "output_type": "stream",
     "text": [
      "Output files printed to:/Users/chenry/code/notebooks/MicrobiomeNotebooks/NewWesternDiet/nboutput when using KBDevUtils.output_dir\n",
      "ModelSEED: /Users/chenry/code//kb_sdk/run_local/workdir/tmp/\n"
     ]
    }
   ],
   "source": [
    "%run agoracommutil.py\n",
    "consolidated_gf_results = util.load(\"consolidated_gf_results\")\n",
    "for i in range(0,8,1):\n",
    "    phenotype_gf_results = util.load(\"gf_phenotype_results_\"+str(i))\n",
    "    for asvname in phenotype_gf_results:\n",
    "        consolidated_gf_results[asvname] = phenotype_gf_results[asvname]\n",
    "util.save(\"consolidated_gf_results\",consolidated_gf_results)"
   ]
  },
  {
   "cell_type": "markdown",
   "metadata": {},
   "source": [
    "# Computing proper gapfill and filtering bad predictions"
   ]
  },
  {
   "cell_type": "code",
   "execution_count": 5,
   "metadata": {},
   "outputs": [
    {
     "name": "stdout",
     "output_type": "stream",
     "text": [
      "Output files printed to:/Users/chenry/code/notebooks/MicrobiomeNotebooks/NewWesternDiet/nboutput when using KBDevUtils.output_dir\n",
      "ModelSEED: /Users/chenry/code//kb_sdk/run_local/workdir/tmp/\n"
     ]
    },
    {
     "name": "stderr",
     "output_type": "stream",
     "text": [
      "1717559851.019614 INFO: metabolites 1279\n",
      "1717559851.367193 INFO: reactions 1274\n",
      "1717559852.094133 INFO: Default biomass: [bio1]\n",
      "1717559853.308639 INFO: metabolites 1523\n",
      "1717559853.70419 INFO: reactions 1661\n",
      "1717559854.5291111 INFO: Default biomass: [bio1]\n",
      "1717559856.665163 INFO: metabolites 1674\n",
      "1717559857.085002 INFO: reactions 1843\n",
      "1717559858.064928 INFO: Default biomass: [bio1]\n",
      "1717559859.0516322 INFO: metabolites 1169\n",
      "1717559859.29213 INFO: reactions 1142\n",
      "1717559859.861557 INFO: Default biomass: [bio1]\n",
      "1717559860.689198 INFO: metabolites 1236\n",
      "1717559860.9425569 INFO: reactions 1251\n",
      "1717559861.546896 INFO: Default biomass: [bio1]\n",
      "1717559862.408082 INFO: metabolites 1159\n",
      "1717559862.6575959 INFO: reactions 1226\n",
      "1717559863.258187 INFO: Default biomass: [bio1]\n",
      "1717559864.281517 INFO: metabolites 1084\n",
      "1717559864.4800808 INFO: reactions 1056\n",
      "1717559864.989701 INFO: Default biomass: [bio1]\n",
      "1717559866.405629 INFO: metabolites 1292\n",
      "1717559866.69237 INFO: reactions 1375\n",
      "1717559867.356698 INFO: Default biomass: [bio1]\n",
      "1717559868.222038 INFO: metabolites 1339\n",
      "1717559868.496542 INFO: reactions 1363\n",
      "1717559869.1830301 INFO: Default biomass: [bio1]\n",
      "1717559869.9375732 INFO: metabolites 1077\n",
      "1717559870.1379461 INFO: reactions 1042\n",
      "1717559870.650483 INFO: Default biomass: [bio1]\n",
      "1717559871.5061262 INFO: metabolites 1644\n",
      "1717559871.9100149 INFO: reactions 1798\n",
      "1717559872.789692 INFO: Default biomass: [bio1]\n",
      "1717559873.85083 INFO: metabolites 1194\n",
      "1717559874.040232 INFO: reactions 956\n",
      "1717559874.6509519 INFO: Default biomass: [bio1]\n",
      "1717559875.30128 INFO: metabolites 1002\n",
      "1717559875.475253 INFO: reactions 979\n",
      "1717559875.934561 INFO: Default biomass: [bio1]\n",
      "1717559876.756704 INFO: metabolites 1079\n",
      "1717559876.943794 INFO: reactions 1063\n",
      "1717559877.45138 INFO: Default biomass: [bio1]\n",
      "1717559878.2658901 INFO: metabolites 1297\n",
      "1717559878.509462 INFO: reactions 1323\n",
      "1717559879.121035 INFO: Default biomass: [bio1]\n",
      "1717559879.939208 INFO: metabolites 1023\n",
      "1717559880.1163049 INFO: reactions 987\n",
      "1717559880.596662 INFO: Default biomass: [bio1]\n",
      "1717559881.7772522 INFO: metabolites 944\n",
      "1717559881.927661 INFO: reactions 926\n",
      "1717559882.350744 INFO: Default biomass: [bio1]\n",
      "1717559883.569036 INFO: metabolites 959\n",
      "1717559883.742593 INFO: reactions 893\n",
      "1717559884.144077 INFO: Default biomass: [bio1]\n",
      "1717559885.5210009 INFO: metabolites 1204\n",
      "1717559885.762882 INFO: reactions 1242\n",
      "1717559886.340985 INFO: Default biomass: [bio1]\n",
      "1717559887.2992609 INFO: metabolites 1226\n",
      "1717559887.531828 INFO: reactions 1201\n",
      "1717559888.14349 INFO: Default biomass: [bio1]\n",
      "1717559889.247725 INFO: metabolites 1620\n",
      "1717559889.6201751 INFO: reactions 1736\n",
      "1717559890.519781 INFO: Default biomass: [bio1]\n",
      "1717559892.2236521 INFO: metabolites 1002\n",
      "1717559892.393836 INFO: reactions 974\n",
      "1717559892.856506 INFO: Default biomass: [bio1]\n",
      "1717559894.118827 INFO: metabolites 1061\n",
      "1717559894.304408 INFO: reactions 993\n",
      "1717559894.792598 INFO: Default biomass: [bio1]\n",
      "1717559896.373682 INFO: metabolites 1692\n",
      "1717559896.778524 INFO: reactions 1857\n",
      "1717559897.6753469 INFO: Default biomass: [bio1]\n",
      "1717559898.633693 INFO: metabolites 1527\n",
      "1717559898.9689758 INFO: reactions 1652\n",
      "1717559899.767062 INFO: Default biomass: [bio1]\n",
      "1717559900.597043 INFO: metabolites 1226\n",
      "1717559900.8430011 INFO: reactions 1207\n",
      "1717559901.4208388 INFO: Default biomass: [bio1]\n",
      "1717559902.482408 INFO: metabolites 1159\n",
      "1717559902.700187 INFO: reactions 1137\n",
      "1717559903.2495518 INFO: Default biomass: [bio1]\n",
      "1717559904.007304 INFO: metabolites 1250\n",
      "1717559904.2279758 INFO: reactions 1206\n",
      "1717559904.8075242 INFO: Default biomass: [bio1]\n",
      "1717559905.571917 INFO: metabolites 855\n",
      "1717559905.783686 INFO: reactions 793\n",
      "1717559906.15118 INFO: Default biomass: [bio1]\n",
      "1717559906.927517 INFO: metabolites 1075\n",
      "1717559907.1330318 INFO: reactions 1018\n",
      "1717559907.615814 INFO: Default biomass: [bio1]\n",
      "1717559908.326953 INFO: metabolites 916\n",
      "1717559908.47613 INFO: reactions 892\n",
      "1717559908.883612 INFO: Default biomass: [bio1]\n",
      "1717559909.6578062 INFO: metabolites 906\n",
      "1717559909.809487 INFO: reactions 902\n",
      "1717559916.746624 INFO: Default biomass: [bio1]\n",
      "1717559917.4540732 INFO: metabolites 979\n",
      "1717559917.6366751 INFO: reactions 920\n",
      "1717559918.121841 INFO: Default biomass: [bio1]\n",
      "1717559919.6022139 INFO: metabolites 923\n",
      "1717559919.7744792 INFO: reactions 881\n",
      "1717559920.226655 INFO: Default biomass: [bio1]\n",
      "1717559920.902909 INFO: metabolites 946\n",
      "1717559921.100595 INFO: reactions 902\n",
      "1717559921.558672 INFO: Default biomass: [bio1]\n",
      "1717559922.5209181 INFO: metabolites 1227\n",
      "1717559922.7917628 INFO: reactions 1213\n",
      "1717559923.451308 INFO: Default biomass: [bio1]\n",
      "1717559924.656317 INFO: metabolites 1021\n",
      "1717559924.8434849 INFO: reactions 962\n",
      "1717559925.318342 INFO: Default biomass: [bio1]\n",
      "1717559926.100466 INFO: metabolites 1269\n",
      "1717559926.3814988 INFO: reactions 1287\n",
      "1717559927.078034 INFO: Default biomass: [bio1]\n",
      "1717559928.392956 INFO: metabolites 1429\n",
      "1717559928.741479 INFO: reactions 1472\n",
      "1717559929.499611 INFO: Default biomass: [bio1]\n",
      "1717559933.057101 INFO: metabolites 1322\n",
      "1717559933.33937 INFO: reactions 1320\n",
      "1717559934.023962 INFO: Default biomass: [bio1]\n",
      "1717559935.057357 INFO: metabolites 1645\n",
      "1717559935.6234722 INFO: reactions 1747\n",
      "1717559936.535637 INFO: Default biomass: [bio1]\n",
      "1717559937.48949 INFO: metabolites 1784\n",
      "1717559937.9787 INFO: reactions 2052\n",
      "1717559939.020499 INFO: Default biomass: [bio1]\n",
      "1717559941.105115 INFO: metabolites 1198\n",
      "1717559941.3257751 INFO: reactions 1163\n",
      "1717559941.89907 INFO: Default biomass: [bio1]\n",
      "1717559943.929812 INFO: metabolites 1121\n",
      "1717559944.1561291 INFO: reactions 1141\n",
      "1717559944.7019 INFO: Default biomass: [bio1]\n",
      "1717559946.771932 INFO: metabolites 1186\n",
      "1717559946.992734 INFO: reactions 1150\n",
      "1717559947.53138 INFO: Default biomass: [bio1]\n",
      "1717559949.086824 INFO: metabolites 1305\n",
      "1717559949.378808 INFO: reactions 1346\n",
      "1717559950.017761 INFO: Default biomass: [bio1]\n",
      "1717559951.351637 INFO: metabolites 1339\n",
      "1717559951.6272728 INFO: reactions 1375\n",
      "1717559952.325957 INFO: Default biomass: [bio1]\n",
      "1717559954.375093 INFO: metabolites 1152\n",
      "1717559954.597825 INFO: reactions 1149\n",
      "1717559955.165896 INFO: Default biomass: [bio1]\n",
      "1717559956.2322571 INFO: metabolites 1741\n",
      "1717559956.6825678 INFO: reactions 1950\n",
      "1717559957.6414988 INFO: Default biomass: [bio1]\n",
      "1717559958.513994 INFO: metabolites 1029\n",
      "1717559958.69874 INFO: reactions 984\n",
      "1717559959.145684 INFO: Default biomass: [bio1]\n",
      "1717559960.212826 INFO: metabolites 1294\n",
      "1717559960.4803321 INFO: reactions 1278\n",
      "1717559961.138345 INFO: Default biomass: [bio1]\n",
      "1717559962.065748 INFO: metabolites 1178\n",
      "1717559962.293698 INFO: reactions 1168\n",
      "1717559962.8815832 INFO: Default biomass: [bio1]\n",
      "1717559963.55234 INFO: metabolites 1286\n",
      "1717559963.8047218 INFO: reactions 1283\n",
      "1717559964.451499 INFO: Default biomass: [bio1]\n",
      "1717559965.4464798 INFO: metabolites 1603\n",
      "1717559965.8183072 INFO: reactions 1702\n",
      "1717559966.7455318 INFO: Default biomass: [bio1]\n",
      "1717559967.6346262 INFO: metabolites 1223\n",
      "1717559967.877185 INFO: reactions 1247\n",
      "1717559968.465882 INFO: Default biomass: [bio1]\n",
      "1717559969.28978 INFO: metabolites 1252\n",
      "1717559969.520639 INFO: reactions 1237\n",
      "1717559970.170399 INFO: Default biomass: [bio1]\n",
      "1717559971.5091798 INFO: metabolites 1603\n",
      "1717559971.903769 INFO: reactions 1710\n",
      "1717559972.728891 INFO: Default biomass: [bio1]\n",
      "1717559973.7024488 INFO: metabolites 1351\n",
      "1717559973.994061 INFO: reactions 1421\n",
      "1717559974.669776 INFO: Default biomass: [bio1]\n",
      "1717559975.580108 INFO: metabolites 1465\n",
      "1717559975.8828318 INFO: reactions 1489\n",
      "1717559976.608924 INFO: Default biomass: [bio1]\n",
      "1717559977.979379 INFO: metabolites 1284\n",
      "1717559978.236681 INFO: reactions 1334\n",
      "1717559978.8662689 INFO: Default biomass: [bio1]\n",
      "1717559979.598719 INFO: metabolites 1166\n",
      "1717559979.838102 INFO: reactions 1159\n",
      "1717559980.384639 INFO: Default biomass: [bio1]\n",
      "1717559981.2937999 INFO: metabolites 1350\n",
      "1717559981.562794 INFO: reactions 1379\n",
      "1717559982.258541 INFO: Default biomass: [bio1]\n",
      "1717559983.058004 INFO: metabolites 960\n",
      "1717559983.217647 INFO: reactions 892\n",
      "1717559983.64567 INFO: Default biomass: [bio1]\n",
      "1717559985.019223 INFO: metabolites 1156\n",
      "1717559985.2333262 INFO: reactions 1058\n",
      "1717559985.902142 INFO: Default biomass: [bio1]\n",
      "1717559986.6754391 INFO: metabolites 1111\n",
      "1717559986.874206 INFO: reactions 1070\n",
      "1717559987.3732102 INFO: Default biomass: [bio1]\n",
      "1717559988.268249 INFO: metabolites 1255\n",
      "1717559988.547227 INFO: reactions 1235\n",
      "1717559989.150792 INFO: Default biomass: [bio1]\n",
      "1717559989.894829 INFO: metabolites 1189\n",
      "1717559990.123573 INFO: reactions 1171\n",
      "1717559990.73255 INFO: Default biomass: [bio1]\n",
      "1717559991.465306 INFO: metabolites 1213\n",
      "1717559991.7072861 INFO: reactions 1215\n",
      "1717559992.494598 INFO: Default biomass: [bio1]\n",
      "1717559994.045841 INFO: metabolites 978\n",
      "1717559994.219885 INFO: reactions 954\n",
      "1717559994.689894 INFO: Default biomass: [bio1]\n",
      "1717559995.647315 INFO: metabolites 851\n",
      "1717559995.7852721 INFO: reactions 796\n",
      "1717559996.1770968 INFO: Default biomass: [bio1]\n",
      "1717559996.9311092 INFO: metabolites 1165\n",
      "1717559997.1466198 INFO: reactions 1070\n",
      "1717559997.664562 INFO: Default biomass: [bio1]\n",
      "1717559998.471328 INFO: metabolites 922\n",
      "1717559998.619424 INFO: reactions 847\n",
      "1717559999.037177 INFO: Default biomass: [bio1]\n",
      "1717559999.736851 INFO: metabolites 941\n",
      "1717559999.889066 INFO: reactions 879\n",
      "1717560000.302148 INFO: Default biomass: [bio1]\n",
      "1717560001.199337 INFO: metabolites 1629\n",
      "1717560001.580807 INFO: reactions 1740\n",
      "1717560010.252823 INFO: Default biomass: [bio1]\n",
      "1717560011.189867 INFO: metabolites 1436\n",
      "1717560011.487458 INFO: reactions 1476\n",
      "1717560012.221548 INFO: Default biomass: [bio1]\n",
      "1717560013.026898 INFO: metabolites 1195\n",
      "1717560013.258104 INFO: reactions 1191\n",
      "1717560013.830585 INFO: Default biomass: [bio1]\n",
      "1717560015.423997 INFO: metabolites 1450\n",
      "1717560015.7290308 INFO: reactions 1523\n",
      "1717560016.4704 INFO: Default biomass: [bio1]\n",
      "1717560017.6693819 INFO: metabolites 1393\n",
      "1717560017.947377 INFO: reactions 1434\n",
      "1717560018.644285 INFO: Default biomass: [bio1]\n",
      "1717560019.571967 INFO: metabolites 987\n",
      "1717560019.733948 INFO: reactions 907\n",
      "1717560020.158915 INFO: Default biomass: [bio1]\n",
      "1717560021.124099 INFO: metabolites 1445\n",
      "1717560021.424951 INFO: reactions 1495\n",
      "1717560022.141212 INFO: Default biomass: [bio1]\n",
      "1717560022.876402 INFO: metabolites 1248\n",
      "1717560023.132447 INFO: reactions 1262\n",
      "1717560023.763336 INFO: Default biomass: [bio1]\n",
      "1717560024.565022 INFO: metabolites 1164\n",
      "1717560024.780302 INFO: reactions 1131\n",
      "1717560025.304302 INFO: Default biomass: [bio1]\n",
      "1717560026.1877341 INFO: metabolites 972\n",
      "1717560026.35204 INFO: reactions 938\n",
      "1717560026.8297338 INFO: Default biomass: [bio1]\n",
      "1717560027.8313348 INFO: metabolites 1151\n",
      "1717560028.058372 INFO: reactions 1091\n",
      "1717560028.620803 INFO: Default biomass: [bio1]\n",
      "1717560029.3440268 INFO: metabolites 978\n",
      "1717560029.5103831 INFO: reactions 950\n",
      "1717560029.955775 INFO: Default biomass: [bio1]\n",
      "1717560031.195916 INFO: metabolites 1348\n",
      "1717560031.476119 INFO: reactions 1381\n",
      "1717560032.167766 INFO: Default biomass: [bio1]\n",
      "1717560033.061064 INFO: metabolites 1011\n",
      "1717560033.2412832 INFO: reactions 969\n",
      "1717560033.739139 INFO: Default biomass: [bio1]\n",
      "1717560034.578772 INFO: metabolites 1166\n",
      "1717560034.80526 INFO: reactions 1153\n",
      "1717560035.358239 INFO: Default biomass: [bio1]\n",
      "1717560036.177388 INFO: metabolites 1113\n",
      "1717560036.3883588 INFO: reactions 1111\n",
      "1717560036.915512 INFO: Default biomass: [bio1]\n",
      "1717560037.99633 INFO: metabolites 1695\n",
      "1717560038.38896 INFO: reactions 1826\n",
      "1717560039.314721 INFO: Default biomass: [bio1]\n",
      "1717560039.907627 INFO: metabolites 891\n",
      "1717560040.051162 INFO: reactions 838\n",
      "1717560040.443131 INFO: Default biomass: [bio1]\n",
      "1717560041.27642 INFO: metabolites 1291\n",
      "1717560041.54529 INFO: reactions 1304\n",
      "1717560042.166888 INFO: Default biomass: [bio1]\n",
      "1717560043.125535 INFO: metabolites 1453\n",
      "1717560043.4415932 INFO: reactions 1516\n",
      "1717560044.180541 INFO: Default biomass: [bio1]\n",
      "1717560045.233381 INFO: metabolites 1678\n",
      "1717560045.7369049 INFO: reactions 1779\n",
      "1717560046.603904 INFO: Default biomass: [bio1]\n",
      "1717560047.4983768 INFO: metabolites 1311\n",
      "1717560047.739608 INFO: reactions 1276\n",
      "1717560048.370125 INFO: Default biomass: [bio1]\n",
      "1717560049.258055 INFO: metabolites 1194\n",
      "1717560049.4775412 INFO: reactions 1193\n",
      "1717560050.067471 INFO: Default biomass: [bio1]\n",
      "1717560051.100265 INFO: metabolites 1178\n",
      "1717560051.3472052 INFO: reactions 1225\n",
      "1717560051.9264839 INFO: Default biomass: [bio1]\n",
      "1717560052.724051 INFO: metabolites 1174\n",
      "1717560052.9400132 INFO: reactions 1167\n",
      "1717560053.4889228 INFO: Default biomass: [bio1]\n",
      "1717560055.118858 INFO: metabolites 1524\n",
      "1717560055.474831 INFO: reactions 1611\n",
      "1717560056.2694871 INFO: Default biomass: [bio1]\n",
      "1717560057.062772 INFO: metabolites 1146\n",
      "1717560057.274713 INFO: reactions 1135\n",
      "1717560057.803496 INFO: Default biomass: [bio1]\n",
      "1717560058.4846709 INFO: metabolites 1026\n",
      "1717560058.678498 INFO: reactions 995\n",
      "1717560059.162091 INFO: Default biomass: [bio1]\n",
      "1717560059.966038 INFO: metabolites 1063\n",
      "1717560060.152905 INFO: reactions 1040\n",
      "1717560060.654079 INFO: Default biomass: [bio1]\n",
      "1717560062.11483 INFO: metabolites 953\n",
      "1717560062.272745 INFO: reactions 902\n",
      "1717560062.7139158 INFO: Default biomass: [bio1]\n",
      "1717560063.42192 INFO: metabolites 1036\n",
      "1717560063.611795 INFO: reactions 978\n",
      "1717560064.0755992 INFO: Default biomass: [bio1]\n",
      "1717560065.4254029 INFO: metabolites 1044\n",
      "1717560065.602098 INFO: reactions 1006\n",
      "1717560066.075474 INFO: Default biomass: [bio1]\n",
      "1717560069.500393 INFO: metabolites 1212\n",
      "1717560069.754903 INFO: reactions 1242\n",
      "1717560070.3387809 INFO: Default biomass: [bio1]\n",
      "1717560072.4301848 INFO: metabolites 1102\n",
      "1717560072.6331542 INFO: reactions 1078\n",
      "1717560073.1630871 INFO: Default biomass: [bio1]\n",
      "1717560074.702485 INFO: metabolites 1602\n",
      "1717560075.070577 INFO: reactions 1703\n",
      "1717560075.937098 INFO: Default biomass: [bio1]\n",
      "1717560078.3143492 INFO: metabolites 1645\n",
      "1717560078.715683 INFO: reactions 1825\n",
      "1717560079.6290429 INFO: Default biomass: [bio1]\n",
      "1717560080.330775 INFO: metabolites 1190\n",
      "1717560080.545194 INFO: reactions 1158\n",
      "1717560081.093027 INFO: Default biomass: [bio1]\n",
      "1717560082.057881 INFO: metabolites 1320\n",
      "1717560082.334798 INFO: reactions 1350\n",
      "1717560082.9712052 INFO: Default biomass: [bio1]\n",
      "1717560083.7142642 INFO: metabolites 1135\n",
      "1717560083.959191 INFO: reactions 1161\n",
      "1717560084.511019 INFO: Default biomass: [bio1]\n",
      "1717560085.5041358 INFO: metabolites 1228\n",
      "1717560085.752563 INFO: reactions 1226\n",
      "1717560086.3432572 INFO: Default biomass: [bio1]\n",
      "1717560088.134906 INFO: metabolites 1561\n",
      "1717560088.491029 INFO: reactions 1691\n",
      "1717560089.3066921 INFO: Default biomass: [bio1]\n",
      "1717560090.009378 INFO: metabolites 1022\n",
      "1717560090.193534 INFO: reactions 976\n",
      "1717560090.658586 INFO: Default biomass: [bio1]\n",
      "1717560091.573916 INFO: metabolites 1569\n",
      "1717560091.924083 INFO: reactions 1665\n",
      "1717560092.7420921 INFO: Default biomass: [bio1]\n",
      "1717560094.2782981 INFO: metabolites 988\n",
      "1717560094.457945 INFO: reactions 923\n",
      "1717560094.913565 INFO: Default biomass: [bio1]\n",
      "1717560095.522035 INFO: metabolites 947\n",
      "1717560095.6804721 INFO: reactions 903\n",
      "1717560096.101913 INFO: Default biomass: [bio1]\n",
      "1717560097.256447 INFO: metabolites 1315\n",
      "1717560097.525572 INFO: reactions 1320\n",
      "1717560098.1549928 INFO: Default biomass: [bio1]\n",
      "1717560099.391594 INFO: metabolites 1270\n",
      "1717560099.7744582 INFO: reactions 1314\n",
      "1717560100.459305 INFO: Default biomass: [bio1]\n",
      "1717560101.548814 INFO: metabolites 1465\n",
      "1717560101.8791208 INFO: reactions 1530\n",
      "1717560102.606463 INFO: Default biomass: [bio1]\n",
      "1717560103.3850272 INFO: metabolites 1626\n",
      "1717560112.9383569 INFO: reactions 1741\n",
      "1717560113.852316 INFO: Default biomass: [bio1]\n",
      "1717560116.4551759 INFO: metabolites 1400\n",
      "1717560116.77597 INFO: reactions 1477\n",
      "1717560117.486358 INFO: Default biomass: [bio1]\n",
      "1717560118.366303 INFO: metabolites 1123\n",
      "1717560118.579096 INFO: reactions 1118\n",
      "1717560119.129953 INFO: Default biomass: [bio1]\n",
      "1717560119.824499 INFO: metabolites 1243\n",
      "1717560120.0597398 INFO: reactions 1222\n",
      "1717560120.7065148 INFO: Default biomass: [bio1]\n",
      "1717560121.5232158 INFO: metabolites 1215\n",
      "1717560121.772992 INFO: reactions 1224\n",
      "1717560122.363175 INFO: Default biomass: [bio1]\n",
      "1717560124.165348 INFO: metabolites 1073\n",
      "1717560124.395586 INFO: reactions 1060\n",
      "1717560124.940706 INFO: Default biomass: [bio1]\n",
      "1717560125.758763 INFO: metabolites 1270\n",
      "1717560126.0433779 INFO: reactions 1289\n",
      "1717560126.738095 INFO: Default biomass: [bio1]\n",
      "1717560127.738396 INFO: metabolites 1433\n",
      "1717560128.071528 INFO: reactions 1482\n",
      "1717560128.8607202 INFO: Default biomass: [bio1]\n",
      "1717560130.3609338 INFO: metabolites 1237\n",
      "1717560130.631341 INFO: reactions 1231\n",
      "1717560131.246505 INFO: Default biomass: [bio1]\n",
      "1717560132.160573 INFO: metabolites 995\n",
      "1717560132.3575208 INFO: reactions 954\n",
      "1717560132.876541 INFO: Default biomass: [bio1]\n",
      "1717560133.775655 INFO: metabolites 1582\n",
      "1717560134.1292338 INFO: reactions 1709\n",
      "1717560134.995923 INFO: Default biomass: [bio1]\n",
      "1717560136.3787 INFO: metabolites 1208\n",
      "1717560136.606709 INFO: reactions 1203\n",
      "1717560137.19661 INFO: Default biomass: [bio1]\n",
      "1717560137.962173 INFO: metabolites 1302\n",
      "1717560138.220734 INFO: reactions 1350\n",
      "1717560138.862758 INFO: Default biomass: [bio1]\n",
      "1717560139.551782 INFO: metabolites 982\n",
      "1717560139.720317 INFO: reactions 942\n",
      "1717560140.1545339 INFO: Default biomass: [bio1]\n",
      "1717560141.438477 INFO: metabolites 862\n",
      "1717560141.596624 INFO: reactions 829\n",
      "1717560141.99663 INFO: Default biomass: [bio1]\n",
      "1717560142.849268 INFO: metabolites 1521\n",
      "1717560143.168067 INFO: reactions 1590\n",
      "1717560143.9460502 INFO: Default biomass: [bio1]\n",
      "1717560144.6794298 INFO: metabolites 1102\n",
      "1717560144.860403 INFO: reactions 1019\n",
      "1717560145.350858 INFO: Default biomass: [bio1]\n",
      "1717560146.016167 INFO: metabolites 911\n",
      "1717560146.154805 INFO: reactions 862\n",
      "1717560146.574979 INFO: Default biomass: [bio1]\n",
      "1717560147.282455 INFO: metabolites 845\n",
      "1717560147.4128551 INFO: reactions 787\n",
      "1717560147.800651 INFO: Default biomass: [bio1]\n",
      "1717560148.547735 INFO: metabolites 1285\n",
      "1717560148.713451 INFO: reactions 861\n",
      "1717560149.16089 INFO: Default biomass: [bio1]\n",
      "1717560149.7874172 INFO: metabolites 975\n",
      "1717560149.966862 INFO: reactions 923\n",
      "1717560150.403252 INFO: Default biomass: [bio1]\n",
      "1717560151.2582679 INFO: metabolites 1304\n",
      "1717560151.51181 INFO: reactions 1278\n",
      "1717560152.132478 INFO: Default biomass: [bio1]\n",
      "1717560153.7124119 INFO: metabolites 1890\n",
      "1717560154.249553 INFO: reactions 2156\n",
      "1717560155.4120262 INFO: Default biomass: [bio1]\n",
      "1717560156.423295 INFO: metabolites 1628\n",
      "1717560156.8115048 INFO: reactions 1738\n",
      "1717560157.655236 INFO: Default biomass: [bio1]\n",
      "1717560158.308287 INFO: metabolites 986\n",
      "1717560158.478611 INFO: reactions 943\n",
      "1717560158.965154 INFO: Default biomass: [bio1]\n",
      "1717560160.851321 INFO: metabolites 1364\n",
      "1717560161.208253 INFO: reactions 1376\n",
      "1717560161.8561091 INFO: Default biomass: [bio1]\n",
      "1717560162.658817 INFO: metabolites 1214\n",
      "1717560162.8896341 INFO: reactions 1214\n",
      "1717560163.4774091 INFO: Default biomass: [bio1]\n",
      "1717560164.358868 INFO: metabolites 1292\n",
      "1717560164.633861 INFO: reactions 1377\n",
      "1717560165.2807019 INFO: Default biomass: [bio1]\n",
      "1717560167.38464 INFO: metabolites 992\n",
      "1717560167.554763 INFO: reactions 951\n",
      "1717560168.016021 INFO: Default biomass: [bio1]\n",
      "1717560168.7453482 INFO: metabolites 1107\n",
      "1717560168.9750578 INFO: reactions 1089\n",
      "1717560169.5079198 INFO: Default biomass: [bio1]\n",
      "1717560170.298524 INFO: metabolites 986\n",
      "1717560170.478498 INFO: reactions 930\n",
      "1717560170.982868 INFO: Default biomass: [bio1]\n",
      "1717560171.857813 INFO: metabolites 1256\n",
      "1717560172.134157 INFO: reactions 1265\n",
      "1717560172.781138 INFO: Default biomass: [bio1]\n",
      "1717560173.9995918 INFO: metabolites 1140\n",
      "1717560174.246763 INFO: reactions 1112\n",
      "1717560174.826571 INFO: Default biomass: [bio1]\n",
      "1717560176.269281 INFO: metabolites 1122\n",
      "1717560176.486184 INFO: reactions 1086\n",
      "1717560177.0211751 INFO: Default biomass: [bio1]\n",
      "1717560177.755233 INFO: metabolites 1358\n",
      "1717560178.040582 INFO: reactions 1348\n",
      "1717560178.831414 INFO: Default biomass: [bio1]\n",
      "1717560179.752819 INFO: metabolites 1426\n",
      "1717560180.086168 INFO: reactions 1491\n",
      "1717560180.8580632 INFO: Default biomass: [bio1]\n",
      "1717560181.5645142 INFO: metabolites 1473\n",
      "1717560181.892523 INFO: reactions 1530\n",
      "1717560182.6305752 INFO: Default biomass: [bio1]\n",
      "1717560183.4910688 INFO: metabolites 1003\n",
      "1717560183.673546 INFO: reactions 990\n",
      "1717560184.187823 INFO: Default biomass: [bio1]\n",
      "1717560184.926956 INFO: metabolites 1158\n",
      "1717560185.1936882 INFO: reactions 1184\n",
      "1717560185.805492 INFO: Default biomass: [bio1]\n",
      "1717560186.726896 INFO: metabolites 1416\n",
      "1717560187.0607 INFO: reactions 1451\n",
      "1717560187.8585641 INFO: Default biomass: [bio1]\n",
      "1717560188.6987252 INFO: metabolites 1103\n",
      "1717560188.919317 INFO: reactions 1058\n",
      "1717560189.5399091 INFO: Default biomass: [bio1]\n",
      "1717560190.597182 INFO: metabolites 1395\n",
      "1717560190.947579 INFO: reactions 1445\n",
      "1717560191.7575119 INFO: Default biomass: [bio1]\n",
      "1717560192.81666 INFO: metabolites 1670\n",
      "1717560193.210698 INFO: reactions 1852\n",
      "1717560194.1176572 INFO: Default biomass: [bio1]\n",
      "1717560195.2734091 INFO: metabolites 884\n",
      "1717560195.414117 INFO: reactions 843\n",
      "1717560195.800846 INFO: Default biomass: [bio1]\n",
      "1717560197.435216 INFO: metabolites 1357\n",
      "1717560197.7114592 INFO: reactions 1401\n",
      "1717560198.385949 INFO: Default biomass: [bio1]\n",
      "1717560199.2794518 INFO: metabolites 1147\n",
      "1717560199.497733 INFO: reactions 1151\n",
      "1717560200.0709388 INFO: Default biomass: [bio1]\n",
      "1717560200.7250319 INFO: metabolites 948\n",
      "1717560200.9118989 INFO: reactions 938\n",
      "1717560201.337773 INFO: Default biomass: [bio1]\n",
      "1717560202.136201 INFO: metabolites 1142\n",
      "1717560202.333889 INFO: reactions 1115\n",
      "1717560202.8467 INFO: Default biomass: [bio1]\n",
      "1717560203.646343 INFO: metabolites 1064\n",
      "1717560203.826817 INFO: reactions 1051\n",
      "1717560204.315873 INFO: Default biomass: [bio1]\n",
      "1717560205.482342 INFO: metabolites 962\n",
      "1717560205.646699 INFO: reactions 910\n",
      "1717560206.058951 INFO: Default biomass: [bio1]\n",
      "1717560206.7955892 INFO: metabolites 777\n",
      "1717560206.905866 INFO: reactions 721\n",
      "1717560207.268672 INFO: Default biomass: [bio1]\n",
      "1717560208.100076 INFO: metabolites 978\n",
      "1717560208.26095 INFO: reactions 944\n",
      "1717560208.6990411 INFO: Default biomass: [bio1]\n",
      "1717560209.53833 INFO: metabolites 1013\n",
      "1717560209.71856 INFO: reactions 974\n",
      "1717560210.166983 INFO: Default biomass: [bio1]\n",
      "1717560210.86059 INFO: metabolites 917\n",
      "1717560211.004446 INFO: reactions 869\n",
      "1717560211.410928 INFO: Default biomass: [bio1]\n",
      "1717560212.2579799 INFO: metabolites 1578\n",
      "1717560212.62104 INFO: reactions 1661\n",
      "1717560213.445686 INFO: Default biomass: [bio1]\n",
      "1717560214.35496 INFO: metabolites 1070\n",
      "1717560214.538723 INFO: reactions 1031\n",
      "1717560215.029131 INFO: Default biomass: [bio1]\n",
      "1717560215.7795808 INFO: metabolites 1119\n",
      "1717560215.984799 INFO: reactions 1101\n",
      "1717560216.4899251 INFO: Default biomass: [bio1]\n",
      "1717560217.4051142 INFO: metabolites 1201\n",
      "1717560217.63973 INFO: reactions 1175\n",
      "1717560218.204565 INFO: Default biomass: [bio1]\n",
      "1717560218.840286 INFO: metabolites 1013\n",
      "1717560219.019584 INFO: reactions 997\n",
      "1717560219.537948 INFO: Default biomass: [bio1]\n",
      "1717560231.76684 INFO: metabolites 1057\n",
      "1717560231.962333 INFO: reactions 967\n",
      "1717560232.428864 INFO: Default biomass: [bio1]\n",
      "1717560233.2574348 INFO: metabolites 1061\n",
      "1717560233.451923 INFO: reactions 1026\n",
      "1717560233.9523132 INFO: Default biomass: [bio1]\n",
      "1717560235.320809 INFO: metabolites 1098\n",
      "1717560235.521075 INFO: reactions 1057\n",
      "1717560236.0363379 INFO: Default biomass: [bio1]\n",
      "1717560236.98312 INFO: metabolites 1421\n",
      "1717560237.4424372 INFO: reactions 1487\n",
      "1717560238.253978 INFO: Default biomass: [bio1]\n",
      "1717560239.246089 INFO: metabolites 1542\n",
      "1717560239.618541 INFO: reactions 1695\n",
      "1717560240.521145 INFO: Default biomass: [bio1]\n",
      "1717560241.6973262 INFO: metabolites 1360\n",
      "1717560241.988731 INFO: reactions 1359\n",
      "1717560242.876446 INFO: Default biomass: [bio1]\n",
      "1717560244.915652 INFO: metabolites 1066\n",
      "1717560245.1370938 INFO: reactions 1049\n",
      "1717560245.66892 INFO: Default biomass: [bio1]\n",
      "1717560246.569895 INFO: metabolites 1427\n",
      "1717560246.89181 INFO: reactions 1468\n",
      "1717560247.7027352 INFO: Default biomass: [bio1]\n",
      "1717560248.3509839 INFO: metabolites 1200\n",
      "1717560248.611584 INFO: reactions 1218\n",
      "1717560249.300462 INFO: Default biomass: [bio1]\n",
      "1717560251.061825 INFO: metabolites 1137\n",
      "1717560251.289236 INFO: reactions 1094\n",
      "1717560251.9803572 INFO: Default biomass: [bio1]\n",
      "1717560254.4388978 INFO: metabolites 1176\n",
      "1717560254.7009542 INFO: reactions 1196\n",
      "1717560255.325094 INFO: Default biomass: [bio1]\n",
      "1717560257.112622 INFO: metabolites 1111\n",
      "1717560257.327281 INFO: reactions 1116\n",
      "1717560257.875751 INFO: Default biomass: [bio1]\n",
      "1717560258.911068 INFO: metabolites 1253\n",
      "1717560259.294709 INFO: reactions 1269\n",
      "1717560259.945102 INFO: Default biomass: [bio1]\n",
      "1717560260.758807 INFO: metabolites 1133\n",
      "1717560261.0010471 INFO: reactions 1155\n",
      "1717560261.580363 INFO: Default biomass: [bio1]\n",
      "1717560262.379617 INFO: metabolites 1450\n",
      "1717560262.707514 INFO: reactions 1397\n",
      "1717560263.410454 INFO: Default biomass: [bio1]\n",
      "1717560264.2150211 INFO: metabolites 944\n",
      "1717560264.3908758 INFO: reactions 893\n",
      "1717560264.846449 INFO: Default biomass: [bio1]\n",
      "1717560265.73144 INFO: metabolites 976\n",
      "1717560265.901681 INFO: reactions 936\n",
      "1717560266.39234 INFO: Default biomass: [bio1]\n",
      "1717560267.157556 INFO: metabolites 1118\n",
      "1717560267.3947709 INFO: reactions 1084\n",
      "1717560267.994565 INFO: Default biomass: [bio1]\n",
      "1717560269.369256 INFO: metabolites 1262\n",
      "1717560269.7045271 INFO: reactions 1282\n",
      "1717560270.368242 INFO: Default biomass: [bio1]\n",
      "1717560271.203234 INFO: metabolites 957\n",
      "1717560271.377321 INFO: reactions 887\n",
      "1717560271.854016 INFO: Default biomass: [bio1]\n",
      "1717560272.809227 INFO: metabolites 1198\n",
      "1717560273.0676858 INFO: reactions 1170\n",
      "1717560273.6895401 INFO: Default biomass: [bio1]\n",
      "1717560274.65665 INFO: metabolites 1483\n",
      "1717560275.0057092 INFO: reactions 1573\n",
      "1717560275.81274 INFO: Default biomass: [bio1]\n",
      "1717560276.6537511 INFO: metabolites 988\n",
      "1717560276.851826 INFO: reactions 977\n",
      "1717560277.35615 INFO: Default biomass: [bio1]\n",
      "1717560278.942636 INFO: metabolites 1071\n",
      "1717560279.1763809 INFO: reactions 1030\n",
      "1717560279.829685 INFO: Default biomass: [bio1]\n",
      "1717560280.4541938 INFO: metabolites 943\n",
      "1717560280.637811 INFO: reactions 903\n",
      "1717560281.087009 INFO: Default biomass: [bio1]\n",
      "1717560281.840109 INFO: metabolites 1053\n",
      "1717560282.0715892 INFO: reactions 1024\n",
      "1717560282.703404 INFO: Default biomass: [bio1]\n",
      "1717560283.593945 INFO: metabolites 1413\n",
      "1717560283.92974 INFO: reactions 1444\n",
      "1717560284.759147 INFO: Default biomass: [bio1]\n",
      "1717560285.596256 INFO: metabolites 1079\n",
      "1717560285.7971818 INFO: reactions 1048\n",
      "1717560286.345303 INFO: Default biomass: [bio1]\n",
      "1717560287.149664 INFO: metabolites 1373\n",
      "1717560287.445781 INFO: reactions 1376\n",
      "1717560288.254015 INFO: Default biomass: [bio1]\n",
      "1717560290.529713 INFO: metabolites 1001\n",
      "1717560290.723606 INFO: reactions 964\n",
      "1717560291.218637 INFO: Default biomass: [bio1]\n",
      "1717560292.669077 INFO: metabolites 1195\n",
      "1717560292.931126 INFO: reactions 1190\n",
      "1717560293.545596 INFO: Default biomass: [bio1]\n",
      "1717560294.488391 INFO: metabolites 1307\n",
      "1717560294.785661 INFO: reactions 1357\n",
      "1717560295.446236 INFO: Default biomass: [bio1]\n",
      "1717560296.435443 INFO: metabolites 1117\n",
      "1717560296.726976 INFO: reactions 1085\n",
      "1717560297.287026 INFO: Default biomass: [bio1]\n",
      "1717560298.088613 INFO: metabolites 1133\n",
      "1717560298.312874 INFO: reactions 1157\n",
      "1717560298.861127 INFO: Default biomass: [bio1]\n",
      "1717560299.967297 INFO: metabolites 1501\n",
      "1717560300.318218 INFO: reactions 1595\n",
      "1717560301.118526 INFO: Default biomass: [bio1]\n",
      "1717560301.7948742 INFO: metabolites 1085\n",
      "1717560301.9833012 INFO: reactions 1069\n",
      "1717560302.4791129 INFO: Default biomass: [bio1]\n",
      "1717560303.331723 INFO: metabolites 1278\n",
      "1717560303.582977 INFO: reactions 1284\n",
      "1717560304.192631 INFO: Default biomass: [bio1]\n",
      "1717560305.013561 INFO: metabolites 1245\n",
      "1717560305.241108 INFO: reactions 1232\n",
      "1717560305.8425112 INFO: Default biomass: [bio1]\n",
      "1717560306.593816 INFO: metabolites 1111\n",
      "1717560306.791486 INFO: reactions 1070\n",
      "1717560307.274656 INFO: Default biomass: [bio1]\n",
      "1717560308.223124 INFO: metabolites 1665\n",
      "1717560308.596267 INFO: reactions 1780\n",
      "1717560309.488819 INFO: Default biomass: [bio1]\n",
      "1717560310.3722339 INFO: metabolites 1193\n",
      "1717560310.598907 INFO: reactions 1195\n",
      "1717560311.1540108 INFO: Default biomass: [bio1]\n",
      "1717560312.644855 INFO: metabolites 1171\n",
      "1717560312.869378 INFO: reactions 1188\n",
      "1717560313.4274828 INFO: Default biomass: [bio1]\n",
      "1717560314.1862772 INFO: metabolites 1286\n",
      "1717560314.4443672 INFO: reactions 1290\n",
      "1717560315.0680032 INFO: Default biomass: [bio1]\n",
      "1717560315.815 INFO: metabolites 1055\n",
      "1717560316.0196831 INFO: reactions 1030\n",
      "1717560316.4949691 INFO: Default biomass: [bio1]\n",
      "1717560317.3366551 INFO: metabolites 1204\n",
      "1717560317.579697 INFO: reactions 1244\n",
      "1717560318.188556 INFO: Default biomass: [bio1]\n",
      "1717560319.093442 INFO: metabolites 1348\n",
      "1717560319.3571682 INFO: reactions 1349\n",
      "1717560320.030302 INFO: Default biomass: [bio1]\n",
      "1717560320.983379 INFO: metabolites 1558\n",
      "1717560321.321175 INFO: reactions 1701\n",
      "1717560322.124249 INFO: Default biomass: [bio1]\n",
      "1717560322.826816 INFO: metabolites 1266\n",
      "1717560323.090603 INFO: reactions 1373\n",
      "1717560323.725486 INFO: Default biomass: [bio1]\n",
      "1717560324.8675961 INFO: metabolites 1377\n",
      "1717560325.149585 INFO: reactions 1414\n",
      "1717560325.8433201 INFO: Default biomass: [bio1]\n",
      "1717560326.45502 INFO: metabolites 998\n",
      "1717560326.641731 INFO: reactions 957\n",
      "1717560327.082914 INFO: Default biomass: [bio1]\n",
      "1717560327.805193 INFO: metabolites 939\n",
      "1717560327.95502 INFO: reactions 901\n",
      "1717560328.476799 INFO: Default biomass: [bio1]\n",
      "1717560329.417825 INFO: metabolites 1268\n",
      "1717560329.7125099 INFO: reactions 1306\n",
      "1717560330.438851 INFO: Default biomass: [bio1]\n",
      "1717560331.348615 INFO: metabolites 1272\n",
      "1717560331.597472 INFO: reactions 1292\n",
      "1717560332.203022 INFO: Default biomass: [bio1]\n",
      "1717560333.136759 INFO: metabolites 1384\n",
      "1717560333.421643 INFO: reactions 1430\n",
      "1717560334.299856 INFO: Default biomass: [bio1]\n",
      "1717560335.366509 INFO: metabolites 983\n",
      "1717560335.641423 INFO: reactions 951\n",
      "1717560336.25794 INFO: Default biomass: [bio1]\n",
      "1717560337.210995 INFO: metabolites 1142\n",
      "1717560337.499779 INFO: reactions 1154\n",
      "1717560338.273835 INFO: Default biomass: [bio1]\n",
      "1717560339.1053598 INFO: metabolites 894\n",
      "1717560339.3002062 INFO: reactions 880\n",
      "1717560339.7678459 INFO: Default biomass: [bio1]\n",
      "1717560340.677411 INFO: metabolites 1207\n",
      "1717560340.955394 INFO: reactions 1241\n",
      "1717560341.607122 INFO: Default biomass: [bio1]\n",
      "1717560342.468287 INFO: metabolites 1422\n",
      "1717560342.816213 INFO: reactions 1497\n",
      "1717560343.9165928 INFO: Default biomass: [bio1]\n",
      "1717560344.58917 INFO: metabolites 1431\n",
      "1717560344.935116 INFO: reactions 1470\n",
      "1717560345.740288 INFO: Default biomass: [bio1]\n",
      "1717560346.432162 INFO: metabolites 985\n",
      "1717560346.6123421 INFO: reactions 939\n",
      "1717560347.0823722 INFO: Default biomass: [bio1]\n",
      "1717560347.7689831 INFO: metabolites 923\n",
      "1717560347.944879 INFO: reactions 845\n",
      "1717560348.402956 INFO: Default biomass: [bio1]\n",
      "1717560349.2656739 INFO: metabolites 1140\n",
      "1717560349.499003 INFO: reactions 1098\n",
      "1717560350.2661738 INFO: Default biomass: [bio1]\n",
      "1717560351.135846 INFO: metabolites 1214\n",
      "1717560351.3776 INFO: reactions 1202\n",
      "1717560351.998236 INFO: Default biomass: [bio1]\n",
      "1717560353.042916 INFO: metabolites 1574\n",
      "1717560353.645199 INFO: reactions 1734\n",
      "1717560354.5907001 INFO: Default biomass: [bio1]\n",
      "1717560355.4396958 INFO: metabolites 1197\n",
      "1717560355.661979 INFO: reactions 1171\n",
      "1717560356.243307 INFO: Default biomass: [bio1]\n",
      "1717560357.137144 INFO: metabolites 1515\n",
      "1717560370.3010612 INFO: reactions 1572\n",
      "1717560371.216788 INFO: Default biomass: [bio1]\n",
      "1717560372.123039 INFO: metabolites 1123\n",
      "1717560372.3630779 INFO: reactions 1106\n",
      "1717560372.890212 INFO: Default biomass: [bio1]\n",
      "1717560373.892243 INFO: metabolites 1253\n",
      "1717560374.1477802 INFO: reactions 1297\n",
      "1717560374.7589388 INFO: Default biomass: [bio1]\n",
      "1717560375.513806 INFO: metabolites 1144\n",
      "1717560375.712804 INFO: reactions 1062\n",
      "1717560376.234144 INFO: Default biomass: [bio1]\n",
      "1717560378.119837 INFO: metabolites 1129\n",
      "1717560378.3399549 INFO: reactions 1204\n",
      "1717560378.903434 INFO: Default biomass: [bio1]\n",
      "1717560379.751282 INFO: metabolites 1099\n",
      "1717560380.070762 INFO: reactions 1034\n",
      "1717560380.5706859 INFO: Default biomass: [bio1]\n",
      "1717560381.4689121 INFO: metabolites 1388\n",
      "1717560381.747327 INFO: reactions 1414\n",
      "1717560382.453011 INFO: Default biomass: [bio1]\n",
      "1717560383.338284 INFO: metabolites 1311\n",
      "1717560383.605025 INFO: reactions 1352\n",
      "1717560384.24417 INFO: Default biomass: [bio1]\n",
      "1717560384.92193 INFO: metabolites 1168\n",
      "1717560385.1417768 INFO: reactions 1200\n",
      "1717560385.707233 INFO: Default biomass: [bio1]\n",
      "1717560386.627402 INFO: metabolites 1123\n",
      "1717560386.822382 INFO: reactions 1082\n",
      "1717560387.316582 INFO: Default biomass: [bio1]\n",
      "1717560388.306226 INFO: metabolites 1188\n",
      "1717560388.5449002 INFO: reactions 1168\n",
      "1717560389.0901902 INFO: Default biomass: [bio1]\n",
      "1717560389.93597 INFO: metabolites 1281\n",
      "1717560390.203153 INFO: reactions 1302\n",
      "1717560390.999709 INFO: Default biomass: [bio1]\n",
      "1717560392.0015612 INFO: metabolites 1582\n",
      "1717560392.356182 INFO: reactions 1669\n",
      "1717560393.1981142 INFO: Default biomass: [bio1]\n",
      "1717560394.852396 INFO: metabolites 900\n",
      "1717560395.004888 INFO: reactions 844\n",
      "1717560395.404536 INFO: Default biomass: [bio1]\n",
      "1717560396.1626902 INFO: metabolites 970\n",
      "1717560396.3169549 INFO: reactions 940\n",
      "1717560396.760375 INFO: Default biomass: [bio1]\n",
      "1717560397.5762482 INFO: metabolites 980\n",
      "1717560397.751486 INFO: reactions 942\n",
      "1717560398.1843011 INFO: Default biomass: [bio1]\n",
      "1717560400.489813 INFO: metabolites 1102\n",
      "1717560400.686965 INFO: reactions 1075\n",
      "1717560401.184394 INFO: Default biomass: [bio1]\n",
      "1717560401.906094 INFO: metabolites 1073\n",
      "1717560402.0867279 INFO: reactions 1025\n",
      "1717560402.566698 INFO: Default biomass: [bio1]\n",
      "1717560403.4806569 INFO: metabolites 1108\n",
      "1717560403.788028 INFO: reactions 1098\n",
      "1717560404.326442 INFO: Default biomass: [bio1]\n",
      "1717560405.1957629 INFO: metabolites 1146\n",
      "1717560405.426825 INFO: reactions 1145\n",
      "1717560405.96712 INFO: Default biomass: [bio1]\n",
      "1717560406.938037 INFO: metabolites 1122\n",
      "1717560407.142029 INFO: reactions 1118\n",
      "1717560407.664906 INFO: Default biomass: [bio1]\n",
      "1717560408.516068 INFO: metabolites 1237\n",
      "1717560408.747037 INFO: reactions 1224\n",
      "1717560409.314359 INFO: Default biomass: [bio1]\n",
      "1717560410.15013 INFO: metabolites 1065\n",
      "1717560410.336011 INFO: reactions 1039\n",
      "1717560410.8309062 INFO: Default biomass: [bio1]\n",
      "1717560411.646268 INFO: metabolites 1420\n",
      "1717560411.959949 INFO: reactions 1484\n",
      "1717560412.668999 INFO: Default biomass: [bio1]\n",
      "1717560413.809116 INFO: metabolites 1370\n",
      "1717560414.171228 INFO: reactions 1411\n",
      "1717560414.876929 INFO: Default biomass: [bio1]\n",
      "1717560415.817535 INFO: metabolites 1476\n",
      "1717560416.123829 INFO: reactions 1532\n",
      "1717560416.877465 INFO: Default biomass: [bio1]\n",
      "1717560417.680599 INFO: metabolites 854\n",
      "1717560417.809951 INFO: reactions 817\n",
      "1717560418.189147 INFO: Default biomass: [bio1]\n",
      "1717560418.873661 INFO: metabolites 873\n",
      "1717560419.018817 INFO: reactions 831\n",
      "1717560419.402205 INFO: Default biomass: [bio1]\n",
      "1717560420.214206 INFO: metabolites 1147\n",
      "1717560420.431479 INFO: reactions 1139\n",
      "1717560421.031924 INFO: Default biomass: [bio1]\n",
      "1717560421.9171462 INFO: metabolites 1191\n",
      "1717560422.138397 INFO: reactions 1162\n",
      "1717560422.7035651 INFO: Default biomass: [bio1]\n"
     ]
    }
   ],
   "source": [
    "%run agoracommutil.py\n",
    "consolidated_gf_results = util.load(\"consolidated_gf_results\")\n",
    "feature_probabilities = util.load(\"feature_probabilities\")\n",
    "studies = [\"uptake\",\"excretion\",\"growth\"]\n",
    "for asvname in consolidated_gf_results:\n",
    "    #Getting base model\n",
    "    mdlutl = util.msrecon.get_model(asvname+\".ASV.mdl\",181152)\n",
    "    \n",
    "    reaction_probabilities = {}\n",
    "    for rxn in mdlutl.model.reactions:\n",
    "        highest_prob = None\n",
    "        for gene in rxn.genes:\n",
    "            if gene.id in feature_probabilities:\n",
    "                if highest_prob == None or feature_probabilities[gene.id] > highest_prob:\n",
    "                    highest_prob = feature_probabilities[gene.id]\n",
    "        if highest_prob != None:\n",
    "            rxn.probability = highest_prob\n",
    "            reaction_probabilities[rxn.id] = highest_prob\n",
    "    \n",
    "    for study in studies:\n",
    "        if study not in consolidated_gf_results[asvname]:\n",
    "            continue\n",
    "        for phenotype in consolidated_gf_results[asvname][study]:\n",
    "            if \"reactions\" in consolidated_gf_results[asvname][study][phenotype]:\n",
    "                consolidated_gf_results[asvname][study][phenotype][\"new_probability\"] = 0\n",
    "                consolidated_gf_results[asvname][study][phenotype][\"probrxn\"] = 0\n",
    "                consolidated_gf_results[asvname][study][phenotype][\"otherrxn\"] = 0\n",
    "                consolidated_gf_results[asvname][study][phenotype][\"origgfrxn\"] = 0\n",
    "                consolidated_gf_results[asvname][study][phenotype][\"new_gf\"] = 0\n",
    "                consolidated_gf_results[asvname][study][phenotype][\"new_gf_reactions\"] = []\n",
    "                found = False\n",
    "                for rxn in consolidated_gf_results[asvname][study][phenotype][\"reactions\"]:\n",
    "                    direction = rxn[0:1]\n",
    "                    rxnid = rxn[1:]\n",
    "                    if rxnid[0:3] == \"EX_\" and rxnid[3:11] == phenotype:\n",
    "                        found = True\n",
    "                    if rxnid not in mdlutl.model.reactions:\n",
    "                        consolidated_gf_results[asvname][study][phenotype][\"new_gf_reactions\"].append(rxn)\n",
    "                        consolidated_gf_results[asvname][study][phenotype][\"new_gf\"] += 1\n",
    "                    elif direction == \">\":\n",
    "                        if mdlutl.model.reactions.get_by_id(rxnid).upper_bound <= 0:\n",
    "                            consolidated_gf_results[asvname][study][phenotype][\"new_gf_reactions\"].append(rxn)\n",
    "                            consolidated_gf_results[asvname][study][phenotype][\"new_gf\"] += 1\n",
    "                        elif rxnid in reaction_probabilities:\n",
    "                            consolidated_gf_results[asvname][study][phenotype][\"new_probability\"] += reaction_probabilities[rxnid]\n",
    "                            consolidated_gf_results[asvname][study][phenotype][\"probrxn\"] += 1\n",
    "                        elif rxnid[0:3] != \"bio\" and rxnid[0:3] != \"EX_\" and rxnid[0:3] != \"DM_\" and len(mdlutl.model.reactions.get_by_id(rxnid).genes) == 0:\n",
    "                            consolidated_gf_results[asvname][study][phenotype][\"origgfrxn\"] += 1\n",
    "                        else:\n",
    "                            consolidated_gf_results[asvname][study][phenotype][\"otherrxn\"] += 1\n",
    "                            consolidated_gf_results[asvname][study][phenotype][\"new_probability\"] += 0.05  \n",
    "                    elif direction == \"<\":\n",
    "                        if mdlutl.model.reactions.get_by_id(rxnid).lower_bound >= 0:\n",
    "                            consolidated_gf_results[asvname][study][phenotype][\"new_gf_reactions\"].append(rxn)\n",
    "                            consolidated_gf_results[asvname][study][phenotype][\"new_gf\"] += 1\n",
    "                        elif rxnid in reaction_probabilities:\n",
    "                            consolidated_gf_results[asvname][study][phenotype][\"new_probability\"] += reaction_probabilities[rxnid]\n",
    "                            consolidated_gf_results[asvname][study][phenotype][\"probrxn\"] += 1\n",
    "                        elif rxnid[0:3] != \"bio\" and rxnid[0:3] != \"EX_\" and rxnid[0:3] != \"DM_\" and len(mdlutl.model.reactions.get_by_id(rxnid).genes) == 0:\n",
    "                            consolidated_gf_results[asvname][study][phenotype][\"origgfrxn\"] += 1\n",
    "                        else:\n",
    "                            consolidated_gf_results[asvname][study][phenotype][\"otherrxn\"] += 1\n",
    "                            consolidated_gf_results[asvname][study][phenotype][\"new_probability\"] += 0.05  \n",
    "                totalrxn = consolidated_gf_results[asvname][study][phenotype][\"probrxn\"]+consolidated_gf_results[asvname][study][phenotype][\"new_gf\"]+consolidated_gf_results[asvname][study][phenotype][\"otherrxn\"]\n",
    "                consolidated_gf_results[asvname][study][phenotype][\"new_probability\"] = consolidated_gf_results[asvname][study][phenotype][\"new_probability\"]/totalrxn\n",
    "\n",
    "                if not found:\n",
    "                    consolidated_gf_results[asvname][study][phenotype][\"original_objective_value\"] = consolidated_gf_results[asvname][study][phenotype][\"objective_value\"]\n",
    "                    consolidated_gf_results[asvname][study][phenotype][\"objective_value\"] = 0\n",
    "                    consolidated_gf_results[asvname][study][phenotype][\"class\"] = \"N\"\n",
    "                    consolidated_gf_results[asvname][study][phenotype][\"positive\"] = False\n",
    "                    consolidated_gf_results[asvname][study][phenotype][\"new_probability\"] = 0\n",
    "util.save(\"consolidated_gf_results\",consolidated_gf_results)  \n",
    "    "
   ]
  },
  {
   "cell_type": "markdown",
   "metadata": {},
   "source": [
    "# Printing matrices"
   ]
  },
  {
   "cell_type": "code",
   "execution_count": 6,
   "metadata": {},
   "outputs": [
    {
     "name": "stdout",
     "output_type": "stream",
     "text": [
      "Output files printed to:/Users/chenry/code/notebooks/MicrobiomeNotebooks/NewWesternDiet/nboutput when using KBDevUtils.output_dir\n",
      "ModelSEED: /Users/chenry/code//kb_sdk/run_local/workdir/tmp/\n"
     ]
    }
   ],
   "source": [
    "%run agoracommutil.py\n",
    "consolidated_gf_results = util.load(\"consolidated_gf_results\")\n",
    "\n",
    "asv_asvset = util.load(\"asv_asvset\")\n",
    "metabolites = util.load(\"metabolites\")\n",
    "metabolite_names = util.load(\"metabolite_names\")\n",
    "phenotype_results = util.load(\"phenotype_results\")\n",
    "asvset_genomes = util.load(\"asvset_genomes\")\n",
    "asvset_names = util.load(\"asvset_names\")\n",
    "asvset_abundances = util.load(\"asvset_abundances\")\n",
    "sample_asvset_abundances = util.load(\"sample_asvset_abundances\")\n",
    "sample_abundanes = util.load(\"sample_abundanes\")\n",
    "records = {\n",
    "    \"uptake_prob\":[{\"Sample\":\"Name\"}],\n",
    "    \"excretion_prob\":[{\"Sample\":\"Name\"}],\n",
    "    \"growth_prob\":[{\"Sample\":\"Name\"}],\n",
    "}\n",
    "types = [\"uptake\",\"excretion\",\"growth\"]\n",
    "for met in metabolites:\n",
    "    for item in records:\n",
    "        records[item][0][met] = metabolite_names[met]\n",
    "for sample in sample_asvset_abundances:\n",
    "    new_record = {\n",
    "        \"uptake_prob\":{\"Sample\":sample},\n",
    "        \"excretion_prob\":{\"Sample\":sample},\n",
    "        \"growth_prob\":{\"Sample\":sample}\n",
    "    }\n",
    "    for metabolite in metabolites:\n",
    "        for item in new_record:\n",
    "            new_record[item][metabolite] = 0\n",
    "    for asvset in sample_asvset_abundances[sample]:\n",
    "        asvname = asvset_names[asvset]\n",
    "        for metabolite in metabolites:\n",
    "            for currtype in types:\n",
    "                if currtype in consolidated_gf_results[asvname]:\n",
    "                    if metabolite in consolidated_gf_results[asvname][currtype] and \"new_probability\" in consolidated_gf_results[asvname][currtype][metabolite]:\n",
    "                        new_record[currtype+\"_prob\"][metabolite] += sample_asvset_abundances[sample][asvset]/sample_abundanes[sample][\"asvset_total\"]*consolidated_gf_results[asvname][currtype][metabolite][\"new_probability\"]\n",
    "    for item in records:\n",
    "        records[item].append(new_record[item])\n",
    "#Printing interation matrices\n",
    "for item in records:\n",
    "    df = pd.DataFrame.from_records(records[item])\n",
    "    df.to_csv(util.output_dir+\"/Sample\"+item+\"Interactions.csv\",index=False)"
   ]
  },
  {
   "cell_type": "markdown",
   "metadata": {},
   "source": [
    "# Printing ASV data"
   ]
  },
  {
   "cell_type": "code",
   "execution_count": 7,
   "metadata": {},
   "outputs": [
    {
     "name": "stdout",
     "output_type": "stream",
     "text": [
      "Output files printed to:/Users/chenry/code/notebooks/MicrobiomeNotebooks/NewWesternDiet/nboutput when using KBDevUtils.output_dir\n",
      "ModelSEED: /Users/chenry/code//kb_sdk/run_local/workdir/tmp/\n",
      "No data for  Thermus.1\n"
     ]
    }
   ],
   "source": [
    "%run agoracommutil.py\n",
    "consolidated_gf_results = util.load(\"consolidated_gf_results\")\n",
    "\n",
    "asv_asvset = util.load(\"asv_asvset\")\n",
    "metabolites = util.load(\"metabolites\")\n",
    "metabolite_names = util.load(\"metabolite_names\")\n",
    "phenotype_results = util.load(\"phenotype_results\")\n",
    "asvset_genomes = util.load(\"asvset_genomes\")\n",
    "asvset_names = util.load(\"asvset_names\")\n",
    "asvset_abundances = util.load(\"asvset_abundances\")\n",
    "sample_asvset_abundances = util.load(\"sample_asvset_abundances\")\n",
    "sample_abundanes = util.load(\"sample_abundanes\")\n",
    "records = {\n",
    "    \"uptake_prob\":[{\"ASV\":\"Name\"}],\n",
    "    \"excretion_prob\":[{\"ASV\":\"Name\"}],\n",
    "    \"growth_prob\":[{\"ASV\":\"Name\"}],\n",
    "    \"uptake_data\":[{\"ASV\":\"Name\"}],\n",
    "    \"excretion_data\":[{\"ASV\":\"Name\"}],\n",
    "    \"growth_data\":[{\"ASV\":\"Name\"}],\n",
    "}\n",
    "types = [\"uptake\",\"excretion\",\"growth\"]\n",
    "for met in metabolites:\n",
    "    for item in records:\n",
    "        records[item][0][met] = metabolite_names[met]\n",
    "for asvset in asvset_genomes:\n",
    "    asvname = asvset_names[asvset]\n",
    "    if asvname not in consolidated_gf_results:\n",
    "        print(\"No data for \",asvname)\n",
    "        continue\n",
    "    new_record = {}\n",
    "    for currtype in types:\n",
    "        new_record[currtype+\"_prob\"] = {\"ASV\":asvname}\n",
    "        new_record[currtype+\"_data\"] = {\"ASV\":asvname}\n",
    "    for metabolite in metabolites:\n",
    "        for currtype in types:\n",
    "            if currtype in consolidated_gf_results[asvname]:\n",
    "                if metabolite in consolidated_gf_results[asvname][currtype] and \"new_probability\" in consolidated_gf_results[asvname][currtype][metabolite]:\n",
    "                    new_record[currtype+\"_prob\"][metabolite] = consolidated_gf_results[asvname][currtype][metabolite][\"new_probability\"]\n",
    "                    new_record[currtype+\"_data\"][metabolite] = str(consolidated_gf_results[asvname][currtype][metabolite][\"probrxn\"])\n",
    "                    new_record[currtype+\"_data\"][metabolite] += \"/\"+str(consolidated_gf_results[asvname][currtype][metabolite][\"otherrxn\"])\n",
    "                    new_record[currtype+\"_data\"][metabolite] += \"/\"+str(consolidated_gf_results[asvname][currtype][metabolite][\"origgfrxn\"])\n",
    "                    new_record[currtype+\"_data\"][metabolite] += \"/\"+str(consolidated_gf_results[asvname][currtype][metabolite][\"new_gf\"])\n",
    "                    new_record[currtype+\"_data\"][metabolite] += \"/\"+str(consolidated_gf_results[asvname][currtype][metabolite][\"gapfill_count\"])\n",
    "                    new_record[currtype+\"_data\"][metabolite] += \"/\"+str(consolidated_gf_results[asvname][currtype][metabolite][\"reaction_count\"])\n",
    "    for item in records:\n",
    "        records[item].append(new_record[item])\n",
    "#Printing interation matrices\n",
    "for item in records:\n",
    "    df = pd.DataFrame.from_records(records[item])\n",
    "    df.to_csv(util.output_dir+\"/ASV\"+item+\"Interactions.csv\",index=False)"
   ]
  },
  {
   "cell_type": "markdown",
   "metadata": {},
   "source": [
    "# Gapfilling models based on gapfilling simulation results"
   ]
  },
  {
   "cell_type": "code",
   "execution_count": 3,
   "metadata": {},
   "outputs": [
    {
     "name": "stdout",
     "output_type": "stream",
     "text": [
      "Output files printed to:/Users/chenry/code/notebooks/MicrobiomeNotebooks/NewWesternDiet/nboutput when using KBDevUtils.output_dir\n",
      "ModelSEED: /Users/chenry/code//kb_sdk/run_local/workdir/tmp/\n"
     ]
    },
    {
     "name": "stderr",
     "output_type": "stream",
     "text": [
      "1717567041.530565 INFO: metabolites 1236\n",
      "1717567041.790891 INFO: reactions 1251\n",
      "1717567042.434616 INFO: Default biomass: [bio1]\n",
      "1717567058.6264582 INFO: cpd35610 not found in model!\n",
      "1717567058.627019 CRITICAL: Metabolite cpd35610 not found in model\n",
      "1717567058.643171 INFO: cpd07053 not found in model!\n",
      "1717567058.64384 CRITICAL: Metabolite cpd07053 not found in model\n",
      "1717567058.644323 INFO: cpd04945 not found in model!\n",
      "1717567058.64481 CRITICAL: Metabolite cpd04945 not found in model\n",
      "1717567058.7683961 WARNING: Ignoring reaction 'rxn09180_c0' since it already exists.\n",
      "1717567058.813857 WARNING: Ignoring reaction 'rxn05561_c0' since it already exists.\n",
      "1717567058.969562 INFO: Setting FBAModel computed_attributes to mdlutl attributes\n"
     ]
    },
    {
     "name": "stdout",
     "output_type": "stream",
     "text": [
      "Enterococcus.2 Missing reaction EX_cpd00557_c0 {'>': 0.12320732152100093}\n"
     ]
    },
    {
     "name": "stderr",
     "output_type": "stream",
     "text": [
      "1717567061.624893 INFO: metabolites 1159\n",
      "1717567061.865946 INFO: reactions 1226\n",
      "1717567062.496444 INFO: Default biomass: [bio1]\n",
      "1717567077.600456 INFO: cpd35610 not found in model!\n",
      "1717567077.601034 CRITICAL: Metabolite cpd35610 not found in model\n",
      "1717567077.616554 INFO: cpd07053 not found in model!\n",
      "1717567077.617491 CRITICAL: Metabolite cpd07053 not found in model\n",
      "1717567077.618251 INFO: cpd04945 not found in model!\n",
      "1717567077.61945 CRITICAL: Metabolite cpd04945 not found in model\n"
     ]
    },
    {
     "name": "stdout",
     "output_type": "stream",
     "text": [
      "Corynebacterium.2 Missing reaction EX_cpd00557_c0 {'>': 0.7965662211201041}\n"
     ]
    },
    {
     "name": "stderr",
     "output_type": "stream",
     "text": [
      "1717567077.870292 INFO: Setting FBAModel computed_attributes to mdlutl attributes\n",
      "1717567082.1943429 INFO: metabolites 1084\n",
      "1717567082.386867 INFO: reactions 1056\n",
      "1717567082.9148731 INFO: Default biomass: [bio1]\n",
      "1717567098.2338529 INFO: cpd35610 not found in model!\n",
      "1717567098.234428 CRITICAL: Metabolite cpd35610 not found in model\n",
      "1717567098.2507992 INFO: cpd07053 not found in model!\n",
      "1717567098.251456 CRITICAL: Metabolite cpd07053 not found in model\n",
      "1717567098.251931 INFO: cpd04945 not found in model!\n",
      "1717567098.252324 CRITICAL: Metabolite cpd04945 not found in model\n",
      "1717567098.3172522 WARNING: Ignoring reaction 'rxn05243_c0' since it already exists.\n",
      "1717567098.338567 WARNING: Ignoring reaction 'rxn05306_c0' since it already exists.\n",
      "1717567098.41312 WARNING: Ignoring reaction 'rxn05561_c0' since it already exists.\n",
      "1717567098.574618 WARNING: Ignoring reaction 'rxn09180_c0' since it already exists.\n",
      "1717567098.606348 INFO: Setting FBAModel computed_attributes to mdlutl attributes\n"
     ]
    },
    {
     "name": "stdout",
     "output_type": "stream",
     "text": [
      "Lactobacillus.2 Missing reaction EX_cpd00557_c0 {'>': 1.0611630331619646}\n"
     ]
    },
    {
     "name": "stderr",
     "output_type": "stream",
     "text": [
      "1717567101.168554 INFO: metabolites 1292\n",
      "1717567101.45066 INFO: reactions 1375\n",
      "1717567102.14891 INFO: Default biomass: [bio1]\n",
      "1717567118.929013 INFO: cpd35610 not found in model!\n",
      "1717567118.929643 CRITICAL: Metabolite cpd35610 not found in model\n",
      "1717567118.94532 INFO: cpd07053 not found in model!\n",
      "1717567118.9461582 CRITICAL: Metabolite cpd07053 not found in model\n",
      "1717567118.946605 INFO: cpd04945 not found in model!\n",
      "1717567118.947228 CRITICAL: Metabolite cpd04945 not found in model\n",
      "1717567119.177118 INFO: Setting FBAModel computed_attributes to mdlutl attributes\n",
      "1717567121.700096 INFO: metabolites 1339\n",
      "1717567121.9957702 INFO: reactions 1363\n",
      "1717567122.688917 INFO: Default biomass: [bio1]\n",
      "1717567140.234576 INFO: cpd35610 not found in model!\n",
      "1717567140.235222 CRITICAL: Metabolite cpd35610 not found in model\n",
      "1717567140.256342 INFO: cpd07053 not found in model!\n",
      "1717567140.256962 CRITICAL: Metabolite cpd07053 not found in model\n",
      "1717567140.257462 INFO: cpd04945 not found in model!\n",
      "1717567140.2578938 CRITICAL: Metabolite cpd04945 not found in model\n",
      "1717567140.373288 WARNING: Ignoring reaction 'rxn05289_c0' since it already exists.\n",
      "1717567140.431208 INFO: Setting FBAModel computed_attributes to mdlutl attributes\n",
      "1717567143.424174 INFO: metabolites 1077\n",
      "1717567143.6236491 INFO: reactions 1042\n",
      "1717567144.156199 INFO: Default biomass: [bio1]\n",
      "1717567159.1182652 INFO: cpd35610 not found in model!\n",
      "1717567159.118859 CRITICAL: Metabolite cpd35610 not found in model\n",
      "1717567159.1337652 INFO: cpd07053 not found in model!\n",
      "1717567159.134488 CRITICAL: Metabolite cpd07053 not found in model\n",
      "1717567159.134968 INFO: cpd04945 not found in model!\n",
      "1717567159.135435 CRITICAL: Metabolite cpd04945 not found in model\n",
      "1717567159.168109 WARNING: Ignoring reaction 'rxn09690_c0' since it already exists.\n",
      "1717567159.16906 WARNING: Ignoring reaction 'rxn04954_c0' since it already exists.\n",
      "1717567159.169717 WARNING: Ignoring reaction 'rxn00693_c0' since it already exists.\n",
      "1717567159.3155599 WARNING: Ignoring reaction 'rxn00272_c0' since it already exists.\n",
      "1717567159.367551 WARNING: Ignoring reaction 'rxn00680_c0' since it already exists.\n",
      "1717567159.36863 WARNING: Ignoring reaction 'rxn02519_c0' since it already exists.\n",
      "1717567159.3941839 WARNING: Ignoring reaction 'rxn00278_c0' since it already exists.\n"
     ]
    },
    {
     "name": "stdout",
     "output_type": "stream",
     "text": [
      "Leuconostoc.1 Missing reaction EX_cpd00557_c0 {'>': -0.41522581729960123}\n"
     ]
    },
    {
     "name": "stderr",
     "output_type": "stream",
     "text": [
      "1717567159.505376 WARNING: Ignoring reaction 'rxn12777_c0' since it already exists.\n",
      "1717567159.519368 INFO: Setting FBAModel computed_attributes to mdlutl attributes\n",
      "1717567162.4238222 INFO: metabolites 1644\n",
      "1717567162.890809 INFO: reactions 1798\n",
      "1717567163.83152 INFO: Default biomass: [bio1]\n",
      "1717567181.963774 INFO: cpd35610 not found in model!\n",
      "1717567181.964409 CRITICAL: Metabolite cpd35610 not found in model\n",
      "1717567181.9801002 INFO: cpd07053 not found in model!\n",
      "1717567181.980722 CRITICAL: Metabolite cpd07053 not found in model\n",
      "1717567181.981185 INFO: cpd04945 not found in model!\n",
      "1717567181.981662 CRITICAL: Metabolite cpd04945 not found in model\n",
      "1717567182.124067 WARNING: Ignoring reaction 'rxn02519_c0' since it already exists.\n",
      "1717567182.156375 INFO: Setting FBAModel computed_attributes to mdlutl attributes\n",
      "1717567185.19627 INFO: metabolites 1194\n",
      "1717567185.382285 INFO: reactions 956\n",
      "1717567185.888648 INFO: Default biomass: [bio1]\n",
      "1717567200.479498 INFO: cpd35610 not found in model!\n",
      "1717567200.480445 CRITICAL: Metabolite cpd35610 not found in model\n",
      "1717567200.497534 INFO: cpd07053 not found in model!\n",
      "1717567200.498235 CRITICAL: Metabolite cpd07053 not found in model\n",
      "1717567200.498732 INFO: cpd04945 not found in model!\n",
      "1717567200.4991832 CRITICAL: Metabolite cpd04945 not found in model\n",
      "1717567200.529498 WARNING: Ignoring reaction 'rxn09690_c0' since it already exists.\n",
      "1717567200.55744 WARNING: Ignoring reaction 'rxn05582_c0' since it already exists.\n",
      "1717567200.561239 WARNING: Ignoring reaction 'rxn05244_c0' since it already exists.\n",
      "1717567200.563793 WARNING: Ignoring reaction 'rxn05243_c0' since it already exists.\n",
      "1717567200.584076 WARNING: Ignoring reaction 'rxn01265_c0' since it already exists.\n",
      "1717567200.676548 WARNING: Ignoring reaction 'rxn00555_c0' since it already exists.\n",
      "1717567200.800087 WARNING: Ignoring reaction 'rxn00178_c0' since it already exists.\n",
      "1717567200.802042 WARNING: Ignoring reaction 'rxn00806_c0' since it already exists.\n",
      "1717567200.865974 WARNING: Ignoring reaction 'rxn00903_c0' since it already exists.\n",
      "1717567200.887923 INFO: Setting FBAModel computed_attributes to mdlutl attributes\n",
      "1717567203.3436952 INFO: metabolites 1002\n",
      "1717567203.528687 INFO: reactions 979\n",
      "1717567203.992686 INFO: Default biomass: [bio1]\n",
      "1717567222.24848 INFO: cpd35610 not found in model!\n",
      "1717567222.249235 CRITICAL: Metabolite cpd35610 not found in model\n",
      "1717567222.267893 INFO: cpd07053 not found in model!\n",
      "1717567222.268544 CRITICAL: Metabolite cpd07053 not found in model\n",
      "1717567222.268998 INFO: cpd04945 not found in model!\n",
      "1717567222.269398 CRITICAL: Metabolite cpd04945 not found in model\n"
     ]
    },
    {
     "name": "stdout",
     "output_type": "stream",
     "text": [
      "Odoribacter.1 Missing reaction EX_cpd00557_c0 {'<': 2.1454959062497}\n"
     ]
    },
    {
     "name": "stderr",
     "output_type": "stream",
     "text": [
      "1717567222.531148 WARNING: Ignoring reaction 'rxn00146_c0' since it already exists.\n",
      "1717567222.532459 WARNING: Ignoring reaction 'rxn02229_c0' since it already exists.\n",
      "1717567222.5336618 WARNING: Ignoring reaction 'rxn00023_c0' since it already exists.\n",
      "1717567222.5546649 WARNING: Ignoring reaction 'rxn00949_c0' since it already exists.\n",
      "1717567222.634068 INFO: Setting FBAModel computed_attributes to mdlutl attributes\n",
      "1717567224.61822 INFO: metabolites 1079\n",
      "1717567224.8241751 INFO: reactions 1063\n",
      "1717567225.347314 INFO: Default biomass: [bio1]\n",
      "1717567240.52821 INFO: cpd35610 not found in model!\n",
      "1717567240.5289202 CRITICAL: Metabolite cpd35610 not found in model\n",
      "1717567240.544182 INFO: cpd07053 not found in model!\n",
      "1717567240.544918 CRITICAL: Metabolite cpd07053 not found in model\n",
      "1717567240.5453582 INFO: cpd04945 not found in model!\n",
      "1717567240.5457642 CRITICAL: Metabolite cpd04945 not found in model\n",
      "1717567240.5839732 WARNING: Ignoring reaction 'rxn00693_c0' since it already exists.\n",
      "1717567240.61549 WARNING: Ignoring reaction 'rxn00102_c0' since it already exists.\n",
      "1717567240.742751 WARNING: Ignoring reaction 'rxn05561_c0' since it already exists.\n",
      "1717567240.804978 WARNING: Ignoring reaction 'rxn00086_c0' since it already exists.\n",
      "1717567240.8632162 WARNING: Ignoring reaction 'rxn00953_c0' since it already exists.\n",
      "1717567240.8789172 WARNING: Ignoring reaction 'rxn00520_c0' since it already exists.\n",
      "1717567240.922412 WARNING: Ignoring reaction 'rxn09180_c0' since it already exists.\n",
      "1717567241.003424 INFO: Setting FBAModel computed_attributes to mdlutl attributes\n",
      "1717567243.192744 INFO: metabolites 1297\n",
      "1717567243.476369 INFO: reactions 1323\n",
      "1717567244.175766 INFO: Default biomass: [bio1]\n",
      "1717567259.400089 INFO: cpd35610 not found in model!\n",
      "1717567259.4007401 CRITICAL: Metabolite cpd35610 not found in model\n",
      "1717567259.4159749 INFO: cpd07053 not found in model!\n",
      "1717567259.416629 CRITICAL: Metabolite cpd07053 not found in model\n",
      "1717567259.4171362 INFO: cpd04945 not found in model!\n",
      "1717567259.41756 CRITICAL: Metabolite cpd04945 not found in model\n",
      "1717567259.58379 WARNING: Ignoring reaction 'rxn00693_c0' since it already exists.\n",
      "1717567259.715719 INFO: Setting FBAModel computed_attributes to mdlutl attributes\n",
      "1717567264.325145 INFO: metabolites 1023\n",
      "1717567264.519967 INFO: reactions 987\n",
      "1717567265.035743 INFO: Default biomass: [bio1]\n",
      "1717567283.660033 INFO: cpd35610 not found in model!\n",
      "1717567283.660681 CRITICAL: Metabolite cpd35610 not found in model\n",
      "1717567283.676141 INFO: cpd07053 not found in model!\n",
      "1717567283.676849 CRITICAL: Metabolite cpd07053 not found in model\n",
      "1717567283.677325 INFO: cpd04945 not found in model!\n",
      "1717567283.67773 CRITICAL: Metabolite cpd04945 not found in model\n",
      "1717567283.7118468 WARNING: Ignoring reaction 'rxn05508_c0' since it already exists.\n",
      "1717567283.717898 WARNING: Ignoring reaction 'rxn09690_c0' since it already exists.\n",
      "1717567283.825214 WARNING: Ignoring reaction 'rxn00272_c0' since it already exists.\n",
      "1717567283.9912589 WARNING: Ignoring reaction 'rxn09180_c0' since it already exists.\n",
      "1717567284.036829 WARNING: Ignoring reaction 'rxn10663_c0' since it already exists.\n",
      "1717567284.0522518 WARNING: Ignoring reaction 'rxn00197_c0' since it already exists.\n",
      "1717567284.0716128 INFO: Setting FBAModel computed_attributes to mdlutl attributes\n",
      "1717567286.520172 INFO: metabolites 944\n",
      "1717567286.694366 INFO: reactions 926\n",
      "1717567287.174894 INFO: Default biomass: [bio1]\n",
      "1717567302.586872 INFO: cpd35610 not found in model!\n",
      "1717567302.58746 CRITICAL: Metabolite cpd35610 not found in model\n",
      "1717567302.6034298 INFO: cpd07053 not found in model!\n",
      "1717567302.604065 CRITICAL: Metabolite cpd07053 not found in model\n",
      "1717567302.6045818 INFO: cpd04945 not found in model!\n",
      "1717567302.605053 CRITICAL: Metabolite cpd04945 not found in model\n",
      "1717567302.6653702 WARNING: Ignoring reaction 'rxn05244_c0' since it already exists.\n",
      "1717567302.8716218 WARNING: Ignoring reaction 'rxn09180_c0' since it already exists.\n"
     ]
    },
    {
     "name": "stdout",
     "output_type": "stream",
     "text": [
      "Turicibacter.1 Missing reaction EX_cpd00557_c0 {'>': 0.3084999438987291}\n"
     ]
    },
    {
     "name": "stderr",
     "output_type": "stream",
     "text": [
      "1717567303.001893 WARNING: Ignoring reaction 'rxn00680_c0' since it already exists.\n",
      "1717567303.0038872 WARNING: Ignoring reaction 'rxn02519_c0' since it already exists.\n",
      "1717567303.045713 WARNING: Ignoring reaction 'rxn00467_c0' since it already exists.\n",
      "1717567303.062926 WARNING: Ignoring reaction 'rxn00503_c0' since it already exists.\n",
      "1717567303.113258 INFO: Setting FBAModel computed_attributes to mdlutl attributes\n",
      "1717567305.209692 INFO: metabolites 959\n",
      "1717567305.386032 INFO: reactions 893\n",
      "1717567305.845681 INFO: Default biomass: [bio1]\n",
      "1717567320.716809 INFO: cpd35610 not found in model!\n",
      "1717567320.7174761 CRITICAL: Metabolite cpd35610 not found in model\n",
      "1717567320.732857 INFO: cpd07053 not found in model!\n",
      "1717567320.733695 CRITICAL: Metabolite cpd07053 not found in model\n",
      "1717567320.734188 INFO: cpd04945 not found in model!\n",
      "1717567320.7348108 CRITICAL: Metabolite cpd04945 not found in model\n",
      "1717567320.82288 WARNING: Ignoring reaction 'rxn01265_c0' since it already exists.\n",
      "1717567320.959137 WARNING: Ignoring reaction 'rxn00777_c0' since it already exists.\n",
      "1717567321.035649 WARNING: Ignoring reaction 'rxn00949_c0' since it already exists.\n",
      "1717567321.092088 INFO: Setting FBAModel computed_attributes to mdlutl attributes\n"
     ]
    },
    {
     "name": "stdout",
     "output_type": "stream",
     "text": [
      "Akkermansia.2 Missing reaction EX_cpd00557_c0 {'>': 0.9696275495540146}\n"
     ]
    },
    {
     "name": "stderr",
     "output_type": "stream",
     "text": [
      "1717567323.903605 INFO: metabolites 1204\n",
      "1717567324.17308 INFO: reactions 1242\n",
      "1717567328.558311 INFO: Default biomass: [bio1]\n",
      "1717567344.444936 INFO: cpd35610 not found in model!\n",
      "1717567344.445598 CRITICAL: Metabolite cpd35610 not found in model\n",
      "1717567344.461648 INFO: cpd07053 not found in model!\n",
      "1717567344.462442 CRITICAL: Metabolite cpd07053 not found in model\n",
      "1717567344.463 INFO: cpd04945 not found in model!\n",
      "1717567344.463671 CRITICAL: Metabolite cpd04945 not found in model\n",
      "1717567344.631168 WARNING: Ignoring reaction 'rxn10663_c0' since it already exists.\n",
      "1717567344.760124 INFO: Setting FBAModel computed_attributes to mdlutl attributes\n"
     ]
    },
    {
     "name": "stdout",
     "output_type": "stream",
     "text": [
      "Actinomyces.1 Missing reaction EX_cpd00557_c0 {'<': 1.6254942735897642, '>': 0.6902212077589363}\n"
     ]
    },
    {
     "name": "stderr",
     "output_type": "stream",
     "text": [
      "1717567347.949284 INFO: metabolites 1226\n",
      "1717567348.2328708 INFO: reactions 1201\n",
      "1717567348.925863 INFO: Default biomass: [bio1]\n",
      "1717567366.634688 INFO: cpd35610 not found in model!\n",
      "1717567366.6353421 CRITICAL: Metabolite cpd35610 not found in model\n",
      "1717567366.653422 INFO: cpd07053 not found in model!\n",
      "1717567366.65438 CRITICAL: Metabolite cpd07053 not found in model\n",
      "1717567366.654912 INFO: cpd04945 not found in model!\n",
      "1717567366.655626 CRITICAL: Metabolite cpd04945 not found in model\n",
      "1717567366.688912 WARNING: Ignoring reaction 'rxn12215_c0' since it already exists.\n",
      "1717567366.9043782 INFO: Setting FBAModel computed_attributes to mdlutl attributes\n",
      "1717567369.790981 INFO: metabolites 1620\n",
      "1717567370.292952 INFO: reactions 1736\n",
      "1717567371.518857 INFO: Default biomass: [bio1]\n",
      "1717567390.194978 INFO: cpd35610 not found in model!\n",
      "1717567390.195673 CRITICAL: Metabolite cpd35610 not found in model\n",
      "1717567390.2146618 INFO: cpd07053 not found in model!\n",
      "1717567390.21564 CRITICAL: Metabolite cpd07053 not found in model\n",
      "1717567390.216358 INFO: cpd04945 not found in model!\n",
      "1717567390.217438 CRITICAL: Metabolite cpd04945 not found in model\n",
      "1717567390.37667 INFO: Setting FBAModel computed_attributes to mdlutl attributes\n",
      "1717567394.330327 INFO: metabolites 1002\n",
      "1717567394.560129 INFO: reactions 974\n",
      "1717567395.164829 INFO: Default biomass: [bio1]\n",
      "1717567417.082656 INFO: cpd35610 not found in model!\n",
      "1717567417.0833652 CRITICAL: Metabolite cpd35610 not found in model\n",
      "1717567417.1014552 INFO: cpd07053 not found in model!\n",
      "1717567417.102153 CRITICAL: Metabolite cpd07053 not found in model\n",
      "1717567417.102592 INFO: cpd04945 not found in model!\n",
      "1717567417.102976 CRITICAL: Metabolite cpd04945 not found in model\n",
      "1717567417.2208378 WARNING: Ignoring reaction 'rxn05310_c0' since it already exists.\n",
      "1717567417.3073 WARNING: Ignoring reaction 'rxn00251_c0' since it already exists.\n",
      "1717567417.488215 WARNING: Ignoring reaction 'rxn00350_c0' since it already exists.\n",
      "1717567417.489296 WARNING: Ignoring reaction 'rxn09234_c0' since it already exists.\n",
      "1717567417.5985951 WARNING: Ignoring reaction 'rxn02229_c0' since it already exists.\n"
     ]
    },
    {
     "name": "stdout",
     "output_type": "stream",
     "text": [
      "Longibaculum.1 Missing reaction EX_cpd00557_c0 {'>': 0.6678425029158759}\n"
     ]
    },
    {
     "name": "stderr",
     "output_type": "stream",
     "text": [
      "1717567417.865403 INFO: Setting FBAModel computed_attributes to mdlutl attributes\n",
      "1717567420.980986 INFO: metabolites 1061\n",
      "1717567421.1906528 INFO: reactions 993\n",
      "1717567421.750546 INFO: Default biomass: [bio1]\n",
      "1717567437.881162 INFO: cpd35610 not found in model!\n",
      "1717567437.881811 CRITICAL: Metabolite cpd35610 not found in model\n",
      "1717567437.8989708 INFO: cpd07053 not found in model!\n",
      "1717567437.89972 CRITICAL: Metabolite cpd07053 not found in model\n",
      "1717567437.900383 INFO: cpd04945 not found in model!\n",
      "1717567437.900929 CRITICAL: Metabolite cpd04945 not found in model\n",
      "1717567438.145474 WARNING: Ignoring reaction 'rxn00749_c0' since it already exists.\n",
      "1717567438.146362 WARNING: Ignoring reaction 'rxn00435_c0' since it already exists.\n",
      "1717567438.189282 WARNING: Ignoring reaction 'rxn00251_c0' since it already exists.\n",
      "1717567438.2540019 WARNING: Ignoring reaction 'rxn09180_c0' since it already exists.\n",
      "1717567438.295555 WARNING: Ignoring reaction 'rxn05902_c0' since it already exists.\n",
      "1717567438.348076 INFO: Setting FBAModel computed_attributes to mdlutl attributes\n"
     ]
    },
    {
     "name": "stdout",
     "output_type": "stream",
     "text": [
      "Butyricicoccus.1 Missing reaction EX_cpd00557_c0 {'>': 1.065455615916975}\n"
     ]
    },
    {
     "name": "stderr",
     "output_type": "stream",
     "text": [
      "1717567442.9324858 INFO: metabolites 1692\n",
      "1717567443.413622 INFO: reactions 1857\n",
      "1717567444.526027 INFO: Default biomass: [bio1]\n",
      "1717567462.02772 INFO: cpd35610 not found in model!\n",
      "1717567462.028424 CRITICAL: Metabolite cpd35610 not found in model\n",
      "1717567462.0470479 INFO: cpd07053 not found in model!\n",
      "1717567462.047754 CRITICAL: Metabolite cpd07053 not found in model\n",
      "1717567462.048256 INFO: cpd04945 not found in model!\n",
      "1717567462.0487769 CRITICAL: Metabolite cpd04945 not found in model\n",
      "1717567462.222254 INFO: Setting FBAModel computed_attributes to mdlutl attributes\n",
      "1717567465.19939 INFO: metabolites 1527\n",
      "1717567465.643533 INFO: reactions 1652\n",
      "1717567466.694709 INFO: Default biomass: [bio1]\n",
      "1717567489.492817 INFO: cpd35610 not found in model!\n",
      "1717567489.493571 CRITICAL: Metabolite cpd35610 not found in model\n",
      "1717567489.512565 INFO: cpd07053 not found in model!\n",
      "1717567489.513283 CRITICAL: Metabolite cpd07053 not found in model\n",
      "1717567489.513824 INFO: cpd04945 not found in model!\n",
      "1717567489.514287 CRITICAL: Metabolite cpd04945 not found in model\n",
      "1717567489.6945002 INFO: Setting FBAModel computed_attributes to mdlutl attributes\n",
      "1717567492.5052621 INFO: metabolites 1226\n",
      "1717567492.800575 INFO: reactions 1207\n",
      "1717567493.5538292 INFO: Default biomass: [bio1]\n",
      "1717567511.633135 INFO: cpd35610 not found in model!\n",
      "1717567511.6338382 CRITICAL: Metabolite cpd35610 not found in model\n",
      "1717567511.6514618 INFO: cpd07053 not found in model!\n",
      "1717567511.6523361 CRITICAL: Metabolite cpd07053 not found in model\n",
      "1717567511.652838 INFO: cpd04945 not found in model!\n",
      "1717567511.653493 CRITICAL: Metabolite cpd04945 not found in model\n",
      "1717567511.887125 WARNING: Ignoring reaction 'rxn05289_c0' since it already exists.\n",
      "1717567511.972766 INFO: Setting FBAModel computed_attributes to mdlutl attributes\n"
     ]
    },
    {
     "name": "stdout",
     "output_type": "stream",
     "text": [
      "Gracilibacillus.1 Missing reaction EX_cpd00557_c0 {'>': 0.6055808341597678}\n"
     ]
    },
    {
     "name": "stderr",
     "output_type": "stream",
     "text": [
      "1717567514.284941 INFO: metabolites 1159\n",
      "1717567514.569129 INFO: reactions 1137\n",
      "1717567515.2763588 INFO: Default biomass: [bio1]\n",
      "1717567533.180906 INFO: cpd35610 not found in model!\n",
      "1717567533.181632 CRITICAL: Metabolite cpd35610 not found in model\n",
      "1717567533.2005372 INFO: cpd07053 not found in model!\n",
      "1717567533.20141 CRITICAL: Metabolite cpd07053 not found in model\n",
      "1717567533.2019541 INFO: cpd04945 not found in model!\n",
      "1717567533.202658 CRITICAL: Metabolite cpd04945 not found in model\n",
      "1717567533.2245388 WARNING: Ignoring reaction 'rxn00362_c0' since it already exists.\n",
      "1717567533.25531 WARNING: Ignoring reaction 'rxn00503_c0' since it already exists.\n",
      "1717567533.624629 WARNING: Ignoring reaction 'rxn00350_c0' since it already exists.\n",
      "1717567533.6257558 WARNING: Ignoring reaction 'rxn00520_c0' since it already exists.\n"
     ]
    },
    {
     "name": "stdout",
     "output_type": "stream",
     "text": [
      "Ruminococcus.3 Missing reaction EX_cpd00557_c0 {'>': 1.0767277383659735}\n"
     ]
    },
    {
     "name": "stderr",
     "output_type": "stream",
     "text": [
      "1717567534.011167 INFO: Setting FBAModel computed_attributes to mdlutl attributes\n",
      "1717567537.824357 INFO: metabolites 1250\n",
      "1717567538.1470048 INFO: reactions 1206\n",
      "1717567538.982311 INFO: Default biomass: [bio1]\n",
      "1717567559.334421 INFO: cpd35610 not found in model!\n",
      "1717567559.335192 CRITICAL: Metabolite cpd35610 not found in model\n",
      "1717567559.356931 INFO: cpd07053 not found in model!\n",
      "1717567559.357878 CRITICAL: Metabolite cpd07053 not found in model\n",
      "1717567559.358477 INFO: cpd04945 not found in model!\n",
      "1717567559.3592708 CRITICAL: Metabolite cpd04945 not found in model\n",
      "1717567559.391685 WARNING: Ignoring reaction 'rxn00503_c0' since it already exists.\n",
      "1717567559.6301289 WARNING: Ignoring reaction 'rxn00102_c0' since it already exists.\n",
      "1717567559.6417139 WARNING: Ignoring reaction 'rxn00949_c0' since it already exists.\n",
      "1717567559.650754 WARNING: Ignoring reaction 'rxn05289_c0' since it already exists.\n",
      "1717567559.679307 WARNING: Ignoring reaction 'rxn09180_c0' since it already exists.\n",
      "1717567559.829393 INFO: Setting FBAModel computed_attributes to mdlutl attributes\n",
      "1717567562.612747 INFO: metabolites 855\n",
      "1717567562.815296 INFO: reactions 793\n",
      "1717567563.378197 INFO: Default biomass: [bio1]\n",
      "1717567583.711807 INFO: cpd35610 not found in model!\n",
      "1717567583.7125928 CRITICAL: Metabolite cpd35610 not found in model\n",
      "1717567583.7344158 INFO: cpd07053 not found in model!\n",
      "1717567583.7353668 CRITICAL: Metabolite cpd07053 not found in model\n",
      "1717567583.73597 INFO: cpd04945 not found in model!\n",
      "1717567583.736962 CRITICAL: Metabolite cpd04945 not found in model\n",
      "1717567583.776213 WARNING: Ignoring reaction 'rxn00251_c0' since it already exists.\n",
      "1717567583.838214 WARNING: Ignoring reaction 'rxn05299_c0' since it already exists.\n",
      "1717567583.847763 WARNING: Ignoring reaction 'rxn05243_c0' since it already exists.\n",
      "1717567583.876244 WARNING: Ignoring reaction 'rxn01265_c0' since it already exists.\n",
      "1717567583.898714 WARNING: Ignoring reaction 'rxn01333_c0' since it already exists.\n",
      "1717567583.9709098 WARNING: Ignoring reaction 'rxn00278_c0' since it already exists.\n",
      "1717567584.00464 WARNING: Ignoring reaction 'rxn09180_c0' since it already exists.\n",
      "1717567584.0937521 WARNING: Ignoring reaction 'rxn05561_c0' since it already exists.\n",
      "1717567584.242592 WARNING: Ignoring reaction 'rxn00350_c0' since it already exists.\n",
      "1717567584.6068742 INFO: Setting FBAModel computed_attributes to mdlutl attributes\n",
      "1717567586.581755 INFO: metabolites 1075\n",
      "1717567586.865988 INFO: reactions 1018\n",
      "1717567587.595089 INFO: Default biomass: [bio1]\n",
      "1717567613.560359 INFO: cpd35610 not found in model!\n",
      "1717567613.5610518 CRITICAL: Metabolite cpd35610 not found in model\n",
      "1717567613.581719 INFO: cpd07053 not found in model!\n",
      "1717567613.58271 CRITICAL: Metabolite cpd07053 not found in model\n",
      "1717567613.5834649 INFO: cpd04945 not found in model!\n",
      "1717567613.584579 CRITICAL: Metabolite cpd04945 not found in model\n",
      "1717567613.89682 WARNING: Ignoring reaction 'rxn00272_c0' since it already exists.\n",
      "1717567613.905781 WARNING: Ignoring reaction 'rxn10663_c0' since it already exists.\n"
     ]
    },
    {
     "name": "stdout",
     "output_type": "stream",
     "text": [
      "Paraeggerthella.1 Missing reaction EX_cpd00557_c0 {'>': 0.09862324111584166}\n"
     ]
    },
    {
     "name": "stderr",
     "output_type": "stream",
     "text": [
      "1717567613.994658 WARNING: Ignoring reaction 'rxn00704_c0' since it already exists.\n",
      "1717567614.095155 INFO: Setting FBAModel computed_attributes to mdlutl attributes\n",
      "1717567617.106251 INFO: metabolites 916\n",
      "1717567617.312675 INFO: reactions 892\n",
      "1717567617.888423 INFO: Default biomass: [bio1]\n",
      "1717567636.700428 INFO: cpd35610 not found in model!\n",
      "1717567636.701149 CRITICAL: Metabolite cpd35610 not found in model\n",
      "1717567636.7186592 INFO: cpd07053 not found in model!\n",
      "1717567636.7195048 CRITICAL: Metabolite cpd07053 not found in model\n",
      "1717567636.719975 INFO: cpd04945 not found in model!\n",
      "1717567636.720704 CRITICAL: Metabolite cpd04945 not found in model\n",
      "1717567636.729253 WARNING: Ignoring reaction 'rxn00503_c0' since it already exists.\n",
      "1717567636.7732348 WARNING: Ignoring reaction 'rxn00278_c0' since it already exists.\n",
      "1717567636.774246 WARNING: Ignoring reaction 'rxn01333_c0' since it already exists.\n",
      "1717567636.8269708 WARNING: Ignoring reaction 'rxn05299_c0' since it already exists.\n",
      "1717567636.8315141 WARNING: Ignoring reaction 'rxn05244_c0' since it already exists.\n",
      "1717567636.8630579 WARNING: Ignoring reaction 'rxn05310_c0' since it already exists.\n",
      "1717567636.8777049 WARNING: Ignoring reaction 'rxn05306_c0' since it already exists.\n",
      "1717567636.910033 WARNING: Ignoring reaction 'rxn10124_c0' since it already exists.\n",
      "1717567636.917557 WARNING: Ignoring reaction 'rxn05300_c0' since it already exists.\n",
      "1717567636.9205482 WARNING: Ignoring reaction 'rxn05301_c0' since it already exists.\n",
      "1717567636.9273002 WARNING: Ignoring reaction 'rxn00272_c0' since it already exists.\n",
      "1717567636.9669251 WARNING: Ignoring reaction 'rxn00102_c0' since it already exists.\n",
      "1717567637.029526 WARNING: Ignoring reaction 'rxn10663_c0' since it already exists.\n",
      "1717567637.061172 WARNING: Ignoring reaction 'rxn05654_c0' since it already exists.\n",
      "1717567637.073685 WARNING: Ignoring reaction 'rxn00502_c0' since it already exists.\n",
      "1717567637.1591659 WARNING: Ignoring reaction 'rxn00530_c0' since it already exists.\n",
      "1717567637.160544 WARNING: Ignoring reaction 'rxn00970_c0' since it already exists.\n",
      "1717567637.1614778 WARNING: Ignoring reaction 'rxn00350_c0' since it already exists.\n"
     ]
    },
    {
     "name": "stdout",
     "output_type": "stream",
     "text": [
      "Candidatus.3 Missing reaction EX_cpd00557_c0 {'<': 1.615433939556261, '>': 0.11136823835056765}\n"
     ]
    },
    {
     "name": "stderr",
     "output_type": "stream",
     "text": [
      "1717567637.530056 WARNING: Ignoring reaction 'rxn00178_c0' since it already exists.\n",
      "1717567637.596284 INFO: Setting FBAModel computed_attributes to mdlutl attributes\n",
      "1717567639.575238 INFO: metabolites 906\n",
      "1717567639.7783198 INFO: reactions 902\n",
      "1717567640.3168142 INFO: Default biomass: [bio1]\n",
      "1717567657.948103 INFO: cpd35610 not found in model!\n",
      "1717567657.948909 CRITICAL: Metabolite cpd35610 not found in model\n",
      "1717567657.9674492 INFO: cpd07053 not found in model!\n",
      "1717567657.968284 CRITICAL: Metabolite cpd07053 not found in model\n",
      "1717567657.968812 INFO: cpd04945 not found in model!\n",
      "1717567657.969435 CRITICAL: Metabolite cpd04945 not found in model\n",
      "1717567658.2851279 WARNING: Ignoring reaction 'rxn09180_c0' since it already exists.\n",
      "1717567658.295674 WARNING: Ignoring reaction 'rxn00704_c0' since it already exists.\n",
      "1717567658.296748 WARNING: Ignoring reaction 'rxn04954_c0' since it already exists.\n",
      "1717567658.3123982 WARNING: Ignoring reaction 'rxn05289_c0' since it already exists.\n",
      "1717567658.372258 INFO: Setting FBAModel computed_attributes to mdlutl attributes\n"
     ]
    },
    {
     "name": "stdout",
     "output_type": "stream",
     "text": [
      "Anaerotignum.1 Missing reaction EX_cpd00557_c0 {'>': 0.36423933722813484}\n"
     ]
    },
    {
     "name": "stderr",
     "output_type": "stream",
     "text": [
      "1717567660.539329 INFO: metabolites 979\n",
      "1717567660.749457 INFO: reactions 920\n",
      "1717567661.314362 INFO: Default biomass: [bio1]\n",
      "1717567679.888693 INFO: cpd35610 not found in model!\n",
      "1717567679.889436 CRITICAL: Metabolite cpd35610 not found in model\n",
      "1717567679.909358 INFO: cpd07053 not found in model!\n",
      "1717567679.9100878 CRITICAL: Metabolite cpd07053 not found in model\n",
      "1717567679.9105742 INFO: cpd04945 not found in model!\n",
      "1717567679.91111 CRITICAL: Metabolite cpd04945 not found in model\n",
      "1717567680.1529868 WARNING: Ignoring reaction 'rxn00272_c0' since it already exists.\n",
      "1717567680.17089 WARNING: Ignoring reaction 'rxn10663_c0' since it already exists.\n",
      "1717567680.26495 WARNING: Ignoring reaction 'rxn00278_c0' since it already exists.\n",
      "1717567680.2922292 WARNING: Ignoring reaction 'rxn00704_c0' since it already exists.\n",
      "1717567680.3439941 WARNING: Ignoring reaction 'rxn02519_c0' since it already exists.\n",
      "1717567680.362099 INFO: Setting FBAModel computed_attributes to mdlutl attributes\n"
     ]
    },
    {
     "name": "stdout",
     "output_type": "stream",
     "text": [
      "Eggerthella.1 Missing reaction EX_cpd00557_c0 {'>': 0.22928002550624482}\n"
     ]
    },
    {
     "name": "stderr",
     "output_type": "stream",
     "text": [
      "1717567683.381749 INFO: metabolites 923\n",
      "1717567683.595417 INFO: reactions 881\n",
      "1717567684.174207 INFO: Default biomass: [bio1]\n",
      "1717567702.65243 INFO: cpd35610 not found in model!\n",
      "1717567702.65318 CRITICAL: Metabolite cpd35610 not found in model\n",
      "1717567702.6733088 INFO: cpd07053 not found in model!\n",
      "1717567702.6740701 CRITICAL: Metabolite cpd07053 not found in model\n",
      "1717567702.6745641 INFO: cpd04945 not found in model!\n",
      "1717567702.675112 CRITICAL: Metabolite cpd04945 not found in model\n",
      "1717567702.728638 WARNING: Ignoring reaction 'rxn00693_c0' since it already exists.\n",
      "1717567702.810886 WARNING: Ignoring reaction 'rxn05310_c0' since it already exists.\n",
      "1717567702.9057999 WARNING: Ignoring reaction 'rxn00251_c0' since it already exists.\n",
      "1717567702.994436 WARNING: Ignoring reaction 'rxn10663_c0' since it already exists.\n",
      "1717567703.067086 WARNING: Ignoring reaction 'rxn05634_c0' since it already exists.\n",
      "1717567703.113987 WARNING: Ignoring reaction 'rxn00278_c0' since it already exists.\n",
      "1717567703.115105 WARNING: Ignoring reaction 'rxn05289_c0' since it already exists.\n",
      "1717567703.1411939 WARNING: Ignoring reaction 'rxn00704_c0' since it already exists.\n",
      "1717567703.179976 WARNING: Ignoring reaction 'rxn09180_c0' since it already exists.\n",
      "1717567703.2018728 WARNING: Ignoring reaction 'rxn00985_c0' since it already exists.\n",
      "1717567703.208034 INFO: Setting FBAModel computed_attributes to mdlutl attributes\n"
     ]
    },
    {
     "name": "stdout",
     "output_type": "stream",
     "text": [
      "Merdibacter.1 Missing reaction EX_cpd00557_c0 {'>': 1.0879937123354613}\n"
     ]
    },
    {
     "name": "stderr",
     "output_type": "stream",
     "text": [
      "1717567705.02349 INFO: metabolites 946\n",
      "1717567705.2456708 INFO: reactions 902\n",
      "1717567705.841759 INFO: Default biomass: [bio1]\n",
      "1717567731.7394292 INFO: cpd35610 not found in model!\n",
      "1717567731.74017 CRITICAL: Metabolite cpd35610 not found in model\n",
      "1717567731.7603772 INFO: cpd07053 not found in model!\n",
      "1717567731.76129 CRITICAL: Metabolite cpd07053 not found in model\n",
      "1717567731.761909 INFO: cpd04945 not found in model!\n",
      "1717567731.762698 CRITICAL: Metabolite cpd04945 not found in model\n",
      "1717567732.11483 WARNING: Ignoring reaction 'rxn00704_c0' since it already exists.\n"
     ]
    },
    {
     "name": "stdout",
     "output_type": "stream",
     "text": [
      "Bifidobacterium.3 Missing reaction EX_cpd00557_c0 {'>': 1.1819985789008154}\n"
     ]
    },
    {
     "name": "stderr",
     "output_type": "stream",
     "text": [
      "1717567732.272822 INFO: Setting FBAModel computed_attributes to mdlutl attributes\n",
      "1717567735.699428 INFO: metabolites 1227\n",
      "1717567736.0297139 INFO: reactions 1213\n",
      "1717567736.840263 INFO: Default biomass: [bio1]\n",
      "1717567755.6794019 INFO: cpd35610 not found in model!\n",
      "1717567755.680136 CRITICAL: Metabolite cpd35610 not found in model\n",
      "1717567755.700284 INFO: cpd07053 not found in model!\n",
      "1717567755.701171 CRITICAL: Metabolite cpd07053 not found in model\n",
      "1717567755.701935 INFO: cpd04945 not found in model!\n",
      "1717567755.702658 CRITICAL: Metabolite cpd04945 not found in model\n",
      "1717567755.7501912 WARNING: Ignoring reaction 'rxn00693_c0' since it already exists.\n",
      "1717567756.178785 INFO: Setting FBAModel computed_attributes to mdlutl attributes\n",
      "1717567758.574796 INFO: metabolites 1021\n",
      "1717567758.815231 INFO: reactions 962\n",
      "1717567759.479776 INFO: Default biomass: [bio1]\n",
      "1717567778.362308 INFO: cpd35610 not found in model!\n",
      "1717567778.363022 CRITICAL: Metabolite cpd35610 not found in model\n",
      "1717567778.3832881 INFO: cpd07053 not found in model!\n",
      "1717567778.3840919 CRITICAL: Metabolite cpd07053 not found in model\n",
      "1717567778.3846579 INFO: cpd04945 not found in model!\n",
      "1717567778.385418 CRITICAL: Metabolite cpd04945 not found in model\n",
      "1717567778.467536 WARNING: Ignoring reaction 'rxn00949_c0' since it already exists.\n",
      "1717567778.6007712 WARNING: Ignoring reaction 'rxn05211_c0' since it already exists.\n",
      "1717567778.6867478 WARNING: Ignoring reaction 'rxn00198_c0' since it already exists.\n",
      "1717567778.712801 WARNING: Ignoring reaction 'rxn00191_c0' since it already exists.\n",
      "1717567778.8234081 WARNING: Ignoring reaction 'rxn04794_c0' since it already exists.\n",
      "1717567778.918926 INFO: Setting FBAModel computed_attributes to mdlutl attributes\n",
      "1717567781.262204 INFO: metabolites 1269\n",
      "1717567781.618158 INFO: reactions 1287\n",
      "1717567782.5687182 INFO: Default biomass: [bio1]\n",
      "1717567801.695515 INFO: cpd35610 not found in model!\n",
      "1717567801.696231 CRITICAL: Metabolite cpd35610 not found in model\n",
      "1717567801.716272 INFO: cpd07053 not found in model!\n",
      "1717567801.71721 CRITICAL: Metabolite cpd07053 not found in model\n",
      "1717567801.717739 INFO: cpd04945 not found in model!\n",
      "1717567801.7184992 CRITICAL: Metabolite cpd04945 not found in model\n",
      "1717567801.767413 WARNING: Ignoring reaction 'rxn00693_c0' since it already exists.\n",
      "1717567802.1067982 INFO: Setting FBAModel computed_attributes to mdlutl attributes\n",
      "1717567804.8419142 INFO: metabolites 1429\n",
      "1717567805.270441 INFO: reactions 1472\n",
      "1717567806.28761 INFO: Default biomass: [bio1]\n",
      "1717567826.304163 INFO: cpd35610 not found in model!\n",
      "1717567826.3049269 CRITICAL: Metabolite cpd35610 not found in model\n",
      "1717567826.324841 INFO: cpd07053 not found in model!\n",
      "1717567826.3256278 CRITICAL: Metabolite cpd07053 not found in model\n",
      "1717567826.326237 INFO: cpd04945 not found in model!\n",
      "1717567826.3270211 CRITICAL: Metabolite cpd04945 not found in model\n"
     ]
    },
    {
     "name": "stdout",
     "output_type": "stream",
     "text": [
      "Clostridium.4 Missing reaction EX_cpd00557_c0 {'>': -0.5276597182616891}\n"
     ]
    },
    {
     "name": "stderr",
     "output_type": "stream",
     "text": [
      "1717567826.766151 INFO: Setting FBAModel computed_attributes to mdlutl attributes\n",
      "1717567829.675164 INFO: metabolites 1322\n",
      "1717567830.120926 INFO: reactions 1320\n",
      "1717567831.03484 INFO: Default biomass: [bio1]\n",
      "1717567858.972904 INFO: cpd35610 not found in model!\n",
      "1717567858.973653 CRITICAL: Metabolite cpd35610 not found in model\n",
      "1717567858.994296 INFO: cpd07053 not found in model!\n",
      "1717567858.995224 CRITICAL: Metabolite cpd07053 not found in model\n",
      "1717567858.9958389 INFO: cpd04945 not found in model!\n",
      "1717567858.99664 CRITICAL: Metabolite cpd04945 not found in model\n",
      "1717567859.3973 WARNING: Ignoring reaction 'rxn00704_c0' since it already exists.\n",
      "1717567859.594273 INFO: Setting FBAModel computed_attributes to mdlutl attributes\n",
      "1717567864.003184 INFO: metabolites 1645\n",
      "1717567864.584594 INFO: reactions 1747\n",
      "1717567865.944393 INFO: Default biomass: [bio1]\n",
      "1717567886.195316 INFO: cpd35610 not found in model!\n",
      "1717567886.196059 CRITICAL: Metabolite cpd35610 not found in model\n",
      "1717567886.2174752 INFO: cpd07053 not found in model!\n",
      "1717567886.218389 CRITICAL: Metabolite cpd07053 not found in model\n",
      "1717567886.2189178 INFO: cpd04945 not found in model!\n",
      "1717567886.219746 CRITICAL: Metabolite cpd04945 not found in model\n",
      "1717567886.4704819 INFO: Setting FBAModel computed_attributes to mdlutl attributes\n",
      "1717567889.737993 INFO: metabolites 1784\n",
      "1717567890.5351691 INFO: reactions 2052\n",
      "1717567892.137426 INFO: Default biomass: [bio1]\n",
      "1717567913.509086 INFO: cpd35610 not found in model!\n",
      "1717567913.5099971 CRITICAL: Metabolite cpd35610 not found in model\n",
      "1717567913.5306969 INFO: cpd07053 not found in model!\n",
      "1717567913.53151 CRITICAL: Metabolite cpd07053 not found in model\n",
      "1717567913.5320792 INFO: cpd04945 not found in model!\n",
      "1717567913.5329258 CRITICAL: Metabolite cpd04945 not found in model\n",
      "1717567913.639644 INFO: Setting FBAModel computed_attributes to mdlutl attributes\n",
      "1717567919.507272 INFO: metabolites 1198\n",
      "1717567919.825552 INFO: reactions 1163\n",
      "1717567920.64758 INFO: Default biomass: [bio1]\n",
      "1717567940.424768 INFO: cpd35610 not found in model!\n",
      "1717567940.425545 CRITICAL: Metabolite cpd35610 not found in model\n",
      "1717567940.4458408 INFO: cpd07053 not found in model!\n",
      "1717567940.4467762 CRITICAL: Metabolite cpd07053 not found in model\n",
      "1717567940.447381 INFO: cpd04945 not found in model!\n",
      "1717567940.448141 CRITICAL: Metabolite cpd04945 not found in model\n",
      "1717567940.742273 WARNING: Ignoring reaction 'rxn00949_c0' since it already exists.\n",
      "1717567940.7796102 WARNING: Ignoring reaction 'rxn00278_c0' since it already exists.\n",
      "1717567940.794872 WARNING: Ignoring reaction 'rxn05902_c0' since it already exists.\n",
      "1717567940.851382 INFO: Setting FBAModel computed_attributes to mdlutl attributes\n",
      "1717567943.208856 INFO: metabolites 1121\n",
      "1717567943.526135 INFO: reactions 1141\n",
      "1717567944.2993689 INFO: Default biomass: [bio1]\n",
      "1717567963.294291 INFO: cpd35610 not found in model!\n",
      "1717567963.295093 CRITICAL: Metabolite cpd35610 not found in model\n",
      "1717567963.315704 INFO: cpd07053 not found in model!\n",
      "1717567963.316467 CRITICAL: Metabolite cpd07053 not found in model\n",
      "1717567963.317081 INFO: cpd04945 not found in model!\n",
      "1717567963.317842 CRITICAL: Metabolite cpd04945 not found in model\n",
      "1717567963.597749 INFO: Setting FBAModel computed_attributes to mdlutl attributes\n"
     ]
    },
    {
     "name": "stdout",
     "output_type": "stream",
     "text": [
      "Stenotrophomonas.2 Missing reaction EX_cpd00557_c0 {'>': 0.6165464182664772}\n"
     ]
    },
    {
     "name": "stderr",
     "output_type": "stream",
     "text": [
      "1717567965.891038 INFO: metabolites 1186\n",
      "1717567966.2132769 INFO: reactions 1150\n",
      "1717567966.995019 INFO: Default biomass: [bio1]\n",
      "1717567987.458508 INFO: cpd35610 not found in model!\n",
      "1717567987.459353 CRITICAL: Metabolite cpd35610 not found in model\n",
      "1717567987.481232 INFO: cpd07053 not found in model!\n",
      "1717567987.482003 CRITICAL: Metabolite cpd07053 not found in model\n",
      "1717567987.482622 INFO: cpd04945 not found in model!\n",
      "1717567987.483437 CRITICAL: Metabolite cpd04945 not found in model\n",
      "1717567987.687278 WARNING: Ignoring reaction 'rxn00272_c0' since it already exists.\n",
      "1717567987.9959402 INFO: Setting FBAModel computed_attributes to mdlutl attributes\n",
      "1717567992.416895 INFO: metabolites 1305\n",
      "1717567992.816479 INFO: reactions 1346\n",
      "1717567993.794498 INFO: Default biomass: [bio1]\n",
      "1717568014.544694 INFO: cpd35610 not found in model!\n",
      "1717568014.5454981 CRITICAL: Metabolite cpd35610 not found in model\n",
      "1717568014.567513 INFO: cpd07053 not found in model!\n",
      "1717568014.5683851 CRITICAL: Metabolite cpd07053 not found in model\n",
      "1717568014.5690298 INFO: cpd04945 not found in model!\n",
      "1717568014.569979 CRITICAL: Metabolite cpd04945 not found in model\n",
      "1717568014.6865149 WARNING: Ignoring reaction 'rxn01265_c0' since it already exists.\n",
      "1717568014.749145 WARNING: Ignoring reaction 'rxn00272_c0' since it already exists.\n",
      "1717568015.0310872 INFO: Setting FBAModel computed_attributes to mdlutl attributes\n",
      "1717568018.1879292 INFO: metabolites 1339\n",
      "1717568018.634961 INFO: reactions 1375\n",
      "1717568028.680916 INFO: Default biomass: [bio1]\n",
      "1717568050.633897 INFO: cpd35610 not found in model!\n",
      "1717568050.634824 CRITICAL: Metabolite cpd35610 not found in model\n",
      "1717568050.6581361 INFO: cpd07053 not found in model!\n",
      "1717568050.658988 CRITICAL: Metabolite cpd07053 not found in model\n",
      "1717568050.659656 INFO: cpd04945 not found in model!\n",
      "1717568050.6604118 CRITICAL: Metabolite cpd04945 not found in model\n",
      "1717568050.960074 WARNING: Ignoring reaction 'rxn00145_c0' since it already exists.\n",
      "1717568051.10352 INFO: Setting FBAModel computed_attributes to mdlutl attributes\n",
      "1717568053.785834 INFO: metabolites 1152\n",
      "1717568054.1474292 INFO: reactions 1149\n",
      "1717568055.0600262 INFO: Default biomass: [bio1]\n",
      "1717568077.543481 INFO: cpd35610 not found in model!\n",
      "1717568077.5443158 CRITICAL: Metabolite cpd35610 not found in model\n",
      "1717568077.5678341 INFO: cpd07053 not found in model!\n",
      "1717568077.568799 CRITICAL: Metabolite cpd07053 not found in model\n",
      "1717568077.569462 INFO: cpd04945 not found in model!\n",
      "1717568077.570334 CRITICAL: Metabolite cpd04945 not found in model\n",
      "1717568077.901818 WARNING: Ignoring reaction 'rxn00693_c0' since it already exists.\n",
      "1717568077.9391081 INFO: Setting FBAModel computed_attributes to mdlutl attributes\n",
      "1717568080.493888 INFO: metabolites 1741\n",
      "1717568081.248276 INFO: reactions 1950\n",
      "1717568082.982006 INFO: Default biomass: [bio1]\n",
      "1717568107.508963 INFO: cpd35610 not found in model!\n",
      "1717568107.509948 CRITICAL: Metabolite cpd35610 not found in model\n",
      "1717568107.5361788 INFO: cpd07053 not found in model!\n",
      "1717568107.537174 CRITICAL: Metabolite cpd07053 not found in model\n",
      "1717568107.537956 INFO: cpd04945 not found in model!\n",
      "1717568107.5388649 CRITICAL: Metabolite cpd04945 not found in model\n",
      "1717568107.7181618 INFO: Setting FBAModel computed_attributes to mdlutl attributes\n",
      "1717568111.0037582 INFO: metabolites 1029\n",
      "1717568111.320506 INFO: reactions 984\n",
      "1717568112.1303282 INFO: Default biomass: [bio1]\n",
      "1717568136.812774 INFO: cpd35610 not found in model!\n",
      "1717568136.813689 CRITICAL: Metabolite cpd35610 not found in model\n",
      "1717568136.840342 INFO: cpd07053 not found in model!\n",
      "1717568136.841264 CRITICAL: Metabolite cpd07053 not found in model\n",
      "1717568136.841964 INFO: cpd04945 not found in model!\n",
      "1717568136.8429801 CRITICAL: Metabolite cpd04945 not found in model\n",
      "1717568136.9106612 WARNING: Ignoring reaction 'rxn00251_c0' since it already exists.\n",
      "1717568136.999033 WARNING: Ignoring reaction 'rxn01265_c0' since it already exists.\n",
      "1717568137.405996 WARNING: Ignoring reaction 'rxn00350_c0' since it already exists.\n",
      "1717568137.502079 WARNING: Ignoring reaction 'rxn00467_c0' since it already exists.\n",
      "1717568137.5181649 INFO: Setting FBAModel computed_attributes to mdlutl attributes\n",
      "1717568140.1843042 INFO: metabolites 1294\n",
      "1717568140.692557 INFO: reactions 1278\n",
      "1717568141.9134011 INFO: Default biomass: [bio1]\n",
      "1717568166.997526 INFO: cpd35610 not found in model!\n",
      "1717568166.998427 CRITICAL: Metabolite cpd35610 not found in model\n",
      "1717568167.0231419 INFO: cpd07053 not found in model!\n",
      "1717568167.024111 CRITICAL: Metabolite cpd07053 not found in model\n",
      "1717568167.024766 INFO: cpd04945 not found in model!\n",
      "1717568167.025588 CRITICAL: Metabolite cpd04945 not found in model\n",
      "1717568167.366167 WARNING: Ignoring reaction 'rxn00347_c0' since it already exists.\n",
      "1717568167.508775 INFO: Setting FBAModel computed_attributes to mdlutl attributes\n",
      "1717568171.60256 INFO: metabolites 1178\n",
      "1717568172.072692 INFO: reactions 1168\n",
      "1717568173.0334332 INFO: Default biomass: [bio1]\n",
      "1717568194.9116511 INFO: cpd35610 not found in model!\n",
      "1717568194.9124448 CRITICAL: Metabolite cpd35610 not found in model\n",
      "1717568194.933739 INFO: cpd07053 not found in model!\n",
      "1717568194.934547 CRITICAL: Metabolite cpd07053 not found in model\n",
      "1717568194.93524 INFO: cpd04945 not found in model!\n",
      "1717568194.9360561 CRITICAL: Metabolite cpd04945 not found in model\n",
      "1717568194.977984 WARNING: Ignoring reaction 'rxn09180_c0' since it already exists.\n",
      "1717568195.66362 INFO: Setting FBAModel computed_attributes to mdlutl attributes\n",
      "1717568198.5002398 INFO: metabolites 1286\n",
      "1717568198.8689651 INFO: reactions 1283\n",
      "1717568199.7923682 INFO: Default biomass: [bio1]\n",
      "1717568219.255172 INFO: cpd35610 not found in model!\n",
      "1717568219.255829 CRITICAL: Metabolite cpd35610 not found in model\n",
      "1717568219.273685 INFO: cpd07053 not found in model!\n",
      "1717568219.274506 CRITICAL: Metabolite cpd07053 not found in model\n",
      "1717568219.274996 INFO: cpd04945 not found in model!\n",
      "1717568219.2756832 CRITICAL: Metabolite cpd04945 not found in model\n",
      "1717568219.39134 WARNING: Ignoring reaction 'rxn00910_c0' since it already exists.\n",
      "1717568219.494785 INFO: Setting FBAModel computed_attributes to mdlutl attributes\n",
      "1717568223.9325912 INFO: metabolites 1603\n",
      "1717568224.397069 INFO: reactions 1702\n",
      "1717568225.438302 INFO: Default biomass: [bio1]\n",
      "1717568253.27498 INFO: cpd35610 not found in model!\n",
      "1717568253.2756748 CRITICAL: Metabolite cpd35610 not found in model\n",
      "1717568253.2917771 INFO: cpd07053 not found in model!\n",
      "1717568253.292429 CRITICAL: Metabolite cpd07053 not found in model\n",
      "1717568253.292911 INFO: cpd04945 not found in model!\n",
      "1717568253.293319 CRITICAL: Metabolite cpd04945 not found in model\n",
      "1717568253.4552598 INFO: Setting FBAModel computed_attributes to mdlutl attributes\n"
     ]
    },
    {
     "name": "stdout",
     "output_type": "stream",
     "text": [
      "Bradyrhizobium.1 Missing reaction EX_cpd00557_c0 {'>': 0.9628369125012237}\n"
     ]
    },
    {
     "name": "stderr",
     "output_type": "stream",
     "text": [
      "1717568258.28193 INFO: metabolites 1223\n",
      "1717568258.545429 INFO: reactions 1247\n",
      "1717568259.1915982 INFO: Default biomass: [bio1]\n",
      "1717568274.364608 INFO: cpd35610 not found in model!\n",
      "1717568274.365258 CRITICAL: Metabolite cpd35610 not found in model\n",
      "1717568274.38182 INFO: cpd07053 not found in model!\n",
      "1717568274.382572 CRITICAL: Metabolite cpd07053 not found in model\n",
      "1717568274.383023 INFO: cpd04945 not found in model!\n",
      "1717568274.383447 CRITICAL: Metabolite cpd04945 not found in model\n",
      "1717568274.638222 INFO: Setting FBAModel computed_attributes to mdlutl attributes\n",
      "1717568277.504371 INFO: metabolites 1252\n",
      "1717568277.7556841 INFO: reactions 1237\n",
      "1717568278.429095 INFO: Default biomass: [bio1]\n",
      "1717568293.565026 INFO: cpd35610 not found in model!\n",
      "1717568293.5656059 CRITICAL: Metabolite cpd35610 not found in model\n",
      "1717568293.5798569 INFO: cpd07053 not found in model!\n",
      "1717568293.5805702 CRITICAL: Metabolite cpd07053 not found in model\n",
      "1717568293.5809731 INFO: cpd04945 not found in model!\n",
      "1717568293.581375 CRITICAL: Metabolite cpd04945 not found in model\n",
      "1717568293.604685 WARNING: Ignoring reaction 'rxn12215_c0' since it already exists.\n",
      "1717568293.605645 WARNING: Ignoring reaction 'rxn03052_c0' since it already exists.\n",
      "1717568293.717908 WARNING: Ignoring reaction 'rxn00910_c0' since it already exists.\n",
      "1717568293.7571 INFO: Setting FBAModel computed_attributes to mdlutl attributes\n",
      "1717568296.5368562 INFO: metabolites 1603\n",
      "1717568296.931617 INFO: reactions 1710\n",
      "1717568297.8217769 INFO: Default biomass: [bio1]\n",
      "1717568312.857055 INFO: cpd35610 not found in model!\n",
      "1717568312.857693 CRITICAL: Metabolite cpd35610 not found in model\n",
      "1717568312.87243 INFO: cpd07053 not found in model!\n",
      "1717568312.873112 CRITICAL: Metabolite cpd07053 not found in model\n",
      "1717568312.87357 INFO: cpd04945 not found in model!\n",
      "1717568312.873992 CRITICAL: Metabolite cpd04945 not found in model\n",
      "1717568313.015837 INFO: Setting FBAModel computed_attributes to mdlutl attributes\n",
      "1717568316.869777 INFO: metabolites 1351\n",
      "1717568317.1953 INFO: reactions 1421\n",
      "1717568317.911829 INFO: Default biomass: [bio1]\n",
      "1717568333.4399118 INFO: cpd35610 not found in model!\n",
      "1717568333.440568 CRITICAL: Metabolite cpd35610 not found in model\n",
      "1717568333.455549 INFO: cpd07053 not found in model!\n",
      "1717568333.456357 CRITICAL: Metabolite cpd07053 not found in model\n",
      "1717568333.456797 INFO: cpd04945 not found in model!\n",
      "1717568333.4571588 CRITICAL: Metabolite cpd04945 not found in model\n",
      "1717568333.71342 INFO: Setting FBAModel computed_attributes to mdlutl attributes\n",
      "1717568336.2439291 INFO: metabolites 1465\n",
      "1717568336.564744 INFO: reactions 1489\n",
      "1717568337.3262432 INFO: Default biomass: [bio1]\n",
      "1717568351.859762 INFO: cpd35610 not found in model!\n",
      "1717568351.8604228 CRITICAL: Metabolite cpd35610 not found in model\n",
      "1717568351.8750458 INFO: cpd07053 not found in model!\n",
      "1717568351.875746 CRITICAL: Metabolite cpd07053 not found in model\n",
      "1717568351.876184 INFO: cpd04945 not found in model!\n",
      "1717568351.8765812 CRITICAL: Metabolite cpd04945 not found in model\n",
      "1717568352.084544 INFO: Setting FBAModel computed_attributes to mdlutl attributes\n",
      "1717568355.2444549 INFO: metabolites 1284\n",
      "1717568355.5307908 INFO: reactions 1334\n",
      "1717568356.200313 INFO: Default biomass: [bio1]\n",
      "1717568370.168542 INFO: cpd35610 not found in model!\n",
      "1717568370.169197 CRITICAL: Metabolite cpd35610 not found in model\n",
      "1717568370.183892 INFO: cpd07053 not found in model!\n",
      "1717568370.184582 CRITICAL: Metabolite cpd07053 not found in model\n",
      "1717568370.185036 INFO: cpd04945 not found in model!\n",
      "1717568370.18545 CRITICAL: Metabolite cpd04945 not found in model\n",
      "1717568370.353287 INFO: Setting FBAModel computed_attributes to mdlutl attributes\n"
     ]
    },
    {
     "name": "stdout",
     "output_type": "stream",
     "text": [
      "Methylorubrum.1 Missing reaction EX_cpd00557_c0 {'>': 0.8284330167958402}\n"
     ]
    },
    {
     "name": "stderr",
     "output_type": "stream",
     "text": [
      "1717568372.783854 INFO: metabolites 1166\n",
      "1717568373.02066 INFO: reactions 1159\n",
      "1717568373.592587 INFO: Default biomass: [bio1]\n",
      "1717568388.738427 INFO: cpd35610 not found in model!\n",
      "1717568388.739082 CRITICAL: Metabolite cpd35610 not found in model\n",
      "1717568388.7537842 INFO: cpd07053 not found in model!\n",
      "1717568388.7545931 CRITICAL: Metabolite cpd07053 not found in model\n",
      "1717568388.755079 INFO: cpd04945 not found in model!\n",
      "1717568388.7556758 CRITICAL: Metabolite cpd04945 not found in model\n",
      "1717568389.037351 WARNING: Ignoring reaction 'rxn00502_c0' since it already exists.\n",
      "1717568389.0978339 WARNING: Ignoring reaction 'rxn00350_c0' since it already exists.\n",
      "1717568389.222898 WARNING: Ignoring reaction 'rxn00272_c0' since it already exists.\n"
     ]
    },
    {
     "name": "stdout",
     "output_type": "stream",
     "text": [
      "Robinsoniella.1 Missing reaction EX_cpd00557_c0 {'>': 0.41622246228489584}\n"
     ]
    },
    {
     "name": "stderr",
     "output_type": "stream",
     "text": [
      "1717568389.362014 WARNING: Ignoring reaction 'rxn08669_c0' since it already exists.\n",
      "1717568389.363038 WARNING: Ignoring reaction 'rxn00327_c0' since it already exists.\n",
      "1717568389.363755 WARNING: Ignoring reaction 'rxn01217_c0' since it already exists.\n",
      "1717568389.3645592 WARNING: Ignoring reaction 'rxn01492_c0' since it already exists.\n",
      "1717568389.365331 WARNING: Ignoring reaction 'rxn00313_c0' since it already exists.\n",
      "1717568389.366217 WARNING: Ignoring reaction 'rxn01507_c0' since it already exists.\n",
      "1717568389.366891 WARNING: Ignoring reaction 'rxn00166_c0' since it already exists.\n",
      "1717568389.367842 WARNING: Ignoring reaction 'rxn01737_c0' since it already exists.\n",
      "1717568389.3685498 WARNING: Ignoring reaction 'rxn01304_c0' since it already exists.\n",
      "1717568389.369277 WARNING: Ignoring reaction 'rxn02374_c0' since it already exists.\n",
      "1717568389.3698418 WARNING: Ignoring reaction 'rxn00295_c0' since it already exists.\n",
      "1717568389.49106 INFO: Setting FBAModel computed_attributes to mdlutl attributes\n",
      "1717568392.0273228 INFO: metabolites 1350\n",
      "1717568392.3178968 INFO: reactions 1379\n",
      "1717568393.03531 INFO: Default biomass: [bio1]\n",
      "1717568419.2684999 INFO: cpd35610 not found in model!\n",
      "1717568419.269081 CRITICAL: Metabolite cpd35610 not found in model\n",
      "1717568419.283675 INFO: cpd07053 not found in model!\n",
      "1717568419.2844439 CRITICAL: Metabolite cpd07053 not found in model\n",
      "1717568419.285302 INFO: cpd04945 not found in model!\n",
      "1717568419.28647 CRITICAL: Metabolite cpd04945 not found in model\n",
      "1717568419.45365 WARNING: Ignoring reaction 'rxn05289_c0' since it already exists.\n",
      "1717568419.587735 INFO: Setting FBAModel computed_attributes to mdlutl attributes\n",
      "1717568422.073029 INFO: metabolites 960\n",
      "1717568422.231682 INFO: reactions 892\n",
      "1717568422.631422 INFO: Default biomass: [bio1]\n",
      "1717568435.913451 INFO: cpd35610 not found in model!\n",
      "1717568435.914109 CRITICAL: Metabolite cpd35610 not found in model\n",
      "1717568435.9291341 INFO: cpd07053 not found in model!\n",
      "1717568435.93011 CRITICAL: Metabolite cpd07053 not found in model\n",
      "1717568435.9309702 INFO: cpd04945 not found in model!\n",
      "1717568435.932118 CRITICAL: Metabolite cpd04945 not found in model\n",
      "1717568435.9516318 WARNING: Ignoring reaction 'rxn00362_c0' since it already exists.\n",
      "1717568436.126123 WARNING: Ignoring reaction 'rxn00459_c0' since it already exists.\n",
      "1717568436.215607 WARNING: Ignoring reaction 'rxn00278_c0' since it already exists.\n",
      "1717568436.322558 INFO: Setting FBAModel computed_attributes to mdlutl attributes\n"
     ]
    },
    {
     "name": "stdout",
     "output_type": "stream",
     "text": [
      "Eubacterium.8 Missing reaction EX_cpd00557_c0 {'>': 1.4479757274902485}\n"
     ]
    },
    {
     "name": "stderr",
     "output_type": "stream",
     "text": [
      "1717568439.685628 INFO: metabolites 1156\n",
      "1717568439.888333 INFO: reactions 1058\n",
      "1717568440.361192 INFO: Default biomass: [bio1]\n",
      "1717568455.147711 INFO: cpd35610 not found in model!\n",
      "1717568455.148363 CRITICAL: Metabolite cpd35610 not found in model\n",
      "1717568455.1627479 INFO: cpd07053 not found in model!\n",
      "1717568455.163522 CRITICAL: Metabolite cpd07053 not found in model\n",
      "1717568455.1639931 INFO: cpd04945 not found in model!\n",
      "1717568455.1643891 CRITICAL: Metabolite cpd04945 not found in model\n",
      "1717568455.5656571 INFO: Setting FBAModel computed_attributes to mdlutl attributes\n",
      "1717568457.868441 INFO: metabolites 1111\n",
      "1717568458.0773492 INFO: reactions 1070\n",
      "1717568458.572526 INFO: Default biomass: [bio1]\n",
      "1717568472.004862 INFO: cpd35610 not found in model!\n",
      "1717568472.005491 CRITICAL: Metabolite cpd35610 not found in model\n",
      "1717568472.019885 INFO: cpd07053 not found in model!\n",
      "1717568472.020656 CRITICAL: Metabolite cpd07053 not found in model\n",
      "1717568472.021101 INFO: cpd04945 not found in model!\n",
      "1717568472.021523 CRITICAL: Metabolite cpd04945 not found in model\n",
      "1717568472.2417972 WARNING: Ignoring reaction 'rxn00178_c0' since it already exists.\n",
      "1717568472.243989 WARNING: Ignoring reaction 'rxn02914_c0' since it already exists.\n",
      "1717568472.244904 WARNING: Ignoring reaction 'rxn00430_c0' since it already exists.\n",
      "1717568472.3273962 WARNING: Ignoring reaction 'rxn02519_c0' since it already exists.\n",
      "1717568472.3316019 INFO: Setting FBAModel computed_attributes to mdlutl attributes\n"
     ]
    },
    {
     "name": "stdout",
     "output_type": "stream",
     "text": [
      "Pseudopropionibacterium.1 Missing reaction EX_cpd00557_c0 {'>': 1.0687531902682152}\n"
     ]
    },
    {
     "name": "stderr",
     "output_type": "stream",
     "text": [
      "1717568475.828375 INFO: metabolites 1255\n",
      "1717568476.091116 INFO: reactions 1235\n",
      "1717568476.730262 INFO: Default biomass: [bio1]\n",
      "1717568490.375607 INFO: cpd35610 not found in model!\n",
      "1717568490.37619 CRITICAL: Metabolite cpd35610 not found in model\n",
      "1717568490.390518 INFO: cpd07053 not found in model!\n",
      "1717568490.391454 CRITICAL: Metabolite cpd07053 not found in model\n",
      "1717568490.39242 INFO: cpd04945 not found in model!\n",
      "1717568490.393858 CRITICAL: Metabolite cpd04945 not found in model\n",
      "1717568490.7064629 INFO: Setting FBAModel computed_attributes to mdlutl attributes\n",
      "1717568493.111852 INFO: metabolites 1189\n",
      "1717568493.3445508 INFO: reactions 1171\n",
      "1717568493.92903 INFO: Default biomass: [bio1]\n",
      "1717568508.736612 INFO: cpd35610 not found in model!\n",
      "1717568508.73733 CRITICAL: Metabolite cpd35610 not found in model\n",
      "1717568508.759536 INFO: cpd07053 not found in model!\n",
      "1717568508.851763 CRITICAL: Metabolite cpd07053 not found in model\n",
      "1717568508.855437 INFO: cpd04945 not found in model!\n",
      "1717568508.8608902 CRITICAL: Metabolite cpd04945 not found in model\n",
      "1717568508.950928 WARNING: Ignoring reaction 'rxn01265_c0' since it already exists.\n",
      "1717568509.1848152 INFO: Setting FBAModel computed_attributes to mdlutl attributes\n"
     ]
    },
    {
     "name": "stdout",
     "output_type": "stream",
     "text": [
      "Novosphingobium.1 Missing reaction EX_cpd00557_c0 {'>': 0.7084028371369351}\n"
     ]
    },
    {
     "name": "stderr",
     "output_type": "stream",
     "text": [
      "1717568511.3130581 INFO: metabolites 1213\n",
      "1717568511.5331001 INFO: reactions 1215\n",
      "1717568512.0654342 INFO: Default biomass: [bio1]\n",
      "1717568525.566928 INFO: cpd35610 not found in model!\n",
      "1717568525.567561 CRITICAL: Metabolite cpd35610 not found in model\n",
      "1717568525.5819368 INFO: cpd07053 not found in model!\n",
      "1717568525.5826461 CRITICAL: Metabolite cpd07053 not found in model\n",
      "1717568525.583085 INFO: cpd04945 not found in model!\n",
      "1717568525.583502 CRITICAL: Metabolite cpd04945 not found in model\n",
      "1717568525.606791 WARNING: Ignoring reaction 'rxn12215_c0' since it already exists.\n",
      "1717568525.818024 INFO: Setting FBAModel computed_attributes to mdlutl attributes\n",
      "1717568529.888701 INFO: metabolites 978\n",
      "1717568530.049098 INFO: reactions 954\n",
      "1717568530.459473 INFO: Default biomass: [bio1]\n",
      "1717568543.628124 INFO: cpd35610 not found in model!\n",
      "1717568543.628726 CRITICAL: Metabolite cpd35610 not found in model\n",
      "1717568543.6434639 INFO: cpd07053 not found in model!\n",
      "1717568543.6440918 CRITICAL: Metabolite cpd07053 not found in model\n",
      "1717568543.644533 INFO: cpd04945 not found in model!\n",
      "1717568543.64495 CRITICAL: Metabolite cpd04945 not found in model\n",
      "1717568543.689811 WARNING: Ignoring reaction 'rxn00693_c0' since it already exists.\n",
      "1717568543.70298 WARNING: Ignoring reaction 'rxn09180_c0' since it already exists.\n",
      "1717568543.704003 WARNING: Ignoring reaction 'rxn00520_c0' since it already exists.\n",
      "1717568543.73547 WARNING: Ignoring reaction 'rxn05310_c0' since it already exists.\n",
      "1717568543.773003 WARNING: Ignoring reaction 'rxn00912_c0' since it already exists.\n",
      "1717568543.8524 WARNING: Ignoring reaction 'rxn05561_c0' since it already exists.\n",
      "1717568543.9037309 WARNING: Ignoring reaction 'rxn05634_c0' since it already exists.\n",
      "1717568544.0249012 INFO: Setting FBAModel computed_attributes to mdlutl attributes\n"
     ]
    },
    {
     "name": "stdout",
     "output_type": "stream",
     "text": [
      "Clostridium.33 Missing reaction EX_cpd00557_c0 {'>': 0.6278407854928476}\n"
     ]
    },
    {
     "name": "stderr",
     "output_type": "stream",
     "text": [
      "1717568546.336006 INFO: metabolites 851\n",
      "1717568546.476533 INFO: reactions 796\n",
      "1717568546.8741271 INFO: Default biomass: [bio1]\n",
      "1717568561.241241 INFO: cpd35610 not found in model!\n",
      "1717568561.242236 CRITICAL: Metabolite cpd35610 not found in model\n",
      "1717568561.258995 INFO: cpd07053 not found in model!\n",
      "1717568561.2598138 CRITICAL: Metabolite cpd07053 not found in model\n",
      "1717568561.2603369 INFO: cpd04945 not found in model!\n",
      "1717568561.260959 CRITICAL: Metabolite cpd04945 not found in model\n",
      "1717568561.2769449 WARNING: Ignoring reaction 'rxn00102_c0' since it already exists.\n",
      "1717568561.277805 WARNING: Ignoring reaction 'rxn00260_c0' since it already exists.\n",
      "1717568561.308319 WARNING: Ignoring reaction 'rxn04954_c0' since it already exists.\n",
      "1717568561.3092768 WARNING: Ignoring reaction 'rxn00693_c0' since it already exists.\n",
      "1717568561.3420029 WARNING: Ignoring reaction 'rxn05299_c0' since it already exists.\n",
      "1717568561.375992 WARNING: Ignoring reaction 'rxn05306_c0' since it already exists.\n"
     ]
    },
    {
     "name": "stdout",
     "output_type": "stream",
     "text": [
      "Peptoniphilus.2 Missing reaction EX_cpd00557_c0 {'>': 0.5123456804624388}\n"
     ]
    },
    {
     "name": "stderr",
     "output_type": "stream",
     "text": [
      "1717568561.5287092 WARNING: Ignoring reaction 'rxn00616_c0' since it already exists.\n",
      "1717568561.661966 WARNING: Ignoring reaction 'rxn01048_c0' since it already exists.\n",
      "1717568561.674119 WARNING: Ignoring reaction 'rxn10663_c0' since it already exists.\n",
      "1717568561.710882 WARNING: Ignoring reaction 'rxn13838_c0' since it already exists.\n",
      "1717568561.761652 INFO: Setting FBAModel computed_attributes to mdlutl attributes\n",
      "1717568564.807457 INFO: metabolites 1165\n",
      "1717568565.0299299 INFO: reactions 1070\n",
      "1717568565.592124 INFO: Default biomass: [bio1]\n",
      "1717568580.309637 INFO: cpd35610 not found in model!\n",
      "1717568580.310328 CRITICAL: Metabolite cpd35610 not found in model\n",
      "1717568580.325738 INFO: cpd07053 not found in model!\n",
      "1717568580.326405 CRITICAL: Metabolite cpd07053 not found in model\n",
      "1717568580.3268878 INFO: cpd04945 not found in model!\n",
      "1717568580.327285 CRITICAL: Metabolite cpd04945 not found in model\n",
      "1717568580.4653041 WARNING: Ignoring reaction 'rxn05310_c0' since it already exists.\n",
      "1717568580.505269 WARNING: Ignoring reaction 'rxn05289_c0' since it already exists.\n",
      "1717568580.536159 WARNING: Ignoring reaction 'rxn00347_c0' since it already exists.\n",
      "1717568580.5422049 WARNING: Ignoring reaction 'rxn00272_c0' since it already exists.\n",
      "1717568580.568162 WARNING: Ignoring reaction 'rxn00949_c0' since it already exists.\n",
      "1717568580.637779 INFO: Setting FBAModel computed_attributes to mdlutl attributes\n",
      "1717568583.298542 INFO: metabolites 922\n",
      "1717568583.440913 INFO: reactions 847\n",
      "1717568583.817607 INFO: Default biomass: [bio1]\n",
      "1717568611.361948 INFO: cpd35610 not found in model!\n",
      "1717568611.3624809 CRITICAL: Metabolite cpd35610 not found in model\n",
      "1717568611.3777978 INFO: cpd07053 not found in model!\n",
      "1717568611.379036 CRITICAL: Metabolite cpd07053 not found in model\n",
      "1717568611.380457 INFO: cpd04945 not found in model!\n",
      "1717568611.3816068 CRITICAL: Metabolite cpd04945 not found in model\n",
      "1717568611.4045959 WARNING: Ignoring reaction 'rxn00191_c0' since it already exists.\n",
      "1717568611.6987488 INFO: Setting FBAModel computed_attributes to mdlutl attributes\n",
      "1717568613.839711 INFO: metabolites 941\n",
      "1717568613.983289 INFO: reactions 879\n",
      "1717568614.372805 INFO: Default biomass: [bio1]\n",
      "1717568627.867475 INFO: cpd35610 not found in model!\n",
      "1717568627.8680692 CRITICAL: Metabolite cpd35610 not found in model\n",
      "1717568627.882541 INFO: cpd07053 not found in model!\n",
      "1717568627.883476 CRITICAL: Metabolite cpd07053 not found in model\n",
      "1717568627.8840792 INFO: cpd04945 not found in model!\n",
      "1717568627.885211 CRITICAL: Metabolite cpd04945 not found in model\n",
      "1717568628.130122 WARNING: Ignoring reaction 'rxn10663_c0' since it already exists.\n",
      "1717568628.1659079 INFO: Setting FBAModel computed_attributes to mdlutl attributes\n",
      "1717568631.006346 INFO: metabolites 1629\n",
      "1717568631.382668 INFO: reactions 1740\n",
      "1717568632.168121 INFO: Default biomass: [bio1]\n",
      "1717568645.954036 INFO: cpd35610 not found in model!\n",
      "1717568645.954688 CRITICAL: Metabolite cpd35610 not found in model\n",
      "1717568645.9695208 INFO: cpd07053 not found in model!\n",
      "1717568645.97011 CRITICAL: Metabolite cpd07053 not found in model\n",
      "1717568645.97051 INFO: cpd04945 not found in model!\n",
      "1717568645.970979 CRITICAL: Metabolite cpd04945 not found in model\n",
      "1717568646.1516328 INFO: Setting FBAModel computed_attributes to mdlutl attributes\n",
      "1717568650.190311 INFO: metabolites 1436\n",
      "1717568650.516129 INFO: reactions 1476\n",
      "1717568651.2756329 INFO: Default biomass: [bio1]\n",
      "1717568665.2457988 INFO: cpd35610 not found in model!\n",
      "1717568665.246434 CRITICAL: Metabolite cpd35610 not found in model\n",
      "1717568665.2591949 INFO: cpd07053 not found in model!\n",
      "1717568665.259965 CRITICAL: Metabolite cpd07053 not found in model\n",
      "1717568665.260858 INFO: cpd04945 not found in model!\n",
      "1717568665.2622 CRITICAL: Metabolite cpd04945 not found in model\n"
     ]
    },
    {
     "name": "stdout",
     "output_type": "stream",
     "text": [
      "Clostridium.7 Missing reaction EX_cpd00557_c0 {'>': 0.7342995904655873}\n"
     ]
    },
    {
     "name": "stderr",
     "output_type": "stream",
     "text": [
      "1717568665.6601799 INFO: Setting FBAModel computed_attributes to mdlutl attributes\n",
      "1717568668.0872169 INFO: metabolites 1195\n",
      "1717568668.295637 INFO: reactions 1191\n",
      "1717568668.81509 INFO: Default biomass: [bio1]\n",
      "1717568683.309751 INFO: cpd35610 not found in model!\n",
      "1717568683.310393 CRITICAL: Metabolite cpd35610 not found in model\n",
      "1717568683.325027 INFO: cpd07053 not found in model!\n",
      "1717568683.32567 CRITICAL: Metabolite cpd07053 not found in model\n",
      "1717568683.3261492 INFO: cpd04945 not found in model!\n",
      "1717568683.3266199 CRITICAL: Metabolite cpd04945 not found in model\n",
      "1717568683.600252 WARNING: Ignoring reaction 'rxn00350_c0' since it already exists.\n"
     ]
    },
    {
     "name": "stdout",
     "output_type": "stream",
     "text": [
      "Clostridium.9 Missing reaction EX_cpd00557_c0 {'>': 0.622422516101661}\n"
     ]
    },
    {
     "name": "stderr",
     "output_type": "stream",
     "text": [
      "1717568683.854336 INFO: Setting FBAModel computed_attributes to mdlutl attributes\n",
      "1717568687.2623968 INFO: metabolites 1450\n",
      "1717568687.542986 INFO: reactions 1523\n",
      "1717568688.219177 INFO: Default biomass: [bio1]\n",
      "1717568701.793241 INFO: cpd35610 not found in model!\n",
      "1717568701.793868 CRITICAL: Metabolite cpd35610 not found in model\n",
      "1717568701.807233 INFO: cpd07053 not found in model!\n",
      "1717568701.808158 CRITICAL: Metabolite cpd07053 not found in model\n",
      "1717568701.809001 INFO: cpd04945 not found in model!\n",
      "1717568701.810082 CRITICAL: Metabolite cpd04945 not found in model\n",
      "1717568701.975071 WARNING: Ignoring reaction 'rxn00350_c0' since it already exists.\n",
      "1717568702.060396 WARNING: Ignoring reaction 'rxn13753_c0' since it already exists.\n",
      "1717568702.1220329 WARNING: Ignoring reaction 'rxn09180_c0' since it already exists.\n"
     ]
    },
    {
     "name": "stdout",
     "output_type": "stream",
     "text": [
      "Eubacterium.4 Missing reaction EX_cpd00557_c0 {'>': 0.3520390406531363}\n"
     ]
    },
    {
     "name": "stderr",
     "output_type": "stream",
     "text": [
      "1717568702.239264 INFO: Setting FBAModel computed_attributes to mdlutl attributes\n",
      "1717568705.7799911 INFO: metabolites 1393\n",
      "1717568706.059551 INFO: reactions 1434\n",
      "1717568706.694453 INFO: Default biomass: [bio1]\n",
      "1717568721.304076 INFO: cpd35610 not found in model!\n",
      "1717568721.304689 CRITICAL: Metabolite cpd35610 not found in model\n",
      "1717568721.3182368 INFO: cpd07053 not found in model!\n",
      "1717568721.31895 CRITICAL: Metabolite cpd07053 not found in model\n",
      "1717568721.319766 INFO: cpd04945 not found in model!\n",
      "1717568721.321045 CRITICAL: Metabolite cpd04945 not found in model\n",
      "1717568721.506839 INFO: Setting FBAModel computed_attributes to mdlutl attributes\n"
     ]
    },
    {
     "name": "stdout",
     "output_type": "stream",
     "text": [
      "Methylobacterium.1 Missing reaction EX_cpd00557_c0 {'>': 0.6122928929316438}\n"
     ]
    },
    {
     "name": "stderr",
     "output_type": "stream",
     "text": [
      "1717568723.945426 INFO: metabolites 987\n",
      "1717568724.093763 INFO: reactions 907\n",
      "1717568724.500314 INFO: Default biomass: [bio1]\n",
      "1717568738.283832 INFO: cpd35610 not found in model!\n",
      "1717568738.284427 CRITICAL: Metabolite cpd35610 not found in model\n",
      "1717568738.299208 INFO: cpd07053 not found in model!\n",
      "1717568738.2998679 CRITICAL: Metabolite cpd07053 not found in model\n",
      "1717568738.300373 INFO: cpd04945 not found in model!\n",
      "1717568738.3008158 CRITICAL: Metabolite cpd04945 not found in model\n",
      "1717568738.307564 WARNING: Ignoring reaction 'rxn00102_c0' since it already exists.\n",
      "1717568738.3507252 WARNING: Ignoring reaction 'rxn09690_c0' since it already exists.\n",
      "1717568738.382387 WARNING: Ignoring reaction 'rxn05244_c0' since it already exists.\n",
      "1717568738.404798 WARNING: Ignoring reaction 'rxn01265_c0' since it already exists.\n",
      "1717568738.55307 WARNING: Ignoring reaction 'rxn00467_c0' since it already exists.\n",
      "1717568738.687893 WARNING: Ignoring reaction 'rxn00520_c0' since it already exists.\n",
      "1717568738.701417 WARNING: Ignoring reaction 'rxn00178_c0' since it already exists.\n",
      "1717568738.798283 INFO: Setting FBAModel computed_attributes to mdlutl attributes\n",
      "1717568741.732942 INFO: metabolites 1445\n",
      "1717568742.065164 INFO: reactions 1495\n",
      "1717568742.8319201 INFO: Default biomass: [bio1]\n",
      "1717568756.6917582 INFO: cpd35610 not found in model!\n",
      "1717568756.69237 CRITICAL: Metabolite cpd35610 not found in model\n",
      "1717568756.710667 INFO: cpd07053 not found in model!\n",
      "1717568756.711429 CRITICAL: Metabolite cpd07053 not found in model\n",
      "1717568756.711982 INFO: cpd04945 not found in model!\n",
      "1717568756.712862 CRITICAL: Metabolite cpd04945 not found in model\n",
      "1717568756.89331 WARNING: Ignoring reaction 'rxn00350_c0' since it already exists.\n",
      "1717568757.052386 INFO: Setting FBAModel computed_attributes to mdlutl attributes\n",
      "1717568759.9672031 INFO: metabolites 1248\n",
      "1717568760.216285 INFO: reactions 1262\n",
      "1717568760.8012009 INFO: Default biomass: [bio1]\n",
      "1717568774.853929 INFO: cpd35610 not found in model!\n",
      "1717568774.8545659 CRITICAL: Metabolite cpd35610 not found in model\n",
      "1717568774.86896 INFO: cpd07053 not found in model!\n",
      "1717568774.869695 CRITICAL: Metabolite cpd07053 not found in model\n",
      "1717568774.870136 INFO: cpd04945 not found in model!\n",
      "1717568774.870534 CRITICAL: Metabolite cpd04945 not found in model\n",
      "1717568774.896626 WARNING: Ignoring reaction 'rxn09690_c0' since it already exists.\n",
      "1717568774.963715 WARNING: Ignoring reaction 'rxn12215_c0' since it already exists.\n",
      "1717568775.205986 INFO: Setting FBAModel computed_attributes to mdlutl attributes\n",
      "1717568777.8968189 INFO: metabolites 1164\n",
      "1717568778.101634 INFO: reactions 1131\n",
      "1717568778.583626 INFO: Default biomass: [bio1]\n",
      "1717568791.3958888 INFO: cpd35610 not found in model!\n",
      "1717568791.39648 CRITICAL: Metabolite cpd35610 not found in model\n",
      "1717568791.4095669 INFO: cpd07053 not found in model!\n",
      "1717568791.410389 CRITICAL: Metabolite cpd07053 not found in model\n",
      "1717568791.411219 INFO: cpd04945 not found in model!\n",
      "1717568791.4125881 CRITICAL: Metabolite cpd04945 not found in model\n",
      "1717568791.485046 WARNING: Ignoring reaction 'rxn01265_c0' since it already exists.\n",
      "1717568791.76638 INFO: Setting FBAModel computed_attributes to mdlutl attributes\n",
      "1717568796.0376441 INFO: metabolites 972\n",
      "1717568796.1988559 INFO: reactions 938\n",
      "1717568796.608052 INFO: Default biomass: [bio1]\n",
      "1717568810.781706 INFO: cpd35610 not found in model!\n",
      "1717568810.782401 CRITICAL: Metabolite cpd35610 not found in model\n",
      "1717568810.796994 INFO: cpd07053 not found in model!\n",
      "1717568810.7977118 CRITICAL: Metabolite cpd07053 not found in model\n",
      "1717568810.798156 INFO: cpd04945 not found in model!\n",
      "1717568810.798593 CRITICAL: Metabolite cpd04945 not found in model\n",
      "1717568810.8304698 WARNING: Ignoring reaction 'rxn05299_c0' since it already exists.\n",
      "1717568810.9413152 WARNING: Ignoring reaction 'rxn09180_c0' since it already exists.\n",
      "1717568811.0619578 WARNING: Ignoring reaction 'rxn05561_c0' since it already exists.\n",
      "1717568811.103931 INFO: Setting FBAModel computed_attributes to mdlutl attributes\n"
     ]
    },
    {
     "name": "stdout",
     "output_type": "stream",
     "text": [
      "Streptococcus.3 Missing reaction EX_cpd00557_c0 {'>': 1.2959157676168467}\n"
     ]
    },
    {
     "name": "stderr",
     "output_type": "stream",
     "text": [
      "1717568813.40196 INFO: metabolites 1151\n",
      "1717568829.6343832 INFO: reactions 1091\n",
      "1717568830.1404648 INFO: Default biomass: [bio1]\n",
      "1717568843.424117 INFO: cpd35610 not found in model!\n",
      "1717568843.424761 CRITICAL: Metabolite cpd35610 not found in model\n",
      "1717568843.438316 INFO: cpd07053 not found in model!\n",
      "1717568843.4392068 CRITICAL: Metabolite cpd07053 not found in model\n",
      "1717568843.439847 INFO: cpd04945 not found in model!\n",
      "1717568843.441194 CRITICAL: Metabolite cpd04945 not found in model\n",
      "1717568843.5924742 WARNING: Ignoring reaction 'rxn07847_c0' since it already exists.\n",
      "1717568843.798107 INFO: Setting FBAModel computed_attributes to mdlutl attributes\n",
      "1717568846.896692 INFO: metabolites 978\n",
      "1717568847.063295 INFO: reactions 950\n",
      "1717568847.493661 INFO: Default biomass: [bio1]\n",
      "1717568860.281698 INFO: cpd35610 not found in model!\n",
      "1717568860.2822442 CRITICAL: Metabolite cpd35610 not found in model\n",
      "1717568860.295305 INFO: cpd07053 not found in model!\n",
      "1717568860.29601 CRITICAL: Metabolite cpd07053 not found in model\n",
      "1717568860.296768 INFO: cpd04945 not found in model!\n",
      "1717568860.298073 CRITICAL: Metabolite cpd04945 not found in model\n",
      "1717568860.353962 WARNING: Ignoring reaction 'rxn05299_c0' since it already exists.\n",
      "1717568860.485437 WARNING: Ignoring reaction 'rxn00467_c0' since it already exists.\n",
      "1717568860.5269399 WARNING: Ignoring reaction 'rxn00430_c0' since it already exists.\n",
      "1717568860.5376709 WARNING: Ignoring reaction 'rxn00278_c0' since it already exists.\n",
      "1717568860.579948 INFO: Setting FBAModel computed_attributes to mdlutl attributes\n"
     ]
    },
    {
     "name": "stdout",
     "output_type": "stream",
     "text": [
      "Kytococcus.1 Missing reaction EX_cpd00557_c0 {'>': 0.5175813305638062}\n"
     ]
    },
    {
     "name": "stderr",
     "output_type": "stream",
     "text": [
      "1717568863.382693 INFO: metabolites 1348\n",
      "1717568863.638596 INFO: reactions 1381\n",
      "1717568864.321347 INFO: Default biomass: [bio1]\n",
      "1717568877.744255 INFO: cpd35610 not found in model!\n",
      "1717568877.744894 CRITICAL: Metabolite cpd35610 not found in model\n",
      "1717568877.759507 INFO: cpd07053 not found in model!\n",
      "1717568877.760226 CRITICAL: Metabolite cpd07053 not found in model\n",
      "1717568877.76067 INFO: cpd04945 not found in model!\n",
      "1717568877.7610781 CRITICAL: Metabolite cpd04945 not found in model\n",
      "1717568877.806643 WARNING: Ignoring reaction 'rxn00260_c0' since it already exists.\n",
      "1717568877.932926 WARNING: Ignoring reaction 'rxn09180_c0' since it already exists.\n",
      "1717568878.0299299 INFO: Setting FBAModel computed_attributes to mdlutl attributes\n",
      "1717568881.148732 INFO: metabolites 1011\n",
      "1717568881.3347561 INFO: reactions 969\n",
      "1717568881.8232388 INFO: Default biomass: [bio1]\n",
      "1717568895.88887 INFO: cpd35610 not found in model!\n",
      "1717568895.889505 CRITICAL: Metabolite cpd35610 not found in model\n",
      "1717568895.9040692 INFO: cpd07053 not found in model!\n",
      "1717568895.9047549 CRITICAL: Metabolite cpd07053 not found in model\n",
      "1717568895.905162 INFO: cpd04945 not found in model!\n",
      "1717568895.905547 CRITICAL: Metabolite cpd04945 not found in model\n",
      "1717568895.9124858 WARNING: Ignoring reaction 'rxn00251_c0' since it already exists.\n",
      "1717568895.979902 WARNING: Ignoring reaction 'rxn00953_c0' since it already exists.\n",
      "1717568896.0436869 WARNING: Ignoring reaction 'rxn00520_c0' since it already exists.\n",
      "1717568896.141147 WARNING: Ignoring reaction 'rxn09657_c0' since it already exists.\n"
     ]
    },
    {
     "name": "stdout",
     "output_type": "stream",
     "text": [
      "Clostridium.20 Missing reaction EX_cpd00557_c0 {'>': 1.0460829958021427, '<': 2.3079912523069623}\n"
     ]
    },
    {
     "name": "stderr",
     "output_type": "stream",
     "text": [
      "1717568896.289261 WARNING: Ignoring reaction 'rxn00350_c0' since it already exists.\n",
      "1717568896.3846788 WARNING: Ignoring reaction 'rxn00272_c0' since it already exists.\n",
      "1717568896.542872 INFO: Setting FBAModel computed_attributes to mdlutl attributes\n",
      "1717568899.391443 INFO: metabolites 1166\n",
      "1717568899.629153 INFO: reactions 1153\n",
      "1717568900.2223191 INFO: Default biomass: [bio1]\n",
      "1717568913.710785 INFO: cpd35610 not found in model!\n",
      "1717568913.711373 CRITICAL: Metabolite cpd35610 not found in model\n",
      "1717568913.726283 INFO: cpd07053 not found in model!\n",
      "1717568913.7272298 CRITICAL: Metabolite cpd07053 not found in model\n",
      "1717568913.728456 INFO: cpd04945 not found in model!\n",
      "1717568913.729763 CRITICAL: Metabolite cpd04945 not found in model\n",
      "1717568913.848119 WARNING: Ignoring reaction 'rxn05211_c0' since it already exists.\n",
      "1717568913.9795158 INFO: Setting FBAModel computed_attributes to mdlutl attributes\n"
     ]
    },
    {
     "name": "stdout",
     "output_type": "stream",
     "text": [
      "Nocardioides.1 Missing reaction EX_cpd00557_c0 {'>': 0.6921627831630992}\n"
     ]
    },
    {
     "name": "stderr",
     "output_type": "stream",
     "text": [
      "1717568917.526874 INFO: metabolites 1113\n",
      "1717568917.75232 INFO: reactions 1111\n",
      "1717568918.295879 INFO: Default biomass: [bio1]\n",
      "1717568932.2481 INFO: cpd35610 not found in model!\n",
      "1717568932.248735 CRITICAL: Metabolite cpd35610 not found in model\n",
      "1717568932.2637599 INFO: cpd07053 not found in model!\n",
      "1717568932.264561 CRITICAL: Metabolite cpd07053 not found in model\n",
      "1717568932.26504 INFO: cpd04945 not found in model!\n",
      "1717568932.265541 CRITICAL: Metabolite cpd04945 not found in model\n",
      "1717568932.597832 INFO: Setting FBAModel computed_attributes to mdlutl attributes\n",
      "1717568935.129195 INFO: metabolites 1695\n",
      "1717568935.55148 INFO: reactions 1826\n",
      "1717568936.491303 INFO: Default biomass: [bio1]\n",
      "1717568950.534074 INFO: cpd35610 not found in model!\n",
      "1717568950.53461 CRITICAL: Metabolite cpd35610 not found in model\n",
      "1717568950.547976 INFO: cpd07053 not found in model!\n",
      "1717568950.5485802 CRITICAL: Metabolite cpd07053 not found in model\n",
      "1717568950.5493279 INFO: cpd04945 not found in model!\n",
      "1717568950.5507 CRITICAL: Metabolite cpd04945 not found in model\n",
      "1717568950.682251 INFO: Setting FBAModel computed_attributes to mdlutl attributes\n",
      "1717568953.501893 INFO: metabolites 891\n",
      "1717568953.6519418 INFO: reactions 838\n",
      "1717568954.0152252 INFO: Default biomass: [bio1]\n",
      "1717568967.411367 INFO: cpd35610 not found in model!\n",
      "1717568967.412009 CRITICAL: Metabolite cpd35610 not found in model\n",
      "1717568967.426572 INFO: cpd07053 not found in model!\n",
      "1717568967.4271731 CRITICAL: Metabolite cpd07053 not found in model\n",
      "1717568967.427613 INFO: cpd04945 not found in model!\n",
      "1717568967.428015 CRITICAL: Metabolite cpd04945 not found in model\n",
      "1717568967.4703271 WARNING: Ignoring reaction 'rxn00503_c0' since it already exists.\n",
      "1717568967.544033 WARNING: Ignoring reaction 'rxn00251_c0' since it already exists.\n",
      "1717568967.557826 WARNING: Ignoring reaction 'rxn00520_c0' since it already exists.\n",
      "1717568967.562732 WARNING: Ignoring reaction 'rxn05300_c0' since it already exists.\n",
      "1717568967.590098 WARNING: Ignoring reaction 'rxn00278_c0' since it already exists.\n",
      "1717568967.722302 WARNING: Ignoring reaction 'rxn10124_c0' since it already exists.\n",
      "1717568967.778275 WARNING: Ignoring reaction 'rxn00350_c0' since it already exists.\n"
     ]
    },
    {
     "name": "stdout",
     "output_type": "stream",
     "text": [
      "Mycobacterium.1 Missing reaction EX_cpd00557_c0 {'>': 0.8118675045667703}\n"
     ]
    },
    {
     "name": "stderr",
     "output_type": "stream",
     "text": [
      "1717568968.036716 INFO: Setting FBAModel computed_attributes to mdlutl attributes\n",
      "1717568970.364018 INFO: metabolites 1291\n",
      "1717568970.649361 INFO: reactions 1304\n",
      "1717568971.320205 INFO: Default biomass: [bio1]\n",
      "1717568985.448592 INFO: cpd35610 not found in model!\n",
      "1717568985.449163 CRITICAL: Metabolite cpd35610 not found in model\n",
      "1717568985.462698 INFO: cpd07053 not found in model!\n",
      "1717568985.464024 CRITICAL: Metabolite cpd07053 not found in model\n",
      "1717568985.465138 INFO: cpd04945 not found in model!\n",
      "1717568985.466072 CRITICAL: Metabolite cpd04945 not found in model\n",
      "1717568985.667964 INFO: Setting FBAModel computed_attributes to mdlutl attributes\n"
     ]
    },
    {
     "name": "stdout",
     "output_type": "stream",
     "text": [
      "Bosea.1 Missing reaction EX_cpd00557_c0 {'>': 0.3135398044432388}\n"
     ]
    },
    {
     "name": "stderr",
     "output_type": "stream",
     "text": [
      "1717568989.0597491 INFO: metabolites 1453\n",
      "1717568989.360626 INFO: reactions 1516\n",
      "1717568990.054092 INFO: Default biomass: [bio1]\n",
      "1717569003.761893 INFO: cpd35610 not found in model!\n",
      "1717569003.762555 CRITICAL: Metabolite cpd35610 not found in model\n",
      "1717569003.778202 INFO: cpd07053 not found in model!\n",
      "1717569003.77902 CRITICAL: Metabolite cpd07053 not found in model\n",
      "1717569003.779466 INFO: cpd04945 not found in model!\n",
      "1717569003.779847 CRITICAL: Metabolite cpd04945 not found in model\n",
      "1717569004.127318 WARNING: Ignoring reaction 'rxn10052_c0' since it already exists.\n",
      "1717569004.1344461 INFO: Setting FBAModel computed_attributes to mdlutl attributes\n",
      "1717569009.3422878 INFO: metabolites 1678\n",
      "1717569009.686464 INFO: reactions 1779\n",
      "1717569010.4791749 INFO: Default biomass: [bio1]\n",
      "1717569023.517596 INFO: cpd35610 not found in model!\n",
      "1717569023.518189 CRITICAL: Metabolite cpd35610 not found in model\n",
      "1717569023.5321379 INFO: cpd07053 not found in model!\n",
      "1717569023.533325 CRITICAL: Metabolite cpd07053 not found in model\n",
      "1717569023.534527 INFO: cpd04945 not found in model!\n",
      "1717569023.5353951 CRITICAL: Metabolite cpd04945 not found in model\n",
      "1717569023.708643 INFO: Setting FBAModel computed_attributes to mdlutl attributes\n",
      "1717569026.490129 INFO: metabolites 1311\n",
      "1717569026.715925 INFO: reactions 1276\n",
      "1717569027.2908769 INFO: Default biomass: [bio1]\n",
      "1717569041.019079 INFO: cpd35610 not found in model!\n",
      "1717569041.019665 CRITICAL: Metabolite cpd35610 not found in model\n",
      "1717569041.0352268 INFO: cpd07053 not found in model!\n",
      "1717569041.036025 CRITICAL: Metabolite cpd07053 not found in model\n",
      "1717569041.036913 INFO: cpd04945 not found in model!\n",
      "1717569041.037994 CRITICAL: Metabolite cpd04945 not found in model\n",
      "1717569041.272897 WARNING: Ignoring reaction 'rxn01261_c0' since it already exists.\n",
      "1717569041.3072588 INFO: Setting FBAModel computed_attributes to mdlutl attributes\n",
      "1717569043.786894 INFO: metabolites 1194\n",
      "1717569044.005375 INFO: reactions 1193\n",
      "1717569044.539041 INFO: Default biomass: [bio1]\n",
      "1717569058.613502 INFO: cpd35610 not found in model!\n",
      "1717569058.614083 CRITICAL: Metabolite cpd35610 not found in model\n",
      "1717569058.627912 INFO: cpd07053 not found in model!\n",
      "1717569058.6288419 CRITICAL: Metabolite cpd07053 not found in model\n",
      "1717569058.629807 INFO: cpd04945 not found in model!\n",
      "1717569058.630804 CRITICAL: Metabolite cpd04945 not found in model\n",
      "1717569058.8229 WARNING: Ignoring reaction 'rxn00704_c0' since it already exists.\n",
      "1717569058.850537 WARNING: Ignoring reaction 'rxn09180_c0' since it already exists.\n",
      "1717569058.919297 INFO: Setting FBAModel computed_attributes to mdlutl attributes\n",
      "1717569061.355407 INFO: metabolites 1178\n",
      "1717569079.677803 INFO: reactions 1225\n",
      "1717569080.2087831 INFO: Default biomass: [bio1]\n",
      "1717569093.2968152 INFO: cpd35610 not found in model!\n",
      "1717569093.297447 CRITICAL: Metabolite cpd35610 not found in model\n",
      "1717569093.31477 INFO: cpd07053 not found in model!\n",
      "1717569093.315774 CRITICAL: Metabolite cpd07053 not found in model\n",
      "1717569093.316231 INFO: cpd04945 not found in model!\n",
      "1717569093.316847 CRITICAL: Metabolite cpd04945 not found in model\n",
      "1717569093.516004 INFO: Setting FBAModel computed_attributes to mdlutl attributes\n",
      "1717569096.436553 INFO: metabolites 1174\n",
      "1717569096.636595 INFO: reactions 1167\n",
      "1717569097.145926 INFO: Default biomass: [bio1]\n",
      "1717569110.3772612 INFO: cpd35610 not found in model!\n",
      "1717569110.37791 CRITICAL: Metabolite cpd35610 not found in model\n",
      "1717569110.393302 INFO: cpd07053 not found in model!\n",
      "1717569110.394131 CRITICAL: Metabolite cpd07053 not found in model\n",
      "1717569110.394884 INFO: cpd04945 not found in model!\n",
      "1717569110.395967 CRITICAL: Metabolite cpd04945 not found in model\n",
      "1717569110.441424 WARNING: Ignoring reaction 'rxn00949_c0' since it already exists.\n",
      "1717569110.5015512 WARNING: Ignoring reaction 'rxn00501_c0' since it already exists.\n",
      "1717569110.502371 WARNING: Ignoring reaction 'rxn00656_c0' since it already exists.\n",
      "1717569110.502945 WARNING: Ignoring reaction 'rxn00912_c0' since it already exists.\n",
      "1717569110.629799 WARNING: Ignoring reaction 'rxn00704_c0' since it already exists.\n",
      "1717569110.659217 INFO: Setting FBAModel computed_attributes to mdlutl attributes\n",
      "1717569113.13402 INFO: metabolites 1524\n",
      "1717569113.445142 INFO: reactions 1611\n",
      "1717569114.161504 INFO: Default biomass: [bio1]\n",
      "1717569127.6069918 INFO: cpd35610 not found in model!\n",
      "1717569127.607587 CRITICAL: Metabolite cpd35610 not found in model\n",
      "1717569127.622358 INFO: cpd07053 not found in model!\n",
      "1717569127.6230469 CRITICAL: Metabolite cpd07053 not found in model\n",
      "1717569127.623838 INFO: cpd04945 not found in model!\n",
      "1717569127.624767 CRITICAL: Metabolite cpd04945 not found in model\n",
      "1717569127.8278232 INFO: Setting FBAModel computed_attributes to mdlutl attributes\n",
      "1717569131.936747 INFO: metabolites 1146\n",
      "1717569132.1260538 INFO: reactions 1135\n",
      "1717569132.612997 INFO: Default biomass: [bio1]\n",
      "1717569145.515059 INFO: cpd35610 not found in model!\n",
      "1717569145.515705 CRITICAL: Metabolite cpd35610 not found in model\n",
      "1717569145.528783 INFO: cpd07053 not found in model!\n",
      "1717569145.529404 CRITICAL: Metabolite cpd07053 not found in model\n",
      "1717569145.5301719 INFO: cpd04945 not found in model!\n",
      "1717569145.531334 CRITICAL: Metabolite cpd04945 not found in model\n",
      "1717569145.748336 WARNING: Ignoring reaction 'rxn00350_c0' since it already exists.\n",
      "1717569145.805768 WARNING: Ignoring reaction 'rxn00551_c0' since it already exists.\n",
      "1717569145.957303 INFO: Setting FBAModel computed_attributes to mdlutl attributes\n",
      "1717569148.364374 INFO: metabolites 1026\n",
      "1717569148.533061 INFO: reactions 995\n",
      "1717569148.973402 INFO: Default biomass: [bio1]\n",
      "1717569162.528391 INFO: cpd35610 not found in model!\n",
      "1717569162.529048 CRITICAL: Metabolite cpd35610 not found in model\n",
      "1717569162.543941 INFO: cpd07053 not found in model!\n",
      "1717569162.54481 CRITICAL: Metabolite cpd07053 not found in model\n",
      "1717569162.5456371 INFO: cpd04945 not found in model!\n",
      "1717569162.546877 CRITICAL: Metabolite cpd04945 not found in model\n",
      "1717569162.556305 WARNING: Ignoring reaction 'rxn00520_c0' since it already exists.\n",
      "1717569162.602331 WARNING: Ignoring reaction 'rxn00949_c0' since it already exists.\n",
      "1717569162.6283882 WARNING: Ignoring reaction 'rxn02229_c0' since it already exists.\n",
      "1717569162.651068 WARNING: Ignoring reaction 'rxn00198_c0' since it already exists.\n",
      "1717569162.678087 WARNING: Ignoring reaction 'rxn00272_c0' since it already exists.\n",
      "1717569162.735608 WARNING: Ignoring reaction 'rxn05289_c0' since it already exists.\n",
      "1717569162.772748 WARNING: Ignoring reaction 'rxn09180_c0' since it already exists.\n"
     ]
    },
    {
     "name": "stdout",
     "output_type": "stream",
     "text": [
      "Erysipelotrichaceae.2 Missing reaction EX_cpd00557_c0 {'>': 1.262101967406568}\n"
     ]
    },
    {
     "name": "stderr",
     "output_type": "stream",
     "text": [
      "1717569162.912525 INFO: Setting FBAModel computed_attributes to mdlutl attributes\n",
      "1717569166.197954 INFO: metabolites 1063\n",
      "1717569166.382068 INFO: reactions 1040\n",
      "1717569166.8460002 INFO: Default biomass: [bio1]\n",
      "1717569180.328657 INFO: cpd35610 not found in model!\n",
      "1717569180.3292968 CRITICAL: Metabolite cpd35610 not found in model\n",
      "1717569180.344123 INFO: cpd07053 not found in model!\n",
      "1717569180.344867 CRITICAL: Metabolite cpd07053 not found in model\n",
      "1717569180.345314 INFO: cpd04945 not found in model!\n",
      "1717569180.34571 CRITICAL: Metabolite cpd04945 not found in model\n",
      "1717569180.379092 WARNING: Ignoring reaction 'rxn05244_c0' since it already exists.\n",
      "1717569180.379989 WARNING: Ignoring reaction 'rxn09180_c0' since it already exists.\n",
      "1717569180.402966 WARNING: Ignoring reaction 'rxn05299_c0' since it already exists.\n",
      "1717569180.491372 WARNING: Ignoring reaction 'rxn05669_c0' since it already exists.\n",
      "1717569180.581022 WARNING: Ignoring reaction 'rxn05561_c0' since it already exists.\n",
      "1717569180.6889899 WARNING: Ignoring reaction 'rxn09231_c0' since it already exists.\n",
      "1717569180.689903 WARNING: Ignoring reaction 'rxn08168_c0' since it already exists.\n",
      "1717569180.690531 WARNING: Ignoring reaction 'rxn00520_c0' since it already exists.\n",
      "1717569180.6913128 WARNING: Ignoring reaction 'rxn01048_c0' since it already exists.\n"
     ]
    },
    {
     "name": "stdout",
     "output_type": "stream",
     "text": [
      "Clostridium.32 Missing reaction EX_cpd00557_c0 {'>': 0.6315511773631014}\n"
     ]
    },
    {
     "name": "stderr",
     "output_type": "stream",
     "text": [
      "1717569180.691992 WARNING: Ignoring reaction 'rxn00430_c0' since it already exists.\n",
      "1717569180.862567 WARNING: Ignoring reaction 'rxn00278_c0' since it already exists.\n",
      "1717569180.8802109 WARNING: Ignoring reaction 'rxn02933_c0' since it already exists.\n",
      "1717569180.881406 WARNING: Ignoring reaction 'rxn02269_c0' since it already exists.\n",
      "1717569180.882184 WARNING: Ignoring reaction 'rxn02934_c0' since it already exists.\n",
      "1717569180.883331 WARNING: Ignoring reaction 'rxn02267_c0' since it already exists.\n",
      "1717569180.884067 WARNING: Ignoring reaction 'rxn00676_c0' since it already exists.\n",
      "1717569180.915227 WARNING: Ignoring reaction 'rxn00467_c0' since it already exists.\n",
      "1717569181.049309 WARNING: Ignoring reaction 'rxn00211_c0' since it already exists.\n",
      "1717569181.050036 WARNING: Ignoring reaction 'rxn14144_c0' since it already exists.\n",
      "1717569181.061575 INFO: Setting FBAModel computed_attributes to mdlutl attributes\n",
      "1717569183.322168 INFO: metabolites 953\n",
      "1717569183.494004 INFO: reactions 902\n",
      "1717569183.941364 INFO: Default biomass: [bio1]\n",
      "1717569197.016086 INFO: cpd35610 not found in model!\n",
      "1717569197.0167449 CRITICAL: Metabolite cpd35610 not found in model\n",
      "1717569197.0302851 INFO: cpd07053 not found in model!\n",
      "1717569197.0312881 CRITICAL: Metabolite cpd07053 not found in model\n",
      "1717569197.032307 INFO: cpd04945 not found in model!\n",
      "1717569197.0334878 CRITICAL: Metabolite cpd04945 not found in model\n",
      "1717569197.041593 WARNING: Ignoring reaction 'rxn00251_c0' since it already exists.\n",
      "1717569197.082787 WARNING: Ignoring reaction 'rxn05299_c0' since it already exists.\n",
      "1717569197.2514958 WARNING: Ignoring reaction 'rxn00503_c0' since it already exists.\n",
      "1717569197.2636778 WARNING: Ignoring reaction 'rxn00605_c0' since it already exists.\n",
      "1717569197.338675 WARNING: Ignoring reaction 'rxn00350_c0' since it already exists.\n",
      "1717569197.382827 WARNING: Ignoring reaction 'rxn00904_c0' since it already exists.\n",
      "1717569197.405802 WARNING: Ignoring reaction 'rxn00023_c0' since it already exists.\n"
     ]
    },
    {
     "name": "stdout",
     "output_type": "stream",
     "text": [
      "Bacteroides.13 Missing reaction EX_cpd00557_c0 {'>': 0.760482673179358}\n"
     ]
    },
    {
     "name": "stderr",
     "output_type": "stream",
     "text": [
      "1717569197.438582 WARNING: Ignoring reaction 'rxn00272_c0' since it already exists.\n",
      "1717569197.521249 WARNING: Ignoring reaction 'rxn01423_c0' since it already exists.\n",
      "1717569197.522283 WARNING: Ignoring reaction 'rxn01418_c0' since it already exists.\n",
      "1717569197.59024 INFO: Setting FBAModel computed_attributes to mdlutl attributes\n",
      "1717569201.172391 INFO: metabolites 1036\n",
      "1717569201.342765 INFO: reactions 978\n",
      "1717569201.7650309 INFO: Default biomass: [bio1]\n",
      "1717569215.1499782 INFO: cpd35610 not found in model!\n",
      "1717569215.1506271 CRITICAL: Metabolite cpd35610 not found in model\n",
      "1717569215.165 INFO: cpd07053 not found in model!\n",
      "1717569215.1657758 CRITICAL: Metabolite cpd07053 not found in model\n",
      "1717569215.166199 INFO: cpd04945 not found in model!\n",
      "1717569215.1665862 CRITICAL: Metabolite cpd04945 not found in model\n",
      "1717569215.498812 WARNING: Ignoring reaction 'rxn00704_c0' since it already exists.\n",
      "1717569215.545967 INFO: Setting FBAModel computed_attributes to mdlutl attributes\n",
      "1717569217.7750158 INFO: metabolites 1044\n",
      "1717569217.967753 INFO: reactions 1006\n",
      "1717569218.481558 INFO: Default biomass: [bio1]\n",
      "1717569232.576544 INFO: cpd35610 not found in model!\n",
      "1717569232.577137 CRITICAL: Metabolite cpd35610 not found in model\n",
      "1717569232.59201 INFO: cpd07053 not found in model!\n",
      "1717569232.593055 CRITICAL: Metabolite cpd07053 not found in model\n",
      "1717569232.593887 INFO: cpd04945 not found in model!\n",
      "1717569232.595016 CRITICAL: Metabolite cpd04945 not found in model\n",
      "1717569232.6241128 WARNING: Ignoring reaction 'rxn00910_c0' since it already exists.\n",
      "1717569232.62545 WARNING: Ignoring reaction 'rxn00693_c0' since it already exists.\n",
      "1717569232.6448069 WARNING: Ignoring reaction 'rxn05299_c0' since it already exists.\n",
      "1717569232.671725 WARNING: Ignoring reaction 'rxn00503_c0' since it already exists.\n",
      "1717569232.782179 WARNING: Ignoring reaction 'rxn05561_c0' since it already exists.\n",
      "1717569232.8093472 WARNING: Ignoring reaction 'rxn00605_c0' since it already exists.\n",
      "1717569232.835882 WARNING: Ignoring reaction 'rxn09149_c0' since it already exists.\n",
      "1717569232.868651 WARNING: Ignoring reaction 'rxn00102_c0' since it already exists.\n"
     ]
    },
    {
     "name": "stdout",
     "output_type": "stream",
     "text": [
      "Clostridiales.1 Missing reaction EX_cpd00557_c0 {'>': 0.7130781355383766}\n"
     ]
    },
    {
     "name": "stderr",
     "output_type": "stream",
     "text": [
      "1717569233.1044638 INFO: Setting FBAModel computed_attributes to mdlutl attributes\n",
      "1717569235.848834 INFO: metabolites 1212\n",
      "1717569236.1135669 INFO: reactions 1242\n",
      "1717569236.749763 INFO: Default biomass: [bio1]\n",
      "1717569250.599657 INFO: cpd35610 not found in model!\n",
      "1717569250.600481 CRITICAL: Metabolite cpd35610 not found in model\n",
      "1717569250.6150699 INFO: cpd07053 not found in model!\n",
      "1717569250.615849 CRITICAL: Metabolite cpd07053 not found in model\n",
      "1717569250.61655 INFO: cpd04945 not found in model!\n",
      "1717569250.617721 CRITICAL: Metabolite cpd04945 not found in model\n",
      "1717569250.705911 WARNING: Ignoring reaction 'rxn09180_c0' since it already exists.\n",
      "1717569250.8691578 INFO: Setting FBAModel computed_attributes to mdlutl attributes\n",
      "1717569253.4783418 INFO: metabolites 1102\n",
      "1717569253.670169 INFO: reactions 1078\n",
      "1717569254.1667998 INFO: Default biomass: [bio1]\n",
      "1717569267.479757 INFO: cpd35610 not found in model!\n",
      "1717569267.480347 CRITICAL: Metabolite cpd35610 not found in model\n",
      "1717569267.495861 INFO: cpd07053 not found in model!\n",
      "1717569267.4966779 CRITICAL: Metabolite cpd07053 not found in model\n",
      "1717569267.497685 INFO: cpd04945 not found in model!\n",
      "1717569267.49873 CRITICAL: Metabolite cpd04945 not found in model\n",
      "1717569267.5774982 WARNING: Ignoring reaction 'rxn00198_c0' since it already exists.\n",
      "1717569267.664032 WARNING: Ignoring reaction 'rxn00949_c0' since it already exists.\n",
      "1717569267.7860081 INFO: Setting FBAModel computed_attributes to mdlutl attributes\n",
      "1717569270.27547 INFO: metabolites 1602\n",
      "1717569270.6144671 INFO: reactions 1703\n",
      "1717569271.412662 INFO: Default biomass: [bio1]\n",
      "1717569286.121033 INFO: cpd35610 not found in model!\n",
      "1717569286.121614 CRITICAL: Metabolite cpd35610 not found in model\n",
      "1717569286.137544 INFO: cpd07053 not found in model!\n",
      "1717569286.1381068 CRITICAL: Metabolite cpd07053 not found in model\n",
      "1717569286.1385758 INFO: cpd04945 not found in model!\n",
      "1717569286.1391392 CRITICAL: Metabolite cpd04945 not found in model\n",
      "1717569286.293737 INFO: Setting FBAModel computed_attributes to mdlutl attributes\n",
      "1717569292.439567 INFO: metabolites 1645\n",
      "1717569292.825716 INFO: reactions 1825\n",
      "1717569293.651826 INFO: Default biomass: [bio1]\n",
      "1717569306.920189 INFO: cpd35610 not found in model!\n",
      "1717569306.920774 CRITICAL: Metabolite cpd35610 not found in model\n",
      "1717569306.936277 INFO: cpd07053 not found in model!\n",
      "1717569306.9373991 CRITICAL: Metabolite cpd07053 not found in model\n",
      "1717569306.938508 INFO: cpd04945 not found in model!\n",
      "1717569306.939778 CRITICAL: Metabolite cpd04945 not found in model\n",
      "1717569307.183466 INFO: Setting FBAModel computed_attributes to mdlutl attributes\n",
      "1717569310.347448 INFO: metabolites 1190\n",
      "1717569310.548248 INFO: reactions 1158\n",
      "1717569311.0601978 INFO: Default biomass: [bio1]\n",
      "1717569323.993071 INFO: cpd35610 not found in model!\n",
      "1717569323.993665 CRITICAL: Metabolite cpd35610 not found in model\n",
      "1717569324.008801 INFO: cpd07053 not found in model!\n",
      "1717569324.009581 CRITICAL: Metabolite cpd07053 not found in model\n",
      "1717569324.010546 INFO: cpd04945 not found in model!\n",
      "1717569324.0113459 CRITICAL: Metabolite cpd04945 not found in model\n",
      "1717569324.314144 INFO: Setting FBAModel computed_attributes to mdlutl attributes\n",
      "1717569326.732301 INFO: metabolites 1320\n",
      "1717569326.992613 INFO: reactions 1350\n",
      "1717569327.5789142 INFO: Default biomass: [bio1]\n",
      "1717569342.239578 INFO: cpd35610 not found in model!\n",
      "1717569342.2402198 CRITICAL: Metabolite cpd35610 not found in model\n",
      "1717569342.255282 INFO: cpd07053 not found in model!\n",
      "1717569342.256032 CRITICAL: Metabolite cpd07053 not found in model\n",
      "1717569342.256483 INFO: cpd04945 not found in model!\n",
      "1717569342.256916 CRITICAL: Metabolite cpd04945 not found in model\n",
      "1717569342.4890392 INFO: Setting FBAModel computed_attributes to mdlutl attributes\n"
     ]
    },
    {
     "name": "stdout",
     "output_type": "stream",
     "text": [
      "Agrobacterium.1 Missing reaction EX_cpd00557_c0 {'>': 1.1876111971982373}\n"
     ]
    },
    {
     "name": "stderr",
     "output_type": "stream",
     "text": [
      "1717569345.82605 INFO: metabolites 1135\n",
      "1717569366.7830741 INFO: reactions 1161\n",
      "1717569367.2960079 INFO: Default biomass: [bio1]\n",
      "1717569380.3409011 INFO: cpd35610 not found in model!\n",
      "1717569380.341495 CRITICAL: Metabolite cpd35610 not found in model\n",
      "1717569380.354827 INFO: cpd07053 not found in model!\n",
      "1717569380.3557482 CRITICAL: Metabolite cpd07053 not found in model\n",
      "1717569380.356555 INFO: cpd04945 not found in model!\n",
      "1717569380.357646 CRITICAL: Metabolite cpd04945 not found in model\n",
      "1717569380.558536 INFO: Setting FBAModel computed_attributes to mdlutl attributes\n",
      "1717569382.868958 INFO: metabolites 1228\n",
      "1717569383.08706 INFO: reactions 1226\n",
      "1717569383.618386 INFO: Default biomass: [bio1]\n",
      "1717569396.7748969 INFO: cpd35610 not found in model!\n",
      "1717569396.775522 CRITICAL: Metabolite cpd35610 not found in model\n",
      "1717569396.790219 INFO: cpd07053 not found in model!\n",
      "1717569396.79123 CRITICAL: Metabolite cpd07053 not found in model\n",
      "1717569396.7922308 INFO: cpd04945 not found in model!\n",
      "1717569396.793199 CRITICAL: Metabolite cpd04945 not found in model\n",
      "1717569397.224813 INFO: Setting FBAModel computed_attributes to mdlutl attributes\n",
      "1717569399.6593878 INFO: metabolites 1561\n",
      "1717569399.993301 INFO: reactions 1691\n",
      "1717569400.760301 INFO: Default biomass: [bio1]\n",
      "1717569413.731078 INFO: cpd35610 not found in model!\n",
      "1717569413.7317262 CRITICAL: Metabolite cpd35610 not found in model\n",
      "1717569413.745326 INFO: cpd07053 not found in model!\n",
      "1717569413.7461278 CRITICAL: Metabolite cpd07053 not found in model\n",
      "1717569413.746794 INFO: cpd04945 not found in model!\n",
      "1717569413.748064 CRITICAL: Metabolite cpd04945 not found in model\n",
      "1717569413.9064472 INFO: Setting FBAModel computed_attributes to mdlutl attributes\n",
      "1717569416.754796 INFO: metabolites 1022\n",
      "1717569416.927305 INFO: reactions 976\n",
      "1717569417.357159 INFO: Default biomass: [bio1]\n",
      "1717569431.01045 INFO: cpd35610 not found in model!\n",
      "1717569431.011126 CRITICAL: Metabolite cpd35610 not found in model\n",
      "1717569431.0257869 INFO: cpd07053 not found in model!\n",
      "1717569431.026787 CRITICAL: Metabolite cpd07053 not found in model\n",
      "1717569431.027627 INFO: cpd04945 not found in model!\n",
      "1717569431.028928 CRITICAL: Metabolite cpd04945 not found in model\n",
      "1717569431.108426 WARNING: Ignoring reaction 'rxn05244_c0' since it already exists.\n",
      "1717569431.1619022 WARNING: Ignoring reaction 'rxn05300_c0' since it already exists.\n",
      "1717569431.1649861 WARNING: Ignoring reaction 'rxn05669_c0' since it already exists.\n",
      "1717569431.2094378 WARNING: Ignoring reaction 'rxn10663_c0' since it already exists.\n",
      "1717569431.236374 WARNING: Ignoring reaction 'rxn05303_c0' since it already exists.\n",
      "1717569431.303863 WARNING: Ignoring reaction 'rxn00278_c0' since it already exists.\n"
     ]
    },
    {
     "name": "stdout",
     "output_type": "stream",
     "text": [
      "Muribaculum.1 Missing reaction EX_cpd00557_c0 {'>': -0.004660023608108294}\n"
     ]
    },
    {
     "name": "stderr",
     "output_type": "stream",
     "text": [
      "1717569431.424844 INFO: Setting FBAModel computed_attributes to mdlutl attributes\n",
      "1717569437.763935 INFO: metabolites 1569\n",
      "1717569438.087509 INFO: reactions 1665\n",
      "1717569438.853101 INFO: Default biomass: [bio1]\n",
      "1717569451.852732 INFO: cpd35610 not found in model!\n",
      "1717569451.85332 CRITICAL: Metabolite cpd35610 not found in model\n",
      "1717569451.8666828 INFO: cpd07053 not found in model!\n",
      "1717569451.86729 CRITICAL: Metabolite cpd07053 not found in model\n",
      "1717569451.868015 INFO: cpd04945 not found in model!\n",
      "1717569451.869004 CRITICAL: Metabolite cpd04945 not found in model\n",
      "1717569452.1249778 WARNING: Ignoring reaction 'rxn02914_c0' since it already exists.\n",
      "1717569452.125937 WARNING: Ignoring reaction 'rxn05289_c0' since it already exists.\n",
      "1717569452.199604 INFO: Setting FBAModel computed_attributes to mdlutl attributes\n",
      "1717569455.3890119 INFO: metabolites 988\n",
      "1717569455.5454552 INFO: reactions 923\n",
      "1717569455.952002 INFO: Default biomass: [bio1]\n",
      "1717569470.661504 INFO: cpd35610 not found in model!\n",
      "1717569470.662032 CRITICAL: Metabolite cpd35610 not found in model\n",
      "1717569470.675497 INFO: cpd07053 not found in model!\n",
      "1717569470.676319 CRITICAL: Metabolite cpd07053 not found in model\n",
      "1717569470.677258 INFO: cpd04945 not found in model!\n",
      "1717569470.67854 CRITICAL: Metabolite cpd04945 not found in model\n",
      "1717569470.908573 WARNING: Ignoring reaction 'rxn09180_c0' since it already exists.\n",
      "1717569470.926122 WARNING: Ignoring reaction 'rxn00173_c0' since it already exists.\n",
      "1717569471.056323 WARNING: Ignoring reaction 'rxn01575_c0' since it already exists.\n"
     ]
    },
    {
     "name": "stdout",
     "output_type": "stream",
     "text": [
      "Phascolarctobacterium.1 Missing reaction EX_cpd00557_c0 {'<': 2.2688141075320734}\n"
     ]
    },
    {
     "name": "stderr",
     "output_type": "stream",
     "text": [
      "1717569471.163929 INFO: Setting FBAModel computed_attributes to mdlutl attributes\n",
      "1717569473.251243 INFO: metabolites 947\n",
      "1717569473.407407 INFO: reactions 903\n",
      "1717569473.800609 INFO: Default biomass: [bio1]\n",
      "1717569488.048078 INFO: cpd35610 not found in model!\n",
      "1717569488.048718 CRITICAL: Metabolite cpd35610 not found in model\n",
      "1717569488.063296 INFO: cpd07053 not found in model!\n",
      "1717569488.0640798 CRITICAL: Metabolite cpd07053 not found in model\n",
      "1717569488.064506 INFO: cpd04945 not found in model!\n",
      "1717569488.0648801 CRITICAL: Metabolite cpd04945 not found in model\n",
      "1717569488.308053 WARNING: Ignoring reaction 'rxn00502_c0' since it already exists.\n",
      "1717569488.33342 WARNING: Ignoring reaction 'rxn09180_c0' since it already exists.\n",
      "1717569488.3342762 WARNING: Ignoring reaction 'rxn08528_c0' since it already exists.\n",
      "1717569488.334956 WARNING: Ignoring reaction 'rxn00680_c0' since it already exists.\n",
      "1717569488.3358011 WARNING: Ignoring reaction 'rxn02519_c0' since it already exists.\n",
      "1717569488.353846 WARNING: Ignoring reaction 'rxn00656_c0' since it already exists.\n",
      "1717569488.3904629 WARNING: Ignoring reaction 'rxn00704_c0' since it already exists.\n",
      "1717569488.4402418 INFO: Setting FBAModel computed_attributes to mdlutl attributes\n"
     ]
    },
    {
     "name": "stdout",
     "output_type": "stream",
     "text": [
      "Clostridium.15 Missing reaction EX_cpd00557_c0 {'>': 0.9398024314483897}\n"
     ]
    },
    {
     "name": "stderr",
     "output_type": "stream",
     "text": [
      "1717569492.049519 INFO: metabolites 1315\n",
      "1717569492.291687 INFO: reactions 1320\n",
      "1717569492.8998988 INFO: Default biomass: [bio1]\n",
      "1717569506.1804512 INFO: cpd35610 not found in model!\n",
      "1717569506.181103 CRITICAL: Metabolite cpd35610 not found in model\n",
      "1717569506.194578 INFO: cpd07053 not found in model!\n",
      "1717569506.19572 CRITICAL: Metabolite cpd07053 not found in model\n",
      "1717569506.1967769 INFO: cpd04945 not found in model!\n",
      "1717569506.198187 CRITICAL: Metabolite cpd04945 not found in model\n",
      "1717569506.38667 WARNING: Ignoring reaction 'rxn01423_c0' since it already exists.\n",
      "1717569506.387765 WARNING: Ignoring reaction 'rxn00317_c0' since it already exists.\n",
      "1717569506.51057 INFO: Setting FBAModel computed_attributes to mdlutl attributes\n",
      "1717569509.0096471 INFO: metabolites 1270\n",
      "1717569509.249527 INFO: reactions 1314\n",
      "1717569509.865412 INFO: Default biomass: [bio1]\n",
      "1717569523.923344 INFO: cpd35610 not found in model!\n",
      "1717569523.924006 CRITICAL: Metabolite cpd35610 not found in model\n",
      "1717569523.938771 INFO: cpd07053 not found in model!\n",
      "1717569523.9395468 CRITICAL: Metabolite cpd07053 not found in model\n",
      "1717569523.940032 INFO: cpd04945 not found in model!\n",
      "1717569523.940497 CRITICAL: Metabolite cpd04945 not found in model\n",
      "1717569524.14365 INFO: Setting FBAModel computed_attributes to mdlutl attributes\n",
      "1717569526.964263 INFO: metabolites 1465\n",
      "1717569527.2656069 INFO: reactions 1530\n",
      "1717569527.9441652 INFO: Default biomass: [bio1]\n",
      "1717569543.2113369 INFO: cpd35610 not found in model!\n",
      "1717569543.211991 CRITICAL: Metabolite cpd35610 not found in model\n",
      "1717569543.2249758 INFO: cpd07053 not found in model!\n",
      "1717569543.225952 CRITICAL: Metabolite cpd07053 not found in model\n",
      "1717569543.226739 INFO: cpd04945 not found in model!\n",
      "1717569543.228122 CRITICAL: Metabolite cpd04945 not found in model\n",
      "1717569543.378687 WARNING: Ignoring reaction 'rxn05289_c0' since it already exists.\n",
      "1717569543.413606 INFO: Setting FBAModel computed_attributes to mdlutl attributes\n"
     ]
    },
    {
     "name": "stdout",
     "output_type": "stream",
     "text": [
      "Agrobacterium.2 Missing reaction EX_cpd00557_c0 {'>': 0.28125342437222617}\n"
     ]
    },
    {
     "name": "stderr",
     "output_type": "stream",
     "text": [
      "1717569546.2764008 INFO: metabolites 1626\n",
      "1717569546.6328452 INFO: reactions 1741\n",
      "1717569547.430033 INFO: Default biomass: [bio1]\n",
      "1717569562.0385149 INFO: cpd35610 not found in model!\n",
      "1717569562.039052 CRITICAL: Metabolite cpd35610 not found in model\n",
      "1717569562.053132 INFO: cpd07053 not found in model!\n",
      "1717569562.054343 CRITICAL: Metabolite cpd07053 not found in model\n",
      "1717569562.055115 INFO: cpd04945 not found in model!\n",
      "1717569562.055918 CRITICAL: Metabolite cpd04945 not found in model\n",
      "1717569562.158347 INFO: Setting FBAModel computed_attributes to mdlutl attributes\n",
      "1717569565.767657 INFO: metabolites 1400\n",
      "1717569566.048699 INFO: reactions 1477\n",
      "1717569566.6940532 INFO: Default biomass: [bio1]\n",
      "1717569579.835969 INFO: cpd35610 not found in model!\n",
      "1717569579.83655 CRITICAL: Metabolite cpd35610 not found in model\n",
      "1717569579.8507142 INFO: cpd07053 not found in model!\n",
      "1717569579.851557 CRITICAL: Metabolite cpd07053 not found in model\n",
      "1717569579.852405 INFO: cpd04945 not found in model!\n",
      "1717569579.853606 CRITICAL: Metabolite cpd04945 not found in model\n",
      "1717569580.010682 WARNING: Ignoring reaction 'rxn05289_c0' since it already exists.\n",
      "1717569580.039928 WARNING: Ignoring reaction 'rxn00704_c0' since it already exists.\n",
      "1717569580.10754 INFO: Setting FBAModel computed_attributes to mdlutl attributes\n",
      "1717569583.771696 INFO: metabolites 1123\n",
      "1717569583.962677 INFO: reactions 1118\n",
      "1717569584.482469 INFO: Default biomass: [bio1]\n",
      "1717569597.786756 INFO: cpd35610 not found in model!\n",
      "1717569597.787345 CRITICAL: Metabolite cpd35610 not found in model\n",
      "1717569597.800216 INFO: cpd07053 not found in model!\n",
      "1717569597.800884 CRITICAL: Metabolite cpd07053 not found in model\n",
      "1717569597.801555 INFO: cpd04945 not found in model!\n",
      "1717569597.802849 CRITICAL: Metabolite cpd04945 not found in model\n",
      "1717569597.957727 INFO: Setting FBAModel computed_attributes to mdlutl attributes\n",
      "1717569600.496108 INFO: metabolites 1243\n",
      "1717569600.7109382 INFO: reactions 1222\n",
      "1717569601.275698 INFO: Default biomass: [bio1]\n",
      "1717569615.591552 INFO: cpd35610 not found in model!\n",
      "1717569615.592205 CRITICAL: Metabolite cpd35610 not found in model\n",
      "1717569615.606724 INFO: cpd07053 not found in model!\n",
      "1717569615.607444 CRITICAL: Metabolite cpd07053 not found in model\n",
      "1717569615.607866 INFO: cpd04945 not found in model!\n",
      "1717569615.608323 CRITICAL: Metabolite cpd04945 not found in model\n",
      "1717569615.812578 INFO: Setting FBAModel computed_attributes to mdlutl attributes\n",
      "1717569618.1804569 INFO: metabolites 1215\n",
      "1717569618.3926039 INFO: reactions 1224\n",
      "1717569618.91457 INFO: Default biomass: [bio1]\n",
      "1717569632.2605839 INFO: cpd35610 not found in model!\n",
      "1717569632.26123 CRITICAL: Metabolite cpd35610 not found in model\n",
      "1717569632.275456 INFO: cpd07053 not found in model!\n",
      "1717569632.276196 CRITICAL: Metabolite cpd07053 not found in model\n",
      "1717569632.276623 INFO: cpd04945 not found in model!\n",
      "1717569632.2770581 CRITICAL: Metabolite cpd04945 not found in model\n",
      "1717569632.310626 WARNING: Ignoring reaction 'rxn04954_c0' since it already exists.\n",
      "1717569632.311664 WARNING: Ignoring reaction 'rxn00693_c0' since it already exists.\n",
      "1717569632.5706298 INFO: Setting FBAModel computed_attributes to mdlutl attributes\n"
     ]
    },
    {
     "name": "stdout",
     "output_type": "stream",
     "text": [
      "Lactobacillus.7 Missing reaction EX_cpd00557_c0 {'>': 0.9879079105686561}\n"
     ]
    },
    {
     "name": "stderr",
     "output_type": "stream",
     "text": [
      "1717569634.807049 INFO: metabolites 1073\n",
      "1717569635.019024 INFO: reactions 1060\n",
      "1717569635.553377 INFO: Default biomass: [bio1]\n",
      "1717569650.126812 INFO: cpd35610 not found in model!\n",
      "1717569650.1274061 CRITICAL: Metabolite cpd35610 not found in model\n",
      "1717569650.140791 INFO: cpd07053 not found in model!\n",
      "1717569650.1413388 CRITICAL: Metabolite cpd07053 not found in model\n",
      "1717569650.141912 INFO: cpd04945 not found in model!\n",
      "1717569650.143039 CRITICAL: Metabolite cpd04945 not found in model\n",
      "1717569650.172113 WARNING: Ignoring reaction 'rxn04954_c0' since it already exists.\n",
      "1717569650.2502642 WARNING: Ignoring reaction 'rxn00350_c0' since it already exists.\n",
      "1717569650.3750951 WARNING: Ignoring reaction 'rxn00949_c0' since it already exists.\n",
      "1717569650.393624 INFO: Setting FBAModel computed_attributes to mdlutl attributes\n"
     ]
    },
    {
     "name": "stdout",
     "output_type": "stream",
     "text": [
      "Salinibacterium.1 Missing reaction EX_cpd00557_c0 {'>': 0.5536670262048258}\n"
     ]
    },
    {
     "name": "stderr",
     "output_type": "stream",
     "text": [
      "1717569655.01223 INFO: metabolites 1270\n",
      "1717569655.2431 INFO: reactions 1289\n",
      "1717569655.814413 INFO: Default biomass: [bio1]\n",
      "1717569669.425196 INFO: cpd35610 not found in model!\n",
      "1717569669.425859 CRITICAL: Metabolite cpd35610 not found in model\n",
      "1717569669.43916 INFO: cpd07053 not found in model!\n",
      "1717569669.440075 CRITICAL: Metabolite cpd07053 not found in model\n",
      "1717569669.4409332 INFO: cpd04945 not found in model!\n",
      "1717569669.442098 CRITICAL: Metabolite cpd04945 not found in model\n",
      "1717569669.6128662 WARNING: Ignoring reaction 'rxn00502_c0' since it already exists.\n",
      "1717569669.650861 WARNING: Ignoring reaction 'rxn00350_c0' since it already exists.\n",
      "1717569669.722991 WARNING: Ignoring reaction 'rxn00953_c0' since it already exists.\n"
     ]
    },
    {
     "name": "stdout",
     "output_type": "stream",
     "text": [
      "Neglecta.1 Missing reaction EX_cpd00557_c0 {'>': 0.3091436345009919}\n"
     ]
    },
    {
     "name": "stderr",
     "output_type": "stream",
     "text": [
      "1717569669.8904169 INFO: Setting FBAModel computed_attributes to mdlutl attributes\n",
      "1717569672.668328 INFO: metabolites 1433\n",
      "1717569672.963722 INFO: reactions 1482\n",
      "1717569673.6238148 INFO: Default biomass: [bio1]\n",
      "1717569711.593906 INFO: cpd35610 not found in model!\n",
      "1717569711.594496 CRITICAL: Metabolite cpd35610 not found in model\n",
      "1717569711.6079738 INFO: cpd07053 not found in model!\n",
      "1717569711.609169 CRITICAL: Metabolite cpd07053 not found in model\n",
      "1717569711.6103559 INFO: cpd04945 not found in model!\n",
      "1717569711.61115 CRITICAL: Metabolite cpd04945 not found in model\n",
      "1717569711.828715 INFO: Setting FBAModel computed_attributes to mdlutl attributes\n"
     ]
    },
    {
     "name": "stdout",
     "output_type": "stream",
     "text": [
      "Aneurinibacillus.1 Missing reaction EX_cpd00557_c0 {'>': 0.4880153350914197}\n"
     ]
    },
    {
     "name": "stderr",
     "output_type": "stream",
     "text": [
      "1717569714.628716 INFO: metabolites 1237\n",
      "1717569714.8500988 INFO: reactions 1231\n",
      "1717569715.39188 INFO: Default biomass: [bio1]\n",
      "1717569728.8843122 INFO: cpd35610 not found in model!\n",
      "1717569728.8849092 CRITICAL: Metabolite cpd35610 not found in model\n",
      "1717569728.902528 INFO: cpd07053 not found in model!\n",
      "1717569728.903741 CRITICAL: Metabolite cpd07053 not found in model\n",
      "1717569728.905288 INFO: cpd04945 not found in model!\n",
      "1717569728.906222 CRITICAL: Metabolite cpd04945 not found in model\n",
      "1717569729.1026042 WARNING: Ignoring reaction 'rxn09180_c0' since it already exists.\n",
      "1717569729.125022 WARNING: Ignoring reaction 'rxn00278_c0' since it already exists.\n",
      "1717569729.2404659 INFO: Setting FBAModel computed_attributes to mdlutl attributes\n",
      "1717569731.8771808 INFO: metabolites 995\n",
      "1717569732.03019 INFO: reactions 954\n",
      "1717569732.454315 INFO: Default biomass: [bio1]\n",
      "1717569745.3535209 INFO: cpd35610 not found in model!\n",
      "1717569745.354101 CRITICAL: Metabolite cpd35610 not found in model\n",
      "1717569745.369143 INFO: cpd07053 not found in model!\n",
      "1717569745.370031 CRITICAL: Metabolite cpd07053 not found in model\n",
      "1717569745.3708422 INFO: cpd04945 not found in model!\n",
      "1717569745.371762 CRITICAL: Metabolite cpd04945 not found in model\n",
      "1717569745.42709 WARNING: Ignoring reaction 'rxn05299_c0' since it already exists.\n",
      "1717569745.6265678 WARNING: Ignoring reaction 'rxn00350_c0' since it already exists.\n",
      "1717569745.6273642 WARNING: Ignoring reaction 'rxn09231_c0' since it already exists.\n"
     ]
    },
    {
     "name": "stdout",
     "output_type": "stream",
     "text": [
      "Clostridium.28 Missing reaction EX_cpd00557_c0 {'>': 0.7089140103760126}\n"
     ]
    },
    {
     "name": "stderr",
     "output_type": "stream",
     "text": [
      "1717569745.818793 INFO: Setting FBAModel computed_attributes to mdlutl attributes\n",
      "1717569748.17601 INFO: metabolites 1582\n",
      "1717569748.501674 INFO: reactions 1709\n",
      "1717569749.277877 INFO: Default biomass: [bio1]\n",
      "1717569762.907514 INFO: cpd35610 not found in model!\n",
      "1717569762.908158 CRITICAL: Metabolite cpd35610 not found in model\n",
      "1717569762.9228191 INFO: cpd07053 not found in model!\n",
      "1717569762.923548 CRITICAL: Metabolite cpd07053 not found in model\n",
      "1717569762.923981 INFO: cpd04945 not found in model!\n",
      "1717569762.92441 CRITICAL: Metabolite cpd04945 not found in model\n",
      "1717569763.061079 INFO: Setting FBAModel computed_attributes to mdlutl attributes\n",
      "1717569766.897501 INFO: metabolites 1208\n",
      "1717569767.1457868 INFO: reactions 1203\n",
      "1717569767.7438662 INFO: Default biomass: [bio1]\n",
      "1717569781.13864 INFO: cpd35610 not found in model!\n",
      "1717569781.139172 CRITICAL: Metabolite cpd35610 not found in model\n",
      "1717569781.155367 INFO: cpd07053 not found in model!\n",
      "1717569781.1562188 CRITICAL: Metabolite cpd07053 not found in model\n",
      "1717569781.15776 INFO: cpd04945 not found in model!\n",
      "1717569781.159039 CRITICAL: Metabolite cpd04945 not found in model\n",
      "1717569781.3669791 WARNING: Ignoring reaction 'rxn00251_c0' since it already exists.\n",
      "1717569781.3868139 WARNING: Ignoring reaction 'rxn00949_c0' since it already exists.\n",
      "1717569781.43083 INFO: Setting FBAModel computed_attributes to mdlutl attributes\n"
     ]
    },
    {
     "name": "stdout",
     "output_type": "stream",
     "text": [
      "Clostridium.30 Missing reaction EX_cpd00557_c0 {'>': 0.5563609488063391, '<': 1.222464163064748}\n"
     ]
    },
    {
     "name": "stderr",
     "output_type": "stream",
     "text": [
      "1717569783.7844648 INFO: metabolites 1302\n",
      "1717569784.045365 INFO: reactions 1350\n",
      "1717569784.615909 INFO: Default biomass: [bio1]\n",
      "1717569799.774287 INFO: cpd35610 not found in model!\n",
      "1717569799.774923 CRITICAL: Metabolite cpd35610 not found in model\n",
      "1717569799.789504 INFO: cpd07053 not found in model!\n",
      "1717569799.7900841 CRITICAL: Metabolite cpd07053 not found in model\n",
      "1717569799.790538 INFO: cpd04945 not found in model!\n",
      "1717569799.79099 CRITICAL: Metabolite cpd04945 not found in model\n",
      "1717569800.0106711 WARNING: Ignoring reaction 'rxn00350_c0' since it already exists.\n",
      "1717569800.2963278 INFO: Setting FBAModel computed_attributes to mdlutl attributes\n",
      "1717569803.0027552 INFO: metabolites 982\n",
      "1717569803.1558511 INFO: reactions 942\n",
      "1717569803.5499232 INFO: Default biomass: [bio1]\n",
      "1717569817.4812741 INFO: cpd35610 not found in model!\n",
      "1717569817.481869 CRITICAL: Metabolite cpd35610 not found in model\n",
      "1717569817.495005 INFO: cpd07053 not found in model!\n",
      "1717569817.495632 CRITICAL: Metabolite cpd07053 not found in model\n",
      "1717569817.4963279 INFO: cpd04945 not found in model!\n",
      "1717569817.4974568 CRITICAL: Metabolite cpd04945 not found in model\n",
      "1717569817.653274 WARNING: Ignoring reaction 'rxn05561_c0' since it already exists.\n",
      "1717569817.820786 WARNING: Ignoring reaction 'rxn09180_c0' since it already exists.\n",
      "1717569817.8545148 INFO: Setting FBAModel computed_attributes to mdlutl attributes\n",
      "1717569821.619849 INFO: metabolites 862\n",
      "1717569821.763288 INFO: reactions 829\n",
      "1717569822.128356 INFO: Default biomass: [bio1]\n",
      "1717569836.447862 INFO: cpd35610 not found in model!\n",
      "1717569836.4485528 CRITICAL: Metabolite cpd35610 not found in model\n",
      "1717569836.464522 INFO: cpd07053 not found in model!\n",
      "1717569836.465176 CRITICAL: Metabolite cpd07053 not found in model\n",
      "1717569836.465583 INFO: cpd04945 not found in model!\n",
      "1717569836.465939 CRITICAL: Metabolite cpd04945 not found in model\n",
      "1717569836.4959 WARNING: Ignoring reaction 'rxn12215_c0' since it already exists.\n",
      "1717569836.4968169 WARNING: Ignoring reaction 'rxn03052_c0' since it already exists.\n",
      "1717569836.667443 WARNING: Ignoring reaction 'rxn09180_c0' since it already exists.\n",
      "1717569836.707098 WARNING: Ignoring reaction 'rxn00949_c0' since it already exists.\n",
      "1717569836.860977 INFO: Setting FBAModel computed_attributes to mdlutl attributes\n",
      "1717569840.4157782 INFO: metabolites 1521\n",
      "1717569840.7175412 INFO: reactions 1590\n",
      "1717569841.437384 INFO: Default biomass: [bio1]\n",
      "1717569854.84035 INFO: cpd35610 not found in model!\n",
      "1717569854.8410082 CRITICAL: Metabolite cpd35610 not found in model\n",
      "1717569854.8563788 INFO: cpd07053 not found in model!\n",
      "1717569854.857173 CRITICAL: Metabolite cpd07053 not found in model\n",
      "1717569854.857631 INFO: cpd04945 not found in model!\n",
      "1717569854.858072 CRITICAL: Metabolite cpd04945 not found in model\n",
      "1717569855.072736 INFO: Setting FBAModel computed_attributes to mdlutl attributes\n"
     ]
    },
    {
     "name": "stdout",
     "output_type": "stream",
     "text": [
      "Rhodococcus.2 Missing reaction EX_cpd00557_c0 {'>': 0.4302136433635671}\n"
     ]
    },
    {
     "name": "stderr",
     "output_type": "stream",
     "text": [
      "1717569857.970864 INFO: metabolites 1102\n",
      "1717569858.168148 INFO: reactions 1019\n",
      "1717569858.69732 INFO: Default biomass: [bio1]\n",
      "1717569872.4368582 INFO: cpd35610 not found in model!\n",
      "1717569872.4377038 CRITICAL: Metabolite cpd35610 not found in model\n",
      "1717569872.45908 INFO: cpd07053 not found in model!\n",
      "1717569872.459685 CRITICAL: Metabolite cpd07053 not found in model\n",
      "1717569872.4604568 INFO: cpd04945 not found in model!\n",
      "1717569872.461045 CRITICAL: Metabolite cpd04945 not found in model\n",
      "1717569872.500479 WARNING: Ignoring reaction 'rxn00910_c0' since it already exists.\n",
      "1717569872.501452 WARNING: Ignoring reaction 'rxn00693_c0' since it already exists.\n",
      "1717569872.5458932 WARNING: Ignoring reaction 'rxn05243_c0' since it already exists.\n",
      "1717569872.713001 WARNING: Ignoring reaction 'rxn01333_c0' since it already exists.\n",
      "1717569872.814604 WARNING: Ignoring reaction 'rxn00677_c0' since it already exists.\n",
      "1717569872.821934 WARNING: Ignoring reaction 'rxn00749_c0' since it already exists.\n",
      "1717569872.822732 WARNING: Ignoring reaction 'rxn00272_c0' since it already exists.\n",
      "1717569872.8814871 WARNING: Ignoring reaction 'rxn00251_c0' since it already exists.\n",
      "1717569872.93938 WARNING: Ignoring reaction 'rxn00949_c0' since it already exists.\n",
      "1717569872.989564 WARNING: Ignoring reaction 'rxn03436_c0' since it already exists.\n",
      "1717569872.9905999 WARNING: Ignoring reaction 'rxn03435_c0' since it already exists.\n",
      "1717569873.080341 INFO: Setting FBAModel computed_attributes to mdlutl attributes\n",
      "1717569875.416523 INFO: metabolites 911\n",
      "1717569875.557502 INFO: reactions 862\n",
      "1717569876.021953 INFO: Default biomass: [bio1]\n",
      "1717569890.278214 INFO: cpd35610 not found in model!\n",
      "1717569890.2789109 CRITICAL: Metabolite cpd35610 not found in model\n",
      "1717569890.29351 INFO: cpd07053 not found in model!\n",
      "1717569890.2941859 CRITICAL: Metabolite cpd07053 not found in model\n",
      "1717569890.2948081 INFO: cpd04945 not found in model!\n",
      "1717569890.295288 CRITICAL: Metabolite cpd04945 not found in model\n",
      "1717569890.3230872 WARNING: Ignoring reaction 'rxn12215_c0' since it already exists.\n",
      "1717569890.324091 WARNING: Ignoring reaction 'rxn03052_c0' since it already exists.\n",
      "1717569890.3247302 WARNING: Ignoring reaction 'rxn00949_c0' since it already exists.\n",
      "1717569890.370541 WARNING: Ignoring reaction 'rxn05300_c0' since it already exists.\n",
      "1717569890.403502 WARNING: Ignoring reaction 'rxn02380_c0' since it already exists.\n",
      "1717569890.427295 WARNING: Ignoring reaction 'rxn13143_c0' since it already exists.\n",
      "1717569890.4424582 WARNING: Ignoring reaction 'rxn00191_c0' since it already exists.\n",
      "1717569890.469462 WARNING: Ignoring reaction 'rxn00272_c0' since it already exists.\n",
      "1717569890.5903518 WARNING: Ignoring reaction 'rxn02123_c0' since it already exists.\n",
      "1717569890.5913432 WARNING: Ignoring reaction 'rxn00668_c0' since it already exists.\n",
      "1717569890.603601 INFO: Setting FBAModel computed_attributes to mdlutl attributes\n",
      "1717569893.8862011 INFO: metabolites 845\n",
      "1717569894.0154939 INFO: reactions 787\n",
      "1717569894.3755572 INFO: Default biomass: [bio1]\n",
      "1717569907.4880698 INFO: cpd35610 not found in model!\n",
      "1717569907.488729 CRITICAL: Metabolite cpd35610 not found in model\n",
      "1717569907.503829 INFO: cpd07053 not found in model!\n",
      "1717569907.505023 CRITICAL: Metabolite cpd07053 not found in model\n",
      "1717569907.5062459 INFO: cpd04945 not found in model!\n",
      "1717569907.5068312 CRITICAL: Metabolite cpd04945 not found in model\n",
      "1717569907.548765 WARNING: Ignoring reaction 'rxn00910_c0' since it already exists.\n",
      "1717569907.549985 WARNING: Ignoring reaction 'rxn00693_c0' since it already exists.\n",
      "1717569907.5954828 WARNING: Ignoring reaction 'rxn00949_c0' since it already exists.\n",
      "1717569907.606015 WARNING: Ignoring reaction 'rxn05310_c0' since it already exists.\n",
      "1717569907.680191 WARNING: Ignoring reaction 'rxn00251_c0' since it already exists.\n",
      "1717569907.722998 WARNING: Ignoring reaction 'rxn09657_c0' since it already exists.\n",
      "1717569907.7752771 WARNING: Ignoring reaction 'rxn05255_c0' since it already exists.\n",
      "1717569907.791483 WARNING: Ignoring reaction 'rxn00616_c0' since it already exists.\n",
      "1717569907.813542 WARNING: Ignoring reaction 'rxn10124_c0' since it already exists.\n",
      "1717569907.877666 WARNING: Ignoring reaction 'rxn00350_c0' since it already exists.\n"
     ]
    },
    {
     "name": "stdout",
     "output_type": "stream",
     "text": [
      "Allobaculum.1 Missing reaction EX_cpd00557_c0 {'>': 0.2202573755764806, '<': 1.9294648082485357}\n"
     ]
    },
    {
     "name": "stderr",
     "output_type": "stream",
     "text": [
      "1717569907.925067 WARNING: Ignoring reaction 'rxn00278_c0' since it already exists.\n",
      "1717569908.073212 WARNING: Ignoring reaction 'rxn01423_c0' since it already exists.\n",
      "1717569908.074055 WARNING: Ignoring reaction 'rxn00317_c0' since it already exists.\n",
      "1717569908.082734 INFO: Setting FBAModel computed_attributes to mdlutl attributes\n",
      "1717569910.233619 INFO: metabolites 1285\n",
      "1717569910.4113548 INFO: reactions 861\n",
      "1717569910.8789718 INFO: Default biomass: [bio1]\n",
      "1717569924.3150852 INFO: cpd35610 not found in model!\n",
      "1717569924.315619 CRITICAL: Metabolite cpd35610 not found in model\n",
      "1717569924.329247 INFO: cpd07053 not found in model!\n",
      "1717569924.330194 CRITICAL: Metabolite cpd07053 not found in model\n",
      "1717569924.331109 INFO: cpd04945 not found in model!\n",
      "1717569924.3322282 CRITICAL: Metabolite cpd04945 not found in model\n",
      "1717569924.348415 WARNING: Ignoring reaction 'rxn00503_c0' since it already exists.\n",
      "1717569924.372319 WARNING: Ignoring reaction 'rxn00693_c0' since it already exists.\n",
      "1717569924.4002829 WARNING: Ignoring reaction 'rxn05299_c0' since it already exists.\n",
      "1717569924.41794 WARNING: Ignoring reaction 'rxn01265_c0' since it already exists.\n",
      "1717569924.424205 WARNING: Ignoring reaction 'rxn05306_c0' since it already exists.\n",
      "1717569924.485827 WARNING: Ignoring reaction 'rxn00260_c0' since it already exists.\n",
      "1717569924.518236 WARNING: Ignoring reaction 'rxn05289_c0' since it already exists.\n",
      "1717569924.519566 WARNING: Ignoring reaction 'rxn00949_c0' since it already exists.\n",
      "1717569924.5476532 WARNING: Ignoring reaction 'rxn00903_c0' since it already exists.\n",
      "1717569924.626675 WARNING: Ignoring reaction 'rxn00704_c0' since it already exists.\n",
      "1717569924.6306071 WARNING: Ignoring reaction 'rxn08491_c0' since it already exists.\n",
      "1717569924.646048 WARNING: Ignoring reaction 'rxn00272_c0' since it already exists.\n",
      "1717569924.658485 WARNING: Ignoring reaction 'rxn03194_c0' since it already exists.\n",
      "1717569924.6753411 WARNING: Ignoring reaction 'rxn00806_c0' since it already exists.\n",
      "1717569924.73023 INFO: Setting FBAModel computed_attributes to mdlutl attributes\n",
      "1717569927.002495 INFO: metabolites 975\n",
      "1717569927.176716 INFO: reactions 923\n",
      "1717569927.5795798 INFO: Default biomass: [bio1]\n",
      "1717569942.582499 INFO: cpd35610 not found in model!\n",
      "1717569942.583147 CRITICAL: Metabolite cpd35610 not found in model\n",
      "1717569942.597707 INFO: cpd07053 not found in model!\n",
      "1717569942.5985322 CRITICAL: Metabolite cpd07053 not found in model\n",
      "1717569942.598985 INFO: cpd04945 not found in model!\n",
      "1717569942.59961 CRITICAL: Metabolite cpd04945 not found in model\n",
      "1717569942.887128 WARNING: Ignoring reaction 'rxn00272_c0' since it already exists.\n",
      "1717569942.984981 INFO: Setting FBAModel computed_attributes to mdlutl attributes\n"
     ]
    },
    {
     "name": "stdout",
     "output_type": "stream",
     "text": [
      "Veillonella.1 Missing reaction EX_cpd00557_c0 {'<': 1.3703668426345934}\n"
     ]
    },
    {
     "name": "stderr",
     "output_type": "stream",
     "text": [
      "1717569945.2362828 INFO: metabolites 1304\n",
      "1717569945.4761028 INFO: reactions 1278\n",
      "1717569946.044514 INFO: Default biomass: [bio1]\n",
      "1717569960.72178 INFO: cpd35610 not found in model!\n",
      "1717569960.722367 CRITICAL: Metabolite cpd35610 not found in model\n",
      "1717569960.737553 INFO: cpd07053 not found in model!\n",
      "1717569960.738593 CRITICAL: Metabolite cpd07053 not found in model\n",
      "1717569960.739316 INFO: cpd04945 not found in model!\n",
      "1717569960.740055 CRITICAL: Metabolite cpd04945 not found in model\n",
      "1717569961.063242 INFO: Setting FBAModel computed_attributes to mdlutl attributes\n",
      "1717569965.830689 INFO: metabolites 1890\n",
      "1717569966.3988721 INFO: reactions 2156\n",
      "1717569967.547717 INFO: Default biomass: [bio1]\n",
      "1717569982.360592 INFO: cpd35610 not found in model!\n",
      "1717569982.361173 CRITICAL: Metabolite cpd35610 not found in model\n",
      "1717569982.376549 INFO: cpd07053 not found in model!\n",
      "1717569982.3774452 CRITICAL: Metabolite cpd07053 not found in model\n",
      "1717569982.3782558 INFO: cpd04945 not found in model!\n",
      "1717569982.379688 CRITICAL: Metabolite cpd04945 not found in model\n",
      "1717569982.445194 INFO: Setting FBAModel computed_attributes to mdlutl attributes\n",
      "1717569985.940198 INFO: metabolites 1628\n",
      "1717569986.307095 INFO: reactions 1738\n",
      "1717569987.104151 INFO: Default biomass: [bio1]\n",
      "1717570001.512165 INFO: cpd35610 not found in model!\n",
      "1717570001.5128121 CRITICAL: Metabolite cpd35610 not found in model\n",
      "1717570001.527633 INFO: cpd07053 not found in model!\n",
      "1717570001.528278 CRITICAL: Metabolite cpd07053 not found in model\n",
      "1717570001.528702 INFO: cpd04945 not found in model!\n",
      "1717570001.529099 CRITICAL: Metabolite cpd04945 not found in model\n",
      "1717570001.724766 INFO: Setting FBAModel computed_attributes to mdlutl attributes\n",
      "1717570005.117419 INFO: metabolites 986\n",
      "1717570005.275379 INFO: reactions 943\n",
      "1717570005.815104 INFO: Default biomass: [bio1]\n",
      "1717570019.192608 INFO: cpd35610 not found in model!\n",
      "1717570019.193196 CRITICAL: Metabolite cpd35610 not found in model\n",
      "1717570019.206343 INFO: cpd07053 not found in model!\n",
      "1717570019.207167 CRITICAL: Metabolite cpd07053 not found in model\n",
      "1717570019.208009 INFO: cpd04945 not found in model!\n",
      "1717570019.209343 CRITICAL: Metabolite cpd04945 not found in model\n",
      "1717570019.2299242 WARNING: Ignoring reaction 'rxn00693_c0' since it already exists.\n",
      "1717570019.344686 WARNING: Ignoring reaction 'rxn00178_c0' since it already exists.\n",
      "1717570019.485183 INFO: Setting FBAModel computed_attributes to mdlutl attributes\n",
      "1717570022.147499 INFO: metabolites 1364\n",
      "1717570022.441403 INFO: reactions 1376\n",
      "1717570023.138871 INFO: Default biomass: [bio1]\n",
      "1717570036.927868 INFO: cpd35610 not found in model!\n",
      "1717570036.928464 CRITICAL: Metabolite cpd35610 not found in model\n",
      "1717570036.9426408 INFO: cpd07053 not found in model!\n",
      "1717570036.94367 CRITICAL: Metabolite cpd07053 not found in model\n",
      "1717570036.944591 INFO: cpd04945 not found in model!\n",
      "1717570036.945796 CRITICAL: Metabolite cpd04945 not found in model\n"
     ]
    },
    {
     "name": "stdout",
     "output_type": "stream",
     "text": [
      "Faecalibacterium.1 Missing reaction EX_cpd00557_c0 {'>': -0.8706341432183144}\n"
     ]
    },
    {
     "name": "stderr",
     "output_type": "stream",
     "text": [
      "1717570037.265267 INFO: Setting FBAModel computed_attributes to mdlutl attributes\n",
      "1717570040.545079 INFO: metabolites 1214\n",
      "1717570040.7713048 INFO: reactions 1214\n",
      "1717570041.306008 INFO: Default biomass: [bio1]\n",
      "1717570055.336662 INFO: cpd35610 not found in model!\n",
      "1717570055.337308 CRITICAL: Metabolite cpd35610 not found in model\n",
      "1717570055.35167 INFO: cpd07053 not found in model!\n",
      "1717570055.352295 CRITICAL: Metabolite cpd07053 not found in model\n",
      "1717570055.352719 INFO: cpd04945 not found in model!\n",
      "1717570055.3531258 CRITICAL: Metabolite cpd04945 not found in model\n",
      "1717570055.521491 WARNING: Ignoring reaction 'rxn05289_c0' since it already exists.\n",
      "1717570055.658109 INFO: Setting FBAModel computed_attributes to mdlutl attributes\n"
     ]
    },
    {
     "name": "stdout",
     "output_type": "stream",
     "text": [
      "Ruminococcus.1 Missing reaction EX_cpd00557_c0 {'<': 1.4437821070643773}\n"
     ]
    },
    {
     "name": "stderr",
     "output_type": "stream",
     "text": [
      "1717570088.625301 INFO: metabolites 1292\n",
      "1717570089.031123 INFO: reactions 1377\n",
      "1717570089.692935 INFO: Default biomass: [bio1]\n",
      "1717570102.771183 INFO: cpd35610 not found in model!\n",
      "1717570102.7717729 CRITICAL: Metabolite cpd35610 not found in model\n",
      "1717570102.7868748 INFO: cpd07053 not found in model!\n",
      "1717570102.7874491 CRITICAL: Metabolite cpd07053 not found in model\n",
      "1717570102.787851 INFO: cpd04945 not found in model!\n",
      "1717570102.788367 CRITICAL: Metabolite cpd04945 not found in model\n",
      "1717570102.981172 INFO: Setting FBAModel computed_attributes to mdlutl attributes\n",
      "1717570107.043553 INFO: metabolites 992\n",
      "1717570107.199594 INFO: reactions 951\n",
      "1717570107.6248078 INFO: Default biomass: [bio1]\n",
      "1717570121.265223 INFO: cpd35610 not found in model!\n",
      "1717570121.265753 CRITICAL: Metabolite cpd35610 not found in model\n",
      "1717570121.281161 INFO: cpd07053 not found in model!\n",
      "1717570121.2820501 CRITICAL: Metabolite cpd07053 not found in model\n",
      "1717570121.282826 INFO: cpd04945 not found in model!\n",
      "1717570121.283972 CRITICAL: Metabolite cpd04945 not found in model\n",
      "1717570121.432236 WARNING: Ignoring reaction 'rxn00680_c0' since it already exists.\n",
      "1717570121.4456162 WARNING: Ignoring reaction 'rxn00197_c0' since it already exists.\n",
      "1717570121.4748118 WARNING: Ignoring reaction 'rxn05902_c0' since it already exists.\n",
      "1717570121.506746 WARNING: Ignoring reaction 'rxn11537_c0' since it already exists.\n",
      "1717570121.508196 WARNING: Ignoring reaction 'rxn11535_c0' since it already exists.\n",
      "1717570121.5267 WARNING: Ignoring reaction 'rxn00178_c0' since it already exists.\n",
      "1717570121.558437 WARNING: Ignoring reaction 'rxn09180_c0' since it already exists.\n",
      "1717570121.6090748 INFO: Setting FBAModel computed_attributes to mdlutl attributes\n",
      "1717570124.107693 INFO: metabolites 1107\n",
      "1717570124.299863 INFO: reactions 1089\n",
      "1717570124.760412 INFO: Default biomass: [bio1]\n",
      "1717570138.2647839 INFO: cpd35610 not found in model!\n",
      "1717570138.265494 CRITICAL: Metabolite cpd35610 not found in model\n",
      "1717570138.28037 INFO: cpd07053 not found in model!\n",
      "1717570138.2811542 CRITICAL: Metabolite cpd07053 not found in model\n",
      "1717570138.282005 INFO: cpd04945 not found in model!\n",
      "1717570138.2832708 CRITICAL: Metabolite cpd04945 not found in model\n",
      "1717570138.373149 WARNING: Ignoring reaction 'rxn01265_c0' since it already exists.\n",
      "1717570138.651655 INFO: Setting FBAModel computed_attributes to mdlutl attributes\n",
      "1717570141.7014458 INFO: metabolites 986\n",
      "1717570141.8574872 INFO: reactions 930\n",
      "1717570142.2882829 INFO: Default biomass: [bio1]\n",
      "1717570155.74717 INFO: cpd35610 not found in model!\n",
      "1717570155.747774 CRITICAL: Metabolite cpd35610 not found in model\n",
      "1717570155.762835 INFO: cpd07053 not found in model!\n",
      "1717570155.763905 CRITICAL: Metabolite cpd07053 not found in model\n",
      "1717570155.764856 INFO: cpd04945 not found in model!\n",
      "1717570155.76611 CRITICAL: Metabolite cpd04945 not found in model\n",
      "1717570156.073356 WARNING: Ignoring reaction 'rxn09180_c0' since it already exists.\n",
      "1717570156.0903318 WARNING: Ignoring reaction 'rxn00102_c0' since it already exists.\n",
      "1717570156.0955122 WARNING: Ignoring reaction 'rxn01333_c0' since it already exists.\n",
      "1717570156.1681569 INFO: Setting FBAModel computed_attributes to mdlutl attributes\n",
      "1717570158.522445 INFO: metabolites 1256\n",
      "1717570158.796614 INFO: reactions 1265\n",
      "1717570159.490416 INFO: Default biomass: [bio1]\n",
      "1717570173.8404632 INFO: cpd35610 not found in model!\n",
      "1717570173.8410711 CRITICAL: Metabolite cpd35610 not found in model\n",
      "1717570173.8560882 INFO: cpd07053 not found in model!\n",
      "1717570173.8569548 CRITICAL: Metabolite cpd07053 not found in model\n",
      "1717570173.857397 INFO: cpd04945 not found in model!\n",
      "1717570173.858024 CRITICAL: Metabolite cpd04945 not found in model\n",
      "1717570174.2197309 INFO: Setting FBAModel computed_attributes to mdlutl attributes\n",
      "1717570177.328932 INFO: metabolites 1140\n",
      "1717570177.522502 INFO: reactions 1112\n",
      "1717570178.0193238 INFO: Default biomass: [bio1]\n",
      "1717570192.305279 INFO: cpd35610 not found in model!\n",
      "1717570192.305883 CRITICAL: Metabolite cpd35610 not found in model\n",
      "1717570192.321514 INFO: cpd07053 not found in model!\n",
      "1717570192.322159 CRITICAL: Metabolite cpd07053 not found in model\n",
      "1717570192.32301 INFO: cpd04945 not found in model!\n",
      "1717570192.324429 CRITICAL: Metabolite cpd04945 not found in model\n",
      "1717570192.35277 WARNING: Ignoring reaction 'rxn05508_c0' since it already exists.\n",
      "1717570192.357664 WARNING: Ignoring reaction 'rxn09690_c0' since it already exists.\n",
      "1717570192.54945 WARNING: Ignoring reaction 'rxn00520_c0' since it already exists.\n",
      "1717570192.582707 WARNING: Ignoring reaction 'rxn00278_c0' since it already exists.\n",
      "1717570192.615402 WARNING: Ignoring reaction 'rxn09180_c0' since it already exists.\n",
      "1717570192.685333 INFO: Setting FBAModel computed_attributes to mdlutl attributes\n"
     ]
    },
    {
     "name": "stdout",
     "output_type": "stream",
     "text": [
      "Acutalibacter.1 Missing reaction EX_cpd00557_c0 {'>': 0.2932344135512572}\n"
     ]
    },
    {
     "name": "stderr",
     "output_type": "stream",
     "text": [
      "1717570196.4097412 INFO: metabolites 1122\n",
      "1717570196.598779 INFO: reactions 1086\n",
      "1717570197.074145 INFO: Default biomass: [bio1]\n",
      "1717570210.052824 INFO: cpd35610 not found in model!\n",
      "1717570210.053493 CRITICAL: Metabolite cpd35610 not found in model\n",
      "1717570210.066779 INFO: cpd07053 not found in model!\n",
      "1717570210.067758 CRITICAL: Metabolite cpd07053 not found in model\n",
      "1717570210.068631 INFO: cpd04945 not found in model!\n",
      "1717570210.0698712 CRITICAL: Metabolite cpd04945 not found in model\n",
      "1717570210.317307 INFO: Setting FBAModel computed_attributes to mdlutl attributes\n",
      "1717570212.6146271 INFO: metabolites 1358\n",
      "1717570212.856944 INFO: reactions 1348\n",
      "1717570213.441084 INFO: Default biomass: [bio1]\n",
      "1717570226.7283578 INFO: cpd35610 not found in model!\n",
      "1717570226.729007 CRITICAL: Metabolite cpd35610 not found in model\n",
      "1717570226.7440388 INFO: cpd07053 not found in model!\n",
      "1717570226.744811 CRITICAL: Metabolite cpd07053 not found in model\n",
      "1717570226.745249 INFO: cpd04945 not found in model!\n",
      "1717570226.745625 CRITICAL: Metabolite cpd04945 not found in model\n",
      "1717570226.9698691 INFO: Setting FBAModel computed_attributes to mdlutl attributes\n"
     ]
    },
    {
     "name": "stdout",
     "output_type": "stream",
     "text": [
      "Streptomyces.1 Missing reaction EX_cpd00557_c0 {'>': 0.7842876770315643}\n"
     ]
    },
    {
     "name": "stderr",
     "output_type": "stream",
     "text": [
      "1717570229.329428 INFO: metabolites 1426\n",
      "1717570229.653253 INFO: reactions 1491\n",
      "1717570230.435479 INFO: Default biomass: [bio1]\n",
      "1717570244.5234718 INFO: cpd35610 not found in model!\n",
      "1717570244.524129 CRITICAL: Metabolite cpd35610 not found in model\n",
      "1717570244.538832 INFO: cpd07053 not found in model!\n",
      "1717570244.539458 CRITICAL: Metabolite cpd07053 not found in model\n",
      "1717570244.5398731 INFO: cpd04945 not found in model!\n",
      "1717570244.54029 CRITICAL: Metabolite cpd04945 not found in model\n",
      "1717570244.7359428 INFO: Setting FBAModel computed_attributes to mdlutl attributes\n",
      "1717570248.171794 INFO: metabolites 1473\n",
      "1717570248.5057862 INFO: reactions 1530\n",
      "1717570249.294943 INFO: Default biomass: [bio1]\n",
      "1717570262.917124 INFO: cpd35610 not found in model!\n",
      "1717570262.917727 CRITICAL: Metabolite cpd35610 not found in model\n",
      "1717570262.932288 INFO: cpd07053 not found in model!\n",
      "1717570262.933069 CRITICAL: Metabolite cpd07053 not found in model\n",
      "1717570262.9338639 INFO: cpd04945 not found in model!\n",
      "1717570262.93489 CRITICAL: Metabolite cpd04945 not found in model\n",
      "1717570263.119104 INFO: Setting FBAModel computed_attributes to mdlutl attributes\n"
     ]
    },
    {
     "name": "stdout",
     "output_type": "stream",
     "text": [
      "Paenibacillus.1 Missing reaction EX_cpd00557_c0 {'>': 0.6718142950983168}\n"
     ]
    },
    {
     "name": "stderr",
     "output_type": "stream",
     "text": [
      "1717570265.804147 INFO: metabolites 1003\n",
      "1717570265.9710588 INFO: reactions 990\n",
      "1717570266.400678 INFO: Default biomass: [bio1]\n",
      "1717570280.436935 INFO: cpd35610 not found in model!\n",
      "1717570280.437532 CRITICAL: Metabolite cpd35610 not found in model\n",
      "1717570280.4515488 INFO: cpd07053 not found in model!\n",
      "1717570280.452394 CRITICAL: Metabolite cpd07053 not found in model\n",
      "1717570280.453218 INFO: cpd04945 not found in model!\n",
      "1717570280.454315 CRITICAL: Metabolite cpd04945 not found in model\n",
      "1717570280.504231 WARNING: Ignoring reaction 'rxn05299_c0' since it already exists.\n",
      "1717570280.62371 WARNING: Ignoring reaction 'rxn00692_c0' since it already exists.\n",
      "1717570280.791567 WARNING: Ignoring reaction 'rxn00171_c0' since it already exists.\n",
      "1717570280.7924 WARNING: Ignoring reaction 'rxn00350_c0' since it already exists.\n"
     ]
    },
    {
     "name": "stdout",
     "output_type": "stream",
     "text": [
      "Blautia.3 Missing reaction EX_cpd00557_c0 {'>': 1.5943331237279457}\n"
     ]
    },
    {
     "name": "stderr",
     "output_type": "stream",
     "text": [
      "1717570280.9691572 INFO: Setting FBAModel computed_attributes to mdlutl attributes\n",
      "1717570283.3809001 INFO: metabolites 1158\n",
      "1717570283.592275 INFO: reactions 1184\n",
      "1717570284.131287 INFO: Default biomass: [bio1]\n",
      "1717570298.2260668 INFO: cpd35610 not found in model!\n",
      "1717570298.226712 CRITICAL: Metabolite cpd35610 not found in model\n",
      "1717570298.2416482 INFO: cpd07053 not found in model!\n",
      "1717570298.2424252 CRITICAL: Metabolite cpd07053 not found in model\n",
      "1717570298.2428648 INFO: cpd04945 not found in model!\n",
      "1717570298.243241 CRITICAL: Metabolite cpd04945 not found in model\n",
      "1717570298.302709 WARNING: Ignoring reaction 'rxn00949_c0' since it already exists.\n",
      "1717570298.532301 WARNING: Ignoring reaction 'rxn00347_c0' since it already exists.\n",
      "1717570298.53309 WARNING: Ignoring reaction 'rxn00704_c0' since it already exists.\n",
      "1717570298.533684 WARNING: Ignoring reaction 'rxn09180_c0' since it already exists.\n",
      "1717570298.605759 INFO: Setting FBAModel computed_attributes to mdlutl attributes\n",
      "1717570301.173685 INFO: metabolites 1416\n",
      "1717570301.4954 INFO: reactions 1451\n",
      "1717570302.237958 INFO: Default biomass: [bio1]\n",
      "1717570316.0116532 INFO: cpd35610 not found in model!\n",
      "1717570316.012527 CRITICAL: Metabolite cpd35610 not found in model\n",
      "1717570316.030657 INFO: cpd07053 not found in model!\n",
      "1717570316.031569 CRITICAL: Metabolite cpd07053 not found in model\n",
      "1717570316.032829 INFO: cpd04945 not found in model!\n",
      "1717570316.034464 CRITICAL: Metabolite cpd04945 not found in model\n",
      "1717570316.217165 WARNING: Ignoring reaction 'rxn02914_c0' since it already exists.\n",
      "1717570316.283993 INFO: Setting FBAModel computed_attributes to mdlutl attributes\n",
      "1717570319.957524 INFO: metabolites 1103\n",
      "1717570320.137996 INFO: reactions 1058\n",
      "1717570320.610379 INFO: Default biomass: [bio1]\n",
      "1717570334.710716 INFO: cpd35610 not found in model!\n",
      "1717570334.711374 CRITICAL: Metabolite cpd35610 not found in model\n",
      "1717570334.730931 INFO: cpd07053 not found in model!\n",
      "1717570334.731652 CRITICAL: Metabolite cpd07053 not found in model\n",
      "1717570334.7322361 INFO: cpd04945 not found in model!\n",
      "1717570334.733137 CRITICAL: Metabolite cpd04945 not found in model\n",
      "1717570334.780393 WARNING: Ignoring reaction 'rxn12215_c0' since it already exists.\n",
      "1717570334.883501 WARNING: Ignoring reaction 'rxn00191_c0' since it already exists.\n",
      "1717570334.9162922 WARNING: Ignoring reaction 'rxn09180_c0' since it already exists.\n",
      "1717570335.003507 WARNING: Ignoring reaction 'rxn00272_c0' since it already exists.\n",
      "1717570335.0148768 INFO: Setting FBAModel computed_attributes to mdlutl attributes\n",
      "1717570338.8753111 INFO: metabolites 1395\n",
      "1717570339.1514502 INFO: reactions 1445\n",
      "1717570339.7846138 INFO: Default biomass: [bio1]\n",
      "1717570353.344247 INFO: cpd35610 not found in model!\n",
      "1717570353.344885 CRITICAL: Metabolite cpd35610 not found in model\n",
      "1717570353.3595462 INFO: cpd07053 not found in model!\n",
      "1717570353.3602219 CRITICAL: Metabolite cpd07053 not found in model\n",
      "1717570353.360693 INFO: cpd04945 not found in model!\n",
      "1717570353.361078 CRITICAL: Metabolite cpd04945 not found in model\n",
      "1717570353.610213 INFO: Setting FBAModel computed_attributes to mdlutl attributes\n"
     ]
    },
    {
     "name": "stdout",
     "output_type": "stream",
     "text": [
      "Murimonas.1 Missing reaction EX_cpd00557_c0 {'<': 1.1843857842486911}\n"
     ]
    },
    {
     "name": "stderr",
     "output_type": "stream",
     "text": [
      "1717570356.438967 INFO: metabolites 1670\n",
      "1717570356.8769019 INFO: reactions 1852\n",
      "1717570357.852004 INFO: Default biomass: [bio1]\n",
      "1717570372.16849 INFO: cpd35610 not found in model!\n",
      "1717570372.169172 CRITICAL: Metabolite cpd35610 not found in model\n",
      "1717570372.1845639 INFO: cpd07053 not found in model!\n",
      "1717570372.185363 CRITICAL: Metabolite cpd07053 not found in model\n",
      "1717570372.1861498 INFO: cpd04945 not found in model!\n",
      "1717570372.1873431 CRITICAL: Metabolite cpd04945 not found in model\n",
      "1717570372.326147 INFO: Setting FBAModel computed_attributes to mdlutl attributes\n",
      "1717570375.265621 INFO: metabolites 884\n",
      "1717570375.399245 INFO: reactions 843\n",
      "1717570375.762389 INFO: Default biomass: [bio1]\n",
      "1717570389.134631 INFO: cpd35610 not found in model!\n",
      "1717570389.1352608 CRITICAL: Metabolite cpd35610 not found in model\n",
      "1717570389.150047 INFO: cpd07053 not found in model!\n",
      "1717570389.150655 CRITICAL: Metabolite cpd07053 not found in model\n",
      "1717570389.151047 INFO: cpd04945 not found in model!\n",
      "1717570389.1514199 CRITICAL: Metabolite cpd04945 not found in model\n",
      "1717570389.1582239 WARNING: Ignoring reaction 'rxn05902_c0' since it already exists.\n",
      "1717570389.255587 WARNING: Ignoring reaction 'rxn05299_c0' since it already exists.\n",
      "1717570389.259551 WARNING: Ignoring reaction 'rxn05244_c0' since it already exists.\n",
      "1717570389.268405 WARNING: Ignoring reaction 'rxn05243_c0' since it already exists.\n",
      "1717570389.291115 WARNING: Ignoring reaction 'rxn01265_c0' since it already exists.\n",
      "1717570389.3479848 WARNING: Ignoring reaction 'rxn05669_c0' since it already exists.\n",
      "1717570389.39954 WARNING: Ignoring reaction 'rxn00173_c0' since it already exists.\n",
      "1717570389.457115 WARNING: Ignoring reaction 'rxn00503_c0' since it already exists.\n",
      "1717570389.468792 WARNING: Ignoring reaction 'rxn00272_c0' since it already exists.\n",
      "1717570389.548479 WARNING: Ignoring reaction 'rxn00350_c0' since it already exists.\n",
      "1717570389.680021 INFO: Setting FBAModel computed_attributes to mdlutl attributes\n"
     ]
    },
    {
     "name": "stdout",
     "output_type": "stream",
     "text": [
      "Alistipes.4 Missing reaction EX_cpd00557_c0 {'<': 1.4922147355010318}\n"
     ]
    },
    {
     "name": "stderr",
     "output_type": "stream",
     "text": [
      "1717570391.987274 INFO: metabolites 1357\n",
      "1717570392.289359 INFO: reactions 1401\n",
      "1717570393.003056 INFO: Default biomass: [bio1]\n",
      "1717570406.40666 INFO: cpd35610 not found in model!\n",
      "1717570406.407246 CRITICAL: Metabolite cpd35610 not found in model\n",
      "1717570406.423299 INFO: cpd07053 not found in model!\n",
      "1717570406.423926 CRITICAL: Metabolite cpd07053 not found in model\n",
      "1717570406.4243999 INFO: cpd04945 not found in model!\n",
      "1717570406.4248462 CRITICAL: Metabolite cpd04945 not found in model\n",
      "1717570406.5900002 INFO: Setting FBAModel computed_attributes to mdlutl attributes\n",
      "1717570409.173368 INFO: metabolites 1147\n",
      "1717570409.377488 INFO: reactions 1151\n",
      "1717570409.9031491 INFO: Default biomass: [bio1]\n",
      "1717570423.5296168 INFO: cpd35610 not found in model!\n",
      "1717570423.530273 CRITICAL: Metabolite cpd35610 not found in model\n",
      "1717570423.544822 INFO: cpd07053 not found in model!\n",
      "1717570423.5455391 CRITICAL: Metabolite cpd07053 not found in model\n",
      "1717570423.545983 INFO: cpd04945 not found in model!\n",
      "1717570423.546346 CRITICAL: Metabolite cpd04945 not found in model\n",
      "1717570423.577634 WARNING: Ignoring reaction 'rxn00949_c0' since it already exists.\n",
      "1717570423.8117151 INFO: Setting FBAModel computed_attributes to mdlutl attributes\n",
      "1717570426.7483509 INFO: metabolites 948\n",
      "1717570426.927551 INFO: reactions 938\n",
      "1717570427.377402 INFO: Default biomass: [bio1]\n",
      "1717570441.2475882 INFO: cpd35610 not found in model!\n",
      "1717570441.2482271 CRITICAL: Metabolite cpd35610 not found in model\n",
      "1717570441.26258 INFO: cpd07053 not found in model!\n",
      "1717570441.263515 CRITICAL: Metabolite cpd07053 not found in model\n",
      "1717570441.264478 INFO: cpd04945 not found in model!\n",
      "1717570441.2656581 CRITICAL: Metabolite cpd04945 not found in model\n",
      "1717570441.3343139 WARNING: Ignoring reaction 'rxn05244_c0' since it already exists.\n",
      "1717570441.360031 WARNING: Ignoring reaction 'rxn01265_c0' since it already exists.\n",
      "1717570441.430874 WARNING: Ignoring reaction 'rxn02933_c0' since it already exists.\n",
      "1717570441.591396 INFO: Setting FBAModel computed_attributes to mdlutl attributes\n"
     ]
    },
    {
     "name": "stdout",
     "output_type": "stream",
     "text": [
      "Flavobacterium.1 Missing reaction EX_cpd00557_c0 {'>': 0.7636011142762069}\n"
     ]
    },
    {
     "name": "stderr",
     "output_type": "stream",
     "text": [
      "1717570444.798319 INFO: metabolites 1142\n",
      "1717570444.9896169 INFO: reactions 1115\n",
      "1717570445.471887 INFO: Default biomass: [bio1]\n",
      "1717570458.402091 INFO: cpd35610 not found in model!\n",
      "1717570458.402739 CRITICAL: Metabolite cpd35610 not found in model\n",
      "1717570458.417272 INFO: cpd07053 not found in model!\n",
      "1717570458.4180381 CRITICAL: Metabolite cpd07053 not found in model\n",
      "1717570458.41909 INFO: cpd04945 not found in model!\n",
      "1717570458.420332 CRITICAL: Metabolite cpd04945 not found in model\n",
      "1717570458.630707 WARNING: Ignoring reaction 'rxn00953_c0' since it already exists.\n",
      "1717570458.6316469 WARNING: Ignoring reaction 'rxn00350_c0' since it already exists.\n",
      "1717570458.738508 WARNING: Ignoring reaction 'rxn00272_c0' since it already exists.\n",
      "1717570458.8206751 INFO: Setting FBAModel computed_attributes to mdlutl attributes\n"
     ]
    },
    {
     "name": "stdout",
     "output_type": "stream",
     "text": [
      "Cuneatibacter.1 Missing reaction EX_cpd00557_c0 {'>': 0.8981622093594808}\n"
     ]
    },
    {
     "name": "stderr",
     "output_type": "stream",
     "text": [
      "1717570461.209673 INFO: metabolites 1064\n",
      "1717570461.5161002 INFO: reactions 1051\n",
      "1717570461.994713 INFO: Default biomass: [bio1]\n",
      "1717570476.747892 INFO: cpd35610 not found in model!\n",
      "1717570476.7486038 CRITICAL: Metabolite cpd35610 not found in model\n",
      "1717570476.763669 INFO: cpd07053 not found in model!\n",
      "1717570476.7643268 CRITICAL: Metabolite cpd07053 not found in model\n",
      "1717570476.7647629 INFO: cpd04945 not found in model!\n",
      "1717570476.765148 CRITICAL: Metabolite cpd04945 not found in model\n",
      "1717570476.7957902 WARNING: Ignoring reaction 'rxn00910_c0' since it already exists.\n",
      "1717570476.796674 WARNING: Ignoring reaction 'rxn00693_c0' since it already exists.\n",
      "1717570476.8474371 WARNING: Ignoring reaction 'rxn13647_c0' since it already exists.\n",
      "1717570476.9181619 WARNING: Ignoring reaction 'rxn00877_c0' since it already exists.\n",
      "1717570477.009633 WARNING: Ignoring reaction 'rxn00409_c0' since it already exists.\n",
      "1717570477.067073 WARNING: Ignoring reaction 'rxn04794_c0' since it already exists.\n",
      "1717570477.068099 WARNING: Ignoring reaction 'rxn00680_c0' since it already exists.\n",
      "1717570477.212045 WARNING: Ignoring reaction 'rxn09180_c0' since it already exists.\n",
      "1717570477.225473 WARNING: Ignoring reaction 'rxn00244_c0' since it already exists.\n",
      "1717570477.230708 INFO: Setting FBAModel computed_attributes to mdlutl attributes\n",
      "1717570479.6538 INFO: metabolites 962\n",
      "1717570479.80752 INFO: reactions 910\n",
      "1717570480.191205 INFO: Default biomass: [bio1]\n",
      "1717570493.66063 INFO: cpd35610 not found in model!\n",
      "1717570493.661247 CRITICAL: Metabolite cpd35610 not found in model\n",
      "1717570493.675884 INFO: cpd07053 not found in model!\n",
      "1717570493.6767008 CRITICAL: Metabolite cpd07053 not found in model\n",
      "1717570493.6771462 INFO: cpd04945 not found in model!\n",
      "1717570493.677588 CRITICAL: Metabolite cpd04945 not found in model\n",
      "1717570493.749233 WARNING: Ignoring reaction 'rxn00929_c0' since it already exists.\n",
      "1717570493.781418 WARNING: Ignoring reaction 'rxn05638_c0' since it already exists.\n",
      "1717570493.905735 WARNING: Ignoring reaction 'rxn00467_c0' since it already exists.\n",
      "1717570493.960306 WARNING: Ignoring reaction 'rxn00430_c0' since it already exists.\n",
      "1717570494.052917 INFO: Setting FBAModel computed_attributes to mdlutl attributes\n"
     ]
    },
    {
     "name": "stdout",
     "output_type": "stream",
     "text": [
      "Prevotella.1 Missing reaction EX_cpd00557_c0 {'<': 0.9569645799230938}\n"
     ]
    },
    {
     "name": "stderr",
     "output_type": "stream",
     "text": [
      "1717570528.671923 INFO: metabolites 777\n",
      "1717570528.782642 INFO: reactions 721\n",
      "1717570529.109199 INFO: Default biomass: [bio1]\n",
      "1717570542.7289221 INFO: cpd35610 not found in model!\n",
      "1717570542.729643 CRITICAL: Metabolite cpd35610 not found in model\n",
      "1717570542.7440798 INFO: cpd07053 not found in model!\n",
      "1717570542.744704 CRITICAL: Metabolite cpd07053 not found in model\n",
      "1717570542.745616 INFO: cpd04945 not found in model!\n",
      "1717570542.746815 CRITICAL: Metabolite cpd04945 not found in model\n",
      "1717570542.754349 WARNING: Ignoring reaction 'rxn00251_c0' since it already exists.\n",
      "1717570542.7565 WARNING: Ignoring reaction 'rxn13689_c0' since it already exists.\n",
      "1717570542.7733278 WARNING: Ignoring reaction 'rxn09180_c0' since it already exists.\n",
      "1717570542.80438 WARNING: Ignoring reaction 'rxn00558_c0' since it already exists.\n",
      "1717570542.860966 WARNING: Ignoring reaction 'rxn00910_c0' since it already exists.\n",
      "1717570542.8909812 WARNING: Ignoring reaction 'rxn05310_c0' since it already exists.\n",
      "1717570542.9081678 WARNING: Ignoring reaction 'rxn01333_c0' since it already exists.\n",
      "1717570542.912927 WARNING: Ignoring reaction 'rxn00102_c0' since it already exists.\n",
      "1717570542.9383 WARNING: Ignoring reaction 'rxn01361_c0' since it already exists.\n",
      "1717570542.9459069 WARNING: Ignoring reaction 'rxn01790_c0' since it already exists.\n",
      "1717570542.946989 WARNING: Ignoring reaction 'rxn00912_c0' since it already exists.\n",
      "1717570542.970334 WARNING: Ignoring reaction 'rxn01045_c0' since it already exists.\n",
      "1717570543.021461 WARNING: Ignoring reaction 'rxn00616_c0' since it already exists.\n",
      "1717570543.0224938 WARNING: Ignoring reaction 'rxn05645_c0' since it already exists.\n",
      "1717570543.158616 WARNING: Ignoring reaction 'rxn00551_c0' since it already exists.\n",
      "1717570543.2073238 WARNING: Ignoring reaction 'rxn05561_c0' since it already exists.\n",
      "1717570543.209502 WARNING: Ignoring reaction 'rxn00272_c0' since it already exists.\n",
      "1717570543.219371 WARNING: Ignoring reaction 'rxn10663_c0' since it already exists.\n"
     ]
    },
    {
     "name": "stdout",
     "output_type": "stream",
     "text": [
      "Eubacterium.9 Missing reaction EX_cpd00557_c0 {'>': 2.289301430242377}\n"
     ]
    },
    {
     "name": "stderr",
     "output_type": "stream",
     "text": [
      "1717570543.281128 WARNING: Ignoring reaction 'rxn10157_c0' since it already exists.\n",
      "1717570543.310741 INFO: Setting FBAModel computed_attributes to mdlutl attributes\n",
      "1717570545.534307 INFO: metabolites 978\n",
      "1717570545.6883001 INFO: reactions 944\n",
      "1717570546.0828958 INFO: Default biomass: [bio1]\n",
      "1717570559.573565 INFO: cpd35610 not found in model!\n",
      "1717570559.574356 CRITICAL: Metabolite cpd35610 not found in model\n",
      "1717570559.589792 INFO: cpd07053 not found in model!\n",
      "1717570559.5905411 CRITICAL: Metabolite cpd07053 not found in model\n",
      "1717570559.591465 INFO: cpd04945 not found in model!\n",
      "1717570559.592553 CRITICAL: Metabolite cpd04945 not found in model\n",
      "1717570559.6918778 WARNING: Ignoring reaction 'rxn01265_c0' since it already exists.\n",
      "1717570559.7691112 WARNING: Ignoring reaction 'rxn00251_c0' since it already exists.\n",
      "1717570559.8338041 WARNING: Ignoring reaction 'rxn10663_c0' since it already exists.\n",
      "1717570559.8533561 WARNING: Ignoring reaction 'rxn05255_c0' since it already exists.\n",
      "1717570559.9068968 WARNING: Ignoring reaction 'rxn00350_c0' since it already exists.\n",
      "1717570559.9840572 WARNING: Ignoring reaction 'rxn00467_c0' since it already exists.\n"
     ]
    },
    {
     "name": "stdout",
     "output_type": "stream",
     "text": [
      "Rikenella.1 Missing reaction EX_cpd00557_c0 {'<': 2.0152048070412096, '>': 1.6276977698630974}\n"
     ]
    },
    {
     "name": "stderr",
     "output_type": "stream",
     "text": [
      "1717570559.995691 WARNING: Ignoring reaction 'rxn00272_c0' since it already exists.\n",
      "1717570559.997385 WARNING: Ignoring reaction 'rxn04794_c0' since it already exists.\n",
      "1717570560.030174 INFO: Setting FBAModel computed_attributes to mdlutl attributes\n",
      "1717570562.2757041 INFO: metabolites 1013\n",
      "1717570562.445486 INFO: reactions 974\n",
      "1717570562.856957 INFO: Default biomass: [bio1]\n",
      "1717570576.392257 INFO: cpd35610 not found in model!\n",
      "1717570576.392797 CRITICAL: Metabolite cpd35610 not found in model\n",
      "1717570576.406657 INFO: cpd07053 not found in model!\n",
      "1717570576.407424 CRITICAL: Metabolite cpd07053 not found in model\n",
      "1717570576.408289 INFO: cpd04945 not found in model!\n",
      "1717570576.409536 CRITICAL: Metabolite cpd04945 not found in model\n",
      "1717570576.691741 WARNING: Ignoring reaction 'rxn00197_c0' since it already exists.\n",
      "1717570576.69805 INFO: Setting FBAModel computed_attributes to mdlutl attributes\n",
      "1717570579.0032089 INFO: metabolites 917\n",
      "1717570579.140586 INFO: reactions 869\n",
      "1717570579.507911 INFO: Default biomass: [bio1]\n",
      "1717570592.634604 INFO: cpd35610 not found in model!\n",
      "1717570592.6351922 CRITICAL: Metabolite cpd35610 not found in model\n",
      "1717570592.648392 INFO: cpd07053 not found in model!\n",
      "1717570592.649211 CRITICAL: Metabolite cpd07053 not found in model\n",
      "1717570592.649973 INFO: cpd04945 not found in model!\n",
      "1717570592.651232 CRITICAL: Metabolite cpd04945 not found in model\n",
      "1717570592.6921751 WARNING: Ignoring reaction 'rxn09690_c0' since it already exists.\n",
      "1717570592.714418 WARNING: Ignoring reaction 'rxn05299_c0' since it already exists.\n",
      "1717570592.7369568 WARNING: Ignoring reaction 'rxn05310_c0' since it already exists.\n",
      "1717570592.7729201 WARNING: Ignoring reaction 'rxn05306_c0' since it already exists.\n",
      "1717570592.776428 WARNING: Ignoring reaction 'rxn05221_c0' since it already exists.\n",
      "1717570592.861415 WARNING: Ignoring reaction 'rxn05301_c0' since it already exists.\n",
      "1717570592.868065 WARNING: Ignoring reaction 'rxn01790_c0' since it already exists.\n",
      "1717570592.8693151 WARNING: Ignoring reaction 'rxn00912_c0' since it already exists.\n",
      "1717570592.9482691 WARNING: Ignoring reaction 'rxn00704_c0' since it already exists.\n",
      "1717570592.965696 WARNING: Ignoring reaction 'rxn10663_c0' since it already exists.\n",
      "1717570593.019818 WARNING: Ignoring reaction 'rxn00935_c0' since it already exists.\n",
      "1717570593.085185 WARNING: Ignoring reaction 'rxn00350_c0' since it already exists.\n",
      "1717570593.086622 WARNING: Ignoring reaction 'rxn09180_c0' since it already exists.\n"
     ]
    },
    {
     "name": "stdout",
     "output_type": "stream",
     "text": [
      "Lactobacillus.10 Missing reaction EX_cpd00557_c0 {'>': 0.10516142414685227}\n"
     ]
    },
    {
     "name": "stderr",
     "output_type": "stream",
     "text": [
      "1717570593.185685 WARNING: Ignoring reaction 'rxn00272_c0' since it already exists.\n",
      "1717570593.227825 WARNING: Ignoring reaction 'rxn02933_c0' since it already exists.\n",
      "1717570593.228711 WARNING: Ignoring reaction 'rxn02269_c0' since it already exists.\n",
      "1717570593.229268 WARNING: Ignoring reaction 'rxn02934_c0' since it already exists.\n",
      "1717570593.232692 WARNING: Ignoring reaction 'rxn00530_c0' since it already exists.\n",
      "1717570593.23392 WARNING: Ignoring reaction 'rxn00970_c0' since it already exists.\n",
      "1717570593.4000452 WARNING: Ignoring reaction 'rxn00495_c0' since it already exists.\n",
      "1717570593.441819 WARNING: Ignoring reaction 'rxn00877_c0' since it already exists.\n",
      "1717570593.4434571 WARNING: Ignoring reaction 'rxn00899_c0' since it already exists.\n",
      "1717570593.449244 INFO: Setting FBAModel computed_attributes to mdlutl attributes\n",
      "1717570596.068695 INFO: metabolites 1578\n",
      "1717570596.41841 INFO: reactions 1661\n",
      "1717570597.2001631 INFO: Default biomass: [bio1]\n",
      "1717570610.632737 INFO: cpd35610 not found in model!\n",
      "1717570610.633331 CRITICAL: Metabolite cpd35610 not found in model\n",
      "1717570610.646667 INFO: cpd07053 not found in model!\n",
      "1717570610.64741 CRITICAL: Metabolite cpd07053 not found in model\n",
      "1717570610.648125 INFO: cpd04945 not found in model!\n",
      "1717570610.6493251 CRITICAL: Metabolite cpd04945 not found in model\n",
      "1717570610.7669241 INFO: Setting FBAModel computed_attributes to mdlutl attributes\n",
      "1717570614.086213 INFO: metabolites 1070\n",
      "1717570614.2665741 INFO: reactions 1031\n",
      "1717570614.745795 INFO: Default biomass: [bio1]\n",
      "1717570627.97612 INFO: cpd35610 not found in model!\n",
      "1717570627.97673 CRITICAL: Metabolite cpd35610 not found in model\n",
      "1717570627.9899452 INFO: cpd07053 not found in model!\n",
      "1717570627.990914 CRITICAL: Metabolite cpd07053 not found in model\n",
      "1717570627.9916 INFO: cpd04945 not found in model!\n",
      "1717570627.992782 CRITICAL: Metabolite cpd04945 not found in model\n",
      "1717570628.309578 INFO: Setting FBAModel computed_attributes to mdlutl attributes\n",
      "1717570631.06033 INFO: metabolites 1119\n",
      "1717570631.2674508 INFO: reactions 1101\n",
      "1717570631.737642 INFO: Default biomass: [bio1]\n",
      "1717570644.845234 INFO: cpd35610 not found in model!\n",
      "1717570644.845877 CRITICAL: Metabolite cpd35610 not found in model\n",
      "1717570644.859083 INFO: cpd07053 not found in model!\n",
      "1717570644.85963 CRITICAL: Metabolite cpd07053 not found in model\n",
      "1717570644.860308 INFO: cpd04945 not found in model!\n",
      "1717570644.8612428 CRITICAL: Metabolite cpd04945 not found in model\n",
      "1717570644.939067 WARNING: Ignoring reaction 'rxn01265_c0' since it already exists.\n",
      "1717570645.232821 INFO: Setting FBAModel computed_attributes to mdlutl attributes\n",
      "1717570647.818204 INFO: metabolites 1201\n",
      "1717570648.03732 INFO: reactions 1175\n",
      "1717570648.565485 INFO: Default biomass: [bio1]\n",
      "1717570662.096224 INFO: cpd35610 not found in model!\n",
      "1717570662.096874 CRITICAL: Metabolite cpd35610 not found in model\n",
      "1717570662.111309 INFO: cpd07053 not found in model!\n",
      "1717570662.112055 CRITICAL: Metabolite cpd07053 not found in model\n",
      "1717570662.112512 INFO: cpd04945 not found in model!\n",
      "1717570662.1129239 CRITICAL: Metabolite cpd04945 not found in model\n",
      "1717570662.2531068 WARNING: Ignoring reaction 'rxn00272_c0' since it already exists.\n",
      "1717570662.4774232 INFO: Setting FBAModel computed_attributes to mdlutl attributes\n",
      "1717570665.344519 INFO: metabolites 1013\n",
      "1717570665.54333 INFO: reactions 997\n",
      "1717570666.065145 INFO: Default biomass: [bio1]\n",
      "1717570680.037132 INFO: cpd35610 not found in model!\n",
      "1717570680.0376692 CRITICAL: Metabolite cpd35610 not found in model\n",
      "1717570680.0507798 INFO: cpd07053 not found in model!\n",
      "1717570680.051543 CRITICAL: Metabolite cpd07053 not found in model\n",
      "1717570680.052309 INFO: cpd04945 not found in model!\n",
      "1717570680.0537112 CRITICAL: Metabolite cpd04945 not found in model\n",
      "1717570680.0860019 WARNING: Ignoring reaction 'rxn00953_c0' since it already exists.\n",
      "1717570680.160995 WARNING: Ignoring reaction 'rxn05561_c0' since it already exists.\n",
      "1717570680.24236 WARNING: Ignoring reaction 'rxn00086_c0' since it already exists.\n",
      "1717570680.2569869 WARNING: Ignoring reaction 'rxn00949_c0' since it already exists.\n",
      "1717570680.3289542 WARNING: Ignoring reaction 'rxn09180_c0' since it already exists.\n",
      "1717570680.358997 INFO: Setting FBAModel computed_attributes to mdlutl attributes\n",
      "1717570684.4141061 INFO: metabolites 1057\n",
      "1717570684.5869591 INFO: reactions 967\n",
      "1717570685.060626 INFO: Default biomass: [bio1]\n",
      "1717570698.638968 INFO: cpd35610 not found in model!\n",
      "1717570698.639679 CRITICAL: Metabolite cpd35610 not found in model\n",
      "1717570698.653812 INFO: cpd07053 not found in model!\n",
      "1717570698.654814 CRITICAL: Metabolite cpd07053 not found in model\n",
      "1717570698.655514 INFO: cpd04945 not found in model!\n",
      "1717570698.656738 CRITICAL: Metabolite cpd04945 not found in model\n",
      "1717570698.6923819 WARNING: Ignoring reaction 'rxn00910_c0' since it already exists.\n",
      "1717570698.939935 WARNING: Ignoring reaction 'rxn00611_c0' since it already exists.\n",
      "1717570699.0320299 WARNING: Ignoring reaction 'rxn00949_c0' since it already exists.\n"
     ]
    },
    {
     "name": "stdout",
     "output_type": "stream",
     "text": [
      "Burkholderiales.1 Missing reaction EX_cpd00557_c0 {'>': 0.26900660065435866, '<': 1.475286956255928}\n"
     ]
    },
    {
     "name": "stderr",
     "output_type": "stream",
     "text": [
      "1717570699.073429 INFO: Setting FBAModel computed_attributes to mdlutl attributes\n",
      "1717570702.774743 INFO: metabolites 1061\n",
      "1717570703.025822 INFO: reactions 1026\n",
      "1717570703.496184 INFO: Default biomass: [bio1]\n",
      "1717570716.996038 INFO: cpd35610 not found in model!\n",
      "1717570716.996695 CRITICAL: Metabolite cpd35610 not found in model\n",
      "1717570717.0114172 INFO: cpd07053 not found in model!\n",
      "1717570717.012068 CRITICAL: Metabolite cpd07053 not found in model\n",
      "1717570717.012534 INFO: cpd04945 not found in model!\n",
      "1717570717.012958 CRITICAL: Metabolite cpd04945 not found in model\n",
      "1717570717.0854 WARNING: Ignoring reaction 'rxn00949_c0' since it already exists.\n",
      "1717570717.1809049 WARNING: Ignoring reaction 'rxn00251_c0' since it already exists.\n",
      "1717570717.225774 WARNING: Ignoring reaction 'rxn09657_c0' since it already exists.\n",
      "1717570717.326119 WARNING: Ignoring reaction 'rxn00350_c0' since it already exists.\n",
      "1717570717.3269372 WARNING: Ignoring reaction 'rxn09231_c0' since it already exists.\n"
     ]
    },
    {
     "name": "stdout",
     "output_type": "stream",
     "text": [
      "Agathobacter.1 Missing reaction EX_cpd00557_c0 {'>': 0.34507110230295723}\n"
     ]
    },
    {
     "name": "stderr",
     "output_type": "stream",
     "text": [
      "1717570717.4663548 WARNING: Ignoring reaction 'rxn02229_c0' since it already exists.\n",
      "1717570717.697876 INFO: Setting FBAModel computed_attributes to mdlutl attributes\n",
      "1717570719.9605 INFO: metabolites 1098\n",
      "1717570720.185073 INFO: reactions 1057\n",
      "1717570720.700823 INFO: Default biomass: [bio1]\n",
      "1717570734.30571 INFO: cpd35610 not found in model!\n",
      "1717570734.306357 CRITICAL: Metabolite cpd35610 not found in model\n",
      "1717570734.320974 INFO: cpd07053 not found in model!\n",
      "1717570734.321711 CRITICAL: Metabolite cpd07053 not found in model\n",
      "1717570734.32215 INFO: cpd04945 not found in model!\n",
      "1717570734.322518 CRITICAL: Metabolite cpd04945 not found in model\n",
      "1717570734.406564 WARNING: Ignoring reaction 'rxn01265_c0' since it already exists.\n",
      "1717570734.534185 WARNING: Ignoring reaction 'rxn00467_c0' since it already exists.\n"
     ]
    },
    {
     "name": "stdout",
     "output_type": "stream",
     "text": [
      "Bacteroides.5 Missing reaction EX_cpd00557_c0 {'<': 1.5448557994739005}\n"
     ]
    },
    {
     "name": "stderr",
     "output_type": "stream",
     "text": [
      "1717570734.743888 INFO: Setting FBAModel computed_attributes to mdlutl attributes\n",
      "1717570737.082041 INFO: metabolites 1421\n",
      "1717570737.4070568 INFO: reactions 1487\n",
      "1717570738.161236 INFO: Default biomass: [bio1]\n",
      "1717570752.211336 INFO: cpd35610 not found in model!\n",
      "1717570752.212001 CRITICAL: Metabolite cpd35610 not found in model\n",
      "1717570752.227063 INFO: cpd07053 not found in model!\n",
      "1717570752.228559 CRITICAL: Metabolite cpd07053 not found in model\n",
      "1717570752.2299452 INFO: cpd04945 not found in model!\n",
      "1717570752.231157 CRITICAL: Metabolite cpd04945 not found in model\n",
      "1717570752.4576142 INFO: Setting FBAModel computed_attributes to mdlutl attributes\n",
      "1717570755.4712162 INFO: metabolites 1542\n",
      "1717570755.796177 INFO: reactions 1695\n",
      "1717570756.583915 INFO: Default biomass: [bio1]\n",
      "1717570770.302659 INFO: cpd35610 not found in model!\n",
      "1717570770.30328 CRITICAL: Metabolite cpd35610 not found in model\n",
      "1717570770.3178408 INFO: cpd07053 not found in model!\n",
      "1717570770.318645 CRITICAL: Metabolite cpd07053 not found in model\n",
      "1717570770.3190882 INFO: cpd04945 not found in model!\n",
      "1717570770.3195 CRITICAL: Metabolite cpd04945 not found in model\n",
      "1717570770.4577332 INFO: Setting FBAModel computed_attributes to mdlutl attributes\n",
      "1717570773.6169221 INFO: metabolites 1360\n",
      "1717570773.908882 INFO: reactions 1359\n",
      "1717570774.615102 INFO: Default biomass: [bio1]\n",
      "1717570788.715425 INFO: cpd35610 not found in model!\n",
      "1717570788.716133 CRITICAL: Metabolite cpd35610 not found in model\n",
      "1717570788.729731 INFO: cpd07053 not found in model!\n",
      "1717570788.730602 CRITICAL: Metabolite cpd07053 not found in model\n",
      "1717570788.731453 INFO: cpd04945 not found in model!\n",
      "1717570788.7324219 CRITICAL: Metabolite cpd04945 not found in model\n",
      "1717570788.860559 WARNING: Ignoring reaction 'rxn00430_c0' since it already exists.\n",
      "1717570788.890274 WARNING: Ignoring reaction 'rxn05289_c0' since it already exists.\n",
      "1717570788.943904 INFO: Setting FBAModel computed_attributes to mdlutl attributes\n",
      "1717570791.461437 INFO: metabolites 1066\n",
      "1717570791.646008 INFO: reactions 1049\n",
      "1717570792.1151319 INFO: Default biomass: [bio1]\n",
      "1717570806.24172 INFO: cpd35610 not found in model!\n",
      "1717570806.2424011 CRITICAL: Metabolite cpd35610 not found in model\n",
      "1717570806.257725 INFO: cpd07053 not found in model!\n",
      "1717570806.258386 CRITICAL: Metabolite cpd07053 not found in model\n",
      "1717570806.258819 INFO: cpd04945 not found in model!\n",
      "1717570806.2591739 CRITICAL: Metabolite cpd04945 not found in model\n",
      "1717570806.289931 WARNING: Ignoring reaction 'rxn00910_c0' since it already exists.\n",
      "1717570806.568588 INFO: Setting FBAModel computed_attributes to mdlutl attributes\n",
      "1717570808.874593 INFO: metabolites 1427\n",
      "1717570809.164025 INFO: reactions 1468\n",
      "1717570809.852582 INFO: Default biomass: [bio1]\n",
      "1717570822.869782 INFO: cpd35610 not found in model!\n",
      "1717570822.8704588 CRITICAL: Metabolite cpd35610 not found in model\n",
      "1717570822.883929 INFO: cpd07053 not found in model!\n",
      "1717570822.8845801 CRITICAL: Metabolite cpd07053 not found in model\n",
      "1717570822.885356 INFO: cpd04945 not found in model!\n",
      "1717570822.88682 CRITICAL: Metabolite cpd04945 not found in model\n",
      "1717570823.056548 WARNING: Ignoring reaction 'rxn00350_c0' since it already exists.\n",
      "1717570823.25806 INFO: Setting FBAModel computed_attributes to mdlutl attributes\n",
      "1717570826.869428 INFO: metabolites 1200\n",
      "1717570827.0897229 INFO: reactions 1218\n",
      "1717570827.635985 INFO: Default biomass: [bio1]\n",
      "1717570841.731797 INFO: cpd35610 not found in model!\n",
      "1717570841.7324429 CRITICAL: Metabolite cpd35610 not found in model\n",
      "1717570841.747072 INFO: cpd07053 not found in model!\n",
      "1717570841.7477708 CRITICAL: Metabolite cpd07053 not found in model\n",
      "1717570841.7482398 INFO: cpd04945 not found in model!\n",
      "1717570841.74871 CRITICAL: Metabolite cpd04945 not found in model\n",
      "1717570841.774657 WARNING: Ignoring reaction 'rxn00693_c0' since it already exists.\n",
      "1717570841.95397 INFO: Setting FBAModel computed_attributes to mdlutl attributes\n",
      "1717570845.030155 INFO: metabolites 1137\n",
      "1717570845.248759 INFO: reactions 1094\n",
      "1717570845.7985559 INFO: Default biomass: [bio1]\n",
      "1717570859.6380239 INFO: cpd35610 not found in model!\n",
      "1717570859.6387148 CRITICAL: Metabolite cpd35610 not found in model\n",
      "1717570859.653173 INFO: cpd07053 not found in model!\n",
      "1717570859.65374 CRITICAL: Metabolite cpd07053 not found in model\n",
      "1717570859.654191 INFO: cpd04945 not found in model!\n",
      "1717570859.6545432 CRITICAL: Metabolite cpd04945 not found in model\n",
      "1717570859.711263 WARNING: Ignoring reaction 'rxn01265_c0' since it already exists.\n",
      "1717570859.954968 INFO: Setting FBAModel computed_attributes to mdlutl attributes\n",
      "1717570865.637534 INFO: metabolites 1176\n",
      "1717570865.856748 INFO: reactions 1196\n",
      "1717570866.383415 INFO: Default biomass: [bio1]\n",
      "1717570880.03905 INFO: cpd35610 not found in model!\n",
      "1717570880.039655 CRITICAL: Metabolite cpd35610 not found in model\n",
      "1717570880.053712 INFO: cpd07053 not found in model!\n",
      "1717570880.054569 CRITICAL: Metabolite cpd07053 not found in model\n",
      "1717570880.0553138 INFO: cpd04945 not found in model!\n",
      "1717570880.0563 CRITICAL: Metabolite cpd04945 not found in model\n",
      "1717570880.2545059 WARNING: Ignoring reaction 'rxn05289_c0' since it already exists.\n",
      "1717570880.2927392 WARNING: Ignoring reaction 'rxn00605_c0' since it already exists.\n",
      "1717570880.3176188 INFO: Setting FBAModel computed_attributes to mdlutl attributes\n"
     ]
    },
    {
     "name": "stdout",
     "output_type": "stream",
     "text": [
      "Staphylococcus.4 Missing reaction EX_cpd00557_c0 {'>': 0.9905748465095049}\n"
     ]
    },
    {
     "name": "stderr",
     "output_type": "stream",
     "text": [
      "1717570882.934697 INFO: metabolites 1111\n",
      "1717570883.158454 INFO: reactions 1116\n",
      "1717570883.6423838 INFO: Default biomass: [bio1]\n",
      "1717570897.313065 INFO: cpd35610 not found in model!\n",
      "1717570897.313749 CRITICAL: Metabolite cpd35610 not found in model\n",
      "1717570897.3333151 INFO: cpd07053 not found in model!\n",
      "1717570897.3346298 CRITICAL: Metabolite cpd07053 not found in model\n",
      "1717570897.3357341 INFO: cpd04945 not found in model!\n",
      "1717570897.336504 CRITICAL: Metabolite cpd04945 not found in model\n",
      "1717570897.3952389 WARNING: Ignoring reaction 'rxn09690_c0' since it already exists.\n",
      "1717570897.491095 WARNING: Ignoring reaction 'rxn05902_c0' since it already exists.\n",
      "1717570897.750937 WARNING: Ignoring reaction 'rxn10663_c0' since it already exists.\n",
      "1717570897.7882721 INFO: Setting FBAModel computed_attributes to mdlutl attributes\n",
      "1717570900.1732779 INFO: metabolites 1253\n",
      "1717570900.426307 INFO: reactions 1269\n",
      "1717570901.069628 INFO: Default biomass: [bio1]\n",
      "1717570915.193745 INFO: cpd35610 not found in model!\n",
      "1717570915.194338 CRITICAL: Metabolite cpd35610 not found in model\n",
      "1717570915.207357 INFO: cpd07053 not found in model!\n",
      "1717570915.2079391 CRITICAL: Metabolite cpd07053 not found in model\n",
      "1717570915.2086668 INFO: cpd04945 not found in model!\n",
      "1717570915.209995 CRITICAL: Metabolite cpd04945 not found in model\n",
      "1717570915.24168 WARNING: Ignoring reaction 'rxn05243_c0' since it already exists.\n",
      "1717570915.468435 INFO: Setting FBAModel computed_attributes to mdlutl attributes\n",
      "1717570919.579366 INFO: metabolites 1133\n",
      "1717570919.821666 INFO: reactions 1155\n",
      "1717570920.416238 INFO: Default biomass: [bio1]\n",
      "1717570933.3502872 INFO: cpd35610 not found in model!\n",
      "1717570933.3508532 CRITICAL: Metabolite cpd35610 not found in model\n",
      "1717570933.366208 INFO: cpd07053 not found in model!\n",
      "1717570933.366911 CRITICAL: Metabolite cpd07053 not found in model\n",
      "1717570933.367315 INFO: cpd04945 not found in model!\n",
      "1717570933.367826 CRITICAL: Metabolite cpd04945 not found in model\n",
      "1717570933.558111 INFO: Setting FBAModel computed_attributes to mdlutl attributes\n",
      "1717570936.023892 INFO: metabolites 1450\n",
      "1717570936.296288 INFO: reactions 1397\n",
      "1717570936.9293828 INFO: Default biomass: [bio1]\n",
      "1717570951.7112541 INFO: cpd35610 not found in model!\n",
      "1717570951.711824 CRITICAL: Metabolite cpd35610 not found in model\n",
      "1717570951.72768 INFO: cpd07053 not found in model!\n",
      "1717570951.728607 CRITICAL: Metabolite cpd07053 not found in model\n",
      "1717570951.729402 INFO: cpd04945 not found in model!\n",
      "1717570951.73039 CRITICAL: Metabolite cpd04945 not found in model\n",
      "1717570951.9223459 WARNING: Ignoring reaction 'rxn00347_c0' since it already exists.\n",
      "1717570951.962275 INFO: Setting FBAModel computed_attributes to mdlutl attributes\n",
      "1717570955.3543181 INFO: metabolites 944\n",
      "1717570955.50383 INFO: reactions 893\n",
      "1717570955.8883982 INFO: Default biomass: [bio1]\n",
      "1717570969.426124 INFO: cpd35610 not found in model!\n",
      "1717570969.4267619 CRITICAL: Metabolite cpd35610 not found in model\n",
      "1717570969.439868 INFO: cpd07053 not found in model!\n",
      "1717570969.44074 CRITICAL: Metabolite cpd07053 not found in model\n",
      "1717570969.441557 INFO: cpd04945 not found in model!\n",
      "1717570969.442921 CRITICAL: Metabolite cpd04945 not found in model\n",
      "1717570969.459937 WARNING: Ignoring reaction 'rxn00362_c0' since it already exists.\n",
      "1717570969.693828 WARNING: Ignoring reaction 'rxn00173_c0' since it already exists.\n",
      "1717570969.7460139 WARNING: Ignoring reaction 'rxn05289_c0' since it already exists.\n",
      "1717570969.797935 WARNING: Ignoring reaction 'rxn09180_c0' since it already exists.\n",
      "1717570969.8053231 WARNING: Ignoring reaction 'rxn00991_c0' since it already exists.\n"
     ]
    },
    {
     "name": "stdout",
     "output_type": "stream",
     "text": [
      "Anaerofustis.1 Missing reaction EX_cpd00557_c0 {'>': 0.7840437372445838}\n"
     ]
    },
    {
     "name": "stderr",
     "output_type": "stream",
     "text": [
      "1717570969.91487 INFO: Setting FBAModel computed_attributes to mdlutl attributes\n",
      "1717570972.324377 INFO: metabolites 976\n",
      "1717570972.5065432 INFO: reactions 936\n",
      "1717570972.992886 INFO: Default biomass: [bio1]\n",
      "1717570986.78713 INFO: cpd35610 not found in model!\n",
      "1717570986.787791 CRITICAL: Metabolite cpd35610 not found in model\n",
      "1717570986.803193 INFO: cpd07053 not found in model!\n",
      "1717570986.803932 CRITICAL: Metabolite cpd07053 not found in model\n",
      "1717570986.804377 INFO: cpd04945 not found in model!\n",
      "1717570986.8047822 CRITICAL: Metabolite cpd04945 not found in model\n",
      "1717570986.857156 WARNING: Ignoring reaction 'rxn05299_c0' since it already exists.\n",
      "1717570987.0243998 WARNING: Ignoring reaction 'rxn00503_c0' since it already exists.\n"
     ]
    },
    {
     "name": "stdout",
     "output_type": "stream",
     "text": [
      "Clostridioides.2 Missing reaction EX_cpd00557_c0 {'>': 1.1050364907154981}\n"
     ]
    },
    {
     "name": "stderr",
     "output_type": "stream",
     "text": [
      "1717570987.226797 WARNING: Ignoring reaction 'rxn00023_c0' since it already exists.\n",
      "1717570987.340891 WARNING: Ignoring reaction 'rxn03978_c0' since it already exists.\n",
      "1717570987.375568 INFO: Setting FBAModel computed_attributes to mdlutl attributes\n",
      "1717570989.7095768 INFO: metabolites 1118\n",
      "1717570989.940402 INFO: reactions 1084\n",
      "1717570990.483886 INFO: Default biomass: [bio1]\n",
      "1717571042.018656 INFO: cpd35610 not found in model!\n",
      "1717571042.0193348 CRITICAL: Metabolite cpd35610 not found in model\n",
      "1717571042.0333571 INFO: cpd07053 not found in model!\n",
      "1717571042.034122 CRITICAL: Metabolite cpd07053 not found in model\n",
      "1717571042.034969 INFO: cpd04945 not found in model!\n",
      "1717571042.036339 CRITICAL: Metabolite cpd04945 not found in model\n",
      "1717571042.257076 WARNING: Ignoring reaction 'rxn00953_c0' since it already exists.\n",
      "1717571042.272099 WARNING: Ignoring reaction 'rxn00693_c0' since it already exists.\n",
      "1717571042.304011 INFO: Setting FBAModel computed_attributes to mdlutl attributes\n",
      "1717571045.323821 INFO: metabolites 1262\n",
      "1717571045.56129 INFO: reactions 1282\n",
      "1717571046.1376379 INFO: Default biomass: [bio1]\n",
      "1717571059.467149 INFO: cpd35610 not found in model!\n",
      "1717571059.467744 CRITICAL: Metabolite cpd35610 not found in model\n",
      "1717571059.481635 INFO: cpd07053 not found in model!\n",
      "1717571059.483218 CRITICAL: Metabolite cpd07053 not found in model\n",
      "1717571059.4841821 INFO: cpd04945 not found in model!\n",
      "1717571059.485076 CRITICAL: Metabolite cpd04945 not found in model\n",
      "1717571059.688002 INFO: Setting FBAModel computed_attributes to mdlutl attributes\n",
      "1717571062.0656042 INFO: metabolites 957\n",
      "1717571062.2073758 INFO: reactions 887\n",
      "1717571062.5925639 INFO: Default biomass: [bio1]\n",
      "1717571075.6679611 INFO: cpd35610 not found in model!\n",
      "1717571075.6686149 CRITICAL: Metabolite cpd35610 not found in model\n",
      "1717571075.682055 INFO: cpd07053 not found in model!\n",
      "1717571075.682771 CRITICAL: Metabolite cpd07053 not found in model\n",
      "1717571075.683609 INFO: cpd04945 not found in model!\n",
      "1717571075.685181 CRITICAL: Metabolite cpd04945 not found in model\n",
      "1717571075.74752 WARNING: Ignoring reaction 'rxn05299_c0' since it already exists.\n",
      "1717571075.748698 WARNING: Ignoring reaction 'rxn05244_c0' since it already exists.\n",
      "1717571075.811202 WARNING: Ignoring reaction 'rxn05669_c0' since it already exists.\n",
      "1717571075.945413 WARNING: Ignoring reaction 'rxn02123_c0' since it already exists.\n",
      "1717571075.974328 WARNING: Ignoring reaction 'rxn00251_c0' since it already exists.\n",
      "1717571075.9834769 WARNING: Ignoring reaction 'rxn00499_c0' since it already exists.\n",
      "1717571076.0144682 INFO: Setting FBAModel computed_attributes to mdlutl attributes\n"
     ]
    },
    {
     "name": "stdout",
     "output_type": "stream",
     "text": [
      "Nosocomiicoccus.1 Missing reaction EX_cpd00557_c0 {'>': 1.1392088944154777}\n"
     ]
    },
    {
     "name": "stderr",
     "output_type": "stream",
     "text": [
      "1717571078.610423 INFO: metabolites 1198\n",
      "1717571078.82395 INFO: reactions 1170\n",
      "1717571079.3615758 INFO: Default biomass: [bio1]\n",
      "1717571092.227147 INFO: cpd35610 not found in model!\n",
      "1717571092.227756 CRITICAL: Metabolite cpd35610 not found in model\n",
      "1717571092.241557 INFO: cpd07053 not found in model!\n",
      "1717571092.242732 CRITICAL: Metabolite cpd07053 not found in model\n",
      "1717571092.243584 INFO: cpd04945 not found in model!\n",
      "1717571092.244643 CRITICAL: Metabolite cpd04945 not found in model\n",
      "1717571092.434443 INFO: Setting FBAModel computed_attributes to mdlutl attributes\n",
      "1717571094.9513202 INFO: metabolites 1483\n",
      "1717571095.234635 INFO: reactions 1573\n",
      "1717571095.983779 INFO: Default biomass: [bio1]\n",
      "1717571110.794912 INFO: cpd35610 not found in model!\n",
      "1717571110.795486 CRITICAL: Metabolite cpd35610 not found in model\n",
      "1717571110.810397 INFO: cpd07053 not found in model!\n",
      "1717571110.811311 CRITICAL: Metabolite cpd07053 not found in model\n",
      "1717571110.8122728 INFO: cpd04945 not found in model!\n",
      "1717571110.813356 CRITICAL: Metabolite cpd04945 not found in model\n",
      "1717571110.9762628 INFO: Setting FBAModel computed_attributes to mdlutl attributes\n",
      "1717571114.768245 INFO: metabolites 988\n",
      "1717571114.9346828 INFO: reactions 977\n",
      "1717571115.358231 INFO: Default biomass: [bio1]\n",
      "1717571128.399725 INFO: cpd35610 not found in model!\n",
      "1717571128.400384 CRITICAL: Metabolite cpd35610 not found in model\n",
      "1717571128.4135208 INFO: cpd07053 not found in model!\n",
      "1717571128.414189 CRITICAL: Metabolite cpd07053 not found in model\n",
      "1717571128.414839 INFO: cpd04945 not found in model!\n",
      "1717571128.416235 CRITICAL: Metabolite cpd04945 not found in model\n",
      "1717571128.454238 WARNING: Ignoring reaction 'rxn09690_c0' since it already exists.\n",
      "1717571128.7469819 INFO: Setting FBAModel computed_attributes to mdlutl attributes\n"
     ]
    },
    {
     "name": "stdout",
     "output_type": "stream",
     "text": [
      "Candidatus.1 Missing reaction EX_cpd00557_c0 {'>': 0.32356908232022863}\n"
     ]
    },
    {
     "name": "stderr",
     "output_type": "stream",
     "text": [
      "1717571131.0147588 INFO: metabolites 1071\n",
      "1717571131.2113202 INFO: reactions 1030\n",
      "1717571131.671773 INFO: Default biomass: [bio1]\n",
      "1717571145.8830268 INFO: cpd35610 not found in model!\n",
      "1717571145.8836532 CRITICAL: Metabolite cpd35610 not found in model\n",
      "1717571145.898556 INFO: cpd07053 not found in model!\n",
      "1717571145.899285 CRITICAL: Metabolite cpd07053 not found in model\n",
      "1717571145.899762 INFO: cpd04945 not found in model!\n",
      "1717571145.90024 CRITICAL: Metabolite cpd04945 not found in model\n"
     ]
    },
    {
     "name": "stdout",
     "output_type": "stream",
     "text": [
      "Moraxella.1 Missing reaction EX_cpd00557_c0 {'>': 1.1400556673132787}\n"
     ]
    },
    {
     "name": "stderr",
     "output_type": "stream",
     "text": [
      "1717571146.198477 INFO: Setting FBAModel computed_attributes to mdlutl attributes\n",
      "1717571148.6276731 INFO: metabolites 943\n",
      "1717571148.801193 INFO: reactions 903\n",
      "1717571149.268908 INFO: Default biomass: [bio1]\n",
      "1717571163.04233 INFO: cpd35610 not found in model!\n",
      "1717571163.043442 CRITICAL: Metabolite cpd35610 not found in model\n",
      "1717571163.059529 INFO: cpd07053 not found in model!\n",
      "1717571163.060364 CRITICAL: Metabolite cpd07053 not found in model\n",
      "1717571163.060891 INFO: cpd04945 not found in model!\n",
      "1717571163.061536 CRITICAL: Metabolite cpd04945 not found in model\n",
      "1717571163.07825 WARNING: Ignoring reaction 'rxn00362_c0' since it already exists.\n",
      "1717571163.095546 WARNING: Ignoring reaction 'rxn09180_c0' since it already exists.\n",
      "1717571163.0965729 WARNING: Ignoring reaction 'rxn00520_c0' since it already exists.\n",
      "1717571163.309011 WARNING: Ignoring reaction 'rxn03978_c0' since it already exists.\n",
      "1717571163.4459531 WARNING: Ignoring reaction 'rxn00272_c0' since it already exists.\n",
      "1717571163.5711858 INFO: Setting FBAModel computed_attributes to mdlutl attributes\n"
     ]
    },
    {
     "name": "stdout",
     "output_type": "stream",
     "text": [
      "Gottschalkia.1 Missing reaction EX_cpd00557_c0 {'>': 0.6670271743623645}\n"
     ]
    },
    {
     "name": "stderr",
     "output_type": "stream",
     "text": [
      "1717571165.745812 INFO: metabolites 1053\n",
      "1717571165.9323761 INFO: reactions 1024\n",
      "1717571166.381301 INFO: Default biomass: [bio1]\n",
      "1717571180.6521559 INFO: cpd35610 not found in model!\n",
      "1717571180.652755 CRITICAL: Metabolite cpd35610 not found in model\n",
      "1717571180.66694 INFO: cpd07053 not found in model!\n",
      "1717571180.66818 CRITICAL: Metabolite cpd07053 not found in model\n",
      "1717571180.669462 INFO: cpd04945 not found in model!\n",
      "1717571180.670602 CRITICAL: Metabolite cpd04945 not found in model\n",
      "1717571180.821182 WARNING: Ignoring reaction 'rxn00467_c0' since it already exists.\n",
      "1717571180.931989 INFO: Setting FBAModel computed_attributes to mdlutl attributes\n",
      "1717571183.291231 INFO: metabolites 1413\n",
      "1717571183.554265 INFO: reactions 1444\n",
      "1717571184.193546 INFO: Default biomass: [bio1]\n",
      "1717571198.552763 INFO: cpd35610 not found in model!\n",
      "1717571198.553417 CRITICAL: Metabolite cpd35610 not found in model\n",
      "1717571198.568107 INFO: cpd07053 not found in model!\n",
      "1717571198.568871 CRITICAL: Metabolite cpd07053 not found in model\n",
      "1717571198.56931 INFO: cpd04945 not found in model!\n",
      "1717571198.569698 CRITICAL: Metabolite cpd04945 not found in model\n",
      "1717571198.794752 INFO: Setting FBAModel computed_attributes to mdlutl attributes\n",
      "1717571201.465835 INFO: metabolites 1079\n",
      "1717571201.671072 INFO: reactions 1048\n",
      "1717571202.197325 INFO: Default biomass: [bio1]\n",
      "1717571215.735429 INFO: cpd35610 not found in model!\n",
      "1717571215.736064 CRITICAL: Metabolite cpd35610 not found in model\n",
      "1717571215.750237 INFO: cpd07053 not found in model!\n",
      "1717571215.751094 CRITICAL: Metabolite cpd07053 not found in model\n",
      "1717571215.7519512 INFO: cpd04945 not found in model!\n",
      "1717571215.7531462 CRITICAL: Metabolite cpd04945 not found in model\n",
      "1717571215.77603 WARNING: Ignoring reaction 'rxn05217_c0' since it already exists.\n",
      "1717571215.823293 WARNING: Ignoring reaction 'rxn05310_c0' since it already exists.\n",
      "1717571215.8462138 WARNING: Ignoring reaction 'rxn05300_c0' since it already exists.\n",
      "1717571216.004867 WARNING: Ignoring reaction 'rxn00530_c0' since it already exists.\n",
      "1717571216.0055912 WARNING: Ignoring reaction 'rxn00949_c0' since it already exists.\n",
      "1717571216.0077922 WARNING: Ignoring reaction 'rxn00970_c0' since it already exists.\n",
      "1717571216.00892 WARNING: Ignoring reaction 'rxn00350_c0' since it already exists.\n"
     ]
    },
    {
     "name": "stdout",
     "output_type": "stream",
     "text": [
      "Marvinbryantia.1 Missing reaction EX_cpd00557_c0 {'>': 0.6403993013076826}\n"
     ]
    },
    {
     "name": "stderr",
     "output_type": "stream",
     "text": [
      "1717571216.1036701 WARNING: Ignoring reaction 'rxn05211_c0' since it already exists.\n",
      "1717571216.162127 WARNING: Ignoring reaction 'rxn00272_c0' since it already exists.\n",
      "1717571216.196647 WARNING: Ignoring reaction 'rxn10663_c0' since it already exists.\n",
      "1717571216.197546 WARNING: Ignoring reaction 'rxn00616_c0' since it already exists.\n",
      "1717571216.2465 WARNING: Ignoring reaction 'rxn13838_c0' since it already exists.\n",
      "1717571216.255796 WARNING: Ignoring reaction 'rxn00502_c0' since it already exists.\n",
      "1717571216.264492 INFO: Setting FBAModel computed_attributes to mdlutl attributes\n",
      "1717571218.700889 INFO: metabolites 1373\n",
      "1717571218.958592 INFO: reactions 1376\n",
      "1717571219.559214 INFO: Default biomass: [bio1]\n",
      "1717571233.7824 INFO: cpd35610 not found in model!\n",
      "1717571233.782978 CRITICAL: Metabolite cpd35610 not found in model\n",
      "1717571233.796962 INFO: cpd07053 not found in model!\n",
      "1717571233.79789 CRITICAL: Metabolite cpd07053 not found in model\n",
      "1717571233.798688 INFO: cpd04945 not found in model!\n",
      "1717571233.799797 CRITICAL: Metabolite cpd04945 not found in model\n",
      "1717571233.979313 INFO: Setting FBAModel computed_attributes to mdlutl attributes\n",
      "1717571237.732337 INFO: metabolites 1001\n",
      "1717571237.89108 INFO: reactions 964\n",
      "1717571238.313083 INFO: Default biomass: [bio1]\n",
      "1717571251.701953 INFO: cpd35610 not found in model!\n",
      "1717571251.7026172 CRITICAL: Metabolite cpd35610 not found in model\n",
      "1717571251.71715 INFO: cpd07053 not found in model!\n",
      "1717571251.7178519 CRITICAL: Metabolite cpd07053 not found in model\n",
      "1717571251.718328 INFO: cpd04945 not found in model!\n",
      "1717571251.718724 CRITICAL: Metabolite cpd04945 not found in model\n",
      "1717571251.725547 WARNING: Ignoring reaction 'rxn00251_c0' since it already exists.\n",
      "1717571251.796928 WARNING: Ignoring reaction 'rxn00949_c0' since it already exists.\n",
      "1717571251.9904718 WARNING: Ignoring reaction 'rxn00272_c0' since it already exists.\n",
      "1717571252.095436 WARNING: Ignoring reaction 'rxn00350_c0' since it already exists.\n",
      "1717571252.097573 WARNING: Ignoring reaction 'rxn11732_c0' since it already exists.\n",
      "1717571252.181868 WARNING: Ignoring reaction 'rxn05902_c0' since it already exists.\n"
     ]
    },
    {
     "name": "stdout",
     "output_type": "stream",
     "text": [
      "Kandleria.1 Missing reaction EX_cpd00557_c0 {'<': 2.2647329547035095, '>': 0.3403918336559934}\n"
     ]
    },
    {
     "name": "stderr",
     "output_type": "stream",
     "text": [
      "1717571252.3487859 INFO: Setting FBAModel computed_attributes to mdlutl attributes\n",
      "1717571255.330185 INFO: metabolites 1195\n",
      "1717571255.532779 INFO: reactions 1190\n",
      "1717571256.081229 INFO: Default biomass: [bio1]\n",
      "1717571270.676325 INFO: cpd35610 not found in model!\n",
      "1717571270.676974 CRITICAL: Metabolite cpd35610 not found in model\n",
      "1717571270.691524 INFO: cpd07053 not found in model!\n",
      "1717571270.692241 CRITICAL: Metabolite cpd07053 not found in model\n",
      "1717571270.69265 INFO: cpd04945 not found in model!\n",
      "1717571270.693061 CRITICAL: Metabolite cpd04945 not found in model\n",
      "1717571270.779753 WARNING: Ignoring reaction 'rxn01265_c0' since it already exists.\n"
     ]
    },
    {
     "name": "stdout",
     "output_type": "stream",
     "text": [
      "Parabacteroides.1 Missing reaction EX_cpd00557_c0 {'>': 1.204925900193631}\n"
     ]
    },
    {
     "name": "stderr",
     "output_type": "stream",
     "text": [
      "1717571271.063724 INFO: Setting FBAModel computed_attributes to mdlutl attributes\n",
      "1717571274.115529 INFO: metabolites 1307\n",
      "1717571274.371118 INFO: reactions 1357\n",
      "1717571274.9763489 INFO: Default biomass: [bio1]\n",
      "1717571288.552088 INFO: cpd35610 not found in model!\n",
      "1717571288.552734 CRITICAL: Metabolite cpd35610 not found in model\n",
      "1717571288.567402 INFO: cpd07053 not found in model!\n",
      "1717571288.568204 CRITICAL: Metabolite cpd07053 not found in model\n",
      "1717571288.5686631 INFO: cpd04945 not found in model!\n",
      "1717571288.569294 CRITICAL: Metabolite cpd04945 not found in model\n",
      "1717571288.865473 WARNING: Ignoring reaction 'rxn00350_c0' since it already exists.\n",
      "1717571289.125489 INFO: Setting FBAModel computed_attributes to mdlutl attributes\n",
      "1717571291.742018 INFO: metabolites 1117\n",
      "1717571291.961946 INFO: reactions 1085\n",
      "1717571292.515542 INFO: Default biomass: [bio1]\n",
      "1717571305.970281 INFO: cpd35610 not found in model!\n",
      "1717571305.9708679 CRITICAL: Metabolite cpd35610 not found in model\n",
      "1717571305.9848802 INFO: cpd07053 not found in model!\n",
      "1717571305.985804 CRITICAL: Metabolite cpd07053 not found in model\n",
      "1717571305.9866922 INFO: cpd04945 not found in model!\n",
      "1717571305.987621 CRITICAL: Metabolite cpd04945 not found in model\n",
      "1717571305.9947321 WARNING: Ignoring reaction 'rxn00251_c0' since it already exists.\n",
      "1717571306.2447438 WARNING: Ignoring reaction 'rxn00260_c0' since it already exists.\n",
      "1717571306.291945 WARNING: Ignoring reaction 'rxn00541_c0' since it already exists.\n",
      "1717571306.374451 INFO: Setting FBAModel computed_attributes to mdlutl attributes\n",
      "1717571309.627221 INFO: metabolites 1133\n",
      "1717571309.8781528 INFO: reactions 1157\n",
      "1717571310.385781 INFO: Default biomass: [bio1]\n",
      "1717571324.350734 INFO: cpd35610 not found in model!\n",
      "1717571324.351437 CRITICAL: Metabolite cpd35610 not found in model\n",
      "1717571324.3662689 INFO: cpd07053 not found in model!\n",
      "1717571324.3669078 CRITICAL: Metabolite cpd07053 not found in model\n",
      "1717571324.367386 INFO: cpd04945 not found in model!\n",
      "1717571324.367755 CRITICAL: Metabolite cpd04945 not found in model\n",
      "1717571324.591833 INFO: Setting FBAModel computed_attributes to mdlutl attributes\n",
      "1717571327.380097 INFO: metabolites 1501\n",
      "1717571327.703763 INFO: reactions 1595\n",
      "1717571328.4573061 INFO: Default biomass: [bio1]\n",
      "1717571342.5495622 INFO: cpd35610 not found in model!\n",
      "1717571342.550192 CRITICAL: Metabolite cpd35610 not found in model\n",
      "1717571342.564857 INFO: cpd07053 not found in model!\n",
      "1717571342.5656419 CRITICAL: Metabolite cpd07053 not found in model\n",
      "1717571342.566089 INFO: cpd04945 not found in model!\n",
      "1717571342.566491 CRITICAL: Metabolite cpd04945 not found in model\n",
      "1717571342.718749 WARNING: Ignoring reaction 'rxn05289_c0' since it already exists.\n",
      "1717571342.8353121 INFO: Setting FBAModel computed_attributes to mdlutl attributes\n",
      "1717571345.542814 INFO: metabolites 1085\n",
      "1717571345.776814 INFO: reactions 1069\n",
      "1717571346.393831 INFO: Default biomass: [bio1]\n",
      "1717571360.682282 INFO: cpd35610 not found in model!\n",
      "1717571360.682892 CRITICAL: Metabolite cpd35610 not found in model\n",
      "1717571360.697973 INFO: cpd07053 not found in model!\n",
      "1717571360.6988869 CRITICAL: Metabolite cpd07053 not found in model\n",
      "1717571360.699764 INFO: cpd04945 not found in model!\n",
      "1717571360.700994 CRITICAL: Metabolite cpd04945 not found in model\n",
      "1717571360.878283 WARNING: Ignoring reaction 'rxn00197_c0' since it already exists.\n",
      "1717571360.894648 WARNING: Ignoring reaction 'rxn09180_c0' since it already exists.\n",
      "1717571360.9853609 WARNING: Ignoring reaction 'rxn00272_c0' since it already exists.\n",
      "1717571361.077548 INFO: Setting FBAModel computed_attributes to mdlutl attributes\n"
     ]
    },
    {
     "name": "stdout",
     "output_type": "stream",
     "text": [
      "Coprobacillus.1 Missing reaction EX_cpd00557_c0 {'>': 0.6563130260135848}\n"
     ]
    },
    {
     "name": "stderr",
     "output_type": "stream",
     "text": [
      "1717571363.458627 INFO: metabolites 1278\n",
      "1717571363.7392309 INFO: reactions 1284\n",
      "1717571364.4176939 INFO: Default biomass: [bio1]\n",
      "1717571379.4232981 INFO: cpd35610 not found in model!\n",
      "1717571379.424008 CRITICAL: Metabolite cpd35610 not found in model\n",
      "1717571379.4385478 INFO: cpd07053 not found in model!\n",
      "1717571379.439255 CRITICAL: Metabolite cpd07053 not found in model\n",
      "1717571379.439751 INFO: cpd04945 not found in model!\n",
      "1717571379.440154 CRITICAL: Metabolite cpd04945 not found in model\n",
      "1717571379.765323 WARNING: Ignoring reaction 'rxn00704_c0' since it already exists.\n",
      "1717571379.976094 INFO: Setting FBAModel computed_attributes to mdlutl attributes\n",
      "1717571382.7854662 INFO: metabolites 1245\n",
      "1717571383.017696 INFO: reactions 1232\n",
      "1717571383.5737128 INFO: Default biomass: [bio1]\n",
      "1717571397.333032 INFO: cpd35610 not found in model!\n",
      "1717571397.333696 CRITICAL: Metabolite cpd35610 not found in model\n",
      "1717571397.348408 INFO: cpd07053 not found in model!\n",
      "1717571397.349082 CRITICAL: Metabolite cpd07053 not found in model\n",
      "1717571397.349535 INFO: cpd04945 not found in model!\n",
      "1717571397.349945 CRITICAL: Metabolite cpd04945 not found in model\n",
      "1717571397.508565 WARNING: Ignoring reaction 'rxn00935_c0' since it already exists.\n",
      "1717571397.545134 WARNING: Ignoring reaction 'rxn00272_c0' since it already exists.\n",
      "1717571397.5592299 WARNING: Ignoring reaction 'rxn05902_c0' since it already exists.\n",
      "1717571397.572774 WARNING: Ignoring reaction 'rxn00435_c0' since it already exists.\n",
      "1717571397.576611 WARNING: Ignoring reaction 'rxn00704_c0' since it already exists.\n",
      "1717571397.613714 WARNING: Ignoring reaction 'rxn09180_c0' since it already exists.\n",
      "1717571397.629771 INFO: Setting FBAModel computed_attributes to mdlutl attributes\n",
      "1717571402.767887 INFO: metabolites 1111\n",
      "1717571402.9637382 INFO: reactions 1070\n",
      "1717571403.4217238 INFO: Default biomass: [bio1]\n",
      "1717571416.997888 INFO: cpd35610 not found in model!\n",
      "1717571416.998521 CRITICAL: Metabolite cpd35610 not found in model\n",
      "1717571417.01205 INFO: cpd07053 not found in model!\n",
      "1717571417.012964 CRITICAL: Metabolite cpd07053 not found in model\n",
      "1717571417.013796 INFO: cpd04945 not found in model!\n",
      "1717571417.014952 CRITICAL: Metabolite cpd04945 not found in model\n",
      "1717571417.111091 WARNING: Ignoring reaction 'rxn01265_c0' since it already exists.\n",
      "1717571417.373164 INFO: Setting FBAModel computed_attributes to mdlutl attributes\n",
      "1717571421.138931 INFO: metabolites 1665\n",
      "1717571421.497803 INFO: reactions 1780\n",
      "1717571422.292681 INFO: Default biomass: [bio1]\n",
      "1717571436.7980459 INFO: cpd35610 not found in model!\n",
      "1717571436.7986891 CRITICAL: Metabolite cpd35610 not found in model\n",
      "1717571436.8131971 INFO: cpd07053 not found in model!\n",
      "1717571436.813955 CRITICAL: Metabolite cpd07053 not found in model\n",
      "1717571436.814383 INFO: cpd04945 not found in model!\n",
      "1717571436.814732 CRITICAL: Metabolite cpd04945 not found in model\n",
      "1717571436.965299 INFO: Setting FBAModel computed_attributes to mdlutl attributes\n",
      "1717571439.965475 INFO: metabolites 1193\n",
      "1717571440.180254 INFO: reactions 1195\n",
      "1717571440.711149 INFO: Default biomass: [bio1]\n",
      "1717571454.8294342 INFO: cpd35610 not found in model!\n",
      "1717571454.830118 CRITICAL: Metabolite cpd35610 not found in model\n",
      "1717571454.8444118 INFO: cpd07053 not found in model!\n",
      "1717571454.845073 CRITICAL: Metabolite cpd07053 not found in model\n",
      "1717571454.84551 INFO: cpd04945 not found in model!\n",
      "1717571454.845911 CRITICAL: Metabolite cpd04945 not found in model\n",
      "1717571454.977283 WARNING: Ignoring reaction 'rxn00784_c0' since it already exists.\n",
      "1717571455.155634 INFO: Setting FBAModel computed_attributes to mdlutl attributes\n"
     ]
    },
    {
     "name": "stdout",
     "output_type": "stream",
     "text": [
      "Acinetobacter.2 Missing reaction EX_cpd00557_c0 {'>': 0.5905095361410645}\n"
     ]
    },
    {
     "name": "stderr",
     "output_type": "stream",
     "text": [
      "1717571459.258185 INFO: metabolites 1171\n",
      "1717571459.480669 INFO: reactions 1188\n",
      "1717571459.997225 INFO: Default biomass: [bio1]\n",
      "1717571472.83366 INFO: cpd35610 not found in model!\n",
      "1717571472.834311 CRITICAL: Metabolite cpd35610 not found in model\n",
      "1717571472.8493419 INFO: cpd07053 not found in model!\n",
      "1717571472.850261 CRITICAL: Metabolite cpd07053 not found in model\n",
      "1717571472.850938 INFO: cpd04945 not found in model!\n",
      "1717571472.852248 CRITICAL: Metabolite cpd04945 not found in model\n",
      "1717571473.0440261 WARNING: Ignoring reaction 'rxn09180_c0' since it already exists.\n",
      "1717571473.193007 WARNING: Ignoring reaction 'rxn00693_c0' since it already exists.\n",
      "1717571473.215795 INFO: Setting FBAModel computed_attributes to mdlutl attributes\n",
      "1717571475.5209339 INFO: metabolites 1286\n",
      "1717571475.8012958 INFO: reactions 1290\n",
      "1717571476.472285 INFO: Default biomass: [bio1]\n",
      "1717571490.673179 INFO: cpd35610 not found in model!\n",
      "1717571490.6737332 CRITICAL: Metabolite cpd35610 not found in model\n",
      "1717571490.6893802 INFO: cpd07053 not found in model!\n",
      "1717571490.6901498 CRITICAL: Metabolite cpd07053 not found in model\n",
      "1717571490.691073 INFO: cpd04945 not found in model!\n",
      "1717571490.692238 CRITICAL: Metabolite cpd04945 not found in model\n",
      "1717571490.889045 WARNING: Ignoring reaction 'rxn09180_c0' since it already exists.\n",
      "1717571491.0587142 INFO: Setting FBAModel computed_attributes to mdlutl attributes\n",
      "1717571496.644345 INFO: metabolites 1055\n",
      "1717571496.827266 INFO: reactions 1030\n",
      "1717571497.283288 INFO: Default biomass: [bio1]\n",
      "1717571510.824634 INFO: cpd35610 not found in model!\n",
      "1717571510.825296 CRITICAL: Metabolite cpd35610 not found in model\n",
      "1717571510.839621 INFO: cpd07053 not found in model!\n",
      "1717571510.84031 CRITICAL: Metabolite cpd07053 not found in model\n",
      "1717571510.8407612 INFO: cpd04945 not found in model!\n",
      "1717571510.8411741 CRITICAL: Metabolite cpd04945 not found in model\n",
      "1717571511.114051 INFO: Setting FBAModel computed_attributes to mdlutl attributes\n",
      "1717571514.1713889 INFO: metabolites 1204\n",
      "1717571514.4425118 INFO: reactions 1244\n",
      "1717571515.0773451 INFO: Default biomass: [bio1]\n",
      "1717571528.3923259 INFO: cpd35610 not found in model!\n",
      "1717571528.3929942 CRITICAL: Metabolite cpd35610 not found in model\n",
      "1717571528.405956 INFO: cpd07053 not found in model!\n",
      "1717571528.406677 CRITICAL: Metabolite cpd07053 not found in model\n",
      "1717571528.407339 INFO: cpd04945 not found in model!\n",
      "1717571528.408705 CRITICAL: Metabolite cpd04945 not found in model\n",
      "1717571528.497808 WARNING: Ignoring reaction 'rxn05211_c0' since it already exists.\n",
      "1717571528.588832 INFO: Setting FBAModel computed_attributes to mdlutl attributes\n",
      "1717571531.9362292 INFO: metabolites 1348\n",
      "1717571532.181818 INFO: reactions 1349\n",
      "1717571532.764897 INFO: Default biomass: [bio1]\n",
      "1717571546.757354 INFO: cpd35610 not found in model!\n",
      "1717571546.757987 CRITICAL: Metabolite cpd35610 not found in model\n",
      "1717571546.772382 INFO: cpd07053 not found in model!\n",
      "1717571546.773111 CRITICAL: Metabolite cpd07053 not found in model\n",
      "1717571546.7735639 INFO: cpd04945 not found in model!\n",
      "1717571546.773962 CRITICAL: Metabolite cpd04945 not found in model\n",
      "1717571547.146888 INFO: Setting FBAModel computed_attributes to mdlutl attributes\n",
      "1717571550.043315 INFO: metabolites 1558\n",
      "1717571550.418307 INFO: reactions 1701\n",
      "1717571551.362786 INFO: Default biomass: [bio1]\n",
      "1717571565.320813 INFO: cpd35610 not found in model!\n",
      "1717571565.321501 CRITICAL: Metabolite cpd35610 not found in model\n",
      "1717571565.3348842 INFO: cpd07053 not found in model!\n",
      "1717571565.335406 CRITICAL: Metabolite cpd07053 not found in model\n",
      "1717571565.3362088 INFO: cpd04945 not found in model!\n",
      "1717571565.337564 CRITICAL: Metabolite cpd04945 not found in model\n",
      "1717571565.5145202 INFO: Setting FBAModel computed_attributes to mdlutl attributes\n",
      "1717571568.216973 INFO: metabolites 1266\n",
      "1717571568.471045 INFO: reactions 1373\n",
      "1717571569.086111 INFO: Default biomass: [bio1]\n",
      "1717571583.750147 INFO: cpd35610 not found in model!\n",
      "1717571583.750724 CRITICAL: Metabolite cpd35610 not found in model\n",
      "1717571583.765307 INFO: cpd07053 not found in model!\n",
      "1717571583.7659268 CRITICAL: Metabolite cpd07053 not found in model\n",
      "1717571583.7663732 INFO: cpd04945 not found in model!\n",
      "1717571583.766776 CRITICAL: Metabolite cpd04945 not found in model\n",
      "1717571583.972579 INFO: Setting FBAModel computed_attributes to mdlutl attributes\n"
     ]
    },
    {
     "name": "stdout",
     "output_type": "stream",
     "text": [
      "Pseudoalteromonas.1 Missing reaction EX_cpd00557_c0 {'>': 1.2241754452219247}\n"
     ]
    },
    {
     "name": "stderr",
     "output_type": "stream",
     "text": [
      "1717571587.469729 INFO: metabolites 1377\n",
      "1717571587.745983 INFO: reactions 1414\n",
      "1717571643.96981 INFO: Default biomass: [bio1]\n",
      "1717571657.548342 INFO: cpd35610 not found in model!\n",
      "1717571657.549013 CRITICAL: Metabolite cpd35610 not found in model\n",
      "1717571657.562228 INFO: cpd07053 not found in model!\n",
      "1717571657.5628412 CRITICAL: Metabolite cpd07053 not found in model\n",
      "1717571657.563434 INFO: cpd04945 not found in model!\n",
      "1717571657.564231 CRITICAL: Metabolite cpd04945 not found in model\n",
      "1717571657.6285021 WARNING: Ignoring reaction 'rxn05289_c0' since it already exists.\n",
      "1717571657.7175858 INFO: Setting FBAModel computed_attributes to mdlutl attributes\n"
     ]
    },
    {
     "name": "stdout",
     "output_type": "stream",
     "text": [
      "Reyranella.1 Missing reaction EX_cpd00557_c0 {'>': 0.40174949398504833}\n"
     ]
    },
    {
     "name": "stderr",
     "output_type": "stream",
     "text": [
      "1717571660.478706 INFO: metabolites 998\n",
      "1717571660.644823 INFO: reactions 957\n",
      "1717571661.0668402 INFO: Default biomass: [bio1]\n",
      "1717571674.484878 INFO: cpd35610 not found in model!\n",
      "1717571674.485486 CRITICAL: Metabolite cpd35610 not found in model\n",
      "1717571674.4996579 INFO: cpd07053 not found in model!\n",
      "1717571674.500424 CRITICAL: Metabolite cpd07053 not found in model\n",
      "1717571674.501226 INFO: cpd04945 not found in model!\n",
      "1717571674.50237 CRITICAL: Metabolite cpd04945 not found in model\n",
      "1717571674.5177112 WARNING: Ignoring reaction 'rxn00102_c0' since it already exists.\n",
      "1717571674.683543 WARNING: Ignoring reaction 'rxn00605_c0' since it already exists.\n",
      "1717571674.7593338 WARNING: Ignoring reaction 'rxn00949_c0' since it already exists.\n",
      "1717571674.7601511 WARNING: Ignoring reaction 'rxn00350_c0' since it already exists.\n",
      "1717571674.795466 WARNING: Ignoring reaction 'rxn00520_c0' since it already exists.\n",
      "1717571674.837864 WARNING: Ignoring reaction 'rxn00272_c0' since it already exists.\n",
      "1717571675.001951 INFO: Setting FBAModel computed_attributes to mdlutl attributes\n",
      "1717571679.489984 INFO: metabolites 939\n",
      "1717571679.6438148 INFO: reactions 901\n",
      "1717571680.086687 INFO: Default biomass: [bio1]\n",
      "1717571693.350379 INFO: cpd35610 not found in model!\n",
      "1717571693.3509781 CRITICAL: Metabolite cpd35610 not found in model\n",
      "1717571693.365077 INFO: cpd07053 not found in model!\n",
      "1717571693.365941 CRITICAL: Metabolite cpd07053 not found in model\n",
      "1717571693.366816 INFO: cpd04945 not found in model!\n",
      "1717571693.367761 CRITICAL: Metabolite cpd04945 not found in model\n",
      "1717571693.389451 WARNING: Ignoring reaction 'rxn00935_c0' since it already exists.\n",
      "1717571693.409406 WARNING: Ignoring reaction 'rxn13143_c0' since it already exists.\n",
      "1717571693.4152691 WARNING: Ignoring reaction 'rxn00275_c0' since it already exists.\n",
      "1717571693.560997 WARNING: Ignoring reaction 'rxn00830_c0' since it already exists.\n",
      "1717571693.58743 WARNING: Ignoring reaction 'rxn10663_c0' since it already exists.\n",
      "1717571693.5988538 WARNING: Ignoring reaction 'rxn09180_c0' since it already exists.\n",
      "1717571693.78406 INFO: Setting FBAModel computed_attributes to mdlutl attributes\n",
      "1717571697.0819871 INFO: metabolites 1268\n",
      "1717571697.312314 INFO: reactions 1306\n",
      "1717571697.898457 INFO: Default biomass: [bio1]\n",
      "1717571711.897245 INFO: cpd35610 not found in model!\n",
      "1717571711.897907 CRITICAL: Metabolite cpd35610 not found in model\n",
      "1717571711.912868 INFO: cpd07053 not found in model!\n",
      "1717571711.913557 CRITICAL: Metabolite cpd07053 not found in model\n",
      "1717571711.9140108 INFO: cpd04945 not found in model!\n",
      "1717571711.914437 CRITICAL: Metabolite cpd04945 not found in model\n",
      "1717571712.0744882 INFO: Setting FBAModel computed_attributes to mdlutl attributes\n",
      "1717571715.13633 INFO: metabolites 1272\n",
      "1717571715.378568 INFO: reactions 1292\n",
      "1717571715.963341 INFO: Default biomass: [bio1]\n",
      "1717571728.7813199 INFO: cpd35610 not found in model!\n",
      "1717571728.781916 CRITICAL: Metabolite cpd35610 not found in model\n",
      "1717571728.7991621 INFO: cpd07053 not found in model!\n",
      "1717571728.799789 CRITICAL: Metabolite cpd07053 not found in model\n",
      "1717571728.800233 INFO: cpd04945 not found in model!\n",
      "1717571728.80074 CRITICAL: Metabolite cpd04945 not found in model\n",
      "1717571729.055118 INFO: Setting FBAModel computed_attributes to mdlutl attributes\n",
      "1717571731.529821 INFO: metabolites 1384\n",
      "1717571731.809503 INFO: reactions 1430\n",
      "1717571732.4587572 INFO: Default biomass: [bio1]\n",
      "1717571747.6001751 INFO: cpd35610 not found in model!\n",
      "1717571747.600816 CRITICAL: Metabolite cpd35610 not found in model\n",
      "1717571747.6216729 INFO: cpd07053 not found in model!\n",
      "1717571747.622462 CRITICAL: Metabolite cpd07053 not found in model\n",
      "1717571747.622972 INFO: cpd04945 not found in model!\n",
      "1717571747.623648 CRITICAL: Metabolite cpd04945 not found in model\n",
      "1717571748.0521479 INFO: Setting FBAModel computed_attributes to mdlutl attributes\n",
      "1717571751.118249 INFO: metabolites 983\n",
      "1717571751.2715101 INFO: reactions 951\n",
      "1717571751.6796741 INFO: Default biomass: [bio1]\n",
      "1717571765.223369 INFO: cpd35610 not found in model!\n",
      "1717571765.224019 CRITICAL: Metabolite cpd35610 not found in model\n",
      "1717571765.2386408 INFO: cpd07053 not found in model!\n",
      "1717571765.239363 CRITICAL: Metabolite cpd07053 not found in model\n",
      "1717571765.239795 INFO: cpd04945 not found in model!\n",
      "1717571765.2402089 CRITICAL: Metabolite cpd04945 not found in model\n",
      "1717571765.276923 WARNING: Ignoring reaction 'rxn00693_c0' since it already exists.\n",
      "1717571765.41275 WARNING: Ignoring reaction 'rxn00704_c0' since it already exists.\n",
      "1717571765.44545 WARNING: Ignoring reaction 'rxn00935_c0' since it already exists.\n",
      "1717571765.4585779 WARNING: Ignoring reaction 'rxn00985_c0' since it already exists.\n",
      "1717571765.467363 WARNING: Ignoring reaction 'rxn00171_c0' since it already exists.\n",
      "1717571765.4993799 WARNING: Ignoring reaction 'rxn00278_c0' since it already exists.\n",
      "1717571765.540267 WARNING: Ignoring reaction 'rxn09180_c0' since it already exists.\n",
      "1717571765.549479 WARNING: Ignoring reaction 'rxn02269_c0' since it already exists.\n",
      "1717571765.634968 INFO: Setting FBAModel computed_attributes to mdlutl attributes\n",
      "1717571768.770331 INFO: metabolites 1142\n",
      "1717571769.0045178 INFO: reactions 1154\n",
      "1717571769.589121 INFO: Default biomass: [bio1]\n",
      "1717571783.145262 INFO: cpd35610 not found in model!\n",
      "1717571783.145925 CRITICAL: Metabolite cpd35610 not found in model\n",
      "1717571783.162103 INFO: cpd07053 not found in model!\n",
      "1717571783.162882 CRITICAL: Metabolite cpd07053 not found in model\n",
      "1717571783.163417 INFO: cpd04945 not found in model!\n",
      "1717571783.164145 CRITICAL: Metabolite cpd04945 not found in model\n",
      "1717571783.394331 WARNING: Ignoring reaction 'rxn00278_c0' since it already exists.\n",
      "1717571783.408125 WARNING: Ignoring reaction 'rxn10663_c0' since it already exists.\n",
      "1717571783.480247 INFO: Setting FBAModel computed_attributes to mdlutl attributes\n"
     ]
    },
    {
     "name": "stdout",
     "output_type": "stream",
     "text": [
      "Coprococcus.3 Missing reaction EX_cpd00557_c0 {'>': 0.05559736966674714}\n"
     ]
    },
    {
     "name": "stderr",
     "output_type": "stream",
     "text": [
      "1717571786.037261 INFO: metabolites 894\n",
      "1717571786.202626 INFO: reactions 880\n",
      "1717571786.629599 INFO: Default biomass: [bio1]\n",
      "1717571800.628292 INFO: cpd35610 not found in model!\n",
      "1717571800.628947 CRITICAL: Metabolite cpd35610 not found in model\n",
      "1717571800.644027 INFO: cpd07053 not found in model!\n",
      "1717571800.644753 CRITICAL: Metabolite cpd07053 not found in model\n",
      "1717571800.645183 INFO: cpd04945 not found in model!\n",
      "1717571800.645529 CRITICAL: Metabolite cpd04945 not found in model\n",
      "1717571800.71085 WARNING: Ignoring reaction 'rxn00272_c0' since it already exists.\n",
      "1717571800.7368479 WARNING: Ignoring reaction 'rxn05299_c0' since it already exists.\n",
      "1717571800.7654111 WARNING: Ignoring reaction 'rxn01265_c0' since it already exists.\n"
     ]
    },
    {
     "name": "stdout",
     "output_type": "stream",
     "text": [
      "Papillibacter.1 Missing reaction EX_cpd00557_c0 {'>': -0.1895880051501264, '<': 1.3292191334989027}\n"
     ]
    },
    {
     "name": "stderr",
     "output_type": "stream",
     "text": [
      "1717571801.058262 WARNING: Ignoring reaction 'rxn05902_c0' since it already exists.\n",
      "1717571801.074243 WARNING: Ignoring reaction 'rxn00606_c0' since it already exists.\n",
      "1717571801.075042 WARNING: Ignoring reaction 'rxn00605_c0' since it already exists.\n",
      "1717571801.100492 WARNING: Ignoring reaction 'rxn00551_c0' since it already exists.\n",
      "1717571801.16451 INFO: Setting FBAModel computed_attributes to mdlutl attributes\n",
      "1717571803.91766 INFO: metabolites 1207\n",
      "1717571804.168471 INFO: reactions 1241\n",
      "1717571804.791894 INFO: Default biomass: [bio1]\n",
      "1717571818.665439 INFO: cpd35610 not found in model!\n",
      "1717571818.666086 CRITICAL: Metabolite cpd35610 not found in model\n",
      "1717571818.680942 INFO: cpd07053 not found in model!\n",
      "1717571818.681887 CRITICAL: Metabolite cpd07053 not found in model\n",
      "1717571818.682949 INFO: cpd04945 not found in model!\n",
      "1717571818.6842601 CRITICAL: Metabolite cpd04945 not found in model\n",
      "1717571818.7131321 WARNING: Ignoring reaction 'rxn00693_c0' since it already exists.\n",
      "1717571818.722181 WARNING: Ignoring reaction 'rxn05299_c0' since it already exists.\n",
      "1717571818.889028 WARNING: Ignoring reaction 'rxn09180_c0' since it already exists.\n",
      "1717571818.931031 INFO: Setting FBAModel computed_attributes to mdlutl attributes\n"
     ]
    },
    {
     "name": "stdout",
     "output_type": "stream",
     "text": [
      "Alloiococcus.1 Missing reaction EX_cpd00557_c0 {'<': 1.6056569991989271}\n"
     ]
    },
    {
     "name": "stderr",
     "output_type": "stream",
     "text": [
      "1717571821.4926069 INFO: metabolites 1422\n",
      "1717571821.777228 INFO: reactions 1497\n",
      "1717571822.423625 INFO: Default biomass: [bio1]\n",
      "1717571836.7585962 INFO: cpd35610 not found in model!\n",
      "1717571836.759261 CRITICAL: Metabolite cpd35610 not found in model\n",
      "1717571836.774003 INFO: cpd07053 not found in model!\n",
      "1717571836.7747111 CRITICAL: Metabolite cpd07053 not found in model\n",
      "1717571836.775133 INFO: cpd04945 not found in model!\n",
      "1717571836.775497 CRITICAL: Metabolite cpd04945 not found in model\n",
      "1717571836.991701 INFO: Setting FBAModel computed_attributes to mdlutl attributes\n",
      "1717571839.722353 INFO: metabolites 1431\n",
      "1717571840.023435 INFO: reactions 1470\n",
      "1717571840.745781 INFO: Default biomass: [bio1]\n",
      "1717571854.514938 INFO: cpd35610 not found in model!\n",
      "1717571854.5155299 CRITICAL: Metabolite cpd35610 not found in model\n",
      "1717571854.530369 INFO: cpd07053 not found in model!\n",
      "1717571854.5309818 CRITICAL: Metabolite cpd07053 not found in model\n",
      "1717571854.531439 INFO: cpd04945 not found in model!\n",
      "1717571854.531822 CRITICAL: Metabolite cpd04945 not found in model\n",
      "1717571854.808516 WARNING: Ignoring reaction 'rxn00693_c0' since it already exists.\n",
      "1717571854.8417668 INFO: Setting FBAModel computed_attributes to mdlutl attributes\n",
      "1717571858.628192 INFO: metabolites 985\n",
      "1717571858.816114 INFO: reactions 939\n",
      "1717571859.294882 INFO: Default biomass: [bio1]\n",
      "1717571873.0321002 INFO: cpd35610 not found in model!\n",
      "1717571873.0327501 CRITICAL: Metabolite cpd35610 not found in model\n",
      "1717571873.047476 INFO: cpd07053 not found in model!\n",
      "1717571873.048196 CRITICAL: Metabolite cpd07053 not found in model\n",
      "1717571873.048645 INFO: cpd04945 not found in model!\n",
      "1717571873.049073 CRITICAL: Metabolite cpd04945 not found in model\n",
      "1717571873.120832 WARNING: Ignoring reaction 'rxn00953_c0' since it already exists.\n",
      "1717571873.4979851 INFO: Setting FBAModel computed_attributes to mdlutl attributes\n",
      "1717571876.820171 INFO: metabolites 923\n",
      "1717571876.982955 INFO: reactions 845\n",
      "1717571877.3999941 INFO: Default biomass: [bio1]\n",
      "1717571891.504522 INFO: cpd35610 not found in model!\n",
      "1717571891.50512 CRITICAL: Metabolite cpd35610 not found in model\n",
      "1717571891.5193799 INFO: cpd07053 not found in model!\n",
      "1717571891.5204322 CRITICAL: Metabolite cpd07053 not found in model\n",
      "1717571891.521278 INFO: cpd04945 not found in model!\n",
      "1717571891.522583 CRITICAL: Metabolite cpd04945 not found in model\n",
      "1717571891.864063 WARNING: Ignoring reaction 'rxn00272_c0' since it already exists.\n"
     ]
    },
    {
     "name": "stdout",
     "output_type": "stream",
     "text": [
      "Senegalimassilia.1 Missing reaction EX_cpd00557_c0 {'>': 0.5471269269231938}\n"
     ]
    },
    {
     "name": "stderr",
     "output_type": "stream",
     "text": [
      "1717571891.873448 INFO: Setting FBAModel computed_attributes to mdlutl attributes\n",
      "1717571894.117093 INFO: metabolites 1140\n",
      "1717571894.3178291 INFO: reactions 1098\n",
      "1717571894.789044 INFO: Default biomass: [bio1]\n",
      "1717571909.470675 INFO: cpd35610 not found in model!\n",
      "1717571909.471321 CRITICAL: Metabolite cpd35610 not found in model\n",
      "1717571909.485881 INFO: cpd07053 not found in model!\n",
      "1717571909.486498 CRITICAL: Metabolite cpd07053 not found in model\n",
      "1717571909.486926 INFO: cpd04945 not found in model!\n",
      "1717571909.48735 CRITICAL: Metabolite cpd04945 not found in model\n",
      "1717571909.505953 WARNING: Ignoring reaction 'rxn00362_c0' since it already exists.\n",
      "1717571909.749661 WARNING: Ignoring reaction 'rxn00985_c0' since it already exists.\n",
      "1717571909.865715 WARNING: Ignoring reaction 'rxn00350_c0' since it already exists.\n"
     ]
    },
    {
     "name": "stdout",
     "output_type": "stream",
     "text": [
      "Ruminococcus.4 Missing reaction EX_cpd00557_c0 {'>': 1.4883470028780097}\n"
     ]
    },
    {
     "name": "stderr",
     "output_type": "stream",
     "text": [
      "1717571910.0451121 INFO: Setting FBAModel computed_attributes to mdlutl attributes\n",
      "1717571913.280056 INFO: metabolites 1214\n",
      "1717571913.536181 INFO: reactions 1202\n",
      "1717571914.215359 INFO: Default biomass: [bio1]\n",
      "1717571928.098596 INFO: cpd35610 not found in model!\n",
      "1717571928.099245 CRITICAL: Metabolite cpd35610 not found in model\n",
      "1717571928.1137521 INFO: cpd07053 not found in model!\n",
      "1717571928.1144 CRITICAL: Metabolite cpd07053 not found in model\n",
      "1717571928.1148229 INFO: cpd04945 not found in model!\n",
      "1717571928.115266 CRITICAL: Metabolite cpd04945 not found in model\n",
      "1717571928.360349 WARNING: Ignoring reaction 'rxn00260_c0' since it already exists.\n",
      "1717571928.3680608 WARNING: Ignoring reaction 'rxn00704_c0' since it already exists.\n",
      "1717571928.460187 INFO: Setting FBAModel computed_attributes to mdlutl attributes\n"
     ]
    },
    {
     "name": "stdout",
     "output_type": "stream",
     "text": [
      "Finegoldia.1 Missing reaction EX_cpd00557_c0 {'>': -0.005820169266555005}\n"
     ]
    },
    {
     "name": "stderr",
     "output_type": "stream",
     "text": [
      "1717571931.1635919 INFO: metabolites 1574\n",
      "1717571931.565113 INFO: reactions 1734\n",
      "1717571932.564755 INFO: Default biomass: [bio1]\n",
      "1717571946.282388 INFO: cpd35610 not found in model!\n",
      "1717571946.2830489 CRITICAL: Metabolite cpd35610 not found in model\n",
      "1717571946.2968261 INFO: cpd07053 not found in model!\n",
      "1717571946.297736 CRITICAL: Metabolite cpd07053 not found in model\n",
      "1717571946.2985768 INFO: cpd04945 not found in model!\n",
      "1717571946.2996109 CRITICAL: Metabolite cpd04945 not found in model\n",
      "1717571946.477259 INFO: Setting FBAModel computed_attributes to mdlutl attributes\n",
      "1717571951.1222222 INFO: metabolites 1197\n",
      "1717571951.328331 INFO: reactions 1171\n",
      "1717571951.844162 INFO: Default biomass: [bio1]\n",
      "1717571965.4220648 INFO: cpd35610 not found in model!\n",
      "1717571965.422612 CRITICAL: Metabolite cpd35610 not found in model\n",
      "1717571965.439018 INFO: cpd07053 not found in model!\n",
      "1717571965.439688 CRITICAL: Metabolite cpd07053 not found in model\n",
      "1717571965.4402292 INFO: cpd04945 not found in model!\n",
      "1717571965.440589 CRITICAL: Metabolite cpd04945 not found in model\n",
      "1717571965.5189571 WARNING: Ignoring reaction 'rxn00272_c0' since it already exists.\n",
      "1717571965.60126 WARNING: Ignoring reaction 'rxn00198_c0' since it already exists.\n",
      "1717571965.744232 INFO: Setting FBAModel computed_attributes to mdlutl attributes\n",
      "1717571969.046647 INFO: metabolites 1515\n",
      "1717571969.352105 INFO: reactions 1572\n",
      "1717571970.201636 INFO: Default biomass: [bio1]\n",
      "1717571985.532202 INFO: cpd35610 not found in model!\n",
      "1717571985.532901 CRITICAL: Metabolite cpd35610 not found in model\n",
      "1717571985.5473769 INFO: cpd07053 not found in model!\n",
      "1717571985.548121 CRITICAL: Metabolite cpd07053 not found in model\n",
      "1717571985.548554 INFO: cpd04945 not found in model!\n",
      "1717571985.5489678 CRITICAL: Metabolite cpd04945 not found in model\n",
      "1717571985.690277 INFO: Setting FBAModel computed_attributes to mdlutl attributes\n"
     ]
    },
    {
     "name": "stdout",
     "output_type": "stream",
     "text": [
      "Mesorhizobium.1 Missing reaction EX_cpd00557_c0 {'>': 0.8222585144346984}\n"
     ]
    },
    {
     "name": "stderr",
     "output_type": "stream",
     "text": [
      "1717571988.6063519 INFO: metabolites 1123\n",
      "1717571988.8333771 INFO: reactions 1106\n",
      "1717571989.306592 INFO: Default biomass: [bio1]\n",
      "1717572002.8918028 INFO: cpd35610 not found in model!\n",
      "1717572002.892444 CRITICAL: Metabolite cpd35610 not found in model\n",
      "1717572002.90742 INFO: cpd07053 not found in model!\n",
      "1717572002.9082959 CRITICAL: Metabolite cpd07053 not found in model\n",
      "1717572002.909214 INFO: cpd04945 not found in model!\n",
      "1717572002.910312 CRITICAL: Metabolite cpd04945 not found in model\n",
      "1717572002.930103 WARNING: Ignoring reaction 'rxn00693_c0' since it already exists.\n",
      "1717572003.0275578 WARNING: Ignoring reaction 'rxn09180_c0' since it already exists.\n",
      "1717572003.033155 WARNING: Ignoring reaction 'rxn04794_c0' since it already exists.\n",
      "1717572003.0687401 WARNING: Ignoring reaction 'rxn05561_c0' since it already exists.\n",
      "1717572003.162695 INFO: Setting FBAModel computed_attributes to mdlutl attributes\n"
     ]
    },
    {
     "name": "stdout",
     "output_type": "stream",
     "text": [
      "Lactococcus.1 Missing reaction EX_cpd00557_c0 {'>': 0.19908318081667906}\n"
     ]
    },
    {
     "name": "stderr",
     "output_type": "stream",
     "text": [
      "1717572005.59842 INFO: metabolites 1253\n",
      "1717572005.858104 INFO: reactions 1297\n",
      "1717572006.428013 INFO: Default biomass: [bio1]\n",
      "1717572021.103816 INFO: cpd35610 not found in model!\n",
      "1717572021.104613 CRITICAL: Metabolite cpd35610 not found in model\n",
      "1717572021.118047 INFO: cpd07053 not found in model!\n",
      "1717572021.1187909 CRITICAL: Metabolite cpd07053 not found in model\n",
      "1717572021.119549 INFO: cpd04945 not found in model!\n",
      "1717572021.120762 CRITICAL: Metabolite cpd04945 not found in model\n",
      "1717572021.30668 INFO: Setting FBAModel computed_attributes to mdlutl attributes\n",
      "1717572023.993682 INFO: metabolites 1144\n",
      "1717572024.176964 INFO: reactions 1062\n",
      "1717572024.641909 INFO: Default biomass: [bio1]\n",
      "1717572039.228457 INFO: cpd35610 not found in model!\n",
      "1717572039.229125 CRITICAL: Metabolite cpd35610 not found in model\n",
      "1717572039.243335 INFO: cpd07053 not found in model!\n",
      "1717572039.244061 CRITICAL: Metabolite cpd07053 not found in model\n",
      "1717572039.2445009 INFO: cpd04945 not found in model!\n",
      "1717572039.244878 CRITICAL: Metabolite cpd04945 not found in model\n",
      "1717572039.3133051 WARNING: Ignoring reaction 'rxn05299_c0' since it already exists.\n",
      "1717572039.473281 WARNING: Ignoring reaction 'rxn00777_c0' since it already exists.\n",
      "1717572039.499007 WARNING: Ignoring reaction 'rxn00260_c0' since it already exists.\n",
      "1717572039.5219042 WARNING: Ignoring reaction 'rxn09180_c0' since it already exists.\n",
      "1717572039.574249 WARNING: Ignoring reaction 'rxn00511_c0' since it already exists.\n",
      "1717572039.599405 WARNING: Ignoring reaction 'rxn00251_c0' since it already exists.\n"
     ]
    },
    {
     "name": "stdout",
     "output_type": "stream",
     "text": [
      "Synergistes.1 Missing reaction EX_cpd00557_c0 {'>': 1.4475691099141108}\n"
     ]
    },
    {
     "name": "stderr",
     "output_type": "stream",
     "text": [
      "1717572039.678947 INFO: Setting FBAModel computed_attributes to mdlutl attributes\n",
      "1717572042.3393621 INFO: metabolites 1129\n",
      "1717572042.6512902 INFO: reactions 1204\n",
      "1717572043.245781 INFO: Default biomass: [bio1]\n",
      "1717572057.4870038 INFO: cpd35610 not found in model!\n",
      "1717572057.4875891 CRITICAL: Metabolite cpd35610 not found in model\n",
      "1717572057.5017889 INFO: cpd07053 not found in model!\n",
      "1717572057.502629 CRITICAL: Metabolite cpd07053 not found in model\n",
      "1717572057.503402 INFO: cpd04945 not found in model!\n",
      "1717572057.504768 CRITICAL: Metabolite cpd04945 not found in model\n",
      "1717572057.775476 INFO: Setting FBAModel computed_attributes to mdlutl attributes\n",
      "1717572060.314668 INFO: metabolites 1099\n",
      "1717572060.49315 INFO: reactions 1034\n",
      "1717572060.969972 INFO: Default biomass: [bio1]\n",
      "1717572074.526068 INFO: cpd35610 not found in model!\n",
      "1717572074.526668 CRITICAL: Metabolite cpd35610 not found in model\n",
      "1717572074.540189 INFO: cpd07053 not found in model!\n",
      "1717572074.540958 CRITICAL: Metabolite cpd07053 not found in model\n",
      "1717572074.5416372 INFO: cpd04945 not found in model!\n",
      "1717572074.542906 CRITICAL: Metabolite cpd04945 not found in model\n",
      "1717572074.580828 WARNING: Ignoring reaction 'rxn05508_c0' since it already exists.\n",
      "1717572074.5834439 WARNING: Ignoring reaction 'rxn00278_c0' since it already exists.\n",
      "1717572074.597072 WARNING: Ignoring reaction 'rxn00251_c0' since it already exists.\n",
      "1717572074.6247602 WARNING: Ignoring reaction 'rxn00949_c0' since it already exists.\n",
      "1717572074.625592 WARNING: Ignoring reaction 'rxn00541_c0' since it already exists.\n",
      "1717572074.64271 WARNING: Ignoring reaction 'rxn05310_c0' since it already exists.\n",
      "1717572074.652986 WARNING: Ignoring reaction 'rxn00503_c0' since it already exists.\n",
      "1717572074.654349 WARNING: Ignoring reaction 'rxn05638_c0' since it already exists.\n",
      "1717572074.7093241 WARNING: Ignoring reaction 'rxn00616_c0' since it already exists.\n",
      "1717572074.739703 WARNING: Ignoring reaction 'rxn10663_c0' since it already exists.\n",
      "1717572074.7524369 WARNING: Ignoring reaction 'rxn05303_c0' since it already exists.\n"
     ]
    },
    {
     "name": "stdout",
     "output_type": "stream",
     "text": [
      "Ruthenibacterium.1 Missing reaction EX_cpd00557_c0 {'>': 0.1788925656824681, '<': 1.146534492475191}\n"
     ]
    },
    {
     "name": "stderr",
     "output_type": "stream",
     "text": [
      "1717572074.92006 WARNING: Ignoring reaction 'rxn00178_c0' since it already exists.\n",
      "1717572074.9819362 INFO: Setting FBAModel computed_attributes to mdlutl attributes\n",
      "1717572077.534508 INFO: metabolites 1388\n",
      "1717572077.839645 INFO: reactions 1414\n",
      "1717572078.591346 INFO: Default biomass: [bio1]\n",
      "1717572092.959944 INFO: cpd35610 not found in model!\n",
      "1717572092.9605749 CRITICAL: Metabolite cpd35610 not found in model\n",
      "1717572092.975204 INFO: cpd07053 not found in model!\n",
      "1717572092.975819 CRITICAL: Metabolite cpd07053 not found in model\n",
      "1717572092.976306 INFO: cpd04945 not found in model!\n",
      "1717572092.976738 CRITICAL: Metabolite cpd04945 not found in model\n",
      "1717572093.1841621 INFO: Setting FBAModel computed_attributes to mdlutl attributes\n",
      "1717572096.6136699 INFO: metabolites 1311\n",
      "1717572096.9066188 INFO: reactions 1352\n",
      "1717572097.5971808 INFO: Default biomass: [bio1]\n",
      "1717572112.1247911 INFO: cpd35610 not found in model!\n",
      "1717572112.125354 CRITICAL: Metabolite cpd35610 not found in model\n",
      "1717572112.140416 INFO: cpd07053 not found in model!\n",
      "1717572112.141224 CRITICAL: Metabolite cpd07053 not found in model\n",
      "1717572112.142277 INFO: cpd04945 not found in model!\n",
      "1717572112.14349 CRITICAL: Metabolite cpd04945 not found in model\n",
      "1717572112.3806348 INFO: Setting FBAModel computed_attributes to mdlutl attributes\n",
      "1717572115.0629709 INFO: metabolites 1168\n",
      "1717572115.282976 INFO: reactions 1200\n",
      "1717572115.8391418 INFO: Default biomass: [bio1]\n",
      "1717572130.408513 INFO: cpd35610 not found in model!\n",
      "1717572130.409251 CRITICAL: Metabolite cpd35610 not found in model\n",
      "1717572130.425119 INFO: cpd07053 not found in model!\n",
      "1717572130.425919 CRITICAL: Metabolite cpd07053 not found in model\n",
      "1717572130.426358 INFO: cpd04945 not found in model!\n",
      "1717572130.426761 CRITICAL: Metabolite cpd04945 not found in model\n",
      "1717572130.6030982 WARNING: Ignoring reaction 'rxn05289_c0' since it already exists.\n",
      "1717572130.624116 WARNING: Ignoring reaction 'rxn00605_c0' since it already exists.\n",
      "1717572130.6476202 INFO: Setting FBAModel computed_attributes to mdlutl attributes\n"
     ]
    },
    {
     "name": "stdout",
     "output_type": "stream",
     "text": [
      "Staphylococcus.2 Missing reaction EX_cpd00557_c0 {'>': 0.8559743496025052}\n"
     ]
    },
    {
     "name": "stderr",
     "output_type": "stream",
     "text": [
      "1717572133.045683 INFO: metabolites 1123\n",
      "1717572133.229423 INFO: reactions 1082\n",
      "1717572133.68584 INFO: Default biomass: [bio1]\n",
      "1717572147.355756 INFO: cpd35610 not found in model!\n",
      "1717572147.356352 CRITICAL: Metabolite cpd35610 not found in model\n",
      "1717572147.370729 INFO: cpd07053 not found in model!\n",
      "1717572147.3716328 CRITICAL: Metabolite cpd07053 not found in model\n",
      "1717572147.3727639 INFO: cpd04945 not found in model!\n",
      "1717572147.373827 CRITICAL: Metabolite cpd04945 not found in model\n",
      "1717572147.702487 INFO: Setting FBAModel computed_attributes to mdlutl attributes\n"
     ]
    },
    {
     "name": "stdout",
     "output_type": "stream",
     "text": [
      "Bacteroides.11 Missing reaction EX_cpd00557_c0 {'>': 0.1064636759816502}\n"
     ]
    },
    {
     "name": "stderr",
     "output_type": "stream",
     "text": [
      "1717572150.81949 INFO: metabolites 1188\n",
      "1717572151.0454872 INFO: reactions 1168\n",
      "1717572151.582772 INFO: Default biomass: [bio1]\n",
      "1717572165.533074 INFO: cpd35610 not found in model!\n",
      "1717572165.5337129 CRITICAL: Metabolite cpd35610 not found in model\n",
      "1717572165.5488598 INFO: cpd07053 not found in model!\n",
      "1717572165.549557 CRITICAL: Metabolite cpd07053 not found in model\n",
      "1717572165.5499809 INFO: cpd04945 not found in model!\n",
      "1717572165.5503948 CRITICAL: Metabolite cpd04945 not found in model\n",
      "1717572165.896215 WARNING: Ignoring reaction 'rxn00949_c0' since it already exists.\n",
      "1717572165.9402611 INFO: Setting FBAModel computed_attributes to mdlutl attributes\n",
      "1717572168.4881248 INFO: metabolites 1281\n",
      "1717572168.739584 INFO: reactions 1302\n",
      "1717572169.3040519 INFO: Default biomass: [bio1]\n",
      "1717572182.36919 INFO: cpd35610 not found in model!\n",
      "1717572182.369837 CRITICAL: Metabolite cpd35610 not found in model\n",
      "1717572182.384498 INFO: cpd07053 not found in model!\n",
      "1717572182.385257 CRITICAL: Metabolite cpd07053 not found in model\n",
      "1717572182.385715 INFO: cpd04945 not found in model!\n",
      "1717572182.386086 CRITICAL: Metabolite cpd04945 not found in model\n",
      "1717572182.600367 WARNING: Ignoring reaction 'rxn00704_c0' since it already exists.\n",
      "1717572182.724022 INFO: Setting FBAModel computed_attributes to mdlutl attributes\n",
      "1717572186.030407 INFO: metabolites 1582\n",
      "1717572186.414984 INFO: reactions 1669\n",
      "1717572187.2816 INFO: Default biomass: [bio1]\n",
      "1717572200.684869 INFO: cpd35610 not found in model!\n",
      "1717572200.6855261 CRITICAL: Metabolite cpd35610 not found in model\n",
      "1717572200.699786 INFO: cpd07053 not found in model!\n",
      "1717572200.7004921 CRITICAL: Metabolite cpd07053 not found in model\n",
      "1717572200.7009358 INFO: cpd04945 not found in model!\n",
      "1717572200.7013152 CRITICAL: Metabolite cpd04945 not found in model\n",
      "1717572200.9030132 INFO: Setting FBAModel computed_attributes to mdlutl attributes\n",
      "1717572203.958233 INFO: metabolites 900\n",
      "1717572204.10883 INFO: reactions 844\n",
      "1717572204.536167 INFO: Default biomass: [bio1]\n",
      "1717572218.853129 INFO: cpd35610 not found in model!\n",
      "1717572218.8537679 CRITICAL: Metabolite cpd35610 not found in model\n",
      "1717572218.868721 INFO: cpd07053 not found in model!\n",
      "1717572218.8693929 CRITICAL: Metabolite cpd07053 not found in model\n",
      "1717572218.869877 INFO: cpd04945 not found in model!\n",
      "1717572218.8702562 CRITICAL: Metabolite cpd04945 not found in model\n",
      "1717572218.9366138 WARNING: Ignoring reaction 'rxn05299_c0' since it already exists.\n",
      "1717572218.938794 WARNING: Ignoring reaction 'rxn05244_c0' since it already exists.\n",
      "1717572218.942176 WARNING: Ignoring reaction 'rxn05243_c0' since it already exists.\n",
      "1717572218.982378 WARNING: Ignoring reaction 'rxn05306_c0' since it already exists.\n",
      "1717572219.015917 WARNING: Ignoring reaction 'rxn05669_c0' since it already exists.\n",
      "1717572219.016893 WARNING: Ignoring reaction 'rxn01790_c0' since it already exists.\n",
      "1717572219.017479 WARNING: Ignoring reaction 'rxn00912_c0' since it already exists.\n",
      "1717572219.0849721 WARNING: Ignoring reaction 'rxn05561_c0' since it already exists.\n",
      "1717572219.104643 WARNING: Ignoring reaction 'rxn10663_c0' since it already exists.\n",
      "1717572219.2238872 WARNING: Ignoring reaction 'rxn09180_c0' since it already exists.\n",
      "1717572219.285388 WARNING: Ignoring reaction 'rxn00530_c0' since it already exists.\n",
      "1717572219.286697 WARNING: Ignoring reaction 'rxn00970_c0' since it already exists.\n",
      "1717572219.3318028 WARNING: Ignoring reaction 'rxn01057_c0' since it already exists.\n",
      "1717572219.332886 WARNING: Ignoring reaction 'rxn02933_c0' since it already exists.\n",
      "1717572219.33374 WARNING: Ignoring reaction 'rxn01575_c0' since it already exists.\n",
      "1717572219.334674 WARNING: Ignoring reaction 'rxn02269_c0' since it already exists.\n",
      "1717572219.3355892 WARNING: Ignoring reaction 'rxn02934_c0' since it already exists.\n",
      "1717572219.3367748 WARNING: Ignoring reaction 'rxn00676_c0' since it already exists.\n",
      "1717572219.3628511 WARNING: Ignoring reaction 'rxn00877_c0' since it already exists.\n",
      "1717572219.365333 WARNING: Ignoring reaction 'rxn01045_c0' since it already exists.\n",
      "1717572219.366086 WARNING: Ignoring reaction 'rxn00899_c0' since it already exists.\n",
      "1717572219.385376 INFO: Setting FBAModel computed_attributes to mdlutl attributes\n",
      "1717572222.359998 INFO: metabolites 970\n",
      "1717572222.529288 INFO: reactions 940\n",
      "1717572222.95565 INFO: Default biomass: [bio1]\n",
      "1717572237.159917 INFO: cpd35610 not found in model!\n",
      "1717572237.1605802 CRITICAL: Metabolite cpd35610 not found in model\n",
      "1717572237.175284 INFO: cpd07053 not found in model!\n",
      "1717572237.1760042 CRITICAL: Metabolite cpd07053 not found in model\n",
      "1717572237.176477 INFO: cpd04945 not found in model!\n",
      "1717572237.1768892 CRITICAL: Metabolite cpd04945 not found in model\n",
      "1717572237.2099001 WARNING: Ignoring reaction 'rxn09690_c0' since it already exists.\n",
      "1717572237.218646 WARNING: Ignoring reaction 'rxn05243_c0' since it already exists.\n",
      "1717572237.292151 WARNING: Ignoring reaction 'rxn05561_c0' since it already exists.\n",
      "1717572237.3541498 WARNING: Ignoring reaction 'rxn00953_c0' since it already exists.\n",
      "1717572237.392993 WARNING: Ignoring reaction 'rxn00191_c0' since it already exists.\n",
      "1717572237.436542 WARNING: Ignoring reaction 'rxn00616_c0' since it already exists.\n",
      "1717572237.453856 WARNING: Ignoring reaction 'rxn09180_c0' since it already exists.\n",
      "1717572237.4755578 WARNING: Ignoring reaction 'rxn00178_c0' since it already exists.\n",
      "1717572237.483583 WARNING: Ignoring reaction 'rxn00935_c0' since it already exists.\n",
      "1717572237.488062 WARNING: Ignoring reaction 'rxn00910_c0' since it already exists.\n",
      "1717572237.5473778 WARNING: Ignoring reaction 'rxn00541_c0' since it already exists.\n",
      "1717572237.573848 INFO: Setting FBAModel computed_attributes to mdlutl attributes\n",
      "1717572239.9832509 INFO: metabolites 980\n",
      "1717572240.155463 INFO: reactions 942\n",
      "1717572240.584023 INFO: Default biomass: [bio1]\n",
      "1717572253.4804428 INFO: cpd35610 not found in model!\n",
      "1717572253.4810922 CRITICAL: Metabolite cpd35610 not found in model\n",
      "1717572253.4955149 INFO: cpd07053 not found in model!\n",
      "1717572253.496259 CRITICAL: Metabolite cpd07053 not found in model\n",
      "1717572253.497039 INFO: cpd04945 not found in model!\n",
      "1717572253.498143 CRITICAL: Metabolite cpd04945 not found in model\n",
      "1717572253.604477 WARNING: Ignoring reaction 'rxn01790_c0' since it already exists.\n",
      "1717572253.778434 WARNING: Ignoring reaction 'rxn00251_c0' since it already exists.\n",
      "1717572253.779242 WARNING: Ignoring reaction 'rxn00350_c0' since it already exists.\n",
      "1717572253.844639 WARNING: Ignoring reaction 'rxn00023_c0' since it already exists.\n"
     ]
    },
    {
     "name": "stdout",
     "output_type": "stream",
     "text": [
      "Coprococcus.2 Missing reaction EX_cpd00557_c0 {'>': 0.4153932143957695}\n"
     ]
    },
    {
     "name": "stderr",
     "output_type": "stream",
     "text": [
      "1717572254.001009 INFO: Setting FBAModel computed_attributes to mdlutl attributes\n",
      "1717572256.656229 INFO: metabolites 1102\n",
      "1717572256.865419 INFO: reactions 1075\n",
      "1717572257.394479 INFO: Default biomass: [bio1]\n",
      "1717572270.754723 INFO: cpd35610 not found in model!\n",
      "1717572270.755321 CRITICAL: Metabolite cpd35610 not found in model\n",
      "1717572270.768161 INFO: cpd07053 not found in model!\n",
      "1717572270.768886 CRITICAL: Metabolite cpd07053 not found in model\n",
      "1717572270.769669 INFO: cpd04945 not found in model!\n",
      "1717572270.770978 CRITICAL: Metabolite cpd04945 not found in model\n",
      "1717572270.976073 WARNING: Ignoring reaction 'rxn00467_c0' since it already exists.\n",
      "1717572271.085501 WARNING: Ignoring reaction 'rxn00290_c0' since it already exists.\n",
      "1717572271.097816 INFO: Setting FBAModel computed_attributes to mdlutl attributes\n",
      "1717572273.728392 INFO: metabolites 1073\n",
      "1717572273.913005 INFO: reactions 1025\n",
      "1717572274.3861902 INFO: Default biomass: [bio1]\n",
      "1717572348.457846 INFO: cpd35610 not found in model!\n",
      "1717572348.458575 CRITICAL: Metabolite cpd35610 not found in model\n",
      "1717572348.4734101 INFO: cpd07053 not found in model!\n",
      "1717572348.4742599 CRITICAL: Metabolite cpd07053 not found in model\n",
      "1717572348.47498 INFO: cpd04945 not found in model!\n",
      "1717572348.475771 CRITICAL: Metabolite cpd04945 not found in model\n",
      "1717572348.5025659 WARNING: Ignoring reaction 'rxn00692_c0' since it already exists.\n",
      "1717572348.5131788 WARNING: Ignoring reaction 'rxn05299_c0' since it already exists.\n",
      "1717572348.6365309 WARNING: Ignoring reaction 'rxn05902_c0' since it already exists.\n",
      "1717572348.6606028 WARNING: Ignoring reaction 'rxn00198_c0' since it already exists.\n",
      "1717572348.7282481 WARNING: Ignoring reaction 'rxn09180_c0' since it already exists.\n",
      "1717572348.774202 WARNING: Ignoring reaction 'rxn00949_c0' since it already exists.\n",
      "1717572348.790606 INFO: Setting FBAModel computed_attributes to mdlutl attributes\n",
      "1717572351.9827409 INFO: metabolites 1108\n",
      "1717572352.1818051 INFO: reactions 1098\n",
      "1717572352.702475 INFO: Default biomass: [bio1]\n",
      "1717572365.748845 INFO: cpd35610 not found in model!\n",
      "1717572365.749483 CRITICAL: Metabolite cpd35610 not found in model\n",
      "1717572365.7642539 INFO: cpd07053 not found in model!\n",
      "1717572365.76509 CRITICAL: Metabolite cpd07053 not found in model\n",
      "1717572365.766013 INFO: cpd04945 not found in model!\n",
      "1717572365.767324 CRITICAL: Metabolite cpd04945 not found in model\n",
      "1717572365.851264 WARNING: Ignoring reaction 'rxn00830_c0' since it already exists.\n",
      "1717572365.948312 WARNING: Ignoring reaction 'rxn00949_c0' since it already exists.\n",
      "1717572366.085655 INFO: Setting FBAModel computed_attributes to mdlutl attributes\n",
      "1717572369.6711879 INFO: metabolites 1146\n",
      "1717572369.899342 INFO: reactions 1145\n",
      "1717572370.416863 INFO: Default biomass: [bio1]\n",
      "1717572383.43409 INFO: cpd35610 not found in model!\n",
      "1717572383.434622 CRITICAL: Metabolite cpd35610 not found in model\n",
      "1717572383.449926 INFO: cpd07053 not found in model!\n",
      "1717572383.450701 CRITICAL: Metabolite cpd07053 not found in model\n",
      "1717572383.451494 INFO: cpd04945 not found in model!\n",
      "1717572383.4525812 CRITICAL: Metabolite cpd04945 not found in model\n",
      "1717572383.530676 WARNING: Ignoring reaction 'rxn01265_c0' since it already exists.\n",
      "1717572383.6933372 INFO: Setting FBAModel computed_attributes to mdlutl attributes\n"
     ]
    },
    {
     "name": "stdout",
     "output_type": "stream",
     "text": [
      "Brevundimonas.1 Missing reaction EX_cpd00557_c0 {'>': 0.4909125995648895}\n"
     ]
    },
    {
     "name": "stderr",
     "output_type": "stream",
     "text": [
      "1717572387.231829 INFO: metabolites 1122\n",
      "1717572387.4452171 INFO: reactions 1118\n",
      "1717572387.934261 INFO: Default biomass: [bio1]\n",
      "1717572401.6341681 INFO: cpd35610 not found in model!\n",
      "1717572401.6349812 CRITICAL: Metabolite cpd35610 not found in model\n",
      "1717572401.648565 INFO: cpd07053 not found in model!\n",
      "1717572401.649437 CRITICAL: Metabolite cpd07053 not found in model\n",
      "1717572401.650165 INFO: cpd04945 not found in model!\n",
      "1717572401.651445 CRITICAL: Metabolite cpd04945 not found in model\n",
      "1717572401.821224 WARNING: Ignoring reaction 'rxn00520_c0' since it already exists.\n",
      "1717572401.920588 WARNING: Ignoring reaction 'rxn09657_c0' since it already exists.\n",
      "1717572401.9566 WARNING: Ignoring reaction 'rxn00502_c0' since it already exists.\n",
      "1717572401.965973 WARNING: Ignoring reaction 'rxn00251_c0' since it already exists.\n",
      "1717572402.0057778 WARNING: Ignoring reaction 'rxn00350_c0' since it already exists.\n",
      "1717572402.085655 WARNING: Ignoring reaction 'rxn00023_c0' since it already exists.\n"
     ]
    },
    {
     "name": "stdout",
     "output_type": "stream",
     "text": [
      "bacterium.2 Missing reaction EX_cpd00557_c0 {'>': 0.4042256156281086}\n"
     ]
    },
    {
     "name": "stderr",
     "output_type": "stream",
     "text": [
      "1717572402.288487 WARNING: Ignoring reaction 'rxn13647_c0' since it already exists.\n",
      "1717572402.3209112 INFO: Setting FBAModel computed_attributes to mdlutl attributes\n",
      "1717572406.3998451 INFO: metabolites 1237\n",
      "1717572406.636286 INFO: reactions 1224\n",
      "1717572407.17444 INFO: Default biomass: [bio1]\n",
      "1717572421.1058939 INFO: cpd35610 not found in model!\n",
      "1717572421.1066911 CRITICAL: Metabolite cpd35610 not found in model\n",
      "1717572421.119869 INFO: cpd07053 not found in model!\n",
      "1717572421.1205409 CRITICAL: Metabolite cpd07053 not found in model\n",
      "1717572421.1213398 INFO: cpd04945 not found in model!\n",
      "1717572421.1223528 CRITICAL: Metabolite cpd04945 not found in model\n",
      "1717572421.312475 WARNING: Ignoring reaction 'rxn00520_c0' since it already exists.\n",
      "1717572421.49174 WARNING: Ignoring reaction 'rxn00953_c0' since it already exists.\n",
      "1717572421.492623 WARNING: Ignoring reaction 'rxn00350_c0' since it already exists.\n"
     ]
    },
    {
     "name": "stdout",
     "output_type": "stream",
     "text": [
      "Eubacterium.7 Missing reaction EX_cpd00557_c0 {'>': 0.26984931161963477}\n"
     ]
    },
    {
     "name": "stderr",
     "output_type": "stream",
     "text": [
      "1717572421.623022 WARNING: Ignoring reaction 'rxn00272_c0' since it already exists.\n",
      "1717572421.757231 INFO: Setting FBAModel computed_attributes to mdlutl attributes\n",
      "1717572424.385498 INFO: metabolites 1065\n",
      "1717572424.580034 INFO: reactions 1039\n",
      "1717572425.039265 INFO: Default biomass: [bio1]\n",
      "1717572438.881088 INFO: cpd35610 not found in model!\n",
      "1717572438.881672 CRITICAL: Metabolite cpd35610 not found in model\n",
      "1717572438.897402 INFO: cpd07053 not found in model!\n",
      "1717572438.898216 CRITICAL: Metabolite cpd07053 not found in model\n",
      "1717572438.898876 INFO: cpd04945 not found in model!\n",
      "1717572438.899981 CRITICAL: Metabolite cpd04945 not found in model\n",
      "1717572439.1074991 WARNING: Ignoring reaction 'rxn00350_c0' since it already exists.\n",
      "1717572439.239072 WARNING: Ignoring reaction 'rxn00796_c0' since it already exists.\n",
      "1717572439.24017 WARNING: Ignoring reaction 'rxn00625_c0' since it already exists.\n"
     ]
    },
    {
     "name": "stdout",
     "output_type": "stream",
     "text": [
      "Blautia.4 Missing reaction EX_cpd00557_c0 {'>': 0.5503017236934372}\n"
     ]
    },
    {
     "name": "stderr",
     "output_type": "stream",
     "text": [
      "1717572439.386284 INFO: Setting FBAModel computed_attributes to mdlutl attributes\n",
      "1717572442.295412 INFO: metabolites 1420\n",
      "1717572442.624293 INFO: reactions 1484\n",
      "1717572443.302063 INFO: Default biomass: [bio1]\n",
      "1717572456.635384 INFO: cpd35610 not found in model!\n",
      "1717572456.635981 CRITICAL: Metabolite cpd35610 not found in model\n",
      "1717572456.649836 INFO: cpd07053 not found in model!\n",
      "1717572456.650479 CRITICAL: Metabolite cpd07053 not found in model\n",
      "1717572456.6511538 INFO: cpd04945 not found in model!\n",
      "1717572456.652401 CRITICAL: Metabolite cpd04945 not found in model\n",
      "1717572456.815617 INFO: Setting FBAModel computed_attributes to mdlutl attributes\n",
      "1717572460.200844 INFO: metabolites 1370\n",
      "1717572460.4824152 INFO: reactions 1411\n",
      "1717572461.226184 INFO: Default biomass: [bio1]\n",
      "1717572476.054341 INFO: cpd35610 not found in model!\n",
      "1717572476.054923 CRITICAL: Metabolite cpd35610 not found in model\n",
      "1717572476.070413 INFO: cpd07053 not found in model!\n",
      "1717572476.070952 CRITICAL: Metabolite cpd07053 not found in model\n",
      "1717572476.071394 INFO: cpd04945 not found in model!\n",
      "1717572476.071928 CRITICAL: Metabolite cpd04945 not found in model\n",
      "1717572476.211158 INFO: Setting FBAModel computed_attributes to mdlutl attributes\n"
     ]
    },
    {
     "name": "stdout",
     "output_type": "stream",
     "text": [
      "Yoonia.1 Missing reaction EX_cpd00557_c0 {'>': 0.19636120583820516}\n"
     ]
    },
    {
     "name": "stderr",
     "output_type": "stream",
     "text": [
      "1717572480.621679 INFO: metabolites 1476\n",
      "1717572480.924594 INFO: reactions 1532\n",
      "1717572481.6050088 INFO: Default biomass: [bio1]\n",
      "1717572494.916935 INFO: cpd35610 not found in model!\n",
      "1717572494.91756 CRITICAL: Metabolite cpd35610 not found in model\n",
      "1717572494.932557 INFO: cpd07053 not found in model!\n",
      "1717572494.9332922 CRITICAL: Metabolite cpd07053 not found in model\n",
      "1717572494.933739 INFO: cpd04945 not found in model!\n",
      "1717572494.934174 CRITICAL: Metabolite cpd04945 not found in model\n",
      "1717572495.055647 WARNING: Ignoring reaction 'rxn05289_c0' since it already exists.\n",
      "1717572495.139533 INFO: Setting FBAModel computed_attributes to mdlutl attributes\n"
     ]
    },
    {
     "name": "stdout",
     "output_type": "stream",
     "text": [
      "Fulvimarina.1 Missing reaction EX_cpd00557_c0 {'>': 0.22234225777607713}\n"
     ]
    },
    {
     "name": "stderr",
     "output_type": "stream",
     "text": [
      "1717572501.293304 INFO: metabolites 854\n",
      "1717572501.427486 INFO: reactions 817\n",
      "1717572501.782468 INFO: Default biomass: [bio1]\n",
      "1717572515.311405 INFO: cpd35610 not found in model!\n",
      "1717572515.312053 CRITICAL: Metabolite cpd35610 not found in model\n",
      "1717572515.327311 INFO: cpd07053 not found in model!\n",
      "1717572515.3281112 CRITICAL: Metabolite cpd07053 not found in model\n",
      "1717572515.3288882 INFO: cpd04945 not found in model!\n",
      "1717572515.330183 CRITICAL: Metabolite cpd04945 not found in model\n",
      "1717572515.389995 WARNING: Ignoring reaction 'rxn05299_c0' since it already exists.\n",
      "1717572515.414639 WARNING: Ignoring reaction 'rxn05310_c0' since it already exists.\n",
      "1717572515.5124218 WARNING: Ignoring reaction 'rxn00616_c0' since it already exists.\n",
      "1717572515.52111 WARNING: Ignoring reaction 'rxn05561_c0' since it already exists.\n",
      "1717572515.574322 WARNING: Ignoring reaction 'rxn00251_c0' since it already exists.\n",
      "1717572515.586619 WARNING: Ignoring reaction 'rxn02123_c0' since it already exists.\n",
      "1717572515.587732 WARNING: Ignoring reaction 'rxn00668_c0' since it already exists.\n",
      "1717572515.624376 WARNING: Ignoring reaction 'rxn00350_c0' since it already exists.\n",
      "1717572515.709103 WARNING: Ignoring reaction 'rxn03798_c0' since it already exists.\n",
      "1717572515.709863 WARNING: Ignoring reaction 'rxn02933_c0' since it already exists.\n",
      "1717572515.7105348 WARNING: Ignoring reaction 'rxn02269_c0' since it already exists.\n",
      "1717572515.712044 WARNING: Ignoring reaction 'rxn01573_c0' since it already exists.\n",
      "1717572515.7136488 WARNING: Ignoring reaction 'rxn02934_c0' since it already exists.\n",
      "1717572515.745527 WARNING: Ignoring reaction 'rxn08706_c0' since it already exists.\n"
     ]
    },
    {
     "name": "stdout",
     "output_type": "stream",
     "text": [
      "Absiella.1 Missing reaction EX_cpd00557_c0 {'>': 0.5240404643106297, '<': 1.4642805463363826}\n"
     ]
    },
    {
     "name": "stderr",
     "output_type": "stream",
     "text": [
      "1717572515.747434 WARNING: Ignoring reaction 'rxn10663_c0' since it already exists.\n",
      "1717572515.7492008 WARNING: Ignoring reaction 'rxn00945_c0' since it already exists.\n",
      "1717572515.796032 WARNING: Ignoring reaction 'rxn01045_c0' since it already exists.\n",
      "1717572515.809043 INFO: Setting FBAModel computed_attributes to mdlutl attributes\n",
      "1717572518.5385559 INFO: metabolites 873\n",
      "1717572518.6724741 INFO: reactions 831\n",
      "1717572519.0437949 INFO: Default biomass: [bio1]\n",
      "1717572533.1990452 INFO: cpd35610 not found in model!\n",
      "1717572533.1996958 CRITICAL: Metabolite cpd35610 not found in model\n",
      "1717572533.2140648 INFO: cpd07053 not found in model!\n",
      "1717572533.214806 CRITICAL: Metabolite cpd07053 not found in model\n",
      "1717572533.215224 INFO: cpd04945 not found in model!\n",
      "1717572533.215612 CRITICAL: Metabolite cpd04945 not found in model\n",
      "1717572533.222783 WARNING: Ignoring reaction 'rxn00430_c0' since it already exists.\n",
      "1717572533.3050282 WARNING: Ignoring reaction 'rxn05299_c0' since it already exists.\n",
      "1717572533.327853 WARNING: Ignoring reaction 'rxn05310_c0' since it already exists.\n",
      "1717572533.353766 WARNING: Ignoring reaction 'rxn00520_c0' since it already exists.\n",
      "1717572533.4294379 WARNING: Ignoring reaction 'rxn00251_c0' since it already exists.\n"
     ]
    },
    {
     "name": "stdout",
     "output_type": "stream",
     "text": [
      "Butyrivibrio.1 Missing reaction EX_cpd00557_c0 {'>': 1.3086631627189294}\n"
     ]
    },
    {
     "name": "stderr",
     "output_type": "stream",
     "text": [
      "1717572533.595659 WARNING: Ignoring reaction 'rxn00350_c0' since it already exists.\n",
      "1717572533.651677 WARNING: Ignoring reaction 'rxn00023_c0' since it already exists.\n",
      "1717572533.665389 WARNING: Ignoring reaction 'rxn00272_c0' since it already exists.\n",
      "1717572533.787759 WARNING: Ignoring reaction 'rxn10124_c0' since it already exists.\n",
      "1717572533.790512 INFO: Setting FBAModel computed_attributes to mdlutl attributes\n",
      "1717572537.0926452 INFO: metabolites 1147\n",
      "1717572537.2894342 INFO: reactions 1139\n",
      "1717572537.771297 INFO: Default biomass: [bio1]\n",
      "1717572550.819402 INFO: cpd35610 not found in model!\n",
      "1717572550.820012 CRITICAL: Metabolite cpd35610 not found in model\n",
      "1717572550.835798 INFO: cpd07053 not found in model!\n",
      "1717572550.836875 CRITICAL: Metabolite cpd07053 not found in model\n",
      "1717572550.8378801 INFO: cpd04945 not found in model!\n",
      "1717572550.839 CRITICAL: Metabolite cpd04945 not found in model\n",
      "1717572551.0348392 WARNING: Ignoring reaction 'rxn00502_c0' since it already exists.\n",
      "1717572551.047585 WARNING: Ignoring reaction 'rxn10052_c0' since it already exists.\n",
      "1717572551.206387 INFO: Setting FBAModel computed_attributes to mdlutl attributes\n",
      "1717572554.161396 INFO: metabolites 1191\n",
      "1717572554.365519 INFO: reactions 1162\n",
      "1717572554.87234 INFO: Default biomass: [bio1]\n",
      "1717572568.352947 INFO: cpd35610 not found in model!\n",
      "1717572568.35374 CRITICAL: Metabolite cpd35610 not found in model\n",
      "1717572568.367892 INFO: cpd07053 not found in model!\n",
      "1717572568.368834 CRITICAL: Metabolite cpd07053 not found in model\n",
      "1717572568.369638 INFO: cpd04945 not found in model!\n",
      "1717572568.370844 CRITICAL: Metabolite cpd04945 not found in model\n"
     ]
    },
    {
     "name": "stdout",
     "output_type": "stream",
     "text": [
      "Vallitalea.1 Missing reaction EX_cpd00557_c0 {'>': 0.38243312652181716}\n"
     ]
    },
    {
     "name": "stderr",
     "output_type": "stream",
     "text": [
      "1717572568.7897449 INFO: Setting FBAModel computed_attributes to mdlutl attributes\n"
     ]
    }
   ],
   "source": [
    "%run agoracommutil.py\n",
    "import numpy as np\n",
    "consolidated_gf_results = util.load(\"consolidated_gf_results\")\n",
    "finished_models = util.load(\"finished_models\",{})\n",
    "metabolites = util.load(\"metabolites\")\n",
    "reactions_to_add = {}\n",
    "\n",
    "for asvname in consolidated_gf_results:\n",
    "    if asvname not in finished_models:\n",
    "        mdlutl = util.msrecon.get_model(asvname+\".ASV.mdl\",181152)\n",
    "        types = [\"uptake\",\"excretion\",\"growth\"]\n",
    "        reactions_to_add[asvname] = {}\n",
    "        for currtype in types:\n",
    "            problist = []\n",
    "            for metabolite in metabolites:\n",
    "                if metabolite in consolidated_gf_results[asvname][currtype] and \"new_probability\" in consolidated_gf_results[asvname][currtype][metabolite]:\n",
    "                    if consolidated_gf_results[asvname][currtype][metabolite][\"new_probability\"] > 0:\n",
    "                        problist.append(consolidated_gf_results[asvname][currtype][metabolite][\"new_probability\"])\n",
    "            if len(problist) > 0:\n",
    "                ave = np.array(problist).mean()\n",
    "                stdev = np.array(problist).std()\n",
    "                for metabolite in metabolites:\n",
    "                    if metabolite in consolidated_gf_results[asvname][currtype] and \"new_probability\" in consolidated_gf_results[asvname][currtype][metabolite]:\n",
    "                        if consolidated_gf_results[asvname][currtype][metabolite][\"new_probability\"] > 0:\n",
    "                            consolidated_gf_results[asvname][currtype][metabolite][\"zscore\"] = (consolidated_gf_results[asvname][currtype][metabolite][\"new_probability\"]-ave)/stdev\n",
    "                            if consolidated_gf_results[asvname][currtype][metabolite][\"zscore\"] >= -1 and \"reactions\" in consolidated_gf_results[asvname][currtype][metabolite]:\n",
    "                                for rxn in consolidated_gf_results[asvname][currtype][metabolite][\"reactions\"]:\n",
    "                                    direction = rxn[0:1]\n",
    "                                    rxnid = rxn[1:]\n",
    "                                    if rxnid not in mdlutl.model.reactions:\n",
    "                                        if rxnid not in reactions_to_add[asvname]:\n",
    "                                            reactions_to_add[asvname][rxnid] = {}\n",
    "                                        reactions_to_add[asvname][rxnid][direction] = consolidated_gf_results[asvname][currtype][metabolite][\"zscore\"]\n",
    "                                    elif direction == \">\":\n",
    "                                        if mdlutl.model.reactions.get_by_id(rxnid).upper_bound <= 0:\n",
    "                                            if rxnid not in reactions_to_add[asvname]:\n",
    "                                                reactions_to_add[asvname][rxnid] = {}\n",
    "                                            reactions_to_add[asvname][rxnid][direction] = consolidated_gf_results[asvname][currtype][metabolite][\"zscore\"]\n",
    "                                    elif direction == \"<\":\n",
    "                                        if mdlutl.model.reactions.get_by_id(rxnid).lower_bound >= 0:\n",
    "                                            if rxnid not in reactions_to_add[asvname]:\n",
    "                                                reactions_to_add[asvname][rxnid] = {}\n",
    "                                            reactions_to_add[asvname][rxnid][direction] = consolidated_gf_results[asvname][currtype][metabolite][\"zscore\"]\n",
    "        util.save(\"consolidated_gf_results\",consolidated_gf_results)\n",
    "        msgapfill = MSGapfill(\n",
    "            mdlutl,\n",
    "            [util.msrecon.get_template(mdlutl.model.template_ref)],\n",
    "            [],\n",
    "            [],\n",
    "            blacklist=[],\n",
    "            default_target=\"bio1\",\n",
    "            minimum_obj=0.01,\n",
    "            base_media=None,\n",
    "            base_media_target_element=None\n",
    "        )\n",
    "        for cpd in metabolites:\n",
    "            if \"EX_\"+cpd+\"_e0\" not in msgapfill.gfmodelutl.model.reactions:\n",
    "                transport = msgapfill.gfmodelutl.add_transport_and_exchange_for_metabolite(cpd,direction=\"=\",prefix=\"trans\",override=False)\n",
    "        for rxnid in reactions_to_add[asvname]:\n",
    "            if rxnid in msgapfill.gfmodel.reactions:\n",
    "                rxn = msgapfill.gfmodel.reactions.get_by_id(rxnid)\n",
    "                rxn = rxn.copy()\n",
    "                mdlutl.model.add_reactions([rxn])\n",
    "                rxn.upper_bound = 0\n",
    "                rxn.lower_bound = 0\n",
    "                if \">\" in reactions_to_add[asvname][rxnid]:\n",
    "                    rxn.upper_bound = 100\n",
    "                if \"<\" in reactions_to_add[asvname][rxnid]:\n",
    "                    rxn.lower_bound = -100\n",
    "            else:\n",
    "                print(asvname,\"Missing reaction\",rxnid,reactions_to_add[asvname][rxnid])\n",
    "        util.msrecon.save_model(mdlutl,181152,asvname+\".ASV.mdl.gf\")\n",
    "        finished_models[asvname] = 1\n",
    "    util.save(\"finished_models\",finished_models)\n",
    "util.save(\"reactions_to_add\",reactions_to_add)"
   ]
  },
  {
   "cell_type": "markdown",
   "metadata": {
    "jp-MarkdownHeadingCollapsed": true,
    "tags": []
   },
   "source": [
    "# Building and saving community model"
   ]
  },
  {
   "cell_type": "code",
   "execution_count": 2,
   "metadata": {
    "collapsed": true,
    "jupyter": {
     "outputs_hidden": true
    },
    "tags": []
   },
   "outputs": [
    {
     "name": "stdout",
     "output_type": "stream",
     "text": [
      "Output files printed to:/Users/chenry/code/notebooks/MicrobiomeNotebooks/NewWesternDiet/nboutput when using KBDevUtils.output_dir\n",
      "ModelSEED: /Users/chenry/code//kb_sdk/run_local/workdir/tmp/\n"
     ]
    },
    {
     "name": "stderr",
     "output_type": "stream",
     "text": [
      "1717728513.6705658 INFO: metabolites 1482\n",
      "1717728513.972935 INFO: reactions 1616\n",
      "1717728514.7140841 INFO: Default biomass: [bio1]\n",
      "1717728515.457014 INFO: metabolites 1023\n",
      "1717728515.616482 INFO: reactions 1118\n",
      "1717728516.119099 INFO: Default biomass: [bio1]\n",
      "1717728516.946501 INFO: metabolites 1060\n",
      "1717728517.112511 INFO: reactions 1090\n",
      "1717728518.286844 INFO: Default biomass: [bio1]\n",
      "1717728519.650422 INFO: metabolites 1374\n",
      "1717728519.906087 INFO: reactions 1490\n",
      "1717728520.591357 INFO: Default biomass: [bio1]\n",
      "1717728521.4609768 INFO: metabolites 1058\n",
      "1717728521.622852 INFO: reactions 1169\n",
      "1717728522.142626 INFO: Default biomass: [bio1]\n",
      "1717728522.742181 INFO: metabolites 1286\n",
      "1717728522.9630668 INFO: reactions 1365\n",
      "1717728523.569077 INFO: Default biomass: [bio1]\n",
      "1717728524.4064698 INFO: metabolites 1147\n",
      "1717728524.582432 INFO: reactions 1210\n",
      "1717728525.1070879 INFO: Default biomass: [bio1]\n",
      "1717728526.7064378 INFO: metabolites 1294\n",
      "1717728526.946501 INFO: reactions 1397\n",
      "1717728527.571569 INFO: Default biomass: [bio1]\n",
      "1717728528.2219079 INFO: metabolites 1529\n",
      "1717728528.5309792 INFO: reactions 1669\n",
      "1717728529.29013 INFO: Default biomass: [bio1]\n",
      "1717728530.2708402 INFO: metabolites 1276\n",
      "1717728530.5341709 INFO: reactions 1401\n",
      "1717728531.166982 INFO: Default biomass: [bio1]\n",
      "1717728532.553903 INFO: metabolites 1387\n",
      "1717728532.836714 INFO: reactions 1502\n",
      "1717728533.5154612 INFO: Default biomass: [bio1]\n",
      "1717728534.35894 INFO: metabolites 1279\n",
      "1717728535.499403 INFO: reactions 1305\n",
      "1717728536.0994911 INFO: Default biomass: [bio1]\n",
      "1717728537.421162 INFO: metabolites 1195\n",
      "1717728537.611495 INFO: reactions 1239\n",
      "1717728538.154411 INFO: Default biomass: [bio1]\n",
      "1717728539.898866 INFO: metabolites 1263\n",
      "1717728540.1231732 INFO: reactions 1360\n",
      "1717728540.72191 INFO: Default biomass: [bio1]\n",
      "1717728543.6399202 INFO: metabolites 1708\n",
      "1717728544.0187771 INFO: reactions 1931\n",
      "1717728544.909185 INFO: Default biomass: [bio1]\n",
      "1717728575.741769 INFO: Making atp hydrolysis reaction for species: Lactobacillus.3\n",
      "1717728576.071141 INFO: Making atp hydrolysis reaction for species: Merdibacter.1\n",
      "1717728576.3976362 INFO: Making atp hydrolysis reaction for species: Nosocomiicoccus.1\n",
      "1717728576.72503 INFO: Making atp hydrolysis reaction for species: Staphylococcus.3\n",
      "1717728577.064731 INFO: Making atp hydrolysis reaction for species: Turicibacter.1\n",
      "1717728577.412865 INFO: Making atp hydrolysis reaction for species: Lactobacillus.1\n",
      "1717728577.7380009 INFO: Making atp hydrolysis reaction for species: Muribaculum.1\n",
      "1717728578.0631151 INFO: Making atp hydrolysis reaction for species: Lactobacillus.4\n",
      "1717728578.3865018 INFO: Making atp hydrolysis reaction for species: Clostridium.7\n",
      "1717728578.715505 INFO: Making atp hydrolysis reaction for species: Alloiococcus.1\n",
      "1717728580.115672 INFO: Making atp hydrolysis reaction for species: Lactobacillus.5\n",
      "1717728580.46132 INFO: Making atp hydrolysis reaction for species: Desulfovibrio.1\n",
      "1717728580.787037 INFO: Making atp hydrolysis reaction for species: Burkholderiales.1\n",
      "1717728581.1302972 INFO: Making atp hydrolysis reaction for species: Staphylococcus.4\n",
      "1717728581.45248 INFO: Making atp hydrolysis reaction for species: Bacillus.4\n",
      "1717728583.952812 INFO: metabolites 1482\n",
      "1717728584.2396002 INFO: reactions 1616\n",
      "1717728585.000341 INFO: Default biomass: [bio1]\n",
      "1717728585.476425 INFO: metabolites 1023\n",
      "1717728585.63661 INFO: reactions 1118\n",
      "1717728586.1196601 INFO: Default biomass: [bio1]\n",
      "1717728587.07321 INFO: metabolites 1319\n",
      "1717728587.313164 INFO: reactions 1424\n",
      "1717728587.969902 INFO: Default biomass: [bio1]\n",
      "1717728588.43622 INFO: metabolites 1060\n",
      "1717728588.592778 INFO: reactions 1090\n",
      "1717728590.2669818 INFO: Default biomass: [bio1]\n",
      "1717728590.827772 INFO: metabolites 1374\n",
      "1717728591.1200662 INFO: reactions 1490\n",
      "1717728591.899185 INFO: Default biomass: [bio1]\n",
      "1717728592.4218519 INFO: metabolites 1058\n",
      "1717728592.606121 INFO: reactions 1169\n",
      "1717728593.1642041 INFO: Default biomass: [bio1]\n",
      "1717728594.4218528 INFO: metabolites 1679\n",
      "1717728594.829773 INFO: reactions 1911\n",
      "1717728595.735754 INFO: Default biomass: [bio1]\n",
      "1717728596.3704162 INFO: metabolites 1286\n",
      "1717728596.596684 INFO: reactions 1365\n",
      "1717728597.2134132 INFO: Default biomass: [bio1]\n",
      "1717728597.806705 INFO: metabolites 1294\n",
      "1717728598.053959 INFO: reactions 1397\n",
      "1717728598.6802418 INFO: Default biomass: [bio1]\n",
      "1717728599.275174 INFO: metabolites 1529\n",
      "1717728599.5696461 INFO: reactions 1669\n",
      "1717728600.356265 INFO: Default biomass: [bio1]\n",
      "1717728600.949939 INFO: metabolites 1276\n",
      "1717728602.59619 INFO: reactions 1401\n",
      "1717728603.217154 INFO: Default biomass: [bio1]\n",
      "1717728603.784829 INFO: metabolites 1263\n",
      "1717728604.009504 INFO: reactions 1360\n",
      "1717728604.632575 INFO: Default biomass: [bio1]\n",
      "1717728605.352203 INFO: metabolites 1708\n",
      "1717728605.737501 INFO: reactions 1931\n",
      "1717728606.668712 INFO: Default biomass: [bio1]\n",
      "1717728608.3369348 INFO: metabolites 1419\n",
      "1717728608.670076 INFO: reactions 1490\n",
      "1717728609.3975658 INFO: Default biomass: [bio1]\n",
      "1717728610.237694 INFO: metabolites 1243\n",
      "1717728610.4748821 INFO: reactions 1340\n",
      "1717728611.1067991 INFO: Default biomass: [bio1]\n",
      "1717728644.0250292 INFO: Making atp hydrolysis reaction for species: Lactobacillus.3\n",
      "1717728644.385291 INFO: Making atp hydrolysis reaction for species: Merdibacter.1\n",
      "1717728644.731023 INFO: Making atp hydrolysis reaction for species: Enterococcus.2\n",
      "1717728645.072203 INFO: Making atp hydrolysis reaction for species: Nosocomiicoccus.1\n",
      "1717728645.41749 INFO: Making atp hydrolysis reaction for species: Staphylococcus.3\n",
      "1717728645.765377 INFO: Making atp hydrolysis reaction for species: Turicibacter.1\n",
      "1717728646.1082659 INFO: Making atp hydrolysis reaction for species: Enterococcus.1\n",
      "1717728646.460335 INFO: Making atp hydrolysis reaction for species: Lactobacillus.1\n",
      "1717728646.807563 INFO: Making atp hydrolysis reaction for species: Lactobacillus.4\n",
      "1717728647.1510699 INFO: Making atp hydrolysis reaction for species: Clostridium.7\n",
      "1717728647.493768 INFO: Making atp hydrolysis reaction for species: Alloiococcus.1\n",
      "1717728647.838773 INFO: Making atp hydrolysis reaction for species: Staphylococcus.4\n",
      "1717728648.180204 INFO: Making atp hydrolysis reaction for species: Bacillus.4\n",
      "1717728648.530752 INFO: Making atp hydrolysis reaction for species: Acinetobacter.1\n",
      "1717728648.895045 INFO: Making atp hydrolysis reaction for species: Enterococcus.3\n",
      "1717728651.532042 INFO: metabolites 1482\n",
      "1717728651.826154 INFO: reactions 1616\n",
      "1717728652.612013 INFO: Default biomass: [bio1]\n",
      "1717728653.071611 INFO: metabolites 1023\n",
      "1717728653.2318761 INFO: reactions 1118\n",
      "1717728655.4332612 INFO: Default biomass: [bio1]\n",
      "1717728656.013265 INFO: metabolites 1319\n",
      "1717728656.293623 INFO: reactions 1424\n",
      "1717728657.00662 INFO: Default biomass: [bio1]\n",
      "1717728657.537079 INFO: metabolites 1419\n",
      "1717728657.8102589 INFO: reactions 1490\n",
      "1717728658.502984 INFO: Default biomass: [bio1]\n",
      "1717728659.064493 INFO: metabolites 1243\n",
      "1717728659.302635 INFO: reactions 1340\n",
      "1717728659.906517 INFO: Default biomass: [bio1]\n",
      "1717728660.591826 INFO: metabolites 1374\n",
      "1717728660.841973 INFO: reactions 1490\n",
      "1717728661.51658 INFO: Default biomass: [bio1]\n",
      "1717728662.337518 INFO: metabolites 1679\n",
      "1717728662.724454 INFO: reactions 1911\n",
      "1717728663.625451 INFO: Default biomass: [bio1]\n",
      "1717728664.233809 INFO: metabolites 1286\n",
      "1717728664.456309 INFO: reactions 1365\n",
      "1717728665.073645 INFO: Default biomass: [bio1]\n",
      "1717728666.119243 INFO: metabolites 1646\n",
      "1717728666.510109 INFO: reactions 1803\n",
      "1717728667.388627 INFO: Default biomass: [bio1]\n",
      "1717728687.6112719 INFO: Making atp hydrolysis reaction for species: Lactobacillus.3\n",
      "1717728687.829828 INFO: Making atp hydrolysis reaction for species: Merdibacter.1\n",
      "1717728688.049058 INFO: Making atp hydrolysis reaction for species: Enterococcus.2\n",
      "1717728688.264135 INFO: Making atp hydrolysis reaction for species: Acinetobacter.1\n",
      "1717728688.482195 INFO: Making atp hydrolysis reaction for species: Enterococcus.3\n",
      "1717728688.7087228 INFO: Making atp hydrolysis reaction for species: Staphylococcus.3\n",
      "1717728688.9343019 INFO: Making atp hydrolysis reaction for species: Enterococcus.1\n",
      "1717728689.1501 INFO: Making atp hydrolysis reaction for species: Lactobacillus.1\n",
      "1717728689.3664 INFO: Making atp hydrolysis reaction for species: Clostridium.21\n",
      "1717728691.289601 INFO: metabolites 1482\n",
      "1717728691.579632 INFO: reactions 1616\n",
      "1717728692.316042 INFO: Default biomass: [bio1]\n",
      "1717728692.878164 INFO: metabolites 1319\n",
      "1717728693.127855 INFO: reactions 1424\n",
      "1717728693.792802 INFO: Default biomass: [bio1]\n",
      "1717728694.357409 INFO: metabolites 1243\n",
      "1717728694.621519 INFO: reactions 1340\n",
      "1717728695.27521 INFO: Default biomass: [bio1]\n",
      "1717728695.723697 INFO: metabolites 1058\n",
      "1717728695.885796 INFO: reactions 1169\n",
      "1717728696.391427 INFO: Default biomass: [bio1]\n",
      "1717728696.879376 INFO: metabolites 1286\n",
      "1717728697.1780028 INFO: reactions 1365\n",
      "1717728697.826747 INFO: Default biomass: [bio1]\n",
      "1717728698.6039948 INFO: metabolites 1194\n",
      "1717728698.80597 INFO: reactions 1247\n",
      "1717728699.36138 INFO: Default biomass: [bio1]\n",
      "1717728700.06328 INFO: metabolites 1646\n",
      "1717728700.442098 INFO: reactions 1803\n",
      "1717728701.319537 INFO: Default biomass: [bio1]\n",
      "1717728705.5681221 INFO: metabolites 1505\n",
      "1717728705.85477 INFO: reactions 1534\n",
      "1717728706.572476 INFO: Default biomass: [bio1]\n",
      "1717728707.114479 INFO: metabolites 1147\n",
      "1717728707.2906492 INFO: reactions 1210\n",
      "1717728707.853448 INFO: Default biomass: [bio1]\n",
      "1717728708.629138 INFO: metabolites 1123\n",
      "1717728708.805871 INFO: reactions 1216\n",
      "1717728709.349015 INFO: Default biomass: [bio1]\n",
      "1717728727.072875 INFO: Making atp hydrolysis reaction for species: Lactobacillus.3\n",
      "1717728727.315006 INFO: Making atp hydrolysis reaction for species: Enterococcus.2\n",
      "1717728727.538413 INFO: Making atp hydrolysis reaction for species: Enterococcus.3\n",
      "1717728727.760996 INFO: Making atp hydrolysis reaction for species: Turicibacter.1\n",
      "1717728727.9827042 INFO: Making atp hydrolysis reaction for species: Lactobacillus.1\n",
      "1717728728.2126348 INFO: Making atp hydrolysis reaction for species: Akkermansia.1\n",
      "1717728728.434453 INFO: Making atp hydrolysis reaction for species: Clostridium.21\n",
      "1717728728.6752698 INFO: Making atp hydrolysis reaction for species: Eubacterium.5\n",
      "1717728728.896754 INFO: Making atp hydrolysis reaction for species: Muribaculum.1\n",
      "1717728729.118436 INFO: Making atp hydrolysis reaction for species: Alistipes.2\n",
      "1717728731.185636 INFO: metabolites 1482\n",
      "1717728731.475837 INFO: reactions 1616\n",
      "1717728732.233423 INFO: Default biomass: [bio1]\n",
      "1717728732.744072 INFO: metabolites 1023\n",
      "1717728732.9233449 INFO: reactions 1118\n",
      "1717728733.424596 INFO: Default biomass: [bio1]\n",
      "1717728734.052672 INFO: metabolites 1319\n",
      "1717728734.310236 INFO: reactions 1424\n",
      "1717728734.971411 INFO: Default biomass: [bio1]\n",
      "1717728735.453213 INFO: metabolites 1243\n",
      "1717728735.679453 INFO: reactions 1340\n",
      "1717728736.278146 INFO: Default biomass: [bio1]\n",
      "1717728736.79854 INFO: metabolites 1058\n",
      "1717728736.966911 INFO: reactions 1169\n",
      "1717728740.0335848 INFO: Default biomass: [bio1]\n",
      "1717728740.5848541 INFO: metabolites 1286\n",
      "1717728740.8076868 INFO: reactions 1365\n",
      "1717728741.433404 INFO: Default biomass: [bio1]\n",
      "1717728741.901682 INFO: metabolites 1147\n",
      "1717728742.0803719 INFO: reactions 1210\n",
      "1717728742.606474 INFO: Default biomass: [bio1]\n",
      "1717728743.1390662 INFO: metabolites 1194\n",
      "1717728743.351041 INFO: reactions 1247\n",
      "1717728743.916509 INFO: Default biomass: [bio1]\n",
      "1717728744.710315 INFO: metabolites 1646\n",
      "1717728745.141985 INFO: reactions 1803\n",
      "1717728746.051649 INFO: Default biomass: [bio1]\n",
      "1717728747.391287 INFO: metabolites 1568\n",
      "1717728747.7457972 INFO: reactions 1760\n",
      "1717728748.5570729 INFO: Default biomass: [bio1]\n",
      "1717728750.024918 INFO: metabolites 1322\n",
      "1717728750.255061 INFO: reactions 1496\n",
      "1717728750.905133 INFO: Default biomass: [bio1]\n",
      "1717728751.399647 INFO: metabolites 1123\n",
      "1717728751.572468 INFO: reactions 1216\n",
      "1717728752.109073 INFO: Default biomass: [bio1]\n",
      "1717728753.113446 INFO: metabolites 1455\n",
      "1717728753.400087 INFO: reactions 1661\n",
      "1717728754.152618 INFO: Default biomass: [bio1]\n",
      "1717728754.93714 INFO: metabolites 1380\n",
      "1717728755.176171 INFO: reactions 1533\n",
      "1717728755.861401 INFO: Default biomass: [bio1]\n",
      "1717728757.004886 INFO: metabolites 1644\n",
      "1717728757.407257 INFO: reactions 1797\n",
      "1717728758.384462 INFO: Default biomass: [bio1]\n",
      "1717728759.3213692 INFO: metabolites 1048\n",
      "1717728759.4743319 INFO: reactions 1146\n",
      "1717728759.968472 INFO: Default biomass: [bio1]\n",
      "1717728761.856786 INFO: metabolites 1640\n",
      "1717728762.210444 INFO: reactions 1799\n",
      "1717728763.070135 INFO: Default biomass: [bio1]\n",
      "1717728764.2921119 INFO: metabolites 1537\n",
      "1717728764.60096 INFO: reactions 1721\n",
      "1717728768.4036329 INFO: Default biomass: [bio1]\n",
      "1717728808.078033 INFO: Making atp hydrolysis reaction for species: Lactobacillus.3\n",
      "1717728808.491626 INFO: Making atp hydrolysis reaction for species: Merdibacter.1\n",
      "1717728808.911979 INFO: Making atp hydrolysis reaction for species: Enterococcus.2\n",
      "1717728809.323175 INFO: Making atp hydrolysis reaction for species: Enterococcus.3\n",
      "1717728809.736091 INFO: Making atp hydrolysis reaction for species: Turicibacter.1\n",
      "1717728810.144562 INFO: Making atp hydrolysis reaction for species: Lactobacillus.1\n",
      "1717728810.555307 INFO: Making atp hydrolysis reaction for species: Muribaculum.1\n",
      "1717728810.9813561 INFO: Making atp hydrolysis reaction for species: Akkermansia.1\n",
      "1717728811.395308 INFO: Making atp hydrolysis reaction for species: Clostridium.21\n",
      "1717728811.804717 INFO: Making atp hydrolysis reaction for species: Bifidobacterium.1\n",
      "1717728812.220489 INFO: Making atp hydrolysis reaction for species: Ruminococcus.3\n",
      "1717728812.62812 INFO: Making atp hydrolysis reaction for species: Alistipes.2\n",
      "1717728813.052865 INFO: Making atp hydrolysis reaction for species: Acetivibrio.1\n",
      "1717728813.4609559 INFO: Making atp hydrolysis reaction for species: Eubacterium.7\n",
      "1717728813.866517 INFO: Making atp hydrolysis reaction for species: Clostridium.23\n",
      "1717728814.2737439 INFO: Making atp hydrolysis reaction for species: Alistipes.4\n",
      "1717728814.692512 INFO: Making atp hydrolysis reaction for species: Blautia.1\n",
      "1717728815.1185122 INFO: Making atp hydrolysis reaction for species: Clostridium.16\n",
      "1717728818.3339782 INFO: metabolites 1482\n",
      "1717728818.663337 INFO: reactions 1616\n",
      "1717728819.463561 INFO: Default biomass: [bio1]\n",
      "1717728819.912747 INFO: metabolites 1023\n",
      "1717728820.089828 INFO: reactions 1118\n",
      "1717728823.6359649 INFO: Default biomass: [bio1]\n",
      "1717728824.193215 INFO: metabolites 1058\n",
      "1717728824.3569138 INFO: reactions 1169\n",
      "1717728824.864842 INFO: Default biomass: [bio1]\n",
      "1717728825.441057 INFO: metabolites 1286\n",
      "1717728825.67196 INFO: reactions 1365\n",
      "1717728826.277168 INFO: Default biomass: [bio1]\n",
      "1717728826.7970119 INFO: metabolites 1147\n",
      "1717728826.9711208 INFO: reactions 1210\n",
      "1717728827.493671 INFO: Default biomass: [bio1]\n",
      "1717728828.048341 INFO: metabolites 1194\n",
      "1717728828.2477498 INFO: reactions 1247\n",
      "1717728828.7963588 INFO: Default biomass: [bio1]\n",
      "1717728829.531577 INFO: metabolites 1646\n",
      "1717728829.917863 INFO: reactions 1803\n",
      "1717728830.779319 INFO: Default biomass: [bio1]\n",
      "1717728831.522002 INFO: metabolites 1568\n",
      "1717728831.871638 INFO: reactions 1760\n",
      "1717728832.680479 INFO: Default biomass: [bio1]\n",
      "1717728833.1850119 INFO: metabolites 1322\n",
      "1717728833.41678 INFO: reactions 1496\n",
      "1717728834.093545 INFO: Default biomass: [bio1]\n",
      "1717728834.5572789 INFO: metabolites 1123\n",
      "1717728834.7261598 INFO: reactions 1216\n",
      "1717728835.24637 INFO: Default biomass: [bio1]\n",
      "1717728835.842313 INFO: metabolites 1455\n",
      "1717728836.125967 INFO: reactions 1661\n",
      "1717728836.871325 INFO: Default biomass: [bio1]\n",
      "1717728839.908612 INFO: metabolites 1091\n",
      "1717728840.087668 INFO: reactions 1187\n",
      "1717728840.6214778 INFO: Default biomass: [bio1]\n",
      "1717728841.180556 INFO: metabolites 1380\n",
      "1717728841.417498 INFO: reactions 1533\n",
      "1717728842.105258 INFO: Default biomass: [bio1]\n",
      "1717728844.708746 INFO: metabolites 1446\n",
      "1717728845.00127 INFO: reactions 1583\n",
      "1717728845.725149 INFO: Default biomass: [bio1]\n",
      "1717728846.537942 INFO: metabolites 1644\n",
      "1717728846.915136 INFO: reactions 1797\n",
      "1717728847.818885 INFO: Default biomass: [bio1]\n",
      "1717728848.445355 INFO: metabolites 1640\n",
      "1717728848.8103292 INFO: reactions 1799\n",
      "1717728849.660993 INFO: Default biomass: [bio1]\n",
      "1717728850.627885 INFO: metabolites 1409\n",
      "1717728850.924563 INFO: reactions 1540\n",
      "1717728851.668349 INFO: Default biomass: [bio1]\n",
      "1717728852.315456 INFO: metabolites 1537\n",
      "1717728852.615343 INFO: reactions 1721\n",
      "1717728856.963692 INFO: Default biomass: [bio1]\n",
      "1717728858.909803 INFO: metabolites 1673\n",
      "1717728859.300106 INFO: reactions 1846\n",
      "1717728860.171368 INFO: Default biomass: [bio1]\n",
      "1717728904.828514 INFO: Making atp hydrolysis reaction for species: Lactobacillus.3\n",
      "1717728905.289243 INFO: Making atp hydrolysis reaction for species: Merdibacter.1\n",
      "1717728905.752127 INFO: Making atp hydrolysis reaction for species: Turicibacter.1\n",
      "1717728906.1981282 INFO: Making atp hydrolysis reaction for species: Lactobacillus.1\n",
      "1717728906.645269 INFO: Making atp hydrolysis reaction for species: Muribaculum.1\n",
      "1717728907.089424 INFO: Making atp hydrolysis reaction for species: Akkermansia.1\n",
      "1717728907.551734 INFO: Making atp hydrolysis reaction for species: Clostridium.21\n",
      "1717728907.994142 INFO: Making atp hydrolysis reaction for species: Bifidobacterium.1\n",
      "1717728908.433753 INFO: Making atp hydrolysis reaction for species: Ruminococcus.3\n",
      "1717728908.8840551 INFO: Making atp hydrolysis reaction for species: Alistipes.2\n",
      "1717728909.330061 INFO: Making atp hydrolysis reaction for species: Acetivibrio.1\n",
      "1717728909.798833 INFO: Making atp hydrolysis reaction for species: Oscillibacter.3\n",
      "1717728910.263377 INFO: Making atp hydrolysis reaction for species: Eubacterium.7\n",
      "1717728910.721917 INFO: Making atp hydrolysis reaction for species: Murimonas.1\n",
      "1717728911.178438 INFO: Making atp hydrolysis reaction for species: Clostridium.23\n",
      "1717728911.622974 INFO: Making atp hydrolysis reaction for species: Blautia.1\n",
      "1717728912.086741 INFO: Making atp hydrolysis reaction for species: Oscillibacter.1\n",
      "1717728912.5519512 INFO: Making atp hydrolysis reaction for species: Clostridium.16\n",
      "1717728913.0054872 INFO: Making atp hydrolysis reaction for species: Lachnospiraceae.1\n"
     ]
    }
   ],
   "source": [
    "%run agoracommutil.py\n",
    "import cobra\n",
    "sample_asvset_abundances = util.load(\"sample_asvset_abundances\")\n",
    "sample_abundanes = util.load(\"sample_abundanes\")\n",
    "asvset_names = util.load(\"asvset_names\")\n",
    "\n",
    "sample_pairs = [\n",
    "    [\"RC-ABX_-3\",\"RC-ABX_0\",\"RC-ABX_-1.5\"],\n",
    "    [\"RC-ABX_0\",\"RC-ABX_3\",\"RC-ABX_1.5\"],\n",
    "    [\"RC-ABX_3\",\"RC-ABX_5\",\"RC-ABX_4.0\"],\n",
    "    [\"RC-ABX_5\",\"RC-ABX_7\",\"RC-ABX_6.0\"],\n",
    "    [\"RC-ABX_8\",\"RC-ABX_11\",\"RC-ABX_9.0\"],\n",
    "    [\"RC-ABX_11\", \"RC-ABX_13\",\"RC-ABX_12.5\"]\n",
    "]\n",
    "for pair in sample_pairs:\n",
    "    member_models = []\n",
    "    member_names = []\n",
    "    member_abundances = {}\n",
    "    asv_hash = {}\n",
    "    for asvset in sample_asvset_abundances[pair[0]]:\n",
    "        asvname = asvset_names[asvset]\n",
    "        if asvname not in asv_hash:\n",
    "            asv_hash[asvname] = sample_asvset_abundances[pair[0]][asvset]\n",
    "        else:\n",
    "            asv_hash[asvname] += sample_asvset_abundances[pair[0]][asvset]\n",
    "    for asvset in sample_asvset_abundances[pair[1]]:\n",
    "        asvname = asvset_names[asvset]\n",
    "        if asvname not in asv_hash:\n",
    "            asv_hash[asvname] = sample_asvset_abundances[pair[1]][asvset]\n",
    "        else:\n",
    "            asv_hash[asvname] += sample_asvset_abundances[pair[1]][asvset]\n",
    "    total_abundance = 0\n",
    "    for asvname in asv_hash:\n",
    "        asv_hash[asvname] = asv_hash[asvname]/2\n",
    "        total_abundance += asv_hash[asvname]\n",
    "    for asvname in asv_hash:\n",
    "        asv_hash[asvname] = asv_hash[asvname]/total_abundance\n",
    "        if asvname != \"Thermus.1\" and asv_hash[asvname] > 0.01:\n",
    "            mdlutl = util.msrecon.get_model(asvname+\".ASV.mdl.gf\",181152)\n",
    "            member_models.append(mdlutl.model)\n",
    "            member_names.append(asvname)\n",
    "            member_abundances[asvname] = asv_hash[asvname]\n",
    "    comm_model = MSCommunity.build_from_species_models(\n",
    "        member_models,\n",
    "        mdlid=pair[2], \n",
    "        name=pair[2],\n",
    "        names=member_names,\n",
    "        abundances=member_abundances\n",
    "    )\n",
    "    cobra.io.save_json_model(comm_model.model, \"models/\"+pair[2]+'.json')"
   ]
  },
  {
   "cell_type": "code",
   "execution_count": 3,
   "metadata": {},
   "outputs": [
    {
     "name": "stdout",
     "output_type": "stream",
     "text": [
      "Output files printed to:/Users/chenry/code/notebooks/MicrobiomeNotebooks/NewWesternDiet/nboutput when using KBDevUtils.output_dir\n",
      "ModelSEED: /Users/chenry/code//kb_sdk/run_local/workdir/tmp/\n"
     ]
    }
   ],
   "source": [
    "%run agoracommutil.py\n",
    "import cobra\n",
    "sample_asvset_abundances = util.load(\"sample_asvset_abundances\")\n",
    "sample_abundanes = util.load(\"sample_abundanes\")\n",
    "asvset_names = util.load(\"asvset_names\")\n",
    "\n",
    "sample_pairs = [\n",
    "    [\"RC-ABX_-3\",\"RC-ABX_0\",\"RC-ABX_-1.5\"],\n",
    "    [\"RC-ABX_0\",\"RC-ABX_3\",\"RC-ABX_1.5\"],\n",
    "    [\"RC-ABX_3\",\"RC-ABX_5\",\"RC-ABX_4.0\"],\n",
    "    [\"RC-ABX_5\",\"RC-ABX_7\",\"RC-ABX_6.0\"],\n",
    "    [\"RC-ABX_8\",\"RC-ABX_11\",\"RC-ABX_9.0\"],\n",
    "    [\"RC-ABX_11\", \"RC-ABX_13\",\"RC-ABX_12.5\"]\n",
    "]\n",
    "\n",
    "community_model_data = {}\n",
    "for pair in sample_pairs:\n",
    "    member_models = []\n",
    "    member_names = []\n",
    "    member_abundances = {}\n",
    "    asv_hash = {}\n",
    "    for asvset in sample_asvset_abundances[pair[0]]:\n",
    "        asvname = asvset_names[asvset]\n",
    "        if asvname not in asv_hash:\n",
    "            asv_hash[asvname] = sample_asvset_abundances[pair[0]][asvset]\n",
    "        else:\n",
    "            asv_hash[asvname] += sample_asvset_abundances[pair[0]][asvset]\n",
    "    for asvset in sample_asvset_abundances[pair[1]]:\n",
    "        asvname = asvset_names[asvset]\n",
    "        if asvname not in asv_hash:\n",
    "            asv_hash[asvname] = sample_asvset_abundances[pair[1]][asvset]\n",
    "        else:\n",
    "            asv_hash[asvname] += sample_asvset_abundances[pair[1]][asvset]\n",
    "    total_abundance = 0\n",
    "    for asvname in asv_hash:\n",
    "        asv_hash[asvname] = asv_hash[asvname]/2\n",
    "        total_abundance += asv_hash[asvname]\n",
    "    for asvname in asv_hash:\n",
    "        asv_hash[asvname] = asv_hash[asvname]/total_abundance\n",
    "        if asvname != \"Thermus.1\" and asv_hash[asvname] > 0.01:\n",
    "            member_names.append(asvname)\n",
    "            member_abundances[asvname] = asv_hash[asvname]\n",
    "    community_model_data[pair[2]] = {\n",
    "        \"names\":member_names,\n",
    "        \"abundances\":member_abundances\n",
    "    }\n",
    "    util.save(\"community_model_data\",community_model_data)\n",
    "    "
   ]
  },
  {
   "cell_type": "markdown",
   "metadata": {
    "jp-MarkdownHeadingCollapsed": true,
    "tags": []
   },
   "source": [
    "# Simulating community model in each condition"
   ]
  },
  {
   "cell_type": "code",
   "execution_count": 1,
   "metadata": {
    "tags": []
   },
   "outputs": [
    {
     "name": "stdout",
     "output_type": "stream",
     "text": [
      "python version 3.9.13\n",
      "KBBaseModules 0.0.1\n"
     ]
    },
    {
     "name": "stderr",
     "output_type": "stream",
     "text": [
      "1717943223.189431 INFO: Note: NumExpr detected 16 cores but \"NUMEXPR_MAX_THREADS\" not set, so enforcing safe limit of 8.\n",
      "1717943223.190034 INFO: NumExpr defaulting to 8 threads.\n"
     ]
    },
    {
     "name": "stdout",
     "output_type": "stream",
     "text": [
      "modelseedpy 0.3.3\n",
      "cobrakbase 0.3.1\n",
      "Output files printed to:/Users/chenry/code/notebooks/MicrobiomeNotebooks/NewWesternDiet/nboutput when using KBDevUtils.output_dir\n",
      "ModelSEED: /Users/chenry/code//kb_sdk/run_local/workdir/tmp/\n"
     ]
    },
    {
     "name": "stderr",
     "output_type": "stream",
     "text": [
      "1717943251.4168189 INFO: Making atp hydrolysis reaction for species: Lactobacillus.3\n",
      "1717943252.043584 INFO: Making atp hydrolysis reaction for species: Merdibacter.1\n",
      "1717943252.363841 INFO: Making atp hydrolysis reaction for species: Nosocomiicoccus.1\n",
      "1717943252.677865 INFO: Making atp hydrolysis reaction for species: Staphylococcus.3\n",
      "1717943253.002086 INFO: Making atp hydrolysis reaction for species: Turicibacter.1\n",
      "1717943253.3384378 INFO: Making atp hydrolysis reaction for species: Lactobacillus.1\n",
      "1717943253.959151 INFO: Making atp hydrolysis reaction for species: Muribaculum.1\n",
      "1717943254.283909 INFO: Making atp hydrolysis reaction for species: Lactobacillus.4\n",
      "1717943254.607856 INFO: Making atp hydrolysis reaction for species: Clostridium.7\n",
      "1717943254.930045 INFO: Making atp hydrolysis reaction for species: Alloiococcus.1\n",
      "1717943255.2549372 INFO: Making atp hydrolysis reaction for species: Lactobacillus.5\n",
      "1717943255.5946188 INFO: Making atp hydrolysis reaction for species: Desulfovibrio.1\n",
      "1717943256.2116742 INFO: Making atp hydrolysis reaction for species: Burkholderiales.1\n",
      "1717943256.5335329 INFO: Making atp hydrolysis reaction for species: Staphylococcus.4\n",
      "1717943256.86202 INFO: Making atp hydrolysis reaction for species: Bacillus.4\n"
     ]
    },
    {
     "name": "stdout",
     "output_type": "stream",
     "text": [
      "RC-ABX_-1.5 growth: 8.445031644486718\n",
      "RC-ABX_-1.5carbon uptake: 300.0\n",
      "Iteration 1\n"
     ]
    },
    {
     "name": "stderr",
     "output_type": "stream",
     "text": [
      "/Users/chenry/opt/anaconda3/lib/python3.9/site-packages/cobra/util/solver.py:554: UserWarning: Solver status is 'infeasible'.\n",
      "  warn(f\"Solver status is '{status}'.\", UserWarning)\n"
     ]
    },
    {
     "name": "stdout",
     "output_type": "stream",
     "text": [
      "Stuck EX_cpd00526_e0 0.0 20.96345938991738 1000\n"
     ]
    },
    {
     "name": "stderr",
     "output_type": "stream",
     "text": [
      "/Users/chenry/opt/anaconda3/lib/python3.9/site-packages/cobra/util/solver.py:554: UserWarning: Solver status is 'infeasible'.\n",
      "  warn(f\"Solver status is '{status}'.\", UserWarning)\n"
     ]
    },
    {
     "name": "stdout",
     "output_type": "stream",
     "text": [
      "Stuck EX_cpd00218_e0 0.0 25.335094933460155 1000\n"
     ]
    },
    {
     "name": "stderr",
     "output_type": "stream",
     "text": [
      "/Users/chenry/opt/anaconda3/lib/python3.9/site-packages/cobra/util/solver.py:554: UserWarning: Solver status is 'infeasible'.\n",
      "  warn(f\"Solver status is '{status}'.\", UserWarning)\n"
     ]
    },
    {
     "name": "stdout",
     "output_type": "stream",
     "text": [
      "Stuck EX_cpd00751_e0 0.0 0.8218028192452695 1000\n"
     ]
    },
    {
     "name": "stderr",
     "output_type": "stream",
     "text": [
      "/Users/chenry/opt/anaconda3/lib/python3.9/site-packages/cobra/util/solver.py:554: UserWarning: Solver status is 'infeasible'.\n",
      "  warn(f\"Solver status is '{status}'.\", UserWarning)\n"
     ]
    },
    {
     "name": "stdout",
     "output_type": "stream",
     "text": [
      "Stuck EX_cpd00060_e0 0.0 13.602197780610789 1000\n"
     ]
    },
    {
     "name": "stderr",
     "output_type": "stream",
     "text": [
      "/Users/chenry/opt/anaconda3/lib/python3.9/site-packages/cobra/util/solver.py:554: UserWarning: Solver status is 'infeasible'.\n",
      "  warn(f\"Solver status is '{status}'.\", UserWarning)\n"
     ]
    },
    {
     "name": "stdout",
     "output_type": "stream",
     "text": [
      "Stuck EX_cpd00035_e0 -1.0310151655249387 25.211453084119757 1000\n"
     ]
    },
    {
     "name": "stderr",
     "output_type": "stream",
     "text": [
      "/Users/chenry/opt/anaconda3/lib/python3.9/site-packages/cobra/util/solver.py:554: UserWarning: Solver status is 'infeasible'.\n",
      "  warn(f\"Solver status is '{status}'.\", UserWarning)\n"
     ]
    },
    {
     "name": "stdout",
     "output_type": "stream",
     "text": [
      "Stuck EX_cpd03198_e0 0.0 1.1618407106597892 1000\n"
     ]
    },
    {
     "name": "stderr",
     "output_type": "stream",
     "text": [
      "/Users/chenry/opt/anaconda3/lib/python3.9/site-packages/cobra/util/solver.py:554: UserWarning: Solver status is 'infeasible'.\n",
      "  warn(f\"Solver status is '{status}'.\", UserWarning)\n"
     ]
    },
    {
     "name": "stdout",
     "output_type": "stream",
     "text": [
      "Stuck EX_cpd00106_e0 0.0 7.512889760702065 1000\n"
     ]
    },
    {
     "name": "stderr",
     "output_type": "stream",
     "text": [
      "/Users/chenry/opt/anaconda3/lib/python3.9/site-packages/cobra/util/solver.py:554: UserWarning: Solver status is 'infeasible'.\n",
      "  warn(f\"Solver status is '{status}'.\", UserWarning)\n"
     ]
    },
    {
     "name": "stdout",
     "output_type": "stream",
     "text": [
      "Stuck EX_cpd00041_e0 0.0 4.684139654501368 1000\n"
     ]
    },
    {
     "name": "stderr",
     "output_type": "stream",
     "text": [
      "/Users/chenry/opt/anaconda3/lib/python3.9/site-packages/cobra/util/solver.py:554: UserWarning: Solver status is 'infeasible'.\n",
      "  warn(f\"Solver status is '{status}'.\", UserWarning)\n"
     ]
    },
    {
     "name": "stdout",
     "output_type": "stream",
     "text": [
      "Stuck EX_cpd03846_e0 0.0 6.248040639409282 1000\n"
     ]
    },
    {
     "name": "stderr",
     "output_type": "stream",
     "text": [
      "/Users/chenry/opt/anaconda3/lib/python3.9/site-packages/cobra/util/solver.py:554: UserWarning: Solver status is 'infeasible'.\n",
      "  warn(f\"Solver status is '{status}'.\", UserWarning)\n"
     ]
    },
    {
     "name": "stdout",
     "output_type": "stream",
     "text": [
      "Stuck EX_cpd00122_e0 0.0 11.368981784654377 1000\n"
     ]
    },
    {
     "name": "stderr",
     "output_type": "stream",
     "text": [
      "/Users/chenry/opt/anaconda3/lib/python3.9/site-packages/cobra/util/solver.py:554: UserWarning: Solver status is 'infeasible'.\n",
      "  warn(f\"Solver status is '{status}'.\", UserWarning)\n"
     ]
    },
    {
     "name": "stdout",
     "output_type": "stream",
     "text": [
      "Stuck EX_cpd00023_e0 0.0 6.726975229216514 1000\n"
     ]
    },
    {
     "name": "stderr",
     "output_type": "stream",
     "text": [
      "/Users/chenry/opt/anaconda3/lib/python3.9/site-packages/cobra/util/solver.py:554: UserWarning: Solver status is 'infeasible'.\n",
      "  warn(f\"Solver status is '{status}'.\", UserWarning)\n"
     ]
    },
    {
     "name": "stdout",
     "output_type": "stream",
     "text": [
      "Stuck EX_cpd00156_e0 0.0 7.546647332545776 1000\n"
     ]
    },
    {
     "name": "stderr",
     "output_type": "stream",
     "text": [
      "/Users/chenry/opt/anaconda3/lib/python3.9/site-packages/cobra/util/solver.py:554: UserWarning: Solver status is 'infeasible'.\n",
      "  warn(f\"Solver status is '{status}'.\", UserWarning)\n"
     ]
    },
    {
     "name": "stdout",
     "output_type": "stream",
     "text": [
      "Stuck EX_cpd00027_e0 0.0 16.564546056828505 1000\n"
     ]
    },
    {
     "name": "stderr",
     "output_type": "stream",
     "text": [
      "/Users/chenry/opt/anaconda3/lib/python3.9/site-packages/cobra/util/solver.py:554: UserWarning: Solver status is 'infeasible'.\n",
      "  warn(f\"Solver status is '{status}'.\", UserWarning)\n"
     ]
    },
    {
     "name": "stdout",
     "output_type": "stream",
     "text": [
      "Stuck EX_cpd00069_e0 -0.8555845186920288 11.483744983548142 1000\n"
     ]
    },
    {
     "name": "stderr",
     "output_type": "stream",
     "text": [
      "/Users/chenry/opt/anaconda3/lib/python3.9/site-packages/cobra/util/solver.py:554: UserWarning: Solver status is 'infeasible'.\n",
      "  warn(f\"Solver status is '{status}'.\", UserWarning)\n"
     ]
    },
    {
     "name": "stdout",
     "output_type": "stream",
     "text": [
      "Stuck EX_cpd00536_e0 0.0 8.02168717878393 1000\n"
     ]
    },
    {
     "name": "stderr",
     "output_type": "stream",
     "text": [
      "/Users/chenry/opt/anaconda3/lib/python3.9/site-packages/cobra/util/solver.py:554: UserWarning: Solver status is 'infeasible'.\n",
      "  warn(f\"Solver status is '{status}'.\", UserWarning)\n"
     ]
    },
    {
     "name": "stdout",
     "output_type": "stream",
     "text": [
      "Stuck EX_cpd00036_e0 0.0 25.335094933460155 1000\n"
     ]
    },
    {
     "name": "stderr",
     "output_type": "stream",
     "text": [
      "/Users/chenry/opt/anaconda3/lib/python3.9/site-packages/cobra/util/solver.py:554: UserWarning: Solver status is 'infeasible'.\n",
      "  warn(f\"Solver status is '{status}'.\", UserWarning)\n"
     ]
    },
    {
     "name": "stdout",
     "output_type": "stream",
     "text": [
      "Stuck EX_cpd00020_e0 0.0 25.335094933460155 1000\n",
      "Iteration 2\n"
     ]
    },
    {
     "name": "stderr",
     "output_type": "stream",
     "text": [
      "/Users/chenry/opt/anaconda3/lib/python3.9/site-packages/cobra/util/solver.py:554: UserWarning: Solver status is 'infeasible'.\n",
      "  warn(f\"Solver status is '{status}'.\", UserWarning)\n"
     ]
    },
    {
     "name": "stdout",
     "output_type": "stream",
     "text": [
      "Stuck EX_cpd00033_e0 0.0 10.890813080503287 1.0890813080503285\n"
     ]
    },
    {
     "name": "stderr",
     "output_type": "stream",
     "text": [
      "/Users/chenry/opt/anaconda3/lib/python3.9/site-packages/cobra/util/solver.py:554: UserWarning: Solver status is 'infeasible'.\n",
      "  warn(f\"Solver status is '{status}'.\", UserWarning)\n"
     ]
    },
    {
     "name": "stdout",
     "output_type": "stream",
     "text": [
      "Stuck EX_cpd01242_e0 0.0 17.08626085032536 1.708626085032538\n"
     ]
    },
    {
     "name": "stderr",
     "output_type": "stream",
     "text": [
      "/Users/chenry/opt/anaconda3/lib/python3.9/site-packages/cobra/util/solver.py:554: UserWarning: Solver status is 'infeasible'.\n",
      "  warn(f\"Solver status is '{status}'.\", UserWarning)\n"
     ]
    },
    {
     "name": "stdout",
     "output_type": "stream",
     "text": [
      "Stuck EX_cpd00137_e0 0.0 1.1871717900839454 0.11871717900839451\n"
     ]
    },
    {
     "name": "stderr",
     "output_type": "stream",
     "text": [
      "/Users/chenry/opt/anaconda3/lib/python3.9/site-packages/cobra/util/solver.py:554: UserWarning: Solver status is 'infeasible'.\n",
      "  warn(f\"Solver status is '{status}'.\", UserWarning)\n"
     ]
    },
    {
     "name": "stdout",
     "output_type": "stream",
     "text": [
      "Stuck EX_cpd00129_e0 0.0 14.650147971091977 1.4650147971091965\n"
     ]
    },
    {
     "name": "stderr",
     "output_type": "stream",
     "text": [
      "/Users/chenry/opt/anaconda3/lib/python3.9/site-packages/cobra/util/solver.py:554: UserWarning: Solver status is 'infeasible'.\n",
      "  warn(f\"Solver status is '{status}'.\", UserWarning)\n"
     ]
    },
    {
     "name": "stdout",
     "output_type": "stream",
     "text": [
      "Stuck EX_cpd01171_e0 -1.4219881075490264 -25.335094933460155 -3.813298790140139\n"
     ]
    },
    {
     "name": "stderr",
     "output_type": "stream",
     "text": [
      "/Users/chenry/opt/anaconda3/lib/python3.9/site-packages/cobra/util/solver.py:554: UserWarning: Solver status is 'infeasible'.\n",
      "  warn(f\"Solver status is '{status}'.\", UserWarning)\n"
     ]
    },
    {
     "name": "stdout",
     "output_type": "stream",
     "text": [
      "Stuck EX_cpd01107_e0 -0.03369663508232132 7.253502543756497 0.6950232828015617\n"
     ]
    },
    {
     "name": "stderr",
     "output_type": "stream",
     "text": [
      "/Users/chenry/opt/anaconda3/lib/python3.9/site-packages/cobra/util/solver.py:554: UserWarning: Solver status is 'infeasible'.\n",
      "  warn(f\"Solver status is '{status}'.\", UserWarning)\n"
     ]
    },
    {
     "name": "stdout",
     "output_type": "stream",
     "text": [
      "Stuck EX_cpd03847_e0 -0.11772386020961949 9.644619737215693 0.8585104995329118\n"
     ]
    },
    {
     "name": "stderr",
     "output_type": "stream",
     "text": [
      "/Users/chenry/opt/anaconda3/lib/python3.9/site-packages/cobra/util/solver.py:554: UserWarning: Solver status is 'infeasible'.\n",
      "  warn(f\"Solver status is '{status}'.\", UserWarning)\n"
     ]
    },
    {
     "name": "stdout",
     "output_type": "stream",
     "text": [
      "Stuck EX_cpd00322_e0 0.0 5.904437548126479 0.5904437548126475\n"
     ]
    },
    {
     "name": "stderr",
     "output_type": "stream",
     "text": [
      "/Users/chenry/opt/anaconda3/lib/python3.9/site-packages/cobra/util/solver.py:554: UserWarning: Solver status is 'infeasible'.\n",
      "  warn(f\"Solver status is '{status}'.\", UserWarning)\n"
     ]
    },
    {
     "name": "stdout",
     "output_type": "stream",
     "text": [
      "Stuck EX_cpd00108_e0 0.0 25.335094933460155 2.533509493346017\n"
     ]
    },
    {
     "name": "stderr",
     "output_type": "stream",
     "text": [
      "/Users/chenry/opt/anaconda3/lib/python3.9/site-packages/cobra/util/solver.py:554: UserWarning: Solver status is 'infeasible'.\n",
      "  warn(f\"Solver status is '{status}'.\", UserWarning)\n"
     ]
    },
    {
     "name": "stdout",
     "output_type": "stream",
     "text": [
      "Stuck EX_cpd00851_e0 -0.9195957571545437 22.158262183066263 1.3881900368675382\n"
     ]
    },
    {
     "name": "stderr",
     "output_type": "stream",
     "text": [
      "/Users/chenry/opt/anaconda3/lib/python3.9/site-packages/cobra/util/solver.py:554: UserWarning: Solver status is 'infeasible'.\n",
      "  warn(f\"Solver status is '{status}'.\", UserWarning)\n"
     ]
    },
    {
     "name": "stdout",
     "output_type": "stream",
     "text": [
      "Stuck EX_cpd02733_e0 0.0 25.335094933460155 2.533509493346017\n"
     ]
    },
    {
     "name": "stderr",
     "output_type": "stream",
     "text": [
      "/Users/chenry/opt/anaconda3/lib/python3.9/site-packages/cobra/util/solver.py:554: UserWarning: Solver status is 'infeasible'.\n",
      "  warn(f\"Solver status is '{status}'.\", UserWarning)\n"
     ]
    },
    {
     "name": "stdout",
     "output_type": "stream",
     "text": [
      "Stuck EX_cpd00224_e0 0.0 6.795383950582919 0.6795383950582918\n"
     ]
    },
    {
     "name": "stderr",
     "output_type": "stream",
     "text": [
      "/Users/chenry/opt/anaconda3/lib/python3.9/site-packages/cobra/util/solver.py:554: UserWarning: Solver status is 'infeasible'.\n",
      "  warn(f\"Solver status is '{status}'.\", UserWarning)\n"
     ]
    },
    {
     "name": "stdout",
     "output_type": "stream",
     "text": [
      "Stuck EX_cpd00130_e0 0.0 25.335094933460155 2.533509493346017\n"
     ]
    },
    {
     "name": "stderr",
     "output_type": "stream",
     "text": [
      "/Users/chenry/opt/anaconda3/lib/python3.9/site-packages/cobra/util/solver.py:554: UserWarning: Solver status is 'infeasible'.\n",
      "  warn(f\"Solver status is '{status}'.\", UserWarning)\n"
     ]
    },
    {
     "name": "stdout",
     "output_type": "stream",
     "text": [
      "Stuck EX_cpd00076_e0 0.0 -7.921108280319266 -0.7921108280319266\n"
     ]
    },
    {
     "name": "stderr",
     "output_type": "stream",
     "text": [
      "/Users/chenry/opt/anaconda3/lib/python3.9/site-packages/cobra/util/solver.py:554: UserWarning: Solver status is 'infeasible'.\n",
      "  warn(f\"Solver status is '{status}'.\", UserWarning)\n"
     ]
    },
    {
     "name": "stdout",
     "output_type": "stream",
     "text": [
      "Stuck EX_cpd00105_e0 0.0 18.719121523869834 1.871912152386983\n"
     ]
    },
    {
     "name": "stderr",
     "output_type": "stream",
     "text": [
      "/Users/chenry/opt/anaconda3/lib/python3.9/site-packages/cobra/util/solver.py:554: UserWarning: Solver status is 'infeasible'.\n",
      "  warn(f\"Solver status is '{status}'.\", UserWarning)\n"
     ]
    },
    {
     "name": "stdout",
     "output_type": "stream",
     "text": [
      "Stuck EX_cpd00382_e0 0.0 0.6920586945014491 0.06920586945014484\n"
     ]
    },
    {
     "name": "stderr",
     "output_type": "stream",
     "text": [
      "/Users/chenry/opt/anaconda3/lib/python3.9/site-packages/cobra/util/solver.py:554: UserWarning: Solver status is 'infeasible'.\n",
      "  warn(f\"Solver status is '{status}'.\", UserWarning)\n"
     ]
    },
    {
     "name": "stdout",
     "output_type": "stream",
     "text": [
      "Stuck EX_cpd00211_e0 0.0 -25.335094933460155 -2.5335094933460156\n"
     ]
    },
    {
     "name": "stderr",
     "output_type": "stream",
     "text": [
      "/Users/chenry/opt/anaconda3/lib/python3.9/site-packages/cobra/util/solver.py:554: UserWarning: Solver status is 'infeasible'.\n",
      "  warn(f\"Solver status is '{status}'.\", UserWarning)\n"
     ]
    },
    {
     "name": "stdout",
     "output_type": "stream",
     "text": [
      "Stuck EX_cpd00024_e0 0.0 -25.335094933460155 -2.5335094933460156\n"
     ]
    },
    {
     "name": "stderr",
     "output_type": "stream",
     "text": [
      "/Users/chenry/opt/anaconda3/lib/python3.9/site-packages/cobra/util/solver.py:554: UserWarning: Solver status is 'infeasible'.\n",
      "  warn(f\"Solver status is '{status}'.\", UserWarning)\n"
     ]
    },
    {
     "name": "stdout",
     "output_type": "stream",
     "text": [
      "Stuck EX_cpd00550_e0 0.0 2.619237994401596 0.2619237994401593\n"
     ]
    },
    {
     "name": "stderr",
     "output_type": "stream",
     "text": [
      "/Users/chenry/opt/anaconda3/lib/python3.9/site-packages/cobra/util/solver.py:554: UserWarning: Solver status is 'infeasible'.\n",
      "  warn(f\"Solver status is '{status}'.\", UserWarning)\n"
     ]
    },
    {
     "name": "stdout",
     "output_type": "stream",
     "text": [
      "Stuck EX_cpd00141_e0 0.0 -25.335094933460155 -2.5335094933460156\n"
     ]
    },
    {
     "name": "stderr",
     "output_type": "stream",
     "text": [
      "/Users/chenry/opt/anaconda3/lib/python3.9/site-packages/cobra/util/solver.py:554: UserWarning: Solver status is 'infeasible'.\n",
      "  warn(f\"Solver status is '{status}'.\", UserWarning)\n"
     ]
    },
    {
     "name": "stdout",
     "output_type": "stream",
     "text": [
      "Stuck EX_cpd00039_e0 -1.734172150923248 13.62811366160805 -0.19794356967011772\n"
     ]
    },
    {
     "name": "stderr",
     "output_type": "stream",
     "text": [
      "/Users/chenry/opt/anaconda3/lib/python3.9/site-packages/cobra/util/solver.py:554: UserWarning: Solver status is 'infeasible'.\n",
      "  warn(f\"Solver status is '{status}'.\", UserWarning)\n"
     ]
    },
    {
     "name": "stdout",
     "output_type": "stream",
     "text": [
      "Stuck EX_cpd00066_e0 -0.7092671963518599 5.250204125426297 -0.11332006417404372\n",
      "Iteration 3\n"
     ]
    },
    {
     "name": "stderr",
     "output_type": "stream",
     "text": [
      "/Users/chenry/opt/anaconda3/lib/python3.9/site-packages/cobra/util/solver.py:554: UserWarning: Solver status is 'infeasible'.\n",
      "  warn(f\"Solver status is '{status}'.\", UserWarning)\n"
     ]
    },
    {
     "name": "stdout",
     "output_type": "stream",
     "text": [
      "Stuck EX_cpd00119_e0 -0.6145188744942885 -25.335094933460155 -5.558634086287462\n"
     ]
    },
    {
     "name": "stderr",
     "output_type": "stream",
     "text": [
      "/Users/chenry/opt/anaconda3/lib/python3.9/site-packages/cobra/util/solver.py:554: UserWarning: Solver status is 'infeasible'.\n",
      "  warn(f\"Solver status is '{status}'.\", UserWarning)\n"
     ]
    },
    {
     "name": "stdout",
     "output_type": "stream",
     "text": [
      "Stuck EX_cpd00158_e0 -0.5540465169367845 -25.335094933460155 -5.510256200241458\n"
     ]
    },
    {
     "name": "stderr",
     "output_type": "stream",
     "text": [
      "/Users/chenry/opt/anaconda3/lib/python3.9/site-packages/cobra/util/solver.py:554: UserWarning: Solver status is 'infeasible'.\n",
      "  warn(f\"Solver status is '{status}'.\", UserWarning)\n"
     ]
    },
    {
     "name": "stdout",
     "output_type": "stream",
     "text": [
      "Stuck EX_cpd00132_e0 -0.5379584681558053 -10.904489169127903 -2.6112646083502247\n"
     ]
    },
    {
     "name": "stderr",
     "output_type": "stream",
     "text": [
      "/Users/chenry/opt/anaconda3/lib/python3.9/site-packages/cobra/util/solver.py:554: UserWarning: Solver status is 'infeasible'.\n",
      "  warn(f\"Solver status is '{status}'.\", UserWarning)\n"
     ]
    },
    {
     "name": "stdout",
     "output_type": "stream",
     "text": [
      "Stuck EX_cpd00214_e0 -1.6197742531121477 4.453451974298556 -0.40512900763000737\n"
     ]
    },
    {
     "name": "stderr",
     "output_type": "stream",
     "text": [
      "/Users/chenry/opt/anaconda3/lib/python3.9/site-packages/cobra/util/solver.py:554: UserWarning: Solver status is 'infeasible'.\n",
      "  warn(f\"Solver status is '{status}'.\", UserWarning)\n"
     ]
    },
    {
     "name": "stdout",
     "output_type": "stream",
     "text": [
      "Stuck EX_cpd00396_e0 0.0 0.6770411315857714 0.13540822631715432\n"
     ]
    },
    {
     "name": "stderr",
     "output_type": "stream",
     "text": [
      "/Users/chenry/opt/anaconda3/lib/python3.9/site-packages/cobra/util/solver.py:554: UserWarning: Solver status is 'infeasible'.\n",
      "  warn(f\"Solver status is '{status}'.\", UserWarning)\n"
     ]
    },
    {
     "name": "stdout",
     "output_type": "stream",
     "text": [
      "Stuck EX_cpd00161_e0 0.0 -9.326063496841796 -1.865212699368359\n",
      "Iteration 4\n"
     ]
    },
    {
     "name": "stderr",
     "output_type": "stream",
     "text": [
      "/Users/chenry/opt/anaconda3/lib/python3.9/site-packages/cobra/util/solver.py:554: UserWarning: Solver status is 'infeasible'.\n",
      "  warn(f\"Solver status is '{status}'.\", UserWarning)\n"
     ]
    },
    {
     "name": "stdout",
     "output_type": "stream",
     "text": [
      "Stuck EX_cpd00084_e0 0.0 -5.546905528487587 -1.6640716585462763\n"
     ]
    },
    {
     "name": "stderr",
     "output_type": "stream",
     "text": [
      "/Users/chenry/opt/anaconda3/lib/python3.9/site-packages/cobra/util/solver.py:554: UserWarning: Solver status is 'infeasible'.\n",
      "  warn(f\"Solver status is '{status}'.\", UserWarning)\n"
     ]
    },
    {
     "name": "stdout",
     "output_type": "stream",
     "text": [
      "Stuck EX_cpd00107_e0 -2.223400222804592 4.417788531206109 -0.2310435966013813\n"
     ]
    },
    {
     "name": "stderr",
     "output_type": "stream",
     "text": [
      "/Users/chenry/opt/anaconda3/lib/python3.9/site-packages/cobra/util/solver.py:554: UserWarning: Solver status is 'infeasible'.\n",
      "  warn(f\"Solver status is '{status}'.\", UserWarning)\n"
     ]
    },
    {
     "name": "stdout",
     "output_type": "stream",
     "text": [
      "Stuck EX_cpd00029_e0 0.0 -25.335094933460155 -7.600528480038046\n"
     ]
    },
    {
     "name": "stderr",
     "output_type": "stream",
     "text": [
      "/Users/chenry/opt/anaconda3/lib/python3.9/site-packages/cobra/util/solver.py:554: UserWarning: Solver status is 'infeasible'.\n",
      "  warn(f\"Solver status is '{status}'.\", UserWarning)\n"
     ]
    },
    {
     "name": "stdout",
     "output_type": "stream",
     "text": [
      "Stuck EX_cpd01293_e0 0.0 -0.6511543837422538 -0.19534631512267614\n",
      "Iteration 5\n"
     ]
    },
    {
     "name": "stderr",
     "output_type": "stream",
     "text": [
      "/Users/chenry/opt/anaconda3/lib/python3.9/site-packages/cobra/util/solver.py:554: UserWarning: Solver status is 'infeasible'.\n",
      "  warn(f\"Solver status is '{status}'.\", UserWarning)\n"
     ]
    },
    {
     "name": "stdout",
     "output_type": "stream",
     "text": [
      "Stuck EX_cpd00064_e0 -4.5591643620958395 6.611762784099893 -0.09079350361754646\n"
     ]
    },
    {
     "name": "stderr",
     "output_type": "stream",
     "text": [
      "/Users/chenry/opt/anaconda3/lib/python3.9/site-packages/cobra/util/solver.py:554: UserWarning: Solver status is 'infeasible'.\n",
      "  warn(f\"Solver status is '{status}'.\", UserWarning)\n"
     ]
    },
    {
     "name": "stdout",
     "output_type": "stream",
     "text": [
      "Stuck EX_cpd01055_e0 0.0 -7.089902409992569 -2.8359609639970276\n"
     ]
    },
    {
     "name": "stderr",
     "output_type": "stream",
     "text": [
      "/Users/chenry/opt/anaconda3/lib/python3.9/site-packages/cobra/util/solver.py:554: UserWarning: Solver status is 'infeasible'.\n",
      "  warn(f\"Solver status is '{status}'.\", UserWarning)\n"
     ]
    },
    {
     "name": "stdout",
     "output_type": "stream",
     "text": [
      "Stuck EX_cpd00121_e0 0.0 -3.1855656674510957 -1.2742262669804383\n"
     ]
    },
    {
     "name": "stderr",
     "output_type": "stream",
     "text": [
      "/Users/chenry/opt/anaconda3/lib/python3.9/site-packages/cobra/util/solver.py:554: UserWarning: Solver status is 'infeasible'.\n",
      "  warn(f\"Solver status is '{status}'.\", UserWarning)\n"
     ]
    },
    {
     "name": "stdout",
     "output_type": "stream",
     "text": [
      "Stuck EX_cpd00082_e0 0.0 -1.0253739851152575 -0.41014959404610296\n",
      "Iteration 6\n",
      "Iteration 7\n",
      "Iteration 8\n",
      "Iteration 9\n",
      "Iteration 10\n",
      "EX_cpd00084_e0 -1.6640716585462763 -1.6640716585462763\n",
      "EX_cpd00119_e0 -5.558634086287462 -5.558634086287462\n",
      "EX_cpd00033_e0 1.0890813080503285 1.0890813080503285\n",
      "EX_cpd01242_e0 1.708626085032538 1.708626085032538\n",
      "EX_cpd00137_e0 0.11871717900839451 0.11871717900839451\n",
      "EX_cpd00129_e0 1.4650147971091965 1.4650147971091965\n",
      "EX_cpd00158_e0 -5.510256200241458 -5.510256200241458\n",
      "EX_cpd01171_e0 -3.813298790140139 -3.813298790140139\n",
      "EX_cpd01107_e0 0.6950232828015617 0.6950232828015617\n",
      "EX_cpd03847_e0 0.8585104995329118 0.8585104995329118\n",
      "EX_cpd00322_e0 0.5904437548126475 0.5904437548126475\n",
      "EX_cpd00108_e0 2.533509493346017 2.533509493346017\n",
      "EX_cpd00132_e0 -2.6112646083502247 -2.6112646083502247\n",
      "EX_cpd00851_e0 1.3881900368675382 1.3881900368675382\n",
      "EX_cpd02733_e0 2.533509493346017 2.533509493346017\n",
      "EX_cpd00224_e0 0.6795383950582918 0.6795383950582918\n",
      "EX_cpd00130_e0 2.533509493346017 2.533509493346017\n",
      "EX_cpd00526_e0 -1000 1000\n",
      "EX_cpd00076_e0 -0.7921108280319266 -0.7921108280319266\n",
      "EX_cpd00107_e0 -0.2310435966013813 -0.2310435966013813\n",
      "EX_cpd00214_e0 -0.40512900763000737 -0.40512900763000737\n",
      "EX_cpd00029_e0 -7.600528480038046 -7.600528480038046\n",
      "EX_cpd00105_e0 1.871912152386983 1.871912152386983\n",
      "EX_cpd00218_e0 -1000 1000\n",
      "EX_cpd00751_e0 -1000 1000\n",
      "EX_cpd00382_e0 0.06920586945014484 0.06920586945014484\n",
      "EX_cpd00060_e0 -1000 1000\n",
      "EX_cpd00035_e0 -1000 1000\n",
      "EX_cpd00396_e0 0.13540822631715432 0.13540822631715432\n",
      "EX_cpd00161_e0 -1.865212699368359 -1.865212699368359\n",
      "EX_cpd00211_e0 -2.5335094933460156 -2.5335094933460156\n",
      "EX_cpd03198_e0 -1000 1000\n",
      "EX_cpd00064_e0 -0.09079350361754646 -0.09079350361754646\n",
      "EX_cpd01055_e0 -2.8359609639970276 -2.8359609639970276\n",
      "EX_cpd00106_e0 -1000 1000\n",
      "EX_cpd00121_e0 -1.2742262669804383 -1.2742262669804383\n",
      "EX_cpd00082_e0 -0.41014959404610296 -0.41014959404610296\n",
      "EX_cpd01293_e0 -0.19534631512267614 -0.19534631512267614\n",
      "EX_cpd00041_e0 -1000 1000\n",
      "EX_cpd03846_e0 -1000 1000\n",
      "EX_cpd00122_e0 -1000 1000\n",
      "EX_cpd00024_e0 -2.5335094933460156 -2.5335094933460156\n",
      "EX_cpd00550_e0 0.2619237994401593 0.2619237994401593\n",
      "EX_cpd00023_e0 -1000 1000\n",
      "EX_cpd00141_e0 -2.5335094933460156 -2.5335094933460156\n",
      "EX_cpd00156_e0 -1000 1000\n",
      "EX_cpd00027_e0 -1000 1000\n",
      "EX_cpd00039_e0 -0.19794356967011772 -0.19794356967011772\n",
      "EX_cpd00069_e0 -1000 1000\n",
      "EX_cpd00536_e0 -1000 1000\n",
      "EX_cpd00066_e0 -0.11332006417404372 -0.11332006417404372\n",
      "EX_cpd00036_e0 -1000 1000\n",
      "EX_cpd00020_e0 -1000 1000\n"
     ]
    },
    {
     "name": "stderr",
     "output_type": "stream",
     "text": [
      "1717943400.9628239 INFO: Making atp hydrolysis reaction for species: Lactobacillus.3\n",
      "1717943401.315016 INFO: Making atp hydrolysis reaction for species: Merdibacter.1\n",
      "1717943402.285057 INFO: Making atp hydrolysis reaction for species: Enterococcus.2\n",
      "1717943402.648502 INFO: Making atp hydrolysis reaction for species: Nosocomiicoccus.1\n",
      "1717943403.0141382 INFO: Making atp hydrolysis reaction for species: Staphylococcus.3\n",
      "1717943403.373835 INFO: Making atp hydrolysis reaction for species: Turicibacter.1\n",
      "1717943403.726688 INFO: Making atp hydrolysis reaction for species: Enterococcus.1\n",
      "1717943404.0759869 INFO: Making atp hydrolysis reaction for species: Lactobacillus.1\n",
      "1717943404.426569 INFO: Making atp hydrolysis reaction for species: Lactobacillus.4\n",
      "1717943404.772267 INFO: Making atp hydrolysis reaction for species: Clostridium.7\n",
      "1717943405.121186 INFO: Making atp hydrolysis reaction for species: Alloiococcus.1\n",
      "1717943405.4731898 INFO: Making atp hydrolysis reaction for species: Staphylococcus.4\n",
      "1717943406.4504771 INFO: Making atp hydrolysis reaction for species: Bacillus.4\n",
      "1717943406.803473 INFO: Making atp hydrolysis reaction for species: Acinetobacter.1\n",
      "1717943407.171762 INFO: Making atp hydrolysis reaction for species: Enterococcus.3\n"
     ]
    },
    {
     "name": "stdout",
     "output_type": "stream",
     "text": [
      "RC-ABX_1.5 growth: 8.445008055966637\n",
      "RC-ABX_1.5carbon uptake: 300.0\n",
      "Iteration 1\n"
     ]
    },
    {
     "name": "stderr",
     "output_type": "stream",
     "text": [
      "/Users/chenry/opt/anaconda3/lib/python3.9/site-packages/cobra/util/solver.py:554: UserWarning: Solver status is 'infeasible'.\n",
      "  warn(f\"Solver status is '{status}'.\", UserWarning)\n"
     ]
    },
    {
     "name": "stdout",
     "output_type": "stream",
     "text": [
      "Stuck EX_cpd00526_e0 0.0 24.69121403143884 1000\n"
     ]
    },
    {
     "name": "stderr",
     "output_type": "stream",
     "text": [
      "/Users/chenry/opt/anaconda3/lib/python3.9/site-packages/cobra/util/solver.py:554: UserWarning: Solver status is 'infeasible'.\n",
      "  warn(f\"Solver status is '{status}'.\", UserWarning)\n"
     ]
    },
    {
     "name": "stdout",
     "output_type": "stream",
     "text": [
      "Stuck EX_cpd00029_e0 0.0 -25.33502416789991 1000\n"
     ]
    },
    {
     "name": "stderr",
     "output_type": "stream",
     "text": [
      "/Users/chenry/opt/anaconda3/lib/python3.9/site-packages/cobra/util/solver.py:554: UserWarning: Solver status is 'infeasible'.\n",
      "  warn(f\"Solver status is '{status}'.\", UserWarning)\n"
     ]
    },
    {
     "name": "stdout",
     "output_type": "stream",
     "text": [
      "Stuck EX_cpd00751_e0 0.0 12.017204416433223 1000\n"
     ]
    },
    {
     "name": "stderr",
     "output_type": "stream",
     "text": [
      "/Users/chenry/opt/anaconda3/lib/python3.9/site-packages/cobra/util/solver.py:554: UserWarning: Solver status is 'infeasible'.\n",
      "  warn(f\"Solver status is '{status}'.\", UserWarning)\n"
     ]
    },
    {
     "name": "stdout",
     "output_type": "stream",
     "text": [
      "Stuck EX_cpd00211_e0 0.0 -25.33502416789991 1000\n"
     ]
    },
    {
     "name": "stderr",
     "output_type": "stream",
     "text": [
      "/Users/chenry/opt/anaconda3/lib/python3.9/site-packages/cobra/util/solver.py:554: UserWarning: Solver status is 'infeasible'.\n",
      "  warn(f\"Solver status is '{status}'.\", UserWarning)\n"
     ]
    },
    {
     "name": "stdout",
     "output_type": "stream",
     "text": [
      "Stuck EX_cpd00064_e0 0.0 -0.9336663687768946 1000\n"
     ]
    },
    {
     "name": "stderr",
     "output_type": "stream",
     "text": [
      "/Users/chenry/opt/anaconda3/lib/python3.9/site-packages/cobra/util/solver.py:554: UserWarning: Solver status is 'infeasible'.\n",
      "  warn(f\"Solver status is '{status}'.\", UserWarning)\n"
     ]
    },
    {
     "name": "stdout",
     "output_type": "stream",
     "text": [
      "Stuck EX_cpd00106_e0 0.0 -0.8336747355411662 1000\n"
     ]
    },
    {
     "name": "stderr",
     "output_type": "stream",
     "text": [
      "/Users/chenry/opt/anaconda3/lib/python3.9/site-packages/cobra/util/solver.py:554: UserWarning: Solver status is 'infeasible'.\n",
      "  warn(f\"Solver status is '{status}'.\", UserWarning)\n"
     ]
    },
    {
     "name": "stdout",
     "output_type": "stream",
     "text": [
      "Stuck EX_cpd00121_e0 0.0 -6.376464771937283 1000\n"
     ]
    },
    {
     "name": "stderr",
     "output_type": "stream",
     "text": [
      "/Users/chenry/opt/anaconda3/lib/python3.9/site-packages/cobra/util/solver.py:554: UserWarning: Solver status is 'infeasible'.\n",
      "  warn(f\"Solver status is '{status}'.\", UserWarning)\n"
     ]
    },
    {
     "name": "stdout",
     "output_type": "stream",
     "text": [
      "Stuck EX_cpd00082_e0 0.0 -3.237453469805059 1000\n"
     ]
    },
    {
     "name": "stderr",
     "output_type": "stream",
     "text": [
      "/Users/chenry/opt/anaconda3/lib/python3.9/site-packages/cobra/util/solver.py:554: UserWarning: Solver status is 'infeasible'.\n",
      "  warn(f\"Solver status is '{status}'.\", UserWarning)\n"
     ]
    },
    {
     "name": "stdout",
     "output_type": "stream",
     "text": [
      "Stuck EX_cpd00041_e0 0.0 -0.8744887748662371 1000\n"
     ]
    },
    {
     "name": "stderr",
     "output_type": "stream",
     "text": [
      "/Users/chenry/opt/anaconda3/lib/python3.9/site-packages/cobra/util/solver.py:554: UserWarning: Solver status is 'infeasible'.\n",
      "  warn(f\"Solver status is '{status}'.\", UserWarning)\n"
     ]
    },
    {
     "name": "stdout",
     "output_type": "stream",
     "text": [
      "Stuck EX_cpd00024_e0 0.0 -25.33502416789991 1000\n"
     ]
    },
    {
     "name": "stderr",
     "output_type": "stream",
     "text": [
      "/Users/chenry/opt/anaconda3/lib/python3.9/site-packages/cobra/util/solver.py:554: UserWarning: Solver status is 'infeasible'.\n",
      "  warn(f\"Solver status is '{status}'.\", UserWarning)\n"
     ]
    },
    {
     "name": "stdout",
     "output_type": "stream",
     "text": [
      "Stuck EX_cpd00023_e0 0.0 -1.047943986202319 1000\n"
     ]
    },
    {
     "name": "stderr",
     "output_type": "stream",
     "text": [
      "/Users/chenry/opt/anaconda3/lib/python3.9/site-packages/cobra/util/solver.py:554: UserWarning: Solver status is 'infeasible'.\n",
      "  warn(f\"Solver status is '{status}'.\", UserWarning)\n"
     ]
    },
    {
     "name": "stdout",
     "output_type": "stream",
     "text": [
      "Stuck EX_cpd00141_e0 0.0 -25.33502416789991 1000\n"
     ]
    },
    {
     "name": "stderr",
     "output_type": "stream",
     "text": [
      "/Users/chenry/opt/anaconda3/lib/python3.9/site-packages/cobra/util/solver.py:554: UserWarning: Solver status is 'infeasible'.\n",
      "  warn(f\"Solver status is '{status}'.\", UserWarning)\n"
     ]
    },
    {
     "name": "stdout",
     "output_type": "stream",
     "text": [
      "Stuck EX_cpd00039_e0 -2.322524244376152 -3.152751611754235 1000\n"
     ]
    },
    {
     "name": "stderr",
     "output_type": "stream",
     "text": [
      "/Users/chenry/opt/anaconda3/lib/python3.9/site-packages/cobra/util/solver.py:554: UserWarning: Solver status is 'infeasible'.\n",
      "  warn(f\"Solver status is '{status}'.\", UserWarning)\n"
     ]
    },
    {
     "name": "stdout",
     "output_type": "stream",
     "text": [
      "Stuck EX_cpd00069_e0 -0.8674990706393234 7.128006702249737 1000\n"
     ]
    },
    {
     "name": "stderr",
     "output_type": "stream",
     "text": [
      "/Users/chenry/opt/anaconda3/lib/python3.9/site-packages/cobra/util/solver.py:554: UserWarning: Solver status is 'infeasible'.\n",
      "  warn(f\"Solver status is '{status}'.\", UserWarning)\n"
     ]
    },
    {
     "name": "stdout",
     "output_type": "stream",
     "text": [
      "Stuck EX_cpd00066_e0 -1.220650375056024 4.4507467167562975 1000\n",
      "Iteration 2\n"
     ]
    },
    {
     "name": "stderr",
     "output_type": "stream",
     "text": [
      "/Users/chenry/opt/anaconda3/lib/python3.9/site-packages/cobra/util/solver.py:554: UserWarning: Solver status is 'infeasible'.\n",
      "  warn(f\"Solver status is '{status}'.\", UserWarning)\n"
     ]
    },
    {
     "name": "stdout",
     "output_type": "stream",
     "text": [
      "Stuck EX_cpd00119_e0 -14.949996793262162 -25.33502416789991 -15.988499530725937\n"
     ]
    },
    {
     "name": "stderr",
     "output_type": "stream",
     "text": [
      "/Users/chenry/opt/anaconda3/lib/python3.9/site-packages/cobra/util/solver.py:554: UserWarning: Solver status is 'infeasible'.\n",
      "  warn(f\"Solver status is '{status}'.\", UserWarning)\n"
     ]
    },
    {
     "name": "stdout",
     "output_type": "stream",
     "text": [
      "Stuck EX_cpd00137_e0 0.0 -9.65571967022424 -0.965571967022424\n"
     ]
    },
    {
     "name": "stderr",
     "output_type": "stream",
     "text": [
      "/Users/chenry/opt/anaconda3/lib/python3.9/site-packages/cobra/util/solver.py:554: UserWarning: Solver status is 'infeasible'.\n",
      "  warn(f\"Solver status is '{status}'.\", UserWarning)\n"
     ]
    },
    {
     "name": "stdout",
     "output_type": "stream",
     "text": [
      "Stuck EX_cpd00158_e0 -0.13265101125911555 -25.33502416789991 -2.6528883269231947\n"
     ]
    },
    {
     "name": "stderr",
     "output_type": "stream",
     "text": [
      "/Users/chenry/opt/anaconda3/lib/python3.9/site-packages/cobra/util/solver.py:554: UserWarning: Solver status is 'infeasible'.\n",
      "  warn(f\"Solver status is '{status}'.\", UserWarning)\n"
     ]
    },
    {
     "name": "stdout",
     "output_type": "stream",
     "text": [
      "Stuck EX_cpd01171_e0 0.0 -25.33502416789991 -2.533502416789991\n"
     ]
    },
    {
     "name": "stderr",
     "output_type": "stream",
     "text": [
      "/Users/chenry/opt/anaconda3/lib/python3.9/site-packages/cobra/util/solver.py:554: UserWarning: Solver status is 'infeasible'.\n",
      "  warn(f\"Solver status is '{status}'.\", UserWarning)\n"
     ]
    },
    {
     "name": "stdout",
     "output_type": "stream",
     "text": [
      "Stuck EX_cpd02733_e0 0.0 22.695197154732163 2.2695197154732156\n"
     ]
    },
    {
     "name": "stderr",
     "output_type": "stream",
     "text": [
      "/Users/chenry/opt/anaconda3/lib/python3.9/site-packages/cobra/util/solver.py:554: UserWarning: Solver status is 'infeasible'.\n",
      "  warn(f\"Solver status is '{status}'.\", UserWarning)\n"
     ]
    },
    {
     "name": "stdout",
     "output_type": "stream",
     "text": [
      "Stuck EX_cpd00035_e0 0.0 9.64284674161173 0.9642846741611724\n"
     ]
    },
    {
     "name": "stderr",
     "output_type": "stream",
     "text": [
      "/Users/chenry/opt/anaconda3/lib/python3.9/site-packages/cobra/util/solver.py:554: UserWarning: Solver status is 'infeasible'.\n",
      "  warn(f\"Solver status is '{status}'.\", UserWarning)\n"
     ]
    },
    {
     "name": "stdout",
     "output_type": "stream",
     "text": [
      "Stuck EX_cpd00396_e0 0.0 3.902486806249863 0.3902486806249863\n"
     ]
    },
    {
     "name": "stderr",
     "output_type": "stream",
     "text": [
      "/Users/chenry/opt/anaconda3/lib/python3.9/site-packages/cobra/util/solver.py:554: UserWarning: Solver status is 'infeasible'.\n",
      "  warn(f\"Solver status is '{status}'.\", UserWarning)\n"
     ]
    },
    {
     "name": "stdout",
     "output_type": "stream",
     "text": [
      "Stuck EX_cpd03198_e0 0.0 2.75164620009731 0.2751646200097313\n"
     ]
    },
    {
     "name": "stderr",
     "output_type": "stream",
     "text": [
      "/Users/chenry/opt/anaconda3/lib/python3.9/site-packages/cobra/util/solver.py:554: UserWarning: Solver status is 'infeasible'.\n",
      "  warn(f\"Solver status is '{status}'.\", UserWarning)\n"
     ]
    },
    {
     "name": "stdout",
     "output_type": "stream",
     "text": [
      "Stuck EX_cpd00122_e0 0.0 15.448197340250307 1.5448197340250296\n"
     ]
    },
    {
     "name": "stderr",
     "output_type": "stream",
     "text": [
      "/Users/chenry/opt/anaconda3/lib/python3.9/site-packages/cobra/util/solver.py:554: UserWarning: Solver status is 'infeasible'.\n",
      "  warn(f\"Solver status is '{status}'.\", UserWarning)\n"
     ]
    },
    {
     "name": "stdout",
     "output_type": "stream",
     "text": [
      "Stuck EX_cpd00156_e0 0.0 4.428095465342592 0.4428095465342592\n"
     ]
    },
    {
     "name": "stderr",
     "output_type": "stream",
     "text": [
      "/Users/chenry/opt/anaconda3/lib/python3.9/site-packages/cobra/util/solver.py:554: UserWarning: Solver status is 'infeasible'.\n",
      "  warn(f\"Solver status is '{status}'.\", UserWarning)\n"
     ]
    },
    {
     "name": "stdout",
     "output_type": "stream",
     "text": [
      "Stuck EX_cpd00027_e0 0.0 12.876935278657458 1.2876935278657466\n",
      "Iteration 3\n"
     ]
    },
    {
     "name": "stderr",
     "output_type": "stream",
     "text": [
      "/Users/chenry/opt/anaconda3/lib/python3.9/site-packages/cobra/util/solver.py:554: UserWarning: Solver status is 'infeasible'.\n",
      "  warn(f\"Solver status is '{status}'.\", UserWarning)\n"
     ]
    },
    {
     "name": "stdout",
     "output_type": "stream",
     "text": [
      "Stuck EX_cpd00084_e0 -0.054845807449535 0.5847727751852931 0.07307790907743061\n"
     ]
    },
    {
     "name": "stderr",
     "output_type": "stream",
     "text": [
      "/Users/chenry/opt/anaconda3/lib/python3.9/site-packages/cobra/util/solver.py:554: UserWarning: Solver status is 'infeasible'.\n",
      "  warn(f\"Solver status is '{status}'.\", UserWarning)\n"
     ]
    },
    {
     "name": "stdout",
     "output_type": "stream",
     "text": [
      "Stuck EX_cpd00033_e0 0.0 4.113130568368721 0.8226261136737443\n"
     ]
    },
    {
     "name": "stderr",
     "output_type": "stream",
     "text": [
      "/Users/chenry/opt/anaconda3/lib/python3.9/site-packages/cobra/util/solver.py:554: UserWarning: Solver status is 'infeasible'.\n",
      "  warn(f\"Solver status is '{status}'.\", UserWarning)\n"
     ]
    },
    {
     "name": "stdout",
     "output_type": "stream",
     "text": [
      "Stuck EX_cpd01242_e0 0.0 2.998779787889676 0.5997559575779352\n"
     ]
    },
    {
     "name": "stderr",
     "output_type": "stream",
     "text": [
      "/Users/chenry/opt/anaconda3/lib/python3.9/site-packages/cobra/util/solver.py:554: UserWarning: Solver status is 'infeasible'.\n",
      "  warn(f\"Solver status is '{status}'.\", UserWarning)\n"
     ]
    },
    {
     "name": "stdout",
     "output_type": "stream",
     "text": [
      "Stuck EX_cpd00129_e0 0.0 9.882363886345699 1.97647277726914\n"
     ]
    },
    {
     "name": "stderr",
     "output_type": "stream",
     "text": [
      "/Users/chenry/opt/anaconda3/lib/python3.9/site-packages/cobra/util/solver.py:554: UserWarning: Solver status is 'infeasible'.\n",
      "  warn(f\"Solver status is '{status}'.\", UserWarning)\n"
     ]
    },
    {
     "name": "stdout",
     "output_type": "stream",
     "text": [
      "Stuck EX_cpd01107_e0 -0.26179555715279906 1.7027995819333552 0.13112347066443175\n"
     ]
    },
    {
     "name": "stderr",
     "output_type": "stream",
     "text": [
      "/Users/chenry/opt/anaconda3/lib/python3.9/site-packages/cobra/util/solver.py:554: UserWarning: Solver status is 'infeasible'.\n",
      "  warn(f\"Solver status is '{status}'.\", UserWarning)\n"
     ]
    },
    {
     "name": "stdout",
     "output_type": "stream",
     "text": [
      "Stuck EX_cpd00322_e0 0.0 4.904451464401974 0.9808902928803946\n"
     ]
    },
    {
     "name": "stderr",
     "output_type": "stream",
     "text": [
      "/Users/chenry/opt/anaconda3/lib/python3.9/site-packages/cobra/util/solver.py:554: UserWarning: Solver status is 'infeasible'.\n",
      "  warn(f\"Solver status is '{status}'.\", UserWarning)\n"
     ]
    },
    {
     "name": "stdout",
     "output_type": "stream",
     "text": [
      "Stuck EX_cpd00108_e0 0.0 2.171700026208191 0.4343400052416382\n"
     ]
    },
    {
     "name": "stderr",
     "output_type": "stream",
     "text": [
      "/Users/chenry/opt/anaconda3/lib/python3.9/site-packages/cobra/util/solver.py:554: UserWarning: Solver status is 'infeasible'.\n",
      "  warn(f\"Solver status is '{status}'.\", UserWarning)\n"
     ]
    },
    {
     "name": "stdout",
     "output_type": "stream",
     "text": [
      "Stuck EX_cpd00132_e0 0.0 0.6338038105373259 0.12676076210746523\n"
     ]
    },
    {
     "name": "stderr",
     "output_type": "stream",
     "text": [
      "/Users/chenry/opt/anaconda3/lib/python3.9/site-packages/cobra/util/solver.py:554: UserWarning: Solver status is 'infeasible'.\n",
      "  warn(f\"Solver status is '{status}'.\", UserWarning)\n"
     ]
    },
    {
     "name": "stdout",
     "output_type": "stream",
     "text": [
      "Stuck EX_cpd00851_e0 -0.22857694765746195 6.2236803797038505 1.0618745178148004\n"
     ]
    },
    {
     "name": "stderr",
     "output_type": "stream",
     "text": [
      "/Users/chenry/opt/anaconda3/lib/python3.9/site-packages/cobra/util/solver.py:554: UserWarning: Solver status is 'infeasible'.\n",
      "  warn(f\"Solver status is '{status}'.\", UserWarning)\n"
     ]
    },
    {
     "name": "stdout",
     "output_type": "stream",
     "text": [
      "Stuck EX_cpd00224_e0 0.0 13.271684723267157 2.6543369446534317\n"
     ]
    },
    {
     "name": "stderr",
     "output_type": "stream",
     "text": [
      "/Users/chenry/opt/anaconda3/lib/python3.9/site-packages/cobra/util/solver.py:554: UserWarning: Solver status is 'infeasible'.\n",
      "  warn(f\"Solver status is '{status}'.\", UserWarning)\n"
     ]
    },
    {
     "name": "stdout",
     "output_type": "stream",
     "text": [
      "Stuck EX_cpd00107_e0 0.0 6.276617719939288 1.2553235439878572\n"
     ]
    },
    {
     "name": "stderr",
     "output_type": "stream",
     "text": [
      "/Users/chenry/opt/anaconda3/lib/python3.9/site-packages/cobra/util/solver.py:554: UserWarning: Solver status is 'infeasible'.\n",
      "  warn(f\"Solver status is '{status}'.\", UserWarning)\n"
     ]
    },
    {
     "name": "stdout",
     "output_type": "stream",
     "text": [
      "Stuck EX_cpd00105_e0 0.0 4.57093283010701 0.9141865660214021\n"
     ]
    },
    {
     "name": "stderr",
     "output_type": "stream",
     "text": [
      "/Users/chenry/opt/anaconda3/lib/python3.9/site-packages/cobra/util/solver.py:554: UserWarning: Solver status is 'infeasible'.\n",
      "  warn(f\"Solver status is '{status}'.\", UserWarning)\n"
     ]
    },
    {
     "name": "stdout",
     "output_type": "stream",
     "text": [
      "Stuck EX_cpd00382_e0 0.0 0.13462843287201653 0.026925686574403307\n"
     ]
    },
    {
     "name": "stderr",
     "output_type": "stream",
     "text": [
      "/Users/chenry/opt/anaconda3/lib/python3.9/site-packages/cobra/util/solver.py:554: UserWarning: Solver status is 'infeasible'.\n",
      "  warn(f\"Solver status is '{status}'.\", UserWarning)\n"
     ]
    },
    {
     "name": "stdout",
     "output_type": "stream",
     "text": [
      "Stuck EX_cpd00060_e0 0.0 3.9976203004906674 0.7995240600981335\n"
     ]
    },
    {
     "name": "stderr",
     "output_type": "stream",
     "text": [
      "/Users/chenry/opt/anaconda3/lib/python3.9/site-packages/cobra/util/solver.py:554: UserWarning: Solver status is 'infeasible'.\n",
      "  warn(f\"Solver status is '{status}'.\", UserWarning)\n"
     ]
    },
    {
     "name": "stdout",
     "output_type": "stream",
     "text": [
      "Stuck EX_cpd01293_e0 0.0 0.14786068907239275 0.029572137814478552\n"
     ]
    },
    {
     "name": "stderr",
     "output_type": "stream",
     "text": [
      "/Users/chenry/opt/anaconda3/lib/python3.9/site-packages/cobra/util/solver.py:554: UserWarning: Solver status is 'infeasible'.\n",
      "  warn(f\"Solver status is '{status}'.\", UserWarning)\n"
     ]
    },
    {
     "name": "stdout",
     "output_type": "stream",
     "text": [
      "Stuck EX_cpd03846_e0 0.0 0.6892289075783644 0.13784578151567284\n"
     ]
    },
    {
     "name": "stderr",
     "output_type": "stream",
     "text": [
      "/Users/chenry/opt/anaconda3/lib/python3.9/site-packages/cobra/util/solver.py:554: UserWarning: Solver status is 'infeasible'.\n",
      "  warn(f\"Solver status is '{status}'.\", UserWarning)\n"
     ]
    },
    {
     "name": "stdout",
     "output_type": "stream",
     "text": [
      "Stuck EX_cpd00550_e0 0.0 0.9758466145432304 0.19516932290864608\n"
     ]
    },
    {
     "name": "stderr",
     "output_type": "stream",
     "text": [
      "/Users/chenry/opt/anaconda3/lib/python3.9/site-packages/cobra/util/solver.py:554: UserWarning: Solver status is 'infeasible'.\n",
      "  warn(f\"Solver status is '{status}'.\", UserWarning)\n"
     ]
    },
    {
     "name": "stdout",
     "output_type": "stream",
     "text": [
      "Stuck EX_cpd00536_e0 0.0 0.13227167453911357 0.026454334907822716\n"
     ]
    },
    {
     "name": "stderr",
     "output_type": "stream",
     "text": [
      "/Users/chenry/opt/anaconda3/lib/python3.9/site-packages/cobra/util/solver.py:554: UserWarning: Solver status is 'infeasible'.\n",
      "  warn(f\"Solver status is '{status}'.\", UserWarning)\n"
     ]
    },
    {
     "name": "stdout",
     "output_type": "stream",
     "text": [
      "Stuck EX_cpd00036_e0 0.0 1.435018006090469 0.2870036012180939\n"
     ]
    },
    {
     "name": "stderr",
     "output_type": "stream",
     "text": [
      "/Users/chenry/opt/anaconda3/lib/python3.9/site-packages/cobra/util/solver.py:554: UserWarning: Solver status is 'infeasible'.\n",
      "  warn(f\"Solver status is '{status}'.\", UserWarning)\n"
     ]
    },
    {
     "name": "stdout",
     "output_type": "stream",
     "text": [
      "Stuck EX_cpd00020_e0 0.0 1.344433416000519 0.2688866832001038\n",
      "Iteration 4\n"
     ]
    },
    {
     "name": "stderr",
     "output_type": "stream",
     "text": [
      "/Users/chenry/opt/anaconda3/lib/python3.9/site-packages/cobra/util/solver.py:554: UserWarning: Solver status is 'infeasible'.\n",
      "  warn(f\"Solver status is '{status}'.\", UserWarning)\n"
     ]
    },
    {
     "name": "stdout",
     "output_type": "stream",
     "text": [
      "Stuck EX_cpd00161_e0 0.0 0.16658136508553964 0.0499744095256619\n",
      "Iteration 5\n",
      "Iteration 6\n",
      "Iteration 7\n",
      "Iteration 8\n"
     ]
    },
    {
     "name": "stderr",
     "output_type": "stream",
     "text": [
      "/Users/chenry/opt/anaconda3/lib/python3.9/site-packages/cobra/util/solver.py:554: UserWarning: Solver status is 'infeasible'.\n",
      "  warn(f\"Solver status is '{status}'.\", UserWarning)\n"
     ]
    },
    {
     "name": "stdout",
     "output_type": "stream",
     "text": [
      "Stuck EX_cpd03847_e0 -5.52648314672895 1.7167316260388237 -0.4562328057915086\n",
      "Iteration 9\n"
     ]
    },
    {
     "name": "stderr",
     "output_type": "stream",
     "text": [
      "/Users/chenry/opt/anaconda3/lib/python3.9/site-packages/cobra/util/solver.py:554: UserWarning: Solver status is 'infeasible'.\n",
      "  warn(f\"Solver status is '{status}'.\", UserWarning)\n"
     ]
    },
    {
     "name": "stdout",
     "output_type": "stream",
     "text": [
      "Stuck EX_cpd00214_e0 -1.6462416953563388 0.33154620639949556 -0.06401137395167134\n",
      "Iteration 10\n",
      "EX_cpd00084_e0 0.07307790907743061 0.07307790907743061\n",
      "EX_cpd00119_e0 -15.988499530725937 -15.988499530725937\n",
      "EX_cpd00033_e0 0.8226261136737443 0.8226261136737443\n",
      "EX_cpd01242_e0 0.5997559575779352 0.5997559575779352\n",
      "EX_cpd00137_e0 -0.965571967022424 -0.965571967022424\n",
      "EX_cpd00129_e0 1.97647277726914 1.97647277726914\n",
      "EX_cpd00158_e0 -2.6528883269231947 -2.6528883269231947\n",
      "EX_cpd01171_e0 -2.533502416789991 -2.533502416789991\n",
      "EX_cpd01107_e0 0.13112347066443175 0.13112347066443175\n",
      "EX_cpd03847_e0 -0.4562328057915086 -0.4562328057915086\n",
      "EX_cpd00322_e0 0.9808902928803946 0.9808902928803946\n",
      "EX_cpd00108_e0 0.4343400052416382 0.4343400052416382\n",
      "EX_cpd00132_e0 0.12676076210746523 0.12676076210746523\n",
      "EX_cpd00851_e0 1.0618745178148004 1.0618745178148004\n",
      "EX_cpd02733_e0 2.2695197154732156 2.2695197154732156\n",
      "EX_cpd00224_e0 2.6543369446534317 2.6543369446534317\n",
      "EX_cpd00130_e0 -3.504995024938082 -3.504995024938082\n",
      "EX_cpd00526_e0 -1000 1000\n",
      "EX_cpd00076_e0 -1.7655373458465906 -1.7655373458465906\n",
      "EX_cpd00107_e0 1.2553235439878572 1.2553235439878572\n",
      "EX_cpd00214_e0 -0.06401137395167134 -0.06401137395167134\n",
      "EX_cpd00029_e0 -1000 1000\n",
      "EX_cpd00105_e0 0.9141865660214021 0.9141865660214021\n",
      "EX_cpd00218_e0 -3.041685541605657 -3.041685541605657\n",
      "EX_cpd00751_e0 -1000 1000\n",
      "EX_cpd00382_e0 0.026925686574403307 0.026925686574403307\n",
      "EX_cpd00060_e0 0.7995240600981335 0.7995240600981335\n",
      "EX_cpd00035_e0 0.9642846741611724 0.9642846741611724\n",
      "EX_cpd00396_e0 0.3902486806249863 0.3902486806249863\n",
      "EX_cpd00161_e0 0.0499744095256619 0.0499744095256619\n",
      "EX_cpd00211_e0 -1000 1000\n",
      "EX_cpd03198_e0 0.2751646200097313 0.2751646200097313\n",
      "EX_cpd00064_e0 -1000 1000\n",
      "EX_cpd01055_e0 -0.4398878962720011 -0.4398878962720011\n",
      "EX_cpd00106_e0 -1000 1000\n",
      "EX_cpd00121_e0 -1000 1000\n",
      "EX_cpd00082_e0 -1000 1000\n",
      "EX_cpd01293_e0 0.029572137814478552 0.029572137814478552\n",
      "EX_cpd00041_e0 -1000 1000\n",
      "EX_cpd03846_e0 0.13784578151567284 0.13784578151567284\n",
      "EX_cpd00122_e0 1.5448197340250296 1.5448197340250296\n",
      "EX_cpd00024_e0 -1000 1000\n",
      "EX_cpd00550_e0 0.19516932290864608 0.19516932290864608\n",
      "EX_cpd00023_e0 -1000 1000\n",
      "EX_cpd00141_e0 -1000 1000\n",
      "EX_cpd00156_e0 0.4428095465342592 0.4428095465342592\n",
      "EX_cpd00027_e0 1.2876935278657466 1.2876935278657466\n",
      "EX_cpd00039_e0 -1000 1000\n",
      "EX_cpd00069_e0 -1000 1000\n",
      "EX_cpd00536_e0 0.026454334907822716 0.026454334907822716\n",
      "EX_cpd00066_e0 -1000 1000\n",
      "EX_cpd00036_e0 0.2870036012180939 0.2870036012180939\n",
      "EX_cpd00020_e0 0.2688866832001038 0.2688866832001038\n"
     ]
    },
    {
     "name": "stderr",
     "output_type": "stream",
     "text": [
      "1717943592.2141829 INFO: Making atp hydrolysis reaction for species: Lactobacillus.3\n",
      "1717943592.453094 INFO: Making atp hydrolysis reaction for species: Merdibacter.1\n",
      "1717943592.687818 INFO: Making atp hydrolysis reaction for species: Enterococcus.2\n",
      "1717943592.922522 INFO: Making atp hydrolysis reaction for species: Acinetobacter.1\n",
      "1717943593.1563761 INFO: Making atp hydrolysis reaction for species: Enterococcus.3\n",
      "1717943593.39596 INFO: Making atp hydrolysis reaction for species: Staphylococcus.3\n",
      "1717943593.641002 INFO: Making atp hydrolysis reaction for species: Enterococcus.1\n",
      "1717943593.875544 INFO: Making atp hydrolysis reaction for species: Lactobacillus.1\n",
      "1717943594.108672 INFO: Making atp hydrolysis reaction for species: Clostridium.21\n"
     ]
    },
    {
     "name": "stdout",
     "output_type": "stream",
     "text": [
      "RC-ABX_4.0 growth: 8.445006943336699\n",
      "RC-ABX_4.0carbon uptake: 300.0\n",
      "Iteration 1\n"
     ]
    },
    {
     "name": "stderr",
     "output_type": "stream",
     "text": [
      "/Users/chenry/opt/anaconda3/lib/python3.9/site-packages/cobra/util/solver.py:554: UserWarning: Solver status is 'infeasible'.\n",
      "  warn(f\"Solver status is '{status}'.\", UserWarning)\n"
     ]
    },
    {
     "name": "stdout",
     "output_type": "stream",
     "text": [
      "Stuck EX_cpd00526_e0 0.0 7.41479611793805 1000\n"
     ]
    },
    {
     "name": "stderr",
     "output_type": "stream",
     "text": [
      "/Users/chenry/opt/anaconda3/lib/python3.9/site-packages/cobra/util/solver.py:554: UserWarning: Solver status is 'infeasible'.\n",
      "  warn(f\"Solver status is '{status}'.\", UserWarning)\n"
     ]
    },
    {
     "name": "stdout",
     "output_type": "stream",
     "text": [
      "Stuck EX_cpd03198_e0 0.0 -25.335020830010095 1000\n"
     ]
    },
    {
     "name": "stderr",
     "output_type": "stream",
     "text": [
      "/Users/chenry/opt/anaconda3/lib/python3.9/site-packages/cobra/util/solver.py:554: UserWarning: Solver status is 'infeasible'.\n",
      "  warn(f\"Solver status is '{status}'.\", UserWarning)\n"
     ]
    },
    {
     "name": "stdout",
     "output_type": "stream",
     "text": [
      "Stuck EX_cpd00064_e0 -0.1163972735885811 -16.58667283268871 1000\n"
     ]
    },
    {
     "name": "stderr",
     "output_type": "stream",
     "text": [
      "/Users/chenry/opt/anaconda3/lib/python3.9/site-packages/cobra/util/solver.py:554: UserWarning: Solver status is 'infeasible'.\n",
      "  warn(f\"Solver status is '{status}'.\", UserWarning)\n"
     ]
    },
    {
     "name": "stdout",
     "output_type": "stream",
     "text": [
      "Stuck EX_cpd01055_e0 -0.07784520680096327 6.456308481546708 1000\n"
     ]
    },
    {
     "name": "stderr",
     "output_type": "stream",
     "text": [
      "/Users/chenry/opt/anaconda3/lib/python3.9/site-packages/cobra/util/solver.py:554: UserWarning: Solver status is 'infeasible'.\n",
      "  warn(f\"Solver status is '{status}'.\", UserWarning)\n"
     ]
    },
    {
     "name": "stdout",
     "output_type": "stream",
     "text": [
      "Stuck EX_cpd00122_e0 -0.30270742293671515 -25.335020830010095 1000\n"
     ]
    },
    {
     "name": "stderr",
     "output_type": "stream",
     "text": [
      "/Users/chenry/opt/anaconda3/lib/python3.9/site-packages/cobra/util/solver.py:554: UserWarning: Solver status is 'infeasible'.\n",
      "  warn(f\"Solver status is '{status}'.\", UserWarning)\n"
     ]
    },
    {
     "name": "stdout",
     "output_type": "stream",
     "text": [
      "Stuck EX_cpd00024_e0 0.0 -25.335020830010095 1000\n"
     ]
    },
    {
     "name": "stderr",
     "output_type": "stream",
     "text": [
      "/Users/chenry/opt/anaconda3/lib/python3.9/site-packages/cobra/util/solver.py:554: UserWarning: Solver status is 'infeasible'.\n",
      "  warn(f\"Solver status is '{status}'.\", UserWarning)\n"
     ]
    },
    {
     "name": "stdout",
     "output_type": "stream",
     "text": [
      "Stuck EX_cpd00023_e0 0.0 -5.612829188802896 1000\n"
     ]
    },
    {
     "name": "stderr",
     "output_type": "stream",
     "text": [
      "/Users/chenry/opt/anaconda3/lib/python3.9/site-packages/cobra/util/solver.py:554: UserWarning: Solver status is 'infeasible'.\n",
      "  warn(f\"Solver status is '{status}'.\", UserWarning)\n"
     ]
    },
    {
     "name": "stdout",
     "output_type": "stream",
     "text": [
      "Stuck EX_cpd00141_e0 -1.7063238123162179 -25.335020830010095 1000\n"
     ]
    },
    {
     "name": "stderr",
     "output_type": "stream",
     "text": [
      "/Users/chenry/opt/anaconda3/lib/python3.9/site-packages/cobra/util/solver.py:554: UserWarning: Solver status is 'infeasible'.\n",
      "  warn(f\"Solver status is '{status}'.\", UserWarning)\n"
     ]
    },
    {
     "name": "stdout",
     "output_type": "stream",
     "text": [
      "Stuck EX_cpd00156_e0 -6.4696241387851385 -4.843877890301587 1000\n"
     ]
    },
    {
     "name": "stderr",
     "output_type": "stream",
     "text": [
      "/Users/chenry/opt/anaconda3/lib/python3.9/site-packages/cobra/util/solver.py:554: UserWarning: Solver status is 'infeasible'.\n",
      "  warn(f\"Solver status is '{status}'.\", UserWarning)\n"
     ]
    },
    {
     "name": "stdout",
     "output_type": "stream",
     "text": [
      "Stuck EX_cpd00039_e0 -2.56169694683738 -13.562413941195159 1000\n"
     ]
    },
    {
     "name": "stderr",
     "output_type": "stream",
     "text": [
      "/Users/chenry/opt/anaconda3/lib/python3.9/site-packages/cobra/util/solver.py:554: UserWarning: Solver status is 'infeasible'.\n",
      "  warn(f\"Solver status is '{status}'.\", UserWarning)\n"
     ]
    },
    {
     "name": "stdout",
     "output_type": "stream",
     "text": [
      "Stuck EX_cpd00066_e0 -1.2473315758222887 -2.5388910660768778 1000\n"
     ]
    },
    {
     "name": "stderr",
     "output_type": "stream",
     "text": [
      "/Users/chenry/opt/anaconda3/lib/python3.9/site-packages/cobra/util/solver.py:554: UserWarning: Solver status is 'infeasible'.\n",
      "  warn(f\"Solver status is '{status}'.\", UserWarning)\n"
     ]
    },
    {
     "name": "stdout",
     "output_type": "stream",
     "text": [
      "Stuck EX_cpd00020_e0 0.0 -19.527203130313186 1000\n",
      "Iteration 2\n"
     ]
    },
    {
     "name": "stderr",
     "output_type": "stream",
     "text": [
      "/Users/chenry/opt/anaconda3/lib/python3.9/site-packages/cobra/util/solver.py:554: UserWarning: Solver status is 'infeasible'.\n",
      "  warn(f\"Solver status is '{status}'.\", UserWarning)\n"
     ]
    },
    {
     "name": "stdout",
     "output_type": "stream",
     "text": [
      "Stuck EX_cpd00119_e0 -0.6028784325713463 -25.335020830010095 -3.0760926723152213\n"
     ]
    },
    {
     "name": "stderr",
     "output_type": "stream",
     "text": [
      "/Users/chenry/opt/anaconda3/lib/python3.9/site-packages/cobra/util/solver.py:554: UserWarning: Solver status is 'infeasible'.\n",
      "  warn(f\"Solver status is '{status}'.\", UserWarning)\n"
     ]
    },
    {
     "name": "stdout",
     "output_type": "stream",
     "text": [
      "Stuck EX_cpd00129_e0 -1.230188000313034 -8.060230661002537 -1.9131922663819845\n"
     ]
    },
    {
     "name": "stderr",
     "output_type": "stream",
     "text": [
      "/Users/chenry/opt/anaconda3/lib/python3.9/site-packages/cobra/util/solver.py:554: UserWarning: Solver status is 'infeasible'.\n",
      "  warn(f\"Solver status is '{status}'.\", UserWarning)\n"
     ]
    },
    {
     "name": "stdout",
     "output_type": "stream",
     "text": [
      "Stuck EX_cpd00158_e0 -0.21505714043649105 -25.335020830010095 -2.7270535093938513\n"
     ]
    },
    {
     "name": "stderr",
     "output_type": "stream",
     "text": [
      "/Users/chenry/opt/anaconda3/lib/python3.9/site-packages/cobra/util/solver.py:554: UserWarning: Solver status is 'infeasible'.\n",
      "  warn(f\"Solver status is '{status}'.\", UserWarning)\n"
     ]
    },
    {
     "name": "stdout",
     "output_type": "stream",
     "text": [
      "Stuck EX_cpd01171_e0 0.0 -25.335020830010095 -2.5335020830010095\n"
     ]
    },
    {
     "name": "stderr",
     "output_type": "stream",
     "text": [
      "/Users/chenry/opt/anaconda3/lib/python3.9/site-packages/cobra/util/solver.py:554: UserWarning: Solver status is 'infeasible'.\n",
      "  warn(f\"Solver status is '{status}'.\", UserWarning)\n"
     ]
    },
    {
     "name": "stdout",
     "output_type": "stream",
     "text": [
      "Stuck EX_cpd00108_e0 0.0 -14.383062289603409 -1.4383062289603408\n"
     ]
    },
    {
     "name": "stderr",
     "output_type": "stream",
     "text": [
      "/Users/chenry/opt/anaconda3/lib/python3.9/site-packages/cobra/util/solver.py:554: UserWarning: Solver status is 'infeasible'.\n",
      "  warn(f\"Solver status is '{status}'.\", UserWarning)\n"
     ]
    },
    {
     "name": "stdout",
     "output_type": "stream",
     "text": [
      "Stuck EX_cpd00132_e0 -1.2524712548265144 -4.4574316879224 -1.572967298136103\n"
     ]
    },
    {
     "name": "stderr",
     "output_type": "stream",
     "text": [
      "/Users/chenry/opt/anaconda3/lib/python3.9/site-packages/cobra/util/solver.py:554: UserWarning: Solver status is 'infeasible'.\n",
      "  warn(f\"Solver status is '{status}'.\", UserWarning)\n"
     ]
    },
    {
     "name": "stdout",
     "output_type": "stream",
     "text": [
      "Stuck EX_cpd00851_e0 0.0 -12.447359119467732 -1.2447359119467731\n"
     ]
    },
    {
     "name": "stderr",
     "output_type": "stream",
     "text": [
      "/Users/chenry/opt/anaconda3/lib/python3.9/site-packages/cobra/util/solver.py:554: UserWarning: Solver status is 'infeasible'.\n",
      "  warn(f\"Solver status is '{status}'.\", UserWarning)\n"
     ]
    },
    {
     "name": "stdout",
     "output_type": "stream",
     "text": [
      "Stuck EX_cpd02733_e0 5.551115123125783e-17 15.829904715872026 1.5829904715872019\n"
     ]
    },
    {
     "name": "stderr",
     "output_type": "stream",
     "text": [
      "/Users/chenry/opt/anaconda3/lib/python3.9/site-packages/cobra/util/solver.py:554: UserWarning: Solver status is 'infeasible'.\n",
      "  warn(f\"Solver status is '{status}'.\", UserWarning)\n"
     ]
    },
    {
     "name": "stdout",
     "output_type": "stream",
     "text": [
      "Stuck EX_cpd00029_e0 0.0 -25.335020830010095 -2.5335020830010095\n"
     ]
    },
    {
     "name": "stderr",
     "output_type": "stream",
     "text": [
      "/Users/chenry/opt/anaconda3/lib/python3.9/site-packages/cobra/util/solver.py:554: UserWarning: Solver status is 'infeasible'.\n",
      "  warn(f\"Solver status is '{status}'.\", UserWarning)\n"
     ]
    },
    {
     "name": "stdout",
     "output_type": "stream",
     "text": [
      "Stuck EX_cpd00105_e0 -0.01637055419754361 12.532964879360243 1.2385629891582361\n"
     ]
    },
    {
     "name": "stderr",
     "output_type": "stream",
     "text": [
      "/Users/chenry/opt/anaconda3/lib/python3.9/site-packages/cobra/util/solver.py:554: UserWarning: Solver status is 'infeasible'.\n",
      "  warn(f\"Solver status is '{status}'.\", UserWarning)\n"
     ]
    },
    {
     "name": "stdout",
     "output_type": "stream",
     "text": [
      "Stuck EX_cpd00218_e0 -0.10699046492393616 -11.16369193991563 -1.2126606124231056\n"
     ]
    },
    {
     "name": "stderr",
     "output_type": "stream",
     "text": [
      "/Users/chenry/opt/anaconda3/lib/python3.9/site-packages/cobra/util/solver.py:554: UserWarning: Solver status is 'infeasible'.\n",
      "  warn(f\"Solver status is '{status}'.\", UserWarning)\n"
     ]
    },
    {
     "name": "stdout",
     "output_type": "stream",
     "text": [
      "Stuck EX_cpd00382_e0 0.0 -25.335020830010095 -2.5335020830010095\n"
     ]
    },
    {
     "name": "stderr",
     "output_type": "stream",
     "text": [
      "/Users/chenry/opt/anaconda3/lib/python3.9/site-packages/cobra/util/solver.py:554: UserWarning: Solver status is 'infeasible'.\n",
      "  warn(f\"Solver status is '{status}'.\", UserWarning)\n"
     ]
    },
    {
     "name": "stdout",
     "output_type": "stream",
     "text": [
      "Stuck EX_cpd00396_e0 -0.029097218289861768 3.0974793292150706 0.2835604364606312\n"
     ]
    },
    {
     "name": "stderr",
     "output_type": "stream",
     "text": [
      "/Users/chenry/opt/anaconda3/lib/python3.9/site-packages/cobra/util/solver.py:554: UserWarning: Solver status is 'infeasible'.\n",
      "  warn(f\"Solver status is '{status}'.\", UserWarning)\n"
     ]
    },
    {
     "name": "stdout",
     "output_type": "stream",
     "text": [
      "Stuck EX_cpd00211_e0 -0.21762809613200718 -25.335020830010095 -2.729367369519816\n"
     ]
    },
    {
     "name": "stderr",
     "output_type": "stream",
     "text": [
      "/Users/chenry/opt/anaconda3/lib/python3.9/site-packages/cobra/util/solver.py:554: UserWarning: Solver status is 'infeasible'.\n",
      "  warn(f\"Solver status is '{status}'.\", UserWarning)\n"
     ]
    },
    {
     "name": "stdout",
     "output_type": "stream",
     "text": [
      "Stuck EX_cpd00106_e0 0.0 3.9202595551140083 0.3920259555114005\n"
     ]
    },
    {
     "name": "stderr",
     "output_type": "stream",
     "text": [
      "/Users/chenry/opt/anaconda3/lib/python3.9/site-packages/cobra/util/solver.py:554: UserWarning: Solver status is 'infeasible'.\n",
      "  warn(f\"Solver status is '{status}'.\", UserWarning)\n"
     ]
    },
    {
     "name": "stdout",
     "output_type": "stream",
     "text": [
      "Stuck EX_cpd00121_e0 0.0 25.335020830010095 2.533502083001011\n"
     ]
    },
    {
     "name": "stderr",
     "output_type": "stream",
     "text": [
      "/Users/chenry/opt/anaconda3/lib/python3.9/site-packages/cobra/util/solver.py:554: UserWarning: Solver status is 'infeasible'.\n",
      "  warn(f\"Solver status is '{status}'.\", UserWarning)\n"
     ]
    },
    {
     "name": "stdout",
     "output_type": "stream",
     "text": [
      "Stuck EX_cpd00082_e0 0.0 5.364100143955184 0.5364100143955186\n"
     ]
    },
    {
     "name": "stderr",
     "output_type": "stream",
     "text": [
      "/Users/chenry/opt/anaconda3/lib/python3.9/site-packages/cobra/util/solver.py:554: UserWarning: Solver status is 'infeasible'.\n",
      "  warn(f\"Solver status is '{status}'.\", UserWarning)\n",
      "/Users/chenry/opt/anaconda3/lib/python3.9/site-packages/cobra/util/solver.py:554: UserWarning: Solver status is 'infeasible'.\n",
      "  warn(f\"Solver status is '{status}'.\", UserWarning)\n"
     ]
    },
    {
     "name": "stdout",
     "output_type": "stream",
     "text": [
      "Stuck EX_cpd01293_e0 0.0 -1.9099413839040558 -0.19099413839040558\n",
      "Stuck EX_cpd00041_e0 0.0 -5.1995464540985115 -0.5199546454098511\n"
     ]
    },
    {
     "name": "stderr",
     "output_type": "stream",
     "text": [
      "/Users/chenry/opt/anaconda3/lib/python3.9/site-packages/cobra/util/solver.py:554: UserWarning: Solver status is 'infeasible'.\n",
      "  warn(f\"Solver status is '{status}'.\", UserWarning)\n"
     ]
    },
    {
     "name": "stdout",
     "output_type": "stream",
     "text": [
      "Stuck EX_cpd03846_e0 0.0 0.6623135780929288 0.06623135780929279\n"
     ]
    },
    {
     "name": "stderr",
     "output_type": "stream",
     "text": [
      "/Users/chenry/opt/anaconda3/lib/python3.9/site-packages/cobra/util/solver.py:554: UserWarning: Solver status is 'infeasible'.\n",
      "  warn(f\"Solver status is '{status}'.\", UserWarning)\n"
     ]
    },
    {
     "name": "stdout",
     "output_type": "stream",
     "text": [
      "Stuck EX_cpd00550_e0 0.0 25.335020830010095 2.533502083001011\n"
     ]
    },
    {
     "name": "stderr",
     "output_type": "stream",
     "text": [
      "/Users/chenry/opt/anaconda3/lib/python3.9/site-packages/cobra/util/solver.py:554: UserWarning: Solver status is 'infeasible'.\n",
      "  warn(f\"Solver status is '{status}'.\", UserWarning)\n"
     ]
    },
    {
     "name": "stdout",
     "output_type": "stream",
     "text": [
      "Stuck EX_cpd00027_e0 0.0 25.335020830010095 2.533502083001011\n"
     ]
    },
    {
     "name": "stderr",
     "output_type": "stream",
     "text": [
      "/Users/chenry/opt/anaconda3/lib/python3.9/site-packages/cobra/util/solver.py:554: UserWarning: Solver status is 'infeasible'.\n",
      "  warn(f\"Solver status is '{status}'.\", UserWarning)\n"
     ]
    },
    {
     "name": "stdout",
     "output_type": "stream",
     "text": [
      "Stuck EX_cpd00069_e0 -0.9223687175086989 25.335020830010095 1.7033702372431812\n"
     ]
    },
    {
     "name": "stderr",
     "output_type": "stream",
     "text": [
      "/Users/chenry/opt/anaconda3/lib/python3.9/site-packages/cobra/util/solver.py:554: UserWarning: Solver status is 'infeasible'.\n",
      "  warn(f\"Solver status is '{status}'.\", UserWarning)\n"
     ]
    },
    {
     "name": "stdout",
     "output_type": "stream",
     "text": [
      "Stuck EX_cpd00536_e0 0.0 3.4828493229396993 0.34828493229397006\n",
      "Iteration 3\n",
      "Stuck EX_cpd00084_e0 -0.07876522153280482 -0.584772698141472 -0.17996671685453824\n"
     ]
    },
    {
     "name": "stderr",
     "output_type": "stream",
     "text": [
      "/Users/chenry/opt/anaconda3/lib/python3.9/site-packages/cobra/util/solver.py:554: UserWarning: Solver status is 'infeasible'.\n",
      "  warn(f\"Solver status is '{status}'.\", UserWarning)\n",
      "/Users/chenry/opt/anaconda3/lib/python3.9/site-packages/cobra/util/solver.py:554: UserWarning: Solver status is 'infeasible'.\n",
      "  warn(f\"Solver status is '{status}'.\", UserWarning)\n"
     ]
    },
    {
     "name": "stdout",
     "output_type": "stream",
     "text": [
      "Stuck EX_cpd00033_e0 0.0 -0.3778153788260087 -0.07556307576520174\n"
     ]
    },
    {
     "name": "stderr",
     "output_type": "stream",
     "text": [
      "/Users/chenry/opt/anaconda3/lib/python3.9/site-packages/cobra/util/solver.py:554: UserWarning: Solver status is 'infeasible'.\n",
      "  warn(f\"Solver status is '{status}'.\", UserWarning)\n"
     ]
    },
    {
     "name": "stdout",
     "output_type": "stream",
     "text": [
      "Stuck EX_cpd00137_e0 0.0 12.28381881650653 2.4567637633013053\n"
     ]
    },
    {
     "name": "stderr",
     "output_type": "stream",
     "text": [
      "/Users/chenry/opt/anaconda3/lib/python3.9/site-packages/cobra/util/solver.py:554: UserWarning: Solver status is 'infeasible'.\n",
      "  warn(f\"Solver status is '{status}'.\", UserWarning)\n"
     ]
    },
    {
     "name": "stdout",
     "output_type": "stream",
     "text": [
      "Stuck EX_cpd01107_e0 -0.0878734047922145 -0.3008441650247403 -0.13046755683871966\n"
     ]
    },
    {
     "name": "stderr",
     "output_type": "stream",
     "text": [
      "/Users/chenry/opt/anaconda3/lib/python3.9/site-packages/cobra/util/solver.py:554: UserWarning: Solver status is 'infeasible'.\n",
      "  warn(f\"Solver status is '{status}'.\", UserWarning)\n"
     ]
    },
    {
     "name": "stdout",
     "output_type": "stream",
     "text": [
      "Stuck EX_cpd03847_e0 -0.2289513317643387 1.535625900179891 0.12396411462450718\n"
     ]
    },
    {
     "name": "stderr",
     "output_type": "stream",
     "text": [
      "/Users/chenry/opt/anaconda3/lib/python3.9/site-packages/cobra/util/solver.py:554: UserWarning: Solver status is 'infeasible'.\n",
      "  warn(f\"Solver status is '{status}'.\", UserWarning)\n"
     ]
    },
    {
     "name": "stdout",
     "output_type": "stream",
     "text": [
      "Stuck EX_cpd00224_e0 0.0 13.949697289702145 2.789939457940429\n"
     ]
    },
    {
     "name": "stderr",
     "output_type": "stream",
     "text": [
      "/Users/chenry/opt/anaconda3/lib/python3.9/site-packages/cobra/util/solver.py:554: UserWarning: Solver status is 'infeasible'.\n",
      "  warn(f\"Solver status is '{status}'.\", UserWarning)\n",
      "/Users/chenry/opt/anaconda3/lib/python3.9/site-packages/cobra/util/solver.py:554: UserWarning: Solver status is 'infeasible'.\n",
      "  warn(f\"Solver status is '{status}'.\", UserWarning)\n"
     ]
    },
    {
     "name": "stdout",
     "output_type": "stream",
     "text": [
      "Stuck EX_cpd00130_e0 0.0 4.565103733956306 0.9130207467912612\n",
      "Stuck EX_cpd00076_e0 -0.08477844098167013 2.2817918731485305 0.38853562184436985\n"
     ]
    },
    {
     "name": "stderr",
     "output_type": "stream",
     "text": [
      "/Users/chenry/opt/anaconda3/lib/python3.9/site-packages/cobra/util/solver.py:554: UserWarning: Solver status is 'infeasible'.\n",
      "  warn(f\"Solver status is '{status}'.\", UserWarning)\n"
     ]
    },
    {
     "name": "stdout",
     "output_type": "stream",
     "text": [
      "Stuck EX_cpd00107_e0 -3.4342107646057682 -4.028726483672011 -3.5531139084190166\n"
     ]
    },
    {
     "name": "stderr",
     "output_type": "stream",
     "text": [
      "/Users/chenry/opt/anaconda3/lib/python3.9/site-packages/cobra/util/solver.py:554: UserWarning: Solver status is 'infeasible'.\n",
      "  warn(f\"Solver status is '{status}'.\", UserWarning)\n"
     ]
    },
    {
     "name": "stdout",
     "output_type": "stream",
     "text": [
      "Stuck EX_cpd00036_e0 0.0 -1.4350178170268257 -0.28700356340536515\n",
      "Iteration 4\n",
      "Iteration 5\n",
      "Iteration 6\n",
      "Iteration 7\n"
     ]
    },
    {
     "name": "stderr",
     "output_type": "stream",
     "text": [
      "/Users/chenry/opt/anaconda3/lib/python3.9/site-packages/cobra/util/solver.py:554: UserWarning: Solver status is 'infeasible'.\n",
      "  warn(f\"Solver status is '{status}'.\", UserWarning)\n"
     ]
    },
    {
     "name": "stdout",
     "output_type": "stream",
     "text": [
      "Stuck EX_cpd00214_e0 -1.39351401739183 0.7137049944887166 -0.12918261026350197\n"
     ]
    },
    {
     "name": "stderr",
     "output_type": "stream",
     "text": [
      "/Users/chenry/opt/anaconda3/lib/python3.9/site-packages/cobra/util/solver.py:554: UserWarning: Solver status is 'infeasible'.\n",
      "  warn(f\"Solver status is '{status}'.\", UserWarning)\n"
     ]
    },
    {
     "name": "stdout",
     "output_type": "stream",
     "text": [
      "Stuck EX_cpd00060_e0 -0.057334444651754524 -3.7393012004258734 -2.2665144981162255\n"
     ]
    },
    {
     "name": "stderr",
     "output_type": "stream",
     "text": [
      "/Users/chenry/opt/anaconda3/lib/python3.9/site-packages/cobra/util/solver.py:554: UserWarning: Solver status is 'infeasible'.\n",
      "  warn(f\"Solver status is '{status}'.\", UserWarning)\n"
     ]
    },
    {
     "name": "stdout",
     "output_type": "stream",
     "text": [
      "Stuck EX_cpd00035_e0 0.0 -7.558233804795314 -4.534940282877189\n",
      "Iteration 8\n",
      "Iteration 9\n",
      "Iteration 10\n",
      "EX_cpd00084_e0 -0.17996671685453824 -0.17996671685453824\n",
      "EX_cpd00119_e0 -3.0760926723152213 -3.0760926723152213\n",
      "EX_cpd00033_e0 -0.07556307576520174 -0.07556307576520174\n",
      "EX_cpd01242_e0 -0.0 -0.0\n",
      "EX_cpd00137_e0 2.4567637633013053 2.4567637633013053\n",
      "EX_cpd00129_e0 -1.9131922663819845 -1.9131922663819845\n",
      "EX_cpd00158_e0 -2.7270535093938513 -2.7270535093938513\n",
      "EX_cpd01171_e0 -2.5335020830010095 -2.5335020830010095\n",
      "EX_cpd01107_e0 -0.13046755683871966 -0.13046755683871966\n",
      "EX_cpd03847_e0 0.12396411462450718 0.12396411462450718\n",
      "EX_cpd00322_e0 -1.8049982815325865 -1.8049982815325865\n",
      "EX_cpd00108_e0 -1.4383062289603408 -1.4383062289603408\n",
      "EX_cpd00132_e0 -1.572967298136103 -1.572967298136103\n",
      "EX_cpd00851_e0 -1.2447359119467731 -1.2447359119467731\n",
      "EX_cpd02733_e0 1.5829904715872019 1.5829904715872019\n",
      "EX_cpd00224_e0 2.789939457940429 2.789939457940429\n",
      "EX_cpd00130_e0 0.9130207467912612 0.9130207467912612\n",
      "EX_cpd00526_e0 -1000 1000\n",
      "EX_cpd00076_e0 0.38853562184436985 0.38853562184436985\n",
      "EX_cpd00107_e0 -3.5531139084190166 -3.5531139084190166\n",
      "EX_cpd00214_e0 -0.12918261026350197 -0.12918261026350197\n",
      "EX_cpd00029_e0 -2.5335020830010095 -2.5335020830010095\n",
      "EX_cpd00105_e0 1.2385629891582361 1.2385629891582361\n",
      "EX_cpd00218_e0 -1.2126606124231056 -1.2126606124231056\n",
      "EX_cpd00751_e0 -1.5185899109617484 -1.5185899109617484\n",
      "EX_cpd00382_e0 -2.5335020830010095 -2.5335020830010095\n",
      "EX_cpd00060_e0 -2.2665144981162255 -2.2665144981162255\n",
      "EX_cpd00035_e0 -4.534940282877189 -4.534940282877189\n",
      "EX_cpd00396_e0 0.2835604364606312 0.2835604364606312\n",
      "EX_cpd00161_e0 -4.5814459907395415 -4.5814459907395415\n",
      "EX_cpd00211_e0 -2.729367369519816 -2.729367369519816\n",
      "EX_cpd03198_e0 -1000 1000\n",
      "EX_cpd00064_e0 -1000 1000\n",
      "EX_cpd01055_e0 -1000 1000\n",
      "EX_cpd00106_e0 0.3920259555114005 0.3920259555114005\n",
      "EX_cpd00121_e0 2.533502083001011 2.533502083001011\n",
      "EX_cpd00082_e0 0.5364100143955186 0.5364100143955186\n",
      "EX_cpd01293_e0 -0.19099413839040558 -0.19099413839040558\n",
      "EX_cpd00041_e0 -0.5199546454098511 -0.5199546454098511\n",
      "EX_cpd03846_e0 0.06623135780929279 0.06623135780929279\n",
      "EX_cpd00122_e0 -1000 1000\n",
      "EX_cpd00024_e0 -1000 1000\n",
      "EX_cpd00550_e0 2.533502083001011 2.533502083001011\n",
      "EX_cpd00023_e0 -1000 1000\n",
      "EX_cpd00141_e0 -1000 1000\n",
      "EX_cpd00156_e0 -1000 1000\n",
      "EX_cpd00027_e0 2.533502083001011 2.533502083001011\n",
      "EX_cpd00039_e0 -1000 1000\n",
      "EX_cpd00069_e0 1.7033702372431812 1.7033702372431812\n",
      "EX_cpd00536_e0 0.34828493229397006 0.34828493229397006\n",
      "EX_cpd00066_e0 -1000 1000\n",
      "EX_cpd00036_e0 -0.28700356340536515 -0.28700356340536515\n",
      "EX_cpd00020_e0 -1000 1000\n"
     ]
    },
    {
     "name": "stderr",
     "output_type": "stream",
     "text": [
      "1717943681.9632099 INFO: Making atp hydrolysis reaction for species: Lactobacillus.3\n",
      "1717943682.255243 INFO: Making atp hydrolysis reaction for species: Enterococcus.2\n",
      "1717943682.542062 INFO: Making atp hydrolysis reaction for species: Enterococcus.3\n",
      "1717943682.829869 INFO: Making atp hydrolysis reaction for species: Turicibacter.1\n",
      "1717943683.116836 INFO: Making atp hydrolysis reaction for species: Lactobacillus.1\n",
      "1717943683.4050329 INFO: Making atp hydrolysis reaction for species: Akkermansia.1\n",
      "1717943683.693973 INFO: Making atp hydrolysis reaction for species: Clostridium.21\n",
      "1717943683.9805 INFO: Making atp hydrolysis reaction for species: Eubacterium.5\n",
      "1717943684.266716 INFO: Making atp hydrolysis reaction for species: Muribaculum.1\n",
      "1717943684.553791 INFO: Making atp hydrolysis reaction for species: Alistipes.2\n"
     ]
    },
    {
     "name": "stdout",
     "output_type": "stream",
     "text": [
      "RC-ABX_6.0 growth: 8.4450281770014\n",
      "RC-ABX_6.0carbon uptake: 300.0\n",
      "Iteration 1\n"
     ]
    },
    {
     "name": "stderr",
     "output_type": "stream",
     "text": [
      "/Users/chenry/opt/anaconda3/lib/python3.9/site-packages/cobra/util/solver.py:554: UserWarning: Solver status is 'infeasible'.\n",
      "  warn(f\"Solver status is '{status}'.\", UserWarning)\n"
     ]
    },
    {
     "name": "stdout",
     "output_type": "stream",
     "text": [
      "Stuck EX_cpd00526_e0 0.0 -25.335084531004203 1000\n"
     ]
    },
    {
     "name": "stderr",
     "output_type": "stream",
     "text": [
      "/Users/chenry/opt/anaconda3/lib/python3.9/site-packages/cobra/util/solver.py:554: UserWarning: Solver status is 'infeasible'.\n",
      "  warn(f\"Solver status is '{status}'.\", UserWarning)\n"
     ]
    },
    {
     "name": "stdout",
     "output_type": "stream",
     "text": [
      "Stuck EX_cpd00382_e0 -0.0837414453006898 -25.335084531004203 1000\n"
     ]
    },
    {
     "name": "stderr",
     "output_type": "stream",
     "text": [
      "/Users/chenry/opt/anaconda3/lib/python3.9/site-packages/cobra/util/solver.py:554: UserWarning: Solver status is 'infeasible'.\n",
      "  warn(f\"Solver status is '{status}'.\", UserWarning)\n"
     ]
    },
    {
     "name": "stdout",
     "output_type": "stream",
     "text": [
      "Stuck EX_cpd00060_e0 -0.01973191350694744 -4.715570871029319 1000\n"
     ]
    },
    {
     "name": "stderr",
     "output_type": "stream",
     "text": [
      "/Users/chenry/opt/anaconda3/lib/python3.9/site-packages/cobra/util/solver.py:554: UserWarning: Solver status is 'infeasible'.\n",
      "  warn(f\"Solver status is '{status}'.\", UserWarning)\n"
     ]
    },
    {
     "name": "stdout",
     "output_type": "stream",
     "text": [
      "Stuck EX_cpd00035_e0 0.0 -11.37449187237364 1000\n"
     ]
    },
    {
     "name": "stderr",
     "output_type": "stream",
     "text": [
      "/Users/chenry/opt/anaconda3/lib/python3.9/site-packages/cobra/util/solver.py:554: UserWarning: Solver status is 'infeasible'.\n",
      "  warn(f\"Solver status is '{status}'.\", UserWarning)\n"
     ]
    },
    {
     "name": "stdout",
     "output_type": "stream",
     "text": [
      "Stuck EX_cpd00396_e0 0.0 -11.689260906809277 1000\n"
     ]
    },
    {
     "name": "stderr",
     "output_type": "stream",
     "text": [
      "/Users/chenry/opt/anaconda3/lib/python3.9/site-packages/cobra/util/solver.py:554: UserWarning: Solver status is 'infeasible'.\n",
      "  warn(f\"Solver status is '{status}'.\", UserWarning)\n"
     ]
    },
    {
     "name": "stdout",
     "output_type": "stream",
     "text": [
      "Stuck EX_cpd00161_e0 -6.965808359246836 6.126202946606178 1000\n"
     ]
    },
    {
     "name": "stderr",
     "output_type": "stream",
     "text": [
      "/Users/chenry/opt/anaconda3/lib/python3.9/site-packages/cobra/util/solver.py:554: UserWarning: Solver status is 'infeasible'.\n",
      "  warn(f\"Solver status is '{status}'.\", UserWarning)\n"
     ]
    },
    {
     "name": "stdout",
     "output_type": "stream",
     "text": [
      "Stuck EX_cpd00211_e0 -0.26536960422435024 -25.335084531004203 1000\n"
     ]
    },
    {
     "name": "stderr",
     "output_type": "stream",
     "text": [
      "/Users/chenry/opt/anaconda3/lib/python3.9/site-packages/cobra/util/solver.py:554: UserWarning: Solver status is 'infeasible'.\n",
      "  warn(f\"Solver status is '{status}'.\", UserWarning)\n"
     ]
    },
    {
     "name": "stdout",
     "output_type": "stream",
     "text": [
      "Stuck EX_cpd03198_e0 0.0 -25.335084531004203 1000\n"
     ]
    },
    {
     "name": "stderr",
     "output_type": "stream",
     "text": [
      "/Users/chenry/opt/anaconda3/lib/python3.9/site-packages/cobra/util/solver.py:554: UserWarning: Solver status is 'infeasible'.\n",
      "  warn(f\"Solver status is '{status}'.\", UserWarning)\n"
     ]
    },
    {
     "name": "stdout",
     "output_type": "stream",
     "text": [
      "Stuck EX_cpd01055_e0 0.0 -3.4866407495807965 1000\n"
     ]
    },
    {
     "name": "stderr",
     "output_type": "stream",
     "text": [
      "/Users/chenry/opt/anaconda3/lib/python3.9/site-packages/cobra/util/solver.py:554: UserWarning: Solver status is 'infeasible'.\n",
      "  warn(f\"Solver status is '{status}'.\", UserWarning)\n"
     ]
    },
    {
     "name": "stdout",
     "output_type": "stream",
     "text": [
      "Stuck EX_cpd00106_e0 0.0 -9.835502567993188 1000\n"
     ]
    },
    {
     "name": "stderr",
     "output_type": "stream",
     "text": [
      "/Users/chenry/opt/anaconda3/lib/python3.9/site-packages/cobra/util/solver.py:554: UserWarning: Solver status is 'infeasible'.\n",
      "  warn(f\"Solver status is '{status}'.\", UserWarning)\n"
     ]
    },
    {
     "name": "stdout",
     "output_type": "stream",
     "text": [
      "Stuck EX_cpd00121_e0 0.0 -25.335084531004203 1000\n"
     ]
    },
    {
     "name": "stderr",
     "output_type": "stream",
     "text": [
      "/Users/chenry/opt/anaconda3/lib/python3.9/site-packages/cobra/util/solver.py:554: UserWarning: Solver status is 'infeasible'.\n",
      "  warn(f\"Solver status is '{status}'.\", UserWarning)\n"
     ]
    },
    {
     "name": "stdout",
     "output_type": "stream",
     "text": [
      "Stuck EX_cpd00041_e0 0.0 -5.275682400912329 1000\n"
     ]
    },
    {
     "name": "stderr",
     "output_type": "stream",
     "text": [
      "/Users/chenry/opt/anaconda3/lib/python3.9/site-packages/cobra/util/solver.py:554: UserWarning: Solver status is 'infeasible'.\n",
      "  warn(f\"Solver status is '{status}'.\", UserWarning)\n"
     ]
    },
    {
     "name": "stdout",
     "output_type": "stream",
     "text": [
      "Stuck EX_cpd03846_e0 0.0 -4.155225714812377 1000\n"
     ]
    },
    {
     "name": "stderr",
     "output_type": "stream",
     "text": [
      "/Users/chenry/opt/anaconda3/lib/python3.9/site-packages/cobra/util/solver.py:554: UserWarning: Solver status is 'infeasible'.\n",
      "  warn(f\"Solver status is '{status}'.\", UserWarning)\n"
     ]
    },
    {
     "name": "stdout",
     "output_type": "stream",
     "text": [
      "Stuck EX_cpd00122_e0 0.0 -25.335084531004203 1000\n"
     ]
    },
    {
     "name": "stderr",
     "output_type": "stream",
     "text": [
      "/Users/chenry/opt/anaconda3/lib/python3.9/site-packages/cobra/util/solver.py:554: UserWarning: Solver status is 'infeasible'.\n",
      "  warn(f\"Solver status is '{status}'.\", UserWarning)\n"
     ]
    },
    {
     "name": "stdout",
     "output_type": "stream",
     "text": [
      "Stuck EX_cpd00024_e0 0.0 -14.729489597321674 1000\n"
     ]
    },
    {
     "name": "stderr",
     "output_type": "stream",
     "text": [
      "/Users/chenry/opt/anaconda3/lib/python3.9/site-packages/cobra/util/solver.py:554: UserWarning: Solver status is 'infeasible'.\n",
      "  warn(f\"Solver status is '{status}'.\", UserWarning)\n"
     ]
    },
    {
     "name": "stdout",
     "output_type": "stream",
     "text": [
      "Stuck EX_cpd00550_e0 0.0 -14.986537112015483 1000\n"
     ]
    },
    {
     "name": "stderr",
     "output_type": "stream",
     "text": [
      "/Users/chenry/opt/anaconda3/lib/python3.9/site-packages/cobra/util/solver.py:554: UserWarning: Solver status is 'infeasible'.\n",
      "  warn(f\"Solver status is '{status}'.\", UserWarning)\n"
     ]
    },
    {
     "name": "stdout",
     "output_type": "stream",
     "text": [
      "Stuck EX_cpd00023_e0 0.0 -1.5865751959174168 1000\n"
     ]
    },
    {
     "name": "stderr",
     "output_type": "stream",
     "text": [
      "/Users/chenry/opt/anaconda3/lib/python3.9/site-packages/cobra/util/solver.py:554: UserWarning: Solver status is 'infeasible'.\n",
      "  warn(f\"Solver status is '{status}'.\", UserWarning)\n"
     ]
    },
    {
     "name": "stdout",
     "output_type": "stream",
     "text": [
      "Stuck EX_cpd00141_e0 0.0 -25.335084531004203 1000\n"
     ]
    },
    {
     "name": "stderr",
     "output_type": "stream",
     "text": [
      "/Users/chenry/opt/anaconda3/lib/python3.9/site-packages/cobra/util/solver.py:554: UserWarning: Solver status is 'infeasible'.\n",
      "  warn(f\"Solver status is '{status}'.\", UserWarning)\n"
     ]
    },
    {
     "name": "stdout",
     "output_type": "stream",
     "text": [
      "Stuck EX_cpd00156_e0 -0.0022131437939540977 -3.9447715249180164 1000\n"
     ]
    },
    {
     "name": "stderr",
     "output_type": "stream",
     "text": [
      "/Users/chenry/opt/anaconda3/lib/python3.9/site-packages/cobra/util/solver.py:554: UserWarning: Solver status is 'infeasible'.\n",
      "  warn(f\"Solver status is '{status}'.\", UserWarning)\n"
     ]
    },
    {
     "name": "stdout",
     "output_type": "stream",
     "text": [
      "Stuck EX_cpd00027_e0 -0.027443114912816494 -25.335084531004203 1000\n"
     ]
    },
    {
     "name": "stderr",
     "output_type": "stream",
     "text": [
      "/Users/chenry/opt/anaconda3/lib/python3.9/site-packages/cobra/util/solver.py:554: UserWarning: Solver status is 'infeasible'.\n",
      "  warn(f\"Solver status is '{status}'.\", UserWarning)\n"
     ]
    },
    {
     "name": "stdout",
     "output_type": "stream",
     "text": [
      "Stuck EX_cpd00039_e0 -2.427057442482794 8.051212370840783 1000\n"
     ]
    },
    {
     "name": "stderr",
     "output_type": "stream",
     "text": [
      "/Users/chenry/opt/anaconda3/lib/python3.9/site-packages/cobra/util/solver.py:554: UserWarning: Solver status is 'infeasible'.\n",
      "  warn(f\"Solver status is '{status}'.\", UserWarning)\n"
     ]
    },
    {
     "name": "stdout",
     "output_type": "stream",
     "text": [
      "Stuck EX_cpd00069_e0 -0.8827518771338327 -25.335084531004203 1000\n"
     ]
    },
    {
     "name": "stderr",
     "output_type": "stream",
     "text": [
      "/Users/chenry/opt/anaconda3/lib/python3.9/site-packages/cobra/util/solver.py:554: UserWarning: Solver status is 'infeasible'.\n",
      "  warn(f\"Solver status is '{status}'.\", UserWarning)\n"
     ]
    },
    {
     "name": "stdout",
     "output_type": "stream",
     "text": [
      "Stuck EX_cpd00536_e0 0.0 -5.194653069376676 1000\n"
     ]
    },
    {
     "name": "stderr",
     "output_type": "stream",
     "text": [
      "/Users/chenry/opt/anaconda3/lib/python3.9/site-packages/cobra/util/solver.py:554: UserWarning: Solver status is 'infeasible'.\n",
      "  warn(f\"Solver status is '{status}'.\", UserWarning)\n"
     ]
    },
    {
     "name": "stdout",
     "output_type": "stream",
     "text": [
      "Stuck EX_cpd00066_e0 -1.0980879536175738 -1.0477839992784759 1000\n"
     ]
    },
    {
     "name": "stderr",
     "output_type": "stream",
     "text": [
      "/Users/chenry/opt/anaconda3/lib/python3.9/site-packages/cobra/util/solver.py:554: UserWarning: Solver status is 'infeasible'.\n",
      "  warn(f\"Solver status is '{status}'.\", UserWarning)\n"
     ]
    },
    {
     "name": "stdout",
     "output_type": "stream",
     "text": [
      "Stuck EX_cpd00036_e0 0.0 -25.335084531004203 1000\n"
     ]
    },
    {
     "name": "stderr",
     "output_type": "stream",
     "text": [
      "/Users/chenry/opt/anaconda3/lib/python3.9/site-packages/cobra/util/solver.py:554: UserWarning: Solver status is 'infeasible'.\n",
      "  warn(f\"Solver status is '{status}'.\", UserWarning)\n"
     ]
    },
    {
     "name": "stdout",
     "output_type": "stream",
     "text": [
      "Stuck EX_cpd00020_e0 0.0 -8.306255443928178 1000\n",
      "Iteration 2\n"
     ]
    },
    {
     "name": "stderr",
     "output_type": "stream",
     "text": [
      "/Users/chenry/opt/anaconda3/lib/python3.9/site-packages/cobra/util/solver.py:554: UserWarning: Solver status is 'infeasible'.\n",
      "  warn(f\"Solver status is '{status}'.\", UserWarning)\n"
     ]
    },
    {
     "name": "stdout",
     "output_type": "stream",
     "text": [
      "Stuck EX_cpd00119_e0 -0.6083420582930881 -25.335084531004203 -3.0810163055641997\n"
     ]
    },
    {
     "name": "stderr",
     "output_type": "stream",
     "text": [
      "/Users/chenry/opt/anaconda3/lib/python3.9/site-packages/cobra/util/solver.py:554: UserWarning: Solver status is 'infeasible'.\n",
      "  warn(f\"Solver status is '{status}'.\", UserWarning)\n"
     ]
    },
    {
     "name": "stdout",
     "output_type": "stream",
     "text": [
      "Stuck EX_cpd00033_e0 -1.639627267306754 -8.946106655943918 -2.3702752061704704\n"
     ]
    },
    {
     "name": "stderr",
     "output_type": "stream",
     "text": [
      "/Users/chenry/opt/anaconda3/lib/python3.9/site-packages/cobra/util/solver.py:554: UserWarning: Solver status is 'infeasible'.\n",
      "  warn(f\"Solver status is '{status}'.\", UserWarning)\n"
     ]
    },
    {
     "name": "stdout",
     "output_type": "stream",
     "text": [
      "Stuck EX_cpd01242_e0 0.0 -10.036452266912665 -1.0036452266912665\n"
     ]
    },
    {
     "name": "stderr",
     "output_type": "stream",
     "text": [
      "/Users/chenry/opt/anaconda3/lib/python3.9/site-packages/cobra/util/solver.py:554: UserWarning: Solver status is 'infeasible'.\n",
      "  warn(f\"Solver status is '{status}'.\", UserWarning)\n"
     ]
    },
    {
     "name": "stdout",
     "output_type": "stream",
     "text": [
      "Stuck EX_cpd00137_e0 0.0 -3.547234268364135 -0.3547234268364135\n"
     ]
    },
    {
     "name": "stderr",
     "output_type": "stream",
     "text": [
      "/Users/chenry/opt/anaconda3/lib/python3.9/site-packages/cobra/util/solver.py:554: UserWarning: Solver status is 'infeasible'.\n",
      "  warn(f\"Solver status is '{status}'.\", UserWarning)\n"
     ]
    },
    {
     "name": "stdout",
     "output_type": "stream",
     "text": [
      "Stuck EX_cpd00129_e0 -0.3787179342142142 -18.483308578101774 -2.18917699860297\n"
     ]
    },
    {
     "name": "stderr",
     "output_type": "stream",
     "text": [
      "/Users/chenry/opt/anaconda3/lib/python3.9/site-packages/cobra/util/solver.py:554: UserWarning: Solver status is 'infeasible'.\n",
      "  warn(f\"Solver status is '{status}'.\", UserWarning)\n"
     ]
    },
    {
     "name": "stdout",
     "output_type": "stream",
     "text": [
      "Stuck EX_cpd00158_e0 0.0 -25.335084531004203 -2.53350845310042\n"
     ]
    },
    {
     "name": "stderr",
     "output_type": "stream",
     "text": [
      "/Users/chenry/opt/anaconda3/lib/python3.9/site-packages/cobra/util/solver.py:554: UserWarning: Solver status is 'infeasible'.\n",
      "  warn(f\"Solver status is '{status}'.\", UserWarning)\n"
     ]
    },
    {
     "name": "stdout",
     "output_type": "stream",
     "text": [
      "Stuck EX_cpd01171_e0 -3.378990062407719 -10.638783057409636 -4.10496936190791\n"
     ]
    },
    {
     "name": "stderr",
     "output_type": "stream",
     "text": [
      "/Users/chenry/opt/anaconda3/lib/python3.9/site-packages/cobra/util/solver.py:554: UserWarning: Solver status is 'infeasible'.\n",
      "  warn(f\"Solver status is '{status}'.\", UserWarning)\n"
     ]
    },
    {
     "name": "stdout",
     "output_type": "stream",
     "text": [
      "Stuck EX_cpd01107_e0 -0.07153769195759568 -4.890397032782176 -0.5534236260400538\n"
     ]
    },
    {
     "name": "stderr",
     "output_type": "stream",
     "text": [
      "/Users/chenry/opt/anaconda3/lib/python3.9/site-packages/cobra/util/solver.py:554: UserWarning: Solver status is 'infeasible'.\n",
      "  warn(f\"Solver status is '{status}'.\", UserWarning)\n",
      "/Users/chenry/opt/anaconda3/lib/python3.9/site-packages/cobra/util/solver.py:554: UserWarning: Solver status is 'infeasible'.\n",
      "  warn(f\"Solver status is '{status}'.\", UserWarning)\n"
     ]
    },
    {
     "name": "stdout",
     "output_type": "stream",
     "text": [
      "Stuck EX_cpd03847_e0 -1.226290657285274 -4.516003510318756 -1.5552619425886223\n",
      "Stuck EX_cpd00322_e0 -2.1793537212953975 -4.023230529320943 -2.363741402097952\n"
     ]
    },
    {
     "name": "stderr",
     "output_type": "stream",
     "text": [
      "/Users/chenry/opt/anaconda3/lib/python3.9/site-packages/cobra/util/solver.py:554: UserWarning: Solver status is 'infeasible'.\n",
      "  warn(f\"Solver status is '{status}'.\", UserWarning)\n"
     ]
    },
    {
     "name": "stdout",
     "output_type": "stream",
     "text": [
      "Stuck EX_cpd00108_e0 -0.8797710195884002 -13.409744981781307 -2.132768415807691\n"
     ]
    },
    {
     "name": "stderr",
     "output_type": "stream",
     "text": [
      "/Users/chenry/opt/anaconda3/lib/python3.9/site-packages/cobra/util/solver.py:554: UserWarning: Solver status is 'infeasible'.\n",
      "  warn(f\"Solver status is '{status}'.\", UserWarning)\n"
     ]
    },
    {
     "name": "stdout",
     "output_type": "stream",
     "text": [
      "Stuck EX_cpd00132_e0 -1.274657766969146 -4.71925137145967 -1.6191171274181984\n"
     ]
    },
    {
     "name": "stderr",
     "output_type": "stream",
     "text": [
      "/Users/chenry/opt/anaconda3/lib/python3.9/site-packages/cobra/util/solver.py:554: UserWarning: Solver status is 'infeasible'.\n",
      "  warn(f\"Solver status is '{status}'.\", UserWarning)\n"
     ]
    },
    {
     "name": "stdout",
     "output_type": "stream",
     "text": [
      "Stuck EX_cpd00851_e0 -0.02186290512927573 -22.37025098836081 -2.2567017134524288\n"
     ]
    },
    {
     "name": "stderr",
     "output_type": "stream",
     "text": [
      "/Users/chenry/opt/anaconda3/lib/python3.9/site-packages/cobra/util/solver.py:554: UserWarning: Solver status is 'infeasible'.\n",
      "  warn(f\"Solver status is '{status}'.\", UserWarning)\n"
     ]
    },
    {
     "name": "stdout",
     "output_type": "stream",
     "text": [
      "Stuck EX_cpd02733_e0 0.0 -25.335084531004203 -2.53350845310042\n"
     ]
    },
    {
     "name": "stderr",
     "output_type": "stream",
     "text": [
      "/Users/chenry/opt/anaconda3/lib/python3.9/site-packages/cobra/util/solver.py:554: UserWarning: Solver status is 'infeasible'.\n",
      "  warn(f\"Solver status is '{status}'.\", UserWarning)\n"
     ]
    },
    {
     "name": "stdout",
     "output_type": "stream",
     "text": [
      "Stuck EX_cpd00224_e0 0.0 -25.335084531004203 -2.53350845310042\n"
     ]
    },
    {
     "name": "stderr",
     "output_type": "stream",
     "text": [
      "/Users/chenry/opt/anaconda3/lib/python3.9/site-packages/cobra/util/solver.py:554: UserWarning: Solver status is 'infeasible'.\n",
      "  warn(f\"Solver status is '{status}'.\", UserWarning)\n"
     ]
    },
    {
     "name": "stdout",
     "output_type": "stream",
     "text": [
      "Stuck EX_cpd00130_e0 0.0 -18.568757907470218 -1.8568757907470217\n"
     ]
    },
    {
     "name": "stderr",
     "output_type": "stream",
     "text": [
      "/Users/chenry/opt/anaconda3/lib/python3.9/site-packages/cobra/util/solver.py:554: UserWarning: Solver status is 'infeasible'.\n",
      "  warn(f\"Solver status is '{status}'.\", UserWarning)\n"
     ]
    },
    {
     "name": "stdout",
     "output_type": "stream",
     "text": [
      "Stuck EX_cpd00107_e0 -2.170133037429597 -2.7774954532764746 -2.230869279014285\n"
     ]
    },
    {
     "name": "stderr",
     "output_type": "stream",
     "text": [
      "/Users/chenry/opt/anaconda3/lib/python3.9/site-packages/cobra/util/solver.py:554: UserWarning: Solver status is 'infeasible'.\n",
      "  warn(f\"Solver status is '{status}'.\", UserWarning)\n"
     ]
    },
    {
     "name": "stdout",
     "output_type": "stream",
     "text": [
      "Stuck EX_cpd00214_e0 -0.5504880947446508 -2.3845024524184963 -0.7338895305120353\n"
     ]
    },
    {
     "name": "stderr",
     "output_type": "stream",
     "text": [
      "/Users/chenry/opt/anaconda3/lib/python3.9/site-packages/cobra/util/solver.py:554: UserWarning: Solver status is 'infeasible'.\n",
      "  warn(f\"Solver status is '{status}'.\", UserWarning)\n"
     ]
    },
    {
     "name": "stdout",
     "output_type": "stream",
     "text": [
      "Stuck EX_cpd00029_e0 0.0 -25.335084531004203 -2.53350845310042\n"
     ]
    },
    {
     "name": "stderr",
     "output_type": "stream",
     "text": [
      "/Users/chenry/opt/anaconda3/lib/python3.9/site-packages/cobra/util/solver.py:554: UserWarning: Solver status is 'infeasible'.\n",
      "  warn(f\"Solver status is '{status}'.\", UserWarning)\n"
     ]
    },
    {
     "name": "stdout",
     "output_type": "stream",
     "text": [
      "Stuck EX_cpd00105_e0 0.0 -14.333985242300496 -1.4333985242300495\n"
     ]
    },
    {
     "name": "stderr",
     "output_type": "stream",
     "text": [
      "/Users/chenry/opt/anaconda3/lib/python3.9/site-packages/cobra/util/solver.py:554: UserWarning: Solver status is 'infeasible'.\n",
      "  warn(f\"Solver status is '{status}'.\", UserWarning)\n"
     ]
    },
    {
     "name": "stdout",
     "output_type": "stream",
     "text": [
      "Stuck EX_cpd00218_e0 -0.10214696691811212 -14.55485713332283 -1.5474179835585837\n"
     ]
    },
    {
     "name": "stderr",
     "output_type": "stream",
     "text": [
      "/Users/chenry/opt/anaconda3/lib/python3.9/site-packages/cobra/util/solver.py:554: UserWarning: Solver status is 'infeasible'.\n",
      "  warn(f\"Solver status is '{status}'.\", UserWarning)\n"
     ]
    },
    {
     "name": "stdout",
     "output_type": "stream",
     "text": [
      "Stuck EX_cpd00751_e0 -0.07871322187408822 -3.2221409734900903 -0.3930559970356885\n"
     ]
    },
    {
     "name": "stderr",
     "output_type": "stream",
     "text": [
      "/Users/chenry/opt/anaconda3/lib/python3.9/site-packages/cobra/util/solver.py:554: UserWarning: Solver status is 'infeasible'.\n",
      "  warn(f\"Solver status is '{status}'.\", UserWarning)\n"
     ]
    },
    {
     "name": "stdout",
     "output_type": "stream",
     "text": [
      "Stuck EX_cpd01293_e0 0.0 -2.8149653235208794 -0.28149653235208794\n",
      "Iteration 3\n",
      "Iteration 4\n",
      "Iteration 5\n",
      "Iteration 6\n"
     ]
    },
    {
     "name": "stderr",
     "output_type": "stream",
     "text": [
      "/Users/chenry/opt/anaconda3/lib/python3.9/site-packages/cobra/util/solver.py:554: UserWarning: Solver status is 'infeasible'.\n",
      "  warn(f\"Solver status is '{status}'.\", UserWarning)\n"
     ]
    },
    {
     "name": "stdout",
     "output_type": "stream",
     "text": [
      "Stuck EX_cpd00076_e0 0.0 4.306680386070367 2.1533401930351834\n"
     ]
    },
    {
     "name": "stderr",
     "output_type": "stream",
     "text": [
      "/Users/chenry/opt/anaconda3/lib/python3.9/site-packages/cobra/util/solver.py:554: UserWarning: Solver status is 'infeasible'.\n",
      "  warn(f\"Solver status is '{status}'.\", UserWarning)\n"
     ]
    },
    {
     "name": "stdout",
     "output_type": "stream",
     "text": [
      "Stuck EX_cpd00064_e0 0.0 11.077639000332123 5.538819500166062\n"
     ]
    },
    {
     "name": "stderr",
     "output_type": "stream",
     "text": [
      "/Users/chenry/opt/anaconda3/lib/python3.9/site-packages/cobra/util/solver.py:554: UserWarning: Solver status is 'infeasible'.\n",
      "  warn(f\"Solver status is '{status}'.\", UserWarning)\n"
     ]
    },
    {
     "name": "stdout",
     "output_type": "stream",
     "text": [
      "Stuck EX_cpd00082_e0 -0.5214910571965651 10.781797379231996 5.130153161017716\n",
      "Iteration 7\n",
      "Iteration 8\n",
      "Iteration 9\n",
      "Iteration 10\n",
      "EX_cpd00084_e0 0.3329654874711963 0.3329654874711963\n",
      "EX_cpd00119_e0 -3.0810163055641997 -3.0810163055641997\n",
      "EX_cpd00033_e0 -2.3702752061704704 -2.3702752061704704\n",
      "EX_cpd01242_e0 -1.0036452266912665 -1.0036452266912665\n",
      "EX_cpd00137_e0 -0.3547234268364135 -0.3547234268364135\n",
      "EX_cpd00129_e0 -2.18917699860297 -2.18917699860297\n",
      "EX_cpd00158_e0 -2.53350845310042 -2.53350845310042\n",
      "EX_cpd01171_e0 -4.10496936190791 -4.10496936190791\n",
      "EX_cpd01107_e0 -0.5534236260400538 -0.5534236260400538\n",
      "EX_cpd03847_e0 -1.5552619425886223 -1.5552619425886223\n",
      "EX_cpd00322_e0 -2.363741402097952 -2.363741402097952\n",
      "EX_cpd00108_e0 -2.132768415807691 -2.132768415807691\n",
      "EX_cpd00132_e0 -1.6191171274181984 -1.6191171274181984\n",
      "EX_cpd00851_e0 -2.2567017134524288 -2.2567017134524288\n",
      "EX_cpd02733_e0 -2.53350845310042 -2.53350845310042\n",
      "EX_cpd00224_e0 -2.53350845310042 -2.53350845310042\n",
      "EX_cpd00130_e0 -1.8568757907470217 -1.8568757907470217\n",
      "EX_cpd00526_e0 -1000 1000\n",
      "EX_cpd00076_e0 2.1533401930351834 2.1533401930351834\n",
      "EX_cpd00107_e0 -2.230869279014285 -2.230869279014285\n",
      "EX_cpd00214_e0 -0.7338895305120353 -0.7338895305120353\n",
      "EX_cpd00029_e0 -2.53350845310042 -2.53350845310042\n",
      "EX_cpd00105_e0 -1.4333985242300495 -1.4333985242300495\n",
      "EX_cpd00218_e0 -1.5474179835585837 -1.5474179835585837\n",
      "EX_cpd00751_e0 -0.3930559970356885 -0.3930559970356885\n",
      "EX_cpd00382_e0 -1000 1000\n",
      "EX_cpd00060_e0 -1000 1000\n",
      "EX_cpd00035_e0 -1000 1000\n",
      "EX_cpd00396_e0 -1000 1000\n",
      "EX_cpd00161_e0 -1000 1000\n",
      "EX_cpd00211_e0 -1000 1000\n",
      "EX_cpd03198_e0 -1000 1000\n",
      "EX_cpd00064_e0 5.538819500166062 5.538819500166062\n",
      "EX_cpd01055_e0 -1000 1000\n",
      "EX_cpd00106_e0 -1000 1000\n",
      "EX_cpd00121_e0 -1000 1000\n",
      "EX_cpd00082_e0 5.130153161017716 5.130153161017716\n",
      "EX_cpd01293_e0 -0.28149653235208794 -0.28149653235208794\n",
      "EX_cpd00041_e0 -1000 1000\n",
      "EX_cpd03846_e0 -1000 1000\n",
      "EX_cpd00122_e0 -1000 1000\n",
      "EX_cpd00024_e0 -1000 1000\n",
      "EX_cpd00550_e0 -1000 1000\n",
      "EX_cpd00023_e0 -1000 1000\n",
      "EX_cpd00141_e0 -1000 1000\n",
      "EX_cpd00156_e0 -1000 1000\n",
      "EX_cpd00027_e0 -1000 1000\n",
      "EX_cpd00039_e0 -1000 1000\n",
      "EX_cpd00069_e0 -1000 1000\n",
      "EX_cpd00536_e0 -1000 1000\n",
      "EX_cpd00066_e0 -1000 1000\n",
      "EX_cpd00036_e0 -1000 1000\n",
      "EX_cpd00020_e0 -1000 1000\n"
     ]
    },
    {
     "name": "stderr",
     "output_type": "stream",
     "text": [
      "1717943805.256585 INFO: Making atp hydrolysis reaction for species: Lactobacillus.3\n",
      "1717943806.963965 INFO: Making atp hydrolysis reaction for species: Merdibacter.1\n",
      "1717943807.514445 INFO: Making atp hydrolysis reaction for species: Enterococcus.2\n",
      "1717943808.0318851 INFO: Making atp hydrolysis reaction for species: Enterococcus.3\n",
      "1717943808.558814 INFO: Making atp hydrolysis reaction for species: Turicibacter.1\n",
      "1717943809.0771148 INFO: Making atp hydrolysis reaction for species: Lactobacillus.1\n",
      "1717943809.597337 INFO: Making atp hydrolysis reaction for species: Muribaculum.1\n",
      "1717943810.12302 INFO: Making atp hydrolysis reaction for species: Akkermansia.1\n",
      "1717943810.649992 INFO: Making atp hydrolysis reaction for species: Clostridium.21\n",
      "1717943811.172489 INFO: Making atp hydrolysis reaction for species: Bifidobacterium.1\n",
      "1717943811.6972349 INFO: Making atp hydrolysis reaction for species: Ruminococcus.3\n",
      "1717943812.220269 INFO: Making atp hydrolysis reaction for species: Alistipes.2\n",
      "1717943812.741921 INFO: Making atp hydrolysis reaction for species: Acetivibrio.1\n",
      "1717943813.260695 INFO: Making atp hydrolysis reaction for species: Eubacterium.7\n",
      "1717943813.783872 INFO: Making atp hydrolysis reaction for species: Clostridium.23\n",
      "1717943814.304435 INFO: Making atp hydrolysis reaction for species: Alistipes.4\n",
      "1717943816.012581 INFO: Making atp hydrolysis reaction for species: Blautia.1\n",
      "1717943816.53053 INFO: Making atp hydrolysis reaction for species: Clostridium.16\n"
     ]
    },
    {
     "name": "stdout",
     "output_type": "stream",
     "text": [
      "RC-ABX_9.0 growth: 8.443694921886276\n",
      "RC-ABX_9.0carbon uptake: 300.0\n",
      "Iteration 1\n"
     ]
    },
    {
     "name": "stderr",
     "output_type": "stream",
     "text": [
      "/Users/chenry/opt/anaconda3/lib/python3.9/site-packages/cobra/util/solver.py:554: UserWarning: Solver status is 'infeasible'.\n",
      "  warn(f\"Solver status is '{status}'.\", UserWarning)\n"
     ]
    },
    {
     "name": "stdout",
     "output_type": "stream",
     "text": [
      "Stuck EX_cpd00526_e0 1.3322676295501878e-15 3.970059873466455 1000\n"
     ]
    },
    {
     "name": "stderr",
     "output_type": "stream",
     "text": [
      "/Users/chenry/opt/anaconda3/lib/python3.9/site-packages/cobra/util/solver.py:554: UserWarning: Solver status is 'infeasible'.\n",
      "  warn(f\"Solver status is '{status}'.\", UserWarning)\n"
     ]
    },
    {
     "name": "stdout",
     "output_type": "stream",
     "text": [
      "Stuck EX_cpd00105_e0 -0.04791063484148872 -21.639032742616173 1000\n"
     ]
    },
    {
     "name": "stderr",
     "output_type": "stream",
     "text": [
      "/Users/chenry/opt/anaconda3/lib/python3.9/site-packages/cobra/util/solver.py:554: UserWarning: Solver status is 'infeasible'.\n",
      "  warn(f\"Solver status is '{status}'.\", UserWarning)\n"
     ]
    },
    {
     "name": "stdout",
     "output_type": "stream",
     "text": [
      "Stuck EX_cpd00218_e0 -0.08661931927363252 -16.28848557509122 1000\n"
     ]
    },
    {
     "name": "stderr",
     "output_type": "stream",
     "text": [
      "/Users/chenry/opt/anaconda3/lib/python3.9/site-packages/cobra/util/solver.py:554: UserWarning: Solver status is 'infeasible'.\n",
      "  warn(f\"Solver status is '{status}'.\", UserWarning)\n"
     ]
    },
    {
     "name": "stdout",
     "output_type": "stream",
     "text": [
      "Stuck EX_cpd00751_e0 0.0 -8.988367752890412 1000\n"
     ]
    },
    {
     "name": "stderr",
     "output_type": "stream",
     "text": [
      "/Users/chenry/opt/anaconda3/lib/python3.9/site-packages/cobra/util/solver.py:554: UserWarning: Solver status is 'infeasible'.\n",
      "  warn(f\"Solver status is '{status}'.\", UserWarning)\n"
     ]
    },
    {
     "name": "stdout",
     "output_type": "stream",
     "text": [
      "Stuck EX_cpd00382_e0 0.0 -25.33108476565883 1000\n"
     ]
    },
    {
     "name": "stderr",
     "output_type": "stream",
     "text": [
      "/Users/chenry/opt/anaconda3/lib/python3.9/site-packages/cobra/util/solver.py:554: UserWarning: Solver status is 'infeasible'.\n",
      "  warn(f\"Solver status is '{status}'.\", UserWarning)\n"
     ]
    },
    {
     "name": "stdout",
     "output_type": "stream",
     "text": [
      "Stuck EX_cpd00035_e0 0.0 -11.494556727088547 1000\n"
     ]
    },
    {
     "name": "stderr",
     "output_type": "stream",
     "text": [
      "/Users/chenry/opt/anaconda3/lib/python3.9/site-packages/cobra/util/solver.py:554: UserWarning: Solver status is 'infeasible'.\n",
      "  warn(f\"Solver status is '{status}'.\", UserWarning)\n"
     ]
    },
    {
     "name": "stdout",
     "output_type": "stream",
     "text": [
      "Stuck EX_cpd00211_e0 -0.9784370613389143 -25.33108476565883 1000\n"
     ]
    },
    {
     "name": "stderr",
     "output_type": "stream",
     "text": [
      "/Users/chenry/opt/anaconda3/lib/python3.9/site-packages/cobra/util/solver.py:554: UserWarning: Solver status is 'infeasible'.\n",
      "  warn(f\"Solver status is '{status}'.\", UserWarning)\n"
     ]
    },
    {
     "name": "stdout",
     "output_type": "stream",
     "text": [
      "Stuck EX_cpd03198_e0 0.0 -25.33108476565883 1000\n"
     ]
    },
    {
     "name": "stderr",
     "output_type": "stream",
     "text": [
      "/Users/chenry/opt/anaconda3/lib/python3.9/site-packages/cobra/util/solver.py:554: UserWarning: Solver status is 'infeasible'.\n",
      "  warn(f\"Solver status is '{status}'.\", UserWarning)\n"
     ]
    },
    {
     "name": "stdout",
     "output_type": "stream",
     "text": [
      "Stuck EX_cpd01055_e0 0.0 9.299902746311718 1000\n"
     ]
    },
    {
     "name": "stderr",
     "output_type": "stream",
     "text": [
      "/Users/chenry/opt/anaconda3/lib/python3.9/site-packages/cobra/util/solver.py:554: UserWarning: Solver status is 'infeasible'.\n",
      "  warn(f\"Solver status is '{status}'.\", UserWarning)\n"
     ]
    },
    {
     "name": "stdout",
     "output_type": "stream",
     "text": [
      "Stuck EX_cpd00082_e0 0.0 -2.9221706698957792 1000\n"
     ]
    },
    {
     "name": "stderr",
     "output_type": "stream",
     "text": [
      "/Users/chenry/opt/anaconda3/lib/python3.9/site-packages/cobra/util/solver.py:554: UserWarning: Solver status is 'infeasible'.\n",
      "  warn(f\"Solver status is '{status}'.\", UserWarning)\n"
     ]
    },
    {
     "name": "stdout",
     "output_type": "stream",
     "text": [
      "Stuck EX_cpd03846_e0 0.0 -8.093957691403036 1000\n"
     ]
    },
    {
     "name": "stderr",
     "output_type": "stream",
     "text": [
      "/Users/chenry/opt/anaconda3/lib/python3.9/site-packages/cobra/util/solver.py:554: UserWarning: Solver status is 'infeasible'.\n",
      "  warn(f\"Solver status is '{status}'.\", UserWarning)\n"
     ]
    },
    {
     "name": "stdout",
     "output_type": "stream",
     "text": [
      "Stuck EX_cpd00122_e0 0.0 -17.06758351350659 1000\n"
     ]
    },
    {
     "name": "stderr",
     "output_type": "stream",
     "text": [
      "/Users/chenry/opt/anaconda3/lib/python3.9/site-packages/cobra/util/solver.py:554: UserWarning: Solver status is 'infeasible'.\n",
      "  warn(f\"Solver status is '{status}'.\", UserWarning)\n"
     ]
    },
    {
     "name": "stdout",
     "output_type": "stream",
     "text": [
      "Stuck EX_cpd00024_e0 0.0 -1.955486775041837 1000\n"
     ]
    },
    {
     "name": "stderr",
     "output_type": "stream",
     "text": [
      "/Users/chenry/opt/anaconda3/lib/python3.9/site-packages/cobra/util/solver.py:554: UserWarning: Solver status is 'infeasible'.\n",
      "  warn(f\"Solver status is '{status}'.\", UserWarning)\n"
     ]
    },
    {
     "name": "stdout",
     "output_type": "stream",
     "text": [
      "Stuck EX_cpd00550_e0 0.0 -11.041839331853986 1000\n"
     ]
    },
    {
     "name": "stderr",
     "output_type": "stream",
     "text": [
      "/Users/chenry/opt/anaconda3/lib/python3.9/site-packages/cobra/util/solver.py:554: UserWarning: Solver status is 'infeasible'.\n",
      "  warn(f\"Solver status is '{status}'.\", UserWarning)\n"
     ]
    },
    {
     "name": "stdout",
     "output_type": "stream",
     "text": [
      "Stuck EX_cpd00141_e0 0.0 -25.33108476565883 1000\n"
     ]
    },
    {
     "name": "stderr",
     "output_type": "stream",
     "text": [
      "/Users/chenry/opt/anaconda3/lib/python3.9/site-packages/cobra/util/solver.py:554: UserWarning: Solver status is 'infeasible'.\n",
      "  warn(f\"Solver status is '{status}'.\", UserWarning)\n"
     ]
    },
    {
     "name": "stdout",
     "output_type": "stream",
     "text": [
      "Stuck EX_cpd00027_e0 0.0 -24.96850714370451 1000\n"
     ]
    },
    {
     "name": "stderr",
     "output_type": "stream",
     "text": [
      "/Users/chenry/opt/anaconda3/lib/python3.9/site-packages/cobra/util/solver.py:554: UserWarning: Solver status is 'infeasible'.\n",
      "  warn(f\"Solver status is '{status}'.\", UserWarning)\n"
     ]
    },
    {
     "name": "stdout",
     "output_type": "stream",
     "text": [
      "Stuck EX_cpd00039_e0 -1.902068658033797 9.332950420946485 1000\n"
     ]
    },
    {
     "name": "stderr",
     "output_type": "stream",
     "text": [
      "/Users/chenry/opt/anaconda3/lib/python3.9/site-packages/cobra/util/solver.py:554: UserWarning: Solver status is 'infeasible'.\n",
      "  warn(f\"Solver status is '{status}'.\", UserWarning)\n"
     ]
    },
    {
     "name": "stdout",
     "output_type": "stream",
     "text": [
      "Stuck EX_cpd00069_e0 -0.7871989722230552 -23.898748969220915 1000\n"
     ]
    },
    {
     "name": "stderr",
     "output_type": "stream",
     "text": [
      "/Users/chenry/opt/anaconda3/lib/python3.9/site-packages/cobra/util/solver.py:554: UserWarning: Solver status is 'infeasible'.\n",
      "  warn(f\"Solver status is '{status}'.\", UserWarning)\n"
     ]
    },
    {
     "name": "stdout",
     "output_type": "stream",
     "text": [
      "Stuck EX_cpd00536_e0 0.0 -10.149508567216786 1000\n"
     ]
    },
    {
     "name": "stderr",
     "output_type": "stream",
     "text": [
      "/Users/chenry/opt/anaconda3/lib/python3.9/site-packages/cobra/util/solver.py:554: UserWarning: Solver status is 'infeasible'.\n",
      "  warn(f\"Solver status is '{status}'.\", UserWarning)\n"
     ]
    },
    {
     "name": "stdout",
     "output_type": "stream",
     "text": [
      "Stuck EX_cpd00066_e0 -1.0427708632112025 -0.819630892413433 1000\n",
      "Iteration 2\n"
     ]
    },
    {
     "name": "stderr",
     "output_type": "stream",
     "text": [
      "/Users/chenry/opt/anaconda3/lib/python3.9/site-packages/cobra/util/solver.py:554: UserWarning: Solver status is 'infeasible'.\n",
      "  warn(f\"Solver status is '{status}'.\", UserWarning)\n"
     ]
    },
    {
     "name": "stdout",
     "output_type": "stream",
     "text": [
      "Stuck EX_cpd00119_e0 -0.47818843186257043 -25.33108476565883 -2.9634780652421964\n"
     ]
    },
    {
     "name": "stderr",
     "output_type": "stream",
     "text": [
      "/Users/chenry/opt/anaconda3/lib/python3.9/site-packages/cobra/util/solver.py:554: UserWarning: Solver status is 'infeasible'.\n",
      "  warn(f\"Solver status is '{status}'.\", UserWarning)\n"
     ]
    },
    {
     "name": "stdout",
     "output_type": "stream",
     "text": [
      "Stuck EX_cpd00033_e0 0.0 -6.006624020343158 -0.6006624020343158\n"
     ]
    },
    {
     "name": "stderr",
     "output_type": "stream",
     "text": [
      "/Users/chenry/opt/anaconda3/lib/python3.9/site-packages/cobra/util/solver.py:554: UserWarning: Solver status is 'infeasible'.\n",
      "  warn(f\"Solver status is '{status}'.\", UserWarning)\n"
     ]
    },
    {
     "name": "stdout",
     "output_type": "stream",
     "text": [
      "Stuck EX_cpd01242_e0 0.0 -8.42814715105762 -0.8428147151057621\n"
     ]
    },
    {
     "name": "stderr",
     "output_type": "stream",
     "text": [
      "/Users/chenry/opt/anaconda3/lib/python3.9/site-packages/cobra/util/solver.py:554: UserWarning: Solver status is 'infeasible'.\n",
      "  warn(f\"Solver status is '{status}'.\", UserWarning)\n"
     ]
    },
    {
     "name": "stdout",
     "output_type": "stream",
     "text": [
      "Stuck EX_cpd00158_e0 -7.62976437738612 -15.242077181599146 -8.390995657807423\n"
     ]
    },
    {
     "name": "stderr",
     "output_type": "stream",
     "text": [
      "/Users/chenry/opt/anaconda3/lib/python3.9/site-packages/cobra/util/solver.py:554: UserWarning: Solver status is 'infeasible'.\n",
      "  warn(f\"Solver status is '{status}'.\", UserWarning)\n"
     ]
    },
    {
     "name": "stdout",
     "output_type": "stream",
     "text": [
      "Stuck EX_cpd01171_e0 0.0 -25.33108476565883 -2.533108476565883\n"
     ]
    },
    {
     "name": "stderr",
     "output_type": "stream",
     "text": [
      "/Users/chenry/opt/anaconda3/lib/python3.9/site-packages/cobra/util/solver.py:554: UserWarning: Solver status is 'infeasible'.\n",
      "  warn(f\"Solver status is '{status}'.\", UserWarning)\n"
     ]
    },
    {
     "name": "stdout",
     "output_type": "stream",
     "text": [
      "Stuck EX_cpd01107_e0 -0.026501222881199687 -9.491202764739878 -0.9729713770670676\n"
     ]
    },
    {
     "name": "stderr",
     "output_type": "stream",
     "text": [
      "/Users/chenry/opt/anaconda3/lib/python3.9/site-packages/cobra/util/solver.py:554: UserWarning: Solver status is 'infeasible'.\n",
      "  warn(f\"Solver status is '{status}'.\", UserWarning)\n"
     ]
    },
    {
     "name": "stdout",
     "output_type": "stream",
     "text": [
      "Stuck EX_cpd03847_e0 -0.6044844845930739 -10.673825054903567 -1.6114185416241231\n"
     ]
    },
    {
     "name": "stderr",
     "output_type": "stream",
     "text": [
      "/Users/chenry/opt/anaconda3/lib/python3.9/site-packages/cobra/util/solver.py:554: UserWarning: Solver status is 'infeasible'.\n",
      "  warn(f\"Solver status is '{status}'.\", UserWarning)\n"
     ]
    },
    {
     "name": "stdout",
     "output_type": "stream",
     "text": [
      "Stuck EX_cpd00322_e0 0.0 -5.20048725523318 -0.520048725523318\n"
     ]
    },
    {
     "name": "stderr",
     "output_type": "stream",
     "text": [
      "/Users/chenry/opt/anaconda3/lib/python3.9/site-packages/cobra/util/solver.py:554: UserWarning: Solver status is 'infeasible'.\n",
      "  warn(f\"Solver status is '{status}'.\", UserWarning)\n"
     ]
    },
    {
     "name": "stdout",
     "output_type": "stream",
     "text": [
      "Stuck EX_cpd00108_e0 0.0 -6.22138455931748 -0.622138455931748\n"
     ]
    },
    {
     "name": "stderr",
     "output_type": "stream",
     "text": [
      "/Users/chenry/opt/anaconda3/lib/python3.9/site-packages/cobra/util/solver.py:554: UserWarning: Solver status is 'infeasible'.\n",
      "  warn(f\"Solver status is '{status}'.\", UserWarning)\n"
     ]
    },
    {
     "name": "stdout",
     "output_type": "stream",
     "text": [
      "Stuck EX_cpd02733_e0 0.0 -25.33108476565883 -2.533108476565883\n"
     ]
    },
    {
     "name": "stderr",
     "output_type": "stream",
     "text": [
      "/Users/chenry/opt/anaconda3/lib/python3.9/site-packages/cobra/util/solver.py:554: UserWarning: Solver status is 'infeasible'.\n",
      "  warn(f\"Solver status is '{status}'.\", UserWarning)\n"
     ]
    },
    {
     "name": "stdout",
     "output_type": "stream",
     "text": [
      "Stuck EX_cpd00224_e0 0.0 -12.208647492051778 -1.2208647492051778\n"
     ]
    },
    {
     "name": "stderr",
     "output_type": "stream",
     "text": [
      "/Users/chenry/opt/anaconda3/lib/python3.9/site-packages/cobra/util/solver.py:554: UserWarning: Solver status is 'infeasible'.\n",
      "  warn(f\"Solver status is '{status}'.\", UserWarning)\n"
     ]
    },
    {
     "name": "stdout",
     "output_type": "stream",
     "text": [
      "Stuck EX_cpd00130_e0 0.0 -21.386593530740818 -2.1386593530740816\n"
     ]
    },
    {
     "name": "stderr",
     "output_type": "stream",
     "text": [
      "/Users/chenry/opt/anaconda3/lib/python3.9/site-packages/cobra/util/solver.py:554: UserWarning: Solver status is 'infeasible'.\n",
      "  warn(f\"Solver status is '{status}'.\", UserWarning)\n"
     ]
    },
    {
     "name": "stdout",
     "output_type": "stream",
     "text": [
      "Stuck EX_cpd00214_e0 -0.8542462602384195 -6.877727425890844 -1.456594376803662\n"
     ]
    },
    {
     "name": "stderr",
     "output_type": "stream",
     "text": [
      "/Users/chenry/opt/anaconda3/lib/python3.9/site-packages/cobra/util/solver.py:554: UserWarning: Solver status is 'infeasible'.\n",
      "  warn(f\"Solver status is '{status}'.\", UserWarning)\n"
     ]
    },
    {
     "name": "stdout",
     "output_type": "stream",
     "text": [
      "Stuck EX_cpd00029_e0 0.0 -25.33108476565883 -2.533108476565883\n"
     ]
    },
    {
     "name": "stderr",
     "output_type": "stream",
     "text": [
      "/Users/chenry/opt/anaconda3/lib/python3.9/site-packages/cobra/util/solver.py:554: UserWarning: Solver status is 'infeasible'.\n",
      "  warn(f\"Solver status is '{status}'.\", UserWarning)\n"
     ]
    },
    {
     "name": "stdout",
     "output_type": "stream",
     "text": [
      "Stuck EX_cpd00060_e0 0.0 -4.316306859401254 -0.43163068594012544\n"
     ]
    },
    {
     "name": "stderr",
     "output_type": "stream",
     "text": [
      "/Users/chenry/opt/anaconda3/lib/python3.9/site-packages/cobra/util/solver.py:554: UserWarning: Solver status is 'infeasible'.\n",
      "  warn(f\"Solver status is '{status}'.\", UserWarning)\n"
     ]
    },
    {
     "name": "stdout",
     "output_type": "stream",
     "text": [
      "Stuck EX_cpd00161_e0 0.0 12.813911907972562 1.2813911907972564\n"
     ]
    },
    {
     "name": "stderr",
     "output_type": "stream",
     "text": [
      "/Users/chenry/opt/anaconda3/lib/python3.9/site-packages/cobra/util/solver.py:554: UserWarning: Solver status is 'infeasible'.\n",
      "  warn(f\"Solver status is '{status}'.\", UserWarning)\n"
     ]
    },
    {
     "name": "stdout",
     "output_type": "stream",
     "text": [
      "Stuck EX_cpd00064_e0 0.0 10.686932649901113 1.0686932649901113\n"
     ]
    },
    {
     "name": "stderr",
     "output_type": "stream",
     "text": [
      "/Users/chenry/opt/anaconda3/lib/python3.9/site-packages/cobra/util/solver.py:554: UserWarning: Solver status is 'infeasible'.\n",
      "  warn(f\"Solver status is '{status}'.\", UserWarning)\n"
     ]
    },
    {
     "name": "stdout",
     "output_type": "stream",
     "text": [
      "Stuck EX_cpd00121_e0 0.0 11.32199987010383 1.1321999870103827\n"
     ]
    },
    {
     "name": "stderr",
     "output_type": "stream",
     "text": [
      "/Users/chenry/opt/anaconda3/lib/python3.9/site-packages/cobra/util/solver.py:554: UserWarning: Solver status is 'infeasible'.\n",
      "  warn(f\"Solver status is '{status}'.\", UserWarning)\n"
     ]
    },
    {
     "name": "stdout",
     "output_type": "stream",
     "text": [
      "Stuck EX_cpd01293_e0 -0.0034716488814533005 12.182513168254294 1.2151268328321212\n"
     ]
    },
    {
     "name": "stderr",
     "output_type": "stream",
     "text": [
      "/Users/chenry/opt/anaconda3/lib/python3.9/site-packages/cobra/util/solver.py:554: UserWarning: Solver status is 'infeasible'.\n",
      "  warn(f\"Solver status is '{status}'.\", UserWarning)\n"
     ]
    },
    {
     "name": "stdout",
     "output_type": "stream",
     "text": [
      "Stuck EX_cpd00023_e0 0.0 9.789618385907536 0.9789618385907541\n"
     ]
    },
    {
     "name": "stderr",
     "output_type": "stream",
     "text": [
      "/Users/chenry/opt/anaconda3/lib/python3.9/site-packages/cobra/util/solver.py:554: UserWarning: Solver status is 'infeasible'.\n",
      "  warn(f\"Solver status is '{status}'.\", UserWarning)\n"
     ]
    },
    {
     "name": "stdout",
     "output_type": "stream",
     "text": [
      "Stuck EX_cpd00156_e0 0.0 -1.3365300726289207 -0.13365300726289206\n"
     ]
    },
    {
     "name": "stderr",
     "output_type": "stream",
     "text": [
      "/Users/chenry/opt/anaconda3/lib/python3.9/site-packages/cobra/util/solver.py:554: UserWarning: Solver status is 'infeasible'.\n",
      "  warn(f\"Solver status is '{status}'.\", UserWarning)\n"
     ]
    },
    {
     "name": "stdout",
     "output_type": "stream",
     "text": [
      "Stuck EX_cpd00036_e0 0.0 7.541766249092198 0.7541766249092188\n"
     ]
    },
    {
     "name": "stderr",
     "output_type": "stream",
     "text": [
      "/Users/chenry/opt/anaconda3/lib/python3.9/site-packages/cobra/util/solver.py:554: UserWarning: Solver status is 'infeasible'.\n",
      "  warn(f\"Solver status is '{status}'.\", UserWarning)\n"
     ]
    },
    {
     "name": "stdout",
     "output_type": "stream",
     "text": [
      "Stuck EX_cpd00020_e0 0.0 7.173672163622612 0.7173672163622609\n",
      "Iteration 3\n"
     ]
    },
    {
     "name": "stderr",
     "output_type": "stream",
     "text": [
      "/Users/chenry/opt/anaconda3/lib/python3.9/site-packages/cobra/util/solver.py:554: UserWarning: Solver status is 'infeasible'.\n",
      "  warn(f\"Solver status is '{status}'.\", UserWarning)\n"
     ]
    },
    {
     "name": "stdout",
     "output_type": "stream",
     "text": [
      "Stuck EX_cpd00084_e0 -0.14411298024053806 2.8265783479023474 0.4500252853880391\n"
     ]
    },
    {
     "name": "stderr",
     "output_type": "stream",
     "text": [
      "/Users/chenry/opt/anaconda3/lib/python3.9/site-packages/cobra/util/solver.py:554: UserWarning: Solver status is 'infeasible'.\n",
      "  warn(f\"Solver status is '{status}'.\", UserWarning)\n"
     ]
    },
    {
     "name": "stdout",
     "output_type": "stream",
     "text": [
      "Stuck EX_cpd00137_e0 0.0 7.433026297626187 1.4866052595252377\n"
     ]
    },
    {
     "name": "stderr",
     "output_type": "stream",
     "text": [
      "/Users/chenry/opt/anaconda3/lib/python3.9/site-packages/cobra/util/solver.py:554: UserWarning: Solver status is 'infeasible'.\n",
      "  warn(f\"Solver status is '{status}'.\", UserWarning)\n"
     ]
    },
    {
     "name": "stdout",
     "output_type": "stream",
     "text": [
      "Stuck EX_cpd00129_e0 0.0 3.578502999550712 0.7157005999101425\n"
     ]
    },
    {
     "name": "stderr",
     "output_type": "stream",
     "text": [
      "/Users/chenry/opt/anaconda3/lib/python3.9/site-packages/cobra/util/solver.py:554: UserWarning: Solver status is 'infeasible'.\n",
      "  warn(f\"Solver status is '{status}'.\", UserWarning)\n"
     ]
    },
    {
     "name": "stdout",
     "output_type": "stream",
     "text": [
      "Stuck EX_cpd00132_e0 0.0 17.85780448302423 3.5715608966048453\n"
     ]
    },
    {
     "name": "stderr",
     "output_type": "stream",
     "text": [
      "/Users/chenry/opt/anaconda3/lib/python3.9/site-packages/cobra/util/solver.py:554: UserWarning: Solver status is 'infeasible'.\n",
      "  warn(f\"Solver status is '{status}'.\", UserWarning)\n"
     ]
    },
    {
     "name": "stdout",
     "output_type": "stream",
     "text": [
      "Stuck EX_cpd00851_e0 -0.023125203892144175 13.898685350259395 2.761236906938164\n"
     ]
    },
    {
     "name": "stderr",
     "output_type": "stream",
     "text": [
      "/Users/chenry/opt/anaconda3/lib/python3.9/site-packages/cobra/util/solver.py:554: UserWarning: Solver status is 'infeasible'.\n",
      "  warn(f\"Solver status is '{status}'.\", UserWarning)\n"
     ]
    },
    {
     "name": "stdout",
     "output_type": "stream",
     "text": [
      "Stuck EX_cpd00076_e0 -0.5839509077871199 3.2948216166790276 0.1918035971061096\n"
     ]
    },
    {
     "name": "stderr",
     "output_type": "stream",
     "text": [
      "/Users/chenry/opt/anaconda3/lib/python3.9/site-packages/cobra/util/solver.py:554: UserWarning: Solver status is 'infeasible'.\n",
      "  warn(f\"Solver status is '{status}'.\", UserWarning)\n"
     ]
    },
    {
     "name": "stdout",
     "output_type": "stream",
     "text": [
      "Stuck EX_cpd00107_e0 -1.669741444091563 -4.833091289819151 -2.3024114132370808\n"
     ]
    },
    {
     "name": "stderr",
     "output_type": "stream",
     "text": [
      "/Users/chenry/opt/anaconda3/lib/python3.9/site-packages/cobra/util/solver.py:554: UserWarning: Solver status is 'infeasible'.\n",
      "  warn(f\"Solver status is '{status}'.\", UserWarning)\n"
     ]
    },
    {
     "name": "stdout",
     "output_type": "stream",
     "text": [
      "Stuck EX_cpd00396_e0 0.0 6.483915594954195 1.296783118990839\n"
     ]
    },
    {
     "name": "stderr",
     "output_type": "stream",
     "text": [
      "/Users/chenry/opt/anaconda3/lib/python3.9/site-packages/cobra/util/solver.py:554: UserWarning: Solver status is 'infeasible'.\n",
      "  warn(f\"Solver status is '{status}'.\", UserWarning)\n"
     ]
    },
    {
     "name": "stdout",
     "output_type": "stream",
     "text": [
      "Stuck EX_cpd00106_e0 0.0 -1.5570264952733532 -0.3114052990546706\n"
     ]
    },
    {
     "name": "stderr",
     "output_type": "stream",
     "text": [
      "/Users/chenry/opt/anaconda3/lib/python3.9/site-packages/cobra/util/solver.py:554: UserWarning: Solver status is 'infeasible'.\n",
      "  warn(f\"Solver status is '{status}'.\", UserWarning)\n"
     ]
    },
    {
     "name": "stdout",
     "output_type": "stream",
     "text": [
      "Stuck EX_cpd00041_e0 0.0 4.6272961196842175 0.9254592239368433\n",
      "Iteration 4\n",
      "Iteration 5\n",
      "Iteration 6\n",
      "Iteration 7\n",
      "Iteration 8\n",
      "Iteration 9\n",
      "Iteration 10\n",
      "EX_cpd00084_e0 0.4500252853880391 0.4500252853880391\n",
      "EX_cpd00119_e0 -2.9634780652421964 -2.9634780652421964\n",
      "EX_cpd00033_e0 -0.6006624020343158 -0.6006624020343158\n",
      "EX_cpd01242_e0 -0.8428147151057621 -0.8428147151057621\n",
      "EX_cpd00137_e0 1.4866052595252377 1.4866052595252377\n",
      "EX_cpd00129_e0 0.7157005999101425 0.7157005999101425\n",
      "EX_cpd00158_e0 -8.390995657807423 -8.390995657807423\n",
      "EX_cpd01171_e0 -2.533108476565883 -2.533108476565883\n",
      "EX_cpd01107_e0 -0.9729713770670676 -0.9729713770670676\n",
      "EX_cpd03847_e0 -1.6114185416241231 -1.6114185416241231\n",
      "EX_cpd00322_e0 -0.520048725523318 -0.520048725523318\n",
      "EX_cpd00108_e0 -0.622138455931748 -0.622138455931748\n",
      "EX_cpd00132_e0 3.5715608966048453 3.5715608966048453\n",
      "EX_cpd00851_e0 2.761236906938164 2.761236906938164\n",
      "EX_cpd02733_e0 -2.533108476565883 -2.533108476565883\n",
      "EX_cpd00224_e0 -1.2208647492051778 -1.2208647492051778\n",
      "EX_cpd00130_e0 -2.1386593530740816 -2.1386593530740816\n",
      "EX_cpd00526_e0 -1000 1000\n",
      "EX_cpd00076_e0 0.1918035971061096 0.1918035971061096\n",
      "EX_cpd00107_e0 -2.3024114132370808 -2.3024114132370808\n",
      "EX_cpd00214_e0 -1.456594376803662 -1.456594376803662\n",
      "EX_cpd00029_e0 -2.533108476565883 -2.533108476565883\n",
      "EX_cpd00105_e0 -1000 1000\n",
      "EX_cpd00218_e0 -1000 1000\n",
      "EX_cpd00751_e0 -1000 1000\n",
      "EX_cpd00382_e0 -1000 1000\n",
      "EX_cpd00060_e0 -0.43163068594012544 -0.43163068594012544\n",
      "EX_cpd00035_e0 -1000 1000\n",
      "EX_cpd00396_e0 1.296783118990839 1.296783118990839\n",
      "EX_cpd00161_e0 1.2813911907972564 1.2813911907972564\n",
      "EX_cpd00211_e0 -1000 1000\n",
      "EX_cpd03198_e0 -1000 1000\n",
      "EX_cpd00064_e0 1.0686932649901113 1.0686932649901113\n",
      "EX_cpd01055_e0 -1000 1000\n",
      "EX_cpd00106_e0 -0.3114052990546706 -0.3114052990546706\n",
      "EX_cpd00121_e0 1.1321999870103827 1.1321999870103827\n",
      "EX_cpd00082_e0 -1000 1000\n",
      "EX_cpd01293_e0 1.2151268328321212 1.2151268328321212\n",
      "EX_cpd00041_e0 0.9254592239368433 0.9254592239368433\n",
      "EX_cpd03846_e0 -1000 1000\n",
      "EX_cpd00122_e0 -1000 1000\n",
      "EX_cpd00024_e0 -1000 1000\n",
      "EX_cpd00550_e0 -1000 1000\n",
      "EX_cpd00023_e0 0.9789618385907541 0.9789618385907541\n",
      "EX_cpd00141_e0 -1000 1000\n",
      "EX_cpd00156_e0 -0.13365300726289206 -0.13365300726289206\n",
      "EX_cpd00027_e0 -1000 1000\n",
      "EX_cpd00039_e0 -1000 1000\n",
      "EX_cpd00069_e0 -1000 1000\n",
      "EX_cpd00536_e0 -1000 1000\n",
      "EX_cpd00066_e0 -1000 1000\n",
      "EX_cpd00036_e0 0.7541766249092188 0.7541766249092188\n",
      "EX_cpd00020_e0 0.7173672163622609 0.7173672163622609\n"
     ]
    },
    {
     "name": "stderr",
     "output_type": "stream",
     "text": [
      "1717944218.0309372 INFO: Making atp hydrolysis reaction for species: Lactobacillus.3\n",
      "1717944218.708298 INFO: Making atp hydrolysis reaction for species: Merdibacter.1\n",
      "1717944219.3826602 INFO: Making atp hydrolysis reaction for species: Turicibacter.1\n",
      "1717944220.065574 INFO: Making atp hydrolysis reaction for species: Lactobacillus.1\n",
      "1717944220.752518 INFO: Making atp hydrolysis reaction for species: Muribaculum.1\n",
      "1717944221.4354382 INFO: Making atp hydrolysis reaction for species: Akkermansia.1\n",
      "1717944222.120113 INFO: Making atp hydrolysis reaction for species: Clostridium.21\n",
      "1717944222.842922 INFO: Making atp hydrolysis reaction for species: Bifidobacterium.1\n",
      "1717944223.521547 INFO: Making atp hydrolysis reaction for species: Ruminococcus.3\n",
      "1717944224.204549 INFO: Making atp hydrolysis reaction for species: Alistipes.2\n",
      "1717944224.884921 INFO: Making atp hydrolysis reaction for species: Acetivibrio.1\n",
      "1717944225.558198 INFO: Making atp hydrolysis reaction for species: Oscillibacter.3\n",
      "1717944226.338225 INFO: Making atp hydrolysis reaction for species: Eubacterium.7\n",
      "1717944227.0894651 INFO: Making atp hydrolysis reaction for species: Murimonas.1\n",
      "1717944227.7920582 INFO: Making atp hydrolysis reaction for species: Clostridium.23\n",
      "1717944228.501389 INFO: Making atp hydrolysis reaction for species: Blautia.1\n",
      "1717944229.221259 INFO: Making atp hydrolysis reaction for species: Oscillibacter.1\n",
      "1717944229.967305 INFO: Making atp hydrolysis reaction for species: Clostridium.16\n",
      "1717944230.6939461 INFO: Making atp hydrolysis reaction for species: Lachnospiraceae.1\n"
     ]
    },
    {
     "name": "stdout",
     "output_type": "stream",
     "text": [
      "RC-ABX_12.5 growth: 8.440342851650561\n",
      "RC-ABX_12.5carbon uptake: 300.0\n",
      "Iteration 1\n"
     ]
    },
    {
     "name": "stderr",
     "output_type": "stream",
     "text": [
      "/Users/chenry/opt/anaconda3/lib/python3.9/site-packages/cobra/util/solver.py:554: UserWarning: Solver status is 'infeasible'.\n",
      "  warn(f\"Solver status is '{status}'.\", UserWarning)\n"
     ]
    },
    {
     "name": "stdout",
     "output_type": "stream",
     "text": [
      "Stuck EX_cpd00526_e0 0.0 11.599829742481164 1000\n"
     ]
    },
    {
     "name": "stderr",
     "output_type": "stream",
     "text": [
      "/Users/chenry/opt/anaconda3/lib/python3.9/site-packages/cobra/util/solver.py:554: UserWarning: Solver status is 'infeasible'.\n",
      "  warn(f\"Solver status is '{status}'.\", UserWarning)\n"
     ]
    },
    {
     "name": "stdout",
     "output_type": "stream",
     "text": [
      "Stuck EX_cpd00751_e0 -0.021501662901555987 7.228294933659941 1000\n"
     ]
    },
    {
     "name": "stderr",
     "output_type": "stream",
     "text": [
      "/Users/chenry/opt/anaconda3/lib/python3.9/site-packages/cobra/util/solver.py:554: UserWarning: Solver status is 'infeasible'.\n",
      "  warn(f\"Solver status is '{status}'.\", UserWarning)\n"
     ]
    },
    {
     "name": "stdout",
     "output_type": "stream",
     "text": [
      "Stuck EX_cpd00064_e0 -0.13915999032150397 -10.07587259937236 1000\n"
     ]
    },
    {
     "name": "stderr",
     "output_type": "stream",
     "text": [
      "/Users/chenry/opt/anaconda3/lib/python3.9/site-packages/cobra/util/solver.py:554: UserWarning: Solver status is 'infeasible'.\n",
      "  warn(f\"Solver status is '{status}'.\", UserWarning)\n"
     ]
    },
    {
     "name": "stdout",
     "output_type": "stream",
     "text": [
      "Stuck EX_cpd01055_e0 0.0 -22.581658281032144 1000\n"
     ]
    },
    {
     "name": "stderr",
     "output_type": "stream",
     "text": [
      "/Users/chenry/opt/anaconda3/lib/python3.9/site-packages/cobra/util/solver.py:554: UserWarning: Solver status is 'infeasible'.\n",
      "  warn(f\"Solver status is '{status}'.\", UserWarning)\n"
     ]
    },
    {
     "name": "stdout",
     "output_type": "stream",
     "text": [
      "Stuck EX_cpd00082_e0 0.0 -9.854588218567867 1000\n"
     ]
    },
    {
     "name": "stderr",
     "output_type": "stream",
     "text": [
      "/Users/chenry/opt/anaconda3/lib/python3.9/site-packages/cobra/util/solver.py:554: UserWarning: Solver status is 'infeasible'.\n",
      "  warn(f\"Solver status is '{status}'.\", UserWarning)\n"
     ]
    },
    {
     "name": "stdout",
     "output_type": "stream",
     "text": [
      "Stuck EX_cpd00041_e0 0.0 -4.7307875701428355 1000\n"
     ]
    },
    {
     "name": "stderr",
     "output_type": "stream",
     "text": [
      "/Users/chenry/opt/anaconda3/lib/python3.9/site-packages/cobra/util/solver.py:554: UserWarning: Solver status is 'infeasible'.\n",
      "  warn(f\"Solver status is '{status}'.\", UserWarning)\n"
     ]
    },
    {
     "name": "stdout",
     "output_type": "stream",
     "text": [
      "Stuck EX_cpd00024_e0 0.0 -18.6004781168858 1000\n"
     ]
    },
    {
     "name": "stderr",
     "output_type": "stream",
     "text": [
      "/Users/chenry/opt/anaconda3/lib/python3.9/site-packages/cobra/util/solver.py:554: UserWarning: Solver status is 'infeasible'.\n",
      "  warn(f\"Solver status is '{status}'.\", UserWarning)\n"
     ]
    },
    {
     "name": "stdout",
     "output_type": "stream",
     "text": [
      "Stuck EX_cpd00550_e0 0.0 -6.699011527164725 1000\n"
     ]
    },
    {
     "name": "stderr",
     "output_type": "stream",
     "text": [
      "/Users/chenry/opt/anaconda3/lib/python3.9/site-packages/cobra/util/solver.py:554: UserWarning: Solver status is 'infeasible'.\n",
      "  warn(f\"Solver status is '{status}'.\", UserWarning)\n"
     ]
    },
    {
     "name": "stdout",
     "output_type": "stream",
     "text": [
      "Stuck EX_cpd00023_e0 0.0 -8.797161539821074 1000\n"
     ]
    },
    {
     "name": "stderr",
     "output_type": "stream",
     "text": [
      "/Users/chenry/opt/anaconda3/lib/python3.9/site-packages/cobra/util/solver.py:554: UserWarning: Solver status is 'infeasible'.\n",
      "  warn(f\"Solver status is '{status}'.\", UserWarning)\n"
     ]
    },
    {
     "name": "stdout",
     "output_type": "stream",
     "text": [
      "Stuck EX_cpd00141_e0 0.0 -25.32102855495168 1000\n"
     ]
    },
    {
     "name": "stderr",
     "output_type": "stream",
     "text": [
      "/Users/chenry/opt/anaconda3/lib/python3.9/site-packages/cobra/util/solver.py:554: UserWarning: Solver status is 'infeasible'.\n",
      "  warn(f\"Solver status is '{status}'.\", UserWarning)\n"
     ]
    },
    {
     "name": "stdout",
     "output_type": "stream",
     "text": [
      "Stuck EX_cpd00156_e0 -0.406991351067812 -0.3418316847895344 1000\n"
     ]
    },
    {
     "name": "stderr",
     "output_type": "stream",
     "text": [
      "/Users/chenry/opt/anaconda3/lib/python3.9/site-packages/cobra/util/solver.py:554: UserWarning: Solver status is 'infeasible'.\n",
      "  warn(f\"Solver status is '{status}'.\", UserWarning)\n"
     ]
    },
    {
     "name": "stdout",
     "output_type": "stream",
     "text": [
      "Stuck EX_cpd00039_e0 -1.7465714046001224 -20.99292343108767 1000\n"
     ]
    },
    {
     "name": "stderr",
     "output_type": "stream",
     "text": [
      "/Users/chenry/opt/anaconda3/lib/python3.9/site-packages/cobra/util/solver.py:554: UserWarning: Solver status is 'infeasible'.\n",
      "  warn(f\"Solver status is '{status}'.\", UserWarning)\n"
     ]
    },
    {
     "name": "stdout",
     "output_type": "stream",
     "text": [
      "Stuck EX_cpd00069_e0 -0.7660339571914352 5.775195721692822 1000\n"
     ]
    },
    {
     "name": "stderr",
     "output_type": "stream",
     "text": [
      "/Users/chenry/opt/anaconda3/lib/python3.9/site-packages/cobra/util/solver.py:554: UserWarning: Solver status is 'infeasible'.\n",
      "  warn(f\"Solver status is '{status}'.\", UserWarning)\n"
     ]
    },
    {
     "name": "stdout",
     "output_type": "stream",
     "text": [
      "Stuck EX_cpd00066_e0 -1.1641770377930383 -3.9736166515270464 1000\n",
      "Iteration 2\n"
     ]
    },
    {
     "name": "stderr",
     "output_type": "stream",
     "text": [
      "/Users/chenry/opt/anaconda3/lib/python3.9/site-packages/cobra/util/solver.py:554: UserWarning: Solver status is 'infeasible'.\n",
      "  warn(f\"Solver status is '{status}'.\", UserWarning)\n"
     ]
    },
    {
     "name": "stdout",
     "output_type": "stream",
     "text": [
      "Stuck EX_cpd00119_e0 -0.5390810835132632 -25.32102855495168 -3.017275830657105\n"
     ]
    },
    {
     "name": "stderr",
     "output_type": "stream",
     "text": [
      "/Users/chenry/opt/anaconda3/lib/python3.9/site-packages/cobra/util/solver.py:554: UserWarning: Solver status is 'infeasible'.\n",
      "  warn(f\"Solver status is '{status}'.\", UserWarning)\n"
     ]
    },
    {
     "name": "stdout",
     "output_type": "stream",
     "text": [
      "Stuck EX_cpd00137_e0 0.0 -7.493113596734522 -0.7493113596734522\n"
     ]
    },
    {
     "name": "stderr",
     "output_type": "stream",
     "text": [
      "/Users/chenry/opt/anaconda3/lib/python3.9/site-packages/cobra/util/solver.py:554: UserWarning: Solver status is 'infeasible'.\n",
      "  warn(f\"Solver status is '{status}'.\", UserWarning)\n"
     ]
    },
    {
     "name": "stdout",
     "output_type": "stream",
     "text": [
      "Stuck EX_cpd00129_e0 -0.19552108803395418 -3.1087312680961383 -0.4868421060401726\n"
     ]
    },
    {
     "name": "stderr",
     "output_type": "stream",
     "text": [
      "/Users/chenry/opt/anaconda3/lib/python3.9/site-packages/cobra/util/solver.py:554: UserWarning: Solver status is 'infeasible'.\n",
      "  warn(f\"Solver status is '{status}'.\", UserWarning)\n"
     ]
    },
    {
     "name": "stdout",
     "output_type": "stream",
     "text": [
      "Stuck EX_cpd00158_e0 0.0 -2.485500136794939 -0.2485500136794939\n"
     ]
    },
    {
     "name": "stderr",
     "output_type": "stream",
     "text": [
      "/Users/chenry/opt/anaconda3/lib/python3.9/site-packages/cobra/util/solver.py:554: UserWarning: Solver status is 'infeasible'.\n",
      "  warn(f\"Solver status is '{status}'.\", UserWarning)\n"
     ]
    },
    {
     "name": "stdout",
     "output_type": "stream",
     "text": [
      "Stuck EX_cpd01171_e0 0.0 -25.32102855495168 -2.532102855495168\n"
     ]
    },
    {
     "name": "stderr",
     "output_type": "stream",
     "text": [
      "/Users/chenry/opt/anaconda3/lib/python3.9/site-packages/cobra/util/solver.py:554: UserWarning: Solver status is 'infeasible'.\n",
      "  warn(f\"Solver status is '{status}'.\", UserWarning)\n"
     ]
    },
    {
     "name": "stdout",
     "output_type": "stream",
     "text": [
      "Stuck EX_cpd00132_e0 0.0 -9.390873696857083 -0.9390873696857083\n"
     ]
    },
    {
     "name": "stderr",
     "output_type": "stream",
     "text": [
      "/Users/chenry/opt/anaconda3/lib/python3.9/site-packages/cobra/util/solver.py:554: UserWarning: Solver status is 'infeasible'.\n",
      "  warn(f\"Solver status is '{status}'.\", UserWarning)\n"
     ]
    },
    {
     "name": "stdout",
     "output_type": "stream",
     "text": [
      "Stuck EX_cpd02733_e0 0.0 15.3688185321527 1.5368818532152702\n"
     ]
    },
    {
     "name": "stderr",
     "output_type": "stream",
     "text": [
      "/Users/chenry/opt/anaconda3/lib/python3.9/site-packages/cobra/util/solver.py:554: UserWarning: Solver status is 'infeasible'.\n",
      "  warn(f\"Solver status is '{status}'.\", UserWarning)\n"
     ]
    },
    {
     "name": "stdout",
     "output_type": "stream",
     "text": [
      "Stuck EX_cpd00076_e0 0.0 -16.174821402446987 -1.6174821402446988\n"
     ]
    },
    {
     "name": "stderr",
     "output_type": "stream",
     "text": [
      "/Users/chenry/opt/anaconda3/lib/python3.9/site-packages/cobra/util/solver.py:554: UserWarning: Solver status is 'infeasible'.\n",
      "  warn(f\"Solver status is '{status}'.\", UserWarning)\n"
     ]
    },
    {
     "name": "stdout",
     "output_type": "stream",
     "text": [
      "Stuck EX_cpd00382_e0 0.0 -25.32102855495168 -2.532102855495168\n"
     ]
    },
    {
     "name": "stderr",
     "output_type": "stream",
     "text": [
      "/Users/chenry/opt/anaconda3/lib/python3.9/site-packages/cobra/util/solver.py:554: UserWarning: Solver status is 'infeasible'.\n",
      "  warn(f\"Solver status is '{status}'.\", UserWarning)\n"
     ]
    },
    {
     "name": "stdout",
     "output_type": "stream",
     "text": [
      "Stuck EX_cpd00396_e0 0.0 5.629450842610615 0.5629450842610613\n"
     ]
    },
    {
     "name": "stderr",
     "output_type": "stream",
     "text": [
      "/Users/chenry/opt/anaconda3/lib/python3.9/site-packages/cobra/util/solver.py:554: UserWarning: Solver status is 'infeasible'.\n",
      "  warn(f\"Solver status is '{status}'.\", UserWarning)\n"
     ]
    },
    {
     "name": "stdout",
     "output_type": "stream",
     "text": [
      "Stuck EX_cpd03198_e0 0.0 -25.32102855495168 -2.532102855495168\n"
     ]
    },
    {
     "name": "stderr",
     "output_type": "stream",
     "text": [
      "/Users/chenry/opt/anaconda3/lib/python3.9/site-packages/cobra/util/solver.py:554: UserWarning: Solver status is 'infeasible'.\n",
      "  warn(f\"Solver status is '{status}'.\", UserWarning)\n"
     ]
    },
    {
     "name": "stdout",
     "output_type": "stream",
     "text": [
      "Stuck EX_cpd01293_e0 -0.0031071937692030366 -7.245435973977916 -0.7273400717900742\n"
     ]
    },
    {
     "name": "stderr",
     "output_type": "stream",
     "text": [
      "/Users/chenry/opt/anaconda3/lib/python3.9/site-packages/cobra/util/solver.py:554: UserWarning: Solver status is 'infeasible'.\n",
      "  warn(f\"Solver status is '{status}'.\", UserWarning)\n"
     ]
    },
    {
     "name": "stdout",
     "output_type": "stream",
     "text": [
      "Stuck EX_cpd03846_e0 0.0 8.666427875309292 0.866642787530929\n"
     ]
    },
    {
     "name": "stderr",
     "output_type": "stream",
     "text": [
      "/Users/chenry/opt/anaconda3/lib/python3.9/site-packages/cobra/util/solver.py:554: UserWarning: Solver status is 'infeasible'.\n",
      "  warn(f\"Solver status is '{status}'.\", UserWarning)\n"
     ]
    },
    {
     "name": "stdout",
     "output_type": "stream",
     "text": [
      "Stuck EX_cpd00122_e0 0.0 6.507362442552094 0.6507362442552092\n"
     ]
    },
    {
     "name": "stderr",
     "output_type": "stream",
     "text": [
      "/Users/chenry/opt/anaconda3/lib/python3.9/site-packages/cobra/util/solver.py:554: UserWarning: Solver status is 'infeasible'.\n",
      "  warn(f\"Solver status is '{status}'.\", UserWarning)\n"
     ]
    },
    {
     "name": "stdout",
     "output_type": "stream",
     "text": [
      "Stuck EX_cpd00027_e0 0.0 8.927726623024387 0.8927726623024395\n"
     ]
    },
    {
     "name": "stderr",
     "output_type": "stream",
     "text": [
      "/Users/chenry/opt/anaconda3/lib/python3.9/site-packages/cobra/util/solver.py:554: UserWarning: Solver status is 'infeasible'.\n",
      "  warn(f\"Solver status is '{status}'.\", UserWarning)\n"
     ]
    },
    {
     "name": "stdout",
     "output_type": "stream",
     "text": [
      "Stuck EX_cpd00536_e0 0.0 6.860108329889074 0.6860108329889076\n"
     ]
    },
    {
     "name": "stderr",
     "output_type": "stream",
     "text": [
      "/Users/chenry/opt/anaconda3/lib/python3.9/site-packages/cobra/util/solver.py:554: UserWarning: Solver status is 'infeasible'.\n",
      "  warn(f\"Solver status is '{status}'.\", UserWarning)\n"
     ]
    },
    {
     "name": "stdout",
     "output_type": "stream",
     "text": [
      "Stuck EX_cpd00036_e0 0.0 1.0066446776110531 0.10066446776110527\n"
     ]
    },
    {
     "name": "stderr",
     "output_type": "stream",
     "text": [
      "/Users/chenry/opt/anaconda3/lib/python3.9/site-packages/cobra/util/solver.py:554: UserWarning: Solver status is 'infeasible'.\n",
      "  warn(f\"Solver status is '{status}'.\", UserWarning)\n"
     ]
    },
    {
     "name": "stdout",
     "output_type": "stream",
     "text": [
      "Stuck EX_cpd00020_e0 0.0 6.715838366990536 0.6715838366990532\n",
      "Iteration 3\n"
     ]
    },
    {
     "name": "stderr",
     "output_type": "stream",
     "text": [
      "/Users/chenry/opt/anaconda3/lib/python3.9/site-packages/cobra/util/solver.py:554: UserWarning: Solver status is 'infeasible'.\n",
      "  warn(f\"Solver status is '{status}'.\", UserWarning)\n"
     ]
    },
    {
     "name": "stdout",
     "output_type": "stream",
     "text": [
      "Stuck EX_cpd00084_e0 0.0 1.3957024169146983 0.2791404833829396\n"
     ]
    },
    {
     "name": "stderr",
     "output_type": "stream",
     "text": [
      "/Users/chenry/opt/anaconda3/lib/python3.9/site-packages/cobra/util/solver.py:554: UserWarning: Solver status is 'infeasible'.\n",
      "  warn(f\"Solver status is '{status}'.\", UserWarning)\n"
     ]
    },
    {
     "name": "stdout",
     "output_type": "stream",
     "text": [
      "Stuck EX_cpd00033_e0 0.0 4.850760690851587 0.9701521381703175\n"
     ]
    },
    {
     "name": "stderr",
     "output_type": "stream",
     "text": [
      "/Users/chenry/opt/anaconda3/lib/python3.9/site-packages/cobra/util/solver.py:554: UserWarning: Solver status is 'infeasible'.\n",
      "  warn(f\"Solver status is '{status}'.\", UserWarning)\n"
     ]
    },
    {
     "name": "stdout",
     "output_type": "stream",
     "text": [
      "Stuck EX_cpd01242_e0 0.0 -1.2619455505437887 -0.25238911010875775\n"
     ]
    },
    {
     "name": "stderr",
     "output_type": "stream",
     "text": [
      "/Users/chenry/opt/anaconda3/lib/python3.9/site-packages/cobra/util/solver.py:554: UserWarning: Solver status is 'infeasible'.\n",
      "  warn(f\"Solver status is '{status}'.\", UserWarning)\n"
     ]
    },
    {
     "name": "stdout",
     "output_type": "stream",
     "text": [
      "Stuck EX_cpd01107_e0 -0.06834862417344859 9.072136230600952 1.7597483467814312\n"
     ]
    },
    {
     "name": "stderr",
     "output_type": "stream",
     "text": [
      "/Users/chenry/opt/anaconda3/lib/python3.9/site-packages/cobra/util/solver.py:554: UserWarning: Solver status is 'infeasible'.\n",
      "  warn(f\"Solver status is '{status}'.\", UserWarning)\n"
     ]
    },
    {
     "name": "stdout",
     "output_type": "stream",
     "text": [
      "Stuck EX_cpd03847_e0 0.0 6.8425418534039855 1.3685083706807974\n"
     ]
    },
    {
     "name": "stderr",
     "output_type": "stream",
     "text": [
      "/Users/chenry/opt/anaconda3/lib/python3.9/site-packages/cobra/util/solver.py:554: UserWarning: Solver status is 'infeasible'.\n",
      "  warn(f\"Solver status is '{status}'.\", UserWarning)\n"
     ]
    },
    {
     "name": "stdout",
     "output_type": "stream",
     "text": [
      "Stuck EX_cpd00108_e0 0.0 3.7244985349643662 0.7448997069928733\n"
     ]
    },
    {
     "name": "stderr",
     "output_type": "stream",
     "text": [
      "/Users/chenry/opt/anaconda3/lib/python3.9/site-packages/cobra/util/solver.py:554: UserWarning: Solver status is 'infeasible'.\n",
      "  warn(f\"Solver status is '{status}'.\", UserWarning)\n"
     ]
    },
    {
     "name": "stdout",
     "output_type": "stream",
     "text": [
      "Stuck EX_cpd00851_e0 0.0 4.955526522947977 0.9911053045895954\n"
     ]
    },
    {
     "name": "stderr",
     "output_type": "stream",
     "text": [
      "/Users/chenry/opt/anaconda3/lib/python3.9/site-packages/cobra/util/solver.py:554: UserWarning: Solver status is 'infeasible'.\n",
      "  warn(f\"Solver status is '{status}'.\", UserWarning)\n"
     ]
    },
    {
     "name": "stdout",
     "output_type": "stream",
     "text": [
      "Stuck EX_cpd00224_e0 0.0 9.714315806534765 1.9428631613069527\n"
     ]
    },
    {
     "name": "stderr",
     "output_type": "stream",
     "text": [
      "/Users/chenry/opt/anaconda3/lib/python3.9/site-packages/cobra/util/solver.py:554: UserWarning: Solver status is 'infeasible'.\n",
      "  warn(f\"Solver status is '{status}'.\", UserWarning)\n"
     ]
    },
    {
     "name": "stdout",
     "output_type": "stream",
     "text": [
      "Stuck EX_cpd00130_e0 0.0 5.5773130137049085 1.1154626027409815\n"
     ]
    },
    {
     "name": "stderr",
     "output_type": "stream",
     "text": [
      "/Users/chenry/opt/anaconda3/lib/python3.9/site-packages/cobra/util/solver.py:554: UserWarning: Solver status is 'infeasible'.\n",
      "  warn(f\"Solver status is '{status}'.\", UserWarning)\n"
     ]
    },
    {
     "name": "stdout",
     "output_type": "stream",
     "text": [
      "Stuck EX_cpd00214_e0 -2.262779972328328 6.0672621791056685 -0.5967715420415285\n"
     ]
    },
    {
     "name": "stderr",
     "output_type": "stream",
     "text": [
      "/Users/chenry/opt/anaconda3/lib/python3.9/site-packages/cobra/util/solver.py:554: UserWarning: Solver status is 'infeasible'.\n",
      "  warn(f\"Solver status is '{status}'.\", UserWarning)\n"
     ]
    },
    {
     "name": "stdout",
     "output_type": "stream",
     "text": [
      "Stuck EX_cpd00029_e0 0.0 -25.32102855495168 -5.064205710990336\n"
     ]
    },
    {
     "name": "stderr",
     "output_type": "stream",
     "text": [
      "/Users/chenry/opt/anaconda3/lib/python3.9/site-packages/cobra/util/solver.py:554: UserWarning: Solver status is 'infeasible'.\n",
      "  warn(f\"Solver status is '{status}'.\", UserWarning)\n"
     ]
    },
    {
     "name": "stdout",
     "output_type": "stream",
     "text": [
      "Stuck EX_cpd00218_e0 -0.09516222950286302 7.662914896327048 1.4564531956631193\n"
     ]
    },
    {
     "name": "stderr",
     "output_type": "stream",
     "text": [
      "/Users/chenry/opt/anaconda3/lib/python3.9/site-packages/cobra/util/solver.py:554: UserWarning: Solver status is 'infeasible'.\n",
      "  warn(f\"Solver status is '{status}'.\", UserWarning)\n"
     ]
    },
    {
     "name": "stdout",
     "output_type": "stream",
     "text": [
      "Stuck EX_cpd00035_e0 0.0 0.9947568611698517 0.1989513722339703\n"
     ]
    },
    {
     "name": "stderr",
     "output_type": "stream",
     "text": [
      "/Users/chenry/opt/anaconda3/lib/python3.9/site-packages/cobra/util/solver.py:554: UserWarning: Solver status is 'infeasible'.\n",
      "  warn(f\"Solver status is '{status}'.\", UserWarning)\n"
     ]
    },
    {
     "name": "stdout",
     "output_type": "stream",
     "text": [
      "Stuck EX_cpd00211_e0 0.0 -25.32102855495168 -5.064205710990336\n"
     ]
    },
    {
     "name": "stderr",
     "output_type": "stream",
     "text": [
      "/Users/chenry/opt/anaconda3/lib/python3.9/site-packages/cobra/util/solver.py:554: UserWarning: Solver status is 'infeasible'.\n",
      "  warn(f\"Solver status is '{status}'.\", UserWarning)\n"
     ]
    },
    {
     "name": "stdout",
     "output_type": "stream",
     "text": [
      "Stuck EX_cpd00106_e0 0.0 5.959199825419819 1.1918399650839637\n",
      "Iteration 4\n",
      "Iteration 5\n",
      "Iteration 6\n",
      "Iteration 7\n"
     ]
    },
    {
     "name": "stderr",
     "output_type": "stream",
     "text": [
      "/Users/chenry/opt/anaconda3/lib/python3.9/site-packages/cobra/util/solver.py:554: UserWarning: Solver status is 'infeasible'.\n",
      "  warn(f\"Solver status is '{status}'.\", UserWarning)\n"
     ]
    },
    {
     "name": "stdout",
     "output_type": "stream",
     "text": [
      "Stuck EX_cpd00107_e0 -2.260588780389223 1.1183905524640527 -0.2332011806772576\n"
     ]
    },
    {
     "name": "stderr",
     "output_type": "stream",
     "text": [
      "/Users/chenry/opt/anaconda3/lib/python3.9/site-packages/cobra/util/solver.py:554: UserWarning: Solver status is 'infeasible'.\n",
      "  warn(f\"Solver status is '{status}'.\", UserWarning)\n"
     ]
    },
    {
     "name": "stdout",
     "output_type": "stream",
     "text": [
      "Stuck EX_cpd00105_e0 -10.609941670585181 4.772588243819845 -1.3804237219421651\n",
      "Iteration 8\n"
     ]
    },
    {
     "name": "stderr",
     "output_type": "stream",
     "text": [
      "/Users/chenry/opt/anaconda3/lib/python3.9/site-packages/cobra/util/solver.py:554: UserWarning: Solver status is 'infeasible'.\n",
      "  warn(f\"Solver status is '{status}'.\", UserWarning)\n"
     ]
    },
    {
     "name": "stdout",
     "output_type": "stream",
     "text": [
      "Stuck EX_cpd00060_e0 -0.14131647526793326 -5.435748287794131 -3.8474187440362715\n"
     ]
    },
    {
     "name": "stderr",
     "output_type": "stream",
     "text": [
      "/Users/chenry/opt/anaconda3/lib/python3.9/site-packages/cobra/util/solver.py:554: UserWarning: Solver status is 'infeasible'.\n",
      "  warn(f\"Solver status is '{status}'.\", UserWarning)\n"
     ]
    },
    {
     "name": "stdout",
     "output_type": "stream",
     "text": [
      "Stuck EX_cpd00161_e0 0.0 -10.234236470228472 -7.163965529159931\n",
      "Iteration 9\n",
      "Iteration 10\n"
     ]
    },
    {
     "name": "stderr",
     "output_type": "stream",
     "text": [
      "/Users/chenry/opt/anaconda3/lib/python3.9/site-packages/cobra/util/solver.py:554: UserWarning: Solver status is 'infeasible'.\n",
      "  warn(f\"Solver status is '{status}'.\", UserWarning)\n"
     ]
    },
    {
     "name": "stdout",
     "output_type": "stream",
     "text": [
      "Stuck EX_cpd00121_e0 0.0 -2.0693505273833055 -1.862415474644975\n",
      "EX_cpd00084_e0 0.2791404833829396 0.2791404833829396\n",
      "EX_cpd00119_e0 -3.017275830657105 -3.017275830657105\n",
      "EX_cpd00033_e0 0.9701521381703175 0.9701521381703175\n",
      "EX_cpd01242_e0 -0.25238911010875775 -0.25238911010875775\n",
      "EX_cpd00137_e0 -0.7493113596734522 -0.7493113596734522\n",
      "EX_cpd00129_e0 -0.4868421060401726 -0.4868421060401726\n",
      "EX_cpd00158_e0 -0.2485500136794939 -0.2485500136794939\n",
      "EX_cpd01171_e0 -2.532102855495168 -2.532102855495168\n",
      "EX_cpd01107_e0 1.7597483467814312 1.7597483467814312\n",
      "EX_cpd03847_e0 1.3685083706807974 1.3685083706807974\n",
      "EX_cpd00322_e0 -1.2408171559494292 -1.2408171559494292\n",
      "EX_cpd00108_e0 0.7448997069928733 0.7448997069928733\n",
      "EX_cpd00132_e0 -0.9390873696857083 -0.9390873696857083\n",
      "EX_cpd00851_e0 0.9911053045895954 0.9911053045895954\n",
      "EX_cpd02733_e0 1.5368818532152702 1.5368818532152702\n",
      "EX_cpd00224_e0 1.9428631613069527 1.9428631613069527\n",
      "EX_cpd00130_e0 1.1154626027409815 1.1154626027409815\n",
      "EX_cpd00526_e0 -1000 1000\n",
      "EX_cpd00076_e0 -1.6174821402446988 -1.6174821402446988\n",
      "EX_cpd00107_e0 -0.2332011806772576 -0.2332011806772576\n",
      "EX_cpd00214_e0 -0.5967715420415285 -0.5967715420415285\n",
      "EX_cpd00029_e0 -5.064205710990336 -5.064205710990336\n",
      "EX_cpd00105_e0 -1.3804237219421651 -1.3804237219421651\n",
      "EX_cpd00218_e0 1.4564531956631193 1.4564531956631193\n",
      "EX_cpd00751_e0 -1000 1000\n",
      "EX_cpd00382_e0 -2.532102855495168 -2.532102855495168\n",
      "EX_cpd00060_e0 -3.8474187440362715 -3.8474187440362715\n",
      "EX_cpd00035_e0 0.1989513722339703 0.1989513722339703\n",
      "EX_cpd00396_e0 0.5629450842610613 0.5629450842610613\n",
      "EX_cpd00161_e0 -7.163965529159931 -7.163965529159931\n",
      "EX_cpd00211_e0 -5.064205710990336 -5.064205710990336\n",
      "EX_cpd03198_e0 -2.532102855495168 -2.532102855495168\n",
      "EX_cpd00064_e0 -1000 1000\n",
      "EX_cpd01055_e0 -1000 1000\n",
      "EX_cpd00106_e0 1.1918399650839637 1.1918399650839637\n",
      "EX_cpd00121_e0 -1.862415474644975 -1.862415474644975\n",
      "EX_cpd00082_e0 -1000 1000\n",
      "EX_cpd01293_e0 -0.7273400717900742 -0.7273400717900742\n",
      "EX_cpd00041_e0 -1000 1000\n",
      "EX_cpd03846_e0 0.866642787530929 0.866642787530929\n",
      "EX_cpd00122_e0 0.6507362442552092 0.6507362442552092\n",
      "EX_cpd00024_e0 -1000 1000\n",
      "EX_cpd00550_e0 -1000 1000\n",
      "EX_cpd00023_e0 -1000 1000\n",
      "EX_cpd00141_e0 -1000 1000\n",
      "EX_cpd00156_e0 -1000 1000\n",
      "EX_cpd00027_e0 0.8927726623024395 0.8927726623024395\n",
      "EX_cpd00039_e0 -1000 1000\n",
      "EX_cpd00069_e0 -1000 1000\n",
      "EX_cpd00536_e0 0.6860108329889076 0.6860108329889076\n",
      "EX_cpd00066_e0 -1000 1000\n",
      "EX_cpd00036_e0 0.10066446776110527 0.10066446776110527\n",
      "EX_cpd00020_e0 0.6715838366990532 0.6715838366990532\n"
     ]
    }
   ],
   "source": [
    "%run agoracommutil.py\n",
    "procid = 0\n",
    "metabolites = util.load(\"metabolites\")\n",
    "metabolomics_data = util.load(\"metabolomics_data\")\n",
    "feature_probabilities = util.load(\"feature_probabilities\")\n",
    "community_model_data = util.load(\"community_model_data\")\n",
    "from optlang.symbolics import Zero, add\n",
    "import cobra\n",
    "\n",
    "complete_media = util.msrecon.get_media(\"KBaseMedia/Complete\")\n",
    "\n",
    "model_list = [\"RC-ABX_-1.5\",\"RC-ABX_1.5\",\"RC-ABX_4.0\",\"RC-ABX_6.0\",\"RC-ABX_9.0\",\"RC-ABX_12.5\"]\n",
    "output = {}\n",
    "rxn_record_hash = {}\n",
    "records = [\n",
    "    {\"id\":\"max_growth\"},\n",
    "    {\"id\":\"carbon_uptake\"},\n",
    "    {\"id\":\"flux fitting objective\"},\n",
    "    {\"id\":\"minimum probability objective\"},\n",
    "]\n",
    "for modelid in model_list:\n",
    "    output[modelid] = {}\n",
    "    base_model = cobra.io.load_json_model(\"models/\"+modelid+'.json')\n",
    "    current_comm_model = MSCommunity(\n",
    "        model=base_model,\n",
    "        names=community_model_data[modelid][\"names\"]\n",
    "    )\n",
    "    #loadedmodel.solver = 'gurobi'\n",
    "    dipeptide_exchanges = [\n",
    "        \"EX_cpd11591_e0\",\n",
    "        \"EX_cpd11589_e0\",\n",
    "        \"EX_cpd15605_e0\",\n",
    "        \"EX_cpd11588_e0\",\n",
    "        \"EX_cpd11583_e0\",\n",
    "        \"EX_cpd11580_e0\",\n",
    "        \"EX_cpd11593_e0\",\n",
    "        \"EX_cpd11585_e0\",\n",
    "        \"EX_cpd11586_e0\",\n",
    "        \"EX_cpd15604_e0\",\n",
    "        \"EX_cpd11581_e0\",\n",
    "        \"EX_cpd01017_e0\",\n",
    "        \"EX_cpd11590_e0\",\n",
    "        \"EX_cpd11592_e0\",\n",
    "        \"EX_cpd11584_e0\",\n",
    "        \"EX_cpd00731_e0\",\n",
    "        \"EX_cpd15603_e0\",\n",
    "        \"EX_cpd11587_e0\",\n",
    "        \"EX_cpd11582_e0\",\n",
    "        \"EX_cpd15606_e0\",\n",
    "        \"EX_cpd03424_e0\",\n",
    "        \"EX_cpd00423_e0\",\n",
    "        \"EX_cpd00080_e0\",\n",
    "        \"EX_cpd02233_e0\",\n",
    "        \"EX_cpd00355_e0\",\n",
    "        \"EX_cpd00235_e0\",\n",
    "        \"EX_cpd00079_e0\",\n",
    "        \"EX_cpd01912_e0\"\n",
    "    ]\n",
    "    reaction_probabilities = {}\n",
    "    for rxn in base_model.reactions:\n",
    "        highest_prob = None\n",
    "        for gene in rxn.genes:\n",
    "            if gene.id in feature_probabilities:\n",
    "                if highest_prob == None or feature_probabilities[gene.id] > highest_prob:\n",
    "                    highest_prob = feature_probabilities[gene.id]\n",
    "        if highest_prob != None:\n",
    "            rxn.probability = highest_prob\n",
    "            reaction_probabilities[rxn.id] = highest_prob\n",
    "        elif rxn.id[0:3] != \"bio\" and rxn.id[0:3] != \"EX_\" and rxn.id[0:3] != \"DM_\" and len(rxn.genes) == 0:\n",
    "            reaction_probabilities[rxn.id] = 0\n",
    "        else:\n",
    "            reaction_probabilities[rxn.id] = 0.05\n",
    "    min_prob = 0.05\n",
    "    prob_exp = 1\n",
    "    ex_weight = 1\n",
    "    kinetics_coef = 750\n",
    "    mdlutl = current_comm_model.mdlutl\n",
    "    pkgmgr = MSPackageManager.get_pkg_mgr(mdlutl)\n",
    "    #Setting media\n",
    "    pkgmgr.getpkg(\"KBaseMediaPkg\").build_package(complete_media)\n",
    "    #Adding commkinetic constraints\n",
    "    pkgmgr.getpkg(\"CommKineticPkg\").build_package(kinetics_coef, current_comm_model)\n",
    "    #Adding elemental uptake constraints\n",
    "    pkgmgr.getpkg(\"ElementUptakePkg\").build_package({\"C\": 300})\n",
    "    for rxn in base_model.reactions:\n",
    "        if \"EX_\" == rxn.id[0:3]:\n",
    "            currrxn = current_comm_model.model.reactions.get_by_id(rxn.id)\n",
    "            if rxn.id in dipeptide_exchanges:\n",
    "                currrxn.lower_bound = 0\n",
    "                currrxn.upper_bound = 0\n",
    "            else:\n",
    "                if currrxn.lower_bound < 0:\n",
    "                    currrxn.lower_bound = -1000\n",
    "                if currrxn.upper_bound > 0:\n",
    "                    currrxn.upper_bound = 1000\n",
    "    currrxn = current_comm_model.model.reactions.get_by_id(\"EX_cpd00007_e0\")\n",
    "    currrxn.lower_bound = -20\n",
    "    #Maximize biomass production\n",
    "    mdlutl.model.objective = mdlutl.model.problem.Objective(Zero, direction=\"max\")\n",
    "    mdlutl.model.objective.set_linear_coefficients({mdlutl.model.reactions.bio1.forward_variable: 1})\n",
    "    first_solution = mdlutl.model.optimize()\n",
    "    output[modelid][\"max_growth\"] = first_solution.objective_value\n",
    "    output[modelid][\"carbon_uptake\"] = pkgmgr.getpkg(\"ElementUptakePkg\").variables[\"elements\"][\"C\"].primal\n",
    "    records[0][modelid] = output[modelid][\"max_growth\"]\n",
    "    records[1][modelid] = output[modelid][\"carbon_uptake\"]\n",
    "    print(modelid+\" growth:\", output[modelid][\"max_growth\"])\n",
    "    print(modelid+\"carbon uptake:\",output[modelid][\"carbon_uptake\"])\n",
    "    \n",
    "    with open(util.output_dir+\"/\"+modelid+\"-growth.lp\", \"w\") as out:\n",
    "        out.write(str(mdlutl.model.solver))\n",
    "\n",
    "    if str(output[modelid][\"max_growth\"]) == \"nan\":\n",
    "        print(\"Skipping condition due to infeasibility\", modelid)\n",
    "        continue\n",
    "    #Constraining to 70% of community biomass\n",
    "    pkgmgr.getpkg(\"ObjConstPkg\").build_package(output[modelid][\"max_growth\"] * 0.5, None)\n",
    "    #Creating minimal probability objective\n",
    "    coef = {}\n",
    "    flux_fitting_target = {}\n",
    "    for rxn in base_model.reactions:\n",
    "        if \"rxn\" == rxn.id[0:3]:\n",
    "            probability = reaction_probabilities[rxn.id]\n",
    "            currrxn = mdlutl.model.reactions.get_by_id(rxn.id)\n",
    "            coef.update(\n",
    "                {\n",
    "                    currrxn.forward_variable: max(\n",
    "                        min_prob, (1 - float(probability) ** prob_exp)\n",
    "                    )\n",
    "                }\n",
    "            )\n",
    "            coef.update(\n",
    "                {\n",
    "                    currrxn.reverse_variable: max(\n",
    "                        min_prob, (1 - float(probability) ** prob_exp)\n",
    "                    )\n",
    "                }\n",
    "            )\n",
    "        elif \"EX_\" == rxn.id[0:3]:\n",
    "            currrxn = mdlutl.model.reactions.get_by_id(rxn.id)\n",
    "            if rxn.id[3:11] in metabolomics_data:\n",
    "                flux_fitting_target[rxn.id] = -1*output[modelid][\"max_growth\"]*metabolomics_data[rxn.id[3:11]][modelid]\n",
    "            coef.update({currrxn.forward_variable: ex_weight})\n",
    "            coef.update({currrxn.reverse_variable: ex_weight})\n",
    "\n",
    "    #Solving the LP\n",
    "    #pkgmgr.getpkg(\"FluxFittingPkg\").build_package({\n",
    "    #    \"target_flux\": flux_fitting_target,\n",
    "    #    \"totalflux\": 0,\n",
    "    #    \"set_objective\": 1,\n",
    "    #    \"default_rescaling\": 0.1,\n",
    "    #    \"rescale_vfit_by_flux\": True\n",
    "    #})\n",
    "    stuck_reactions = {}\n",
    "    for iteration in range(1,11,1):\n",
    "        print(\"Iteration\",iteration)\n",
    "        for rxn in flux_fitting_target:\n",
    "            if rxn in stuck_reactions:\n",
    "                continue\n",
    "            currrxn = mdlutl.model.reactions.get_by_id(rxn)\n",
    "            starting_point = first_solution.fluxes[rxn]\n",
    "            distance = abs(flux_fitting_target[rxn] - starting_point)\n",
    "            original_upper = currrxn.upper_bound\n",
    "            original_lower = currrxn.lower_bound\n",
    "            if starting_point > flux_fitting_target[rxn]:\n",
    "                if starting_point-iteration*distance/10 < currrxn.upper_bound:\n",
    "                    currrxn.lower_bound = starting_point-iteration*distance/10\n",
    "                    currrxn.upper_bound = starting_point-iteration*distance/10\n",
    "                else:\n",
    "                    currrxn.upper_bound = starting_point-iteration*distance/10\n",
    "                    currrxn.lower_bound = starting_point-iteration*distance/10\n",
    "            else:\n",
    "                if flux_fitting_target[rxn]-(10-iteration)*distance/10 < currrxn.upper_bound:\n",
    "                    currrxn.lower_bound = flux_fitting_target[rxn]-(10-iteration)*distance/10\n",
    "                    currrxn.upper_bound = flux_fitting_target[rxn]-(10-iteration)*distance/10\n",
    "                else:\n",
    "                    currrxn.upper_bound = flux_fitting_target[rxn]-(10-iteration)*distance/10\n",
    "                    currrxn.lower_bound = flux_fitting_target[rxn]-(10-iteration)*distance/10\n",
    "            solution = mdlutl.model.optimize()\n",
    "            if solution.status != \"optimal\":\n",
    "                print(\"Stuck\",rxn,starting_point,flux_fitting_target[rxn],original_upper)\n",
    "                stuck_reactions[rxn] = 1\n",
    "                if original_upper >= currrxn.lower_bound:\n",
    "                    currrxn.upper_bound = original_upper\n",
    "                    currrxn.lower_bound = original_lower\n",
    "                else:\n",
    "                    currrxn.lower_bound = original_lower\n",
    "                    currrxn.upper_bound = original_upper\n",
    "    for rxn in flux_fitting_target:\n",
    "        currrxn = mdlutl.model.reactions.get_by_id(rxn)\n",
    "        print(currrxn.id,currrxn.lower_bound,currrxn.upper_bound)\n",
    "    #solution = mdlutl.model.optimize()\n",
    "    #output[modelid][\"flux fitting objective\"] = solution.objective_value\n",
    "    \n",
    "    #with open(util.output_dir+\"/\"+modelid+\"-fitting.lp\", \"w\") as out:\n",
    "    #    out.write(str(mdlutl.model.solver))\n",
    "\n",
    "    #records[2][modelid] = output[modelid][\"flux fitting objective\"]\n",
    "    #for rxn in flux_fitting_target:\n",
    "    #    currrxn = current_comm_model.model.reactions.get_by_id(rxn)\n",
    "    #    if solution.fluxes[rxn] > 0:\n",
    "    #        currrxn.upper_bound = solution.fluxes[rxn]\n",
    "    #        currrxn.lower_bound = solution.fluxes[rxn]\n",
    "    #    elif solution.fluxes[rxn] < 0:\n",
    "    #        currrxn.lower_bound = solution.fluxes[rxn]\n",
    "    #        currrxn.upper_bound = solution.fluxes[rxn]\n",
    "    #Setting probability minimization objective\n",
    "    mdlutl.model.objective = mdlutl.model.problem.Objective(Zero, direction=\"min\")\n",
    "    mdlutl.model.objective.set_linear_coefficients(coef)\n",
    "    solution = mdlutl.model.optimize()\n",
    "    if solution.status != \"optimal\":\n",
    "        while solution.status != \"optimal\":\n",
    "            print(\"Infeasible: reducing objective constraint\",0.9*mdlutl.pkgmgr.getpkg(\"ObjConstPkg\").constraints[\"objc\"][\"1\"].lb)\n",
    "            mdlutl.pkgmgr.getpkg(\"ObjConstPkg\").constraints[\"objc\"][\"1\"].lb = 0.9*mdlutl.pkgmgr.getpkg(\"ObjConstPkg\").constraints[\"objc\"][\"1\"].lb\n",
    "            solution = mdlutl.model.optimize()\n",
    "    output[modelid][\"minimum probability objective\"] = solution.objective_value\n",
    "    \n",
    "    with open(util.output_dir+\"/\"+modelid+\"-final.lp\", \"w\") as out:\n",
    "        out.write(str(mdlutl.model.solver))\n",
    "\n",
    "    records[3][modelid] = output[modelid][\"minimum probability objective\"]\n",
    "    output[modelid][\"solution\"] = {}\n",
    "    for rxn in mdlutl.model.reactions:\n",
    "        if rxn.id not in rxn_record_hash:\n",
    "            rxn_record_hash[rxn.id] = {\n",
    "                \"id\":rxn.id,\n",
    "            }\n",
    "            for item in model_list:\n",
    "                rxn_record_hash[rxn.id][item] = None\n",
    "            records.append(rxn_record_hash[rxn.id])\n",
    "        rxn_record_hash[rxn.id][modelid] = solution.fluxes[rxn.id]\n",
    "        output[modelid][\"solution\"][rxn.id] = solution.fluxes[rxn.id]\n",
    "    util.save(\"CommunityFluxSolution2\", output)\n",
    "    df = DataFrame.from_records(records)\n",
    "    df.to_csv(util.output_dir+\"/CommunityFluxSolution2.csv\")"
   ]
  },
  {
   "cell_type": "markdown",
   "metadata": {},
   "source": [
    "# Printing ASV results for analysis"
   ]
  },
  {
   "cell_type": "code",
   "execution_count": 9,
   "metadata": {},
   "outputs": [
    {
     "name": "stdout",
     "output_type": "stream",
     "text": [
      "Output files printed to:/Users/chenry/code/notebooks/MicrobiomeNotebooks/NewWesternDiet/nboutput when using KBDevUtils.output_dir\n",
      "ModelSEED: /Users/chenry/code//kb_sdk/run_local/workdir/tmp/\n"
     ]
    }
   ],
   "source": [
    "%run agoracommutil.py\n",
    "community_model_data = util.load(\"community_model_data\")\n",
    "CommunityFluxSolution = util.load(\"CommunityFluxSolution2\")\n",
    "sample_asvset_abundances = util.load(\"sample_asvset_abundances\")\n",
    "sample_abundanes = util.load(\"sample_abundanes\")\n",
    "metabolomics_data = util.load(\"metabolomics_data\")\n",
    "asvset_names = util.load(\"asvset_names\")\n",
    "metabolites = util.load(\"metabolites\")\n",
    "metabolite_names = util.load(\"metabolite_names\")\n",
    "\n",
    "sample_pairs = {\n",
    "    \"RC-ABX_-1.5\" : [\"RC-ABX_-3\",\"RC-ABX_0\"],\n",
    "    \"RC-ABX_1.5\" : [\"RC-ABX_0\",\"RC-ABX_3\"],\n",
    "    \"RC-ABX_4.0\" : [\"RC-ABX_3\",\"RC-ABX_5\"],\n",
    "    \"RC-ABX_6.0\" : [\"RC-ABX_5\",\"RC-ABX_7\"],\n",
    "    \"RC-ABX_9.0\" : [\"RC-ABX_8\",\"RC-ABX_11\"],\n",
    "    \"RC-ABX_12.5\" : [\"RC-ABX_11\", \"RC-ABX_13\"]\n",
    "}\n",
    "\n",
    "asvnames_asvset = {}\n",
    "for asvset in asvset_names:\n",
    "    asvnames_asvset[asvset_names[asvset]] = asvset\n",
    "\n",
    "sample_interval_exchanges = {}#[Sample interval][metabolite] = Flux\n",
    "asv_sampleinterval_flux_profiles = {}#[ASV][Sample][Reaction] = Flux\n",
    "asv_sample_flux_profiles = {}#[ASV][Sample][Reaction] = Flux\n",
    "rxn_data_hash = {}\n",
    "asv_biomass = {}\n",
    "asv_rescaled_biomass = {}\n",
    "biomasses = {}\n",
    "for modelid in CommunityFluxSolution:\n",
    "    sample_interval_exchanges[modelid] = {}\n",
    "    asv_sample_flux_profiles[modelid] = {}\n",
    "    base_model = cobra.io.load_json_model(\"models/\"+modelid+'.json')\n",
    "    for rxnobj in base_model.reactions:\n",
    "        if rxnobj.id[0:3] == \"rxn\": \n",
    "            (baseid,compartment) = rxnobj.id.split(\"_\")\n",
    "            if baseid not in rxn_data_hash:\n",
    "                rxn_data_hash[baseid] = {\n",
    "                    \"id\":baseid,\n",
    "                    \"equation\":str(rxnobj),\n",
    "                    \"name\":rxnobj.name,\n",
    "                    \"obj\":rxnobj\n",
    "                } \n",
    "    solution = CommunityFluxSolution[modelid][\"solution\"]\n",
    "    biomasses[modelid] = solution[\"bio1\"]\n",
    "    asv_biomass[modelid] = {}\n",
    "    asv_rescaled_biomass[modelid] = {}\n",
    "    for asvname in community_model_data[modelid][\"abundances\"]:\n",
    "        asv_biomass[modelid][asvname] = community_model_data[modelid][\"abundances\"][asvname]*biomasses[modelid]\n",
    "        asvset = asvnames_asvset[asvname]\n",
    "        for sample in sample_pairs[modelid]:\n",
    "            if asvset in sample_asvset_abundances[sample]:\n",
    "                asv_rescaled_biomass[modelid][asvname] = community_model_data[modelid][\"abundances\"][asvname]*sample_asvset_abundances[sample][asvset]\n",
    "            else:\n",
    "                asv_rescaled_biomass[modelid][asvname] = 0\n",
    "    for rxn in solution:\n",
    "        if rxn[0:3] == \"EX_\":\n",
    "            sample_interval_exchanges[modelid][rxn[3:11]] = solution[rxn]\n",
    "        elif rxn[0:3] == \"rxn\":\n",
    "            (baseid,compartment) = rxn.split(\"_\")\n",
    "            if compartment[0:1] == \"c\":\n",
    "                index = int(rxn.split(\"_\")[1][1:])\n",
    "                asvname = community_model_data[modelid][\"names\"][index-1]\n",
    "                asvset = asvnames_asvset[asvname]\n",
    "                if asvname not in asv_sampleinterval_flux_profiles:\n",
    "                    asv_sampleinterval_flux_profiles[asvname] = {}\n",
    "                if modelid not in asv_sampleinterval_flux_profiles[asvname]:\n",
    "                    asv_sampleinterval_flux_profiles[asvname][modelid] = {}\n",
    "                if asvname not in asv_sample_flux_profiles:\n",
    "                    asv_sample_flux_profiles[asvname] = {}\n",
    "                for sample in sample_pairs[modelid]:\n",
    "                    if sample not in asv_sample_flux_profiles[asvname]:\n",
    "                        asv_sample_flux_profiles[asvname][sample] = {}\n",
    "                    if asvset in sample_asvset_abundances[sample]:\n",
    "                        asv_sample_flux_profiles[asvname][sample][baseid] = solution[rxn]/community_model_data[modelid][\"abundances\"][asvname]*sample_asvset_abundances[sample][asvset]\n",
    "                    else:\n",
    "                        asv_sample_flux_profiles[asvname][sample][baseid] = 0\n",
    "                asv_sampleinterval_flux_profiles[asvname][modelid][baseid] = solution[rxn]\n",
    "\n",
    "#Computing metabolite interactions and printing dataframe of scaled ASV flux profiles per sample inteval\n",
    "record_hash = {}\n",
    "records = []\n",
    "asv_metabolite_interactions = {}\n",
    "for asvname in asv_sampleinterval_flux_profiles:\n",
    "    asv_metabolite_interactions[asvname] = {}\n",
    "    for modelid in asv_sampleinterval_flux_profiles[asvname]:\n",
    "        asv_metabolite_interactions[asvname][modelid] = {}\n",
    "        for rxn in asv_sampleinterval_flux_profiles[asvname][modelid]:\n",
    "            if rxn not in record_hash:\n",
    "                record_hash[rxn] = {\n",
    "                    \"id\":rxn,\n",
    "                    \"equation\":rxn_data_hash[rxn][\"equation\"],\n",
    "                    \"name\":rxn_data_hash[rxn][\"name\"]\n",
    "                }\n",
    "                records.append(record_hash[rxn])\n",
    "            for met in rxn_data_hash[rxn][\"obj\"].metabolites:\n",
    "                if met.id.split(\"_\")[1] == \"e0\" and met.id.split(\"_\")[0] in metabolites:\n",
    "                    if met.id not in asv_metabolite_interactions[asvname][modelid]:\n",
    "                        asv_metabolite_interactions[asvname][modelid][met.id.split(\"_\")[0]] = 0\n",
    "                    if rxn_data_hash[rxn][\"obj\"].metabolites[met] < 0:\n",
    "                        #This transport is a consumption reaction; consumption should be negative\n",
    "                        asv_metabolite_interactions[asvname][modelid][met.id.split(\"_\")[0]] += -1*asv_sampleinterval_flux_profiles[asvname][modelid][rxn]\n",
    "                    else:\n",
    "                        #This transport is a excretion reaction; excretion should be positive\n",
    "                        asv_metabolite_interactions[asvname][modelid][met.id.split(\"_\")[0]] += asv_sampleinterval_flux_profiles[asvname][modelid][rxn]       \n",
    "            record_hash[rxn][asvname+\"_\"+modelid] = asv_sampleinterval_flux_profiles[asvname][modelid][rxn]/asv_biomass[modelid][asvname] \n",
    "df = pd.DataFrame.from_records(records)\n",
    "df.to_csv(util.output_dir+\"/ASVFluxes.csv\",index=False)\n",
    "\n",
    "#Printing ASV metabolite interation matrix\n",
    "record_hash = {}\n",
    "records = []\n",
    "for asvname in asv_metabolite_interactions:\n",
    "    new_record = {\"ASV\":asvname}\n",
    "    for modelid in asv_metabolite_interactions[asvname]:\n",
    "        for met in asv_metabolite_interactions[asvname][modelid]:\n",
    "            new_record[met+\"_\"+modelid] = asv_metabolite_interactions[asvname][modelid][met]\n",
    "    for met in metabolites:\n",
    "        total = 0\n",
    "        count = 0\n",
    "        for modelid in asv_metabolite_interactions[asvname]:\n",
    "            if met in asv_metabolite_interactions[asvname][modelid]:\n",
    "                total += asv_metabolite_interactions[asvname][modelid][met]\n",
    "                count += 1\n",
    "        if count > 0:\n",
    "            new_record[met+\"_ave\"] = total/count\n",
    "    records.append(new_record)\n",
    "df = pd.DataFrame.from_records(records)\n",
    "df.to_csv(util.output_dir+\"/ASVMetaboliteInteractions.csv\",index=False)\n",
    "\n",
    "#Printing dataframe of Sample metabolite interactions per interval and per sample\n",
    "record_hash = {}\n",
    "records = [{\"Interval\":\"Name\"}]\n",
    "for met in metabolites:\n",
    "    records[0][met] = metabolite_names[met]\n",
    "for modelid in sample_interval_exchanges:\n",
    "    new_record = {\"Interval\":modelid}\n",
    "    for metabolite in sample_interval_exchanges[modelid]:\n",
    "        new_record[metabolite] = sample_interval_exchanges[modelid][metabolite]\n",
    "    records.append(new_record)\n",
    "df = pd.DataFrame.from_records(records)\n",
    "df.to_csv(util.output_dir+\"/SampleIntervalMetaboliteInterations.csv\",index=False)"
   ]
  },
  {
   "cell_type": "markdown",
   "metadata": {},
   "source": [
    "# Printing Sample results from analysis"
   ]
  },
  {
   "cell_type": "markdown",
   "metadata": {},
   "source": []
  },
  {
   "cell_type": "code",
   "execution_count": null,
   "metadata": {},
   "outputs": [],
   "source": []
  }
 ],
 "metadata": {
  "kernelspec": {
   "display_name": "venv_microbiome",
   "language": "python",
   "name": "venv_microbiome"
  },
  "language_info": {
   "codemirror_mode": {
    "name": "ipython",
    "version": 3
   },
   "file_extension": ".py",
   "mimetype": "text/x-python",
   "name": "python",
   "nbconvert_exporter": "python",
   "pygments_lexer": "ipython3",
   "version": "3.9.6"
  }
 },
 "nbformat": 4,
 "nbformat_minor": 4
}
